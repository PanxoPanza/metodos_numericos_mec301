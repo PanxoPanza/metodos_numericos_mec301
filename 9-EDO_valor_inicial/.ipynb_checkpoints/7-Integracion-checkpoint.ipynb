{
 "cells": [
  {
   "cell_type": "markdown",
   "id": "6d47d103",
   "metadata": {
    "cell_style": "center",
    "slideshow": {
     "slide_type": "slide"
    }
   },
   "source": [
    "<font size=\"6\">MEC301 - Métodos Numéricos</font>\n",
    "# Integración numérica\n",
    "<br><br><br><br>\n",
    "Profesor: Francisco Ramírez Cuevas<br>\n",
    "Fecha: 26 de Septiembre 2022"
   ]
  },
  {
   "cell_type": "markdown",
   "id": "07ce8d9e",
   "metadata": {
    "slideshow": {
     "slide_type": "slide"
    }
   },
   "source": [
    "## Introducción\n",
    "El cálculo de integrales es fundamental en todos los problemas de ingeniería. Muchos ejemplos tienen relación directa con la estimación de áreas: (a) La superficie de un campo limitado por dos carreteras y un rio, (b) El área transversal de un canal, (c) La fuerza de arrastre sobre un edificio ocacionada por el viento.\n",
    "\n",
    "<img src=\"./images/integration_examples.png\" width=\"600px\" align= center>"
   ]
  },
  {
   "cell_type": "markdown",
   "id": "dfea607b",
   "metadata": {
    "slideshow": {
     "slide_type": "fragment"
    }
   },
   "source": [
    "En este capítulo revisaremos dos métodos de integración (1) Formulas de Newton-Cotes para datos tabulados de una función desconocida (2) Integrales para funciones conocidas"
   ]
  },
  {
   "cell_type": "markdown",
   "id": "5017e4f3",
   "metadata": {
    "slideshow": {
     "slide_type": "slide"
    }
   },
   "source": [
    "## Integración mediante datos tabulados (Fórmulas de Newton-Cotes)\n",
    "Queremos aproximar la integral de una función $f(x)$ en el intervalo $x\\in[a,b]$. \n",
    "\n",
    "\\begin{equation*}\n",
    "\\int_a^b f(x) dx\n",
    "\\end{equation*}\n",
    "\n",
    "Sin embargo, en este caso, la función es desconocida y solamente contamos con datos tabulados $x_i$, y $f(x_i)$"
   ]
  },
  {
   "cell_type": "markdown",
   "id": "7510695b",
   "metadata": {
    "slideshow": {
     "slide_type": "fragment"
    }
   },
   "source": [
    "Asumamos:\n",
    "- Intervalo discretizado por $n+1$ puntos $\\{x_0, x_1, ... x_i, ...., x_n\\}$, con $x_0 = a$ y $x_n = b$\n",
    "- Subintervalo entre dos puntos $x_{i+1}$ y  $x_i$definido por $h_i =x_{i+1} - x_{i}$.\n",
    "- Valores $\\{f(x_0), f(x_1), ... f(x_i), ...., f(x_n)\\}$, conocidos."
   ]
  },
  {
   "cell_type": "markdown",
   "id": "815c34fe",
   "metadata": {
    "slideshow": {
     "slide_type": "slide"
    }
   },
   "source": [
    "Las fórmulas de Newton-Cotes se basan en la aproximación de una función $f(x)$ mediante polinomios generados a partir de los datos tabulados $x_i$ y $f(x_i)$\n",
    "\n",
    "<img src=\"./images/Newton_cotes.png\" width=\"600px\" align= center>"
   ]
  },
  {
   "cell_type": "markdown",
   "id": "24c729b3",
   "metadata": {
    "slideshow": {
     "slide_type": "slide"
    }
   },
   "source": [
    "### Integral de Riemman"
   ]
  },
  {
   "cell_type": "markdown",
   "id": "fc91b538",
   "metadata": {
    "slideshow": {
     "slide_type": "fragment"
    }
   },
   "source": [
    "El caso más sencillo consiste en aproximar $f(x)$ en el subintervalo $x\\in[x_{i+1}, x_i]$ mediante un polinomio de grado 0. La elección más lógica sería $f(x) \\approx f(x_i)$ o $f(x) \\approx f(x_{i+1})$, ya que estos puntos son conocidos por la tabulación. \n"
   ]
  },
  {
   "cell_type": "markdown",
   "id": "497e3f14",
   "metadata": {
    "cell_style": "split",
    "slideshow": {
     "slide_type": "fragment"
    }
   },
   "source": [
    "Matemáticamente:\n",
    "\n",
    "\\begin{equation*}\n",
    "\\int_a^b f(x) dx \\approx \\sum_{i = 0}^{n-1} h_if(x_i)\\quad\\mathrm{o}\\quad\\approx\\sum_{i = 1}^{n} h_if(x_i),\n",
    "\\end{equation*}\n",
    "\n",
    "dependiento de si tomamos el valor de la izquierda o derecha del tramo, respectivamente."
   ]
  },
  {
   "cell_type": "markdown",
   "id": "c2efc85a",
   "metadata": {
    "cell_style": "split",
    "slideshow": {
     "slide_type": "fragment"
    }
   },
   "source": [
    "En otras palabras, aproximamos el área bajo cada subintervalo mediante un rectángulo. \n",
    "\n",
    "<img src=\"./images/riemann_integral.png\" width=\"400px\" align= center>"
   ]
  },
  {
   "cell_type": "markdown",
   "id": "3f7001e9",
   "metadata": {
    "slideshow": {
     "slide_type": "slide"
    }
   },
   "source": [
    "Mediante series de Taylor podemos caracterizar el error de esta aproximación. Por simplicidad, consideramos un set de $n+1$ puntos igualmente espaciados con $h_i = h = \\frac{b-a}{n}$. "
   ]
  },
  {
   "cell_type": "markdown",
   "id": "92037d5d",
   "metadata": {
    "slideshow": {
     "slide_type": "fragment"
    }
   },
   "source": [
    "Considerando la integral en subintervalos de ancho $h$, podemos expresar la integral como:\n",
    "\n",
    "\\begin{equation*}\n",
    "\\int_a^b f(x) dx = \\sum_{i = 0}^{n-1} \\int_{x_i}^{x_{i+1}} f(x) dx,\n",
    "\\end{equation*}"
   ]
  },
  {
   "cell_type": "markdown",
   "id": "b8299986",
   "metadata": {
    "slideshow": {
     "slide_type": "fragment"
    }
   },
   "source": [
    "Luego, para cada subintervalo $x\\in[x_{i+1}, x_i]$, consideremos la expanción de Taylor de $f(x)$  centrada en $x_i$:\n",
    "\n",
    "\\begin{equation*}\n",
    "f(x) = f(x_i) + f^{\\prime}(x_i)(x-x_i) + \\cdots,\n",
    "\\end{equation*}"
   ]
  },
  {
   "cell_type": "markdown",
   "id": "717f2b89",
   "metadata": {
    "slideshow": {
     "slide_type": "slide"
    }
   },
   "source": [
    "Reemplazando en cada integral del subintervalo $x\\in[x_{i+1}, x_i]$, tenemos:\n",
    "\n",
    "\\begin{align*}\n",
    "\\int_{x_i}^{x_{i+1}}f(x) &= hf(x_i) + \\frac{h^2}{2}f^{\\prime}(x_i) + O(h^3) \\\\\n",
    "&= hf(x_i) + O(h^2)\n",
    "\\end{align*}"
   ]
  },
  {
   "cell_type": "markdown",
   "id": "27ae2f14",
   "metadata": {
    "slideshow": {
     "slide_type": "fragment"
    }
   },
   "source": [
    "Reemplazando en la integral para el intervalo $x\\in[a,b]$, tenemos que el error de truncamiento es $nO(h^2)$. "
   ]
  },
  {
   "cell_type": "markdown",
   "id": "9b9a578e",
   "metadata": {
    "slideshow": {
     "slide_type": "fragment"
    }
   },
   "source": [
    "Finalmente, mediante la relación $h = \\frac{b - a}{n}$, deducimos que la aproximación de Riemmann induce un error de truncamiento:\n",
    "\\begin{equation*}\n",
    "\\int_a^b f(x) dx = \\sum_{i = 0}^{n-1} hf(x_i) + O(h),\n",
    "\\end{equation*}"
   ]
  },
  {
   "cell_type": "markdown",
   "id": "1e2164a3",
   "metadata": {
    "slideshow": {
     "slide_type": "slide"
    }
   },
   "source": [
    "### Regla del trapecio (```scipy.integrate.trapezoid```)\n",
    "Podemos mejorar la aproximación mediante una expansión de segundo orden, $f(x) = f(x_i) + f^{\\prime}(x_i)(x-x_i)$, donde la derivada es aproximada por $f^{\\prime}(x_i) = \\frac{f(x_{i+1}) - f(x_i)}{x_{i+1} - x_i} + O(h_i)$."
   ]
  },
  {
   "cell_type": "markdown",
   "id": "190cd135",
   "metadata": {
    "slideshow": {
     "slide_type": "fragment"
    }
   },
   "source": [
    "Reemplazando en la integral del subintervalo $x\\in [x_i, x_{i+1}]$, obtenemos la **regla del trapecio**\n",
    "\n",
    "\\begin{align}\n",
    "\\int_{x_i}^{x_{i+1}}f(x) &= h_if(x_i) + \\frac{h_i^2}{2}f^{\\prime}(x_i) + O(h^3)\\nonumber \\\\\n",
    "&= h_i\\left[\\frac{f(x_{i+1}) + f(x_i)}{2}\\right] + O(h_i^3).\n",
    "\\end{align}"
   ]
  },
  {
   "cell_type": "markdown",
   "id": "03d3eb92",
   "metadata": {
    "slideshow": {
     "slide_type": "slide"
    }
   },
   "source": [
    "Considerando un set de $n+1$ puntos igualmente espaciados en el intervalo $x\\in[a,b]$, la **regla del trapecio *extendida o compuesta*** es:\n",
    "\n",
    "\\begin{equation}\n",
    "\\int_a^b f(x) dx = \\sum_{i = 0}^{n-1} h\\left[\\frac{f(x_{i+1}) + f(x_i)}{2}\\right] + O(h^2),\n",
    "\\end{equation}\n",
    "donde $h = \\frac{b -a}{n}$"
   ]
  },
  {
   "cell_type": "markdown",
   "id": "615b6971",
   "metadata": {
    "slideshow": {
     "slide_type": "-"
    }
   },
   "source": [
    "<img src=\"./images/trapezoid_rule.png\" width=\"400px\" align= center>"
   ]
  },
  {
   "cell_type": "markdown",
   "id": "0bcd4c33",
   "metadata": {
    "slideshow": {
     "slide_type": "slide"
    }
   },
   "source": [
    "En ```python``` tenemos la función ```trapezoid``` de la librería ```scipy.integrate```. La función también puede ser llamada como ```trapz``` (alias)."
   ]
  },
  {
   "cell_type": "markdown",
   "id": "dc65795d",
   "metadata": {
    "slideshow": {
     "slide_type": "fragment"
    }
   },
   "source": [
    "Para utilizar la función debemos indicar los valores de $f(x_i)$ (variable ```yi```) en el primer argumento de la función y los $x_i$ (variable ```xi```) en el segundo:\n",
    "```python\n",
    "from scipy.integrate import trapezoid\n",
    "trapz_int = trapezoid(yi,xi)  # Integral de f(x) mediante regla del trapecio\n",
    "\n",
    "```"
   ]
  },
  {
   "cell_type": "markdown",
   "id": "f41328be",
   "metadata": {
    "slideshow": {
     "slide_type": "fragment"
    }
   },
   "source": [
    "**NOTA** ```scipy.intergrate.trapezoid``` no requiere que los valores de ```xi``` esten igualmente espaciados. Sin embargo, para mejor control del error, es recomendable mantener subintervalos de igual tamaño ($h_i$ constante)."
   ]
  },
  {
   "cell_type": "markdown",
   "id": "9b936d33",
   "metadata": {
    "slideshow": {
     "slide_type": "fragment"
    }
   },
   "source": [
    "Más información en la [documentación oficial](https://docs.scipy.org/doc/scipy/reference/generated/scipy.integrate.trapezoid.html#scipy.integrate.trapezoid)"
   ]
  },
  {
   "cell_type": "markdown",
   "id": "90ddcb53",
   "metadata": {
    "cell_style": "center",
    "slideshow": {
     "slide_type": "slide"
    }
   },
   "source": [
    "Por ejemplo, consideremos la integral:\n",
    "\n",
    "\\begin{equation*}\n",
    "\\int_0^\\pi \\sin(x) dx = 2,\n",
    "\\end{equation*}\n",
    "\n",
    "considerando un arreglo de puntos igualmente espaciados con $h = \\pi/10$:"
   ]
  },
  {
   "cell_type": "code",
   "execution_count": 1,
   "id": "5d9916f8",
   "metadata": {
    "cell_style": "center",
    "slideshow": {
     "slide_type": "fragment"
    }
   },
   "outputs": [
    {
     "name": "stderr",
     "output_type": "stream",
     "text": [
      "/home/fvr/miniconda3/lib/python3.9/site-packages/scipy/__init__.py:146: UserWarning: A NumPy version >=1.16.5 and <1.23.0 is required for this version of SciPy (detected version 1.23.1\n",
      "  warnings.warn(f\"A NumPy version >={np_minversion} and <{np_maxversion}\"\n"
     ]
    },
    {
     "name": "stdout",
     "output_type": "stream",
     "text": [
      "Regla trapecio: 1.935\n",
      "Error absoluto 6.502e-02\n"
     ]
    }
   ],
   "source": [
    "import numpy as np\n",
    "import scipy.integrate as spint\n",
    "\n",
    "a, b = 0, np.pi                            # intervalo de integración\n",
    "h = (b-a)/10                               # tamaño de subintervalo\n",
    "xi = np.arange(a,b,h)                      # set de puntos xi\n",
    "int_trpz = spint.trapezoid(np.sin(xi), xi) # Regla del trapecio\n",
    "\n",
    "print('Regla trapecio: %.3f' % int_trpz)\n",
    "print('Error absoluto %.3e' % abs(2 - int_trpz))"
   ]
  },
  {
   "cell_type": "markdown",
   "id": "312c290b",
   "metadata": {
    "cell_style": "center",
    "slideshow": {
     "slide_type": "fragment"
    }
   },
   "source": [
    "El error es menor que $h^2 \\approx 9.870\\times 10^{-2}$"
   ]
  },
  {
   "cell_type": "markdown",
   "id": "04f311b7",
   "metadata": {
    "slideshow": {
     "slide_type": "slide"
    }
   },
   "source": [
    "### Regla de Simpson 1/3 (```scipy.integrate.simpson```)\n",
    "En términos genrales, lo que hicimos en la regla del trapecio y Riemann es aproximar $f(x)$ por un polinomio y luego integrarlo en cada subintervalo $x\\in [x_i, x_{i+1}]$. El error de truncamiento disminuye a medida que aumentamos el orden del polinomio."
   ]
  },
  {
   "cell_type": "markdown",
   "id": "db8db6ee",
   "metadata": {
    "slideshow": {
     "slide_type": "fragment"
    }
   },
   "source": [
    "La regla de Simpson sigue esta lógica, aunque utilizando polinomios de interpolación de Lagrange en lugar de expansiones de Taylor. "
   ]
  },
  {
   "cell_type": "markdown",
   "id": "7a3ff367",
   "metadata": {
    "slideshow": {
     "slide_type": "slide"
    }
   },
   "source": [
    "Por ejemplo, la regla de Simpson 1/3 considera polinomios de Lagrange de segundo orden:\n",
    "\n",
    "\\begin{eqnarray*}L_i(x) &=& f(x_{i-1})\\frac{(x - x_i)(x - x_{i+1})}{(x_{i-1} - x_i)(x_{i-1} - x_{i+1})} + f(x_i)\\frac{(x - x_{i-1})(x - x_{i+1})}{(x_{i} - x_{i-1})(x_{i} - x_{i+1})}\\\\[10pt]\n",
    "&&+ f(x_{i+1})\\frac{(x - x_{i-1})(x - x_{i})}{(x_{i+1} - x_{i-1})(x_{i+1} -\n",
    "x_{i})},\\end{eqnarray*}"
   ]
  },
  {
   "cell_type": "markdown",
   "id": "a96d522e",
   "metadata": {
    "slideshow": {
     "slide_type": "fragment"
    }
   },
   "source": [
    "Al integrar el polinomio en el subintervalo $x\\in [x_{i-1}, x_{i+1}]$ determinamos la **regla de Simpson 1/3**:\n",
    "\n",
    "\\begin{equation}\n",
    "\\int_{x_{i-1}}^{x_{i+1}} f(x) dx = \\frac{h}{3}\\left[f(x_{i-1}) + 4f(x_i) + f(x_{i+1})\\right] + O(h^5).\n",
    "\\end{equation}"
   ]
  },
  {
   "cell_type": "markdown",
   "id": "cbd4e2ca",
   "metadata": {
    "slideshow": {
     "slide_type": "fragment"
    }
   },
   "source": [
    "Notar que el orden del polinomio es 1 grado mayor que en el caso del trapecio. Sin embargo, el error de truncamiento es $O(h^5)$. La prueba de esto se deja como ejercicio."
   ]
  },
  {
   "cell_type": "markdown",
   "id": "ddeb9d12",
   "metadata": {
    "slideshow": {
     "slide_type": "slide"
    }
   },
   "source": [
    "Para un set de $n+1$ puntos igualmente espaciados en el intervalo $x\\in[a,b]$, la **regla de Simpson 1/3 *extendida o compuesta*** es:\n",
    "\n",
    "\\begin{equation}\n",
    "\\int_a^b f(x) dx \\approx \\frac{h}{3} \\left[f(x_0)+4 \\left(\\sum_{i=1, i\\  {\\text{impar}}}^{n-1}f(x_i)\\right)+2 \\left(\\sum_{i=2, i\\  {\\text{par}}}^{n-2}f(x_i)\\right)+f(x_n)\\right] + O(h^4).\n",
    "\\end{equation}"
   ]
  },
  {
   "cell_type": "markdown",
   "id": "5183474e",
   "metadata": {},
   "source": [
    "<img src=\"./images/simpson_rule.png\" width=\"400px\" align= center>"
   ]
  },
  {
   "cell_type": "markdown",
   "id": "839a94a7",
   "metadata": {
    "slideshow": {
     "slide_type": "fragment"
    }
   },
   "source": [
    "**NOTA** Debido a que la regla de Simpson 1/3 requiere de dos intervalos, el número de puntos debe ser impar."
   ]
  },
  {
   "cell_type": "markdown",
   "id": "c263dd2c",
   "metadata": {
    "slideshow": {
     "slide_type": "slide"
    }
   },
   "source": [
    "En ```python``` tenemos la función ```simpson``` de la librería ```scipy.integrate```. La función también puede ser llamada como ```simps``` (alias)."
   ]
  },
  {
   "cell_type": "markdown",
   "id": "e12ba8ad",
   "metadata": {
    "slideshow": {
     "slide_type": "fragment"
    }
   },
   "source": [
    "Para utilizar la función debemos indicar los valores de $f(x_i)$ (variable ```yi```) en el primer argumento de la función y los $x_i$ (variable ```xi```) en el segundo:\n",
    "```python\n",
    "from scipy.integrate import simpson\n",
    "int0 = simpson(yi,xi)  #integral de yi mediante regla del trapecio\n",
    "\n",
    "```"
   ]
  },
  {
   "cell_type": "markdown",
   "id": "35d3ce18",
   "metadata": {
    "slideshow": {
     "slide_type": "fragment"
    }
   },
   "source": [
    "**NOTA** ```scipy.intergrate.simpson``` no requiere que el número de puntos ```xi``` sea impar, ni que esten igualmente espaciados. Sin embargo, para mejor control del error, es recomendable mantener subintervalos de igual tamaño ($h_i$ constante)."
   ]
  },
  {
   "cell_type": "markdown",
   "id": "f1c736d4",
   "metadata": {
    "slideshow": {
     "slide_type": "slide"
    }
   },
   "source": [
    "**Si el número de puntos ```xi``` es par**, la función ```simpson```, por defecto, considera el promedio entre: \n",
    "\n",
    "- Regla de Simpson para los primeros $n-1$ intervalos y trapecio en el último intervalo \n",
    "- Regla de Simpson para los últimos $n-1$ intervalos y trapecio en el primer intervalo."
   ]
  },
  {
   "cell_type": "markdown",
   "id": "ceed769b",
   "metadata": {
    "slideshow": {
     "slide_type": "fragment"
    }
   },
   "source": [
    "Más información en la [documentación oficial](https://docs.scipy.org/doc/scipy/reference/generated/scipy.integrate.simpson.html#scipy.integrate.simpson)"
   ]
  },
  {
   "cell_type": "markdown",
   "id": "199b8076",
   "metadata": {
    "cell_style": "center",
    "slideshow": {
     "slide_type": "slide"
    }
   },
   "source": [
    "Nuevamente, consideremos la integral:\n",
    "\n",
    "\\begin{equation*}\n",
    "\\int_0^\\pi \\sin(x) dx = 2,\n",
    "\\end{equation*}\n",
    "\n",
    "considerando un arreglo de 10, 11 y 12 puntos igualmente espaciados:"
   ]
  },
  {
   "cell_type": "code",
   "execution_count": 9,
   "id": "e0fe8b1b",
   "metadata": {
    "cell_style": "split",
    "slideshow": {
     "slide_type": "fragment"
    }
   },
   "outputs": [],
   "source": [
    "import numpy as np\n",
    "import scipy.integrate as spint\n",
    "\n",
    "# 10 puntos igualmente espaciados\n",
    "xi = np.linspace(0,np.pi,10)\n",
    "int_sim10 = spint.simpson(np.sin(xi), xi)\n",
    "\n",
    "# 11 puntos igualmente espaciados\n",
    "xi = np.linspace(0,np.pi,11)\n",
    "int_sim11 = spint.simpson(np.sin(xi), xi)\n",
    "\n",
    "# 12 puntos igualmente espaciados\n",
    "xi = np.linspace(0,np.pi,12)\n",
    "int_sim12 = spint.simpson(np.sin(xi), xi)"
   ]
  },
  {
   "cell_type": "code",
   "execution_count": 10,
   "id": "e8db6053",
   "metadata": {
    "cell_style": "split",
    "slideshow": {
     "slide_type": "fragment"
    }
   },
   "outputs": [
    {
     "name": "stdout",
     "output_type": "stream",
     "text": [
      "Regla Simpson 1/3 (10 pts): 1.99955\n",
      "Error absoluto 4.513e-04\n",
      "\n",
      "Regla Simpson 1/3 (11 pts): 2.00011\n",
      "Error absoluto 1.095e-04\n",
      "\n",
      "Regla Simpson 1/3 (12 pts): 1.99980\n",
      "Error absoluto 2.026e-04\n",
      "\n"
     ]
    }
   ],
   "source": [
    "print('Regla Simpson 1/3 (10 pts): %.5f' % int_sim10)\n",
    "print('Error absoluto %.3e\\n' % abs(2 - int_sim10))\n",
    "\n",
    "print('Regla Simpson 1/3 (11 pts): %.5f' % int_sim11)\n",
    "print('Error absoluto %.3e\\n' % abs(2 - int_sim11))\n",
    "\n",
    "print('Regla Simpson 1/3 (12 pts): %.5f' % int_sim12)\n",
    "print('Error absoluto %.3e\\n' % abs(2 - int_sim12))"
   ]
  },
  {
   "cell_type": "markdown",
   "id": "90fed911",
   "metadata": {
    "slideshow": {
     "slide_type": "slide"
    }
   },
   "source": [
    "En comparación con la integral de 11 puntos, notamos que el error de ```scipy.integrate.simpson``` es mayor cuando usamos 12 puntos."
   ]
  },
  {
   "cell_type": "markdown",
   "id": "e18029e2",
   "metadata": {
    "slideshow": {
     "slide_type": "fragment"
    }
   },
   "source": [
    "Esto ocurre debido a que, internamente, ```scipy.integrate.simpson``` considera regla del trapecio para el primer y/o último intervalo impar. La diferencia en el error es el castigo por considerar un método de orden de truncamiento mayor."
   ]
  },
  {
   "cell_type": "markdown",
   "id": "d1043292",
   "metadata": {
    "slideshow": {
     "slide_type": "slide"
    }
   },
   "source": [
    "## Integración de funciones evaluadas\n",
    "Las fórmulas de Newton-Cotes son útiles cuando no conocemos la función y solo disponemos de datos tabulados. Si la función a integrar es conocida, las fórmulas de Newton-Cotes aún son válidas. Sin embargo, existen métodos más eficientes para calcular la integral numéricamente."
   ]
  },
  {
   "cell_type": "markdown",
   "id": "a1862b30",
   "metadata": {
    "slideshow": {
     "slide_type": "slide"
    }
   },
   "source": [
    "### Cuadratura Gaussiana (```scipy.integrate.fixed_quad```)\n",
    "En la regla del trapecio aproximamos la integral por el área bajo una línea contectando dos puntos. Tal como indica la figura de abajo, podemos mejorar este resultado buscando un trapecio que, conectando dos puntos de la curva, minice el error de la aproximación.\n",
    "\n",
    "<img src=\"./images/gaussian_quadrature.png\" width=\"550px\" align= center>"
   ]
  },
  {
   "cell_type": "markdown",
   "id": "bcb348ee",
   "metadata": {
    "slideshow": {
     "slide_type": "slide"
    }
   },
   "source": [
    "Considere la forma general para aproximar una integral en el intervalo $x\\in[-1,1]$, mediante dos puntos $x_0$ y $x_1$\n",
    "\n",
    "\\begin{equation*}\n",
    "\\int_{-1}^{1} f(x) dx \\approx c_0f(x_0) + c_1f(x_1)\n",
    "\\end{equation*}\n"
   ]
  },
  {
   "cell_type": "markdown",
   "id": "7ecf061f",
   "metadata": {
    "slideshow": {
     "slide_type": "fragment"
    }
   },
   "source": [
    "En el caso de la regla del trapecio tenemos $x_0 = -1$, $x_1 = 1$, y $c_0=c_1=h/2$. Recordemos que esta fórmula fue derivada mediante la aproximación de $f(x)$ por un polinomio de grado 1."
   ]
  },
  {
   "cell_type": "markdown",
   "id": "c46e87a7",
   "metadata": {
    "slideshow": {
     "slide_type": "fragment"
    }
   },
   "source": [
    "Sin embargo, si liberamos las restricciones para $c_0$, $c_1$, $x_0$, $x_1$, podemos ajustar sus valores para un polinomio de mayor grado. Debido a que tenemos 4 incognitas, podemos generalizar el método para integrar un polinomio de grado 3 de manera exacta."
   ]
  },
  {
   "cell_type": "markdown",
   "id": "80ae2da3",
   "metadata": {
    "slideshow": {
     "slide_type": "slide"
    }
   },
   "source": [
    "Mediante la aproximación, $f(x) \\approx a_0 + a_1x+ a_2x^2+a_3x^3$, e integrando a ambos lados de la ecuación de cuadratura, derivamos el siguiente sistema de ecuaciones:\n",
    "\n",
    "\\begin{align*}\n",
    "c_1 + c_2 &= \\int_{-1}^{1} 1 dx = 2 \\\\\n",
    "c_1x_1 + c_2x_2 &= \\int_{-1}^{1} x dx = 0 \\\\\n",
    "c_1x_1^2 + c_2x_2^2 &= \\int_{-1}^{1} x^2 dx = 2/3 \\\\\n",
    "c_1x_1^3 + c_2x_2^3 &= \\int_{-1}^{1} x^3 dx = 0,\n",
    "\\end{align*}"
   ]
  },
  {
   "cell_type": "markdown",
   "id": "b835ec28",
   "metadata": {
    "slideshow": {
     "slide_type": "fragment"
    }
   },
   "source": [
    "cuya solución es $c_0 = c_1 = 1$, $x_0 = -1/\\sqrt{3}$, y $x_1 = 1/\\sqrt{3}$"
   ]
  },
  {
   "cell_type": "markdown",
   "id": "bfb91240",
   "metadata": {
    "slideshow": {
     "slide_type": "slide"
    }
   },
   "source": [
    "El método permite generar una aproximación de orden $O(h^4)$ de la forma:\n",
    "\n",
    "\\begin{equation*}\n",
    "\\int_{-1}^{1} f(x) dx = f\\left(-\\frac{1}{\\sqrt{3}}\\right) + f\\left(\\frac{1}{\\sqrt{3}}\\right) + O(h^4)\n",
    "\\end{equation*}"
   ]
  },
  {
   "cell_type": "markdown",
   "id": "280d1b1e",
   "metadata": {
    "slideshow": {
     "slide_type": "fragment"
    }
   },
   "source": [
    "Mediante sustitución de variables, podemos generalizar esta fórmula para una integral en un intervalo $x\\in[a,b]$:\n",
    "\n",
    "\\begin{equation*}\n",
    "\\int_{a}^{b} f(x) dx \\approx \\frac{2}{b-a}\\left[f\\left(\\frac{b+a}{2} - \\frac{b-a}{2}\\frac{1}{\\sqrt{3}}\\right) + f\\left(\\frac{b+a}{2} + \\frac{b-a}{2}\\frac{1}{\\sqrt{3}}\\right)\\right]\n",
    "\\end{equation*}"
   ]
  },
  {
   "cell_type": "markdown",
   "id": "395cab34",
   "metadata": {
    "slideshow": {
     "slide_type": "slide"
    }
   },
   "source": [
    "Mediante un procedimiento similar, podemos generar aproximaciones para polinomios de mayor orden. La siguiente tabla resume la lista de pesos $c_i$ y puntos de evaluación $x_i$, junto a sus errores de truncamiento:\n",
    "<img src=\"./images/gaussian_quadrature_table.png\" width=\"700px\" align= center>"
   ]
  },
  {
   "cell_type": "markdown",
   "id": "1961aa8d",
   "metadata": {
    "slideshow": {
     "slide_type": "fragment"
    }
   },
   "source": [
    "**NOTA** El error de truncamiento de cuadratura Gaussiana disminuye con el número de puntos de evaluación, $n$, en la forma $O(h^{2n})$."
   ]
  },
  {
   "cell_type": "markdown",
   "id": "ef3946df",
   "metadata": {
    "slideshow": {
     "slide_type": "slide"
    }
   },
   "source": [
    "En ```python``` tenemos la función ```fixed_quad``` para cuadratura Gaussiana, implementada en la libería ```scipy.integrate```. "
   ]
  },
  {
   "cell_type": "markdown",
   "id": "4187800c",
   "metadata": {
    "slideshow": {
     "slide_type": "fragment"
    }
   },
   "source": [
    "Para calcular la cuadratura llamamos la función como ```fixed_quad(f,a,b,n)[0]```, donde: \n",
    "- ```f```: función $f(x)$ en formato *callable*\n",
    "- ```a, b```: intervalo de integración $a$ y $b$\n",
    "- ```n```: número de puntos o orden $n$ (```n=5``` por defecto). \n",
    "\n",
    "```fixed_quad```, por defecto, retorna un *tuple* de dos elementos, de los cuales el primero corresponde al valor de la integral. El término ```[0]``` al final de la función se utiliza para retornar, únicamente, el valor de la integral."
   ]
  },
  {
   "cell_type": "markdown",
   "id": "7e462949",
   "metadata": {
    "slideshow": {
     "slide_type": "fragment"
    }
   },
   "source": [
    "Más información en la [documentación oficial](https://docs.scipy.org/doc/scipy/reference/generated/scipy.integrate.fixed_quad.html#scipy.integrate.fixed_quad)"
   ]
  },
  {
   "cell_type": "markdown",
   "id": "e71c1b69",
   "metadata": {
    "cell_style": "center",
    "slideshow": {
     "slide_type": "slide"
    }
   },
   "source": [
    "Por ejemplo, utilizamos cuadratura Gaussiana de 2 puntos para aproximar la integral:\n",
    "\n",
    "\\begin{equation*}\n",
    "\\int_0^\\pi \\sin(x) dx = 2,\n",
    "\\end{equation*}"
   ]
  },
  {
   "cell_type": "code",
   "execution_count": 4,
   "id": "9cc7f0cf",
   "metadata": {
    "cell_style": "center",
    "slideshow": {
     "slide_type": "fragment"
    }
   },
   "outputs": [
    {
     "data": {
      "text/plain": [
       "1.9358195746511373"
      ]
     },
     "execution_count": 4,
     "metadata": {},
     "output_type": "execute_result"
    }
   ],
   "source": [
    "from scipy.integrate import fixed_quad\n",
    "\n",
    "f = lambda x: np.sin(x)  # función tipo callable\n",
    "a, b = 0, np.pi          # intervalo de integración\n",
    "\n",
    "fixed_quad(f,a,b,n=2)[0] # cuadratura Gaussiana de 2 puntos"
   ]
  },
  {
   "cell_type": "markdown",
   "id": "ec8d4438",
   "metadata": {
    "slideshow": {
     "slide_type": "slide"
    }
   },
   "source": [
    "\n",
    "\n",
    "Comparemos el error de la cuadratura Gaussiana con la regla del trapecio a medida que aumentamos el número de puntos de evaluación. "
   ]
  },
  {
   "cell_type": "code",
   "execution_count": 5,
   "id": "6b74aa20",
   "metadata": {
    "cell_style": "center",
    "slideshow": {
     "slide_type": "fragment"
    }
   },
   "outputs": [],
   "source": [
    "import numpy as np\n",
    "import scipy.integrate as spint\n",
    "\n",
    "N = 10                  # máximo número de puntos de integración\n",
    "f = lambda x: np.sin(x) # función en formato callable\n",
    "a, b = 0, np.pi         # intervalo de integración\n",
    "I0 = 2                  # valor exacto de la integral\n",
    "\n",
    "Etrapz_arr = [] # generamos una lista vacía para iterar\n",
    "Egauss_arr = [] # generamos una lista vacía para iterar\n",
    "for n in range(2,N+1):\n",
    "    xi = np.linspace(a,b,n)\n",
    "    \n",
    "    # error regla del trapecio\n",
    "    Etrapz = abs(I0 - spint.trapz(f(xi),xi))    \n",
    "    Etrapz_arr.append(Etrapz)\n",
    "    \n",
    "    # error cuadratura de Gauss\n",
    "    Egauss = abs(I0 - spint.fixed_quad(f,a,b,n=n)[0])\n",
    "    Egauss_arr.append(Egauss)"
   ]
  },
  {
   "cell_type": "code",
   "execution_count": 6,
   "id": "27520c99",
   "metadata": {
    "cell_style": "center",
    "slideshow": {
     "slide_type": "slide"
    }
   },
   "outputs": [
    {
     "data": {
      "image/png": "[encoded data removed]",
      "text/plain": [
       "<Figure size 504x360 with 1 Axes>"
      ]
     },
     "metadata": {
      "needs_background": "light"
     },
     "output_type": "display_data"
    }
   ],
   "source": [
    "import matplotlib.pyplot as plt\n",
    "plt.figure(figsize = (7, 5))           # Tamaño de figura\n",
    "plt.rcParams.update({'font.size': 16}) # Tamaño de fuente\n",
    "\n",
    "plt.plot(list(range(2,N+1)), Etrapz_arr,'o:r', label='Trapecio')\n",
    "plt.plot(list(range(2,N+1)), Egauss_arr,'o:b', label='Gauss')\n",
    "\n",
    "# Formateamos los ejes y títulos del gráfico\n",
    "plt.yscale('log')\n",
    "plt.xlabel('número de puntos $x_i$')\n",
    "plt.ylabel('Error absoluto')\n",
    "plt.title('$\\int_0^\\pi \\sin(x) dx = 2$')\n",
    "plt.grid()\n",
    "plt.legend()\n",
    "plt.show()"
   ]
  },
  {
   "cell_type": "markdown",
   "id": "ce89261d",
   "metadata": {
    "slideshow": {
     "slide_type": "slide"
    }
   },
   "source": [
    "### Cuadratura adaptativa (```scipy.integrate.quad```)\n",
    "Los métodos de cuadratura adaptativa son los más utilizados hoy en dia. Aunque existen diversos tipos, podemos resumir el procedimiento mediante los siguientes pasos:"
   ]
  },
  {
   "cell_type": "markdown",
   "id": "fe0f5c41",
   "metadata": {
    "slideshow": {
     "slide_type": "fragment"
    }
   },
   "source": [
    "1. Supongamos que tenemos dos estimaciones $I_1$ y $I_2$ de la integral:\n",
    "\\begin{equation*}\n",
    "I = \\int_a^b f(x) dx,\n",
    "\\end{equation*}\n",
    "donde $I_1$ corresponde a la aproximación más precisa."
   ]
  },
  {
   "cell_type": "markdown",
   "id": "90149540",
   "metadata": {
    "slideshow": {
     "slide_type": "fragment"
    }
   },
   "source": [
    "2. Determine el error absoluto $\\epsilon = I_1 - I_2$."
   ]
  },
  {
   "cell_type": "markdown",
   "id": "d0b115e2",
   "metadata": {
    "slideshow": {
     "slide_type": "fragment"
    }
   },
   "source": [
    "3. Si $\\epsilon < \\tau$, donde $\\tau$ es la tolerancia, aceptamos $I_1$ como aproximación de $I$. En caso contrario, subdividimos el intervalo $x\\in[a,b]$ en dos subintervalos:\n",
    "\\begin{equation*}\n",
    "I = \\int_a^m f(x) dx + \\int_m^b f(x) dx\\quad\\quad m=(a+b)/2\n",
    "\\end{equation*}\n",
    "y repetimos el paso (1) para cada integral."
   ]
  },
  {
   "cell_type": "markdown",
   "id": "5483ec5a",
   "metadata": {
    "slideshow": {
     "slide_type": "slide"
    }
   },
   "source": [
    "Para calcular las estimaciones $I_1$ y $I_2$ se utiliza algún método de cuadratura estática, como por ejemplo, cuadratura de Gauss."
   ]
  },
  {
   "cell_type": "markdown",
   "id": "c2b7ac71",
   "metadata": {
    "slideshow": {
     "slide_type": "fragment"
    }
   },
   "source": [
    "En ```python``` tenemos la función ```quad``` para cuadratura adaptativa, implementada en la libería ```scipy.integrate```. Esta función se basa en la librería [QUADPACK](https://en.wikipedia.org/wiki/QUADPACK) de FORTRAN. Para evaluar $I_1$ y $I_2$, ```quad``` utiliza una variante de la cuadratura de Gauss, llamada [Gauss–Kronrod](https://en.wikipedia.org/wiki/Gauss%E2%80%93Kronrod_quadrature_formula)"
   ]
  },
  {
   "cell_type": "markdown",
   "id": "b7a622f6",
   "metadata": {
    "slideshow": {
     "slide_type": "fragment"
    }
   },
   "source": [
    "Por defecto, ```quad``` retorna un *tuple* con dos elementos. El primero corresponde al valor de la integral, el segundo al error absoluto de la estimación."
   ]
  },
  {
   "cell_type": "code",
   "execution_count": 14,
   "id": "543e44bf",
   "metadata": {
    "slideshow": {
     "slide_type": "fragment"
    }
   },
   "outputs": [
    {
     "name": "stdout",
     "output_type": "stream",
     "text": [
      "Valor de la integral = 2.00000\n",
      "Error absoluto = 2.22045e-14\n"
     ]
    }
   ],
   "source": [
    "from scipy.integrate import quad\n",
    "\n",
    "f = lambda x: np.sin(x)  # función tipo callable\n",
    "a, b = 0, np.pi          # intervalo de integración\n",
    "print('Valor de la integral = %.5f' % quad(f,a,b)[0])\n",
    "print('Error absoluto = %.5e'       % quad(f,a,b)[1])"
   ]
  },
  {
   "cell_type": "markdown",
   "id": "7a5d406f",
   "metadata": {
    "slideshow": {
     "slide_type": "slide"
    }
   },
   "source": [
    "```quad``` también permite determinar integrales con intervalos hacia el infinito."
   ]
  },
  {
   "cell_type": "markdown",
   "id": "9ff4a9e1",
   "metadata": {
    "slideshow": {
     "slide_type": "fragment"
    }
   },
   "source": [
    "Por ejemplo, consideremos la integral\n",
    "\n",
    "\\begin{equation*}\n",
    "\\int_{-\\infty}^{\\infty} e^{-x^2} dx\n",
    "\\end{equation*}"
   ]
  },
  {
   "cell_type": "code",
   "execution_count": 8,
   "id": "2b376f1d",
   "metadata": {
    "slideshow": {
     "slide_type": "fragment"
    }
   },
   "outputs": [
    {
     "name": "stdout",
     "output_type": "stream",
     "text": [
      "I = 1.77245; E. absoluto = 1.42026e-08\n"
     ]
    }
   ],
   "source": [
    "from scipy.integrate import quad\n",
    "\n",
    "f = lambda x: np.exp(-x**2)  # función tipo callable\n",
    "a, b = -np.inf, np.inf       # intervalo de integración\n",
    "print('I = %.5f; E. absoluto = %.5e' % quad(f,a,b))"
   ]
  },
  {
   "cell_type": "markdown",
   "id": "114fd1c0",
   "metadata": {
    "slideshow": {
     "slide_type": "slide"
    }
   },
   "source": [
    "Mediante los argumentos ```epsabs``` y ```epsrel```, podemos condicionar la tolerancia respecto al error absoluto y relativo, respectivamente:\n",
    "```python\n",
    "quad(f,a,b,epsabs=1E-5) # Tolerancia absoluta de 0.00001\n",
    "quad(f,a,b,epsrel=1E-2) # Tolerancia relativa del 1%\n",
    "```"
   ]
  },
  {
   "cell_type": "markdown",
   "id": "548b7288",
   "metadata": {
    "slideshow": {
     "slide_type": "fragment"
    }
   },
   "source": [
    "Por defecto, ```epsabs=1.49e-08```, y ```epsrel=1.49e-08```."
   ]
  },
  {
   "cell_type": "markdown",
   "id": "35e7cb86",
   "metadata": {
    "slideshow": {
     "slide_type": "fragment"
    }
   },
   "source": [
    "Más información en la [documentación oficial](https://docs.scipy.org/doc/scipy/reference/generated/scipy.integrate.quad.html#scipy.integrate.quad)"
   ]
  },
  {
   "cell_type": "markdown",
   "id": "33d3b1b6",
   "metadata": {
    "cell_style": "center",
    "slideshow": {
     "slide_type": "slide"
    }
   },
   "source": [
    "## Referencias\n",
    "- Kong Q., Siauw T., Bayen A. M. **Chapter 21: Numerical Integration** in *[Python Programming and Numerical Methods – A Guide for Engineers and Scientists](https://pythonnumericalmethods.berkeley.edu/notebooks/chapter17.00-Interpolation.html)*, 1st Ed., Academic Press, 2021\n",
    "\n",
    "- Chapra S., Canale R. **Capítulo 21: Fórmula de integración de Newton-Cotes** en *Métodos Numéricos para Ingenieros*, 6ta Ed., McGraw Hill, 2011\n",
    "\n",
    "- Chapra S., Canale R. **Capítulo 22: Integración de ecuaciones** en *Métodos Numéricos para Ingenieros*, 6ta Ed., McGraw Hill, 2011\n",
    "\n",
    "- Williams H. P. **Chapter 4: Integration of Functions** in \"Numerical Recipes\" 3rd Ed, Cambridge University Press, 2007"
   ]
  }
 ],
 "metadata": {
  "celltoolbar": "Slideshow",
  "kernelspec": {
   "display_name": "Python 3 (ipykernel)",
   "language": "python",
   "name": "python3"
  },
  "language_info": {
   "codemirror_mode": {
    "name": "ipython",
    "version": 3
   },
   "file_extension": ".py",
   "mimetype": "text/x-python",
   "name": "python",
   "nbconvert_exporter": "python",
   "pygments_lexer": "ipython3",
   "version": "3.9.13"
  },
  "latex_envs": {
   "LaTeX_envs_menu_present": false,
   "autoclose": false,
   "autocomplete": false,
   "bibliofile": "biblio.bib",
   "cite_by": "apalike",
   "current_citInitial": 1,
   "eqLabelWithNumbers": true,
   "eqNumInitial": 1,
   "hotkeys": {
    "equation": "Ctrl-E",
    "itemize": "Ctrl-I"
   },
   "labels_anchors": false,
   "latex_user_defs": false,
   "report_style_numbering": false,
   "user_envs_cfg": true
  },
  "rise": {
   "height": "100%",
   "theme": "simple",
   "width": "100%"
  },
  "toc": {
   "base_numbering": "1",
   "nav_menu": {},
   "number_sections": true,
   "sideBar": true,
   "skip_h1_title": true,
   "title_cell": "Contenidos",
   "title_sidebar": "Contenidos",
   "toc_cell": false,
   "toc_position": {
    "height": "calc(100% - 180px)",
    "left": "10px",
    "top": "150px",
    "width": "303.828px"
   },
   "toc_section_display": true,
   "toc_window_display": false
  },
  "varInspector": {
   "cols": {
    "lenName": 16,
    "lenType": 16,
    "lenVar": 40
   },
   "kernels_config": {
    "python": {
     "delete_cmd_postfix": "",
     "delete_cmd_prefix": "del ",
     "library": "var_list.py",
     "varRefreshCmd": "print(var_dic_list())"
    },
    "r": {
     "delete_cmd_postfix": ") ",
     "delete_cmd_prefix": "rm(",
     "library": "var_list.r",
     "varRefreshCmd": "cat(var_dic_list()) "
    }
   },
   "types_to_exclude": [
    "module",
    "function",
    "builtin_function_or_method",
    "instance",
    "_Feature"
   ],
   "window_display": false
  }
 },
 "nbformat": 4,
 "nbformat_minor": 5
}

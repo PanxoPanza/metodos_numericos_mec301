{
 "cells": [
  {
   "cell_type": "markdown",
   "id": "60a01330",
   "metadata": {
    "deletable": false,
    "editable": false
   },
   "source": [
    "# Prueba 2 - Métodos Numéricos - MEC301\n",
    "Fecha de entrega: 19 de octubre, 2022"
   ]
  },
  {
   "cell_type": "markdown",
   "id": "6117ef5f",
   "metadata": {},
   "source": [
    "Nombre:"
   ]
  },
  {
   "cell_type": "markdown",
   "id": "16095425",
   "metadata": {
    "deletable": false,
    "editable": false
   },
   "source": [
    "Instrucciones. \n",
    "- Complete este archivo con sus respuestas. \n",
    "- Una vez completado, guarde el archivo como: \"*prueba2_apellido_nombre.ipynb*\".\n",
    "- Adjunte el archivo a la plataforma webcurso (solo el archivo *ipynb)\n",
    "\n",
    "Definiciones:\n",
    "- ***ndarray***, arreglo `numpy` de dimensión variable\n",
    "- ***callable*** variable tipo función.\n",
    "- ***float*** variable decimal de tamaño unidimensional "
   ]
  },
  {
   "cell_type": "markdown",
   "id": "a11f1446",
   "metadata": {
    "deletable": false,
    "editable": false
   },
   "source": [
    "## Problema 1 (3.0 puntos)\n",
    "\n",
    "El color celeste del cielo está asociado al fenómeno de **scattering de Rayleigh**, mediante el cual la luz del sol es dispersada por los gases en la atmósfera. Producto del *scattering*, la luz solar se divide en una componente especular y una componente difusa. El color celeste del cielo está asociado a la componente difusa.\n",
    "\n",
    "\n",
    "<img src=\"./images/sky_scattering.png\" width=\"900\" align= center>\n",
    "\n",
    "La **componente difusa de la irradiancia espectral del sol**, $I_\\mathrm{sun,dif}$, en función de la longitud de onda $\\lambda$ y el ángulo del sol $\\theta_\\mathrm{sun}$, está dada por:\n",
    "\n",
    "\\begin{equation}\n",
    "I_\\mathrm{sun,dif}(\\lambda,\\theta_\\mathrm{sun}) = \\left[1 - \\exp\\left({-f_v \\kappa_\\mathrm{sca}\\frac{t_\\mathrm{atm}}{\\cos \\theta_\\mathrm{sun}}}\\right)\\right] I_\\mathrm{sun}(\\lambda) \\quad\\quad \\frac{\\mathrm{W}}{\\mathrm{m}^2\\cdot\\mu\\mathrm{m}}\n",
    "\\end{equation}\n",
    "\n",
    "donde $f_v = 1\\times10^{-8}$ es la fracción de volúmen ocupado por las partículas, $t_\\mathrm{atm} = 1\\times10^{11}$ $\\mu$m es el espesor de la atmóstfera, $I_\\mathrm{sun}$ es la componente total de la irradiancia espectral del sol para $\\theta_\\mathrm{sun} = 0°$, y \n",
    "\n",
    "\\begin{equation*}\n",
    "\\kappa_\\mathrm{sca} = \\frac{4.4941\\times10^{-5}}{\\lambda^4},\\quad\\quad \\mu\\mathrm{m}^{-1}\n",
    "\\end{equation*}\n",
    "\n",
    "es el coeficiente de scattering con $\\lambda$ en unidades de $\\mu$m.\n",
    "\n",
    "**En este problema simularemos como el color del cielo cambia con la posición del sol. Utilizaremos el procedimiento de la [Comisión internacional de la iluminación (CIE)](https://es.wikipedia.org/wiki/Espacio_de_color_CIE_1931) para convertir el espectro de $I_\\mathrm{sun,dif}(\\lambda,\\theta_\\mathrm{sun})$ a un código de colores RGB, para un rango de valores de $\\theta_\\mathrm{sun}$. El procedimiento será detallado en los pasos (a), (b), (c) y (d).**"
   ]
  },
  {
   "cell_type": "markdown",
   "id": "c90dd628",
   "metadata": {
    "deletable": false,
    "editable": false
   },
   "source": [
    "**(a) (0.7 pts)** Complete la función ```Isun_dif(lam,theta)``` para determinar la componente difusa de la radiancia espectral del sol a partir de la ecuación **(1)**.\n",
    "\n",
    ">En la función: \n",
    ">- ```lam``` corresponde a $\\lambda$ en formato de ***ndarray***, en unidades de micrometros ($\\mu$m). \n",
    ">- ```theta``` corresponde a $\\theta_\\mathrm{sun}$ en formato de ***float***, en unidades de grados (°). \n",
    ">- El parámetro de salida (return) debe ser una variable ***ndarray*** con los valores de $I_\\mathrm{sun,~dif}$ asociados al arreglo ```lam```. \n",
    ">-Para $I_\\mathrm{sun}(\\lambda)$ utilice la función ```Isun(lam)``` del script ```blackbody```\n",
    "\n",
    "Compruebe su función con ```Isun_dif(lam=0.3, theta=30) = 12142209.070544254```, y luego grafique ```Isun_dif(lam,theta=30)/Isun(lam)``` vs ```lam```, para $\\lambda\\in [0.3,1.0]$ $\\mu$m considerando 100 puntos igualmente espaciados. En su gráfico considere:\n",
    "- Etiqueta ```'Longitud de onda, $\\lambda$ ($\\mu$m)'``` en el eje x\n",
    "- Etiqueta ```'Transmitancia difusa'``` en el eje y"
   ]
  },
  {
   "cell_type": "code",
   "execution_count": null,
   "id": "4c83bad9",
   "metadata": {},
   "outputs": [],
   "source": [
    "from extra_functions import Isun\n",
    "\n",
    "# función Isun_dif\n",
    "def Isun_dif(lam,theta):\n",
    "    # convertimos theta de grados a radianes\n",
    "    \n",
    "    return # ecuación (1)"
   ]
  },
  {
   "cell_type": "code",
   "execution_count": null,
   "id": "83699ca4",
   "metadata": {},
   "outputs": [],
   "source": [
    "# Comprobar solución"
   ]
  },
  {
   "cell_type": "code",
   "execution_count": null,
   "id": "37d4295f",
   "metadata": {},
   "outputs": [],
   "source": [
    "# Gráfico: Isun_dif(lam,theta)/Isun(lam) vs lam"
   ]
  },
  {
   "cell_type": "markdown",
   "id": "f70c2353",
   "metadata": {
    "deletable": false,
    "editable": false
   },
   "source": [
    "**(b) (0.8 pts)** Las funciones $\\bar{x}(\\lambda)$, $\\bar{y}(\\lambda)$ y $\\bar{z}(\\lambda)$, representan la sensibilidad de los conos oculares al color rojo, verde y azúl, respectivamente. En la siguiente celda, estas funciones están tabuladas a través de las variables ```x_cie```, ```y_cie```, ```z_cie```, respectivamente. Cada valor de este arreglo está asociado a la longitud de onda ```lam_cie```, en $\\mu$m."
   ]
  },
  {
   "cell_type": "code",
   "execution_count": 1,
   "id": "999cecbe",
   "metadata": {
    "deletable": false,
    "editable": false
   },
   "outputs": [
    {
     "data": {
      "image/png": "[encoded data removed]",
      "text/plain": [
       "<Figure size 432x288 with 1 Axes>"
      ]
     },
     "metadata": {
      "needs_background": "light"
     },
     "output_type": "display_data"
    }
   ],
   "source": [
    "import numpy as np\n",
    "import matplotlib.pyplot as plt\n",
    "\n",
    "# datos tabulados\n",
    "lam_cie = np.array([0.38, 0.40, 0.42, 0.44, 0.46, 0.48, 0.50, 0.52, 0.54, 0.56, 0.58, 0.60, 0.62, 0.64, 0.66, 0.68, 0.70, 0.72, 0.74, 0.76, 0.78])\n",
    "x_cie   = np.array([1.4000e-03, 1.4300e-02, 1.3440e-01, 3.4830e-01, 2.9080e-01, 9.5600e-02, 4.9000e-03, 6.3300e-02, 2.9040e-01, 5.9450e-01, 9.1630e-01, 1.0622e+00, 8.5440e-01, 4.4790e-01, 1.6490e-01, 4.6800e-02, 1.1400e-02, 2.9000e-03, 7.0000e-04, 2.0000e-04, 0.0000e+00])\n",
    "y_cie   = np.array([0.00e+00, 4.00e-04, 4.00e-03, 2.30e-02, 6.00e-02, 1.39e-01, 3.23e-01, 7.10e-01, 9.54e-01, 9.95e-01, 8.70e-01, 6.31e-01, 3.81e-01, 1.75e-01, 6.10e-02, 1.70e-02, 4.10e-03, 1.00e-03, 2.00e-04, 1.00e-04, 0.00e+00])\n",
    "z_cie   = np.array([6.5000e-03, 6.7900e-02, 6.4560e-01, 1.7471e+00, 1.6692e+00, 8.1300e-01, 2.7200e-01, 7.8200e-02, 2.0300e-02, 3.9000e-03, 1.7000e-03, 8.0000e-04, 2.0000e-04, 0.0000e+00, 0.0000e+00, 0.0000e+00, 0.0000e+00, 0.0000e+00, 0.0000e+00, 0.0000e+00, 0.0000e+00])\n",
    "\n",
    "# gráfico de los datos tabulados\n",
    "plt.plot(lam_cie,x_cie,'o r', label=r'$\\bar{x}(\\lambda)$')\n",
    "plt.plot(lam_cie,y_cie,'o g', label=r'$\\bar{y}(\\lambda)$')\n",
    "plt.plot(lam_cie,z_cie,'o b', label=r'$\\bar{z}(\\lambda)$')\n",
    "plt.xlabel('Longitud de onda, $\\lambda$ ($mu$m)')\n",
    "plt.legend()\n",
    "plt.show()"
   ]
  },
  {
   "cell_type": "markdown",
   "id": "08e421fe",
   "metadata": {
    "deletable": false,
    "editable": false
   },
   "source": [
    "\n",
    "\n",
    "**A partir de los datos tabulados, desarrolle tres funciones ```x_cie_fix(lam)```, ```y_cie_fix(lam)```, ```z_cie_fix(lam)``` para determinar el valor de $\\bar{x}(\\lambda)$, $\\bar{y}(\\lambda)$ y $\\bar{z}(\\lambda)$, donde ```lam``` es la longitud de onda en $\\mu$m. Mediante un gráfico, con $\\lambda\\in[0.3,2.0]$ $\\mu$m, verifique que sus funciones se comporten según lo esperado (es decir, sin divergencia).**"
   ]
  },
  {
   "cell_type": "code",
   "execution_count": null,
   "id": "f4b3f9de",
   "metadata": {},
   "outputs": [],
   "source": [
    "# Funciones x_cie_fix(lam), y_cie_fix(lam) y z_cie_fix(lam)"
   ]
  },
  {
   "cell_type": "code",
   "execution_count": null,
   "id": "2b6b1b4e",
   "metadata": {},
   "outputs": [],
   "source": [
    "# Gráfico de x_cie_fix(lam), y_cie_fix(lam) y z_cie_fix(lam), para lam entre 0.3 y 2.0 micrones"
   ]
  },
  {
   "cell_type": "markdown",
   "id": "0ba6e0b3",
   "metadata": {
    "deletable": false,
    "editable": false
   },
   "source": [
    "**(c) (1.0 pts)** Desarrolle una función para convertir un espectro de irradiancia $I_\\mathrm{spec}(\\lambda)$, en un código de colores $xyz$ donde:\n",
    "\n",
    "\\begin{equation*}\n",
    "x = \\frac{X}{X+Y+Z},\\quad\\quad\\quad y = \\frac{Y}{X+Y+Z},\\quad\\quad\\quad z = \\frac{Z}{X+Y+Z},\n",
    "\\end{equation*}\n",
    "\n",
    "y $XYZ$ son los colores de triple estímulo, dados por: \n",
    "\n",
    "\\begin{equation*}\n",
    "X = \\int_{0.01}^2 I_\\mathrm{spec}(\\lambda)\\bar{x}(\\lambda) d\\lambda,\\quad\\quad\\quad\n",
    "Y = \\int_{0.01}^2 I_\\mathrm{spec}(\\lambda)\\bar{y}(\\lambda) d\\lambda,\\quad\\quad\\quad\n",
    "Z = \\int_{0.01}^2 I_\\mathrm{spec}(\\lambda)\\bar{z}(\\lambda) d\\lambda,\n",
    "\\end{equation*}\n",
    "\n",
    "**Considere dos versiones de su función:** \n",
    " 1. `spectrum_to_xyz_quad(Ispec)` que calcule las integrales mediante `quad` \n",
    " 2. `spectrum_to_xyz_trapz(Ispec)` que calcule las integrales mediante `trapezoid`. Para los subintervalos, considere $\\lambda\\in[0.01,2]$ $\\mu$m con una subdivisión de 1000 puntos igualmente espaciados\n",
    " \n",
    ">En ambas funciones, \n",
    ">- el parámetro de entrada ```Ispec``` es del tipo ***callable*** y representa a $I_\\mathrm{spec}(\\lambda)$ \n",
    ">- el parámetro de salida debe ser un ***ndarray*** de tamaño (3,) con los valores de $xyz$\n",
    "\n",
    "Como validación, considere `spectrum_to_xyz_quad(Isun) = array([0.32678688, 0.33639789, 0.33681523])`. (similar para `spectrum_to_xyz_trapz(Isun)`)."
   ]
  },
  {
   "cell_type": "code",
   "execution_count": null,
   "id": "38971fbf",
   "metadata": {},
   "outputs": [],
   "source": [
    "# (1) versión spectrum_to_xyz_quad\n",
    "\n",
    "# validación"
   ]
  },
  {
   "cell_type": "code",
   "execution_count": null,
   "id": "aedc1de6",
   "metadata": {},
   "outputs": [],
   "source": [
    "# (2) versión spectrum_to_xyz_trapz\n",
    "\n",
    "# validación"
   ]
  },
  {
   "cell_type": "markdown",
   "id": "486280a7",
   "metadata": {
    "deletable": false,
    "editable": false
   },
   "source": [
    "**Finalmente, comente cuál de las dos alternativas es más conveniente.**"
   ]
  },
  {
   "cell_type": "markdown",
   "id": "bdf7e76c",
   "metadata": {},
   "source": [
    "**Respuesta:** "
   ]
  },
  {
   "cell_type": "markdown",
   "id": "575849e4",
   "metadata": {
    "deletable": false,
    "editable": false
   },
   "source": [
    "**(c)** Crear una función `xyz_to_rgb(xyz)` para convertir un código $xyz$ a un código $rgb$, mediante:\n",
    "\n",
    "\\begin{equation*}\n",
    "r = \\frac{R}{\\mathrm{max}(R,G,B)},\\quad\\quad\\quad\n",
    "g = \\frac{G}{\\mathrm{max}(R,G,B)},\\quad\\quad\\quad\n",
    "b = \\frac{B}{\\mathrm{max}(R,G,B)}\n",
    "\\end{equation*}\n",
    "\n",
    "donde $R$, $G$ y $B$ se determinan mediante la solución de:\n",
    "\n",
    "\\begin{equation*}\n",
    "\\begin{bmatrix}\n",
    "0.187 & 0.063 & 0.064 \\\\\n",
    "0.092 & 0.212 & 0.025 \\\\\n",
    "0     & 0.024 & 0.334 \\\\\n",
    "\\end{bmatrix}\\left[\\begin{array}{c} R \\\\G \\\\B \\end{array}\\right] =\n",
    "\\left[\\begin{array}{c} x \\\\y \\\\z\\end{array}\\right]\n",
    "\\end{equation*}\n",
    "\n",
    "> En la función:\n",
    ">- `xyz` es una variable ***ndarray*** de tamaño (3,) con los valores de $xyz$\n",
    ">- El parámetro de salida debe ser un ***ndarray*** de tamaño (3,) con los valores de $rgb$\n",
    "\n",
    "Como validación considere `xyz_to_rgb(np.array([0.3,0.3,0.4])) = array([0.81005352, 0.77822204, 1.])`"
   ]
  },
  {
   "cell_type": "code",
   "execution_count": null,
   "id": "deaf33e0",
   "metadata": {},
   "outputs": [],
   "source": [
    "# Función xyz_to_rgb(xyz)\n",
    "\n",
    "# Comprobamos la solución"
   ]
  },
  {
   "cell_type": "markdown",
   "id": "3501f2d1",
   "metadata": {
    "deletable": false,
    "editable": false
   },
   "source": [
    "**(d) (0.5 pts)** Complete el siguiente código para determinar el cambio de color del cielo respecto al ángulo del sol $\\theta_\\mathrm{sun}$, donde $\\theta_\\mathrm{sun}\\in[0,89.99]$ ° está definido por el arreglo `theta_sun`."
   ]
  },
  {
   "cell_type": "code",
   "execution_count": null,
   "id": "d03cd6af",
   "metadata": {},
   "outputs": [],
   "source": [
    "theta_sun = np.linspace(0,89.99,100) # rango de ángulo theta del sol\n",
    "\n",
    "fig, ax = plt.subplots()\n",
    "for theta in theta_sun:\n",
    "    \n",
    "           # Función de irradiancia difusa para el ángulo theta\n",
    "           # Convertir espectro de irradiancia a xyz\n",
    "    rgb  = # Convertir xyz a rgb (ASIGNAR RESULTADO A UNA VARIABLE rgb)\n",
    "    ax.axvline(theta, color=rgb, linewidth=5)  # graficar una línea de color rgb\n",
    "\n",
    "ax.set_ylim(0,1)\n",
    "ax.set_xlim(0,90)\n",
    "ax.set_xlabel(r'Posición del sol, $\\theta_\\mathrm{sun}$ (°)')\n",
    "ax.set_ylabel\n",
    "ax.set_yticks([])\n",
    "plt.show()"
   ]
  },
  {
   "cell_type": "markdown",
   "id": "04037f39",
   "metadata": {
    "deletable": false,
    "editable": false
   },
   "source": [
    "## Problema 2 (3.0 puntos)\n",
    "\n",
    "Se utiliza un sistema de bombeo para mover agua desde el estanque A al estanque B, como se indica la figura.\n",
    "\n",
    "<img src=\"./images/problema2_bombeo.png\" width=\"600\" align= center>\n",
    "\n",
    "El agua tiene una densidad, $\\rho = 1000$ kg/m$^3$, y viscosidad cinemática, $\\nu = 1\\times 10^{-6}$ m$^2$/s. La rugosidad de la tubería $\\varepsilon = 0.045$ mm.\n",
    "\n",
    "Para un caudal $Q$, la carga hidrostática del sistema, $H_\\mathrm{sys}$, y el caudal en cada línea $Q_1$ y $Q_2$ están definidos por el siguiente sistema de ecuaciones:\n",
    "\n",
    "\\begin{align}\n",
    "H_\\mathrm{sys} = z_B - z_A + h_L \\tag{2.a}\\\\\n",
    "h_L = h_{L,1}= h_{L,2} \\tag{2.b}\\\\\n",
    "Q_1 + Q_2 = Q \\tag{2.c}\n",
    "\\end{align}\n",
    "\n",
    "El parámetro $h_{L,i}$ ($i = 1,2$) representa las pérdidas mayores:\n",
    "\n",
    "\\begin{equation}\n",
    "h_{L,i} = f_i \\frac{L_i}{D_i}\\frac{V_i^2}{2g} \\tag{3}\n",
    "\\end{equation}\n",
    "\n",
    "donde $f_i$, $L_i$, $D_i$ y $V_i$ representan, respectívamente, el factor de fricción (adimensional), la longitud (m), el diámetro (m) y la velocidad (m/s) en la línea $i$. La aceleración de gravedad $g = 9.81$ m/s$^2$."
   ]
  },
  {
   "cell_type": "markdown",
   "id": "4c6aa87f",
   "metadata": {
    "deletable": false,
    "editable": false
   },
   "source": [
    "**(a) (0.6 pts)** Complete la función `get_hL(x,D,L)` para determinar $h_{L}$ en m, usando la ecuación (3), donde:\n",
    "- `x`: caudal en m$^3$/s (formato ***float***)\n",
    "- `D`: Diametro en $m$ (formato ***float***)\n",
    "- `L`: Largo de la tubería en $m/s$ (formato ***float***)\n",
    "\n",
    ">Como guía, considere los siguientes pasos dentro de su función:\n",
    ">- Paso 1: Definición de los parámetros $g$, $\\varepsilon$, $\\rho$ y $\\nu$.\n",
    ">- Paso 2: Cálculo de la velocidad del flujo en el ducto, mediante la expresión: $V=\\frac{Q}{\\pi D^2/4}$\n",
    ">- Paso 3: Cálculo del número de Reynolds $\\mathrm{Re} = \\frac{VD}{\\nu}$, y rugosidad relativa $\\varepsilon_r = \\varepsilon/D$.\n",
    ">- Paso 4: Cálculo del factor de fricción $f$, mediante la función `f_colebrook` del script `extra_functions`.\n",
    ">- Paso 5: Cálculo de pérdidas mayores de presión $h_L$.\n",
    "\n",
    "Como validación, considere `get_hL(0.00415, 0.04, 36) = array([11.04823106])`"
   ]
  },
  {
   "cell_type": "code",
   "execution_count": null,
   "id": "11421532",
   "metadata": {},
   "outputs": [],
   "source": [
    "from extra_functions import f_colebrook\n",
    "\n",
    "# Función get_hL\n",
    "def get_hL(x, D, L):\n",
    "    \n",
    "    # paso 1: Definición de constantes y propiedades\n",
    "    \n",
    "    # paso 2: Cálculo de la velociadad del flujo\n",
    "    \n",
    "    # paso 3: Número de Reynolds y rugosidad relativa\n",
    "    \n",
    "    # paso 4: Cálculo del factor de fricción a partir de Re y eps_r\n",
    "    \n",
    "    # paso 5. Cálculo de perdidas mayores de presión\n",
    "    \n",
    "    return hL\n",
    "\n",
    "# validación"
   ]
  },
  {
   "cell_type": "markdown",
   "id": "76d3f023",
   "metadata": {
    "deletable": false,
    "editable": false
   },
   "source": [
    "**(b) (1.0 pts)** Desarrolle una función `pump_system_root(Q)` tal que, para un caudal $Q$ en m$^3$/h, determine el valor de $Q_1$ (en m$^3$/s), $Q_2$ (en m$^3$/s) y $H_\\mathrm{sys}$ (en m) que satisface el sistema de ecuaciones (2a), (2b) y (2c).\n",
    "\n",
    "> **NOTA** Considere ` get_hL` para determinar $h_{L,1}$ y $h_{L,2}$.\n",
    "\n",
    "Verifique que `pump_system_root(Q = 108) = (0.004149837300192359, 0.02585016269980764, 19.047396674297296)`, donde el primer valor corresponde a $Q_1$, el segundo a $Q_2$ y el tercero a $H_\\mathrm{sys}$."
   ]
  },
  {
   "cell_type": "code",
   "execution_count": null,
   "id": "5b589d87",
   "metadata": {},
   "outputs": [],
   "source": [
    "# creaar función\n",
    "\n",
    "# validación"
   ]
  },
  {
   "cell_type": "markdown",
   "id": "446507d7",
   "metadata": {
    "deletable": false,
    "editable": false
   },
   "source": [
    "**(c) (0.7 pts)** En la siguiente celda se presentan datos tabulados para la curva de rendimiento de una bomba NK100 - 315."
   ]
  },
  {
   "cell_type": "code",
   "execution_count": null,
   "id": "33c4032f",
   "metadata": {
    "deletable": false,
    "editable": false
   },
   "outputs": [],
   "source": [
    "# Datos tabulados correspondientes a la curva de rendimiento de una bomba NK100-315\n",
    "import numpy as np\n",
    "Qbba = np.array([20.44,  102.22, 179.56, 235.56, 283.56, 320.89, 357.33, 400])\n",
    "Hbba = np.array([150.64, 149.14, 147.64, 142.70, 134.55, 126.18, 117.38, 104])"
   ]
  },
  {
   "cell_type": "markdown",
   "id": "f4ea2532",
   "metadata": {
    "deletable": false,
    "editable": false
   },
   "source": [
    "A partir de estos datos **grafique la curva de demanda del sistema y la curva de rendimiento de la bomba.** En el gráfico considere:\n",
    "- Curva de demanda del sistema `Hsys` vs ```Q```, con `Hsys` obtenido por `pump_system_root(Q)`, donde ```Q``` es un arreglo de 100 puntos igualmente espaciados en el intervalo $Q\\in[1, 400]$ m$^3$/h. Leyenda ```'Curva de demanda'```\n",
    "- Curva de rendimiento de la bomba utilizando los datos tabulados ```Qbba``` y ```Hbba```, unidos por línea punteada. Leyenda ```'Curva de rendimiento'```\n",
    "- Etiqueta en el eje horizontal ```'Caudal, Q (m3/h)'```\n",
    "- Etiqueta en el eje vertical ```'Altura hidrostática (m)'```"
   ]
  },
  {
   "cell_type": "code",
   "execution_count": null,
   "id": "b2447325",
   "metadata": {},
   "outputs": [],
   "source": [
    "# Gráfico de curvas de rendimiento y demanda"
   ]
  },
  {
   "cell_type": "markdown",
   "id": "a1e9d916",
   "metadata": {
    "deletable": false,
    "editable": false
   },
   "source": [
    "**(d) (0.7 pts)** Mediante ```root_scalar```, con un método de intervalo cerrado, determine: \n",
    "- $Q_\\mathrm{op}$ en m$^3$/h\n",
    "- $\\dot{W}_\\mathrm{bba}$ en kW. \n",
    "\n",
    "donde $Q_\\mathrm{op}$ corresponde al caudal dado por el cruce de las curvas de demanda y rendimiento, y la potencia de la bomba, $\\dot{W}_\\mathrm{bba} = \\rho g H_\\mathrm{op} Q_\\mathrm{op}$.\n",
    "\n",
    "Utilice ```print``` para mostrar su resultado"
   ]
  },
  {
   "cell_type": "code",
   "execution_count": null,
   "id": "387ecc7a",
   "metadata": {},
   "outputs": [],
   "source": [
    "# respuesta"
   ]
  }
 ],
 "metadata": {
  "kernelspec": {
   "display_name": "Python 3 (ipykernel)",
   "language": "python",
   "name": "python3"
  },
  "language_info": {
   "codemirror_mode": {
    "name": "ipython",
    "version": 3
   },
   "file_extension": ".py",
   "mimetype": "text/x-python",
   "name": "python",
   "nbconvert_exporter": "python",
   "pygments_lexer": "ipython3",
   "version": "3.9.13"
  },
  "latex_envs": {
   "LaTeX_envs_menu_present": true,
   "autoclose": false,
   "autocomplete": false,
   "bibliofile": "biblio.bib",
   "cite_by": "apalike",
   "current_citInitial": 1,
   "eqLabelWithNumbers": true,
   "eqNumInitial": 1,
   "hotkeys": {
    "equation": "Ctrl-E",
    "itemize": "Ctrl-I"
   },
   "labels_anchors": false,
   "latex_user_defs": false,
   "report_style_numbering": false,
   "user_envs_cfg": true
  },
  "toc": {
   "base_numbering": 1,
   "nav_menu": {},
   "number_sections": false,
   "sideBar": true,
   "skip_h1_title": true,
   "title_cell": "Tabla de contenidos",
   "title_sidebar": "Contenido",
   "toc_cell": false,
   "toc_position": {},
   "toc_section_display": true,
   "toc_window_display": false
  }
 },
 "nbformat": 4,
 "nbformat_minor": 5
}

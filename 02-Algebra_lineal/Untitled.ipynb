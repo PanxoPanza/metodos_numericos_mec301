{
 "cells": [
  {
   "cell_type": "code",
   "execution_count": 3,
   "id": "f696e542",
   "metadata": {},
   "outputs": [
    {
     "name": "stdout",
     "output_type": "stream",
     "text": [
      "=== Sistema bien condicionado ===\n",
      "Número de condición: 1.4999999999999996\n",
      "Solución: [2. 3.]\n",
      "\n",
      "=== Sistema mal condicionado ===\n",
      "Número de condición: 20002.00014999172\n",
      "Solución: [1.5 0.5]\n"
     ]
    }
   ],
   "source": [
    "import numpy as np\n",
    "\n",
    "# Matriz bien condicionada\n",
    "A1 = np.array([[2, 0],\n",
    "               [0, 3]], dtype=float)\n",
    "b1 = np.array([4, 9], dtype=float)\n",
    "\n",
    "# Matriz mal condicionada\n",
    "A2 = np.array([[1, 1],\n",
    "               [1, 1.0002]], dtype=float)\n",
    "b2 = np.array([2, 2.0001], dtype=float)\n",
    "\n",
    "# Resolver sistemas\n",
    "x1 = np.linalg.solve(A1, b1)\n",
    "x2 = np.linalg.solve(A2, b2)\n",
    "\n",
    "# Números de condición (norma 2)\n",
    "cond1 = np.linalg.cond(A1)\n",
    "cond2 = np.linalg.cond(A2)\n",
    "\n",
    "print(\"=== Sistema bien condicionado ===\")\n",
    "print(\"Número de condición:\", cond1)\n",
    "print(\"Solución:\", x1)\n",
    "\n",
    "print(\"\\n=== Sistema mal condicionado ===\")\n",
    "print(\"Número de condición:\", cond2)\n",
    "print(\"Solución:\", x2)\n"
   ]
  },
  {
   "cell_type": "code",
   "execution_count": null,
   "id": "fc2e0736",
   "metadata": {},
   "outputs": [],
   "source": []
  }
 ],
 "metadata": {
  "kernelspec": {
   "display_name": "Python 3 (ipykernel)",
   "language": "python",
   "name": "python3"
  },
  "language_info": {
   "codemirror_mode": {
    "name": "ipython",
    "version": 3
   },
   "file_extension": ".py",
   "mimetype": "text/x-python",
   "name": "python",
   "nbconvert_exporter": "python",
   "pygments_lexer": "ipython3",
   "version": "3.11.6"
  },
  "toc": {
   "base_numbering": 1,
   "nav_menu": {},
   "number_sections": true,
   "sideBar": true,
   "skip_h1_title": true,
   "title_cell": "Table of Contents",
   "title_sidebar": "Contents",
   "toc_cell": false,
   "toc_position": {},
   "toc_section_display": true,
   "toc_window_display": false
  }
 },
 "nbformat": 4,
 "nbformat_minor": 5
}

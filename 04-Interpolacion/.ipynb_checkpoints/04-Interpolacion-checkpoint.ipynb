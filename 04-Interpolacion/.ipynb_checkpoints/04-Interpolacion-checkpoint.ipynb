{
 "cells": [
  {
   "cell_type": "markdown",
   "id": "6d47d103",
   "metadata": {
    "slideshow": {
     "slide_type": "slide"
    }
   },
   "source": [
    "# Métodos de Interpolación"
   ]
  },
  {
   "cell_type": "markdown",
   "id": "dca8d40b",
   "metadata": {
    "slideshow": {
     "slide_type": "slide"
    }
   },
   "source": [
    "## Introducción"
   ]
  },
  {
   "cell_type": "markdown",
   "id": "bc8c7d5d",
   "metadata": {
    "slideshow": {
     "slide_type": "fragment"
    }
   },
   "source": [
    "La siguiente tabla muestra las propiedades del agua en función de la temperatura.\n",
    "\n",
    "<img src=\"./images/thermodynamic_properties.png\" width=\"600\" align= center>"
   ]
  },
  {
   "cell_type": "markdown",
   "id": "2eb32698",
   "metadata": {
    "slideshow": {
     "slide_type": "slide"
    }
   },
   "source": [
    "En ingeniería generalmente debemos utilizar estas tablas. Si quisieramos determinar, por ejemplo, el valor de la densidad a $10\\mathrm{^oC}$ necesitaríamos conocer la función $\\rho(T)$, ya que el valor no está en la tabla."
   ]
  },
  {
   "cell_type": "markdown",
   "id": "91a4b086",
   "metadata": {
    "slideshow": {
     "slide_type": "fragment"
    }
   },
   "source": [
    "¿Cuál es la función más adecuada para representar la densidad?"
   ]
  },
  {
   "cell_type": "markdown",
   "id": "c85a6824",
   "metadata": {
    "slideshow": {
     "slide_type": "fragment"
    }
   },
   "source": [
    "A diferencia de nuestro problema de ajuste por mínimos cuadrados, en este caso cada valor de la tabla es certero. Es decir, **nuestra función debe pasar estrictamente por cada valor indicado en la tabla**."
   ]
  },
  {
   "cell_type": "markdown",
   "id": "4c6dbe16",
   "metadata": {
    "slideshow": {
     "slide_type": "fragment"
    }
   },
   "source": [
    "Llamamos a esta función, **función de interpolación** y en esa clase revisaremos diferentes métodos para generarla."
   ]
  },
  {
   "cell_type": "markdown",
   "id": "26e7a855",
   "metadata": {
    "slideshow": {
     "slide_type": "slide"
    }
   },
   "source": [
    "## Interpolación Polinomial"
   ]
  },
  {
   "cell_type": "markdown",
   "id": "39f0cac2",
   "metadata": {
    "slideshow": {
     "slide_type": "fragment"
    }
   },
   "source": [
    "Este método **consiste en determinar una único polinomio de interpolación que pase por todos los puntos tabulados.**"
   ]
  },
  {
   "cell_type": "markdown",
   "id": "185ce275",
   "metadata": {
    "slideshow": {
     "slide_type": "fragment"
    }
   },
   "source": [
    "Matemáticamente, se puede demostrar que **para una série de $n+1$ valores tabulados ($x_i, y_i$ con $i = 0,1,\\cdots), n$, existe un único polinomio de grado $n$:**\n",
    "\n",
    "\\begin{equation*}\n",
    "f(x) = a_0 + a_1x + a_2x^2 + \\cdots + a_nx^n\n",
    "\\end{equation*}\n",
    "\n",
    "**que pasa por todos los $x_i, y_i$.**"
   ]
  },
  {
   "cell_type": "markdown",
   "id": "6c616318",
   "metadata": {
    "slideshow": {
     "slide_type": "fragment"
    }
   },
   "source": [
    "La forma más intuitiva para encontrar los coeficientes es formar \"$n+1$\" ecuaciones considerando la intersección con los $n+1$ datos. Sin embargo, este método no es eficiente."
   ]
  },
  {
   "cell_type": "markdown",
   "id": "69afca62",
   "metadata": {
    "slideshow": {
     "slide_type": "fragment"
    }
   },
   "source": [
    "Por esta razón, se han desarrollado múltiples métodos para encontrar el polinomio de forma eficiente (polinomios de [Newton](https://pythonnumericalmethods.berkeley.edu/notebooks/chapter17.05-Newtons-Polynomial-Interpolation.html), [Lagrange](https://pythonnumericalmethods.berkeley.edu/notebooks/chapter17.04-Lagrange-Polynomial-Interpolation.html), etc)."
   ]
  },
  {
   "cell_type": "markdown",
   "id": "d0bb56bb",
   "metadata": {
    "slideshow": {
     "slide_type": "slide"
    }
   },
   "source": [
    "### Polinomio de nterpolación mediante `numpy.polyfit`"
   ]
  },
  {
   "cell_type": "markdown",
   "id": "47c0c7bd",
   "metadata": {
    "slideshow": {
     "slide_type": "fragment"
    }
   },
   "source": [
    "En python, la forma más simple de generar un polinomio de interpolación es mediante `polyfit`."
   ]
  },
  {
   "cell_type": "markdown",
   "id": "0dc853db",
   "metadata": {
    "slideshow": {
     "slide_type": "fragment"
    }
   },
   "source": [
    "Estrictamente hablando, `polyfit` es un método de regresión lineal y, por lo tanto, no está clasificado como método de interpolación. Sin embargo, es importante entender que:\n",
    "\n",
    "<center><b>Ajustar un polinomio de grado $n$ con un set de $n+1$ datos tabulados, es equivalente a resolver un sistema de $n$ ecuaciones lineales con $n$ incognitas (solución exacta).</b></center>"
   ]
  },
  {
   "cell_type": "markdown",
   "id": "75f31399",
   "metadata": {
    "slideshow": {
     "slide_type": "slide"
    }
   },
   "source": [
    "Por ejemplo, consideremos el polinomio de ajuste para la muestra:\n",
    "\n",
    "```python\n",
    "# Datos de la muestra xi, yi\n",
    "xi = np.array([-5.0, -2.0, 0.5, 3.0, 5.0])\n",
    "yi = np.array([-2.0, -0.1, 2.0, 1.0,-1.0])\n",
    "```"
   ]
  },
  {
   "cell_type": "markdown",
   "id": "14554290",
   "metadata": {
    "slideshow": {
     "slide_type": "fragment"
    }
   },
   "source": [
    "Generaremos un **polinomio de grado 2** ($y= a_0 + a_1x + a_2x^2$) mediante ```polyfit```, considerando dos casos:\n",
    "1. Todos los datos tabulados (ajuste por mínimos cuadrados).\n",
    "```python\n",
    "# polinomio de ajuste\n",
    "ai = np.polyfit(xi,yi,2)\n",
    "```\n",
    "\n",
    "2. Solo los datos $\\{x_0,y_0\\}$; $\\{x_2,y_2\\}$ y $\\{x_4,y_4\\}$\n",
    "```python\n",
    "# polinomio de interpolación\n",
    "ai = np.polyfit([xi[0], xi[2], xi[4]],[yi[0], yi[2], yi[4]],2)\n",
    "```\n"
   ]
  },
  {
   "cell_type": "code",
   "execution_count": 1,
   "id": "6ac2a60f",
   "metadata": {
    "cell_style": "split",
    "slideshow": {
     "slide_type": "slide"
    }
   },
   "outputs": [],
   "source": [
    "%%capture showplot\n",
    "import matplotlib.pyplot as plt\n",
    "import numpy as np\n",
    "\n",
    "# Datos de la muestra xi, yi\n",
    "xi = np.array([-5.0, -2.0, 0.5, 3.0, 5.0])\n",
    "yi = np.array([-2.0, -0.1, 2.0, 1.0,-1.0])\n",
    "\n",
    "x = np.arange(-5, 5, .1) # arreglo en x para graficar\n",
    "\n",
    "# polinomio de ajuste grado 2\n",
    "ai = np.polyfit(xi,yi,2)\n",
    "y_fit = np.polyval(ai,x)\n",
    "\n",
    "# polinomio de interpolación grado 2\n",
    "ai = np.polyfit([xi[0], xi[2], xi[4]],[yi[0], yi[2], yi[4]],2)\n",
    "y_pol = np.polyval(ai,x)\n",
    "\n",
    "plt.figure(figsize = (4, 3))           # Tamaño de figura\n",
    "plt.rcParams.update({'font.size': 10}) # Tamaño de fuente\n",
    "\n",
    "# ploteamos los dos polinomios\n",
    "plt.plot(x, y_fit, '--k',label='modelo de ajuste')\n",
    "plt.plot(x, y_pol, 'b',label='interpolación')\n",
    "# ploteamos xi, yi\n",
    "plt.plot(xi, yi, 'ro',label='_datos $(x_i, y_i)$')\n",
    "\n",
    "plt.title('Polinomio grado 2 por mínimos cuadrados')\n",
    "plt.xlabel('x')\n",
    "plt.ylabel('y')\n",
    "plt.grid()\n",
    "plt.legend(frameon=False)\n",
    "plt.show()"
   ]
  },
  {
   "cell_type": "code",
   "execution_count": 22,
   "id": "3cd504af",
   "metadata": {
    "cell_style": "split",
    "slideshow": {
     "slide_type": "fragment"
    }
   },
   "outputs": [
    {
     "data": {
      "image/png": "[encoded data removed]",
      "text/plain": [
       "<Figure size 900x600 with 1 Axes>"
      ]
     },
     "metadata": {},
     "output_type": "display_data"
    }
   ],
   "source": [
    "showplot()"
   ]
  },
  {
   "cell_type": "markdown",
   "id": "3b3d1ff7",
   "metadata": {
    "cell_style": "split",
    "slideshow": {
     "slide_type": "fragment"
    }
   },
   "source": [
    "Notar como **la curva azul pasa exáctamente por los puntos $\\{x_i, y_i\\} = \\{-5.0, -2.0\\}$, $\\{0.5, 2.0\\}$ y $\\{5.0, -1.0\\}$**"
   ]
  },
  {
   "cell_type": "markdown",
   "id": "6d3489a5",
   "metadata": {
    "slideshow": {
     "slide_type": "slide"
    }
   },
   "source": [
    "### Problemas de oscilación en interpolación polinomial\n",
    "Un problema de los polinomios de interpolación es que **sufren problemas de oscilación a medida que aumenta el número de datos en la muestra**."
   ]
  },
  {
   "cell_type": "markdown",
   "id": "125d2659",
   "metadata": {
    "slideshow": {
     "slide_type": "fragment"
    }
   },
   "source": [
    "Este problema se conoce como el **fenómeno de Runge**, en referencia a Carl Runge, quién en 1901 demostró el mal condicionamiento de los polinomios de interpolación cuando se analizaba la siguiente función:\n",
    "\n",
    "\\begin{equation*}\n",
    "f(x)=\\frac{1}{1 + 25x^2}\n",
    "\\end{equation*}"
   ]
  },
  {
   "cell_type": "markdown",
   "id": "74a703f0",
   "metadata": {
    "slideshow": {
     "slide_type": "fragment"
    }
   },
   "source": [
    "Esta función se conoce como **función de Runge**"
   ]
  },
  {
   "cell_type": "markdown",
   "id": "ed6fb718",
   "metadata": {
    "slideshow": {
     "slide_type": "slide"
    }
   },
   "source": [
    "Analicemos este problema considerando el dominio $x\\in\\left[-1,1\\right]$. Utilizando polinomios de interpolación de grado 5, $p_5(x)$ y grado 7, $p_7(x)$, generados por `polyfit`."
   ]
  },
  {
   "cell_type": "code",
   "execution_count": 3,
   "id": "671d7bd5",
   "metadata": {
    "cell_style": "center",
    "slideshow": {
     "slide_type": "fragment"
    }
   },
   "outputs": [],
   "source": [
    "import numpy as np\n",
    "\n",
    "# generamos la funcion Runge\n",
    "f = lambda x: 1/(1+25*x**2)\n",
    "\n",
    "# Polinomio con 5 datos igualmente espaciados\n",
    "xi5 = np.linspace(-1,1,5)          # xi\n",
    "yi5 = f(xi5)                       # yi \n",
    "p5 = np.polyfit(xi5,yi5,len(xi5)-1) # coeficientes del polinomio de interpolación\n",
    "\n",
    "# Polinomio con 7 datos igualmente espaciados\n",
    "xi7 = np.linspace(-1,1,7)          # xi\n",
    "yi7 = f(xi7)                       # yi \n",
    "p7 = np.polyfit(xi7,yi7,len(xi7)-1) # coeficientes del polinomio de interpolación"
   ]
  },
  {
   "cell_type": "markdown",
   "id": "a4640f35",
   "metadata": {
    "slideshow": {
     "slide_type": "slide"
    }
   },
   "source": [
    "Graficamos el resultado"
   ]
  },
  {
   "cell_type": "code",
   "execution_count": 4,
   "id": "3d9107aa",
   "metadata": {
    "cell_style": "split"
   },
   "outputs": [],
   "source": [
    "%%capture showplot1\n",
    "import matplotlib.pyplot as plt\n",
    "plt.figure(figsize = (4, 3))           # Tamaño de figura\n",
    "plt.rcParams.update({'font.size': 10}) # Tamaño de fuente\n",
    "\n",
    "# arreglo para plotear\n",
    "x = np.linspace(-1,1,100)\n",
    "\n",
    "# ploteamos la función de Runge\n",
    "plt.plot(x,f(x),'--k', label='Runge')\n",
    "\n",
    "# ploteamos los polinomios de Lagrange\n",
    "plt.plot(x, np.polyval(p5,x), 'r',label='polinomio grado 5')\n",
    "plt.plot(x, np.polyval(p7,x), 'b',label='polinomio grado 7')\n",
    "\n",
    "# ploteamos los xi, yi\n",
    "# ! usamos '_' al comienzo del label para suprimir el output en \"legend\"\n",
    "plt.plot(xi5, yi5, 'ro',label='_$x_i, y_i$ para $P_5(x)$') \n",
    "plt.plot(xi7, yi7, 'bo',label='_$x_i, y_i$ para $P_7(x)$')\n",
    "\n",
    "plt.title('Problema de oscilación por interpolación')\n",
    "plt.xlabel('x')\n",
    "plt.ylabel('y')\n",
    "plt.grid()\n",
    "plt.legend(frameon=False)\n",
    "plt.show()"
   ]
  },
  {
   "cell_type": "code",
   "execution_count": 5,
   "id": "d97a0954",
   "metadata": {
    "cell_style": "split"
   },
   "outputs": [],
   "source": [
    "showplot1()"
   ]
  },
  {
   "cell_type": "markdown",
   "id": "f2ec2683",
   "metadata": {
    "cell_style": "center",
    "slideshow": {
     "slide_type": "slide"
    }
   },
   "source": [
    "## Interpolación por tramos (*piecewise polynomial*)\n",
    "Este es el método más confiable para evitar los problemas de oscilación, y el más utilizado en la actualidad"
   ]
  },
  {
   "cell_type": "markdown",
   "id": "ce2e3039",
   "metadata": {
    "slideshow": {
     "slide_type": "fragment"
    }
   },
   "source": [
    "\n",
    "En este caso, para un set de $n+1$ datos $\\{x_i, y_i\\}$, con $i = 0,1,...,n$, el método de interpolación por tramos consiste en contruir $n$ polinomios de interpolación para los $n$ intervalos interiores.\n",
    "\n",
    "<img src=\"./images/piecewise_interpolation.png\" width=\"800\" align= center>"
   ]
  },
  {
   "cell_type": "markdown",
   "id": "29b7fe6f",
   "metadata": {
    "slideshow": {
     "slide_type": "slide"
    }
   },
   "source": [
    "### Interpolación o *spline* lineal (`numpy.interp`)\n",
    "El **método de interpolación lineal consiste en construir $n$ rectas $\\hat{y}_i(x)$,** cada una definida entre dos puntos $\\{x_i, y_i\\}$ y $\\{x_{i+1}, y_{i+1}\\}$ de la forma:\n",
    "\n",
    "\\begin{equation*}\n",
    "\\hat{y}_i(x) = y_i + \\frac{y_{i+1} - y_{i}}{x_{i+1} - x_{i}}(x - x_{i}),\\quad\\quad x\\in\\left[x_i, x_{i+1}\\right]\n",
    "\\end{equation*}"
   ]
  },
  {
   "cell_type": "markdown",
   "id": "57340928",
   "metadata": {
    "slideshow": {
     "slide_type": "fragment"
    }
   },
   "source": [
    "En python, esta función esta implementada en ```numpy.interp``` (ver documentación [acá](https://numpy.org/doc/stable/reference/generated/numpy.interp.html)). "
   ]
  },
  {
   "cell_type": "code",
   "execution_count": 6,
   "id": "30830241",
   "metadata": {
    "cell_style": "center",
    "slideshow": {
     "slide_type": "fragment"
    }
   },
   "outputs": [],
   "source": [
    "import numpy as np\n",
    "\n",
    "# datos tabulados\n",
    "xi = [0, 1, 2] # xi\n",
    "yi = [1, 3, 2] # yi\n",
    "\n",
    "x0 = 1.5                   # valor x para determinar\n",
    "y0 = np.interp(x0, xi, yi) # interpolamos y(x) en x0 = 1.5\n",
    "print('y0 = y(x0 = 1.5) =',y0)"
   ]
  },
  {
   "cell_type": "markdown",
   "id": "b24bbe95",
   "metadata": {
    "slideshow": {
     "slide_type": "slide"
    }
   },
   "source": [
    "Podemos crear una función de interpolación lineal usando funciones `lambda` y `numpy interp`. Esto nos permite llamar al polinomio múltiples veces, sin tener que ingresar los datos tabulados repetitivamente."
   ]
  },
  {
   "cell_type": "code",
   "execution_count": 7,
   "id": "3ec21bb6",
   "metadata": {
    "slideshow": {
     "slide_type": "fragment"
    }
   },
   "outputs": [],
   "source": [
    "# datos tabulados\n",
    "xi = [0, 1, 2] # xi\n",
    "yi = [1, 3, 2] # yi\n",
    "\n",
    "y = lambda x: np.interp(x, xi, yi) # función de interpolación lineal"
   ]
  },
  {
   "cell_type": "code",
   "execution_count": 8,
   "id": "2fe75264",
   "metadata": {
    "slideshow": {
     "slide_type": "fragment"
    }
   },
   "outputs": [],
   "source": [
    "y(0.3) # x = 0.3"
   ]
  },
  {
   "cell_type": "code",
   "execution_count": 9,
   "id": "bffdf8c5",
   "metadata": {},
   "outputs": [],
   "source": [
    "y(0.5) # x = 0.5"
   ]
  },
  {
   "cell_type": "code",
   "execution_count": 10,
   "id": "3006532e",
   "metadata": {
    "slideshow": {
     "slide_type": "-"
    }
   },
   "outputs": [],
   "source": [
    "x = np.array([0.3, 0.5, 0.8]) # arreglo de datos \n",
    "y(x)"
   ]
  },
  {
   "cell_type": "markdown",
   "id": "8ff4c583",
   "metadata": {
    "slideshow": {
     "slide_type": "slide"
    }
   },
   "source": [
    "Este método es útil para graficar."
   ]
  },
  {
   "cell_type": "code",
   "execution_count": 11,
   "id": "5c334cf2",
   "metadata": {
    "cell_style": "split",
    "slideshow": {
     "slide_type": "fragment"
    }
   },
   "outputs": [],
   "source": [
    "%%capture showplot2\n",
    "import matplotlib.pyplot as plt\n",
    "import numpy as np\n",
    "plt.figure(figsize = (4, 3))           # Tamaño de figura\n",
    "plt.rcParams.update({'font.size': 10}) # Tamaño de fuente\n",
    "\n",
    "# generamos datos para graficar y función de interpolación\n",
    "x = np.linspace(0,2.0,100)             # 100 puntos entre 0 y 2\n",
    "\n",
    "plt.plot(x, y(x), '-b', label='$y(x)$')             # graficamos la función\n",
    "plt.plot(xi, yi, 'ob')                              # graficamos los xi, yi \n",
    "plt.plot(1.5, y(1.5), 'or', label='$y(x_0 = 1.5)$') # graficamos y(1.5)\n",
    "\n",
    "plt.title('Interpolación lineal (interp1d de scipy)')\n",
    "plt.xlabel('x')\n",
    "plt.ylabel('y')\n",
    "plt.grid()\n",
    "plt.legend(frameon=False)\n",
    "plt.show()"
   ]
  },
  {
   "cell_type": "code",
   "execution_count": 12,
   "id": "77f3eecd",
   "metadata": {
    "cell_style": "split",
    "slideshow": {
     "slide_type": "fragment"
    }
   },
   "outputs": [],
   "source": [
    "showplot2()"
   ]
  },
  {
   "cell_type": "markdown",
   "id": "a75b0f1a",
   "metadata": {
    "slideshow": {
     "slide_type": "slide"
    }
   },
   "source": [
    "Por defecto, `numpy.interp` entregará los valores extremos cuando intentemos extrapolar."
   ]
  },
  {
   "cell_type": "code",
   "execution_count": 13,
   "id": "af5be245",
   "metadata": {
    "cell_style": "split",
    "slideshow": {
     "slide_type": "fragment"
    }
   },
   "outputs": [],
   "source": [
    "%%capture showplot3\n",
    "import matplotlib.pyplot as plt\n",
    "import numpy as np\n",
    "plt.figure(figsize = (4, 3))           # Tamaño de figura\n",
    "plt.rcParams.update({'font.size': 10}) # Tamaño de fuente\n",
    "\n",
    "# generamos datos para graficar y función de interpolación\n",
    "x = np.linspace(-1,3,100)             # 100 puntos entre 0 y 2\n",
    "\n",
    "plt.plot(x, y(x), '-b', label='$y(x)$')             # graficamos la función\n",
    "plt.plot(xi, yi, 'ob')                              # graficamos los xi, yi \n",
    "plt.plot(1.5, y(1.5), 'or', label='$y(x_0 = 1.5)$') # graficamos y(1.5)\n",
    "\n",
    "plt.title('Interpolación lineal (interp1d de scipy)')\n",
    "plt.xlabel('x')\n",
    "plt.ylabel('y')\n",
    "plt.grid()\n",
    "plt.legend(frameon=False)\n",
    "plt.show()"
   ]
  },
  {
   "cell_type": "code",
   "execution_count": 14,
   "id": "f9aa8998",
   "metadata": {
    "cell_style": "split"
   },
   "outputs": [],
   "source": [
    "showplot3()"
   ]
  },
  {
   "cell_type": "markdown",
   "id": "016c4eee",
   "metadata": {
    "slideshow": {
     "slide_type": "slide"
    }
   },
   "source": [
    "### Interpolación *spline* cúbico\n",
    "El *spline* cúbico consiste en generar una función de interpolación basado en una serie de polinomios cúbicos $S_i(x) = a_i x^3 + b_i x^2 + c_i x + d_i$, cada uno definido en el tramo $x\\in\\left[x_i, x_{i+1}\\right]$"
   ]
  },
  {
   "cell_type": "markdown",
   "id": "f30c255e",
   "metadata": {
    "slideshow": {
     "slide_type": "fragment"
    }
   },
   "source": [
    "Para encontrar la función de interpolación debemos determinar los coecientes $a_i, b_i, c_i, d_i$ de cada $S_i(x)$."
   ]
  },
  {
   "cell_type": "markdown",
   "id": "31eee62d",
   "metadata": {
    "slideshow": {
     "slide_type": "fragment"
    }
   },
   "source": [
    "Para una serie de $n+1$ datos tabulados $\\{x_i, y_i\\}$, con $i = 0,1,...,n$, se necesitan $n$ polinomios $S_i(x)$. Esto nos da un **total de $4n$ incognitas y, por lo tanto, necesitamos de $4n$ ecuaciones linealmente independientes.**"
   ]
  },
  {
   "cell_type": "markdown",
   "id": "e5d35eca",
   "metadata": {
    "slideshow": {
     "slide_type": "slide"
    }
   },
   "source": [
    "Primero, cada polinomio $S_i(x)$ debe intersectar los valores extremos del domino en el que está definido. En otras palabras:\n",
    "\n",
    "\\begin{eqnarray*}\n",
    "S_i(x_{i-1}) &=& a_i (x_{i-1})^3 &+& b_i (x_{i-1})^2 &+& c_i (x_{i-1}) &+& d_i &=& y_{i-1},\\quad &i& = 1,\\ldots,n,\\\\\n",
    "S_i(x_i) &=& a_i (x_{i})^3 &+& b_i (x_{i})^2 &+& c_i (x_{i}) &+& d_i &=& y_i,\\quad &i& = 1,\\ldots,n,\n",
    "\\end{eqnarray*}\n",
    "\n",
    "esto nos da un total de $2n$ ecuaciones linealmente independientes"
   ]
  },
  {
   "cell_type": "markdown",
   "id": "5d4af375",
   "metadata": {
    "slideshow": {
     "slide_type": "fragment"
    }
   },
   "source": [
    "Para asegurar una unión suave entre cada tramo, imponemos como condición que **la primera y segunda derivada entre dos polinomios sean iguales en los nodos centrales.** Matemáticamente. \n",
    "\n",
    "\\begin{eqnarray*}\n",
    "S^{\\prime}_i(x_{i}) &=& S^{\\prime}_{i+1}(x_{i}),\\quad i = 1,\\ldots,n-1,\\\\\n",
    "S''_i(x_{i}) &=& S''_{i+1}(x_{i}),\\quad i = 1,\\ldots,n-1,\n",
    "\\end{eqnarray*}\n",
    "\n",
    "lo que nos da un total de $2(n - 1)$ ecuaciones linealmente independientes."
   ]
  },
  {
   "cell_type": "markdown",
   "id": "0b82bec0",
   "metadata": {
    "slideshow": {
     "slide_type": "slide"
    }
   },
   "source": [
    "Las últimas dos ecuaciones se determinan por las condiciones de borde en los extremos $y(x_0)$,  $y(x_n)$. Tenemos distintas alternativas:"
   ]
  },
  {
   "cell_type": "markdown",
   "id": "4dad4c74",
   "metadata": {
    "slideshow": {
     "slide_type": "fragment"
    }
   },
   "source": [
    "- ***Not a knot***. Imponemos una condición para la tercera derivada en los extremos, de manera que $S_1'''(x_1) = S_2'''(x_1)$ y $S_{n-1}'''(x_{n-1}) = S_n'''(x_{n-1})$"
   ]
  },
  {
   "cell_type": "markdown",
   "id": "876d90f3",
   "metadata": {
    "slideshow": {
     "slide_type": "fragment"
    }
   },
   "source": [
    "- ***Clamped***. La primera derivada en los extremos, $S_1'(x_0) = S_n'(x_n) = 0$"
   ]
  },
  {
   "cell_type": "markdown",
   "id": "84590af9",
   "metadata": {
    "slideshow": {
     "slide_type": "fragment"
    }
   },
   "source": [
    "- ***Natural***. La segunda derivada en los extremos, $S_1''(x_0) = S_n''(x_n) = 0$"
   ]
  },
  {
   "cell_type": "markdown",
   "id": "1dc82bc4",
   "metadata": {
    "slideshow": {
     "slide_type": "fragment"
    }
   },
   "source": [
    "- ***Periodic***. Se usume una función periódica, de manera que $S_1'(x_0) = S_n'(x_n)$, y $S_1''(x_0) = S_n''(x_n)$. **Solo válida para funciones periodicas**, es decir cuando $y(x_0) = y(x_n)$."
   ]
  },
  {
   "cell_type": "markdown",
   "id": "86f1268d",
   "metadata": {
    "slideshow": {
     "slide_type": "slide"
    }
   },
   "source": [
    "En python, interpolación cúbica está implementada a través de la función ```CubicSpline``` del módulo `interpolate` de la librería ```scipy``` (para documentación ver [acá](https://docs.scipy.org/doc/scipy/reference/generated/scipy.interpolate.CubicSpline.html))."
   ]
  },
  {
   "cell_type": "markdown",
   "id": "c3d3efbb",
   "metadata": {
    "slideshow": {
     "slide_type": "fragment"
    }
   },
   "source": [
    "`CubicSpline`, por defecto,  genera una **función de interpolación** a partir de la muestra $x_i, y_i$\n",
    "```python \n",
    "from scipy.interpolate import CubicSpline\n",
    "y = CubicSpline(xi,yi) # Genera una función y(x)\n",
    "```"
   ]
  },
  {
   "cell_type": "markdown",
   "id": "b1257363",
   "metadata": {
    "slideshow": {
     "slide_type": "slide"
    }
   },
   "source": [
    "Podemos controlar las condiciones de borde mediante un tercer argumento ```bc_type```:\n",
    "```python \n",
    "from scipy.interpolate import CubicSpline\n",
    "y = CubicSpline(xi,yi,bc_type='not-a-knot') # Condición de borde not a knot\n",
    "\n",
    "y = CubicSpline(xi,yi,bc_type='periodic')   # Condición de borde periodica\n",
    "\n",
    "y = CubicSpline(xi,yi,bc_type='clamped')    # Condición de borde \"clamped\"\n",
    "\n",
    "y = CubicSpline(xi,yi,bc_type='natural')    # Condición de borde\"natural\"\n",
    "\n",
    "```"
   ]
  },
  {
   "cell_type": "markdown",
   "id": "cd892c98",
   "metadata": {
    "slideshow": {
     "slide_type": "fragment"
    }
   },
   "source": [
    "También podemos usar ```bc_type``` para especificar el valor de las derivadas en los extremos:\n",
    "```python \n",
    "# Primera derivada = 0.5 en los extremos\"\n",
    "y = CubicSpline(xi,yi,bc_type=((1, 0.5), (1, 0.5))) \n",
    "\n",
    "# Segunda derivada = 0.5 en los extremos\"\n",
    "y = CubicSpline(xi,yi,bc_type=((2, 0.5), (2, 0.5)) ) \n",
    "```"
   ]
  },
  {
   "cell_type": "markdown",
   "id": "1eb437d4",
   "metadata": {
    "slideshow": {
     "slide_type": "slide"
    }
   },
   "source": [
    "Particularmente, la instrucción: \n",
    "- ```bc_type=((1, 0.0), (1, 0.0))``` es equivalente a ```clamped```, y\n",
    "- ```bc_type=((2, 0.0), (2, 0.0))``` es equivalente a ```natural```."
   ]
  },
  {
   "cell_type": "markdown",
   "id": "5f5ea2d7",
   "metadata": {
    "slideshow": {
     "slide_type": "fragment"
    }
   },
   "source": [
    "Por defecto, ```CubicSpline```asume ```bc_type='not-a-knot'```"
   ]
  },
  {
   "cell_type": "markdown",
   "id": "bab6e5d9",
   "metadata": {
    "slideshow": {
     "slide_type": "slide"
    }
   },
   "source": [
    "Analicemos el comportamiento de las condiciones de borde ```not-a-knot```, ```clamped```y ```spline``` en la interpolación spline de los datos *$x_i$ = [3, 5, 7, 9]*, *$y_i$ = [2.5, 1.5, 2.0, 1.8]*"
   ]
  },
  {
   "cell_type": "code",
   "execution_count": 15,
   "id": "9e49b795",
   "metadata": {
    "slideshow": {
     "slide_type": "fragment"
    }
   },
   "outputs": [],
   "source": [
    "from scipy.interpolate import CubicSpline\n",
    "import numpy as np\n",
    "\n",
    "xi = np.array([  3,   5,   7,   9])\n",
    "yi = np.array([2.5, 1.5, 2.0, 1.8])\n",
    "\n",
    "# Generamos 3 funciones de interpolación \"spline\" con distintas condiciones de borde\n",
    "y_1 = CubicSpline(xi,yi,bc_type='not-a-knot')\n",
    "y_2 = CubicSpline(xi,yi,bc_type='clamped')\n",
    "y_3 = CubicSpline(xi,yi,bc_type='natural')"
   ]
  },
  {
   "cell_type": "code",
   "execution_count": 16,
   "id": "9a997ebd",
   "metadata": {
    "cell_style": "split",
    "slideshow": {
     "slide_type": "slide"
    }
   },
   "outputs": [],
   "source": [
    "%%capture showplot4\n",
    "\n",
    "import matplotlib.pyplot as plt\n",
    "import numpy as np\n",
    "plt.figure(figsize = (9, 7))           # Tamaño de figura\n",
    "plt.rcParams.update({'font.size': 18}) # Tamaño de fuente\n",
    "\n",
    "x = np.linspace(2,10,100) # variable para graficarS\n",
    "\n",
    "plt.plot(xi, yi, 'ko')                         # graficamos los xi, yi\n",
    "plt.plot(x, y_1(x), '-b', label='not-a-knot')  # graficamos la función\n",
    "plt.plot(x, y_2(x), '-r', label='clamped')     # graficamos la función\n",
    "plt.plot(x, y_3(x), '-g', label='natural')     # graficamos la función\n",
    "\n",
    "plt.title('Interpolación spline')\n",
    "plt.xlabel('x')\n",
    "plt.ylabel('y')\n",
    "plt.grid()\n",
    "plt.legend(frameon=False)\n",
    "plt.show()"
   ]
  },
  {
   "cell_type": "code",
   "execution_count": 17,
   "id": "2fa434fd",
   "metadata": {
    "cell_style": "split"
   },
   "outputs": [],
   "source": [
    "showplot4()"
   ]
  },
  {
   "cell_type": "markdown",
   "id": "b8cd9d1e",
   "metadata": {
    "slideshow": {
     "slide_type": "slide"
    }
   },
   "source": [
    "```CubicSpline``` además nos permite determinar las derivadas de la función de interpolación. Para esto, debemos incluir un índice en el segundo argumento de la función generada:\n",
    "```python\n",
    "from scipy.interpolate import CubicSpline\n",
    "y = CubicSpline(xi,yi) # Generamos la función de interpolación\n",
    "\n",
    "# Derivadas\n",
    "y(x,1) # Primera derivada\n",
    "y(x,2) # Segunda derivada\n",
    "y(x,3) # Tercera derivada\n",
    "```"
   ]
  },
  {
   "cell_type": "markdown",
   "id": "d9b3e77f",
   "metadata": {
    "slideshow": {
     "slide_type": "fragment"
    }
   },
   "source": [
    "Debido a que ```CubicSpline``` está basada en un polinomio de interpolación cúbico, **solo admite hasta la tercera derivada**."
   ]
  },
  {
   "cell_type": "code",
   "execution_count": 18,
   "id": "f780f5e5",
   "metadata": {
    "cell_style": "split",
    "slideshow": {
     "slide_type": "slide"
    }
   },
   "outputs": [],
   "source": [
    "%%capture showplot5\n",
    "from scipy.interpolate import CubicSpline\n",
    "import matplotlib.pyplot as plt\n",
    "import numpy as np\n",
    "\n",
    "xi = np.linspace(-2*np.pi,2*np.pi,20)\n",
    "yi = np.sin(xi)\n",
    "\n",
    "# spline \"not a knot\"\n",
    "y_1 = CubicSpline(xi,yi)\n",
    "\n",
    "plt.figure(figsize = (4, 3))           # Tamaño de figura\n",
    "plt.rcParams.update({'font.size': 10}) # Tamaño de fuente\n",
    "\n",
    "x = np.linspace(-2*np.pi,2*np.pi,100) # arreglo para graficar\n",
    "\n",
    "plt.plot(x, y_1(x), '--k',label=r\"$y(x)$\")     # graficamos la función\n",
    "plt.plot(x, y_1(x,1), '-b',label=r\"$y'(x)$\")   # primera derivada\n",
    "plt.plot(x, y_1(x,2), '-r',label=r\"$y''(x)$\")  # segunda derivada\n",
    "plt.plot(x, y_1(x,3), '-g',label=r\"$y'''(x)$\") # segunda derivada\n",
    "\n",
    "plt.title('Derivadas interpolación spline')\n",
    "plt.xlabel('x')\n",
    "plt.ylabel('y')\n",
    "plt.ylim(-2,2)\n",
    "plt.grid()\n",
    "plt.legend()\n",
    "plt.show()"
   ]
  },
  {
   "cell_type": "code",
   "execution_count": 19,
   "id": "e72c99bc",
   "metadata": {
    "cell_style": "split",
    "slideshow": {
     "slide_type": "-"
    }
   },
   "outputs": [],
   "source": [
    "showplot5()"
   ]
  },
  {
   "cell_type": "markdown",
   "id": "09f7686c",
   "metadata": {
    "slideshow": {
     "slide_type": "slide"
    }
   },
   "source": [
    "Por defecto, ```CubicSpline``` extrapola los valores fuera de los valores extremos. Podemos suprimir la extrapolación mediante la instrucción ```extrapolate=False```. En este caso, la función entregará ```NaN``` para los valores extrapolados."
   ]
  },
  {
   "cell_type": "code",
   "execution_count": 20,
   "id": "062a5dbb",
   "metadata": {
    "cell_style": "split",
    "slideshow": {
     "slide_type": "fragment"
    }
   },
   "outputs": [],
   "source": [
    "%%capture showplot6\n",
    "from scipy.interpolate import CubicSpline\n",
    "import matplotlib.pyplot as plt\n",
    "import numpy as np\n",
    "\n",
    "xi = np.array([  3,   5,   7,   9])\n",
    "yi = np.array([2.5, 1.5, 2.0, 1.8])\n",
    "\n",
    "# spline \"not a knot\" sin extrapolación\n",
    "y_1 = CubicSpline(xi,yi,extrapolate=False)\n",
    "\n",
    "plt.figure(figsize = (9, 6))           # Tamaño de figura\n",
    "plt.rcParams.update({'font.size': 18}) # Tamaño de fuente\n",
    "\n",
    "x = np.linspace(2,10,100) # arreglo para graficar\n",
    "\n",
    "plt.plot(xi, yi, 'ok')     # graficamos los xi, yi\n",
    "plt.plot(x, y_1(x), '-b')  # graficamos la función\n",
    "\n",
    "plt.title('Interpolación spline')\n",
    "plt.xlabel('x')\n",
    "plt.ylabel('y')\n",
    "plt.grid()\n",
    "plt.show()"
   ]
  },
  {
   "cell_type": "code",
   "execution_count": 21,
   "id": "9d96a80a",
   "metadata": {
    "cell_style": "split"
   },
   "outputs": [],
   "source": [
    "showplot6()"
   ]
  },
  {
   "cell_type": "markdown",
   "id": "33d3b1b6",
   "metadata": {
    "slideshow": {
     "slide_type": "slide"
    }
   },
   "source": [
    "## Referencias\n",
    "- Kong Q., Siauw T., Bayen A. M. **Chapter 16: Interpolation** in *[Python Programming and Numerical Methods – A Guide for Engineers and Scientists](https://pythonnumericalmethods.berkeley.edu/notebooks/chapter17.00-Interpolation.html)*, 1st Ed., Academic Press, 2021\n",
    "\n",
    "- Chapra S., Canale R. **Capítulo 18: Interpolación** en *Métodos Numéricos para Ingenieros*, 6ta Ed., McGraw Hill, 2011"
   ]
  }
 ],
 "metadata": {
  "celltoolbar": "Slideshow",
  "kernelspec": {
   "display_name": "Python 3 (ipykernel)",
   "language": "python",
   "name": "python3"
  },
  "language_info": {
   "codemirror_mode": {
    "name": "ipython",
    "version": 3
   },
   "file_extension": ".py",
   "mimetype": "text/x-python",
   "name": "python",
   "nbconvert_exporter": "python",
   "pygments_lexer": "ipython3",
   "version": "3.10.11"
  },
  "latex_envs": {
   "LaTeX_envs_menu_present": true,
   "autoclose": false,
   "autocomplete": true,
   "bibliofile": "biblio.bib",
   "cite_by": "apalike",
   "current_citInitial": 1,
   "eqLabelWithNumbers": true,
   "eqNumInitial": 1,
   "hotkeys": {
    "equation": "Ctrl-E",
    "itemize": "Ctrl-I"
   },
   "labels_anchors": false,
   "latex_user_defs": false,
   "report_style_numbering": true,
   "user_envs_cfg": false
  },
  "rise": {
   "height": "100%",
   "theme": "simple",
   "width": "100%"
  },
  "toc": {
   "base_numbering": "",
   "nav_menu": {},
   "number_sections": false,
   "sideBar": true,
   "skip_h1_title": true,
   "title_cell": "Contenidos",
   "title_sidebar": "Contenidos",
   "toc_cell": false,
   "toc_position": {
    "height": "calc(100% - 180px)",
    "left": "10px",
    "top": "150px",
    "width": "303.837px"
   },
   "toc_section_display": true,
   "toc_window_display": false
  },
  "varInspector": {
   "cols": {
    "lenName": 16,
    "lenType": 16,
    "lenVar": 40
   },
   "kernels_config": {
    "python": {
     "delete_cmd_postfix": "",
     "delete_cmd_prefix": "del ",
     "library": "var_list.py",
     "varRefreshCmd": "print(var_dic_list())"
    },
    "r": {
     "delete_cmd_postfix": ") ",
     "delete_cmd_prefix": "rm(",
     "library": "var_list.r",
     "varRefreshCmd": "cat(var_dic_list()) "
    }
   },
   "types_to_exclude": [
    "module",
    "function",
    "builtin_function_or_method",
    "instance",
    "_Feature"
   ],
   "window_display": false
  }
 },
 "nbformat": 4,
 "nbformat_minor": 5
}

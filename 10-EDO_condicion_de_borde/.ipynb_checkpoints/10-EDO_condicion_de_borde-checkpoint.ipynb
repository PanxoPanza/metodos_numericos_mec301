{
 "cells": [
  {
   "cell_type": "markdown",
   "id": "6d47d103",
   "metadata": {
    "cell_style": "center",
    "slideshow": {
     "slide_type": "slide"
    }
   },
   "source": [
    "# Problema de valor en la frontera"
   ]
  },
  {
   "cell_type": "markdown",
   "id": "07ce8d9e",
   "metadata": {
    "slideshow": {
     "slide_type": "slide"
    }
   },
   "source": [
    "## Introducción\n"
   ]
  },
  {
   "cell_type": "markdown",
   "id": "92acc690",
   "metadata": {
    "slideshow": {
     "slide_type": "fragment"
    }
   },
   "source": [
    "\n",
    "\n",
    "En la unidad anterior nos enfocamos en ecuación diferenciales ordinarias condionadas por valores iniciales o **problema de valor inicial**."
   ]
  },
  {
   "cell_type": "markdown",
   "id": "4e5fdbe3",
   "metadata": {
    "cell_style": "center",
    "slideshow": {
     "slide_type": "fragment"
    }
   },
   "source": [
    "Repasando la ecuación del péndulo:\n",
    "\n",
    "**Ecuación gobernante**\n",
    "\n",
    "\\begin{equation*}\n",
    "ml\\frac{d^2}{dt^2}\\Theta(t) + \\kappa\\frac{d}{dt}\\Theta(t) + mg \\sin \\Theta(t) = 0\n",
    "\\end{equation*}\n",
    "\n",
    "**Condiciones iniciales**\n",
    "\\begin{align*}\n",
    "\\dot{\\Theta}(t = 0) &= 0 \\\\\n",
    "\\Theta(t = 0) &= \\Theta_0\n",
    "\\end{align*}"
   ]
  },
  {
   "cell_type": "markdown",
   "id": "c6e8323a",
   "metadata": {
    "cell_style": "center",
    "slideshow": {
     "slide_type": "slide"
    }
   },
   "source": [
    "Ahora, supontagamos que en el problema del péndulo conocemos el ángulo en $t = 0$, y en un tiempo $t = t_1$, tal que $\\Theta(t_1) = \\Theta_1$. "
   ]
  },
  {
   "cell_type": "markdown",
   "id": "0b0dcf0c",
   "metadata": {
    "cell_style": "center",
    "slideshow": {
     "slide_type": "fragment"
    }
   },
   "source": [
    "En este caso, la EDO está condicionada por **condiciones de frontera**, en la forma\n"
   ]
  },
  {
   "cell_type": "markdown",
   "id": "7d0b90d0",
   "metadata": {
    "cell_style": "center",
    "slideshow": {
     "slide_type": "fragment"
    }
   },
   "source": [
    "**Ecuación gobernante**\n",
    "\n",
    "\\begin{equation*}\n",
    "ml\\frac{d^2}{dt^2}\\Theta(t) + \\kappa\\frac{d}{dt}\\Theta(t) + mg \\sin \\Theta(t) = 0\n",
    "\\end{equation*}\n",
    "\n",
    "**Condiciones de borde**\n",
    "\\begin{align*}\n",
    "\\Theta(t = 0) &= \\Theta_0 \\\\\n",
    "\\Theta(t = t_1) &= \\Theta_1\n",
    "\\end{align*}"
   ]
  },
  {
   "cell_type": "markdown",
   "id": "07f89680",
   "metadata": {
    "slideshow": {
     "slide_type": "fragment"
    }
   },
   "source": [
    "Una condición de borde, así se define como el **condicionamiento de una solución en valores extremos**"
   ]
  },
  {
   "cell_type": "markdown",
   "id": "ab042d59",
   "metadata": {
    "slideshow": {
     "slide_type": "slide"
    }
   },
   "source": [
    "Aunque en el ejemplo anterior consideramos la variable tiempo, los **problemas de condiciones de borde o valor de frontera, son normalmente aplicados para variables espaciales.**"
   ]
  },
  {
   "cell_type": "markdown",
   "id": "d93b2849",
   "metadata": {
    "cell_style": "center",
    "slideshow": {
     "slide_type": "slide"
    }
   },
   "source": [
    "Por ejemplo, consideremos el problema de una barra de largo $L$ y diámetro $d$, con temperatura constante en los extremos izquierdo y derecho $T_a$ y $T_b$, respectivamente, y expuesta a pérdidas de calor por convección y radiación."
   ]
  },
  {
   "cell_type": "markdown",
   "id": "41aaf247",
   "metadata": {
    "cell_style": "split"
   },
   "source": [
    "<img src=\"./images/heated_bar.png\" width=\"400px\" align= center>"
   ]
  },
  {
   "cell_type": "markdown",
   "id": "159dec8b",
   "metadata": {
    "cell_style": "split",
    "slideshow": {
     "slide_type": "fragment"
    }
   },
   "source": [
    "La ecuación que describe la distribución de temperaturas en el eje axial está definida por:\n",
    "\n",
    "\\begin{equation*}\n",
    "\\frac{d^2T}{dx^2} + h'(T_\\infty - T) + \\sigma'(T_\\infty^4 - T^4) = 0\n",
    "\\end{equation*}\n",
    "\n",
    "donde $h'$ y $\\sigma'$ son coeficientes de transferencia de calor por convección y radiación, respectivamente."
   ]
  },
  {
   "cell_type": "markdown",
   "id": "2081b982",
   "metadata": {
    "cell_style": "center",
    "slideshow": {
     "slide_type": "fragment"
    }
   },
   "source": [
    "y las condiciones de borde son:\n",
    "\\begin{align*}\n",
    "T(0) &= T_a\\\\\n",
    "T(L) &= T_b\n",
    "\\end{align*}"
   ]
  },
  {
   "cell_type": "markdown",
   "id": "23454def",
   "metadata": {
    "slideshow": {
     "slide_type": "slide"
    }
   },
   "source": [
    "El modelo respresenta una **EDO no lineal con valor de frontera**."
   ]
  },
  {
   "cell_type": "markdown",
   "id": "34c4f68c",
   "metadata": {
    "slideshow": {
     "slide_type": "fragment"
    }
   },
   "source": [
    "En esta unidad revisaremos dos métodos para resolver este tipo de problemas:\n",
    "\n",
    "- Método del disparo\n",
    "- Método de diferencias finitas"
   ]
  },
  {
   "cell_type": "markdown",
   "id": "c6abbbf2",
   "metadata": {
    "slideshow": {
     "slide_type": "slide"
    }
   },
   "source": [
    "## Método de disparo\n",
    "\n",
    "El método del disparo consiste en transformar una EDO con condiciones de borde a una EDO de valor inicial. Mediante un proceso iterativo, el método busca una solución al problema de valores iniciales que satisfaga la condiciones de bordes."
   ]
  },
  {
   "cell_type": "markdown",
   "id": "67ad643e",
   "metadata": {
    "slideshow": {
     "slide_type": "slide"
    }
   },
   "source": [
    "Para ilustrar este método, consideremos el problema de la barra con enfriamiento."
   ]
  },
  {
   "cell_type": "markdown",
   "id": "5ba63872",
   "metadata": {
    "cell_style": "split",
    "slideshow": {
     "slide_type": "fragment"
    }
   },
   "source": [
    "Podemos transformar este problema en un problema de valor inicial de la forma:\n",
    "\n",
    "\\begin{align*}\n",
    "\\frac{dT}{dx} &= q \\\\\n",
    "\\frac{dq}{dx} &= - h'(T_\\infty - T) - \\sigma'(T_\\infty^4 - T^4)\n",
    "\\end{align*}"
   ]
  },
  {
   "cell_type": "markdown",
   "id": "e46f77a3",
   "metadata": {
    "cell_style": "split",
    "slideshow": {
     "slide_type": "fragment"
    }
   },
   "source": [
    "Con condiciones iniciales:\n",
    "\n",
    "\\begin{align*}\n",
    "T(0) &= T_a \\\\\n",
    "\\frac{dT}{dx}\\Big|_{x=0} = q(0) &= q_a\n",
    "\\end{align*}"
   ]
  },
  {
   "cell_type": "markdown",
   "id": "c394e0a3",
   "metadata": {
    "slideshow": {
     "slide_type": "slide"
    }
   },
   "source": [
    "Si conocieramos el valor de $T_a$ y $q_a$, podríamos resolver el problema como una EDO con valor inicial. Sin embargo, el valor de $q_a$ es desconocido."
   ]
  },
  {
   "cell_type": "markdown",
   "id": "b4573daa",
   "metadata": {
    "slideshow": {
     "slide_type": "fragment"
    }
   },
   "source": [
    "Por otro lado, sabemos que existirá un valor de $q_a$, tal que $T( L) = T_b$."
   ]
  },
  {
   "cell_type": "markdown",
   "id": "c20bd099",
   "metadata": {
    "slideshow": {
     "slide_type": "fragment"
    }
   },
   "source": [
    "Ilustrativamente, esto es similar a ajustar el ángulo de inclinación de un cañón (o la pendiente a través de $z_a$), hasta que la trayectoria del disparo coincida con el valor la segunda condición de borde."
   ]
  },
  {
   "cell_type": "markdown",
   "id": "a0f249d0",
   "metadata": {
    "slideshow": {
     "slide_type": "-"
    }
   },
   "source": [
    "<img src=\"./images/shooting_method.png\" width=\"400px\" align= center>"
   ]
  },
  {
   "cell_type": "markdown",
   "id": "4587ccdc",
   "metadata": {
    "slideshow": {
     "slide_type": "slide"
    }
   },
   "source": [
    "El método del disparo, así, consiste en iterar sobre el valor de $q_a$, resolviendo el problema como una EDO de valor inicial, hasta que $T(L) = T_b$."
   ]
  },
  {
   "cell_type": "markdown",
   "id": "78791de8",
   "metadata": {
    "slideshow": {
     "slide_type": "slide"
    }
   },
   "source": [
    "Analicemos esto con el problema de la barra en enfriamiento, y los valores:\n",
    " - $L = 10$ m\n",
    " - $h' = 0.05$ m$^{-2}$\n",
    " - $\\sigma' =  2.7\\times 10^{-9}$ K$^{-3}$ m$^{-2}$,  \n",
    " - $T_\\infty = 200~\\mathrm{K}$, \n",
    " - $T_a = 300~\\mathrm{K}$\n",
    " - $T_b = 400~\\mathrm{K}$"
   ]
  },
  {
   "cell_type": "markdown",
   "id": "87b17e33",
   "metadata": {
    "slideshow": {
     "slide_type": "fragment"
    }
   },
   "source": [
    "Si escribimos la EDO con valor inicial de la forma $\\vec{y} = \\vec{F}(t,\\vec{y})$, tenemos:\n",
    "\n",
    "\\begin{equation*}\n",
    "\\vec{y} = \\Bigg\\{\\begin{matrix}\n",
    "T \\\\\n",
    "q\n",
    "\\end{matrix}\\Bigg\\};\n",
    "\\quad\\quad\n",
    "\\vec{F} = \\Bigg\\{\\begin{matrix}\n",
    "q \\\\\n",
    "- h'(T_\\infty - T) - \\sigma'(T_\\infty^4 - T^4)\n",
    "\\end{matrix}\\Bigg\\};\\quad\\quad \\vec{y}_0 = \\Bigg\\{\\begin{matrix}\n",
    "T_a \\\\\n",
    "q_a\n",
    "\\end{matrix}\\Bigg\\}\n",
    "\\end{equation*}\n",
    "\n",
    "donde $t = x$."
   ]
  },
  {
   "cell_type": "code",
   "execution_count": 1,
   "id": "2e5dd163",
   "metadata": {
    "cell_style": "center",
    "slideshow": {
     "slide_type": "slide"
    }
   },
   "outputs": [],
   "source": [
    "from scipy.integrate import solve_ivp\n",
    "import matplotlib.pyplot as plt\n",
    "import numpy as np\n",
    "\n",
    "# Definimos las constantes\n",
    "h   = 0.05   # coeficiente convectivo (m^-2)\n",
    "S   = 2.7E-9 # coeficiente radiativo (K^-3 m^-2)\n",
    "Too = 200    # Temperatura del exterior (K)\n",
    "Ta  = 300    # Temperatura extremo izquierdo (K)\n",
    "Tb  = 400    # Temperatura extremo derecho (K)\n",
    "L   = 10     # Largo de la barra (m)\n",
    "\n",
    "# Declaramos F con y[0] = T, y[1] = q\n",
    "F = lambda t, y: [y[1], \n",
    "                 - h*(Too - y[0]) - S*(Too**4 - y[0]**4)]"
   ]
  },
  {
   "cell_type": "markdown",
   "id": "244a580a",
   "metadata": {
    "slideshow": {
     "slide_type": "slide"
    }
   },
   "source": [
    "Analicemos el comportamiento de este problema para $q_a = -40$ y $q_a = -45$. En la misma gráfica indicaremos el valor de $T(L) = T_b$"
   ]
  },
  {
   "cell_type": "code",
   "execution_count": 2,
   "id": "ab635846",
   "metadata": {
    "cell_style": "center",
    "slideshow": {
     "slide_type": "fragment"
    }
   },
   "outputs": [
    {
     "data": {
      "image/png": "[encoded data removed]",
      "text/plain": [
       "<Figure size 800x300 with 1 Axes>"
      ]
     },
     "metadata": {},
     "output_type": "display_data"
    }
   ],
   "source": [
    "plt.rcParams.update({'font.size': 10}) # Tamaño de fuente\n",
    "fig, ax = plt.subplots(figsize=(8,3))\n",
    "\n",
    "plt.plot(L,Tb,'or')\n",
    "# Resolvemos la ecuación para distintos valores de za\n",
    "for qa in [-40, -45]:\n",
    "    sol = solve_ivp(F, t_span = [0,L], y0 = [Ta, qa])\n",
    "    ax.plot(sol.t,sol.y[0],':',label=r'$q_a = %.0f$ K/m' % qa)\n",
    "\n",
    "ax.set_xlabel('Posicion de la barra, $x$ (m)')\n",
    "ax.set_ylabel('Temperatura en la barra, $T$ (K)')\n",
    "ax.legend(frameon=False)\n",
    "plt.show()"
   ]
  },
  {
   "cell_type": "markdown",
   "id": "fa156462",
   "metadata": {
    "slideshow": {
     "slide_type": "slide"
    }
   },
   "source": [
    "¿Cómo podemos adivinar el valor de $q_a$ correcto?"
   ]
  },
  {
   "cell_type": "markdown",
   "id": "7fa29c63",
   "metadata": {
    "slideshow": {
     "slide_type": "fragment"
    }
   },
   "source": [
    "Cláramente, el método gráfico nos ayuda a acercarnos a la solución. Por ejemplo, notamos ahora que el valor de $q_a$ está acotado entre $q_a\\in[-40, -45]$ K/m. Asi, una alternativa sería utilizar interpolación lineal basado en estos dos primeras estimaciones."
   ]
  },
  {
   "cell_type": "markdown",
   "id": "9e725a05",
   "metadata": {
    "slideshow": {
     "slide_type": "fragment"
    }
   },
   "source": [
    "Sin embargo, este método aún podría entregar resultados inexactos dado que la EDO es del tipo no-lineal."
   ]
  },
  {
   "cell_type": "markdown",
   "id": "0e2f3c52",
   "metadata": {
    "slideshow": {
     "slide_type": "slide"
    }
   },
   "source": [
    "Una forma más genérica de resolver este problema en un computador es utilizando métodos de búsqueda de raices."
   ]
  },
  {
   "cell_type": "markdown",
   "id": "1c9867b7",
   "metadata": {
    "slideshow": {
     "slide_type": "fragment"
    }
   },
   "source": [
    "Primero, debemos entender que resolver la EDO con valor inicial $T_a$ y $q_a$, y luego evaluarla en $x = L$, es equivalente a tener una función $T_{x=L}(q_a)$."
   ]
  },
  {
   "cell_type": "markdown",
   "id": "ccc5684a",
   "metadata": {
    "slideshow": {
     "slide_type": "fragment"
    }
   },
   "source": [
    "Así, el objetivo es encontrar la raíz de la función $f(q_a) = T_{x=L}(q_a) - T_b$"
   ]
  },
  {
   "cell_type": "markdown",
   "id": "44103301",
   "metadata": {
    "slideshow": {
     "slide_type": "slide"
    }
   },
   "source": [
    "Implementemos esta solución mediante con el ejemplo anterior."
   ]
  },
  {
   "cell_type": "code",
   "execution_count": 3,
   "id": "22ac05f4",
   "metadata": {
    "slideshow": {
     "slide_type": "fragment"
    }
   },
   "outputs": [
    {
     "name": "stdout",
     "output_type": "stream",
     "text": [
      "El valor de qa es: -41.735 K/m\n"
     ]
    }
   ],
   "source": [
    "from scipy.optimize import root_scalar\n",
    "\n",
    "# Declaramos la función objetivo para encontrar T(x = L) - Tb, dado \"za\"\n",
    "def fobjective(qa):\n",
    "    sol = solve_ivp(F,t_span = [0,L], y0 = [Ta, qa]) # solución de la odo con VI\n",
    "    T = sol.y[0]                                     # distribución de temperaturas en la barra\n",
    "    return T[-1] - Tb                                # retornamos T(x = L) - Tb\n",
    "\n",
    "# Buscamos la raiz de fobjective(za)\n",
    "qa_sol = root_scalar(fobjective, bracket = [-40, -45]).root\n",
    "print('El valor de qa es: %.3f K/m' % qa_sol)"
   ]
  },
  {
   "cell_type": "markdown",
   "id": "f57e3562",
   "metadata": {},
   "source": [
    "De lo anterior, hemos determinado que el valor correcto para $q_a = -41.735~\\mathrm{K/m}$. Ahora grafiquemos la solución correcta"
   ]
  },
  {
   "cell_type": "code",
   "execution_count": 4,
   "id": "53a1ba89",
   "metadata": {
    "slideshow": {
     "slide_type": "slide"
    }
   },
   "outputs": [
    {
     "data": {
      "image/png": "[encoded data removed]",
      "text/plain": [
       "<Figure size 800x300 with 1 Axes>"
      ]
     },
     "metadata": {},
     "output_type": "display_data"
    }
   ],
   "source": [
    "plt.rcParams.update({'font.size': 10}) # Tamaño de fuente\n",
    "fig, ax = plt.subplots(figsize=(8,3))\n",
    "\n",
    "x_range = np.linspace(0,L,20)  # rango de valores para evaluar T(x)\n",
    "\n",
    "sol = solve_ivp(F,t_span = [0,L], t_eval = x_range, y0 = [Ta, qa_sol])\n",
    "ax.plot(sol.t,sol.y[0],':x',label=r'$q_a = %.3f$ K/m' % qa_sol)\n",
    "plt.plot(L,Tb,'or')\n",
    "\n",
    "ax.set_xlabel('Posicion de la barra, $x$ (m)')\n",
    "ax.set_ylabel('Temperatura en la barra, $T$ (K)')\n",
    "ax.legend(frameon=False)\n",
    "plt.show()"
   ]
  },
  {
   "cell_type": "markdown",
   "id": "7f9fe67e",
   "metadata": {
    "slideshow": {
     "slide_type": "slide"
    }
   },
   "source": [
    "### Condiciones de borde de Neumann o Robin"
   ]
  },
  {
   "cell_type": "markdown",
   "id": "34e28cde",
   "metadata": {
    "slideshow": {
     "slide_type": "-"
    }
   },
   "source": [
    "Las condiciones de borde $T(0) = T_a$ y $T(L) = T_b$, se conoce como *condición de borde de Dirichlet o de primer tipo.* Es una de muchos tipos de condiciones de borde que se utilizan en ingeniería y ciencias."
   ]
  },
  {
   "cell_type": "markdown",
   "id": "becb4256",
   "metadata": {
    "slideshow": {
     "slide_type": "fragment"
    }
   },
   "source": [
    "A veces, las condiciones de borde están definidas en función de derivadas. En este caso distinguimos:"
   ]
  },
  {
   "cell_type": "markdown",
   "id": "31231b6e",
   "metadata": {},
   "source": [
    "\n",
    "\n",
    "\\begin{eqnarray*}\n",
    "y'(a) &=& \\alpha&&\\quad\\mathrm{condición~de~Neumann~(o~de~segundo~tipo)} \\\\\n",
    "\\alpha y(a) + \\beta y'(a) &=& \\gamma &&\\quad\\mathrm{condición~de~Robin~(o~de~tercer~tipo)}\n",
    "\\end{eqnarray*}"
   ]
  },
  {
   "cell_type": "markdown",
   "id": "6f578e2f",
   "metadata": {
    "slideshow": {
     "slide_type": "fragment"
    }
   },
   "source": [
    "Lo común en ambos casos es la presencia de la derivada en la condición de borde."
   ]
  },
  {
   "cell_type": "markdown",
   "id": "29643f04",
   "metadata": {
    "slideshow": {
     "slide_type": "slide"
    }
   },
   "source": [
    "Por ejemplo, respecto al problema de la barra, tenemos que si el extremo derecho pierde calor hacia el ambiente la condición es (condición de borde de Robin):\n",
    "\n",
    "\\begin{equation*}\n",
    "\\frac{dT}{dx}\\Big|_{x=L} = h^*\\left[ T_\\infty - T(L)\\right]\n",
    "\\end{equation*}"
   ]
  },
  {
   "cell_type": "markdown",
   "id": "fde1448c",
   "metadata": {
    "cell_style": "split",
    "slideshow": {
     "slide_type": "fragment"
    }
   },
   "source": [
    "<img src=\"./images/heated_bar_convective_end.png\" width=\"500px\" align= center>"
   ]
  },
  {
   "cell_type": "markdown",
   "id": "87260116",
   "metadata": {
    "cell_style": "split",
    "slideshow": {
     "slide_type": "fragment"
    }
   },
   "source": [
    "En este caso el procedimiento para resolver la EDO es similar, pero debemos modificar nuestra función objetivo."
   ]
  },
  {
   "cell_type": "markdown",
   "id": "25398beb",
   "metadata": {
    "cell_style": "center",
    "slideshow": {
     "slide_type": "slide"
    }
   },
   "source": [
    "Revisemos esto en un código para $h^* = 0.005$ m$^{-1}$"
   ]
  },
  {
   "cell_type": "code",
   "execution_count": 5,
   "id": "08485066",
   "metadata": {
    "slideshow": {
     "slide_type": "fragment"
    }
   },
   "outputs": [
    {
     "name": "stdout",
     "output_type": "stream",
     "text": [
      "El valor de za es: -43.720 K/m\n"
     ]
    }
   ],
   "source": [
    "hstar = 0.005\n",
    "\n",
    "# Declaramos la función objetivo, f(za) con condición de Neumann\n",
    "def fobjective(qa):\n",
    "    sol = solve_ivp(F,t_span = [0,L], y0 = [Ta, qa])\n",
    "    T    = sol.y[0]                       # distribución de temperaturas en la barra\n",
    "    dTdx = sol.y[1]                       # distribución de dTdx en la barra\n",
    "    return dTdx[-1] - hstar*(Too - T[-1]) # retornamos dTdx|(x=L) - h(Too - T(L))\n",
    "\n",
    "# Buscamos la raiz de f(za) - Tb\n",
    "qa_sol = root_scalar(fobjective, bracket = [-40, -45]).root\n",
    "print('El valor de za es: %.3f K/m' % qa_sol)\n"
   ]
  },
  {
   "cell_type": "code",
   "execution_count": 6,
   "id": "4335f58c",
   "metadata": {
    "slideshow": {
     "slide_type": "slide"
    }
   },
   "outputs": [
    {
     "data": {
      "image/png": "[encoded data removed]",
      "text/plain": [
       "<Figure size 800x300 with 1 Axes>"
      ]
     },
     "metadata": {},
     "output_type": "display_data"
    }
   ],
   "source": [
    "plt.rcParams.update({'font.size': 10}) # Tamaño de fuente\n",
    "fig, ax = plt.subplots(figsize=(8,3))\n",
    "\n",
    "x_range = np.linspace(0,L,20)  # rango de valores para evaluar T(x)\n",
    "\n",
    "sol = solve_ivp(F,t_span = [0,L], t_eval = x_range, y0 = [Ta, qa_sol])\n",
    "ax.plot(sol.t,sol.y[0],':x',label=r'$q_a = %.3f$ K/m' % qa_sol)\n",
    "\n",
    "ax.set_xlabel('Posicion de la barra, $x$ (m)')\n",
    "ax.set_ylabel('Temperatura en la barra, $T$ (K)')\n",
    "ax.legend(frameon=False)\n",
    "plt.show()"
   ]
  },
  {
   "cell_type": "markdown",
   "id": "49c2b624",
   "metadata": {
    "cell_style": "center",
    "slideshow": {
     "slide_type": "slide"
    }
   },
   "source": [
    "## Método de diferencias finitas"
   ]
  },
  {
   "cell_type": "markdown",
   "id": "f79b667b",
   "metadata": {
    "slideshow": {
     "slide_type": "fragment"
    }
   },
   "source": [
    "Diferencias finitas es el método más general para resolver EDOs con condiciones de borde. Esto consiste en discretizar la ecuación diferencial utilizando las fórmulas de la [unidad 8](../08-Derivacion_numerica/08-Derivacion_numerica.ipynb)."
   ]
  },
  {
   "cell_type": "markdown",
   "id": "601e921e",
   "metadata": {
    "slideshow": {
     "slide_type": "slide"
    }
   },
   "source": [
    "### EDO lineal con condición de borde de Dirichlet"
   ]
  },
  {
   "cell_type": "markdown",
   "id": "01cace97",
   "metadata": {
    "cell_style": "center",
    "slideshow": {
     "slide_type": "fragment"
    }
   },
   "source": [
    "Revisemos esto con el problema de la barra. Ahora, únicamente, considerando pérdidas de calor por convección."
   ]
  },
  {
   "cell_type": "markdown",
   "id": "1de51c38",
   "metadata": {
    "cell_style": "split",
    "slideshow": {
     "slide_type": "fragment"
    }
   },
   "source": [
    "<img src=\"./images/heated_bar_convection_losses.png\" width=\"400px\" align= center>"
   ]
  },
  {
   "cell_type": "markdown",
   "id": "633f12c3",
   "metadata": {
    "cell_style": "split"
   },
   "source": [
    "En este caso **la EDO es del tipo lineal**:\n",
    "\n",
    "\\begin{equation*}\n",
    "\\frac{d^2T}{dx^2} + h'(T_\\infty - T) = 0\n",
    "\\end{equation*}\n",
    "\n",
    "\\begin{align*}\n",
    "T(0) &= T_a\\\\\n",
    "T(L) &= T_b\n",
    "\\end{align*}"
   ]
  },
  {
   "cell_type": "markdown",
   "id": "0af03c63",
   "metadata": {
    "slideshow": {
     "slide_type": "slide"
    }
   },
   "source": [
    "El primer paso consiste en discretizar el dominio en una série de nodos."
   ]
  },
  {
   "cell_type": "markdown",
   "id": "364a07ff",
   "metadata": {
    "cell_style": "split",
    "slideshow": {
     "slide_type": "fragment"
    }
   },
   "source": [
    "<img src=\"./images/discretized_bar.png\" width=\"500px\" align= center>"
   ]
  },
  {
   "cell_type": "markdown",
   "id": "fca9a4e7",
   "metadata": {
    "cell_style": "split",
    "slideshow": {
     "slide_type": "fragment"
    }
   },
   "source": [
    "Luego, aplicamos una fórmula de diferencias finitas en cada nodo. Por ejemplo, usando diferencia central tenemos:\n",
    "\n",
    "\\begin{equation*}\n",
    "\\frac{T_{i - 1}- 2T_i +T_{i + 1}}{\\Delta x^2} + h'(T_\\infty - T_i) = 0\n",
    "\\end{equation*}"
   ]
  },
  {
   "cell_type": "markdown",
   "id": "b99b5a73",
   "metadata": {
    "slideshow": {
     "slide_type": "fragment"
    }
   },
   "source": [
    "Reordenando los términos tenemos:\n",
    "\n",
    "\\begin{equation*}\n",
    "- T_{i - 1}+ (2 + h'\\Delta x^2)T_i  - T_{i + 1} =  h'\\Delta x^2 T_\\infty\n",
    "\\end{equation*}"
   ]
  },
  {
   "cell_type": "markdown",
   "id": "78351d38",
   "metadata": {
    "slideshow": {
     "slide_type": "fragment"
    }
   },
   "source": [
    "Podemos desarrollar esta expresión para cada nodo interior ($i = 1,\\cdots, n-1$). Los valores de los nodos extremos están dados por las condiciones de borde $T_0 = T_a$, $T_n = T_b$."
   ]
  },
  {
   "cell_type": "markdown",
   "id": "87c80b0f",
   "metadata": {
    "slideshow": {
     "slide_type": "slide"
    }
   },
   "source": [
    "El resultado nos entrega un sistema de ecuaciones lineales $Ax = b$, de la forma:\n",
    "\n",
    "\\begin{equation*}\n",
    "\\begin{bmatrix}\n",
    "(2 + h'\\Delta x^2) & -1 & & & \\\\\n",
    "-1 & (2 + h'\\Delta x^2) & -1 & &  \\\\\n",
    " & \\ddots & \\ddots & \\ddots & \\\\\n",
    " & & -1& (2 + h'\\Delta x^2)& -1 \\\\\n",
    " & & -1 & & (2 + h'\\Delta x^2)\n",
    "\\end{bmatrix}\\left[\\begin{array}{c} T_1 \\\\T_2 \\\\ \\vdots \\\\ T_{n-2} \\\\ T_{n-1} \\end{array}\\right] =\n",
    "\\left[\\begin{array}{c} T_0 + h'\\Delta x^2 T_\\infty \\\\h'\\Delta x^2 T_\\infty \\\\ \\vdots \\\\h'\\Delta x^2 T_\\infty \\\\ T_n + h'\\Delta x^2 T_\\infty\\end{array}\\right]\n",
    "\\end{equation*}"
   ]
  },
  {
   "cell_type": "markdown",
   "id": "b8c77424",
   "metadata": {
    "slideshow": {
     "slide_type": "fragment"
    }
   },
   "source": [
    "Notar que **la matriz $A$ es, naturalmente trididiagonal y diagnal dominante**. Este característica estará siempre presente en el método de diferencias finitas."
   ]
  },
  {
   "cell_type": "markdown",
   "id": "d3090dd1",
   "metadata": {
    "slideshow": {
     "slide_type": "fragment"
    }
   },
   "source": [
    "Como vimos en la [unidad 2](../02-Algebra_lineal/02-Algebra_lineal.ipynb) del curso, este tipo de sistemas de ecuaciones se pueden resolver mediante métodos iterativos (como Gauss-Seidel), los cuales destacan por su menor uso de recursos de memoria computacional."
   ]
  },
  {
   "cell_type": "markdown",
   "id": "abbb3a3a",
   "metadata": {
    "slideshow": {
     "slide_type": "slide"
    }
   },
   "source": [
    "Revisemos esto en un código en python. En este caso, queremos preparar un código genérico para un $n$ variable"
   ]
  },
  {
   "cell_type": "markdown",
   "id": "37fb9c95",
   "metadata": {
    "slideshow": {
     "slide_type": "fragment"
    }
   },
   "source": [
    "Podemos expresar el sistema de ecuaciones, convenientemente, en la forma:\n",
    "\n",
    "\\begin{equation*}\n",
    "\\begin{bmatrix}\n",
    " 1 &                  0 &                  0 &            \\cdots &                    & \\\\ \n",
    "-1 & (2 + h'\\Delta x^2) &                 -1 &                   &                    & \\\\\n",
    "   & \\ddots             & \\ddots             &            \\ddots &                    &\\\\\n",
    "   &                    &                    &                -1 & (2 + h'\\Delta x^2) & -1 \\\\\n",
    "   &                    &             \\cdots &                 0 &             0      & 1\n",
    "\\end{bmatrix}\\left[\\begin{array}{c} T_0 \\\\ T_1 \\\\ \\vdots \\\\ T_{n-1} \\\\T_n \\end{array}\\right] =\n",
    "\\left[\\begin{array}{c} T_a \\\\ h'\\Delta x^2 T_\\infty \\\\ \\vdots \\\\ h'\\Delta x^2 T_\\infty \\\\ T_b\\end{array}\\right]\n",
    "\\end{equation*}"
   ]
  },
  {
   "cell_type": "markdown",
   "id": "874fd3d5",
   "metadata": {
    "slideshow": {
     "slide_type": "fragment"
    }
   },
   "source": [
    "Esta formulación nos permitirá una expresión generalizada para crear nuestras matrices $A$ y $b$, que podemos modificar fácilmente ante un cambio en las condiciones de borde."
   ]
  },
  {
   "cell_type": "markdown",
   "id": "bf754313",
   "metadata": {
    "slideshow": {
     "slide_type": "slide"
    }
   },
   "source": [
    "El siguiente código genera las matrices $A$ y $b$ para un número de nodos $n$ arbitrário."
   ]
  },
  {
   "cell_type": "code",
   "execution_count": 7,
   "id": "7718d60e",
   "metadata": {
    "cell_style": "center",
    "slideshow": {
     "slide_type": "fragment"
    }
   },
   "outputs": [],
   "source": [
    "# Código genérico para barra 1D con diferencias finitas\n",
    "N  = 10              # número de nodos\n",
    "dx = L/(N - 1)       # espaciamiento entre nodos\n",
    "n  = N - 1           # nodo final   \n",
    "\n",
    "A = np.zeros((N,N))  # declaramos matrix A\n",
    "b = np.zeros(N)      # declaramos vector b\n",
    "\n",
    "# recorremos los nodos de la barra\n",
    "for i in range(N):\n",
    "    # condiciones de borde\n",
    "    #------------------------------------------------------\n",
    "    if i == 0:       # T(x = 0) = Ta\n",
    "        A[i,i] = 1\n",
    "        b[i]   = Ta\n",
    "        continue\n",
    "    \n",
    "    if i == n:       # T(x = L) = Tb\n",
    "        A[i,i] = 1\n",
    "        b[i]   = Tb\n",
    "        continue\n",
    "    \n",
    "    # nodos interiores\n",
    "    #------------------------------------------------------\n",
    "    A[i,i-1], A[i,i], A[i,i+1] = -1, 2 + h*dx**2, -1\n",
    "    b[i] = h*dx**2*Too"
   ]
  },
  {
   "cell_type": "markdown",
   "id": "837bbcb9",
   "metadata": {
    "slideshow": {
     "slide_type": "slide"
    }
   },
   "source": [
    "Resolvemos el sistema usando `numpy.linalg.solve`"
   ]
  },
  {
   "cell_type": "code",
   "execution_count": 8,
   "id": "d9f345d3",
   "metadata": {},
   "outputs": [],
   "source": [
    "T = np.linalg.solve(A,b) # Resolvemos el sistema"
   ]
  },
  {
   "cell_type": "markdown",
   "id": "56facb53",
   "metadata": {
    "slideshow": {
     "slide_type": "slide"
    }
   },
   "source": [
    "Luego graficamos nuestra solución"
   ]
  },
  {
   "cell_type": "code",
   "execution_count": 9,
   "id": "43f1b027",
   "metadata": {
    "cell_style": "center",
    "slideshow": {
     "slide_type": "fragment"
    }
   },
   "outputs": [
    {
     "data": {
      "image/png": "[encoded data removed]",
      "text/plain": [
       "<Figure size 800x300 with 1 Axes>"
      ]
     },
     "metadata": {},
     "output_type": "display_data"
    }
   ],
   "source": [
    "x = np.linspace(0,L,N)   # Discretización del dominio \"x\"\n",
    "\n",
    "plt.rcParams.update({'font.size': 10}) # Tamaño de fuente\n",
    "fig, ax = plt.subplots(figsize=(8,3))\n",
    "ax.plot(x,T,':x')\n",
    "\n",
    "ax.set_title('Barra con temperaturas fijas (dif. finitas)')\n",
    "ax.set_xlabel('Posicion de la barra, $x$ (m)')\n",
    "ax.set_ylabel('Temperatura en la barra, $T$ (K)')\n",
    "plt.show()"
   ]
  },
  {
   "cell_type": "markdown",
   "id": "53e6ee3d",
   "metadata": {
    "slideshow": {
     "slide_type": "slide"
    }
   },
   "source": [
    "### EDO lineal con condición de borde de Robin"
   ]
  },
  {
   "cell_type": "markdown",
   "id": "43aaed05",
   "metadata": {
    "slideshow": {
     "slide_type": "-"
    }
   },
   "source": [
    "Consideremos ahora el caso de una barra con condiciones de borde de Robin:\n",
    "\n",
    "\\begin{equation*}\n",
    "\\frac{dT}{dx}\\Big|_{x=L} = h^*\\left[ T_\\infty - T(L)\\right]\n",
    "\\end{equation*}"
   ]
  },
  {
   "cell_type": "markdown",
   "id": "398037ca",
   "metadata": {
    "cell_style": "split"
   },
   "source": [
    "<img src=\"./images/heated_bar_convection_losses_convective_end.png\" width=\"500px\" align= center>"
   ]
  },
  {
   "cell_type": "markdown",
   "id": "9ff10573",
   "metadata": {
    "cell_style": "split",
    "slideshow": {
     "slide_type": "fragment"
    }
   },
   "source": [
    "Podemos aplicar diferencias hacia atrás en la condición de borde:\n",
    "\n",
    "\\begin{equation*}\n",
    "\\frac{T_{n}- T_{n - 1}}{\\Delta x} = h'(T_\\infty - T_n)\n",
    "\\end{equation*}"
   ]
  },
  {
   "cell_type": "markdown",
   "id": "b7030a14",
   "metadata": {
    "cell_style": "split",
    "slideshow": {
     "slide_type": "fragment"
    }
   },
   "source": [
    "A partir de esto tenemos una nueva ecuación de la forma:\n",
    "\n",
    "\\begin{equation*}\n",
    "- T_{n-1} + (1 + h'\\Delta x)T_{n} = h'\\Delta xT_\\infty\n",
    "\\end{equation*}"
   ]
  },
  {
   "cell_type": "markdown",
   "id": "f424c208",
   "metadata": {
    "slideshow": {
     "slide_type": "slide"
    }
   },
   "source": [
    "El sistema de ecuaciones es similar al caso anterior, aunque con la nueva condición de borde en el nodo del extremo derecho:\n",
    "\n",
    "\\begin{equation*}\n",
    "\\begin{bmatrix}\n",
    " 1 &                  0 &                  0 &            \\cdots &                    & \\\\ \n",
    "-1 & (2 + h'\\Delta x^2) &                 -1 &                   &                    & \\\\\n",
    "   & \\ddots             & \\ddots             &            \\ddots &                    &\\\\\n",
    "   &                    &                    &                -1 & (2 + h'\\Delta x^2) & -1 \\\\\n",
    "   &                    &             \\cdots &                 0 &              -1    & 1 + h'\\Delta x\n",
    "\\end{bmatrix}\\left[\\begin{array}{c} T_0 \\\\ T_1 \\\\ \\vdots \\\\ T_{n-1} \\\\T_n \\end{array}\\right] =\n",
    "\\left[\\begin{array}{c} T_a \\\\ h'\\Delta x^2 T_\\infty \\\\ \\vdots \\\\ h'\\Delta x^2 T_\\infty \\\\ h'\\Delta x T_\\infty\\end{array}\\right]\n",
    "\\end{equation*}"
   ]
  },
  {
   "cell_type": "markdown",
   "id": "5d29cf84",
   "metadata": {
    "slideshow": {
     "slide_type": "slide"
    }
   },
   "source": [
    "Respecto al código anterior, editamos la condición de borde para $i = n$"
   ]
  },
  {
   "cell_type": "code",
   "execution_count": 10,
   "id": "45bb2c5a",
   "metadata": {
    "slideshow": {
     "slide_type": "-"
    }
   },
   "outputs": [],
   "source": [
    "# Código genérico para barra 1D con diferencias finitas\n",
    "N  = 10              # número de nodos\n",
    "dx = L/(N - 1)       # espaciamiento entre nodos\n",
    "n  = N - 1           # nodo final   \n",
    "\n",
    "A = np.zeros((N,N))  # declaramos matrix A\n",
    "b = np.zeros(N)      # declaramos vector b\n",
    "\n",
    "# recorremos los nodos de la barra\n",
    "for i in range(N):\n",
    "    # condiciones de borde\n",
    "    #------------------------------------------------------\n",
    "    if i == 0:       # Condición de borde en el extremo izquierdo\n",
    "        A[i,i] = 1\n",
    "        b[i]   = Ta\n",
    "        continue\n",
    "    \n",
    "    if i == n:       # Condición de borde en el extremo derecho\n",
    "        A[i,i-1], A[i,i] = -1, 1 + h*dx\n",
    "        b[i]     = h*dx*Too\n",
    "        continue\n",
    "    \n",
    "    # nodos interiores\n",
    "    #------------------------------------------------------\n",
    "    A[i,i-1], A[i,i], A[i,i+1] = -1, 2 + h*dx**2, -1\n",
    "    b[i] = h*dx**2*Too"
   ]
  },
  {
   "cell_type": "markdown",
   "id": "6434a028",
   "metadata": {
    "slideshow": {
     "slide_type": "slide"
    }
   },
   "source": [
    "Resolvemos el sistema:"
   ]
  },
  {
   "cell_type": "code",
   "execution_count": 11,
   "id": "85563415",
   "metadata": {},
   "outputs": [],
   "source": [
    "T = np.linalg.solve(A,b) # Resolvemos el sistema"
   ]
  },
  {
   "cell_type": "markdown",
   "id": "695f08d4",
   "metadata": {
    "slideshow": {
     "slide_type": "slide"
    }
   },
   "source": [
    "Finalmente, graficamos nuestra solución"
   ]
  },
  {
   "cell_type": "code",
   "execution_count": 12,
   "id": "7f6fe5cc",
   "metadata": {
    "slideshow": {
     "slide_type": "-"
    }
   },
   "outputs": [
    {
     "data": {
      "image/png": "[encoded data removed]",
      "text/plain": [
       "<Figure size 800x300 with 1 Axes>"
      ]
     },
     "metadata": {},
     "output_type": "display_data"
    }
   ],
   "source": [
    "x = np.linspace(0,L,N)   # Discretización del dominio \"x\"\n",
    "\n",
    "plt.rcParams.update({'font.size': 10}) # Tamaño de fuente\n",
    "fig, ax = plt.subplots(figsize=(8,3))\n",
    "ax.plot(x,T,':x')\n",
    "\n",
    "ax.set_title('Barra con convección en un extremo (dif. finitas)')\n",
    "ax.set_xlabel('Posicion de la barra, $x$ (m)')\n",
    "ax.set_ylabel('Temperatura en la barra, $T$ (K)')\n",
    "plt.show()"
   ]
  },
  {
   "cell_type": "markdown",
   "id": "c22a59b1",
   "metadata": {
    "slideshow": {
     "slide_type": "slide"
    }
   },
   "source": [
    "### EDO no lineal"
   ]
  },
  {
   "cell_type": "markdown",
   "id": "d248014c",
   "metadata": {
    "slideshow": {
     "slide_type": "-"
    }
   },
   "source": [
    "Si la EDO es no lineal la forma de resolver el problema es análoga. Sin embargo, **el sistema de ecuaciones a resolver también será del tipo no lineal y para esto debemos utilizar un método de búsqueda de raices**."
   ]
  },
  {
   "cell_type": "markdown",
   "id": "594c61d1",
   "metadata": {
    "cell_style": "split",
    "slideshow": {
     "slide_type": "fragment"
    }
   },
   "source": [
    "Revisemos esto con el problema de la barra con enfriamiento por radiación y convección"
   ]
  },
  {
   "cell_type": "markdown",
   "id": "afc485c6",
   "metadata": {
    "cell_style": "split"
   },
   "source": [
    "<img src=\"./images/heated_bar_convective_end.png\" width=\"500px\" align= center>"
   ]
  },
  {
   "cell_type": "markdown",
   "id": "c20ca731",
   "metadata": {
    "cell_style": "center",
    "slideshow": {
     "slide_type": "slide"
    }
   },
   "source": [
    "La ecuación discretizada por diferencias finitas es de la forma:\n",
    "\n",
    "\\begin{equation*}\n",
    "\\frac{T_{i - 1}- 2T_i +T_{i + 1}}{\\Delta x^2} + h'(T_\\infty - T_i) + \\sigma'(T_\\infty^4 - T_i^4) = 0\n",
    "\\end{equation*}"
   ]
  },
  {
   "cell_type": "markdown",
   "id": "7559ff2b",
   "metadata": {
    "slideshow": {
     "slide_type": "fragment"
    }
   },
   "source": [
    "Reordenando los términos tenemos:\n",
    "\n",
    "\\begin{equation*}\n",
    "- T_{i - 1}+ (2 + h'\\Delta x^2)T_i + \\sigma'\\Delta x^2 T_i^4 - T_{i + 1} - h'\\Delta x^2 T_\\infty - \\sigma' \\Delta x^2 T_\\infty^4 = 0\n",
    "\\end{equation*}"
   ]
  },
  {
   "cell_type": "markdown",
   "id": "f95f7e92",
   "metadata": {
    "slideshow": {
     "slide_type": "slide"
    }
   },
   "source": [
    "En el siguiente código implementamos las ecuaciones gobernantes mediante una función objetivo `fsystem`"
   ]
  },
  {
   "cell_type": "code",
   "execution_count": 13,
   "id": "e4d913a8",
   "metadata": {
    "slideshow": {
     "slide_type": "fragment"
    }
   },
   "outputs": [],
   "source": [
    "# Código genérico para barra 1D con diferencias finitas\n",
    "N  = 10              # número de nodos\n",
    "dx = L/(N - 1)       # espaciamiento entre nodos\n",
    "n  = N - 1           # nodo final   \n",
    "\n",
    "def fsystem(T):\n",
    "    \n",
    "    f = np.zeros(N)\n",
    "    for i in range(N):\n",
    "    \n",
    "        # condiciones de borde\n",
    "        if i == 0:     # Temperatura fija en el extremo izquierdo\n",
    "            f[0] = T[0] - Ta\n",
    "            continue\n",
    "        if i == n:     # convección en el extremo derecho\n",
    "            f[n] = - T[n-1] + (1 + h*dx)*T[n] - h*dx*Too\n",
    "            continue\n",
    "    \n",
    "        # nodos interiores\n",
    "        f[i] = - T[i-1] + (2 + h*dx**2)*T[i] + S*dx**2*T[i]**4 - T[i+1] - h*dx**2*Too - S*dx**2*Too**4\n",
    "        \n",
    "    return f"
   ]
  },
  {
   "cell_type": "markdown",
   "id": "0d2add69",
   "metadata": {
    "slideshow": {
     "slide_type": "slide"
    }
   },
   "source": [
    "Resolvemos el sistema usando `scipy.optimize.fsolve`"
   ]
  },
  {
   "cell_type": "code",
   "execution_count": 14,
   "id": "e2bda442",
   "metadata": {
    "slideshow": {
     "slide_type": "fragment"
    }
   },
   "outputs": [],
   "source": [
    "from scipy.optimize import fsolve\n",
    "\n",
    "# condicionamos la variable inicial para la iteración\n",
    "Tinc = np.ones(N)*Too # Too, Too, Too, Too,... Too\n",
    "\n",
    "# Solución del sistema no lineal\n",
    "T = fsolve(fsystem, x0 = Tinc)"
   ]
  },
  {
   "cell_type": "markdown",
   "id": "1394cc0c",
   "metadata": {
    "slideshow": {
     "slide_type": "slide"
    }
   },
   "source": [
    "Graficamos nuestra solución"
   ]
  },
  {
   "cell_type": "code",
   "execution_count": 15,
   "id": "933956fb",
   "metadata": {
    "slideshow": {
     "slide_type": "-"
    }
   },
   "outputs": [
    {
     "data": {
      "image/png": "[encoded data removed]",
      "text/plain": [
       "<Figure size 800x300 with 1 Axes>"
      ]
     },
     "metadata": {},
     "output_type": "display_data"
    }
   ],
   "source": [
    "x = np.linspace(0,10,N)         # Discretización del dominio \"x\"\n",
    "\n",
    "plt.rcParams.update({'font.size': 10}) # Tamaño de fuente\n",
    "fig, ax = plt.subplots(figsize=(8,3))\n",
    "ax.plot(x,T,':x')\n",
    "\n",
    "ax.set_title('Barra con convección en un extremo (dif. finitas)')\n",
    "ax.set_xlabel('Posicion de la barra, $x$ (m)')\n",
    "ax.set_ylabel('Temperatura en la barra, $T$ (K)')\n",
    "plt.show()"
   ]
  },
  {
   "cell_type": "markdown",
   "id": "41bdd62e",
   "metadata": {
    "slideshow": {
     "slide_type": "slide"
    }
   },
   "source": [
    "## Método de colocación\n",
    "\n",
    "El método de colocación consiste en **aproximar la función buscada por un polinómio de interpolación evaluado en puntos de colocación**. Aunque existen distintas versiones dependiendo del polinomio escogido, acá revisaremos los aspectos más generales del método."
   ]
  },
  {
   "cell_type": "markdown",
   "id": "27adce10",
   "metadata": {
    "slideshow": {
     "slide_type": "slide"
    }
   },
   "source": [
    "Consideremos el problema general:\n",
    "\n",
    "\\begin{equation*}\n",
    "\\frac{dy}{dx} = F(x,y),\n",
    "\\end{equation*}\n",
    "\n",
    "con condiciones de borde\n",
    "\n",
    "\\begin{align*}\n",
    "\\alpha_0 y(a) + \\beta_0 y'(a) &= \\gamma_0 \\\\\n",
    "\\alpha_n y(b) + \\beta_n y'(b) &= \\gamma_n\n",
    "\\end{align*}\n",
    "\n",
    "donde $\\alpha_0$, $\\alpha_1$, $\\beta_0$, $\\beta_1$, $\\gamma_0$ y $\\gamma_1$ son constantes arbitrarias."
   ]
  },
  {
   "cell_type": "markdown",
   "id": "fa43cfbb",
   "metadata": {
    "slideshow": {
     "slide_type": "slide"
    }
   },
   "source": [
    "Para un set de $n + 1$ puntos de colocación $x_i = x_0, x_1,\\dots,x_n$ aproximaremos $y$ por el polomio:\n",
    "\n",
    "\\begin{equation*}\n",
    "S(x) = a_0 + a_1x + a_2x^2+ \\cdots + a_n x^n\n",
    "\\end{equation*}"
   ]
  },
  {
   "cell_type": "markdown",
   "id": "d48f186a",
   "metadata": {
    "slideshow": {
     "slide_type": "fragment"
    }
   },
   "source": [
    "donde sus coeficientes están dados por la solución de $S(x_i) = y_i$. En forma matricial:\n",
    "\n",
    "\\begin{equation}\n",
    "\\left[\\begin{matrix} \n",
    "1      &    x_0 &  x_0^2 & \\cdots & x_0^n \\\\\n",
    "1      &    x_1 &  x_1^2 & \\cdots & x_1^n \\\\\n",
    "\\vdots & \\vdots & \\vdots & & \\vdots \\\\\n",
    "1      &    x_n &  x_n^2 & \\cdots & x_n^n\n",
    "\\end{matrix}\\right]\n",
    "\\left\\{\\begin{matrix}\n",
    "a_0 \\\\ a_1 \\\\ a_2 \\\\ \\vdots\\\\a_n\n",
    "\\end{matrix}\\right\\}\n",
    "=\n",
    "\\left\\{\\begin{matrix}\n",
    "y_0 \\\\ y_1 \\\\ y_2 \\\\ \\vdots\\\\y_n\n",
    "\\end{matrix}\\right\\}\n",
    "\\end{equation}"
   ]
  },
  {
   "cell_type": "markdown",
   "id": "1aaeeec7",
   "metadata": {
    "slideshow": {
     "slide_type": "fragment"
    }
   },
   "source": [
    "\n",
    "\n",
    "por simplicidad, denotaremos el sistema como $A\\omega = u$, donde $\\omega$ y $u$ son vectores columna con los coeficientes $a_i$ y $y_i$ respectivamente; y $A$ es una matriz."
   ]
  },
  {
   "cell_type": "markdown",
   "id": "5ec3ccad",
   "metadata": {
    "slideshow": {
     "slide_type": "slide"
    }
   },
   "source": [
    "Por otro lado, el polinomio $S(x)$ debe ser solución de la ecuación diferencial en los puntos de colocación, es decir:\n",
    "\n",
    "\\begin{equation*}\n",
    "\\frac{dS}{dx}\\Bigg|_{x = x_i} = F(x_i,S_i)\\Rightarrow\n",
    "\\left[\\begin{matrix} \n",
    "0      &    1 &  2x_0 & \\cdots & nx_0^{n-1} \\\\\n",
    "0      &    1 &  2x_1 & \\cdots & nx_1^{n-1} \\\\\n",
    "\\vdots & \\vdots & \\vdots & & \\vdots \\\\\n",
    "0      &    1 &  2x_n & \\cdots & nx_n^{n-1}\n",
    "\\end{matrix}\\right]\n",
    "\\left\\{\\begin{matrix}\n",
    "a_0 \\\\ a_1 \\\\ a_2 \\\\ \\vdots\\\\a_n\n",
    "\\end{matrix}\\right\\}\n",
    "=\n",
    "\\left\\{\\begin{matrix}\n",
    "F(x_0,y_0) \\\\ F(x_1,y_1) \\\\ F(x_2,y_2) \\\\ \\vdots\\\\ F(x_n,y_n)\n",
    "\\end{matrix}\\right\\}\n",
    "\\end{equation*}"
   ]
  },
  {
   "cell_type": "markdown",
   "id": "2f554436",
   "metadata": {
    "slideshow": {
     "slide_type": "slide"
    }
   },
   "source": [
    "\n",
    "Si reemplazamos la primera y última fila del sistema por las condiciones de borde, tenemos:\n",
    "\n",
    "\\begin{equation*}\n",
    "\\left[\\begin{matrix} \n",
    "\\alpha_0      &    \\alpha_0x_0 +  \\beta_0 &  \\alpha_0x_0^2 + 2\\beta_0x_0 & \\cdots & \\alpha_0x_0^n + n\\beta_0x_0^{n-1} \\\\\n",
    "0      &    1 &  2x_1 & \\cdots & nx_1^{n-1} \\\\\n",
    "\\vdots & \\vdots & \\vdots & & \\vdots \\\\\n",
    "0      &    1 &  2x_{n-1} & \\cdots & n(x_{n-1})^{n-1} \\\\\n",
    "\\alpha_n      &    \\alpha_nx_n +  \\beta_n &  \\alpha_nx_n^2 + 2\\beta_nx_n & \\cdots & \\alpha_0x_n^n + n\\beta_0x_n^{n-1}\n",
    "\\end{matrix}\\right]\n",
    "\\left\\{\\begin{matrix}\n",
    "a_0 \\\\ a_1 \\\\ a_2 \\\\ \\vdots\\\\ a_{n-1} \\\\ a_{n}\n",
    "\\end{matrix}\\right\\}\n",
    "=\n",
    "\\left\\{\\begin{matrix}\n",
    "\\gamma_0 \\\\ F(x_1,y_1) \\\\ F(x_2,y_2) \\\\ \\vdots\\\\ F(x_{n-1},y_{n-1}) \\\\ \\gamma_n\n",
    "\\end{matrix}\\right\\}\n",
    "\\end{equation*}\n",
    "\n",
    "para simplificar, denotaremos este sistema como $T\\omega = b$."
   ]
  },
  {
   "cell_type": "markdown",
   "id": "41d7c700",
   "metadata": {
    "slideshow": {
     "slide_type": "slide"
    }
   },
   "source": [
    "Este sistema de ecuaciones tiene dos series de valores desconocidos, $a_i$ y $y_i$. Sin embargo, a partir del sistema de ecuaciones (10.1), tenemos que $\\omega = A^{-1}u$"
   ]
  },
  {
   "cell_type": "markdown",
   "id": "57183587",
   "metadata": {
    "slideshow": {
     "slide_type": "fragment"
    }
   },
   "source": [
    "Combinando ambos resultados, tenemos que los valores de $y_i$ en los puntos de colocación están dados por la solución de $TA^{-1}u = b$:"
   ]
  },
  {
   "cell_type": "markdown",
   "id": "dc6c59e2",
   "metadata": {
    "slideshow": {
     "slide_type": "fragment"
    }
   },
   "source": [
    "explícitamente:\n",
    "\n",
    "<div class=\"full-width\">\n",
    "<p style=\"line-height:2.0em;\"></p>\n",
    "    \n",
    "\\begin{equation*}\n",
    "\\left[\\begin{matrix} \n",
    "\\alpha_0      &    \\alpha_0x_0 +  \\beta_0 &  \\alpha_0x_0^2 + 2\\beta_0x_0 & \\cdots & \\alpha_0x_0^n + n\\beta_0x_0^{n-1} \\\\\n",
    "0      &    1 &  2x_1 & \\cdots & nx_1^{n-1} \\\\\n",
    "\\vdots & \\vdots & \\vdots & & \\vdots \\\\\n",
    "0      &    1 &  2x_{n-1} & \\cdots & n(x_{n-1})^{n-1} \\\\\n",
    "\\alpha_n      &    \\alpha_nx_n +  \\beta_n &  \\alpha_nx_n^2 + 2\\beta_nx_n & \\cdots & \\alpha_0x_n^n + n\\beta_0x_n^{n-1}\n",
    "\\end{matrix}\\right]\n",
    "\\left[\\begin{matrix} \n",
    "1      &    x_0 &  x_0^2 & \\cdots & x_0^n \\\\\n",
    "1      &    x_1 &  x_1^2 & \\cdots & x_1^n \\\\\n",
    "\\vdots & \\vdots & \\vdots & & \\vdots \\\\\n",
    "1      &    x_{n-1} &  (x_{n-1})^2 & \\cdots & (x_{n-1})^n\\\\\n",
    "1      &    x_n &  x_n^2 & \\cdots & x_n^n\n",
    "\\end{matrix}\\right]^{-1}\n",
    "\\left\\{\\begin{matrix}\n",
    "y_0 \\\\ y_1 \\\\ y_2 \\\\ \\vdots\\\\y_{n-1} \\\\y_n\n",
    "\\end{matrix}\\right\\}\n",
    "=\n",
    "\\left\\{\\begin{matrix}\n",
    "\\gamma_0 \\\\ F(x_1,y_1) \\\\ F(x_2,y_2) \\\\ \\vdots\\\\ F(x_{n-1},y_{n-1}) \\\\ \\gamma_n\n",
    "\\end{matrix}\\right\\}\n",
    "\\end{equation*}\n",
    "        \n",
    "</div>"
   ]
  },
  {
   "cell_type": "markdown",
   "id": "3a935b57",
   "metadata": {
    "slideshow": {
     "slide_type": "slide"
    }
   },
   "source": [
    "Este sistema consiste en un set de $n+1$ ecuaciones, para $n+1$ incognitas ($y_0, y_1, \\dots, y_n$). El sistema puede ser del tipo lineal o no-lineal, dependiendo de la función $F(x,y)$. Respectivamente, la solución se obtiene mediante métodos de solución de sistemas de ecuaciones lineales ([unidad 2](../02-Algebra_lineal/02-Algebra_lineal.ipynb)), o de búsqueda de raices ([unidad 6](../06-Root-finding/06-Root-finding.ipynb))."
   ]
  },
  {
   "cell_type": "markdown",
   "id": "53a284d5",
   "metadata": {
    "slideshow": {
     "slide_type": "slide"
    }
   },
   "source": [
    "En la práctica, **no es recomendable utilizar polinomios de alto grado debido a los problemas de oscilación** (revisar [unidad 4](../04-Interpolacion/04-Interpolacion.ipynb))"
   ]
  },
  {
   "cell_type": "markdown",
   "id": "f14a78fe",
   "metadata": {
    "slideshow": {
     "slide_type": "fragment"
    }
   },
   "source": [
    "En cambio, el método de colocación utiliza interpolación por tramos. El número de puntos de colocación se determina de forma iterativa mediante algoritmos adaptativos, similares a los revisados en cuadratura adaptativa (ver [unidad 7](../07-Integracion/07-Integracion.ipynb))"
   ]
  },
  {
   "cell_type": "markdown",
   "id": "ba36dfdc",
   "metadata": {
    "slideshow": {
     "slide_type": "fragment"
    }
   },
   "source": [
    "A diferencia del método de diferencias finitas, cuya aproximación de la derivada es local, el método de colocación permite determinar la solución en base a varios nodos. Esto implica soluciónes más suaves y con menor error."
   ]
  },
  {
   "cell_type": "markdown",
   "id": "5619444e",
   "metadata": {
    "slideshow": {
     "slide_type": "slide"
    }
   },
   "source": [
    "## Problemas de valor de frontera en python (`solve_bvp`)"
   ]
  },
  {
   "cell_type": "markdown",
   "id": "05307ba7",
   "metadata": {
    "slideshow": {
     "slide_type": "fragment"
    }
   },
   "source": [
    "La función predeterminada en python para resolver EDOs con C.B. es `solve_bvp`. Esta función, parte de la librería `scipy.integrate`, **resuelve sistemas de EDOs de primer orden mediante una variante del método de colocación** (ver [documentación oficial](https://docs.scipy.org/doc/scipy/reference/generated/scipy.integrate.solve_bvp.html)):\n",
    "\n",
    "\\begin{equation*}\n",
    "\\frac{d\\vec{y}}{dx} = \\vec{F}(x,\\vec{y}),\n",
    "\\end{equation*}"
   ]
  },
  {
   "cell_type": "markdown",
   "id": "8c3f2f26",
   "metadata": {
    "slideshow": {
     "slide_type": "fragment"
    }
   },
   "source": [
    "con condiciones de borde:\n",
    "\n",
    "\\begin{align*}\n",
    "\\alpha_0 \\vec{y}(a) + \\beta_0 \\vec{y}'(a) & - \\gamma_0 = 0 \\\\\n",
    "\\alpha_n \\vec{y}(b) + \\beta_n \\vec{y}'(b) & - \\gamma_n = 0\n",
    "\\end{align*}"
   ]
  },
  {
   "cell_type": "markdown",
   "id": "16798e2f",
   "metadata": {
    "slideshow": {
     "slide_type": "fragment"
    }
   },
   "source": [
    "Al igual que lo visto en la [unidad 9](../09-EDO_valor_inicial/09-EDO_valor_inicial.ipynb), **para resolver EDOs de mayor orden debemos, primero, modificar el problema a un sistemas de EDOs de primer orden.**"
   ]
  },
  {
   "cell_type": "markdown",
   "id": "67d3f563",
   "metadata": {
    "slideshow": {
     "slide_type": "slide"
    }
   },
   "source": [
    "### Aspectos generales"
   ]
  },
  {
   "cell_type": "markdown",
   "id": "8d5653ae",
   "metadata": {
    "slideshow": {
     "slide_type": "-"
    }
   },
   "source": [
    "La función requiere 4 argumentos mínimos, `fun`, `bc`, `x`, `y`:\n",
    "```python\n",
    "from scipy.integrate import solve_bvp\n",
    "sol = solve_bvp(fun,bc,x,y)\n",
    "```"
   ]
  },
  {
   "cell_type": "markdown",
   "id": "d5c603a0",
   "metadata": {
    "slideshow": {
     "slide_type": "fragment"
    }
   },
   "source": [
    "donde:\n",
    "- `fun`: *callable*, Función $\\vec{F}(x,\\vec{y})$\n",
    "- `bc`: *callable*, Función para condiciones de borde\n",
    "- `x`: *ndarray*, nodos de colocación\n",
    "- `y`: *ndarray*, valores iniciales de $\\vec{y}$ en los nodos de colocación"
   ]
  },
  {
   "cell_type": "markdown",
   "id": "0bc6d8c1",
   "metadata": {
    "slideshow": {
     "slide_type": "slide"
    }
   },
   "source": [
    "### Ejemplo"
   ]
  },
  {
   "cell_type": "markdown",
   "id": "c10f33be",
   "metadata": {
    "slideshow": {
     "slide_type": "-"
    }
   },
   "source": [
    "Analicemos como utilizar el método con el siguiente problema de enfriamiento de una barra:"
   ]
  },
  {
   "cell_type": "markdown",
   "id": "7152272f",
   "metadata": {
    "cell_style": "split",
    "slideshow": {
     "slide_type": "fragment"
    }
   },
   "source": [
    "<img src=\"./images/heated_bar_convective_end.png\" width=\"500px\" align= center>"
   ]
  },
  {
   "cell_type": "markdown",
   "id": "8682c85f",
   "metadata": {
    "cell_style": "split",
    "slideshow": {
     "slide_type": "-"
    }
   },
   "source": [
    "\\begin{equation*}\n",
    "\\frac{d^2T}{dx^2} + h'(T_\\infty - T) + \\sigma'(T_\\infty^4 - T^4) = 0\n",
    "\\end{equation*}\n",
    "\n",
    "con condiciones de borde\n",
    "\n",
    "\\begin{align*}\n",
    "T(0) &= T_a\\\\\n",
    "\\frac{dT}{dx}\\Big|_{x=L} &= h^*\\left[ T_\\infty - T(L)\\right]\n",
    "\\end{align*}"
   ]
  },
  {
   "cell_type": "markdown",
   "id": "a5bec307",
   "metadata": {
    "slideshow": {
     "slide_type": "slide"
    }
   },
   "source": [
    "Primero, transformamos la EDO de 2do orden a un sistema de dos EDOs de primer orden:"
   ]
  },
  {
   "cell_type": "markdown",
   "id": "ba5a5527",
   "metadata": {
    "slideshow": {
     "slide_type": "fragment"
    }
   },
   "source": [
    "\\begin{align*}\n",
    "\\frac{dT}{dx} &= q \\\\\n",
    "\\frac{dq}{dx} &= -h'(T_\\infty - T) - \\sigma'(T_\\infty^4 - T^4)\n",
    "\\end{align*}"
   ]
  },
  {
   "cell_type": "markdown",
   "id": "ce9aec23",
   "metadata": {
    "slideshow": {
     "slide_type": "fragment"
    }
   },
   "source": [
    "que en su forma matricial se reduce a una ecuación $\\frac{d\\vec{y}}{dx} = \\vec{F}(x,\\vec{y})$, de la forma:\n",
    "\n",
    "\\begin{equation*}\n",
    "\\frac{d}{dx}\\left\\{\\begin{matrix} T \\\\ q\\end{matrix}\\right\\} = \\left\\{\\begin{matrix} q \\\\  -h'(T_\\infty - T) - \\sigma'(T_\\infty^4 - T^4)\\end{matrix}\\right\\}\n",
    "\\end{equation*}"
   ]
  },
  {
   "cell_type": "markdown",
   "id": "c9608e5e",
   "metadata": {
    "slideshow": {
     "slide_type": "slide"
    }
   },
   "source": [
    "En python, usaremos la función `F` para reprentar este sistema:"
   ]
  },
  {
   "cell_type": "code",
   "execution_count": 16,
   "id": "a418fda5",
   "metadata": {
    "slideshow": {
     "slide_type": "fragment"
    }
   },
   "outputs": [],
   "source": [
    "from scipy.integrate import solve_bvp\n",
    "\n",
    "def F(x,y):\n",
    "    \n",
    "    T = y[0]\n",
    "    q = y[1]\n",
    "    \n",
    "    return [ q,                                   #   q\n",
    "            - h*(Too - T) - S*(Too**4 - T**4)] # - h'(Too - T) - S*(Too^4 - T^4)"
   ]
  },
  {
   "cell_type": "markdown",
   "id": "a50dde7f",
   "metadata": {
    "slideshow": {
     "slide_type": "slide"
    }
   },
   "source": [
    "Las condiciones de borde son:\n",
    "\n",
    "\\begin{align*}\n",
    "T(0) - T_a &= 0 \\\\\n",
    "q(L) - h^*\\left[ T_\\infty - T(L)\\right] &= 0\n",
    "\\end{align*}"
   ]
  },
  {
   "cell_type": "markdown",
   "id": "d79f7827",
   "metadata": {
    "slideshow": {
     "slide_type": "fragment"
    }
   },
   "source": [
    "En este caso, usamos la función `bc(ya,yb)` para indicar las condiciones de borde, donde `ya` y `yb` son vectores de dos dimensiones con \n",
    "- `ya[0]` = $T(0)$, `ya[1]` = $q(0)$\n",
    "\n",
    "- `yb[0]` = $T(L)$ y `yb[1]` = $q(L)$"
   ]
  },
  {
   "cell_type": "markdown",
   "id": "59a54741",
   "metadata": {
    "slideshow": {
     "slide_type": "fragment"
    }
   },
   "source": [
    "Debido a que solo tenemos dos condiciones de borde, usamos `ya[0]`, `yb[1]` y `yb[0]` en la función `bc`."
   ]
  },
  {
   "cell_type": "code",
   "execution_count": 17,
   "id": "7c6a8d7a",
   "metadata": {
    "slideshow": {
     "slide_type": "fragment"
    }
   },
   "outputs": [],
   "source": [
    "def bc(ya,yb):\n",
    "    T0, q0 = ya[0], ya[1]\n",
    "    TL, qL = yb[0], yb[1]\n",
    "    \n",
    "    return [T0 - Ta,           # T(0) - Ta\n",
    "            qL - h*(Too - TL)] # q(L) - h(Too - T(L))"
   ]
  },
  {
   "cell_type": "markdown",
   "id": "8ba68afe",
   "metadata": {
    "slideshow": {
     "slide_type": "slide"
    }
   },
   "source": [
    "Luego, generamos los nodos de colocación y valores iniciales. **Estos valores son arbitrarios**."
   ]
  },
  {
   "cell_type": "code",
   "execution_count": 18,
   "id": "6d042d80",
   "metadata": {},
   "outputs": [],
   "source": [
    "N = 10                              # Número de nodos de colocación\n",
    "x_init = np.linspace(0,L,N)         # nodos de colocación\n",
    "y_init = np.zeros((2, len(x_init))) # Valores iniciales en nodos de colocación"
   ]
  },
  {
   "cell_type": "markdown",
   "id": "e8ed375c",
   "metadata": {
    "slideshow": {
     "slide_type": "slide"
    }
   },
   "source": [
    "Finalmente, ejecutamos `solve_bvp`"
   ]
  },
  {
   "cell_type": "code",
   "execution_count": 19,
   "id": "8080f3a5",
   "metadata": {
    "slideshow": {
     "slide_type": "fragment"
    }
   },
   "outputs": [
    {
     "data": {
      "text/plain": [
       "       message: The algorithm converged to the desired accuracy.\n",
       "       success: True\n",
       "        status: 0\n",
       "             x: [ 0.000e+00  5.556e-01 ...  9.444e+00  1.000e+01]\n",
       "           sol: <scipy.interpolate._interpolate.PPoly object at 0x7efea492d810>\n",
       "             p: None\n",
       "             y: [[ 3.000e+02  2.788e+02 ...  2.039e+02  2.037e+02]\n",
       "                 [-4.374e+01 -3.319e+01 ... -4.806e-01 -1.866e-01]]\n",
       "            yp: [[-4.374e+01 -3.319e+01 ... -4.806e-01 -1.866e-01]\n",
       "                 [ 2.255e+01  1.593e+01 ...  5.442e-01  5.181e-01]]\n",
       " rms_residuals: [ 5.847e-04  4.042e-04 ...  4.991e-05  5.614e-05]\n",
       "         niter: 2"
      ]
     },
     "execution_count": 19,
     "metadata": {},
     "output_type": "execute_result"
    }
   ],
   "source": [
    "out = solve_bvp(F, bc, x_init, y_init)\n",
    "out"
   ]
  },
  {
   "cell_type": "markdown",
   "id": "911a8f0b",
   "metadata": {
    "slideshow": {
     "slide_type": "fragment"
    }
   },
   "source": [
    "Notar que tenemos una serie de *outputs*, de los cuales `out.x` corresponden a los nodos de la malla, `out.y[0,:]` valores de temperatura, y `out.y[1,:]` valores para q."
   ]
  },
  {
   "cell_type": "code",
   "execution_count": 20,
   "id": "66f7fb18",
   "metadata": {
    "slideshow": {
     "slide_type": "fragment"
    }
   },
   "outputs": [],
   "source": [
    "xi = out.x      # nodos de colocación\n",
    "Ti = out.y[0,:] # valores de temperatura en xi\n",
    "qi = out.y[1,:] # valores de q en xi"
   ]
  },
  {
   "cell_type": "markdown",
   "id": "24f4cc77",
   "metadata": {
    "slideshow": {
     "slide_type": "slide"
    }
   },
   "source": [
    "Además la solución nos entrega un polinomio de interpolación en la variable `out.sol`, que podemos evaluar en puntos arbitrarios."
   ]
  },
  {
   "cell_type": "code",
   "execution_count": 21,
   "id": "fc88d4f3",
   "metadata": {
    "slideshow": {
     "slide_type": "-"
    }
   },
   "outputs": [
    {
     "name": "stdout",
     "output_type": "stream",
     "text": [
      "Temperatura en x = 0.4: 284.2 K\n",
      "Valor de Q en x = 0.4: -35.8 K/m\n"
     ]
    }
   ],
   "source": [
    "# Evaluamos el polinomio en X = 0.4\n",
    "X = 0.4\n",
    "print('Temperatura en x = %.1f: %.1f K' % (X, out.sol(X)[0]))\n",
    "print('Valor de Q en x = %.1f: %.1f K/m' % (X, out.sol(X)[1]))"
   ]
  },
  {
   "cell_type": "markdown",
   "id": "cacbf13e",
   "metadata": {
    "slideshow": {
     "slide_type": "fragment"
    }
   },
   "source": [
    "Al igual que las funciones de interpolación de `CubicSpline`, el polinómio de `out.sol` se pueden usar para determinar derivadas"
   ]
  },
  {
   "cell_type": "code",
   "execution_count": 22,
   "id": "24cc57fc",
   "metadata": {},
   "outputs": [
    {
     "name": "stdout",
     "output_type": "stream",
     "text": [
      "dT/dx en x = 0.4: -35.8 K/m\n",
      "dQ/dx en x = 0.4: 17.5 K/m^2\n"
     ]
    }
   ],
   "source": [
    "# Evaluamos la derivada del polinomio en X = 0.4\n",
    "X = 0.4\n",
    "print('dT/dx en x = %.1f: %.1f K/m' % (X, out.sol(X,1)[0]))\n",
    "print('dQ/dx en x = %.1f: %.1f K/m^2' % (X, out.sol(X,1)[1]))"
   ]
  },
  {
   "cell_type": "markdown",
   "id": "6b18fa65",
   "metadata": {
    "slideshow": {
     "slide_type": "slide"
    }
   },
   "source": [
    "Usamos nuestro resultado para graficar la solución"
   ]
  },
  {
   "cell_type": "code",
   "execution_count": 23,
   "id": "bc3d3c9e",
   "metadata": {
    "slideshow": {
     "slide_type": "fragment"
    }
   },
   "outputs": [
    {
     "data": {
      "image/png": "[encoded data removed]",
      "text/plain": [
       "<Figure size 800x300 with 1 Axes>"
      ]
     },
     "metadata": {},
     "output_type": "display_data"
    }
   ],
   "source": [
    "plt.rcParams.update({'font.size': 10}) # Tamaño de fuente\n",
    "fig, ax = plt.subplots(figsize=(8,3))\n",
    "\n",
    "x = np.linspace(0,L,100) # arreglo para gráficar \n",
    "T = out.sol(x)[0]        # valores de temperatura evaluados en polinomio de interpolación\n",
    "\n",
    "ax.plot(xi,Ti,'xb', label = 'nodos de colocación')\n",
    "ax.plot(x,T,':r',label = 'polinomio de interpolación evaluado')\n",
    "\n",
    "ax.set_title('Barra con convección en un extremo (solve_bvp)')\n",
    "ax.set_xlabel('Posicion de la barra, $x$ (m)')\n",
    "ax.set_ylabel('Temperatura en la barra, $T$ (K)')\n",
    "plt.legend()\n",
    "plt.show()"
   ]
  },
  {
   "cell_type": "markdown",
   "id": "e5035990",
   "metadata": {
    "slideshow": {
     "slide_type": "slide"
    }
   },
   "source": [
    "## Errores numéricos y  estabilidad\n",
    "\n",
    "Los problemas con condiciones de borde también estan expuestos a errores por truncamiento y por estabilidad."
   ]
  },
  {
   "cell_type": "markdown",
   "id": "58a9ff55",
   "metadata": {
    "slideshow": {
     "slide_type": "fragment"
    }
   },
   "source": [
    "-  En el caso del **método del disparo**, el error es similar a lo discutido con los métodos para resolver EDOs con valor inicial. Es decir, **este método puede presentar problemas de inestabilidad, rigidez, y errores de truncamiento** dependiendo del método utilizado para resolver el problema de valor inicial"
   ]
  },
  {
   "cell_type": "markdown",
   "id": "b9ddd31c",
   "metadata": {
    "slideshow": {
     "slide_type": "fragment"
    }
   },
   "source": [
    "- En el caso del **método de diferencias finitas**, el **error está directamente asociado al truncamiento de la serie de Taylor**, lo cual depende del esquema utilizado para la discretización (diferencia central, diferencia hacia adelante, etc)."
   ]
  },
  {
   "cell_type": "markdown",
   "id": "ed475c7f",
   "metadata": {
    "slideshow": {
     "slide_type": "fragment"
    }
   },
   "source": [
    "- Similarmente, **el error del método método de colocación está condicionado al truncamiento de la serie de Taylor, el cual está intrínsecamente ligado al grado del polinomio de interpolación.**"
   ]
  },
  {
   "cell_type": "markdown",
   "id": "b6ed12a9",
   "metadata": {
    "slideshow": {
     "slide_type": "slide"
    }
   },
   "source": [
    "Por último es importante mencionar que el método de diferencias finitas es fácilmente extendible a problemas expresados en ecuaciones diferenciales parciales. Esto lo revisaremos en la próxima unidad del curso."
   ]
  },
  {
   "cell_type": "markdown",
   "id": "33d3b1b6",
   "metadata": {
    "cell_style": "center",
    "slideshow": {
     "slide_type": "slide"
    }
   },
   "source": [
    "## Referencias\n",
    "- Kong Q., Siauw T., Bayen A. M. **Chapter 23: Boundary-Value Problems for ODEs** in *[Python Programming and Numerical Methods – A Guide for Engineers and Scientists](https://pythonnumericalmethods.berkeley.edu/notebooks/chapter23.00-ODE-Boundary-Value-Problems.html)*, 1st Ed., Academic Press, 2021\n",
    "\n",
    "- Chapra S., Canale R. **Capítulo 27 Problemas de valores en la frontera y de valores própios** en *Métodos Numéricos para Ingenieros*, 6ta Ed., McGraw Hill, 2011\n"
   ]
  }
 ],
 "metadata": {
  "celltoolbar": "Slideshow",
  "kernelspec": {
   "display_name": "Python 3 (ipykernel)",
   "language": "python",
   "name": "python3"
  },
  "language_info": {
   "codemirror_mode": {
    "name": "ipython",
    "version": 3
   },
   "file_extension": ".py",
   "mimetype": "text/x-python",
   "name": "python",
   "nbconvert_exporter": "python",
   "pygments_lexer": "ipython3",
   "version": "3.11.9"
  },
  "latex_envs": {
   "LaTeX_envs_menu_present": false,
   "autoclose": false,
   "autocomplete": false,
   "bibliofile": "biblio.bib",
   "cite_by": "apalike",
   "current_citInitial": 1,
   "eqLabelWithNumbers": true,
   "eqNumInitial": 1,
   "hotkeys": {
    "equation": "Ctrl-E",
    "itemize": "Ctrl-I"
   },
   "labels_anchors": false,
   "latex_user_defs": false,
   "report_style_numbering": false,
   "user_envs_cfg": true
  },
  "rise": {
   "height": "100%",
   "theme": "simple",
   "width": "100%"
  },
  "toc": {
   "base_numbering": "1",
   "nav_menu": {},
   "number_sections": true,
   "sideBar": true,
   "skip_h1_title": true,
   "title_cell": "Contenidos",
   "title_sidebar": "Contenidos",
   "toc_cell": false,
   "toc_position": {
    "height": "calc(100% - 180px)",
    "left": "10px",
    "top": "150px",
    "width": "271.812px"
   },
   "toc_section_display": true,
   "toc_window_display": false
  },
  "varInspector": {
   "cols": {
    "lenName": 16,
    "lenType": 16,
    "lenVar": 40
   },
   "kernels_config": {
    "python": {
     "delete_cmd_postfix": "",
     "delete_cmd_prefix": "del ",
     "library": "var_list.py",
     "varRefreshCmd": "print(var_dic_list())"
    },
    "r": {
     "delete_cmd_postfix": ") ",
     "delete_cmd_prefix": "rm(",
     "library": "var_list.r",
     "varRefreshCmd": "cat(var_dic_list()) "
    }
   },
   "types_to_exclude": [
    "module",
    "function",
    "builtin_function_or_method",
    "instance",
    "_Feature"
   ],
   "window_display": false
  }
 },
 "nbformat": 4,
 "nbformat_minor": 5
}

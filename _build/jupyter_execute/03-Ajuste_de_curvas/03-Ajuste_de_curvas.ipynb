{
 "cells": [
  {
   "cell_type": "markdown",
   "id": "6d47d103",
   "metadata": {
    "slideshow": {
     "slide_type": "slide"
    }
   },
   "source": [
    "<font size=\"6\">MEC301 - Métodos Numéricos</font>\n",
    "# Ajuste de curvas por mínimos cuadrados\n",
    "<br><br><br><br>\n",
    "Profesor: Francisco Ramírez Cuevas<br>\n",
    "Fecha: 22 de Agosto 2022"
   ]
  },
  {
   "cell_type": "markdown",
   "id": "ced00fe8",
   "metadata": {
    "slideshow": {
     "slide_type": "slide"
    }
   },
   "source": [
    "## Introducción\n",
    "\n",
    "La gran mayoría de las fórmulas en la ciencia no pueden ser determinadas de forma teórica y debemos recurrir a relaciones empíricas en base a experimentos. "
   ]
  },
  {
   "cell_type": "markdown",
   "id": "0850b291",
   "metadata": {
    "slideshow": {
     "slide_type": "slide"
    }
   },
   "source": [
    "Por ejemplo, en mecánica de fluidos decimos que la fuerza de arrastre, $F_D$ sobre un cuerpo es proporcional al cuadrado de la velocidad del flujo alrededor el cuerpo, $V$.\n",
    "\n",
    "\\begin{equation*}\n",
    "F_D = C_D V^2 \n",
    "\\end{equation*}\n",
    "\n",
    "Aunque esta relación es válida para cualquier cuerpo, el valor del coeficiente de arrastre $C_D$, cambia dependiendo del objeto."
   ]
  },
  {
   "cell_type": "markdown",
   "id": "fe256e6d",
   "metadata": {
    "slideshow": {
     "slide_type": "slide"
    }
   },
   "source": [
    "En la gran mayoría de los casos, este valor no se puede determinar de forma analítica, y debemos recurrir a ensallos en un tunel de viento para determinar la relación entre estas dos variables.\n",
    "\n",
    "<img src=\"./images/wind_tunnel.png\" width=\"800\" align= center>\n",
    "\n",
    "El valor de $C_D$ estará dado por la curva que mejor se ajuste a estos valores experimentales."
   ]
  },
  {
   "cell_type": "markdown",
   "id": "a9ad05ad",
   "metadata": {
    "slideshow": {
     "slide_type": "slide"
    }
   },
   "source": [
    "### Regresión lineal unidimensional\n",
    "Consideremos el caso más simple donde buscamos la recta $y=f(x)$ que mejor se ajuste a nuestros datos.\n",
    "\n",
    "\\begin{equation*}\n",
    "y = a_0 + a_1x,\n",
    "\\end{equation*}\n",
    "\n",
    "donde $a_0$ y $a_1$ son coeficientes representando el intercepto y la pendiente, respectivamente."
   ]
  },
  {
   "cell_type": "markdown",
   "id": "9494c7c9",
   "metadata": {
    "slideshow": {
     "slide_type": "fragment"
    }
   },
   "source": [
    "**¿Cómo determinamos los coeficientes?** Se puede demostrar que la mejor forma de determinar los coeficientes $a_0$ y $a_1$ es minimizando el error cuadrático:\n",
    "\n",
    "\\begin{equation*}\n",
    "S_r = \\sum_{i=1}^m \\left(y_i - a_0 - a_1 x_i\\right)^2 \\label{eq:error_linear1D}\n",
    "\\end{equation*}\n",
    "\n",
    "donde $i = 1,...,m$ son los datos de la muestra considerando un total de $m$ datos."
   ]
  },
  {
   "cell_type": "markdown",
   "id": "6525917c",
   "metadata": {
    "slideshow": {
     "slide_type": "fragment"
    }
   },
   "source": [
    "Este criterio se denomina **ajuste por mínimos cuadrados,** y tiene un número de ventajas, como por ejemplo, entregar una solución única para un set de datos."
   ]
  },
  {
   "cell_type": "markdown",
   "id": "a3c9cfd7",
   "metadata": {
    "slideshow": {
     "slide_type": "slide"
    }
   },
   "source": [
    "### Ajuste por mínimos cuadrados paso a paso\n",
    "\n",
    "Primero, para buscar el mínimo de $S_r$ aplicamos la derivada respecto a sus variables, es decir, $a_0$ y $a_1$\n",
    "\n",
    "\\begin{align*}\n",
    "\\frac{\\partial S_r}{\\partial a_0} &= -2 \\sum \\left(y_i - a_0 - a_1 x_i\\right)\n",
    "\\\\\n",
    "\\frac{\\partial S_r}{\\partial a_1} &= -2 \\sum \\left[\\left(y_i - a_0 - a_1 x_i\\right)x_i\\right]\n",
    "\\end{align*}"
   ]
  },
  {
   "cell_type": "markdown",
   "id": "9b5a6afa",
   "metadata": {
    "slideshow": {
     "slide_type": "fragment"
    }
   },
   "source": [
    "El mínimo está dado cuando ambas derivadas son $0$.\n",
    "\n",
    "\\begin{align*}\n",
    "0 &= \\sum y_i - a_0\\sum 1 - a_1\\sum x_i\n",
    "\\\\\n",
    "0 &=  \\sum y_ix_i - a_0\\sum x_i - a_1 \\sum x_i^2\n",
    "\\end{align*}"
   ]
  },
  {
   "cell_type": "markdown",
   "id": "33edb956",
   "metadata": {
    "slideshow": {
     "slide_type": "slide"
    }
   },
   "source": [
    "El resultado podemos expresarlo como un sistema de ecuaciones lineales:\n",
    "\n",
    "\\begin{equation*}\n",
    "\\begin{bmatrix}\n",
    "m & \\sum x_i \\\\\n",
    "\\sum x_i & \\sum x_i^2\n",
    "\\end{bmatrix}\n",
    "\\left[\\begin{array}{c} a_0 \\\\a_1\\end{array}\\right] =\n",
    "\\left[\\begin{array}{c} \\sum y_i \\\\\\sum x_iy_i \\end{array}\\right]\n",
    "\\end{equation*}\n",
    "\n",
    "La solución de este sistema nos entregará los valores de $a_0$ y $a_1$"
   ]
  },
  {
   "cell_type": "markdown",
   "id": "ba1a23bc",
   "metadata": {
    "cell_style": "center",
    "slideshow": {
     "slide_type": "slide"
    }
   },
   "source": [
    "Consideremos los datos del problema del tunel de viento"
   ]
  },
  {
   "cell_type": "code",
   "execution_count": 1,
   "id": "3bf890b2",
   "metadata": {
    "cell_style": "center"
   },
   "outputs": [
    {
     "name": "stdout",
     "output_type": "stream",
     "text": [
      "Modelo lineal: \n",
      " y = -234.286 + 19.470*x\n"
     ]
    }
   ],
   "source": [
    "import numpy as np\n",
    "\n",
    "xi = np.array([ 10, 20,  30,  40,  50,   60,  70,  80])\n",
    "yi = np.array([ 25, 70, 380, 550, 610, 1220, 830, 1450])\n",
    "\n",
    "# construimos un sistema Ax = b\n",
    "m = len(xi)\n",
    "A = np.array([\n",
    "              [   m     ,  np.sum(xi)  ],\n",
    "              [np.sum(xi), np.sum(xi**2)]\n",
    "             ])\n",
    "\n",
    "b = np.array([[np.sum(yi)],\n",
    "              [np.sum(yi*xi)]])\n",
    "\n",
    "# resolvemos el sistema\n",
    "a = np.linalg.solve(A,b) \n",
    "print('Modelo lineal: \\n y = %.3f + %.3f*x' % (a[0], a[1]))"
   ]
  },
  {
   "cell_type": "code",
   "execution_count": 2,
   "id": "4a5a67c4",
   "metadata": {
    "cell_style": "center",
    "slideshow": {
     "slide_type": "slide"
    }
   },
   "outputs": [
    {
     "data": {
      "image/png": "[encoded data removed]",
      "text/plain": [
       "<Figure size 700x600 with 1 Axes>"
      ]
     },
     "metadata": {
      "filenames": {
       "image/png": "/mnt/c/Users/frami/OneDrive - Universidad Adolfo Ibanez/Teaching_courses/MEC301 - Metodos_Numericos/material_catedra/_build/jupyter_execute/03-Ajuste_de_curvas/03-Ajuste_de_curvas_12_0.png"
      }
     },
     "output_type": "display_data"
    }
   ],
   "source": [
    "# ploteamos nuestro resultado\n",
    "import matplotlib.pyplot as plt\n",
    "plt.rcParams.update({'font.size': 18})\n",
    "\n",
    "# contruimos el modelo\n",
    "y = lambda x: a[0] + a[1]*x\n",
    "x = np.linspace(0,85,100)  # creamos un arreglo para ploteo\n",
    "\n",
    "plt.figure(figsize = (7,6))\n",
    "plt.plot(xi, yi, 'bo')\n",
    "plt.plot(x, y(x), '-r')\n",
    "plt.xlabel('x')\n",
    "plt.ylabel('y')\n",
    "plt.show()"
   ]
  },
  {
   "cell_type": "markdown",
   "id": "f6b26dcd",
   "metadata": {
    "slideshow": {
     "slide_type": "slide"
    }
   },
   "source": [
    "### Cuantificación del error"
   ]
  },
  {
   "cell_type": "markdown",
   "id": "d3894195",
   "metadata": {
    "cell_style": "split",
    "slideshow": {
     "slide_type": "-"
    }
   },
   "source": [
    "Para cuantificar la calidad de nuestro modelo utilizamos el **coeficiente de determinación, $r^2$:**\n",
    "\n",
    "\\begin{equation}\n",
    "r^2 = \\frac{S_t - S_r}{S_t}\n",
    "\\end{equation}\n",
    "\n",
    "donde $S_r$ es el error del modelo lineal, y $S_t = \\sum\\left(y_i - \\bar{y}\\right)^2$ es la desviación de los datos respecto a la media $\\bar{y}$.\n",
    "\n",
    ">El coeficiente de determinación nos permite cuantificar la calidad de nuestro modelo para representar una muestra, en comparación con la media $\\bar{y}$."
   ]
  },
  {
   "cell_type": "markdown",
   "id": "8cece2f8",
   "metadata": {
    "cell_style": "split",
    "slideshow": {
     "slide_type": "fragment"
    }
   },
   "source": [
    "En python este valor está dado por la función `r2_score` de la librería `scikit-learn`"
   ]
  },
  {
   "cell_type": "code",
   "execution_count": 3,
   "id": "50b963d5",
   "metadata": {
    "cell_style": "split"
   },
   "outputs": [
    {
     "name": "stdout",
     "output_type": "stream",
     "text": [
      "coef. de determinación\n",
      "r2 = 0.8805\n"
     ]
    }
   ],
   "source": [
    "from sklearn.metrics import r2_score \n",
    "print('coef. de determinación')\n",
    "print('r2 = %.4f' % r2_score(yi,y(xi)))"
   ]
  },
  {
   "cell_type": "markdown",
   "id": "a796a633",
   "metadata": {
    "cell_style": "split",
    "slideshow": {
     "slide_type": "fragment"
    }
   },
   "source": [
    "> El resultado indica que el modelo lineal explica un 88.05% de los datos"
   ]
  },
  {
   "cell_type": "markdown",
   "id": "77e6ae6e",
   "metadata": {
    "slideshow": {
     "slide_type": "fragment"
    }
   },
   "source": [
    ">**Notar que `r2_score(yi,y(xi)))` requiere dos arreglos de iguales dimensiones.** "
   ]
  },
  {
   "cell_type": "markdown",
   "id": "4439d9d6",
   "metadata": {
    "slideshow": {
     "slide_type": "slide"
    }
   },
   "source": [
    "### Linealización de funciones no lineales\n",
    "Existen algúnos modelos no lineales comúnes en ingeniería que pueden ser linealizados para luego realizar ajuste por mínimos cuadrados.\n",
    "\n",
    "Algúnos ejemplos son:\n",
    "- **modelo exponencial**\n",
    "\n",
    "\\begin{equation*}\n",
    "y = \\alpha e^{\\beta x} \\Rightarrow \\ln(y) = \\ln(\\alpha) + \\beta x\n",
    "\\end{equation*}\n",
    "\n",
    "- **modelo de potencia**\n",
    "\n",
    "\\begin{equation*}\n",
    "y = \\alpha x^{\\beta} \\Rightarrow \\log(y) = \\log(\\alpha) + \\beta \\log (x)\n",
    "\\end{equation*}\n",
    "\n",
    "- **modelo de tasa de crecimiento de saturación**\n",
    "\n",
    "\\begin{equation*}\n",
    "y = \\alpha \\frac{x}{\\beta + x} \\Rightarrow \n",
    "\\frac{1}{y} = \\frac{1}{\\alpha} +\\frac{\\beta}{\\alpha}\\frac{1}{x}\n",
    "\\end{equation*}"
   ]
  },
  {
   "cell_type": "markdown",
   "id": "f6170c2c",
   "metadata": {
    "slideshow": {
     "slide_type": "slide"
    }
   },
   "source": [
    "<img src=\"./images/linealization.png\" width=\"800\" align= center>"
   ]
  },
  {
   "cell_type": "markdown",
   "id": "02d9befa",
   "metadata": {
    "slideshow": {
     "slide_type": "slide"
    }
   },
   "source": [
    "> Para el modelo de potencia, podemos usar \"$\\log$\" o \"$\\ln$\" para linealizar, tomando la precausión de usar la función inversa correcta para recuperar el modelo original, es decir:\n",
    "\n",
    "\\begin{align*}\n",
    "y &= 10^{\\log \\alpha + \\beta\\log x}\\quad\\mathrm{o,}\\\\\n",
    "y &= e^{\\ln \\alpha + \\beta\\ln x}\n",
    "\\end{align*}\n",
    "\n",
    "> **Los coeficientes del modelo linealizado serán diferentes** dependiendo de si se usa \"$\\log$\" o \"$\\ln$\". **Sin embargo, el modelo original debe ser el mismo**, independientemente de la función utilizada para la linealización."
   ]
  },
  {
   "cell_type": "markdown",
   "id": "607254ab",
   "metadata": {
    "slideshow": {
     "slide_type": "slide"
    }
   },
   "source": [
    "Analicemos el ejemplo anterior, ahora ajustando los datos al modelo de potencia $y = \\alpha x^{\\beta}$"
   ]
  },
  {
   "cell_type": "code",
   "execution_count": 4,
   "id": "2f3ced4e",
   "metadata": {
    "cell_style": "split",
    "slideshow": {
     "slide_type": "fragment"
    }
   },
   "outputs": [
    {
     "name": "stdout",
     "output_type": "stream",
     "text": [
      "Modelo linealizado: \n",
      " log(y) = -1.294 + 1.984*log(x)\n"
     ]
    }
   ],
   "source": [
    "import numpy as np\n",
    "from numpy import log # en python log(x) = ln(x)\n",
    "xi = np.array([ 10, 20,  30,  40,  50,   60,  70,  80])\n",
    "yi = np.array([ 25, 70, 380, 550, 610, 1220, 830, 1450])\n",
    "\n",
    "# linealizamos las variables\n",
    "log_xi = log(xi)\n",
    "log_yi = log(yi)\n",
    "\n",
    "# construimos un sistema Ax = b\n",
    "m = len(xi)   # numero de datos\n",
    "A = np.array([[   m          ,  np.sum(log_xi)  ],\n",
    "              [np.sum(log_xi), np.sum(log_xi**2)]])\n",
    "\n",
    "b = np.array([[np.sum(log_yi)],\n",
    "              [np.sum(log_yi*log_xi)]])\n",
    "\n",
    "# resolvemos el sistema\n",
    "a = np.linalg.solve(A,b) \n",
    "print('Modelo linealizado: \\n log(y) = %.3f + %.3f*log(x)' \n",
    "      % (a[0], a[1]))"
   ]
  },
  {
   "cell_type": "markdown",
   "id": "1e1133e7",
   "metadata": {
    "cell_style": "split",
    "slideshow": {
     "slide_type": "fragment"
    }
   },
   "source": [
    "Para retornar al modelo original, aplicamos\n",
    "\n",
    "\\begin{equation*}\n",
    "y = e^{\\left(a_0+a_1\\ln x\\right)}\n",
    "\\end{equation*}"
   ]
  },
  {
   "cell_type": "code",
   "execution_count": 5,
   "id": "5d762df6",
   "metadata": {
    "cell_style": "split"
   },
   "outputs": [
    {
     "name": "stdout",
     "output_type": "stream",
     "text": [
      "Modelo no-lineal\n",
      "y = 0.274*x^1.984\n"
     ]
    }
   ],
   "source": [
    "from numpy import exp\n",
    "print('Modelo no-lineal')\n",
    "print('y = %.3f*x^%.3f' % (exp(a[0]), a[1]))"
   ]
  },
  {
   "cell_type": "markdown",
   "id": "39c5e548",
   "metadata": {
    "slideshow": {
     "slide_type": "slide"
    }
   },
   "source": [
    "Graficamos el resultado linealizado y sin linealizar"
   ]
  },
  {
   "cell_type": "code",
   "execution_count": 6,
   "id": "49841780",
   "metadata": {
    "slideshow": {
     "slide_type": "fragment"
    }
   },
   "outputs": [],
   "source": [
    "from numpy import exp\n",
    "\n",
    "# reconstrumimos el modelo original con: exp(log(a)+b log(x))\n",
    "y = lambda x: exp(a[0] + a[1]*log(x))"
   ]
  },
  {
   "cell_type": "code",
   "execution_count": 7,
   "id": "83ef4c2c",
   "metadata": {
    "cell_style": "split",
    "slideshow": {
     "slide_type": "fragment"
    }
   },
   "outputs": [
    {
     "data": {
      "image/png": "[encoded data removed]",
      "text/plain": [
       "<Figure size 600x500 with 1 Axes>"
      ]
     },
     "metadata": {
      "filenames": {
       "image/png": "/mnt/c/Users/frami/OneDrive - Universidad Adolfo Ibanez/Teaching_courses/MEC301 - Metodos_Numericos/material_catedra/_build/jupyter_execute/03-Ajuste_de_curvas/03-Ajuste_de_curvas_28_0.png"
      }
     },
     "output_type": "display_data"
    }
   ],
   "source": [
    "# modelo linealizado\n",
    "import matplotlib.pyplot as plt\n",
    "x = np.linspace(1,85,100) # arreglo para ploteo\n",
    "\n",
    "plt.rcParams.update({'font.size': 18})\n",
    "plt.figure(figsize = (6,5))\n",
    "plt.plot(log_xi, log_yi, 'bo')\n",
    "plt.plot(log(x), log(y(x)), '-r')\n",
    "plt.xlabel('log x')\n",
    "plt.ylabel('log y')\n",
    "plt.show()"
   ]
  },
  {
   "cell_type": "code",
   "execution_count": 8,
   "id": "07a20b21",
   "metadata": {
    "cell_style": "split",
    "slideshow": {
     "slide_type": "fragment"
    }
   },
   "outputs": [
    {
     "data": {
      "image/png": "[encoded data removed]",
      "text/plain": [
       "<Figure size 600x500 with 1 Axes>"
      ]
     },
     "metadata": {
      "filenames": {
       "image/png": "/mnt/c/Users/frami/OneDrive - Universidad Adolfo Ibanez/Teaching_courses/MEC301 - Metodos_Numericos/material_catedra/_build/jupyter_execute/03-Ajuste_de_curvas/03-Ajuste_de_curvas_29_0.png"
      }
     },
     "output_type": "display_data"
    }
   ],
   "source": [
    "# modelo original\n",
    "import matplotlib.pyplot as plt\n",
    "x = np.linspace(1,85,100) # arreglo para ploteo\n",
    "\n",
    "plt.rcParams.update({'font.size': 18})\n",
    "plt.figure(figsize = (6,5))\n",
    "plt.plot(xi, yi, 'bo')\n",
    "plt.plot(x, y(x), '-r')\n",
    "plt.xlabel('x')\n",
    "plt.ylabel('y')\n",
    "plt.show()"
   ]
  },
  {
   "cell_type": "markdown",
   "id": "370ec498",
   "metadata": {
    "slideshow": {
     "slide_type": "slide"
    }
   },
   "source": [
    "Analizamos la calidad del modelo"
   ]
  },
  {
   "cell_type": "code",
   "execution_count": 9,
   "id": "ef715f44",
   "metadata": {
    "cell_style": "center",
    "scrolled": true,
    "slideshow": {
     "slide_type": "-"
    }
   },
   "outputs": [
    {
     "name": "stdout",
     "output_type": "stream",
     "text": [
      "coef. de determinación\n",
      "r2 = 0.8088\n"
     ]
    }
   ],
   "source": [
    "# analizamos la calidad del modelo\n",
    "from sklearn.metrics import r2_score \n",
    "\n",
    "print('coef. de determinación')\n",
    "print('r2 = %.4f' % r2_score(yi,y(xi)))"
   ]
  },
  {
   "cell_type": "markdown",
   "id": "aaef50a3",
   "metadata": {
    "slideshow": {
     "slide_type": "fragment"
    }
   },
   "source": [
    "> El resultado indica que el modelo lineal explica un 80.88% de los datos"
   ]
  },
  {
   "cell_type": "markdown",
   "id": "541f3c43",
   "metadata": {
    "slideshow": {
     "slide_type": "slide"
    }
   },
   "source": [
    "El coeficiente de determinación para el modelo no-lineal ($r^2=80.88\\%$) es menor que para el modelo lineal ($r^2=88.05\\%$). Sin embargo, el modelo no-lineal se ajusta mejor al modelo físico (por ejemplo, $F = 0$ para $v = 0$).\n",
    "\n",
    "Por lo tanto, el modelo de potencia:\n",
    "\\begin{equation*}\n",
    "y = 0.274 x^{1.984},\n",
    "\\end{equation*}\n",
    "\n",
    "es el más adecuado para los datos."
   ]
  },
  {
   "cell_type": "markdown",
   "id": "b3350ce0",
   "metadata": {
    "slideshow": {
     "slide_type": "slide"
    }
   },
   "source": [
    "## Otros modelos lineales\n",
    "El procedimiento de ajuste de curva por mínimos cuadrados se puede extender para modelos de ajuste más complejos, tales como:\n",
    "- Regresión polinomial\n",
    "- Regresión lineal multivariable"
   ]
  },
  {
   "cell_type": "markdown",
   "id": "9a617b66",
   "metadata": {
    "slideshow": {
     "slide_type": "slide"
    }
   },
   "source": [
    "### Regresión polinomial\n",
    "En su forma general, el modelo polinomial corresponde a una función univariable de la forma\n",
    "\n",
    "\\begin{equation}\n",
    "y = a_0 + a_1x + a_2x^2+a_3x^3+... a_n x^n \n",
    "\\end{equation}"
   ]
  },
  {
   "cell_type": "markdown",
   "id": "de998be8",
   "metadata": {
    "slideshow": {
     "slide_type": "slide"
    }
   },
   "source": [
    "Por ejemplo, consideremos el modelo $y = a_0 + a_1 x + a_2 x^2$. Según el método de regresión por mínimos cuadrados, la mejor curva está dada por el mínimo de:\n",
    "\\begin{equation*}\n",
    "S_r = \\sum_{i=1}^m \\left(y_i - a_0 - a_1 x_i - a_2 x_i^2\\right)^2,\n",
    "\\end{equation*}\n",
    "\n",
    "Aplicando $\\frac{\\partial S_r}{\\partial a_0} =0$, $\\frac{\\partial S_r}{\\partial a_1} =0$ y $\\frac{\\partial S_r}{\\partial a_2} =0$, llegamos al sistema de ecuaciones:\n",
    "\n",
    "\\begin{equation*}\n",
    "\\begin{bmatrix}\n",
    "     m     & \\sum x_i   & \\sum x_i^2 \\\\\n",
    "\\sum x_i   & \\sum x_i^2 & \\sum x_i^3 \\\\\n",
    "\\sum x_i^2 & \\sum x_i^3 & \\sum x_i^4 \\\\\n",
    "\\end{bmatrix}\n",
    "\\left[\\begin{array}{c} a_0 \\\\a_1\\\\a_2\\end{array}\\right] =\n",
    "\\left[\\begin{array}{c} \\sum y_i \\\\\\sum x_iy_i\\\\\\sum x_i^2y_i \\end{array}\\right]\n",
    "\\end{equation*}\n",
    "\n",
    "Cuya solución nos entrega el valor de los coeficientes $a_0$, $a_1$ y $a_2$"
   ]
  },
  {
   "cell_type": "code",
   "execution_count": 10,
   "id": "1d9cfd17",
   "metadata": {
    "cell_style": "split",
    "slideshow": {
     "slide_type": "slide"
    }
   },
   "outputs": [
    {
     "name": "stdout",
     "output_type": "stream",
     "text": [
      "Modelo polinomial: \n",
      " y = -178.482 + 16.122*x + 0.037*x^2\n"
     ]
    }
   ],
   "source": [
    "import numpy as np\n",
    "xi = np.array([ 10, 20,  30,  40,  50,   60,  70,  80])\n",
    "yi = np.array([ 25, 70, 380, 550, 610, 1220, 830, 1450])\n",
    "\n",
    "# construimos un sistema Ax = b\n",
    "m = len(xi)\n",
    "A = np.array([[   m         , np.sum(xi),     np.sum(xi**2)],\n",
    "              [np.sum(xi)   , np.sum(xi**2),  np.sum(xi**3)],\n",
    "              [np.sum(xi**2), np.sum(xi**3),  np.sum(xi**4)]])\n",
    "\n",
    "b = np.array([[np.sum(yi)      ],\n",
    "              [np.sum(yi*xi)   ],\n",
    "              [np.sum(yi*xi**2)]])\n",
    "\n",
    "# resolvemos el sistema\n",
    "a = np.linalg.solve(A,b) \n",
    "print('Modelo polinomial: \\n y = %.3f + %.3f*x + %.3f*x^2' \n",
    "      % (a[0], a[1], a[2]))"
   ]
  },
  {
   "cell_type": "code",
   "execution_count": 11,
   "id": "44589c32",
   "metadata": {
    "cell_style": "split"
   },
   "outputs": [
    {
     "name": "stdout",
     "output_type": "stream",
     "text": [
      "coef. de determinación\n",
      "r2 = 0.8818\n"
     ]
    }
   ],
   "source": [
    "# reconstrumimos como exp(log(a)+b log(x))\n",
    "y = lambda x: a[0] + a[1]*x + a[2]*x**2\n",
    "\n",
    "# analizamos la calidad del modelo\n",
    "from sklearn.metrics import r2_score \n",
    "\n",
    "print('coef. de determinación')\n",
    "print('r2 = %.4f' % r2_score(yi,y(xi)))"
   ]
  },
  {
   "cell_type": "markdown",
   "id": "ddb3bd25",
   "metadata": {
    "slideshow": {
     "slide_type": "slide"
    }
   },
   "source": [
    "Notar como gráficamente el modelo sigue una tendencia casi lineal."
   ]
  },
  {
   "cell_type": "code",
   "execution_count": 12,
   "id": "38f02544",
   "metadata": {
    "cell_style": "split",
    "slideshow": {
     "slide_type": "-"
    }
   },
   "outputs": [
    {
     "data": {
      "image/png": "[encoded data removed]",
      "text/plain": [
       "<Figure size 600x500 with 1 Axes>"
      ]
     },
     "metadata": {
      "filenames": {
       "image/png": "/mnt/c/Users/frami/OneDrive - Universidad Adolfo Ibanez/Teaching_courses/MEC301 - Metodos_Numericos/material_catedra/_build/jupyter_execute/03-Ajuste_de_curvas/03-Ajuste_de_curvas_40_0.png"
      }
     },
     "output_type": "display_data"
    }
   ],
   "source": [
    "import matplotlib.pyplot as plt\n",
    "x = np.linspace(1,85,100) # arreglo para ploteo\n",
    "\n",
    "plt.rcParams.update({'font.size': 18})\n",
    "plt.figure(figsize = (6,5))\n",
    "plt.plot(xi, yi, 'bo')\n",
    "plt.plot(x, y(x), '-r')\n",
    "plt.xlabel('x')\n",
    "plt.ylabel('y')\n",
    "plt.show()"
   ]
  },
  {
   "cell_type": "markdown",
   "id": "38612fc8",
   "metadata": {
    "cell_style": "split"
   },
   "source": [
    "Al incluir término $a_2x^2$ en nuestro modelo lineal, $a_0 + a_1x$, esperabamos un mejor ajsute con el modelo físico $F_D = C_D V^2$.\n",
    "\n",
    "Sin embargo, la tendencia del método por minimizar el error (en otras palabras, mejorar $r^2$) lleva a forzar una curva lineal que no se ajusta a la física del problema."
   ]
  },
  {
   "cell_type": "markdown",
   "id": "8d3d5a43",
   "metadata": {
    "slideshow": {
     "slide_type": "slide"
    }
   },
   "source": [
    "### Regresión lineal multidimensional\n",
    "Para problemas con más de una variable independiente se deben untilizar modelos multidimencionales. Un modelo común corresponde al modelo linear de la forma:\n",
    "\n",
    "\\begin{equation}\n",
    "y = a_0 + a_1x_1 + a_2x_2+a_3x_3+... a_n x_n \n",
    "\\end{equation}"
   ]
  },
  {
   "cell_type": "markdown",
   "id": "b49ced7c",
   "metadata": {
    "slideshow": {
     "slide_type": "slide"
    }
   },
   "source": [
    "Por ejemplo, para dos dimensiones tenemos:\n",
    "\\begin{equation*}\n",
    "y = a_0 + a_1x_1+a_2x_2\n",
    "\\end{equation*}"
   ]
  },
  {
   "cell_type": "markdown",
   "id": "ba9b4a84",
   "metadata": {
    "slideshow": {
     "slide_type": "fragment"
    }
   },
   "source": [
    "la mejor curva está dada por el mínimo de:\n",
    "\n",
    "\\begin{equation*}\n",
    "S_r = \\sum_{i=1}^m \\left(y_i - a_0 - a_1x_{1,i}+a_2x_{2,i}\\right)^2,\n",
    "\\end{equation*}\n",
    "\n",
    "Aplicando $\\frac{\\partial S_r}{\\partial a_0} =0$, $\\frac{\\partial S_r}{\\partial a_1} =0$ y $\\frac{\\partial S_r}{\\partial a_2} =0$, llegamos al sistema de ecuaciones:\n",
    "\n",
    "\\begin{equation*}\n",
    "\\begin{bmatrix}\n",
    "     m       & \\sum x_{1,i}        & \\sum x_{2,i} \\\\\n",
    "\\sum x_{1,i} & \\sum x_{2,i}        & \\sum x_{1,i}x_{2,i} \\\\\n",
    "\\sum x_{2,i} & \\sum x_{1,i}x_{2,i} & \\sum x_{2,i}^2 \\\\\n",
    "\\end{bmatrix}\n",
    "\\left[\\begin{array}{c} a_0 \\\\a_1\\\\a_2\\end{array}\\right] =\n",
    "\\left[\\begin{array}{c} \\sum y_i \\\\\\sum x_{1,i}y_i\\\\\\sum x_{2,i}y_i \\end{array}\\right]\n",
    "\\end{equation*}\n",
    "\n",
    "Cuya solución nos entrega el valor de los coeficientes $a_0$, $a_1$ y $a_2$"
   ]
  },
  {
   "cell_type": "markdown",
   "id": "f9d8deec",
   "metadata": {
    "slideshow": {
     "slide_type": "slide"
    }
   },
   "source": [
    "Gráficamente, el método de regresión por mínimos cuadrados corresponde a determinar el plano que minimice el error cuadrático.\n",
    "\n",
    "<img src=\"./images/2D_plane.png\" width=\"300\" align= center>"
   ]
  },
  {
   "cell_type": "markdown",
   "id": "05846a74",
   "metadata": {
    "slideshow": {
     "slide_type": "slide"
    }
   },
   "source": [
    "## Regresión por mínimos cuadrados generalizado"
   ]
  },
  {
   "cell_type": "markdown",
   "id": "63388145",
   "metadata": {
    "slideshow": {
     "slide_type": "fragment"
    }
   },
   "source": [
    "### Modelo lineal generalizado\n",
    "Todos los modelos revisados anteriormente pertenecen a un modelo lineal general con la forma:\n",
    "\n",
    "\\begin{equation}\n",
    "y = a_0z_0+a_1z_1+a_2z_2+...a_nz_n,\n",
    "\\end{equation}\n",
    "\n",
    "donde $z_0, z_1,..., z_n$ son funciones base. \n",
    "\n",
    "Por ejemplo:\n",
    "\n",
    "|modelo|$z_0$|$z_1$|$z_2$|\n",
    "|:-:|:-:|:-:|:-:|\n",
    "|linear unidimensional| $1$|$x$||\n",
    "|polinomial| $1$|$x$| $x^2$|\n",
    "|linear multidimensional| $1$|$x_1$| $x_2$|"
   ]
  },
  {
   "cell_type": "markdown",
   "id": "bee22006",
   "metadata": {
    "slideshow": {
     "slide_type": "slide"
    }
   },
   "source": [
    "El término \"*lineal*\" hace referencia al tipo de dependencia entre las funciones base. Tal como sucede con el modelo polinomial, las funciones base $z_i$ pueden ser no-lineales. Por ejemplo, sinusoides:\n",
    "\n",
    "\\begin{equation*}\n",
    "y = a_0 + a_1 \\cos\\left(x\\right) + a_1 \\sin\\left(x\\right) + a_3 \\cos\\left(2x\\right) + a_4 \\sin\\left(2x\\right) ...,\n",
    "\\end{equation*}\n"
   ]
  },
  {
   "cell_type": "markdown",
   "id": "5f5b40b1",
   "metadata": {
    "slideshow": {
     "slide_type": "slide"
    }
   },
   "source": [
    "### Regresión por mínimos cuadrados\n",
    "En general, se busca minimizar el error:\n",
    "\\begin{equation}\n",
    "S_r = \\sum_{i=1}^m (y(x_i) - y_i)^2 = \\sum_{i=1}^m \\left[\\sum_{j=1}^n a_j z_j(x_i) - y_i\\right]^2.\n",
    "\\end{equation}"
   ]
  },
  {
   "cell_type": "markdown",
   "id": "5e487334",
   "metadata": {
    "slideshow": {
     "slide_type": "fragment"
    }
   },
   "source": [
    "Se puede demostrar que la minimización de este error está dado por la solución del sistema:\n",
    "\n",
    "\\begin{equation}\n",
    "Z^T Z \\alpha = Z^T Y\n",
    "\\end{equation}\n",
    "\n",
    "donde:\n",
    "\\begin{equation*}\n",
    "Z =\\begin{bmatrix}\n",
    "z_0(x_1) & z_1(x_1) & \\cdots & z_n(x_1)\\\\\n",
    "z_0(x_2) & z_1(x_2) & \\cdots & z_n(x_2)\\\\\n",
    "\\vdots & \\vdots   & \\ddots & \\vdots \\\\\n",
    "z_0(x_m) & z_1(x_m) & \\cdots & z_n(x_m)\n",
    "\\end{bmatrix};\n",
    "\\quad\\quad\n",
    "\\alpha = \\begin{bmatrix} a_0 \\\\ a_1 \\\\ \\vdots \\\\a_n\\end{bmatrix};\n",
    "\\quad\\quad\n",
    "Y = \\begin{bmatrix} y_1 \\\\ y_2 \\\\ \\vdots \\\\y_m\\end{bmatrix}\n",
    "\\end{equation*}"
   ]
  },
  {
   "cell_type": "markdown",
   "id": "cc26982b",
   "metadata": {
    "slideshow": {
     "slide_type": "slide"
    }
   },
   "source": [
    "La solución está dada por $ \\alpha = \\left(Z^T Z\\right)^{-1}Z^T Y$. "
   ]
  },
  {
   "cell_type": "markdown",
   "id": "b50d8bfd",
   "metadata": {
    "slideshow": {
     "slide_type": "fragment"
    }
   },
   "source": [
    ">La matriz $\\left(Z^T Z\\right)^{-1}Z^T$ se conoce como **matriz pseudo-inversa**"
   ]
  },
  {
   "cell_type": "markdown",
   "id": "a271b399",
   "metadata": {
    "slideshow": {
     "slide_type": "slide"
    }
   },
   "source": [
    "## Mínimos cuadrados en python\n",
    "Analicemos distintos métodos en python para ajustar el modelo de ajuste para el experimento del tunel de viento"
   ]
  },
  {
   "cell_type": "markdown",
   "id": "73c9cc44",
   "metadata": {
    "slideshow": {
     "slide_type": "slide"
    }
   },
   "source": [
    "### numpy.linalg.pinv (matriz pseudo inversa)\n",
    "Una forma directa de encontrar los coeficientes del modelo de regresión es determinando la matriz pseudo inversa directamente"
   ]
  },
  {
   "cell_type": "markdown",
   "id": "c0714ded",
   "metadata": {
    "cell_style": "split",
    "slideshow": {
     "slide_type": "fragment"
    }
   },
   "source": [
    "Consideremos un modelo lineal, $y = a_0+a_1x$ para el ejemplo del tunel de viento. \n",
    "\n",
    "La matriz $Z$ en este caso es:\n",
    "\n",
    "\\begin{equation*}\n",
    "Z =\\begin{bmatrix}\n",
    "1 & x_1 \\\\\n",
    "1 & x_2 \\\\\n",
    "\\vdots & \\vdots \\\\\n",
    "1 & x_m \n",
    "\\end{bmatrix}\n",
    "\\end{equation*}"
   ]
  },
  {
   "cell_type": "code",
   "execution_count": 13,
   "id": "0328b6d5",
   "metadata": {
    "cell_style": "split",
    "slideshow": {
     "slide_type": "fragment"
    }
   },
   "outputs": [
    {
     "name": "stdout",
     "output_type": "stream",
     "text": [
      "Modelo lineal: y = -234.286 + 19.470*x\n"
     ]
    }
   ],
   "source": [
    "import numpy as np\n",
    "from numpy.linalg import pinv # pseudo-inverse\n",
    "\n",
    "# recopilación de la muestra\n",
    "xi = np.array([ 10, 20,  30,  40,  50,   60,  70,  80])\n",
    "yi = np.array([ 25, 70, 380, 550, 610, 1220, 830, 1450])\n",
    "\n",
    "# construimos la matriz Z en base al modelo a0 + a1*x\n",
    "Z = np.vstack((xi**0, xi**1)).T\n",
    "\n",
    "# matriz pseudo-inversa (A^T*A)^(-1)*A^T\n",
    "a = np.dot(pinv(Z),yi)\n",
    "print('Modelo lineal: y = %.3f + %.3f*x' % (a[0], a[1]))"
   ]
  },
  {
   "cell_type": "markdown",
   "id": "7d4fa060",
   "metadata": {
    "slideshow": {
     "slide_type": "fragment"
    }
   },
   "source": [
    ">La función `numpy.vstack` genera una matriz $k\\times N$, considerando $k$ arreglos 1D con $N$ elementos cada uno. **Es la forma más segura de apilar vectores fila** (ver documentación [acá](https://numpy.org/doc/stable/reference/generated/numpy.vstack.html))."
   ]
  },
  {
   "cell_type": "markdown",
   "id": "0b56ff0f",
   "metadata": {
    "slideshow": {
     "slide_type": "slide"
    }
   },
   "source": [
    "### numpy.linalg.lstsq (solución de sistemas lineales por mínimos cuadrados)\n",
    "Es un método general para resolver sistemas lineales de la forma $Ax = b$, independiente la relación entre el número de ecuaciones linealmente independientes y el número de incognitas (es decir, sistemas $\\mathrm{rank}\\left([A|b]\\right)\\neq \\mathrm{rank}\\left(A\\right) $). Se basa en minimizar la norma de Frobenius $\\|Ax-b\\|$.\n",
    "\n",
    "La función `lstsq` genera más de un output (ver documentación [acá](https://numpy.org/doc/stable/reference/generated/numpy.linalg.lstsq.html)). Para conceptos del modelo de ajuste, solo necesitamos el primer output `[0]`"
   ]
  },
  {
   "cell_type": "code",
   "execution_count": 14,
   "id": "6f00f6a1",
   "metadata": {},
   "outputs": [
    {
     "name": "stdout",
     "output_type": "stream",
     "text": [
      "Modelo lineal: y = -234.286 + 19.470*x\n"
     ]
    }
   ],
   "source": [
    "import numpy as np\n",
    "from numpy.linalg import lstsq\n",
    "\n",
    "# construimos el modelo\n",
    "xi = np.array([ 10, 20,  30,  40,  50,   60,  70,  80])\n",
    "yi = np.array([ 25, 70, 380, 550, 610, 1220, 830, 1450])\n",
    "\n",
    "# construimos la matriz Z en base al modelo a0 + a1*x\n",
    "Z = np.vstack((xi**0, xi**1)).T\n",
    "\n",
    "a = np.linalg.lstsq(Z, yi, rcond=None)[0]\n",
    "print('Modelo lineal: y = %.3f + %.3f*x' % (a[0], a[1]))"
   ]
  },
  {
   "cell_type": "markdown",
   "id": "963b3393",
   "metadata": {
    "slideshow": {
     "slide_type": "slide"
    }
   },
   "source": [
    "### numpy.polyfit (sistemas polinomiales de unidimencionales)\n",
    "Esta función está especificamente diseñada para modelos polinomiales de una dimensión, es decir, $y = a_0 + a_1x +a_2x^2+...a_nx^n$"
   ]
  },
  {
   "cell_type": "markdown",
   "id": "2f1d01c5",
   "metadata": {
    "slideshow": {
     "slide_type": "fragment"
    }
   },
   "source": [
    "**Los coeficientes de `polyfit` están ordenados de mayor potencia a menor potencia.** Por ejemplo, para generar un modelo en base a un polinomio de orden 2, \n",
    "```python\n",
    "a = numpy.polyfit(xi,yi,2) # coeficientes a0, a1, a2, ...\n",
    "```\n",
    "donde $a_0=$ `a[2]`, $a_1=$ `a[1]`, $a_2=$ `a[0]`"
   ]
  },
  {
   "cell_type": "markdown",
   "id": "5eca0744",
   "metadata": {
    "slideshow": {
     "slide_type": "fragment"
    }
   },
   "source": [
    "Para evitar confusiones con el orden de los coeficientes, **se recomienda utilizar `numpy.polyval(a,x)` para genera una función en base al modelo determinado**, donde `x` es un valor arbitrario y `a` son los coeficientes determinados por `polyfit`.\n",
    "```python\n",
    "y = numpy.polyval(a,x) # función en base al modelo y(x) = a0 + a1*x + ... am*x^m\n",
    "```"
   ]
  },
  {
   "cell_type": "code",
   "execution_count": 15,
   "id": "58f123d9",
   "metadata": {
    "cell_style": "split",
    "slideshow": {
     "slide_type": "slide"
    }
   },
   "outputs": [
    {
     "name": "stdout",
     "output_type": "stream",
     "text": [
      "Modelo polinomial:\n",
      "y = -178.482 + 16.122*x + 0.037*x^2\n"
     ]
    }
   ],
   "source": [
    "import numpy as np\n",
    "\n",
    "# construimos el modelo\n",
    "xi = np.array([ 10, 20,  30,  40,  50,   60,  70,  80])\n",
    "yi = np.array([ 25, 70, 380, 550, 610, 1220, 830, 1450])\n",
    "\n",
    "# Aplicamos modelo polinomial con polyfit\n",
    "a = np.polyfit(xi,yi,2)\n",
    "print('Modelo polinomial:')\n",
    "print('y = %.3f + %.3f*x + %.3f*x^2' % (a[2], a[1], a[0]))"
   ]
  },
  {
   "cell_type": "code",
   "execution_count": 16,
   "id": "af2564d9",
   "metadata": {
    "cell_style": "split"
   },
   "outputs": [
    {
     "data": {
      "image/png": "[encoded data removed]",
      "text/plain": [
       "<Figure size 600x500 with 1 Axes>"
      ]
     },
     "metadata": {
      "filenames": {
       "image/png": "/mnt/c/Users/frami/OneDrive - Universidad Adolfo Ibanez/Teaching_courses/MEC301 - Metodos_Numericos/material_catedra/_build/jupyter_execute/03-Ajuste_de_curvas/03-Ajuste_de_curvas_64_0.png"
      }
     },
     "output_type": "display_data"
    }
   ],
   "source": [
    "# evaluamos el modelo con polyval\n",
    "import matplotlib.pyplot as plt\n",
    "x = np.linspace(1,85,100) # arreglo para ploteo\n",
    "\n",
    "plt.rcParams.update({'font.size': 18})\n",
    "plt.figure(figsize = (6,5))\n",
    "plt.plot(xi, yi, 'bo')\n",
    "plt.plot(x, np.polyval(a,x), '-r') # y(x) con polyval\n",
    "plt.xlabel('x')\n",
    "plt.ylabel('y')\n",
    "plt.show()"
   ]
  },
  {
   "cell_type": "markdown",
   "id": "19137749",
   "metadata": {
    "slideshow": {
     "slide_type": "slide"
    }
   },
   "source": [
    "### scipy.optimize.curve_fit (regresión no-lineal)\n",
    "Esta función utiliza un método iterativo para ajustar una curva a una muestra. La función `curve_fit` puede ser utilizada para cualquier tipo de modelo, linear o no-linear, unidimensional o multidimensional.\n",
    "\n",
    "La función entrega una serie de outputs (ver documentación [acá](https://docs.scipy.org/doc/scipy/reference/generated/scipy.optimize.curve_fit.html)). Sin embargo, para determinar los coeficientes solo necesitamos el output `[0]`"
   ]
  },
  {
   "cell_type": "markdown",
   "id": "3ea674e0",
   "metadata": {
    "slideshow": {
     "slide_type": "slide"
    }
   },
   "source": [
    "Por ejemplo, ajustemos los datos al modelo $y=\\alpha x^\\beta$"
   ]
  },
  {
   "cell_type": "code",
   "execution_count": 17,
   "id": "79d00390",
   "metadata": {
    "cell_style": "split"
   },
   "outputs": [
    {
     "name": "stdout",
     "output_type": "stream",
     "text": [
      "Modelo no-lineal\n",
      "y = 2.538*x^1.436\n"
     ]
    }
   ],
   "source": [
    "import numpy as np\n",
    "from scipy.optimize import curve_fit\n",
    "\n",
    "xi = np.array([ 10, 20,  30,  40,  50,   60,  70,  80])\n",
    "yi = np.array([ 25, 70, 380, 550, 610, 1220, 830, 1450])\n",
    "\n",
    "# definimos nuestro modelo en formato de función\n",
    "def model(x,a,b):\n",
    "    y = a*x**b\n",
    "    return y\n",
    "\n",
    "a = curve_fit(model, xdata = xi, ydata = yi)[0]\n",
    "print('Modelo no-lineal')\n",
    "print('y = %.3f*x^%.3f' % (a[0], a[1]))"
   ]
  },
  {
   "cell_type": "code",
   "execution_count": 18,
   "id": "5b72a27f",
   "metadata": {
    "cell_style": "split"
   },
   "outputs": [
    {
     "data": {
      "image/png": "[encoded data removed]",
      "text/plain": [
       "<Figure size 600x500 with 1 Axes>"
      ]
     },
     "metadata": {
      "filenames": {
       "image/png": "/mnt/c/Users/frami/OneDrive - Universidad Adolfo Ibanez/Teaching_courses/MEC301 - Metodos_Numericos/material_catedra/_build/jupyter_execute/03-Ajuste_de_curvas/03-Ajuste_de_curvas_68_0.png"
      }
     },
     "output_type": "display_data"
    }
   ],
   "source": [
    "import matplotlib.pyplot as plt\n",
    "x = np.linspace(1,85,100) # arreglo para ploteo\n",
    "\n",
    "plt.rcParams.update({'font.size': 18})\n",
    "plt.figure(figsize = (6,5))\n",
    "plt.plot(xi, yi, 'bo')\n",
    "plt.plot(x, model(x,a[0],a[1]), '-r')\n",
    "plt.xlabel('x')\n",
    "plt.ylabel('y')\n",
    "plt.show()"
   ]
  },
  {
   "cell_type": "markdown",
   "id": "7bf4888f",
   "metadata": {
    "cell_style": "center",
    "slideshow": {
     "slide_type": "slide"
    }
   },
   "source": [
    "Notar que los coeficientes de este modelo son diferentes a los que determinamos mediante regresión lineal en la función linealizada.\n",
    "\n",
    "\\begin{equation*}\n",
    "y = 0.274x^{1.984}\\quad\\left(r^2=80.88\\%\\right)\n",
    "\\end{equation*}"
   ]
  },
  {
   "cell_type": "markdown",
   "id": "2e06b0be",
   "metadata": {
    "cell_style": "split",
    "slideshow": {
     "slide_type": "fragment"
    }
   },
   "source": [
    "Esto es debido a que la regresión no-lineal busca minimizar el error\n",
    "\n",
    "\\begin{equation*}\n",
    "S_r = \\sum_{i=1}^m (f_\\mathrm{nl}(x_i) - y_i)^2,\n",
    "\\end{equation*}\n",
    "\n",
    "de forma iterativa, y sin linealizar el modelo no-lineal $f_\\mathrm{nl}(x)$. Así, `curve_fit` permite buscar soluciones con valores $r^2$ más cercanos a $1$ que no son accesibles para el modelo lineal"
   ]
  },
  {
   "cell_type": "markdown",
   "id": "6f1ce7da",
   "metadata": {
    "cell_style": "split",
    "slideshow": {
     "slide_type": "fragment"
    }
   },
   "source": [
    "En efecto, si analizamos el coeficiente de determinación del modelo generado por `curve_fit`:"
   ]
  },
  {
   "cell_type": "code",
   "execution_count": 19,
   "id": "ac6454ea",
   "metadata": {
    "cell_style": "split",
    "slideshow": {
     "slide_type": "fragment"
    }
   },
   "outputs": [
    {
     "name": "stdout",
     "output_type": "stream",
     "text": [
      "coef. de determinación\n",
      "r2 = 0.8769\n"
     ]
    }
   ],
   "source": [
    "from sklearn.metrics import r2_score \n",
    "print('coef. de determinación')\n",
    "print('r2 = %.4f' % r2_score(yi,model(xi,a[0],a[1])))"
   ]
  },
  {
   "cell_type": "markdown",
   "id": "43e29ff1",
   "metadata": {
    "slideshow": {
     "slide_type": "slide"
    }
   },
   "source": [
    "En el caso de un modelo lineal, ambos métodos generan el mismo modelo"
   ]
  },
  {
   "cell_type": "code",
   "execution_count": 20,
   "id": "35fec6e9",
   "metadata": {},
   "outputs": [
    {
     "name": "stdout",
     "output_type": "stream",
     "text": [
      "Modelo lineal: y = -234.286 + 19.470*x\n"
     ]
    }
   ],
   "source": [
    "import numpy as np\n",
    "from scipy.optimize import curve_fit\n",
    "\n",
    "xi = np.array([ 10, 20,  30,  40,  50,   60,  70,  80])\n",
    "yi = np.array([ 25, 70, 380, 550, 610, 1220, 830, 1450])\n",
    "\n",
    "def model(x,a,b):\n",
    "    y = a+ b*x\n",
    "    return y\n",
    "\n",
    "a = curve_fit(model, xdata = xi, ydata = yi)[0]\n",
    "print('Modelo lineal: y = %.3f + %.3f*x' % (a[0], a[1]))"
   ]
  },
  {
   "cell_type": "markdown",
   "id": "d9b0e25f",
   "metadata": {
    "slideshow": {
     "slide_type": "slide"
    }
   },
   "source": [
    "### Regresión lineal vs no-lineal\n",
    "\n",
    "Respecto a la regresión no-lineal:\n",
    "\n",
    "**Ventajas**\n",
    "- Permite trabajar con modelos más generales. \n",
    "- Para modelos no-lineales, el método produce curvas con mejores coeficientes de determinación en comparación con modelos lineales en base a linealización.\n",
    "\n",
    "**Desventajas**\n",
    "- Como todo método iterativo, el metodo puede sufrir problemas de inestabilidad condicionados al modelo propuesto, $f_\\mathrm{nl}(x)$. Esto puede derivar en problemas de convergencia, soluciones locales, o sensibilidad a los valorse iniciales."
   ]
  },
  {
   "cell_type": "markdown",
   "id": "a45df53a",
   "metadata": {
    "slideshow": {
     "slide_type": "fragment"
    }
   },
   "source": [
    ">En general, se recomienda **utilizar `scipy.optimize.curve_fit`**, u otros métodos de ajuste no-lineal, **exclusivamente para modelos no-lineales**. "
   ]
  },
  {
   "cell_type": "markdown",
   "id": "33d3b1b6",
   "metadata": {
    "slideshow": {
     "slide_type": "slide"
    }
   },
   "source": [
    "## Referencias\n",
    "- Kong Q., Siauw T., Bayen A. M. **Chapter 16: Least Square Regression** in *[Python Programming and Numerical Methods – A Guide for Engineers and Scientists](https://pythonnumericalmethods.berkeley.edu/notebooks/Index.html)*, 1st Ed., Academic Press, 2021\n",
    "\n",
    "- Chapra S., Canale R. **Capítulo 17: Regresión por mínimos cuadrados** en *Métodos Numéricos para Ingenieros*, 6ta Ed., McGraw Hill, 2011"
   ]
  }
 ],
 "metadata": {
  "celltoolbar": "Slideshow",
  "kernelspec": {
   "display_name": "Python 3 (ipykernel)",
   "language": "python",
   "name": "python3"
  },
  "language_info": {
   "codemirror_mode": {
    "name": "ipython",
    "version": 3
   },
   "file_extension": ".py",
   "mimetype": "text/x-python",
   "name": "python",
   "nbconvert_exporter": "python",
   "pygments_lexer": "ipython3",
   "version": "3.10.11"
  },
  "latex_envs": {
   "LaTeX_envs_menu_present": true,
   "autoclose": true,
   "autocomplete": true,
   "bibliofile": "biblio.bib",
   "cite_by": "apalike",
   "current_citInitial": 1,
   "eqLabelWithNumbers": true,
   "eqNumInitial": 1,
   "hotkeys": {
    "equation": "Ctrl-E",
    "itemize": "Ctrl-I"
   },
   "labels_anchors": false,
   "latex_user_defs": false,
   "report_style_numbering": true,
   "user_envs_cfg": false
  },
  "rise": {
   "height": "100%",
   "theme": "simple",
   "width": "100%"
  },
  "toc": {
   "base_numbering": "",
   "nav_menu": {},
   "number_sections": false,
   "sideBar": true,
   "skip_h1_title": true,
   "title_cell": "Contenidos",
   "title_sidebar": "Contenidos",
   "toc_cell": false,
   "toc_position": {
    "height": "calc(100% - 180px)",
    "left": "10px",
    "top": "150px",
    "width": "303.837px"
   },
   "toc_section_display": true,
   "toc_window_display": false
  },
  "varInspector": {
   "cols": {
    "lenName": 16,
    "lenType": 16,
    "lenVar": 40
   },
   "kernels_config": {
    "python": {
     "delete_cmd_postfix": "",
     "delete_cmd_prefix": "del ",
     "library": "var_list.py",
     "varRefreshCmd": "print(var_dic_list())"
    },
    "r": {
     "delete_cmd_postfix": ") ",
     "delete_cmd_prefix": "rm(",
     "library": "var_list.r",
     "varRefreshCmd": "cat(var_dic_list()) "
    }
   },
   "types_to_exclude": [
    "module",
    "function",
    "builtin_function_or_method",
    "instance",
    "_Feature"
   ],
   "window_display": false
  }
 },
 "nbformat": 4,
 "nbformat_minor": 5
}
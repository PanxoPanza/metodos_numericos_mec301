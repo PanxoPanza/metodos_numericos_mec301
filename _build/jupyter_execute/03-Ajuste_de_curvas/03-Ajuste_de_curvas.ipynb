{
 "cells": [
  {
   "cell_type": "markdown",
   "id": "6d47d103",
   "metadata": {
    "slideshow": {
     "slide_type": "slide"
    }
   },
   "source": [
    "# Ajuste de curvas por mínimos cuadrados"
   ]
  },
  {
   "cell_type": "markdown",
   "id": "ced00fe8",
   "metadata": {
    "slideshow": {
     "slide_type": "slide"
    }
   },
   "source": [
    "## Introducción\n",
    "\n",
    "La gran mayoría de las fórmulas en la ciencia no pueden ser determinadas de forma teórica y debemos recurrir a relaciones empíricas en base a experimentos. "
   ]
  },
  {
   "cell_type": "markdown",
   "id": "0850b291",
   "metadata": {
    "slideshow": {
     "slide_type": "slide"
    }
   },
   "source": [
    "Por ejemplo, en mecánica de fluidos la fuerza de arrastre, $F_D$, es proporcional al cuadrado de la velocidad del flujo alrededor el cuerpo, $V$:"
   ]
  },
  {
   "cell_type": "markdown",
   "id": "5097412a",
   "metadata": {
    "cell_style": "split"
   },
   "source": [
    "\\begin{equation*}\n",
    "F_D = \\frac{1}{2}\\rho A C_D V^2 \n",
    "\\end{equation*}\n",
    "\n",
    "donde $\\rho$ es la densidad del fluido, $A$ es el área proyectada en la dirección del flujo, y $C_D$ es el coeficiente de arrastre."
   ]
  },
  {
   "cell_type": "markdown",
   "id": "83c78732",
   "metadata": {
    "cell_style": "split"
   },
   "source": [
    "<img src=\"./images/drag_force_formula.png\" width=\"250\" align= center>"
   ]
  },
  {
   "cell_type": "markdown",
   "id": "c71de8ee",
   "metadata": {
    "slideshow": {
     "slide_type": "fragment"
    }
   },
   "source": [
    "Aunque esta relación es válida para cualquier cuerpo, el valor de $C_D$, cambia dependiendo del objeto."
   ]
  },
  {
   "cell_type": "markdown",
   "id": "fd0d9fbf",
   "metadata": {
    "slideshow": {
     "slide_type": "slide"
    }
   },
   "source": []
  },
  {
   "cell_type": "markdown",
   "id": "fe256e6d",
   "metadata": {
    "slideshow": {
     "slide_type": "slide"
    }
   },
   "source": [
    "En la gran mayoría de los casos, este valor no se puede determinar de forma analítica, y debemos recurrir a ensallos en un tunel de viento para determinar la relación entre estas dos variables.\n",
    "\n",
    "<img src=\"./images/wind_tunnel.png\" width=\"800\" align= center>\n",
    "\n",
    "El valor de $C_D$ estará dado por la curva que mejor se ajuste a estos valores experimentales."
   ]
  },
  {
   "cell_type": "markdown",
   "id": "a9ad05ad",
   "metadata": {
    "slideshow": {
     "slide_type": "slide"
    }
   },
   "source": [
    "### Regresión lineal unidimensional"
   ]
  },
  {
   "cell_type": "markdown",
   "id": "69e62905",
   "metadata": {},
   "source": [
    "\n",
    "Consideremos el caso más simple, donde buscamos ajustar nuestros datos $x_i, y_i$ $(i = 0,1,\\cdots,n)$ al modelo:\n",
    "\n",
    "\\begin{equation*}\n",
    "y = a_0 + a_1x,\n",
    "\\end{equation*}\n",
    "\n",
    "donde $a_0$ y $a_1$ son coeficientes representando el intercepto y la pendiente, respectivamente."
   ]
  },
  {
   "cell_type": "markdown",
   "id": "e4ce2005",
   "metadata": {
    "slideshow": {
     "slide_type": "slide"
    }
   },
   "source": [
    "**¿Cómo determinamos los coeficientes?**"
   ]
  },
  {
   "cell_type": "markdown",
   "id": "21604e6f",
   "metadata": {
    "slideshow": {
     "slide_type": "fragment"
    }
   },
   "source": [
    "Si intentamos determinar $a_0$ y $a_1$ mediante un sistema de ecuaciones:\n",
    "\n",
    "\\begin{align*}\n",
    "y_0 &= a_0 + a_1 x_0 \\\\\n",
    "y_1 &= a_0 + a_1 x_1 \\\\\n",
    "\\vdots &= \\vdots \\\\\n",
    "y_n &= a_0 + a_1 x_n\n",
    "\\end{align*}"
   ]
  },
  {
   "cell_type": "markdown",
   "id": "1b5030bb",
   "metadata": {
    "slideshow": {
     "slide_type": "fragment"
    }
   },
   "source": [
    "Notamos que tenemos un sistema de 2 incognitas y $n$ ecuaciones linealmente independientes. Es decir, **no existe una solución exacta a este problema.**"
   ]
  },
  {
   "cell_type": "markdown",
   "id": "d2ec06a0",
   "metadata": {
    "slideshow": {
     "slide_type": "slide"
    }
   },
   "source": [
    "Lo que debemos hacer, entonces, es encontrar el valor de $a_0$ y $a_1$ que minimiza el error."
   ]
  },
  {
   "cell_type": "markdown",
   "id": "9494c7c9",
   "metadata": {
    "slideshow": {
     "slide_type": "fragment"
    }
   },
   "source": [
    "Particularmente, buscamos minimizar la expresión\n",
    "\n",
    "\\begin{equation*}\n",
    "S_r = \\sum_{i=1}^m \\left(y_i - a_0 - a_1 x_i\\right)^2 \\label{eq:error_linear1D}\n",
    "\\end{equation*}\n",
    "\n",
    "donde $i = 1,...,m$ son los datos de la muestra considerando un total de $m$ datos."
   ]
  },
  {
   "cell_type": "markdown",
   "id": "6525917c",
   "metadata": {
    "slideshow": {
     "slide_type": "fragment"
    }
   },
   "source": [
    "Este criterio se denomina **ajuste por mínimos cuadrados.**"
   ]
  },
  {
   "cell_type": "markdown",
   "id": "a3c9cfd7",
   "metadata": {
    "slideshow": {
     "slide_type": "slide"
    }
   },
   "source": [
    "### Ajuste por mínimos cuadrados paso a paso\n",
    "\n",
    "Primero, para buscar el mínimo de $S_r$ aplicamos la derivada respecto a sus variables, es decir, $a_0$ y $a_1$\n",
    "\n",
    "\\begin{align*}\n",
    "\\frac{\\partial S_r}{\\partial a_0} &= -2 \\sum \\left(y_i - a_0 - a_1 x_i\\right)\n",
    "\\\\\n",
    "\\frac{\\partial S_r}{\\partial a_1} &= -2 \\sum \\left[\\left(y_i - a_0 - a_1 x_i\\right)x_i\\right]\n",
    "\\end{align*}"
   ]
  },
  {
   "cell_type": "markdown",
   "id": "9b5a6afa",
   "metadata": {
    "slideshow": {
     "slide_type": "fragment"
    }
   },
   "source": [
    "El mínimo está dado cuando ambas derivadas son $0$.\n",
    "\n",
    "\\begin{align*}\n",
    "0 &= \\sum y_i - a_0\\sum 1 - a_1\\sum x_i\n",
    "\\\\\n",
    "0 &=  \\sum y_ix_i - a_0\\sum x_i - a_1 \\sum x_i^2\n",
    "\\end{align*}"
   ]
  },
  {
   "cell_type": "markdown",
   "id": "33edb956",
   "metadata": {
    "slideshow": {
     "slide_type": "slide"
    }
   },
   "source": [
    "El resultado podemos expresarlo como un sistema de ecuaciones lineales:\n",
    "\n",
    "\\begin{equation*}\n",
    "\\begin{bmatrix}\n",
    "m & \\sum x_i \\\\\n",
    "\\sum x_i & \\sum x_i^2\n",
    "\\end{bmatrix}\n",
    "\\left[\\begin{array}{c} a_0 \\\\a_1\\end{array}\\right] =\n",
    "\\left[\\begin{array}{c} \\sum y_i \\\\\\sum x_iy_i \\end{array}\\right]\n",
    "\\end{equation*}\n",
    "\n",
    "La solución de este sistema nos entregará los valores de $a_0$ y $a_1$"
   ]
  },
  {
   "cell_type": "markdown",
   "id": "ba1a23bc",
   "metadata": {
    "cell_style": "center",
    "slideshow": {
     "slide_type": "slide"
    }
   },
   "source": [
    "Consideremos los datos del problema del tunel de viento\n",
    "\n",
    "|$V$ (m/s) | 10 | 20 | 30 | 40 | 50 | 60 |\n",
    "|:--------:|:--:|:--:|:--:|:--:|:--:|:--:|\n",
    "|$F$ (N)   | 25 | 70 |380 |550 |610 |1220|"
   ]
  },
  {
   "cell_type": "code",
   "execution_count": 1,
   "id": "3bf890b2",
   "metadata": {
    "cell_style": "center",
    "slideshow": {
     "slide_type": "fragment"
    }
   },
   "outputs": [
    {
     "name": "stdout",
     "output_type": "stream",
     "text": [
      "Modelo lineal: \n",
      " y = -234.286 + 19.470*x\n"
     ]
    },
    {
     "name": "stderr",
     "output_type": "stream",
     "text": [
      "/tmp/ipykernel_8973/230161597.py:17: DeprecationWarning: Conversion of an array with ndim > 0 to a scalar is deprecated, and will error in future. Ensure you extract a single element from your array before performing this operation. (Deprecated NumPy 1.25.)\n",
      "  print('Modelo lineal: \\n y = %.3f + %.3f*x' % (a[0], a[1]))\n"
     ]
    }
   ],
   "source": [
    "import numpy as np\n",
    "\n",
    "# creamos un arreglo con los datos tabulados\n",
    "xi = np.array([ 10, 20,  30,  40,  50,   60,  70,  80])  # velocidad (m/s)\n",
    "yi = np.array([ 25, 70, 380, 550, 610, 1220, 830, 1450]) # fuerza de arrastre (N)\n",
    "\n",
    "# construimos un sistema Ax = b\n",
    "m = len(xi)\n",
    "A = np.array([[   m     ,  np.sum(xi)  ],\n",
    "              [np.sum(xi), np.sum(xi**2)]])\n",
    "\n",
    "b = np.array([[np.sum(yi)],\n",
    "              [np.sum(yi*xi)]])\n",
    "\n",
    "# resolvemos el sistema\n",
    "a = np.linalg.solve(A,b) \n",
    "print('Modelo lineal: \\n y = %.3f + %.3f*x' % (a[0], a[1]))"
   ]
  },
  {
   "cell_type": "code",
   "execution_count": 2,
   "id": "4a5a67c4",
   "metadata": {
    "cell_style": "center",
    "slideshow": {
     "slide_type": "slide"
    }
   },
   "outputs": [
    {
     "name": "stderr",
     "output_type": "stream",
     "text": [
      "/tmp/ipykernel_8973/2851368952.py:12: DeprecationWarning: Conversion of an array with ndim > 0 to a scalar is deprecated, and will error in future. Ensure you extract a single element from your array before performing this operation. (Deprecated NumPy 1.25.)\n",
      "  plt.plot(x, y(x), '-r', label = 'y = %.2f + %.2fx' % (a[0], a[1]))  # gráfico del modelo\n"
     ]
    },
    {
     "data": {
      "image/png": "[encoded data removed]",
      "text/plain": [
       "<Figure size 500x400 with 1 Axes>"
      ]
     },
     "metadata": {},
     "output_type": "display_data"
    }
   ],
   "source": [
    "import matplotlib.pyplot as plt\n",
    "\n",
    "# formato del lienzo\n",
    "plt.rcParams.update({'font.size': 10}) # tamaño de fuente\n",
    "plt.figure(figsize = (5,4))            # tamaño del lienzo\n",
    "\n",
    "# ploteamos nuestro resultado\n",
    "y = lambda x: a[0] + a[1]*x  #c reamos una función con el modelo de ajuste\n",
    "x = np.linspace(0,85,100)   # creamos un arreglo para ploteo\n",
    "\n",
    "plt.plot(xi, yi, 'bo',label = 'xi, yi')                             # gráfico con los datos tabulados\n",
    "plt.plot(x, y(x), '-r', label = 'y = %.2f + %.2fx' % (a[0], a[1]))  # gráfico del modelo\n",
    "plt.xlabel('Velocidad del viento, $V$ (m/s)')                       # etiqueta eje x\n",
    "plt.ylabel('Fuerza de arrastre, $F$ (N)')                           # etiqueta eje y\n",
    "plt.legend()                                                        # incluir leyenda\n",
    "plt.show()                                                          # mostrar gráfico"
   ]
  },
  {
   "cell_type": "markdown",
   "id": "f6b26dcd",
   "metadata": {
    "slideshow": {
     "slide_type": "slide"
    }
   },
   "source": [
    "### Cuantificación del error"
   ]
  },
  {
   "cell_type": "markdown",
   "id": "d3894195",
   "metadata": {
    "cell_style": "center",
    "slideshow": {
     "slide_type": "-"
    }
   },
   "source": [
    "Para cuantificar la calidad de nuestro modelo utilizaremos el **coeficiente de determinación, $r^2$:**\n",
    "\n",
    "\\begin{equation}\n",
    "r^2 = \\frac{S_t - S_r}{S_t}\n",
    "\\end{equation}\n",
    "\n",
    "donde\n",
    "- $S_r =  \\sum\\left[y_i - y(x_i)\\right]^2$ es el error del modelo de regresión ($y(x) = a_0 + a_1x$, en este caso)\n",
    "\n",
    "- $S_t = \\sum\\left(y_i - \\bar{y}\\right)^2$ es la desviación de los datos respecto a la media $\\bar{y}$."
   ]
  },
  {
   "cell_type": "markdown",
   "id": "7b051659",
   "metadata": {
    "slideshow": {
     "slide_type": "fragment"
    }
   },
   "source": [
    ">El coeficiente de determinación nos permite cuantificar la calidad de nuestro modelo para representar una muestra, en comparación con la media $\\bar{y}$."
   ]
  },
  {
   "cell_type": "markdown",
   "id": "8cece2f8",
   "metadata": {
    "cell_style": "center",
    "slideshow": {
     "slide_type": "slide"
    }
   },
   "source": [
    "En python este valor está dado por la función `r2_score` de la librería `scikit-learn`"
   ]
  },
  {
   "cell_type": "code",
   "execution_count": 3,
   "id": "50b963d5",
   "metadata": {
    "cell_style": "split",
    "slideshow": {
     "slide_type": "fragment"
    }
   },
   "outputs": [
    {
     "name": "stdout",
     "output_type": "stream",
     "text": [
      "coef. de determinación\n",
      "r2 = 0.8805\n"
     ]
    }
   ],
   "source": [
    "from sklearn.metrics import r2_score \n",
    "print('coef. de determinación')\n",
    "print('r2 = %.4f' % r2_score(yi,y(xi)))"
   ]
  },
  {
   "cell_type": "markdown",
   "id": "a796a633",
   "metadata": {
    "cell_style": "split",
    "slideshow": {
     "slide_type": "fragment"
    }
   },
   "source": [
    "> El resultado indica que el modelo lineal explica un 88.05% de los datos"
   ]
  },
  {
   "cell_type": "markdown",
   "id": "77e6ae6e",
   "metadata": {
    "slideshow": {
     "slide_type": "fragment"
    }
   },
   "source": [
    ">**Notar que `r2_score(yi,y(xi)))` requiere dos arreglos de iguales dimensiones.** "
   ]
  },
  {
   "cell_type": "markdown",
   "id": "4439d9d6",
   "metadata": {
    "slideshow": {
     "slide_type": "slide"
    }
   },
   "source": [
    "### Linealización de funciones no lineales\n",
    "Existen algúnos modelos no lineales comúnes en ingeniería que pueden ser linealizados para luego realizar ajuste por mínimos cuadrados.\n",
    "\n",
    "Algúnos ejemplos son:\n",
    "- **modelo exponencial**\n",
    "\n",
    "\\begin{equation*}\n",
    "y = \\alpha e^{\\beta x} \\Rightarrow \\ln(y) = \\ln(\\alpha) + \\beta x\n",
    "\\end{equation*}\n",
    "\n",
    "- **modelo de potencia**\n",
    "\n",
    "\\begin{equation*}\n",
    "y = \\alpha x^{\\beta} \\Rightarrow \\log(y) = \\log(\\alpha) + \\beta \\log (x)\n",
    "\\end{equation*}\n",
    "\n",
    "- **modelo de tasa de crecimiento de saturación**\n",
    "\n",
    "\\begin{equation*}\n",
    "y = \\alpha \\frac{x}{\\beta + x} \\Rightarrow \n",
    "\\frac{1}{y} = \\frac{1}{\\alpha} +\\frac{\\beta}{\\alpha}\\frac{1}{x}\n",
    "\\end{equation*}"
   ]
  },
  {
   "cell_type": "markdown",
   "id": "f6170c2c",
   "metadata": {
    "slideshow": {
     "slide_type": "slide"
    }
   },
   "source": [
    "<img src=\"./images/linealization.png\" width=\"800\" align= center>"
   ]
  },
  {
   "cell_type": "markdown",
   "id": "02d9befa",
   "metadata": {
    "slideshow": {
     "slide_type": "slide"
    }
   },
   "source": [
    "> **Nota** Para el modelo de potencia, podemos usar \"$\\log$\" o \"$\\ln$\" para linealizar, tomando la precaución de usar la función inversa correcta para recuperar el modelo original, es decir:\n",
    "    \\begin{align*}\n",
    "    y &= 10^{\\log \\alpha + \\beta\\log x}\\quad\\mathrm{o,}\\\\\n",
    "    y &= e^{\\ln \\alpha + \\beta\\ln x}\n",
    "    \\end{align*}"
   ]
  },
  {
   "cell_type": "markdown",
   "id": "551c62de",
   "metadata": {
    "slideshow": {
     "slide_type": "fragment"
    }
   },
   "source": [
    "> **Los coeficientes del modelo linealizado serán diferentes** dependiendo de si se usa \"$\\log$\" o \"$\\ln$\". **Sin embargo, el modelo original debe ser el mismo**, independientemente de la función utilizada para la linealización."
   ]
  },
  {
   "cell_type": "markdown",
   "id": "607254ab",
   "metadata": {
    "slideshow": {
     "slide_type": "slide"
    }
   },
   "source": [
    "Analicemos el ejemplo anterior, ahora ajustando los datos al modelo de potencia $y = \\alpha x^{\\beta}$"
   ]
  },
  {
   "cell_type": "markdown",
   "id": "413d1994",
   "metadata": {
    "slideshow": {
     "slide_type": "fragment"
    }
   },
   "source": [
    "Primero, aplicaremos un modelo de ajuste de la forma: $\\ln(y) = a_0 + a_1\\ln(x)$."
   ]
  },
  {
   "cell_type": "code",
   "execution_count": 4,
   "id": "2f3ced4e",
   "metadata": {
    "cell_style": "center",
    "slideshow": {
     "slide_type": "fragment"
    }
   },
   "outputs": [
    {
     "name": "stdout",
     "output_type": "stream",
     "text": [
      "Modelo linealizado: \n",
      " ln(y) = -1.294 + 1.984*ln(x)\n"
     ]
    },
    {
     "name": "stderr",
     "output_type": "stream",
     "text": [
      "/tmp/ipykernel_8973/1169339268.py:20: DeprecationWarning: Conversion of an array with ndim > 0 to a scalar is deprecated, and will error in future. Ensure you extract a single element from your array before performing this operation. (Deprecated NumPy 1.25.)\n",
      "  print('Modelo linealizado: \\n ln(y) = %.3f + %.3f*ln(x)'\n"
     ]
    }
   ],
   "source": [
    "import numpy as np\n",
    "from numpy import log # en python log(x) = ln(x)\n",
    "xi = np.array([ 10, 20,  30,  40,  50,   60,  70,  80])\n",
    "yi = np.array([ 25, 70, 380, 550, 610, 1220, 830, 1450])\n",
    "\n",
    "# linealizamos las variables\n",
    "log_xi = log(xi)\n",
    "log_yi = log(yi)\n",
    "\n",
    "# construimos un sistema Ax = b\n",
    "m = len(xi)   # numero de datos\n",
    "A = np.array([[   m          ,  np.sum(log_xi)  ],\n",
    "              [np.sum(log_xi), np.sum(log_xi**2)]])\n",
    "\n",
    "b = np.array([[np.sum(log_yi)],\n",
    "              [np.sum(log_yi*log_xi)]])\n",
    "\n",
    "# resolvemos el sistema\n",
    "a = np.linalg.solve(A,b) \n",
    "print('Modelo linealizado: \\n ln(y) = %.3f + %.3f*ln(x)' \n",
    "      % (a[0], a[1]))"
   ]
  },
  {
   "cell_type": "markdown",
   "id": "1e1133e7",
   "metadata": {
    "cell_style": "center",
    "slideshow": {
     "slide_type": "slide"
    }
   },
   "source": [
    "Para retornar al modelo original, aplicamos\n",
    "\n",
    "\\begin{equation*}\n",
    "y = e^{\\left(a_0+a_1\\ln x\\right)} = e^{a_0} x^{a_1} = \\alpha x ^\\beta\n",
    "\\end{equation*}"
   ]
  },
  {
   "cell_type": "markdown",
   "id": "ad28b598",
   "metadata": {
    "slideshow": {
     "slide_type": "fragment"
    }
   },
   "source": [
    "donde deducimos que $\\alpha = e^{a_0}$ y $\\beta = a_1$."
   ]
  },
  {
   "cell_type": "code",
   "execution_count": 5,
   "id": "5d762df6",
   "metadata": {
    "cell_style": "center",
    "slideshow": {
     "slide_type": "fragment"
    }
   },
   "outputs": [
    {
     "name": "stdout",
     "output_type": "stream",
     "text": [
      "Modelo no-lineal\n",
      "y = 0.274*x^1.984\n"
     ]
    },
    {
     "name": "stderr",
     "output_type": "stream",
     "text": [
      "/tmp/ipykernel_8973/967901107.py:5: DeprecationWarning: Conversion of an array with ndim > 0 to a scalar is deprecated, and will error in future. Ensure you extract a single element from your array before performing this operation. (Deprecated NumPy 1.25.)\n",
      "  print('y = %.3f*x^%.3f' % (alpha, beta))\n"
     ]
    }
   ],
   "source": [
    "alpha = np.exp(a[0])\n",
    "beta  = a[1]\n",
    "\n",
    "print('Modelo no-lineal')\n",
    "print('y = %.3f*x^%.3f' % (alpha, beta))"
   ]
  },
  {
   "cell_type": "markdown",
   "id": "39c5e548",
   "metadata": {
    "slideshow": {
     "slide_type": "slide"
    }
   },
   "source": [
    "Graficamos el resultado con el modelo no-lineal $y = \\alpha x^{\\beta}$"
   ]
  },
  {
   "cell_type": "code",
   "execution_count": 6,
   "id": "83ef4c2c",
   "metadata": {
    "cell_style": "center",
    "slideshow": {
     "slide_type": "fragment"
    }
   },
   "outputs": [
    {
     "name": "stderr",
     "output_type": "stream",
     "text": [
      "/tmp/ipykernel_8973/538564046.py:10: DeprecationWarning: Conversion of an array with ndim > 0 to a scalar is deprecated, and will error in future. Ensure you extract a single element from your array before performing this operation. (Deprecated NumPy 1.25.)\n",
      "  plt.plot(x, y(x), '-r', label = r'$y = %.3fx^{%.3f}$' % (alpha, beta))  # gráfico del modelo\n"
     ]
    },
    {
     "data": {
      "image/png": "[encoded data removed]",
      "text/plain": [
       "<Figure size 500x400 with 1 Axes>"
      ]
     },
     "metadata": {},
     "output_type": "display_data"
    }
   ],
   "source": [
    "# formato del lienzo\n",
    "plt.rcParams.update({'font.size': 10}) # tamaño de fuente\n",
    "plt.figure(figsize = (5,4))            # tamaño del lienzo\n",
    "\n",
    "# ploteamos nuestro resultado)\n",
    "y = lambda x: alpha*x**beta     # función con el modelo no-lineal\n",
    "x = np.linspace(1,85,100)       # creamos un arreglo para ploteo\n",
    "\n",
    "plt.plot(xi, yi, 'bo',label = 'xi, yi')                                 # gráfico con los datos tabulados\n",
    "plt.plot(x, y(x), '-r', label = r'$y = %.3fx^{%.3f}$' % (alpha, beta))  # gráfico del modelo\n",
    "plt.xlabel('Velocidad del viento, $V$ (m/s)')                           # etiqueta eje x\n",
    "plt.ylabel('Fuerza de arrastre, $F$ (N)')                               # etiqueta eje y\n",
    "plt.legend()                                                            # incluir leyenda\n",
    "plt.show()                                                              # mostrar gráfico"
   ]
  },
  {
   "cell_type": "markdown",
   "id": "370ec498",
   "metadata": {
    "slideshow": {
     "slide_type": "slide"
    }
   },
   "source": [
    "Analizamos la calidad del modelo"
   ]
  },
  {
   "cell_type": "code",
   "execution_count": 7,
   "id": "ef715f44",
   "metadata": {
    "cell_style": "split",
    "scrolled": true,
    "slideshow": {
     "slide_type": "-"
    }
   },
   "outputs": [
    {
     "name": "stdout",
     "output_type": "stream",
     "text": [
      "coef. de determinación\n",
      "r2 = 0.8088\n"
     ]
    }
   ],
   "source": [
    "# analizamos la calidad del modelo\n",
    "from sklearn.metrics import r2_score \n",
    "\n",
    "print('coef. de determinación')\n",
    "print('r2 = %.4f' % r2_score(yi,y(xi)))"
   ]
  },
  {
   "cell_type": "markdown",
   "id": "aaef50a3",
   "metadata": {
    "cell_style": "split",
    "slideshow": {
     "slide_type": "fragment"
    }
   },
   "source": [
    "> El resultado indica que el modelo lineal explica un 80.88% de los datos"
   ]
  },
  {
   "cell_type": "markdown",
   "id": "541f3c43",
   "metadata": {
    "slideshow": {
     "slide_type": "fragment"
    }
   },
   "source": [
    "El coeficiente de determinación para el modelo no-lineal ($r^2=80.88\\%$) es menor que para el modelo lineal ($r^2=88.05\\%$). Sin embargo, el modelo no-lineal se ajusta mejor al modelo físico (por ejemplo, $F = 0$ para $v = 0$)."
   ]
  },
  {
   "cell_type": "markdown",
   "id": "5f1a108e",
   "metadata": {
    "slideshow": {
     "slide_type": "fragment"
    }
   },
   "source": [
    "Por lo tanto, el modelo más adecuado para los datos es el de potencia:\n",
    "\n",
    "\\begin{equation*}\n",
    "y = 0.274 x^{1.984},\n",
    "\\end{equation*}"
   ]
  },
  {
   "cell_type": "markdown",
   "id": "b3350ce0",
   "metadata": {
    "slideshow": {
     "slide_type": "slide"
    }
   },
   "source": [
    "## Otros modelos lineales\n",
    "El procedimiento de ajuste de curva por mínimos cuadrados se puede extender para modelos de ajuste más complejos, tales como:\n",
    "- Regresión polinomial\n",
    "- Regresión lineal multivariable"
   ]
  },
  {
   "cell_type": "markdown",
   "id": "9a617b66",
   "metadata": {
    "slideshow": {
     "slide_type": "slide"
    }
   },
   "source": [
    "### Regresión polinomial\n",
    "En su forma general, el modelo polinomial corresponde a una función univariable de la forma\n",
    "\n",
    "\\begin{equation}\n",
    "y = a_0 + a_1x + a_2x^2+a_3x^3+... a_n x^n \n",
    "\\end{equation}"
   ]
  },
  {
   "cell_type": "markdown",
   "id": "de998be8",
   "metadata": {
    "slideshow": {
     "slide_type": "fragment"
    }
   },
   "source": [
    "Por ejemplo, consideremos el modelo $y = a_0 + a_1 x + a_2 x^2$. Según el método de regresión por mínimos cuadrados, la mejor curva está dada por el mínimo de:\n",
    "\\begin{equation*}\n",
    "S_r = \\sum_{i=1}^m \\left(y_i - a_0 - a_1 x_i - a_2 x_i^2\\right)^2,\n",
    "\\end{equation*}"
   ]
  },
  {
   "cell_type": "markdown",
   "id": "69be410a",
   "metadata": {
    "slideshow": {
     "slide_type": "fragment"
    }
   },
   "source": [
    "Aplicando $\\frac{\\partial S_r}{\\partial a_0} =0$, $\\frac{\\partial S_r}{\\partial a_1} =0$ y $\\frac{\\partial S_r}{\\partial a_2} =0$, llegamos al sistema de ecuaciones:\n",
    "\n",
    "\\begin{equation*}\n",
    "\\begin{bmatrix}\n",
    "     m     & \\sum x_i   & \\sum x_i^2 \\\\\n",
    "\\sum x_i   & \\sum x_i^2 & \\sum x_i^3 \\\\\n",
    "\\sum x_i^2 & \\sum x_i^3 & \\sum x_i^4 \\\\\n",
    "\\end{bmatrix}\n",
    "\\left[\\begin{array}{c} a_0 \\\\a_1\\\\a_2\\end{array}\\right] =\n",
    "\\left[\\begin{array}{c} \\sum y_i \\\\\\sum x_iy_i\\\\\\sum x_i^2y_i \\end{array}\\right]\n",
    "\\end{equation*}\n",
    "\n",
    "Cuya solución nos entrega el valor de los coeficientes $a_0$, $a_1$ y $a_2$"
   ]
  },
  {
   "cell_type": "markdown",
   "id": "8d3d5a43",
   "metadata": {
    "slideshow": {
     "slide_type": "slide"
    }
   },
   "source": [
    "### Regresión lineal multidimensional\n",
    "Para problemas con más de una variable independiente se deben untilizar modelos multidimencionales. Un modelo común corresponde al modelo linear de la forma:\n",
    "\n",
    "\\begin{equation}\n",
    "y = a_0 + a_1x_1 + a_2x_2+a_3x_3+... a_n x_n \n",
    "\\end{equation}"
   ]
  },
  {
   "cell_type": "markdown",
   "id": "b49ced7c",
   "metadata": {
    "slideshow": {
     "slide_type": "fragment"
    }
   },
   "source": [
    "Por ejemplo, en dos dimensiones tenemos un modelo de la forma $y = a_0 + a_1x_1+a_2x_2$. La mejor curva está dada por el mínimo de:\n",
    "\\begin{equation*}\n",
    "S_r = \\sum_{i=1}^m \\left(y_i - a_0 - a_1x_{1,i}+a_2x_{2,i}\\right)^2,\n",
    "\\end{equation*}"
   ]
  },
  {
   "cell_type": "markdown",
   "id": "ba9b4a84",
   "metadata": {
    "slideshow": {
     "slide_type": "fragment"
    }
   },
   "source": [
    "Aplicando $\\frac{\\partial S_r}{\\partial a_0} =0$, $\\frac{\\partial S_r}{\\partial a_1} =0$ y $\\frac{\\partial S_r}{\\partial a_2} =0$, llegamos al sistema de ecuaciones:\n",
    "\n",
    "\\begin{equation*}\n",
    "\\begin{bmatrix}\n",
    "     m       & \\sum x_{1,i}        & \\sum x_{2,i} \\\\\n",
    "\\sum x_{1,i} & \\sum x_{2,i}        & \\sum x_{1,i}x_{2,i} \\\\\n",
    "\\sum x_{2,i} & \\sum x_{1,i}x_{2,i} & \\sum x_{2,i}^2 \\\\\n",
    "\\end{bmatrix}\n",
    "\\left[\\begin{array}{c} a_0 \\\\a_1\\\\a_2\\end{array}\\right] =\n",
    "\\left[\\begin{array}{c} \\sum y_i \\\\\\sum x_{1,i}y_i\\\\\\sum x_{2,i}y_i \\end{array}\\right]\n",
    "\\end{equation*}\n",
    "\n",
    "Cuya solución nos entrega el valor de los coeficientes $a_0$, $a_1$ y $a_2$"
   ]
  },
  {
   "cell_type": "markdown",
   "id": "f9d8deec",
   "metadata": {
    "slideshow": {
     "slide_type": "slide"
    }
   },
   "source": [
    "Gráficamente, el método de regresión por mínimos cuadrados corresponde a determinar el plano que minimice el error cuadrático.\n",
    "\n",
    "<img src=\"./images/2D_plane.png\" width=\"800\" align= center>"
   ]
  },
  {
   "cell_type": "markdown",
   "id": "a271b399",
   "metadata": {
    "slideshow": {
     "slide_type": "slide"
    }
   },
   "source": [
    "## Modelos de ajuste en python\n",
    "\n",
    "Es importante mencionar que en materia de modelos de ajuste la librería más adecuada es `scikit-learn`. La librería, sin embargo, puede ser demasiado compleja para modelos lineales simples. "
   ]
  },
  {
   "cell_type": "markdown",
   "id": "9a1f42a1",
   "metadata": {
    "slideshow": {
     "slide_type": "fragment"
    }
   },
   "source": [
    "En este capítulo, mostraremos los métodos más simples para regreción lineal polinomial y no-lineal, utilizando `numpy` y `scipy`."
   ]
  },
  {
   "cell_type": "markdown",
   "id": "963b3393",
   "metadata": {
    "slideshow": {
     "slide_type": "slide"
    }
   },
   "source": [
    "### `numpy.polyfit` (modelo polinomial unidimencional)\n",
    "Esta función está especificamente diseñada para modelos polinomiales de una dimensión, es decir, $y = a_0 + a_1x +a_2x^2+...a_nx^n$"
   ]
  },
  {
   "cell_type": "markdown",
   "id": "7703c144",
   "metadata": {
    "slideshow": {
     "slide_type": "fragment"
    }
   },
   "source": [
    "Por ejemplo, para generar un modelo en base a un polinomio de orden 2, \n",
    "```python\n",
    "a = numpy.polyfit(xi,yi,2) # coeficientes a0, a1, a2, ...\n",
    "```\n",
    "donde $a_0=$ `a[2]`, $a_1=$ `a[1]`, $a_2=$ `a[0]`"
   ]
  },
  {
   "cell_type": "markdown",
   "id": "2f1d01c5",
   "metadata": {
    "slideshow": {
     "slide_type": "slide"
    }
   },
   "source": [
    "Tal como indica la [documentación oficial](https://numpy.org/doc/stable/reference/generated/numpy.polyfit.html), **los coeficientes de `polyfit` están ordenados de mayor potencia a menor potencia.** \n",
    "\n",
    "<img src=\"./images/polyfit_doc.png\" width=\"800\" align= center>"
   ]
  },
  {
   "cell_type": "markdown",
   "id": "5eca0744",
   "metadata": {
    "slideshow": {
     "slide_type": "fragment"
    }
   },
   "source": [
    "Para evitar confusiones con el orden de los coeficientes, **se recomienda utilizar `numpy.polyval(a,x)`, que genera una función en base al modelo determinado**, donde `x` es un valor arbitrario y `a` son los coeficientes determinados por `polyfit`.\n",
    "```python\n",
    "y = numpy.polyval(a,x) # función en base al modelo y(x) = a0 + a1*x + ... am*x^m\n",
    "```"
   ]
  },
  {
   "cell_type": "markdown",
   "id": "f2bdb606",
   "metadata": {
    "slideshow": {
     "slide_type": "slide"
    }
   },
   "source": [
    "Analicemos el uso de `polyfit` y `polyval` con el ejemplo del tunel de viento"
   ]
  },
  {
   "cell_type": "code",
   "execution_count": 8,
   "id": "58f123d9",
   "metadata": {
    "cell_style": "center",
    "slideshow": {
     "slide_type": "fragment"
    }
   },
   "outputs": [
    {
     "name": "stdout",
     "output_type": "stream",
     "text": [
      "Modelo polinomial:\n"
     ]
    },
    {
     "data": {
      "text/plain": [
       "array([ 2.90404040e-04, -2.00216450e-03,  1.76176046e+01, -1.92857143e+02])"
      ]
     },
     "execution_count": 8,
     "metadata": {},
     "output_type": "execute_result"
    }
   ],
   "source": [
    "import numpy as np\n",
    "\n",
    "# construimos el modelo\n",
    "xi = np.array([ 10, 20,  30,  40,  50,   60,  70,  80])\n",
    "yi = np.array([ 25, 70, 380, 550, 610, 1220, 830, 1450])\n",
    "\n",
    "# Aplicamos modelo polinomial con polyfit\n",
    "a = np.polyfit(xi,yi,3)\n",
    "print('Modelo polinomial:')\n",
    "#print('y = %.3f + %.3f*x + %.3f*x^2' % (a[2], a[1], a[0]))\n",
    "\n",
    "# evaluamos polinomio de ajuste con polyval\n",
    "x0 = xi # valor de prueba\n",
    "#print('y(%.3f) = %.3f'% (x0,np.polyval(a,x0)))\n",
    "np.polyval(a,x0)\n",
    "a"
   ]
  },
  {
   "cell_type": "markdown",
   "id": "4de7f105",
   "metadata": {
    "slideshow": {
     "slide_type": "slide"
    }
   },
   "source": [
    "Graficamos la solución con `polyval`:"
   ]
  },
  {
   "cell_type": "code",
   "execution_count": 9,
   "id": "af2564d9",
   "metadata": {
    "cell_style": "split",
    "slideshow": {
     "slide_type": "fragment"
    }
   },
   "outputs": [
    {
     "data": {
      "image/png": "[encoded data removed]",
      "text/plain": [
       "<Figure size 500x400 with 1 Axes>"
      ]
     },
     "metadata": {},
     "output_type": "display_data"
    }
   ],
   "source": [
    "# formato del lienzo\n",
    "plt.rcParams.update({'font.size': 10}) # tamaño de fuente\n",
    "plt.figure(figsize = (5,4))            # tamaño del lienzo\n",
    "\n",
    "# ploteamos nuestro resultado)\n",
    "x = np.linspace(1,85,100)       # creamos un arreglo para ploteo\n",
    "\n",
    "plt.plot(xi, yi, 'bo',label = 'xi, yi')                # gráfico con los datos tabulados\n",
    "plt.plot(x, np.polyval(a,x), '-r', label = 'polyfit')  # gráfico del modelo\n",
    "plt.xlabel('Velocidad del viento, $V$ (m/s)')          # etiqueta eje x\n",
    "plt.ylabel('Fuerza de arrastre, $F$ (N)')              # etiqueta eje y\n",
    "plt.legend()                                           # incluir leyenda\n",
    "plt.show()                                             # mostrar gráfico"
   ]
  },
  {
   "cell_type": "code",
   "execution_count": 10,
   "id": "44589c32",
   "metadata": {
    "cell_style": "split",
    "slideshow": {
     "slide_type": "fragment"
    }
   },
   "outputs": [
    {
     "name": "stdout",
     "output_type": "stream",
     "text": [
      "coef. de determinación\n",
      "r2 = 0.8818\n"
     ]
    }
   ],
   "source": [
    "# analizamos la calidad del modelo\n",
    "from sklearn.metrics import r2_score \n",
    "\n",
    "print('coef. de determinación')\n",
    "print('r2 = %.4f' % r2_score(yi,np.polyval(a,xi)))"
   ]
  },
  {
   "cell_type": "markdown",
   "id": "ddb3bd25",
   "metadata": {
    "slideshow": {
     "slide_type": "slide"
    }
   },
   "source": [
    "Notar que el gráfico del modelo muestra una tendencia aproximadamente lineal."
   ]
  },
  {
   "cell_type": "markdown",
   "id": "38612fc8",
   "metadata": {
    "cell_style": "center",
    "slideshow": {
     "slide_type": "fragment"
    }
   },
   "source": [
    "Esto es interesante, porque al incluir término $a_2x^2$ en nuestro modelo lineal, $a_0 + a_1x$, esperabamos un mejor ajuste con el modelo físico $F_D = \\frac{1}{2}\\rho A C_D V^2$."
   ]
  },
  {
   "cell_type": "markdown",
   "id": "690d30f6",
   "metadata": {
    "slideshow": {
     "slide_type": "fragment"
    }
   },
   "source": [
    "Sin embargo, **la tendencia del método es minimizar el error (en otras palabras, mejorar $r^2$).** Esto significa que el método va a forzar una curva lineal, aunque esta no corresponda a la física del problema."
   ]
  },
  {
   "cell_type": "markdown",
   "id": "19137749",
   "metadata": {
    "slideshow": {
     "slide_type": "slide"
    }
   },
   "source": [
    "### `scipy.optimize.curve_fit` (regresión no-lineal)\n",
    "Esta función, parte del módulo `optimize` de la librería `scipy`, **utiliza un método iterativo para minimizar el error cuadrático**. La función `curve_fit` puede ser utilizada para cualquier tipo de modelo, linear o no-linear, unidimensional o multidimensional."
   ]
  },
  {
   "cell_type": "markdown",
   "id": "5036887c",
   "metadata": {
    "slideshow": {
     "slide_type": "fragment"
    }
   },
   "source": [
    "La función entrega múltiples *outputs* ([ver documentación](https://docs.scipy.org/doc/scipy/reference/generated/scipy.optimize.curve_fit.html)). Sin embargo, en nuestro caso **necesitamos solo el primer *output***, el cual **corresponde a los coeficientes del modelo**."
   ]
  },
  {
   "cell_type": "markdown",
   "id": "dfa89ae4",
   "metadata": {
    "slideshow": {
     "slide_type": "slide"
    }
   },
   "source": [
    "Para usar `curve_fit` primero debemos crear el modelo de ajuste en formato de función, por ejemplo para $y = \\alpha x^\\beta$:\n",
    "```python\n",
    "def model(x,a,b):\n",
    "    y = a*x**b\n",
    "    return y\n",
    "```"
   ]
  },
  {
   "cell_type": "markdown",
   "id": "63dadfa1",
   "metadata": {
    "slideshow": {
     "slide_type": "fragment"
    }
   },
   "source": [
    "> El primer argumento de la función `x`, *siempre debe ser la variable independiente*. Los parámetros de ajuste, `a,b` van indicados en los argumentos siguientes."
   ]
  },
  {
   "cell_type": "markdown",
   "id": "99e58874",
   "metadata": {
    "slideshow": {
     "slide_type": "slide"
    }
   },
   "source": [
    "Luego, llamamos a `curve_fit` usando el modelo de ajuste y la serie de datos $x_i, y_i$, como argumentos:\n",
    "``` python\n",
    "coef = curve_fit(model, xdata = xi, ydata = yi)[0]\n",
    "a = coef[0] # parámetro alfa\n",
    "b = coef[1] # parámetro beta\n",
    "```"
   ]
  },
  {
   "cell_type": "markdown",
   "id": "3ff6323c",
   "metadata": {
    "slideshow": {
     "slide_type": "fragment"
    }
   },
   "source": [
    "> El índice `[0]` al final de `curve_fit` indica que necesitamos solo el primer *output*, el cual llamamos `coef`. Esta variable viene en formato de arreglo numpy (*ndarray*), donde el orden de los coeficientes corresponde al orden de `a` y `b` en `model`."
   ]
  },
  {
   "cell_type": "markdown",
   "id": "3ea674e0",
   "metadata": {
    "slideshow": {
     "slide_type": "slide"
    }
   },
   "source": [
    "Por ejemplo, ajustemos los datos al modelo $y=\\alpha x^\\beta$"
   ]
  },
  {
   "cell_type": "code",
   "execution_count": 11,
   "id": "79d00390",
   "metadata": {
    "cell_style": "center",
    "slideshow": {
     "slide_type": "fragment"
    }
   },
   "outputs": [
    {
     "name": "stdout",
     "output_type": "stream",
     "text": [
      "Modelo no-lineal\n",
      "y = 2.538*x^1.436\n"
     ]
    }
   ],
   "source": [
    "import numpy as np\n",
    "from scipy.optimize import curve_fit\n",
    "\n",
    "xi = np.array([ 10, 20,  30,  40,  50,   60,  70,  80])\n",
    "yi = np.array([ 25, 70, 380, 550, 610, 1220, 830, 1450])\n",
    "\n",
    "# creamos nuestro modelo de ajuste en formato de función\n",
    "def model(x,a,b):\n",
    "    y = a*x**b\n",
    "    return y\n",
    "\n",
    "# usamos curve_firt para determinar el valor de los parámetros a y b\n",
    "coef = curve_fit(model, xdata = xi, ydata = yi)[0] # extraemo|s el primer output del modelo\n",
    "a = coef[0] # parámetro alfa\n",
    "b = coef[1] # parámetro beta\n",
    "\n",
    "print('Modelo no-lineal')\n",
    "print('y = %.3f*x^%.3f' % (a, b))"
   ]
  },
  {
   "cell_type": "code",
   "execution_count": 12,
   "id": "5b72a27f",
   "metadata": {
    "cell_style": "center"
   },
   "outputs": [
    {
     "data": {
      "image/png": "[encoded data removed]",
      "text/plain": [
       "<Figure size 500x400 with 1 Axes>"
      ]
     },
     "metadata": {},
     "output_type": "display_data"
    }
   ],
   "source": [
    "# formato del lienzo\n",
    "plt.rcParams.update({'font.size': 10}) # tamaño de fuente\n",
    "plt.figure(figsize = (5,4))            # tamaño del lienzo\n",
    "\n",
    "# ploteamos nuestro resultad)\n",
    "x = np.linspace(1,85,100)       # creamos un arreglo para ploteo\n",
    "\n",
    "plt.plot(xi, yi, 'bo',label = 'xi, yi')                                 # gráfico con los datos tabulados\n",
    "plt.plot(x, model(x,a,b), '-r', label = r'$y = %.3fx^{%.3f}$' % (a, b)) # gráfico del modelo\n",
    "plt.xlabel('Velocidad del viento, $V$ (m/s)')                           # etiqueta eje x\n",
    "plt.ylabel('Fuerza de arrastre, $F$ (N)')                               # etiqueta eje y\n",
    "plt.legend()                                                            # incluir leyenda\n",
    "plt.show()                                                              # mostrar gráfico"
   ]
  },
  {
   "cell_type": "markdown",
   "id": "7bf4888f",
   "metadata": {
    "cell_style": "center",
    "slideshow": {
     "slide_type": "slide"
    }
   },
   "source": [
    "Notar que los coeficientes de este modelo son diferentes a los que determinamos mediante regresión lineal en la función linealizada.\n",
    "\n",
    "\\begin{equation*}\n",
    "y = 0.274x^{1.984}\\quad\\left(r^2=80.88\\%\\right)\n",
    "\\end{equation*}"
   ]
  },
  {
   "cell_type": "markdown",
   "id": "2e06b0be",
   "metadata": {
    "cell_style": "split",
    "slideshow": {
     "slide_type": "fragment"
    }
   },
   "source": [
    "Esto es debido a que la regresión no-lineal busca minimizar el error\n",
    "\n",
    "\\begin{equation*}\n",
    "S_r = \\sum_{i=1}^m (f_\\mathrm{nl}(x_i) - y_i)^2,\n",
    "\\end{equation*}\n",
    "\n",
    "de forma iterativa, y sin linealizar el modelo no-lineal $f_\\mathrm{nl}(x)$. Así, `curve_fit` permite buscar soluciones con valores $r^2$ más cercanos a $1$ que no son accesibles para el modelo lineal"
   ]
  },
  {
   "cell_type": "markdown",
   "id": "6f1ce7da",
   "metadata": {
    "cell_style": "split",
    "slideshow": {
     "slide_type": "fragment"
    }
   },
   "source": [
    "En efecto, si analizamos el coeficiente de determinación del modelo generado por `curve_fit`:"
   ]
  },
  {
   "cell_type": "code",
   "execution_count": 13,
   "id": "ac6454ea",
   "metadata": {
    "cell_style": "split",
    "slideshow": {
     "slide_type": "fragment"
    }
   },
   "outputs": [
    {
     "name": "stdout",
     "output_type": "stream",
     "text": [
      "coef. de determinación\n",
      "r2 = 0.8769\n"
     ]
    }
   ],
   "source": [
    "from sklearn.metrics import r2_score \n",
    "print('coef. de determinación')\n",
    "print('r2 = %.4f' % r2_score(yi,model(xi,a,b)))"
   ]
  },
  {
   "cell_type": "markdown",
   "id": "43e29ff1",
   "metadata": {
    "slideshow": {
     "slide_type": "slide"
    }
   },
   "source": [
    "En el caso de un modelo lineal, ambos métodos generan el mismo modelo"
   ]
  },
  {
   "cell_type": "code",
   "execution_count": 14,
   "id": "35fec6e9",
   "metadata": {},
   "outputs": [
    {
     "name": "stdout",
     "output_type": "stream",
     "text": [
      "Modelo lineal: y = -234.286 + 19.470*x\n"
     ]
    }
   ],
   "source": [
    "import numpy as np\n",
    "from scipy.optimize import curve_fit\n",
    "\n",
    "xi = np.array([ 10, 20,  30,  40,  50,   60,  70,  80])\n",
    "yi = np.array([ 25, 70, 380, 550, 610, 1220, 830, 1450])\n",
    "\n",
    "def model(x,a,b):\n",
    "    y = a+ b*x\n",
    "    return y\n",
    "\n",
    "coef = curve_fit(model, xdata = xi, ydata = yi)[0]\n",
    "print('Modelo lineal: y = %.3f + %.3f*x' % (coef[0], coef[1]))"
   ]
  },
  {
   "cell_type": "markdown",
   "id": "d9b0e25f",
   "metadata": {
    "slideshow": {
     "slide_type": "slide"
    }
   },
   "source": [
    "## Regresión lineal vs no-lineal\n",
    "\n",
    "Respecto a la regresión no-lineal:\n",
    "\n",
    "**Ventajas**\n",
    "- Permite trabajar con modelos más generales. \n",
    "- Para modelos no-lineales, el método produce curvas con mejores coeficientes de determinación en comparación con modelos lineales en base a linealización.\n",
    "\n",
    "**Desventajas**\n",
    "- Como todo método iterativo, el metodo puede sufrir problemas de inestabilidad condicionados al modelo propuesto, $f_\\mathrm{nl}(x)$. Esto puede derivar en problemas de convergencia, soluciones locales, o sensibilidad a los valorse iniciales."
   ]
  },
  {
   "cell_type": "markdown",
   "id": "a45df53a",
   "metadata": {
    "slideshow": {
     "slide_type": "fragment"
    }
   },
   "source": [
    ">En general, se recomienda **utilizar `scipy.optimize.curve_fit`**, u otros métodos de ajuste no-lineal, **exclusivamente para modelos no-lineales**. "
   ]
  },
  {
   "cell_type": "markdown",
   "id": "33d3b1b6",
   "metadata": {
    "slideshow": {
     "slide_type": "slide"
    }
   },
   "source": [
    "## Referencias\n",
    "- Kong Q., Siauw T., Bayen A. M. **Chapter 16: Least Square Regression** in *[Python Programming and Numerical Methods – A Guide for Engineers and Scientists](https://pythonnumericalmethods.berkeley.edu/notebooks/Index.html)*, 1st Ed., Academic Press, 2021\n",
    "\n",
    "- Chapra S., Canale R. **Capítulo 17: Regresión por mínimos cuadrados** en *Métodos Numéricos para Ingenieros*, 6ta Ed., McGraw Hill, 2011"
   ]
  }
 ],
 "metadata": {
  "celltoolbar": "Slideshow",
  "kernelspec": {
   "display_name": "Python 3 (ipykernel)",
   "language": "python",
   "name": "python3"
  },
  "language_info": {
   "codemirror_mode": {
    "name": "ipython",
    "version": 3
   },
   "file_extension": ".py",
   "mimetype": "text/x-python",
   "name": "python",
   "nbconvert_exporter": "python",
   "pygments_lexer": "ipython3",
   "version": "3.9.12"
  },
  "latex_envs": {
   "LaTeX_envs_menu_present": true,
   "autoclose": true,
   "autocomplete": true,
   "bibliofile": "biblio.bib",
   "cite_by": "apalike",
   "current_citInitial": 1,
   "eqLabelWithNumbers": true,
   "eqNumInitial": 1,
   "hotkeys": {
    "equation": "Ctrl-E",
    "itemize": "Ctrl-I"
   },
   "labels_anchors": false,
   "latex_user_defs": false,
   "report_style_numbering": true,
   "user_envs_cfg": false
  },
  "rise": {
   "height": "100%",
   "theme": "simple",
   "width": "100%"
  },
  "toc": {
   "base_numbering": "",
   "nav_menu": {},
   "number_sections": false,
   "sideBar": true,
   "skip_h1_title": true,
   "title_cell": "Contenidos",
   "title_sidebar": "Contenidos",
   "toc_cell": false,
   "toc_position": {
    "height": "calc(100% - 180px)",
    "left": "10px",
    "top": "150px",
    "width": "303.837px"
   },
   "toc_section_display": true,
   "toc_window_display": false
  },
  "varInspector": {
   "cols": {
    "lenName": 16,
    "lenType": 16,
    "lenVar": 40
   },
   "kernels_config": {
    "python": {
     "delete_cmd_postfix": "",
     "delete_cmd_prefix": "del ",
     "library": "var_list.py",
     "varRefreshCmd": "print(var_dic_list())"
    },
    "r": {
     "delete_cmd_postfix": ") ",
     "delete_cmd_prefix": "rm(",
     "library": "var_list.r",
     "varRefreshCmd": "cat(var_dic_list()) "
    }
   },
   "types_to_exclude": [
    "module",
    "function",
    "builtin_function_or_method",
    "instance",
    "_Feature"
   ],
   "window_display": false
  }
 },
 "nbformat": 4,
 "nbformat_minor": 5
}
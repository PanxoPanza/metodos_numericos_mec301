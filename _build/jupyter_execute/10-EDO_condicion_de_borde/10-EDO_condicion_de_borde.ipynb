{
 "cells": [
  {
   "cell_type": "markdown",
   "id": "6d47d103",
   "metadata": {
    "cell_style": "center",
    "slideshow": {
     "slide_type": "slide"
    }
   },
   "source": [
    "<font size=\"6\">MEC301 - Métodos Numéricos</font>\n",
    "# Ecuaciones Diferenciales Ordinarias con Condiciones de Borde\n",
    "<br><br><br><br>\n",
    "Profesor: Francisco Ramírez Cuevas<br>\n",
    "Fecha: 12 de noviembre 2022"
   ]
  },
  {
   "cell_type": "markdown",
   "id": "07ce8d9e",
   "metadata": {
    "slideshow": {
     "slide_type": "slide"
    }
   },
   "source": [
    "## Introducción\n"
   ]
  },
  {
   "cell_type": "markdown",
   "id": "92acc690",
   "metadata": {
    "slideshow": {
     "slide_type": "fragment"
    }
   },
   "source": [
    "\n",
    "\n",
    "En la unidad anterior nos enfocamos en ecuación diferenciales ordinarias condionadas por valores iniciales."
   ]
  },
  {
   "cell_type": "markdown",
   "id": "4e5fdbe3",
   "metadata": {
    "cell_style": "center",
    "slideshow": {
     "slide_type": "fragment"
    }
   },
   "source": [
    "Repasando la ecuación del péndulo:\n",
    "\n",
    "**Ecuación gobernante**\n",
    "\n",
    "\\begin{equation*}\n",
    "ml\\frac{d^2}{dt^2}\\Theta(t) + \\kappa\\frac{d}{dt}\\Theta(t) + mg \\sin \\Theta(t) = 0\n",
    "\\end{equation*}\n",
    "\n",
    "**Condiciones iniciales**\n",
    "\\begin{align*}\n",
    "\\dot{\\Theta}(t = 0) &= 0 \\\\\n",
    "\\Theta(t = 0) &= \\Theta_0\n",
    "\\end{align*}"
   ]
  },
  {
   "cell_type": "markdown",
   "id": "c6e8323a",
   "metadata": {
    "cell_style": "center",
    "slideshow": {
     "slide_type": "slide"
    }
   },
   "source": [
    "Ahora, supontagamos que en el problema del péndulo conocemos el ángulo en $t = 0$, y en un tiempo $t = t_1$, tal que $\\Theta(t_1) = \\Theta_1$. "
   ]
  },
  {
   "cell_type": "markdown",
   "id": "0b0dcf0c",
   "metadata": {
    "cell_style": "center",
    "slideshow": {
     "slide_type": "fragment"
    }
   },
   "source": [
    "En este caso, la EDO está condicionada por **condiciones de borde**, en la forma\n"
   ]
  },
  {
   "cell_type": "markdown",
   "id": "7d0b90d0",
   "metadata": {
    "cell_style": "center",
    "slideshow": {
     "slide_type": "fragment"
    }
   },
   "source": [
    "**Ecuación gobernante**\n",
    "\n",
    "\\begin{equation*}\n",
    "ml\\frac{d^2}{dt^2}\\Theta(t) + \\kappa\\frac{d}{dt}\\Theta(t) + mg \\sin \\Theta(t) = 0\n",
    "\\end{equation*}\n",
    "\n",
    "**Condiciones de borde**\n",
    "\\begin{align*}\n",
    "\\Theta(t = 0) &= \\Theta_0 \\\\\n",
    "\\Theta(t = t_1) &= \\Theta_1\n",
    "\\end{align*}"
   ]
  },
  {
   "cell_type": "markdown",
   "id": "07f89680",
   "metadata": {
    "slideshow": {
     "slide_type": "slide"
    }
   },
   "source": [
    "Una condición de borde, así se define como el **condicionamiento de una solución en valores extremos**"
   ]
  },
  {
   "cell_type": "markdown",
   "id": "ab042d59",
   "metadata": {
    "slideshow": {
     "slide_type": "fragment"
    }
   },
   "source": [
    "Aunque en el ejemplo anterior consideramos la variable tiempo, los problemas de condiciones de borde son normalmente aplicados para variables espaciales."
   ]
  },
  {
   "cell_type": "markdown",
   "id": "d93b2849",
   "metadata": {
    "cell_style": "center",
    "slideshow": {
     "slide_type": "slide"
    }
   },
   "source": [
    "Por ejemplo, consideremos el problema de una barra de largo $L$, con temperatura constante en los extremos izquierdo y derecho $T_a$ y $T_b$, respectivamente, y expuesta a pérdidas de calor por convección y radiación."
   ]
  },
  {
   "cell_type": "markdown",
   "id": "41aaf247",
   "metadata": {
    "cell_style": "split"
   },
   "source": [
    "<img src=\"./images/heated_bar.png\" width=\"400px\" align= center>"
   ]
  },
  {
   "cell_type": "markdown",
   "id": "159dec8b",
   "metadata": {
    "cell_style": "split",
    "slideshow": {
     "slide_type": "fragment"
    }
   },
   "source": [
    "La ecuación que describe la distribución de temperaturas en el eje axial está definida por:\n",
    "\n",
    "\\begin{equation*}\n",
    "\\frac{d^2T}{dx^2} + h'(T_\\infty - T) + \\sigma'(T_\\infty^4 - T^4) = 0\n",
    "\\end{equation*}\n",
    "\n",
    "donde $h'$ y $\\sigma'$ son coeficientes de transferencia de calor por convección y radiación, respectivamente."
   ]
  },
  {
   "cell_type": "markdown",
   "id": "2081b982",
   "metadata": {
    "cell_style": "center",
    "slideshow": {
     "slide_type": "fragment"
    }
   },
   "source": [
    "y las condiciones de borde son:\n",
    "\\begin{align*}\n",
    "T(0) &= T_a\\\\\n",
    "T(L) &= T_b\n",
    "\\end{align*}"
   ]
  },
  {
   "cell_type": "markdown",
   "id": "23454def",
   "metadata": {
    "slideshow": {
     "slide_type": "slide"
    }
   },
   "source": [
    "El modelo respresenta una **EDO no lineal con condiciones de borde**."
   ]
  },
  {
   "cell_type": "markdown",
   "id": "34c4f68c",
   "metadata": {
    "slideshow": {
     "slide_type": "fragment"
    }
   },
   "source": [
    "En esta unidad revisaremos dos métodos para resolver este tipo de problemas:\n",
    "\n",
    "- Método del disparo\n",
    "- Método de diferencias finitas"
   ]
  },
  {
   "cell_type": "markdown",
   "id": "c6abbbf2",
   "metadata": {
    "slideshow": {
     "slide_type": "slide"
    }
   },
   "source": [
    "## El método de disparo\n",
    "\n",
    "El método del disparo consiste en transformar una EDO con condiciones de borde a una EDO de valor inicial. Mediante un proceso iterativo, el método busca una solución al problema de valores iniciales que satisfaga la condiciones de bordes."
   ]
  },
  {
   "cell_type": "markdown",
   "id": "67ad643e",
   "metadata": {
    "slideshow": {
     "slide_type": "slide"
    }
   },
   "source": [
    "Para ilustrar este método, consideremos el problema de la barra con enfriamiento."
   ]
  },
  {
   "cell_type": "markdown",
   "id": "5ba63872",
   "metadata": {
    "cell_style": "split",
    "slideshow": {
     "slide_type": "fragment"
    }
   },
   "source": [
    "Podemos transformar este problema en un problema de valor inicial de la forma:\n",
    "\n",
    "\\begin{align*}\n",
    "\\frac{dT}{dx} &= z \\\\\n",
    "\\frac{dz}{dx} &= - h'(T_\\infty - T) - \\sigma'(T_\\infty^4 - T^4)\n",
    "\\end{align*}"
   ]
  },
  {
   "cell_type": "markdown",
   "id": "e46f77a3",
   "metadata": {
    "cell_style": "split",
    "slideshow": {
     "slide_type": "fragment"
    }
   },
   "source": [
    "Con condiciones iniciales:\n",
    "\n",
    "\\begin{align*}\n",
    "T(0) &= T_a \\\\\n",
    "z(0) &= z_a\n",
    "\\end{align*}"
   ]
  },
  {
   "cell_type": "markdown",
   "id": "c394e0a3",
   "metadata": {
    "slideshow": {
     "slide_type": "fragment"
    }
   },
   "source": [
    "Si conocieramos el valor de $T_a$ y $z_a$, podríamos resolver el problema como una EDO con valor inicial. Sin embargo, el valor de $z_a$ es desconocido."
   ]
  },
  {
   "cell_type": "markdown",
   "id": "4587ccdc",
   "metadata": {
    "slideshow": {
     "slide_type": "fragment"
    }
   },
   "source": [
    "El método del disparo, así, consiste en iterar sobre el valor de $z_a$, resolviendo el problema como una EDO de valor inicial, hasta que $T(L) = T_b$."
   ]
  },
  {
   "cell_type": "markdown",
   "id": "c20bd099",
   "metadata": {
    "slideshow": {
     "slide_type": "slide"
    }
   },
   "source": [
    "Ilustrativamente, esto es similar a ajustar el ángulo de inclinación de un cañón (o la pendiente a través de $z_a$), hasta que la trayectoria del disparo coincida con el valor la segunda condición de borde."
   ]
  },
  {
   "cell_type": "markdown",
   "id": "a0f249d0",
   "metadata": {},
   "source": [
    "<img src=\"./images/shooting_method.png\" width=\"400px\" align= center>"
   ]
  },
  {
   "cell_type": "markdown",
   "id": "78791de8",
   "metadata": {
    "slideshow": {
     "slide_type": "slide"
    }
   },
   "source": [
    "Analicemos esto con el problema de la barra en enfriamiento, y los valores:\n",
    " - $L = 10$ m\n",
    " - $h' = 0.05$ m$^{-2}$\n",
    " - $\\sigma' =  2.7\\times 10^{-9}$ K$^{-3}$ m$^{-2}$,  \n",
    " - $T_\\infty = 200~\\mathrm{K}$, \n",
    " - $T_a = 300~\\mathrm{K}$\n",
    " - $T_b = 400~\\mathrm{K}$"
   ]
  },
  {
   "cell_type": "markdown",
   "id": "87b17e33",
   "metadata": {
    "slideshow": {
     "slide_type": "fragment"
    }
   },
   "source": [
    "Si escribimos la EDO con valor inicial de la forma $\\vec{y} = \\vec{F}(t,\\vec{y})$, tenemos:\n",
    "\n",
    "\\begin{equation*}\n",
    "\\vec{y} = \\Bigg\\{\\begin{matrix}\n",
    "T \\\\\n",
    "z\n",
    "\\end{matrix}\\Bigg\\};\n",
    "\\quad\\quad\n",
    "\\vec{F} = \\Bigg\\{\\begin{matrix}\n",
    "z \\\\\n",
    "- h'(T_\\infty - T) - \\sigma'(T_\\infty^4 - T^4)\n",
    "\\end{matrix}\\Bigg\\};\\quad\\quad \\vec{y}_0 = \\Bigg\\{\\begin{matrix}\n",
    "T_a \\\\\n",
    "z_a\n",
    "\\end{matrix}\\Bigg\\}\n",
    "\\end{equation*}\n",
    "\n",
    "donde $t = x$."
   ]
  },
  {
   "cell_type": "markdown",
   "id": "244a580a",
   "metadata": {
    "slideshow": {
     "slide_type": "slide"
    }
   },
   "source": [
    "Resolveremos este problema para distintos valores de $z_a$."
   ]
  },
  {
   "cell_type": "code",
   "execution_count": 1,
   "id": "2e5dd163",
   "metadata": {
    "cell_style": "center",
    "slideshow": {
     "slide_type": "fragment"
    }
   },
   "outputs": [],
   "source": [
    "from scipy.integrate import solve_ivp\n",
    "import matplotlib.pyplot as plt\n",
    "import numpy as np\n",
    "\n",
    "# Definimos las constantes\n",
    "h   = 0.05   # coeficiente convectivo (m^-2)\n",
    "S   = 2.7E-9 # coeficiente radiativo (K^-3 m^-2)\n",
    "Too = 200    # Temperatura del exterior (K)\n",
    "Ta  = 300    # Temperatura extremo izquierdo (K)\n",
    "Tb  = 400    # Temperatura extremo derecho (K)\n",
    "L   = 10     # Largo de la barra (m)\n",
    "\n",
    "# Declaramos F con y[0] = T, y[1] = z\n",
    "F = lambda t,y: [y[1], \n",
    "                - h*(Too - y[0]) - S*(Too**4 - y[0]**4)]"
   ]
  },
  {
   "cell_type": "code",
   "execution_count": 2,
   "id": "ab635846",
   "metadata": {
    "cell_style": "center",
    "slideshow": {
     "slide_type": "slide"
    }
   },
   "outputs": [
    {
     "data": {
      "image/png": "[encoded data removed]",
      "text/plain": [
       "<Figure size 1000x500 with 1 Axes>"
      ]
     },
     "metadata": {
      "filenames": {
       "image/png": "/mnt/c/Users/frami/OneDrive - Universidad Adolfo Ibanez/Teaching_courses/MEC301 - Metodos_Numericos/material_catedra/_build/jupyter_execute/10-EDO_condicion_de_borde/10-EDO_condicion_de_borde_27_0.png"
      }
     },
     "output_type": "display_data"
    }
   ],
   "source": [
    "fig, ax = plt.subplots(figsize=(10,5))\n",
    "plt.rcParams.update({'font.size': 18}) # Tamaño de fuente\n",
    "\n",
    "plt.plot(L,Tb,'or')\n",
    "# Resolvemos la ecuación para distintos valores de za\n",
    "for za in [-40, -45]:\n",
    "    sol = solve_ivp(F,t_span = [0,L], y0 = [Ta, za])\n",
    "    ax.plot(sol.t,sol.y[0],':',label=r'$z_a = %.0f$ K/m' % za)\n",
    "\n",
    "ax.set_xlabel('Posicion de la barra, $x$ (m)')\n",
    "ax.set_ylabel('Temperatura en la barra, $T$ (K)')\n",
    "ax.legend(frameon=False)\n",
    "plt.show()"
   ]
  },
  {
   "cell_type": "markdown",
   "id": "fa156462",
   "metadata": {
    "slideshow": {
     "slide_type": "slide"
    }
   },
   "source": [
    "¿Cómo podemos adivinar el valor de $z_a$ correcto?"
   ]
  },
  {
   "cell_type": "markdown",
   "id": "7fa29c63",
   "metadata": {
    "slideshow": {
     "slide_type": "fragment"
    }
   },
   "source": [
    "Cláramente, el método gráfico nos ayuda a acercarnos a la solución. Por ejemplo, notamos ahora que el valor de $z_a$ está acotado entre $z_a\\in[-40, -45]$ K/m. Asi, una alternativa sería utilizar interpolación lineal basado en estos dos primeras estimaciones."
   ]
  },
  {
   "cell_type": "markdown",
   "id": "9e725a05",
   "metadata": {
    "slideshow": {
     "slide_type": "fragment"
    }
   },
   "source": [
    "Sin embargo, este método aún podría entregar resultados inexactos dado que la EDO es del tipo no-lineal."
   ]
  },
  {
   "cell_type": "markdown",
   "id": "0e2f3c52",
   "metadata": {
    "slideshow": {
     "slide_type": "slide"
    }
   },
   "source": [
    "Una forma más genérica de resolver este problema en un computador es utilizando métodos de búsqueda de raices."
   ]
  },
  {
   "cell_type": "markdown",
   "id": "1c9867b7",
   "metadata": {
    "slideshow": {
     "slide_type": "fragment"
    }
   },
   "source": [
    "Primero, debemos entender que resolver nuesta EDO con valor inicial y evaluarla en $x = L$, es equivalente a tener una función $T_{x=L}(z_a)$."
   ]
  },
  {
   "cell_type": "markdown",
   "id": "ccc5684a",
   "metadata": {
    "slideshow": {
     "slide_type": "fragment"
    }
   },
   "source": [
    "Así, el objetivo es encontrar la raíz de la función $f(z_a) = T_{x=L}(z_a) - T_b$"
   ]
  },
  {
   "cell_type": "markdown",
   "id": "44103301",
   "metadata": {
    "slideshow": {
     "slide_type": "slide"
    }
   },
   "source": [
    "Implementemos esta solución mediante con el ejemplo anterior."
   ]
  },
  {
   "cell_type": "code",
   "execution_count": 3,
   "id": "22ac05f4",
   "metadata": {
    "slideshow": {
     "slide_type": "fragment"
    }
   },
   "outputs": [
    {
     "ename": "ValueError",
     "evalue": "setting an array element with a sequence. The requested array has an inhomogeneous shape after 1 dimensions. The detected shape was (2,) + inhomogeneous part.",
     "output_type": "error",
     "traceback": [
      "\u001b[0;31m---------------------------------------------------------------------------\u001b[0m",
      "\u001b[0;31mValueError\u001b[0m                                Traceback (most recent call last)",
      "Cell \u001b[0;32mIn[3], line 10\u001b[0m\n\u001b[1;32m      7\u001b[0m     \u001b[38;5;28;01mreturn\u001b[39;00m T[\u001b[38;5;241m-\u001b[39m\u001b[38;5;241m1\u001b[39m] \u001b[38;5;241m-\u001b[39m Tb \u001b[38;5;66;03m# retornamos T(x = L) - Tb\u001b[39;00m\n\u001b[1;32m      9\u001b[0m \u001b[38;5;66;03m# Buscamos la raiz de f(za) - Tb\u001b[39;00m\n\u001b[0;32m---> 10\u001b[0m za_sol \u001b[38;5;241m=\u001b[39m \u001b[43mfsolve\u001b[49m\u001b[43m(\u001b[49m\u001b[43mfobjective\u001b[49m\u001b[43m,\u001b[49m\u001b[43m \u001b[49m\u001b[43mx0\u001b[49m\u001b[43m \u001b[49m\u001b[38;5;241;43m=\u001b[39;49m\u001b[43m \u001b[49m\u001b[38;5;241;43m-\u001b[39;49m\u001b[38;5;241;43m40\u001b[39;49m\u001b[43m)\u001b[49m\n\u001b[1;32m     11\u001b[0m \u001b[38;5;28mprint\u001b[39m(\u001b[38;5;124m'\u001b[39m\u001b[38;5;124mEl valor de za es: \u001b[39m\u001b[38;5;132;01m%.3f\u001b[39;00m\u001b[38;5;124m K/m\u001b[39m\u001b[38;5;124m'\u001b[39m \u001b[38;5;241m%\u001b[39m za_sol)\n",
      "File \u001b[0;32m~/miniconda3/lib/python3.9/site-packages/scipy/optimize/_minpack_py.py:162\u001b[0m, in \u001b[0;36mfsolve\u001b[0;34m(func, x0, args, fprime, full_output, col_deriv, xtol, maxfev, band, epsfcn, factor, diag)\u001b[0m\n\u001b[1;32m     50\u001b[0m \u001b[38;5;250m\u001b[39m\u001b[38;5;124;03m\"\"\"\u001b[39;00m\n\u001b[1;32m     51\u001b[0m \u001b[38;5;124;03mFind the roots of a function.\u001b[39;00m\n\u001b[1;32m     52\u001b[0m \n\u001b[0;32m   (...)\u001b[0m\n\u001b[1;32m    152\u001b[0m \n\u001b[1;32m    153\u001b[0m \u001b[38;5;124;03m\"\"\"\u001b[39;00m\n\u001b[1;32m    154\u001b[0m options \u001b[38;5;241m=\u001b[39m {\u001b[38;5;124m'\u001b[39m\u001b[38;5;124mcol_deriv\u001b[39m\u001b[38;5;124m'\u001b[39m: col_deriv,\n\u001b[1;32m    155\u001b[0m            \u001b[38;5;124m'\u001b[39m\u001b[38;5;124mxtol\u001b[39m\u001b[38;5;124m'\u001b[39m: xtol,\n\u001b[1;32m    156\u001b[0m            \u001b[38;5;124m'\u001b[39m\u001b[38;5;124mmaxfev\u001b[39m\u001b[38;5;124m'\u001b[39m: maxfev,\n\u001b[0;32m   (...)\u001b[0m\n\u001b[1;32m    159\u001b[0m            \u001b[38;5;124m'\u001b[39m\u001b[38;5;124mfactor\u001b[39m\u001b[38;5;124m'\u001b[39m: factor,\n\u001b[1;32m    160\u001b[0m            \u001b[38;5;124m'\u001b[39m\u001b[38;5;124mdiag\u001b[39m\u001b[38;5;124m'\u001b[39m: diag}\n\u001b[0;32m--> 162\u001b[0m res \u001b[38;5;241m=\u001b[39m \u001b[43m_root_hybr\u001b[49m\u001b[43m(\u001b[49m\u001b[43mfunc\u001b[49m\u001b[43m,\u001b[49m\u001b[43m \u001b[49m\u001b[43mx0\u001b[49m\u001b[43m,\u001b[49m\u001b[43m \u001b[49m\u001b[43margs\u001b[49m\u001b[43m,\u001b[49m\u001b[43m \u001b[49m\u001b[43mjac\u001b[49m\u001b[38;5;241;43m=\u001b[39;49m\u001b[43mfprime\u001b[49m\u001b[43m,\u001b[49m\u001b[43m \u001b[49m\u001b[38;5;241;43m*\u001b[39;49m\u001b[38;5;241;43m*\u001b[39;49m\u001b[43moptions\u001b[49m\u001b[43m)\u001b[49m\n\u001b[1;32m    163\u001b[0m \u001b[38;5;28;01mif\u001b[39;00m full_output:\n\u001b[1;32m    164\u001b[0m     x \u001b[38;5;241m=\u001b[39m res[\u001b[38;5;124m'\u001b[39m\u001b[38;5;124mx\u001b[39m\u001b[38;5;124m'\u001b[39m]\n",
      "File \u001b[0;32m~/miniconda3/lib/python3.9/site-packages/scipy/optimize/_minpack_py.py:228\u001b[0m, in \u001b[0;36m_root_hybr\u001b[0;34m(func, x0, args, jac, col_deriv, xtol, maxfev, band, eps, factor, diag, **unknown_options)\u001b[0m\n\u001b[1;32m    226\u001b[0m \u001b[38;5;28;01mif\u001b[39;00m \u001b[38;5;129;01mnot\u001b[39;00m \u001b[38;5;28misinstance\u001b[39m(args, \u001b[38;5;28mtuple\u001b[39m):\n\u001b[1;32m    227\u001b[0m     args \u001b[38;5;241m=\u001b[39m (args,)\n\u001b[0;32m--> 228\u001b[0m shape, dtype \u001b[38;5;241m=\u001b[39m \u001b[43m_check_func\u001b[49m\u001b[43m(\u001b[49m\u001b[38;5;124;43m'\u001b[39;49m\u001b[38;5;124;43mfsolve\u001b[39;49m\u001b[38;5;124;43m'\u001b[39;49m\u001b[43m,\u001b[49m\u001b[43m \u001b[49m\u001b[38;5;124;43m'\u001b[39;49m\u001b[38;5;124;43mfunc\u001b[39;49m\u001b[38;5;124;43m'\u001b[39;49m\u001b[43m,\u001b[49m\u001b[43m \u001b[49m\u001b[43mfunc\u001b[49m\u001b[43m,\u001b[49m\u001b[43m \u001b[49m\u001b[43mx0\u001b[49m\u001b[43m,\u001b[49m\u001b[43m \u001b[49m\u001b[43margs\u001b[49m\u001b[43m,\u001b[49m\u001b[43m \u001b[49m\u001b[43mn\u001b[49m\u001b[43m,\u001b[49m\u001b[43m \u001b[49m\u001b[43m(\u001b[49m\u001b[43mn\u001b[49m\u001b[43m,\u001b[49m\u001b[43m)\u001b[49m\u001b[43m)\u001b[49m\n\u001b[1;32m    229\u001b[0m \u001b[38;5;28;01mif\u001b[39;00m epsfcn \u001b[38;5;129;01mis\u001b[39;00m \u001b[38;5;28;01mNone\u001b[39;00m:\n\u001b[1;32m    230\u001b[0m     epsfcn \u001b[38;5;241m=\u001b[39m finfo(dtype)\u001b[38;5;241m.\u001b[39meps\n",
      "File \u001b[0;32m~/miniconda3/lib/python3.9/site-packages/scipy/optimize/_minpack_py.py:25\u001b[0m, in \u001b[0;36m_check_func\u001b[0;34m(checker, argname, thefunc, x0, args, numinputs, output_shape)\u001b[0m\n\u001b[1;32m     23\u001b[0m \u001b[38;5;28;01mdef\u001b[39;00m \u001b[38;5;21m_check_func\u001b[39m(checker, argname, thefunc, x0, args, numinputs,\n\u001b[1;32m     24\u001b[0m                 output_shape\u001b[38;5;241m=\u001b[39m\u001b[38;5;28;01mNone\u001b[39;00m):\n\u001b[0;32m---> 25\u001b[0m     res \u001b[38;5;241m=\u001b[39m atleast_1d(\u001b[43mthefunc\u001b[49m\u001b[43m(\u001b[49m\u001b[38;5;241;43m*\u001b[39;49m\u001b[43m(\u001b[49m\u001b[43m(\u001b[49m\u001b[43mx0\u001b[49m\u001b[43m[\u001b[49m\u001b[43m:\u001b[49m\u001b[43mnuminputs\u001b[49m\u001b[43m]\u001b[49m\u001b[43m,\u001b[49m\u001b[43m)\u001b[49m\u001b[43m \u001b[49m\u001b[38;5;241;43m+\u001b[39;49m\u001b[43m \u001b[49m\u001b[43margs\u001b[49m\u001b[43m)\u001b[49m\u001b[43m)\u001b[49m)\n\u001b[1;32m     26\u001b[0m     \u001b[38;5;28;01mif\u001b[39;00m (output_shape \u001b[38;5;129;01mis\u001b[39;00m \u001b[38;5;129;01mnot\u001b[39;00m \u001b[38;5;28;01mNone\u001b[39;00m) \u001b[38;5;129;01mand\u001b[39;00m (shape(res) \u001b[38;5;241m!=\u001b[39m output_shape):\n\u001b[1;32m     27\u001b[0m         \u001b[38;5;28;01mif\u001b[39;00m (output_shape[\u001b[38;5;241m0\u001b[39m] \u001b[38;5;241m!=\u001b[39m \u001b[38;5;241m1\u001b[39m):\n",
      "Cell \u001b[0;32mIn[3], line 5\u001b[0m, in \u001b[0;36mfobjective\u001b[0;34m(za)\u001b[0m\n\u001b[1;32m      4\u001b[0m \u001b[38;5;28;01mdef\u001b[39;00m \u001b[38;5;21mfobjective\u001b[39m(za):\n\u001b[0;32m----> 5\u001b[0m     sol \u001b[38;5;241m=\u001b[39m \u001b[43msolve_ivp\u001b[49m\u001b[43m(\u001b[49m\u001b[43mF\u001b[49m\u001b[43m,\u001b[49m\u001b[43mt_span\u001b[49m\u001b[43m \u001b[49m\u001b[38;5;241;43m=\u001b[39;49m\u001b[43m \u001b[49m\u001b[43m[\u001b[49m\u001b[38;5;241;43m0\u001b[39;49m\u001b[43m,\u001b[49m\u001b[43mL\u001b[49m\u001b[43m]\u001b[49m\u001b[43m,\u001b[49m\u001b[43m \u001b[49m\u001b[43my0\u001b[49m\u001b[43m \u001b[49m\u001b[38;5;241;43m=\u001b[39;49m\u001b[43m \u001b[49m\u001b[43m[\u001b[49m\u001b[43mTa\u001b[49m\u001b[43m,\u001b[49m\u001b[43m \u001b[49m\u001b[43mza\u001b[49m\u001b[43m]\u001b[49m\u001b[43m)\u001b[49m\n\u001b[1;32m      6\u001b[0m     T \u001b[38;5;241m=\u001b[39m sol\u001b[38;5;241m.\u001b[39my[\u001b[38;5;241m0\u001b[39m]      \u001b[38;5;66;03m# distribución de temperaturas en la barra\u001b[39;00m\n\u001b[1;32m      7\u001b[0m     \u001b[38;5;28;01mreturn\u001b[39;00m T[\u001b[38;5;241m-\u001b[39m\u001b[38;5;241m1\u001b[39m] \u001b[38;5;241m-\u001b[39m Tb\n",
      "File \u001b[0;32m~/miniconda3/lib/python3.9/site-packages/scipy/integrate/_ivp/ivp.py:568\u001b[0m, in \u001b[0;36msolve_ivp\u001b[0;34m(fun, t_span, y0, method, t_eval, dense_output, events, vectorized, args, **options)\u001b[0m\n\u001b[1;32m    565\u001b[0m \u001b[38;5;28;01mif\u001b[39;00m method \u001b[38;5;129;01min\u001b[39;00m METHODS:\n\u001b[1;32m    566\u001b[0m     method \u001b[38;5;241m=\u001b[39m METHODS[method]\n\u001b[0;32m--> 568\u001b[0m solver \u001b[38;5;241m=\u001b[39m \u001b[43mmethod\u001b[49m\u001b[43m(\u001b[49m\u001b[43mfun\u001b[49m\u001b[43m,\u001b[49m\u001b[43m \u001b[49m\u001b[43mt0\u001b[49m\u001b[43m,\u001b[49m\u001b[43m \u001b[49m\u001b[43my0\u001b[49m\u001b[43m,\u001b[49m\u001b[43m \u001b[49m\u001b[43mtf\u001b[49m\u001b[43m,\u001b[49m\u001b[43m \u001b[49m\u001b[43mvectorized\u001b[49m\u001b[38;5;241;43m=\u001b[39;49m\u001b[43mvectorized\u001b[49m\u001b[43m,\u001b[49m\u001b[43m \u001b[49m\u001b[38;5;241;43m*\u001b[39;49m\u001b[38;5;241;43m*\u001b[39;49m\u001b[43moptions\u001b[49m\u001b[43m)\u001b[49m\n\u001b[1;32m    570\u001b[0m \u001b[38;5;28;01mif\u001b[39;00m t_eval \u001b[38;5;129;01mis\u001b[39;00m \u001b[38;5;28;01mNone\u001b[39;00m:\n\u001b[1;32m    571\u001b[0m     ts \u001b[38;5;241m=\u001b[39m [t0]\n",
      "File \u001b[0;32m~/miniconda3/lib/python3.9/site-packages/scipy/integrate/_ivp/rk.py:89\u001b[0m, in \u001b[0;36mRungeKutta.__init__\u001b[0;34m(self, fun, t0, y0, t_bound, max_step, rtol, atol, vectorized, first_step, **extraneous)\u001b[0m\n\u001b[1;32m     85\u001b[0m \u001b[38;5;28;01mdef\u001b[39;00m \u001b[38;5;21m__init__\u001b[39m(\u001b[38;5;28mself\u001b[39m, fun, t0, y0, t_bound, max_step\u001b[38;5;241m=\u001b[39mnp\u001b[38;5;241m.\u001b[39minf,\n\u001b[1;32m     86\u001b[0m              rtol\u001b[38;5;241m=\u001b[39m\u001b[38;5;241m1e-3\u001b[39m, atol\u001b[38;5;241m=\u001b[39m\u001b[38;5;241m1e-6\u001b[39m, vectorized\u001b[38;5;241m=\u001b[39m\u001b[38;5;28;01mFalse\u001b[39;00m,\n\u001b[1;32m     87\u001b[0m              first_step\u001b[38;5;241m=\u001b[39m\u001b[38;5;28;01mNone\u001b[39;00m, \u001b[38;5;241m*\u001b[39m\u001b[38;5;241m*\u001b[39mextraneous):\n\u001b[1;32m     88\u001b[0m     warn_extraneous(extraneous)\n\u001b[0;32m---> 89\u001b[0m     \u001b[38;5;28;43msuper\u001b[39;49m\u001b[43m(\u001b[49m\u001b[43m)\u001b[49m\u001b[38;5;241;43m.\u001b[39;49m\u001b[38;5;21;43m__init__\u001b[39;49m\u001b[43m(\u001b[49m\u001b[43mfun\u001b[49m\u001b[43m,\u001b[49m\u001b[43m \u001b[49m\u001b[43mt0\u001b[49m\u001b[43m,\u001b[49m\u001b[43m \u001b[49m\u001b[43my0\u001b[49m\u001b[43m,\u001b[49m\u001b[43m \u001b[49m\u001b[43mt_bound\u001b[49m\u001b[43m,\u001b[49m\u001b[43m \u001b[49m\u001b[43mvectorized\u001b[49m\u001b[43m,\u001b[49m\n\u001b[1;32m     90\u001b[0m \u001b[43m                     \u001b[49m\u001b[43msupport_complex\u001b[49m\u001b[38;5;241;43m=\u001b[39;49m\u001b[38;5;28;43;01mTrue\u001b[39;49;00m\u001b[43m)\u001b[49m\n\u001b[1;32m     91\u001b[0m     \u001b[38;5;28mself\u001b[39m\u001b[38;5;241m.\u001b[39my_old \u001b[38;5;241m=\u001b[39m \u001b[38;5;28;01mNone\u001b[39;00m\n\u001b[1;32m     92\u001b[0m     \u001b[38;5;28mself\u001b[39m\u001b[38;5;241m.\u001b[39mmax_step \u001b[38;5;241m=\u001b[39m validate_max_step(max_step)\n",
      "File \u001b[0;32m~/miniconda3/lib/python3.9/site-packages/scipy/integrate/_ivp/base.py:135\u001b[0m, in \u001b[0;36mOdeSolver.__init__\u001b[0;34m(self, fun, t0, y0, t_bound, vectorized, support_complex)\u001b[0m\n\u001b[1;32m    133\u001b[0m \u001b[38;5;28mself\u001b[39m\u001b[38;5;241m.\u001b[39mt_old \u001b[38;5;241m=\u001b[39m \u001b[38;5;28;01mNone\u001b[39;00m\n\u001b[1;32m    134\u001b[0m \u001b[38;5;28mself\u001b[39m\u001b[38;5;241m.\u001b[39mt \u001b[38;5;241m=\u001b[39m t0\n\u001b[0;32m--> 135\u001b[0m \u001b[38;5;28mself\u001b[39m\u001b[38;5;241m.\u001b[39m_fun, \u001b[38;5;28mself\u001b[39m\u001b[38;5;241m.\u001b[39my \u001b[38;5;241m=\u001b[39m \u001b[43mcheck_arguments\u001b[49m\u001b[43m(\u001b[49m\u001b[43mfun\u001b[49m\u001b[43m,\u001b[49m\u001b[43m \u001b[49m\u001b[43my0\u001b[49m\u001b[43m,\u001b[49m\u001b[43m \u001b[49m\u001b[43msupport_complex\u001b[49m\u001b[43m)\u001b[49m\n\u001b[1;32m    136\u001b[0m \u001b[38;5;28mself\u001b[39m\u001b[38;5;241m.\u001b[39mt_bound \u001b[38;5;241m=\u001b[39m t_bound\n\u001b[1;32m    137\u001b[0m \u001b[38;5;28mself\u001b[39m\u001b[38;5;241m.\u001b[39mvectorized \u001b[38;5;241m=\u001b[39m vectorized\n",
      "File \u001b[0;32m~/miniconda3/lib/python3.9/site-packages/scipy/integrate/_ivp/base.py:6\u001b[0m, in \u001b[0;36mcheck_arguments\u001b[0;34m(fun, y0, support_complex)\u001b[0m\n\u001b[1;32m      4\u001b[0m \u001b[38;5;28;01mdef\u001b[39;00m \u001b[38;5;21mcheck_arguments\u001b[39m(fun, y0, support_complex):\n\u001b[1;32m      5\u001b[0m \u001b[38;5;250m    \u001b[39m\u001b[38;5;124;03m\"\"\"Helper function for checking arguments common to all solvers.\"\"\"\u001b[39;00m\n\u001b[0;32m----> 6\u001b[0m     y0 \u001b[38;5;241m=\u001b[39m \u001b[43mnp\u001b[49m\u001b[38;5;241;43m.\u001b[39;49m\u001b[43masarray\u001b[49m\u001b[43m(\u001b[49m\u001b[43my0\u001b[49m\u001b[43m)\u001b[49m\n\u001b[1;32m      7\u001b[0m     \u001b[38;5;28;01mif\u001b[39;00m np\u001b[38;5;241m.\u001b[39missubdtype(y0\u001b[38;5;241m.\u001b[39mdtype, np\u001b[38;5;241m.\u001b[39mcomplexfloating):\n\u001b[1;32m      8\u001b[0m         \u001b[38;5;28;01mif\u001b[39;00m \u001b[38;5;129;01mnot\u001b[39;00m support_complex:\n",
      "\u001b[0;31mValueError\u001b[0m: setting an array element with a sequence. The requested array has an inhomogeneous shape after 1 dimensions. The detected shape was (2,) + inhomogeneous part."
     ]
    }
   ],
   "source": [
    "from scipy.optimize import fsolve\n",
    "\n",
    "# Declaramos la función objetivo, f(za)\n",
    "def fobjective(za):\n",
    "    sol = solve_ivp(F,t_span = [0,L], y0 = [Ta, za])\n",
    "    T = sol.y[0]      # distribución de temperaturas en la barra\n",
    "    return T[-1] - Tb # retornamos T(x = L) - Tb\n",
    "\n",
    "# Buscamos la raiz de f(za) - Tb\n",
    "za_sol = fsolve(fobjective, x0 = -40)\n",
    "print('El valor de za es: %.3f K/m' % za_sol)"
   ]
  },
  {
   "cell_type": "code",
   "execution_count": 4,
   "id": "53a1ba89",
   "metadata": {
    "slideshow": {
     "slide_type": "slide"
    }
   },
   "outputs": [
    {
     "data": {
      "image/png": "[encoded data removed]",
      "text/plain": [
       "<Figure size 720x360 with 1 Axes>"
      ]
     },
     "metadata": {
      "filenames": {
       "image/png": "/mnt/c/Users/frami/OneDrive - Universidad Adolfo Ibanez/Teaching_courses/MEC301 - Metodos_Numericos/material_catedra/_build/jupyter_execute/10-EDO_condicion_de_borde/10-EDO_condicion_de_borde_36_0.png"
      },
      "needs_background": "light"
     },
     "output_type": "display_data"
    }
   ],
   "source": [
    "fig, ax = plt.subplots(figsize=(10,5))\n",
    "plt.rcParams.update({'font.size': 18}) # Tamaño de fuente\n",
    "\n",
    "x_range = np.linspace(0,L,20)  # rango de valores para evaluar T(x)\n",
    "\n",
    "sol = solve_ivp(F,t_span = [0,L], t_eval = x_range, y0 = [Ta, za_sol])\n",
    "ax.plot(sol.t,sol.y[0],':x',label=r'$z_a = %.3f$ K/m' % za_sol)\n",
    "plt.plot(L,Tb,'or')\n",
    "\n",
    "ax.set_xlabel('Posicion de la barra, $x$ (m)')\n",
    "ax.set_ylabel('Temperatura en la barra, $T$ (K)')\n",
    "ax.legend(frameon=False)\n",
    "plt.show()"
   ]
  },
  {
   "cell_type": "markdown",
   "id": "34e28cde",
   "metadata": {
    "slideshow": {
     "slide_type": "slide"
    }
   },
   "source": [
    "La condición de borde $T(L) = T_b$, o *condición de borde de Dirichlet.* Es una de muchos tipos de condiciones de borde que se utilizan en ingeniería y ciencias."
   ]
  },
  {
   "cell_type": "markdown",
   "id": "becb4256",
   "metadata": {
    "slideshow": {
     "slide_type": "fragment"
    }
   },
   "source": [
    "A veces, las condiciones de borde están definidas en función de derivadas."
   ]
  },
  {
   "cell_type": "markdown",
   "id": "29643f04",
   "metadata": {
    "slideshow": {
     "slide_type": "slide"
    }
   },
   "source": [
    "Por ejemplo, respecto al problema de la barra, es común definir una condición de borde convectiva, o *condición de borde de Neumann:*\n",
    "\n",
    "\\begin{equation*}\n",
    "\\frac{dT}{dx}\\Big|_{x=L} = h^*\\left[ T_\\infty - T(L)\\right]\n",
    "\\end{equation*}"
   ]
  },
  {
   "cell_type": "markdown",
   "id": "fde1448c",
   "metadata": {
    "cell_style": "split",
    "slideshow": {
     "slide_type": "fragment"
    }
   },
   "source": [
    "<img src=\"./images/heated_bar_convective_end.png\" width=\"500px\" align= center>"
   ]
  },
  {
   "cell_type": "markdown",
   "id": "87260116",
   "metadata": {
    "cell_style": "split",
    "slideshow": {
     "slide_type": "fragment"
    }
   },
   "source": [
    "Para este tipo de problemas, todo lo que debemos hacer es modificar nuestra función objetivo."
   ]
  },
  {
   "cell_type": "markdown",
   "id": "25398beb",
   "metadata": {
    "cell_style": "split",
    "slideshow": {
     "slide_type": "fragment"
    }
   },
   "source": [
    "Revisemos esto en un código para $h^* = 0.005$ m$^{-1}$"
   ]
  },
  {
   "cell_type": "code",
   "execution_count": 5,
   "id": "08485066",
   "metadata": {
    "slideshow": {
     "slide_type": "slide"
    }
   },
   "outputs": [
    {
     "name": "stdout",
     "output_type": "stream",
     "text": [
      "El valor de za es: -43.720 K/m\n"
     ]
    }
   ],
   "source": [
    "from scipy.optimize import fsolve\n",
    "\n",
    "hstar = 0.005\n",
    "\n",
    "# Declaramos la función objetivo, f(za) con condición de Neumann\n",
    "def fobjective(za):\n",
    "    sol = solve_ivp(F,t_span = [0,L], y0 = [Ta, za])\n",
    "    T    = sol.y[0]                       # distribución de temperaturas en la barra\n",
    "    dTdx = sol.y[1]                       # distribución de dTdx en la barra\n",
    "    return dTdx[-1] - hstar*(Too - T[-1]) # retornamos dTdx|(x=L) - h(Too - T(L))\n",
    "\n",
    "# Buscamos la raiz de f(za) - Tb\n",
    "za_sol = fsolve(fobjective, x0 = -45)\n",
    "print('El valor de za es: %.3f K/m' % za_sol)\n"
   ]
  },
  {
   "cell_type": "code",
   "execution_count": 6,
   "id": "4335f58c",
   "metadata": {
    "slideshow": {
     "slide_type": "slide"
    }
   },
   "outputs": [
    {
     "data": {
      "image/png": "[encoded data removed]",
      "text/plain": [
       "<Figure size 720x360 with 1 Axes>"
      ]
     },
     "metadata": {
      "filenames": {
       "image/png": "/mnt/c/Users/frami/OneDrive - Universidad Adolfo Ibanez/Teaching_courses/MEC301 - Metodos_Numericos/material_catedra/_build/jupyter_execute/10-EDO_condicion_de_borde/10-EDO_condicion_de_borde_44_0.png"
      },
      "needs_background": "light"
     },
     "output_type": "display_data"
    }
   ],
   "source": [
    "fig, ax = plt.subplots(figsize=(10,5))\n",
    "plt.rcParams.update({'font.size': 18}) # Tamaño de fuente\n",
    "\n",
    "x_range = np.linspace(0,L,20)  # rango de valores para evaluar T(x)\n",
    "\n",
    "sol = solve_ivp(F,t_span = [0,L], t_eval = x_range, y0 = [Ta, za_sol])\n",
    "ax.plot(sol.t,sol.y[0],':x',label=r'$z_a = %.3f$ K/m' % za_sol)\n",
    "\n",
    "ax.set_xlabel('Posicion de la barra, $x$ (m)')\n",
    "ax.set_ylabel('Temperatura en la barra, $T$ (K)')\n",
    "ax.legend(frameon=False)\n",
    "plt.show()"
   ]
  },
  {
   "cell_type": "markdown",
   "id": "49c2b624",
   "metadata": {
    "cell_style": "center",
    "slideshow": {
     "slide_type": "slide"
    }
   },
   "source": [
    "## El método de diferencias finitas"
   ]
  },
  {
   "cell_type": "markdown",
   "id": "f79b667b",
   "metadata": {
    "slideshow": {
     "slide_type": "fragment"
    }
   },
   "source": [
    "La alternativa más común para resolver EDOs con condiciones de borde es mediante diferencias finitas. Esto consiste en discretizar la ecuación diferencial utilizando las fórmulas de la [unidad 8](https://panxopanza.github.io/metodos_numericos_mec301/8-Derivacion_numerica/8-Derivacion_numerica.html#)."
   ]
  },
  {
   "cell_type": "markdown",
   "id": "01cace97",
   "metadata": {
    "cell_style": "center",
    "slideshow": {
     "slide_type": "fragment"
    }
   },
   "source": [
    "Revisemos esto con el problema de la barra. Ahora, únicamente, considerando pérdidas de calor por convección."
   ]
  },
  {
   "cell_type": "markdown",
   "id": "1de51c38",
   "metadata": {
    "cell_style": "split",
    "slideshow": {
     "slide_type": "fragment"
    }
   },
   "source": [
    "<img src=\"./images/heated_bar_convection_losses.png\" width=\"400px\" align= center>"
   ]
  },
  {
   "cell_type": "markdown",
   "id": "633f12c3",
   "metadata": {
    "cell_style": "split"
   },
   "source": [
    "En este caso **la EDO es del tipo lineal**:\n",
    "\n",
    "\\begin{equation*}\n",
    "\\frac{d^2T}{dx^2} + h'(T_\\infty - T) = 0\n",
    "\\end{equation*}\n",
    "\n",
    "\\begin{align*}\n",
    "T(0) &= T_a\\\\\n",
    "T(L) &= T_b\n",
    "\\end{align*}"
   ]
  },
  {
   "cell_type": "markdown",
   "id": "0af03c63",
   "metadata": {
    "slideshow": {
     "slide_type": "slide"
    }
   },
   "source": [
    "El primer paso consiste en discretizar el dominio en una série de nodos."
   ]
  },
  {
   "cell_type": "markdown",
   "id": "364a07ff",
   "metadata": {
    "cell_style": "split",
    "slideshow": {
     "slide_type": "fragment"
    }
   },
   "source": [
    "<img src=\"./images/discretized_bar.png\" width=\"500px\" align= center>"
   ]
  },
  {
   "cell_type": "markdown",
   "id": "fca9a4e7",
   "metadata": {
    "cell_style": "split",
    "slideshow": {
     "slide_type": "fragment"
    }
   },
   "source": [
    "Luego, aplicamos una fórmula de diferencias finitas en cada nodo. Por ejemplo, usando diferencia central tenemos:\n",
    "\n",
    "\\begin{equation*}\n",
    "\\frac{T_{i - 1}- 2T_i +T_{i + 1}}{\\Delta x^2} + h'(T_\\infty - T_i) = 0\n",
    "\\end{equation*}"
   ]
  },
  {
   "cell_type": "markdown",
   "id": "b99b5a73",
   "metadata": {
    "slideshow": {
     "slide_type": "fragment"
    }
   },
   "source": [
    "Reordenando los términos tenemos:\n",
    "\n",
    "\\begin{equation*}\n",
    "- T_{i - 1}+ (2 + h'\\Delta x^2)T_i  - T_{i + 1} =  h'\\Delta x^2 T_\\infty\n",
    "\\end{equation*}"
   ]
  },
  {
   "cell_type": "markdown",
   "id": "78351d38",
   "metadata": {
    "slideshow": {
     "slide_type": "fragment"
    }
   },
   "source": [
    "Podemos desarrollar esta expresión para cada nodo interior ($i = 1,\\cdots, n-1$). Los valores de los nodos extremos están dados por las condiciones de borde $T_0 = T_a$, $T_n = T_b$."
   ]
  },
  {
   "cell_type": "markdown",
   "id": "87c80b0f",
   "metadata": {
    "slideshow": {
     "slide_type": "slide"
    }
   },
   "source": [
    "El resultado nos entrega un sistema de ecuaciones lineales $Ax = b$, de la forma:\n",
    "\n",
    "\\begin{equation*}\n",
    "\\begin{bmatrix}\n",
    "(2 + h'\\Delta x^2) & -1 & & & \\\\\n",
    "-1 & (2 + h'\\Delta x^2) & -1 & &  \\\\\n",
    " & \\ddots & \\ddots & \\ddots & \\\\\n",
    " & & -1& (2 + h'\\Delta x^2)& -1 \\\\\n",
    " & & -1 & & (2 + h'\\Delta x^2)\n",
    "\\end{bmatrix}\\left[\\begin{array}{c} T_1 \\\\T_2 \\\\ \\vdots \\\\ T_{n-2} \\\\ T_{n-1} \\end{array}\\right] =\n",
    "\\left[\\begin{array}{c} T_0 + h'\\Delta x^2 T_\\infty \\\\h'\\Delta x^2 T_\\infty \\\\ \\vdots \\\\h'\\Delta x^2 T_\\infty \\\\ T_n + h'\\Delta x^2 T_\\infty\\end{array}\\right]\n",
    "\\end{equation*}"
   ]
  },
  {
   "cell_type": "markdown",
   "id": "9bfc9fdf",
   "metadata": {
    "slideshow": {
     "slide_type": "fragment"
    }
   },
   "source": [
    "Notar que **la matriz $A$ en este caso es diagonal dominante**. Este es un aspecto fundamental del método de diferencias finitas, ya que permite determinar soluciones mediante métodos iterativos como Gauss-Seidel."
   ]
  },
  {
   "cell_type": "markdown",
   "id": "1be3f757",
   "metadata": {
    "slideshow": {
     "slide_type": "fragment"
    }
   },
   "source": [
    "Como discutimos en la [unidad 2](https://panxopanza.github.io/metodos_numericos_mec301/2-Algebra_lineal/2-Algebra_lineal.html#metodos-iterativos) del curso, los métodos iterativos son más eficientes y requiren menor cantidad memoria computacional, permitiendo un cálculo eficiente."
   ]
  },
  {
   "cell_type": "markdown",
   "id": "abbb3a3a",
   "metadata": {
    "slideshow": {
     "slide_type": "slide"
    }
   },
   "source": [
    "Revisemos esto en un código en python. En este caso, queremos preparar un código genérico para un $n$ variable"
   ]
  },
  {
   "cell_type": "markdown",
   "id": "37fb9c95",
   "metadata": {
    "slideshow": {
     "slide_type": "fragment"
    }
   },
   "source": [
    "Podemos expresar el sistema de ecuaciones, convenientemente, en la forma:\n",
    "\n",
    "\\begin{equation*}\n",
    "\\begin{bmatrix}\n",
    " 1 &                  0 &                  0 &            \\cdots &                    & \\\\ \n",
    "-1 & (2 + h'\\Delta x^2) &                 -1 &                   &                    & \\\\\n",
    "   & \\ddots             & \\ddots             &            \\ddots &                    &\\\\\n",
    "   &                    &                    &                -1 & (2 + h'\\Delta x^2) & -1 \\\\\n",
    "   &                    &             \\cdots &                 0 &             0      & 1\n",
    "\\end{bmatrix}\\left[\\begin{array}{c} T_0 \\\\ T_1 \\\\ \\vdots \\\\ T_{n-1} \\\\T_n \\end{array}\\right] =\n",
    "\\left[\\begin{array}{c} T_a \\\\ h'\\Delta x^2 T_\\infty \\\\ \\vdots \\\\ h'\\Delta x^2 T_\\infty \\\\ T_b\\end{array}\\right]\n",
    "\\end{equation*}"
   ]
  },
  {
   "cell_type": "markdown",
   "id": "874fd3d5",
   "metadata": {
    "slideshow": {
     "slide_type": "fragment"
    }
   },
   "source": [
    "Esta forma nos permitirá una expresión más simplificada para crear nuestras matrices $A$ y $b$."
   ]
  },
  {
   "cell_type": "code",
   "execution_count": 7,
   "id": "7718d60e",
   "metadata": {
    "cell_style": "center",
    "slideshow": {
     "slide_type": "slide"
    }
   },
   "outputs": [],
   "source": [
    "# Código genérico para barra 1D con diferencias finitas\n",
    "\n",
    "N  = 10              # número de nodos\n",
    "dx = L/(N - 1)       # espaciamiento entre nodos\n",
    "n  = N - 1           # nodo final   \n",
    "\n",
    "A = np.zeros((N,N))  # declaramos matrix A\n",
    "b = np.zeros(N)      # declaramos vector b\n",
    "for i in range(N):\n",
    "    \n",
    "    # condiciones de borde\n",
    "    if i == 0:       # Temperatura fija en el extremo izquierdo\n",
    "        A[i,i] = 1\n",
    "        b[i]   = Ta\n",
    "        continue\n",
    "    \n",
    "    if i == n:       # Temperatura fija en el extremo derecho\n",
    "        A[i,i] = 1\n",
    "        b[i]   = Tb\n",
    "        continue\n",
    "    \n",
    "    # nodos interiores\n",
    "    A[i,i-1] = -1\n",
    "    A[i, i ] =  2 + h*dx**2\n",
    "    A[i,i+1] = -1\n",
    "    \n",
    "    b[i] = h*dx**2*Too"
   ]
  },
  {
   "cell_type": "code",
   "execution_count": 8,
   "id": "43f1b027",
   "metadata": {
    "cell_style": "center",
    "slideshow": {
     "slide_type": "slide"
    }
   },
   "outputs": [
    {
     "data": {
      "image/png": "[encoded data removed]",
      "text/plain": [
       "<Figure size 720x360 with 1 Axes>"
      ]
     },
     "metadata": {
      "filenames": {
       "image/png": "/mnt/c/Users/frami/OneDrive - Universidad Adolfo Ibanez/Teaching_courses/MEC301 - Metodos_Numericos/material_catedra/_build/jupyter_execute/10-EDO_condicion_de_borde/10-EDO_condicion_de_borde_62_0.png"
      },
      "needs_background": "light"
     },
     "output_type": "display_data"
    }
   ],
   "source": [
    "# Discretización del dominio \"x\"\n",
    "x = np.linspace(0,L,N)\n",
    "\n",
    "# Resolvemos el sistema\n",
    "T = np.linalg.solve(A,b)\n",
    "\n",
    "fig, ax = plt.subplots(figsize=(10,5))\n",
    "plt.rcParams.update({'font.size': 18}) # Tamaño de fuente\n",
    "ax.plot(x,T,':x')\n",
    "\n",
    "ax.set_title('Barra con temperaturas fijas (dif. finitas)')\n",
    "ax.set_xlabel('Posicion de la barra, $x$ (m)')\n",
    "ax.set_ylabel('Temperatura en la barra, $T$ (K)')\n",
    "plt.show()"
   ]
  },
  {
   "cell_type": "markdown",
   "id": "43aaed05",
   "metadata": {
    "slideshow": {
     "slide_type": "slide"
    }
   },
   "source": [
    "Consideremos ahora el caso de una barra con condiciones de borde de Neuman:\n",
    "\n",
    "\\begin{equation*}\n",
    "\\frac{dT}{dx}\\Big|_{x=L} = h^*\\left[ T_\\infty - T(L)\\right]\n",
    "\\end{equation*}"
   ]
  },
  {
   "cell_type": "markdown",
   "id": "398037ca",
   "metadata": {
    "cell_style": "split"
   },
   "source": [
    "<img src=\"./images/heated_bar_convection_losses_convective_end.png\" width=\"500px\" align= center>"
   ]
  },
  {
   "cell_type": "markdown",
   "id": "9ff10573",
   "metadata": {
    "cell_style": "split",
    "slideshow": {
     "slide_type": "fragment"
    }
   },
   "source": [
    "Podemos aplicar diferencias hacia atrás en la condición de borde:\n",
    "\n",
    "\\begin{equation*}\n",
    "\\frac{T_{n}- T_{n - 1}}{\\Delta x} = h'(T_\\infty - T_n)\n",
    "\\end{equation*}"
   ]
  },
  {
   "cell_type": "markdown",
   "id": "b7030a14",
   "metadata": {
    "cell_style": "center",
    "slideshow": {
     "slide_type": "fragment"
    }
   },
   "source": [
    "A partir de esto tenemos una nueva ecuación de la forma:\n",
    "\n",
    "\\begin{equation*}\n",
    "- T_{n-1} + (1 + h'\\Delta x)T_{n} = h'\\Delta xT_\\infty\n",
    "\\end{equation*}"
   ]
  },
  {
   "cell_type": "markdown",
   "id": "f424c208",
   "metadata": {
    "slideshow": {
     "slide_type": "slide"
    }
   },
   "source": [
    "El sistema de ecuaciones es similar al caso anterior, aunque con la nueva condición de borde en el nodo del extremo derecho:\n",
    "\n",
    "\\begin{equation*}\n",
    "\\begin{bmatrix}\n",
    " 1 &                  0 &                  0 &            \\cdots &                    & \\\\ \n",
    "-1 & (2 + h'\\Delta x^2) &                 -1 &                   &                    & \\\\\n",
    "   & \\ddots             & \\ddots             &            \\ddots &                    &\\\\\n",
    "   &                    &                    &                -1 & (2 + h'\\Delta x^2) & -1 \\\\\n",
    "   &                    &             \\cdots &                 0 &              -1    & 1 + h'\\Delta x\n",
    "\\end{bmatrix}\\left[\\begin{array}{c} T_0 \\\\ T_1 \\\\ \\vdots \\\\ T_{n-1} \\\\T_n \\end{array}\\right] =\n",
    "\\left[\\begin{array}{c} T_a \\\\ h'\\Delta x^2 T_\\infty \\\\ \\vdots \\\\ h'\\Delta x^2 T_\\infty \\\\ h'\\Delta x T_\\infty\\end{array}\\right]\n",
    "\\end{equation*}"
   ]
  },
  {
   "cell_type": "markdown",
   "id": "5d29cf84",
   "metadata": {},
   "source": [
    "La implementación en código es análoga al caso anterior. Notar que ahora solo editamos la condición de borde para $i = n$"
   ]
  },
  {
   "cell_type": "code",
   "execution_count": 9,
   "id": "45bb2c5a",
   "metadata": {
    "slideshow": {
     "slide_type": "slide"
    }
   },
   "outputs": [],
   "source": [
    "# Código genérico para barra 1D con diferencias finitas\n",
    "     \n",
    "N  = 10              # número de nodos\n",
    "dx = L/(N - 1)       # espaciamiento entre nodos\n",
    "n  = N - 1           # nodo final   \n",
    "\n",
    "A = np.zeros((N,N))  # declaramos matrix A\n",
    "b = np.zeros(N)      # declaramos vector b\n",
    "for i in range(N):\n",
    "    \n",
    "    # condiciones de borde\n",
    "    if i == 0:     # Temperatura fija en el extremo izquierdo\n",
    "        A[i,i] = 1\n",
    "        b[i]   = Ta\n",
    "        continue\n",
    "    \n",
    "    if i == n:     # convección en el extremo derecho\n",
    "        A[i,i-1] = -1\n",
    "        A[i,i]   = 1 + h*dx\n",
    "        b[i]     = h*dx*Too\n",
    "        continue\n",
    "    \n",
    "    # nodos interiores\n",
    "    A[i,i-1] = -1\n",
    "    A[i, i ] =  2 + h*dx**2\n",
    "    A[i,i+1] = -1\n",
    "    \n",
    "    b[i] = h*dx**2*Too"
   ]
  },
  {
   "cell_type": "code",
   "execution_count": 10,
   "id": "7f6fe5cc",
   "metadata": {
    "slideshow": {
     "slide_type": "slide"
    }
   },
   "outputs": [
    {
     "data": {
      "image/png": "[encoded data removed]",
      "text/plain": [
       "<Figure size 720x360 with 1 Axes>"
      ]
     },
     "metadata": {
      "filenames": {
       "image/png": "/mnt/c/Users/frami/OneDrive - Universidad Adolfo Ibanez/Teaching_courses/MEC301 - Metodos_Numericos/material_catedra/_build/jupyter_execute/10-EDO_condicion_de_borde/10-EDO_condicion_de_borde_70_0.png"
      },
      "needs_background": "light"
     },
     "output_type": "display_data"
    }
   ],
   "source": [
    "# Discretización del dominio \"x\"\n",
    "x = np.linspace(0,10,N)\n",
    "\n",
    "# Resolvemos el sistema\n",
    "T = np.linalg.solve(A,b)\n",
    "\n",
    "fig, ax = plt.subplots(figsize=(10,5))\n",
    "plt.rcParams.update({'font.size': 18}) # Tamaño de fuente\n",
    "ax.plot(x,T,':x')\n",
    "\n",
    "ax.set_title('Barra con convección en un extremo (dif. finitas)')\n",
    "ax.set_xlabel('Posicion de la barra, $x$ (m)')\n",
    "ax.set_ylabel('Temperatura en la barra, $T$ (K)')\n",
    "plt.show()"
   ]
  },
  {
   "cell_type": "markdown",
   "id": "d248014c",
   "metadata": {
    "slideshow": {
     "slide_type": "slide"
    }
   },
   "source": [
    "Si la EDO es no lineal la forma de resolver el problema es análoga. Sin embargo, el sistema de ecuaciones a resolver también será del tipo no lineal y para esto debemos utilizar un método de búsqueda de raices."
   ]
  },
  {
   "cell_type": "markdown",
   "id": "594c61d1",
   "metadata": {
    "slideshow": {
     "slide_type": "fragment"
    }
   },
   "source": [
    "Revisemos esto con el problema de la barra con enfriamiento por radiación y convección"
   ]
  },
  {
   "cell_type": "markdown",
   "id": "afc485c6",
   "metadata": {
    "cell_style": "split"
   },
   "source": [
    "<img src=\"./images/heated_bar_convective_end.png\" width=\"500px\" align= center>"
   ]
  },
  {
   "cell_type": "markdown",
   "id": "c20ca731",
   "metadata": {
    "cell_style": "split",
    "slideshow": {
     "slide_type": "fragment"
    }
   },
   "source": [
    "La ecuación discretizada por diferencias finitas es de la forma:\n",
    "\n",
    "\\begin{equation*}\n",
    "\\frac{T_{i - 1}- 2T_i +T_{i + 1}}{\\Delta x^2} + h'(T_\\infty - T_i) + \\sigma'(T_\\infty^4 - T_i^4) = 0\n",
    "\\end{equation*}"
   ]
  },
  {
   "cell_type": "markdown",
   "id": "7559ff2b",
   "metadata": {
    "slideshow": {
     "slide_type": "fragment"
    }
   },
   "source": [
    "Reordenando los términos tenemos:\n",
    "\n",
    "\\begin{equation*}\n",
    "- T_{i - 1}+ (2 + h'\\Delta x^2)T_i + \\sigma'\\Delta x^2 T_i^4 - T_{i + 1} - h'\\Delta x^2 T_\\infty - \\sigma' \\Delta x^2 T_\\infty^4 = 0\n",
    "\\end{equation*}"
   ]
  },
  {
   "cell_type": "code",
   "execution_count": 11,
   "id": "e4d913a8",
   "metadata": {
    "slideshow": {
     "slide_type": "slide"
    }
   },
   "outputs": [],
   "source": [
    "# Código genérico para barra 1D con diferencias finitas\n",
    "\n",
    "N  = 10              # número de nodos\n",
    "dx = L/(N - 1)       # espaciamiento entre nodos\n",
    "n  = N - 1           # nodo final   \n",
    "\n",
    "def fsystem(T):\n",
    "    \n",
    "    f = np.zeros(N)\n",
    "    for i in range(N):\n",
    "    \n",
    "        # condiciones de borde\n",
    "        if i == 0:     # Temperatura fija en el extremo izquierdo\n",
    "            f[0] = T[0] - Ta\n",
    "            continue\n",
    "        if i == n:     # convección en el extremo derecho\n",
    "            f[n] = - T[n-1] + (1 + h*dx)*T[n] - h*dx*Too\n",
    "            continue\n",
    "    \n",
    "        # nodos interiores\n",
    "        f[i] = - T[i-1] + (2 + h*dx**2)*T[i] + S*dx**2*T[i]**4 - T[i+1] - h*dx**2*Too - S*dx**2*Too**4\n",
    "        \n",
    "    return f"
   ]
  },
  {
   "cell_type": "code",
   "execution_count": 12,
   "id": "933956fb",
   "metadata": {
    "slideshow": {
     "slide_type": "slide"
    }
   },
   "outputs": [
    {
     "data": {
      "image/png": "[encoded data removed]",
      "text/plain": [
       "<Figure size 720x360 with 1 Axes>"
      ]
     },
     "metadata": {
      "filenames": {
       "image/png": "/mnt/c/Users/frami/OneDrive - Universidad Adolfo Ibanez/Teaching_courses/MEC301 - Metodos_Numericos/material_catedra/_build/jupyter_execute/10-EDO_condicion_de_borde/10-EDO_condicion_de_borde_77_0.png"
      },
      "needs_background": "light"
     },
     "output_type": "display_data"
    }
   ],
   "source": [
    "from scipy.optimize import fsolve\n",
    "# condicionamos la variable inicial para la iteración\n",
    "Tinc = np.zeros(N)\n",
    "Tinc[0], Tinc[-1] = Ta, Too\n",
    "\n",
    "T = fsolve(fsystem, x0 = Tinc)  # Solución del sistema no lineal\n",
    "x = np.linspace(0,10,N)         # Discretización del dominio \"x\"\n",
    "\n",
    "fig, ax = plt.subplots(figsize=(10,5))\n",
    "plt.rcParams.update({'font.size': 18}) # Tamaño de fuente\n",
    "ax.plot(x,T,':x')\n",
    "\n",
    "ax.set_title('Barra con convección en un extremo (dif. finitas)')\n",
    "ax.set_xlabel('Posicion de la barra, $x$ (m)')\n",
    "ax.set_ylabel('Temperatura en la barra, $T$ (K)')\n",
    "plt.show()"
   ]
  },
  {
   "cell_type": "markdown",
   "id": "e5035990",
   "metadata": {
    "slideshow": {
     "slide_type": "slide"
    }
   },
   "source": [
    "## Errores numéricos y  estabilidad\n",
    "\n",
    "Los problemas con condiciones de borde también estan expuestos a errores por truncamiento y por estabilidad."
   ]
  },
  {
   "cell_type": "markdown",
   "id": "58a9ff55",
   "metadata": {
    "slideshow": {
     "slide_type": "fragment"
    }
   },
   "source": [
    "-  En el caso del **método del disparo**, el error es similar a lo discutido con los métodos para resolver EDOs con valor inicial. Es decir, **este método puede presentar problemas de inestabilidad, rigidez, y errores de truncamiento** dependiendo del método utilizado para resolver el problema de valor inicial"
   ]
  },
  {
   "cell_type": "markdown",
   "id": "b9ddd31c",
   "metadata": {
    "slideshow": {
     "slide_type": "fragment"
    }
   },
   "source": [
    "- En el caso del **método de diferencias finitas**, el **error está directamente asociado al truncamiento de la serie de Taylor**, lo cual depende del esquema utilizado para la discretización (diferencia central, diferencia hacia adelante, etc)."
   ]
  },
  {
   "cell_type": "markdown",
   "id": "b6ed12a9",
   "metadata": {
    "slideshow": {
     "slide_type": "fragment"
    }
   },
   "source": [
    "Por último es importante mencionar que el método de diferencias finitas es fácilmente extensible a problemas expresados en ecuaciones diferenciales parciales, mientras que el método del disparo solo puede ser planteado para EDOs con valor inicial. Esto lo revisaremos en la próxima unidad del curso."
   ]
  },
  {
   "cell_type": "markdown",
   "id": "33d3b1b6",
   "metadata": {
    "cell_style": "center",
    "slideshow": {
     "slide_type": "slide"
    }
   },
   "source": [
    "## Referencias\n",
    "- Kong Q., Siauw T., Bayen A. M. **Chapter 23: Boundary-Value Problems for ODEs** in *[Python Programming and Numerical Methods – A Guide for Engineers and Scientists](https://pythonnumericalmethods.berkeley.edu/notebooks/chapter23.00-ODE-Boundary-Value-Problems.html)*, 1st Ed., Academic Press, 2021\n",
    "\n",
    "- Chapra S., Canale R. **Capítulo 27 Problemas de valores en la frontera y de valores própios** en *Métodos Numéricos para Ingenieros*, 6ta Ed., McGraw Hill, 2011\n"
   ]
  }
 ],
 "metadata": {
  "celltoolbar": "Slideshow",
  "kernelspec": {
   "display_name": "Python 3 (ipykernel)",
   "language": "python",
   "name": "python3"
  },
  "language_info": {
   "codemirror_mode": {
    "name": "ipython",
    "version": 3
   },
   "file_extension": ".py",
   "mimetype": "text/x-python",
   "name": "python",
   "nbconvert_exporter": "python",
   "pygments_lexer": "ipython3",
   "version": "3.9.12"
  },
  "latex_envs": {
   "LaTeX_envs_menu_present": false,
   "autoclose": false,
   "autocomplete": false,
   "bibliofile": "biblio.bib",
   "cite_by": "apalike",
   "current_citInitial": 1,
   "eqLabelWithNumbers": true,
   "eqNumInitial": 1,
   "hotkeys": {
    "equation": "Ctrl-E",
    "itemize": "Ctrl-I"
   },
   "labels_anchors": false,
   "latex_user_defs": false,
   "report_style_numbering": false,
   "user_envs_cfg": true
  },
  "rise": {
   "height": "100%",
   "theme": "simple",
   "width": "100%"
  },
  "toc": {
   "base_numbering": "1",
   "nav_menu": {},
   "number_sections": true,
   "sideBar": true,
   "skip_h1_title": true,
   "title_cell": "Contenidos",
   "title_sidebar": "Contenidos",
   "toc_cell": false,
   "toc_position": {
    "height": "calc(100% - 180px)",
    "left": "10px",
    "top": "150px",
    "width": "303.828px"
   },
   "toc_section_display": true,
   "toc_window_display": false
  },
  "varInspector": {
   "cols": {
    "lenName": 16,
    "lenType": 16,
    "lenVar": 40
   },
   "kernels_config": {
    "python": {
     "delete_cmd_postfix": "",
     "delete_cmd_prefix": "del ",
     "library": "var_list.py",
     "varRefreshCmd": "print(var_dic_list())"
    },
    "r": {
     "delete_cmd_postfix": ") ",
     "delete_cmd_prefix": "rm(",
     "library": "var_list.r",
     "varRefreshCmd": "cat(var_dic_list()) "
    }
   },
   "types_to_exclude": [
    "module",
    "function",
    "builtin_function_or_method",
    "instance",
    "_Feature"
   ],
   "window_display": false
  }
 },
 "nbformat": 4,
 "nbformat_minor": 5
}
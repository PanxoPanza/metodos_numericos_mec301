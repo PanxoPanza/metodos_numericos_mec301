{
 "cells": [
  {
   "cell_type": "markdown",
   "id": "6d47d103",
   "metadata": {
    "cell_style": "center",
    "slideshow": {
     "slide_type": "slide"
    }
   },
   "source": [
    "# Algoritmos de búsqueda de raíces"
   ]
  },
  {
   "cell_type": "markdown",
   "id": "dca8d40b",
   "metadata": {
    "slideshow": {
     "slide_type": "slide"
    }
   },
   "source": [
    "## Introducción\n",
    "Consideremos el problema de caída de presión $\\Delta P$ al mover un fluído con densidad $\\rho$ y viscosidad cinemática $\\nu$, a través de una tubería de largo $L$."
   ]
  },
  {
   "cell_type": "markdown",
   "id": "abd24e10",
   "metadata": {
    "cell_style": "split",
    "slideshow": {
     "slide_type": "fragment"
    }
   },
   "source": [
    "<img src=\"./images/presure_drop.png\" width=\"350px\" align= center>"
   ]
  },
  {
   "cell_type": "markdown",
   "id": "77d833f4",
   "metadata": {
    "cell_style": "split",
    "slideshow": {
     "slide_type": "fragment"
    }
   },
   "source": [
    "Para un fluido que fluye a una velocidad $V$, la caída de presión está dada por:\n",
    "\n",
    "\\begin{equation*}\n",
    "\\frac{\\Delta P}{\\rho g} =f_c \\frac{L}{D}\\frac{V^2}{2g}\n",
    "\\end{equation*}\n",
    "\n",
    "donde $f$ es el factor de fricción."
   ]
  },
  {
   "cell_type": "markdown",
   "id": "5428b938",
   "metadata": {
    "cell_style": "center",
    "slideshow": {
     "slide_type": "slide"
    }
   },
   "source": [
    "Para determinar $f_c$ debemos resolver la ecuación de Colebrook:\n",
    "\n",
    "\\begin{equation*}\n",
    "\\frac{1}{\\sqrt{f_c}} = -2.0\\log\\left(\\frac{\\varepsilon/D}{3.7} + \\frac{2.51}{\\mathrm{Re}\\sqrt{f_c}}\\right)\n",
    "\\end{equation*}\n",
    "\n",
    "donde $\\mathrm{Re} = \\frac{VD}{\\nu}$ es el número de Reynolds, y $\\varepsilon/D$ la rugosidad relativa."
   ]
  },
  {
   "cell_type": "markdown",
   "id": "80f892a1",
   "metadata": {
    "slideshow": {
     "slide_type": "fragment"
    }
   },
   "source": [
    "Sin embargo, esta ecuación no se puede resolver analíticamente. ¿Cómo resolvemos esta ecuación?"
   ]
  },
  {
   "cell_type": "markdown",
   "id": "fab66f83",
   "metadata": {
    "slideshow": {
     "slide_type": "slide"
    }
   },
   "source": [
    "Llamamos raíces de una función $f(x)$ a los valores $x^*$ tales que $f(x^*) = 0$. "
   ]
  },
  {
   "cell_type": "markdown",
   "id": "cc4c714e",
   "metadata": {
    "slideshow": {
     "slide_type": "fragment"
    }
   },
   "source": [
    "Determinar $f_c$ a partir de la ecuación de Colebrook es equivalente a encontrar las raíces de la función:\n",
    "\n",
    "\\begin{equation*}\n",
    "f(x) = \\frac{1}{\\sqrt{x}} + 2.0\\log\\left(\\frac{\\varepsilon/D}{3.7} + \\frac{2.51}{\\mathrm{Re}\\sqrt{x}}\\right)\n",
    "\\end{equation*}"
   ]
  },
  {
   "cell_type": "markdown",
   "id": "c6c5fdb5",
   "metadata": {
    "slideshow": {
     "slide_type": "fragment"
    }
   },
   "source": [
    "En esta unidad revisaremos los aspectos generales de los algoritmos para busqueda de raíces de una función."
   ]
  },
  {
   "cell_type": "markdown",
   "id": "6c45b616",
   "metadata": {
    "slideshow": {
     "slide_type": "slide"
    }
   },
   "source": [
    "## Búsqueda de raíces para una función escalar\n",
    "Una función escalar es una función con una o más variables dependientes, que entrega un valor unidimencional.\n",
    "\n",
    "\\begin{equation*}\n",
    "f: x\\in \\mathbb{R}^n \\rightarrow \\mathbb{R}\n",
    "\\end{equation*}"
   ]
  },
  {
   "cell_type": "markdown",
   "id": "45a74c42",
   "metadata": {
    "slideshow": {
     "slide_type": "fragment"
    }
   },
   "source": [
    "Resolver una ecuación unidimiencional es equivalente a encontrar las raíces de una función escalar con **una variable dependiente.**"
   ]
  },
  {
   "cell_type": "markdown",
   "id": "ccf24af9",
   "metadata": {
    "slideshow": {
     "slide_type": "fragment"
    }
   },
   "source": [
    "En otras palabras, dada una función $f(x)$, las raíces $x_0$ están dadas por $f(x_0) = 0$."
   ]
  },
  {
   "cell_type": "markdown",
   "id": "eb7918d9",
   "metadata": {
    "slideshow": {
     "slide_type": "slide"
    }
   },
   "source": [
    "Para una solución $x_0$, tal que $f(x_0) = 0$, podemos clasificar los métodos para resolver este problema en tres tipos:\n",
    "\n",
    "- **Métodos de intervalo cerrado.** buscan la raíz $x_0$ iterando dentro un intervalo $x\\in[a, b]$ acotado.\n",
    "- **Métodos de intervalo abierto.** buscan la raíz $x_0$ iterando desde un valor inicial, sin acotar el intervalo de búsqueda.\n",
    "- **Métodos combinados.** Combinan iteraciones con intervalo abierto y cerrado según convenga. "
   ]
  },
  {
   "cell_type": "markdown",
   "id": "661b5ea6",
   "metadata": {
    "slideshow": {
     "slide_type": "fragment"
    }
   },
   "source": [
    "En esta unidad veremos el método de la bisección (intervalo cerrado) y el método de Newton-Raphson (intervalo abierto)."
   ]
  },
  {
   "cell_type": "markdown",
   "id": "5e8010de",
   "metadata": {
    "cell_style": "center",
    "slideshow": {
     "slide_type": "slide"
    }
   },
   "source": [
    "### Método de la Bisección (intervalo acotado)\n",
    "\n",
    "El método de la bisección es un método de intervalo acotado que se basa en el teorema del valor intermedio"
   ]
  },
  {
   "cell_type": "markdown",
   "id": "fafeb4dd",
   "metadata": {
    "cell_style": "split",
    "slideshow": {
     "slide_type": "fragment"
    }
   },
   "source": [
    "> **Teorema del valor intermedio** para una función $f(x)$ continua en entre los puntos $a$ y $b$, tal que $f(a)f(b) < 0$, existe un valor $c$, $a<c<b$, tal que $f(c) = 0$."
   ]
  },
  {
   "cell_type": "markdown",
   "id": "773dfa46",
   "metadata": {
    "cell_style": "split",
    "slideshow": {
     "slide_type": "fragment"
    }
   },
   "source": [
    "<img src=\"./images/valor_intermedio.png\" width=\"400px\" align= center>"
   ]
  },
  {
   "cell_type": "markdown",
   "id": "0e15eab7",
   "metadata": {
    "cell_style": "split",
    "slideshow": {
     "slide_type": "slide"
    }
   },
   "source": [
    "Para un intervalo $x\\in [a,b]$, tal que $f(a)f(b) < 0$, el método de la bisección consiste en acotar el intervalo evaluando el punto medio $f(m)$, con $m = \\frac{a+b}{2}$.\n",
    "\n",
    "- Si $f(m)f(a) < 0$ el nuevo interfalo es $x\\in [a,m]$, de lo contrario, $x\\in [m, b]$\n",
    "\n",
    "El algoritmo continua acotando el intervalo hasta encontrar la raíz de $f(x)$."
   ]
  },
  {
   "cell_type": "markdown",
   "id": "f6b33418",
   "metadata": {
    "cell_style": "split",
    "slideshow": {
     "slide_type": "fragment"
    }
   },
   "source": [
    "<img src=\"./images/bisection.png\" width=\"400px\" align= center>"
   ]
  },
  {
   "cell_type": "markdown",
   "id": "b0686120",
   "metadata": {
    "slideshow": {
     "slide_type": "slide"
    }
   },
   "source": [
    "#### Criterio de convergencia\n",
    "Para un nuevo valor $x_{k+1}$ obtenido a partir de un valor $x_k$, definimos el **criterio de convergencia** en base a:"
   ]
  },
  {
   "cell_type": "markdown",
   "id": "9d1d93f6",
   "metadata": {
    "cell_style": "split"
   },
   "source": [
    "- **error absoluto**\n",
    "\n",
    "\\begin{equation*}\n",
    "|x_{k+1} -x_{k}|\n",
    "\\end{equation*}"
   ]
  },
  {
   "cell_type": "markdown",
   "id": "8bc922ed",
   "metadata": {
    "cell_style": "split",
    "slideshow": {
     "slide_type": "fragment"
    }
   },
   "source": [
    "- **error relativo**:\n",
    "\n",
    "\\begin{equation*}\n",
    "\\frac{|x_{k+1} -x_{k}|}{|x_{k+1}|}\n",
    "\\end{equation*}"
   ]
  },
  {
   "cell_type": "markdown",
   "id": "586da6e0",
   "metadata": {
    "slideshow": {
     "slide_type": "fragment"
    }
   },
   "source": [
    "Es importante menciona que, en general, no existe una regla respecto al tipo de error que se debe usar como criterio de convergencia. La recomendación es usar el error absoluto si se tiene conocimiento de la función. Esto se debe a que, a veces, el error relativo puede imponer condiciones demasiado estrictas para la convergencia."
   ]
  },
  {
   "cell_type": "markdown",
   "id": "3e9fd284",
   "metadata": {
    "slideshow": {
     "slide_type": "slide"
    }
   },
   "source": [
    "Creemos una función en python para calcular raíces por medio del método de la bisección"
   ]
  },
  {
   "cell_type": "code",
   "execution_count": 1,
   "id": "b60c6c1a",
   "metadata": {
    "cell_style": "center",
    "slideshow": {
     "slide_type": "fragment"
    }
   },
   "outputs": [],
   "source": [
    "import numpy as np\n",
    "def bisection(f, bracket, abs_tol = 1E-5, max_iter = 100):\n",
    "    '''\n",
    "    Método de la bisección para encontrar la raíz de f(x)\n",
    "    \n",
    "    Parameters\n",
    "        - f: callable\n",
    "            función de búsqueda de raíz, f(x)\n",
    "            \n",
    "        - bracket: tupple\n",
    "            intervalo de búsqueda (a, b)\n",
    "            \n",
    "        - abs_tol: float (optional)\n",
    "            tolerancia al error absoluto (1E-5 por defecto)\n",
    "            \n",
    "        - max_iter: int (opcional)\n",
    "            número máximo de iteraciones (100 por defecto)\n",
    "            \n",
    "    Return\n",
    "        - x_sol: float\n",
    "            raíz de f(x)\n",
    "    '''\n",
    "    a, b = bracket # extraemos los valores del intervalo\n",
    "    \n",
    "    # verificamos si el intervalo [a,b] satisface el teorema del valor medio\n",
    "    assert f(a)*f(b) < 0 , \"El intervalo [a, b] no contiene raíces\"\n",
    "    \n",
    "    for k in range(max_iter):        # ejecutamos loop hasta max_iter\n",
    "        abs_error = np.abs(a - b)    # calculamos error absoluto\n",
    "        \n",
    "        # imprimimos el intervalo y error\n",
    "        print(f'k = {k: .0f}, (a,b) = ({a:.3e}, {b:.3e}), abs_error = {abs_error:.3e}')\n",
    "        \n",
    "        # si el error es menor que la tolerancia, terminamos el loop\n",
    "        if abs_error < abs_tol: \n",
    "            break\n",
    "        \n",
    "        m = (a + b)/2                # punto medio entre [a, b]\n",
    "        \n",
    "        # seleccionamos nuevo intervalo en función del teorema del valor medio\n",
    "        if   f(a)*f(m) < 0 : b = m # tomamos intervalo izquierdo [a, xk]\n",
    "        elif f(m)*f(b) < 0 : a = m # tomamos intervalo derecho   [xk, b]\n",
    "        \n",
    "    # si la solución no converge y k > max_iter, informar a usuario\n",
    "    if abs_error > abs_tol : print('La solución no converge')\n",
    "    \n",
    "    return m "
   ]
  },
  {
   "cell_type": "code",
   "execution_count": 2,
   "id": "2d1e59c9",
   "metadata": {
    "cell_style": "center",
    "slideshow": {
     "slide_type": "slide"
    }
   },
   "outputs": [
    {
     "name": "stdout",
     "output_type": "stream",
     "text": [
      "Análisis de intervalos\n",
      "a = -1.000, f(a) = -0.632\n",
      "b = 1.000, f(b) = 1.718\n",
      "\n",
      "Resultado método de Bisección\n",
      "k =  0, (a,b) = (-1.000e+00, 1.000e+00), abs_error = 2.000e+00\n",
      "k =  1, (a,b) = (-1.000e+00, 0.000e+00), abs_error = 1.000e+00\n",
      "k =  2, (a,b) = (-1.000e+00, -5.000e-01), abs_error = 5.000e-01\n",
      "k =  3, (a,b) = (-7.500e-01, -5.000e-01), abs_error = 2.500e-01\n",
      "k =  4, (a,b) = (-7.500e-01, -6.250e-01), abs_error = 1.250e-01\n",
      "k =  5, (a,b) = (-7.500e-01, -6.875e-01), abs_error = 6.250e-02\n",
      "k =  6, (a,b) = (-7.188e-01, -6.875e-01), abs_error = 3.125e-02\n",
      "k =  7, (a,b) = (-7.188e-01, -7.031e-01), abs_error = 1.562e-02\n",
      "k =  8, (a,b) = (-7.109e-01, -7.031e-01), abs_error = 7.812e-03\n",
      "k =  9, (a,b) = (-7.070e-01, -7.031e-01), abs_error = 3.906e-03\n",
      "k =  10, (a,b) = (-7.051e-01, -7.031e-01), abs_error = 1.953e-03\n",
      "k =  11, (a,b) = (-7.041e-01, -7.031e-01), abs_error = 9.766e-04\n",
      "k =  12, (a,b) = (-7.036e-01, -7.031e-01), abs_error = 4.883e-04\n",
      "k =  13, (a,b) = (-7.036e-01, -7.034e-01), abs_error = 2.441e-04\n",
      "k =  14, (a,b) = (-7.035e-01, -7.034e-01), abs_error = 1.221e-04\n",
      "k =  15, (a,b) = (-7.035e-01, -7.034e-01), abs_error = 6.104e-05\n",
      "k =  16, (a,b) = (-7.035e-01, -7.035e-01), abs_error = 3.052e-05\n",
      "k =  17, (a,b) = (-7.035e-01, -7.035e-01), abs_error = 1.526e-05\n",
      "k =  18, (a,b) = (-7.035e-01, -7.035e-01), abs_error = 7.629e-06\n",
      "x_sol = -0.70347, f(x_sol) = -1.712e-06\n"
     ]
    }
   ],
   "source": [
    "f = lambda x: np.exp(x) - x**2 # función de búsqueda de raíz\n",
    "a, b = -1, 1 # intervalo [a,b]\n",
    "\n",
    "# Mostramos valor de f en los extremos [a, b] (solo para confirmación)\n",
    "print('Análisis de intervalos')\n",
    "print('a = %.3f, f(a) = %.3f' % (a, f(a)))\n",
    "print('b = %.3f, f(b) = %.3f' % (b, f(b)))\n",
    "\n",
    "# \n",
    "print('\\nResultado método de Bisección')\n",
    "x_sol = bisection(f, bracket = (a, b))\n",
    "print('x_sol = %.5f, f(x_sol) = %.3e' % (x_sol, f(x_sol)))"
   ]
  },
  {
   "cell_type": "markdown",
   "id": "4f3027b2",
   "metadata": {
    "slideshow": {
     "slide_type": "slide"
    }
   },
   "source": [
    "### Método de Newton-Raphson (intervalo abierto)\n",
    "\n",
    "Es el método de intervalo abierto más popular. Se origina a partir de series de Taylor"
   ]
  },
  {
   "cell_type": "markdown",
   "id": "10d8fb5c",
   "metadata": {
    "slideshow": {
     "slide_type": "fragment"
    }
   },
   "source": [
    "Supongamos que $x_0$ es un punto cercano a la raíz de una función $f(x)$. Mediante la aproximación lineal, la raíz de la función $x_1$ debe satisfacer la ecuación:\n",
    "\n",
    "\\begin{equation*}\n",
    "0 = f(x_0) + f^{\\prime}(x_0)(x_1-x_0),\n",
    "\\end{equation*}"
   ]
  },
  {
   "cell_type": "markdown",
   "id": "ade48a3e",
   "metadata": {
    "slideshow": {
     "slide_type": "fragment"
    }
   },
   "source": [
    "Es decir, la raíz de $f(x)$ está dada por:\n",
    "\n",
    "\\begin{equation*}\n",
    "x_1 = x_0 - \\frac{f(x_0)}{f^{\\prime}(x_0)}\n",
    "\\end{equation*}"
   ]
  },
  {
   "cell_type": "markdown",
   "id": "67c122cc",
   "metadata": {
    "slideshow": {
     "slide_type": "fragment"
    }
   },
   "source": [
    "Si $x_1$ no es la raíz, podemos encontrar un nuevo valor mediante $x_2 = x_1 - \\frac{f(x_1)}{f^{\\prime}(x_1)}$"
   ]
  },
  {
   "cell_type": "markdown",
   "id": "6885c9ce",
   "metadata": {
    "cell_style": "center",
    "slideshow": {
     "slide_type": "slide"
    }
   },
   "source": [
    "En resumen, el método de Newton-Raphson se define mediante la operación iterativa:\n",
    "\n",
    "\\begin{equation}\n",
    "x_{k+1} = x_k - \\frac{f(x_k)}{f^{\\prime}(x_k)}\n",
    "\\end{equation}"
   ]
  },
  {
   "cell_type": "markdown",
   "id": "4e29c713",
   "metadata": {
    "cell_style": "split",
    "slideshow": {
     "slide_type": "fragment"
    }
   },
   "source": [
    "Gráficamente, lo que hacemos en cada iteración es encontrar el punto $x_{k+1}$ donde la recta $f(x_k) + f^{\\prime}(x_k)(x-x_k)$ intersecta el eje $y = 0$.  "
   ]
  },
  {
   "cell_type": "markdown",
   "id": "9c433031",
   "metadata": {
    "cell_style": "split"
   },
   "source": [
    "<img src=\"./images/newton_raphson.png\" width=\"400px\" align= center>"
   ]
  },
  {
   "cell_type": "markdown",
   "id": "8d7e7a37",
   "metadata": {
    "slideshow": {
     "slide_type": "slide"
    }
   },
   "source": [
    "La ventaja de este algoritmo es que, a diferencia de los métodos por intervalo acotado, solo necesita de un valor inicial. Esta es una característica general de los métodos de intervalo abierto."
   ]
  },
  {
   "cell_type": "markdown",
   "id": "457349f8",
   "metadata": {
    "slideshow": {
     "slide_type": "fragment"
    }
   },
   "source": [
    "Una segunda ventaja radica en la rápida convergencia del algoritmo para encontrar soluciones.\n",
    "\n",
    "<img src=\"./images/newton_raphson_good.gif\" width=\"600px\" align= center>\n",
    "\n",
    "<center> Fuente <a href=\"https://medium.com/@SereneBiologist/finding-beauty-in-bad-algorithms-799af003aee8/\">Finding Beauty in Bad Algorithms</a></center>"
   ]
  },
  {
   "cell_type": "markdown",
   "id": "e26dc23b",
   "metadata": {
    "slideshow": {
     "slide_type": "slide"
    }
   },
   "source": [
    "La siguiente función implementa el método de Newton-Raphson"
   ]
  },
  {
   "cell_type": "code",
   "execution_count": 3,
   "id": "9a1f7052",
   "metadata": {
    "cell_style": "center",
    "slideshow": {
     "slide_type": "fragment"
    }
   },
   "outputs": [],
   "source": [
    "import numpy as np\n",
    "def newton_raphson(x0, f, fprime, abs_tol = 1E-5, max_iter = 100):\n",
    "    '''\n",
    "    Método de Newton-Raphson para encontrar la raíz de f(x)\n",
    "    \n",
    "    Parameters:\n",
    "        - x0: float\n",
    "            valor inicial\n",
    "            \n",
    "        - f: callable\n",
    "            función de búsqueda de raíz f(x)\n",
    "            \n",
    "        - fprime: callable\n",
    "            derivada de la función de busqueda df/dx\n",
    "            \n",
    "        - abs_tol: float (optional)\n",
    "            tolerancia al valor absoluto (1E-5 por defecto)\n",
    "            \n",
    "        - max_iter: int (optional)\n",
    "            número máximo de iteraciones (100 por defecto)\n",
    "            \n",
    "    Return:\n",
    "        x_sol: float\n",
    "            raíz de f(x)\n",
    "    \n",
    "    '''\n",
    "    abs_error = 1000 # inicializamos el error absoluto\n",
    "    xk = x0          # valor inicial\n",
    "    \n",
    "    # comenzamos las iteraciones\n",
    "    for k in range(max_iter):\n",
    "        \n",
    "        # newton-raphson\n",
    "        xk1 = xk - f(xk)/df(xk)   # itereación k\n",
    "        abs_error = abs(xk1 - xk) # error absoluto\n",
    "        \n",
    "        # imprimimos xk1 y error\n",
    "        print(f'k = {k:d}, xk1 = {xk1:.5e}, abs_error = {abs_error:.3e}')\n",
    "        \n",
    "        # si el error es menor a la tolerancia, terminamos el loop\n",
    "        if abs_error < abs_tol:\n",
    "            break\n",
    "            \n",
    "        # si no, actualizamos xk\n",
    "        xk = xk1\n",
    "        \n",
    "    # si k > max_iter y la solución no converge, indicar al usuario\n",
    "    if abs_error > abs_tol : print('La solución no converge')\n",
    "\n",
    "    return xk1"
   ]
  },
  {
   "cell_type": "markdown",
   "id": "9912cede",
   "metadata": {
    "slideshow": {
     "slide_type": "slide"
    }
   },
   "source": [
    "Probamos el método para encontrar la raíz de $f(x) = e^{x} - x^2$ con $f'(x) = e^{x} - 2x$."
   ]
  },
  {
   "cell_type": "code",
   "execution_count": 4,
   "id": "b0ee9cc1",
   "metadata": {
    "slideshow": {
     "slide_type": "fragment"
    }
   },
   "outputs": [
    {
     "name": "stdout",
     "output_type": "stream",
     "text": [
      "k = 0, xk1 = -1.39221e+00, abs_error = 2.392e+00\n",
      "k = 1, xk1 = -8.35088e-01, abs_error = 5.571e-01\n",
      "k = 2, xk1 = -7.09834e-01, abs_error = 1.253e-01\n",
      "k = 3, xk1 = -7.03483e-01, abs_error = 6.351e-03\n",
      "k = 4, xk1 = -7.03467e-01, abs_error = 1.598e-05\n",
      "k = 5, xk1 = -7.03467e-01, abs_error = 1.011e-10\n",
      "x_sol = -0.703, f(x_sol) = 0.000e+00\n"
     ]
    }
   ],
   "source": [
    "f = lambda x: np.exp(x) - x**2\n",
    "df = lambda x: np.exp(x) - 2*x\n",
    "\n",
    "x0 = 1 # valor inicial\n",
    "x_sol = newton_raphson(x0, f, df)\n",
    "print('x_sol = %.3f, f(x_sol) = %.3e' % (x_sol, f(x_sol)))"
   ]
  },
  {
   "cell_type": "markdown",
   "id": "7828b64d",
   "metadata": {
    "slideshow": {
     "slide_type": "fragment"
    }
   },
   "source": [
    "En comparación con el método de la bisección, Newton-Raphson es capaz de encontrar la raíz con menor número de iteraciones."
   ]
  },
  {
   "cell_type": "markdown",
   "id": "b0a1a450",
   "metadata": {
    "slideshow": {
     "slide_type": "slide"
    }
   },
   "source": [
    "#### Caso $f'(x)$ no es analítica (Método de la secante)\n",
    "\n",
    "Otros métodos de intervalo abierto se diferencian de Newton-Raphson en la forma de determinar $f'(x)$. Esto debido a que no siempre es posible determinar la derviada de forma analítica."
   ]
  },
  {
   "cell_type": "markdown",
   "id": "911ab974",
   "metadata": {
    "slideshow": {
     "slide_type": "fragment"
    }
   },
   "source": [
    "Por ejemplo, en el **método de la secante**, aproxima $f'(x)$ por $f'(x_k) = \\frac{f(x_k) - f(x_{k-1})}{x_k - x_{k-1}}$, lo que deriva en la siguiente fórmula recursiva:\n",
    "\n",
    "\\begin{equation*}\n",
    "x_{k+1} = x_k - \\frac{f(x_k)(x_k - x_{k-1})}{f(x_k) - f(x_{k-1})}\n",
    "\\end{equation*}"
   ]
  },
  {
   "cell_type": "markdown",
   "id": "cdb79fe9",
   "metadata": {
    "slideshow": {
     "slide_type": "fragment"
    }
   },
   "source": [
    "Notar que, debido a esta fórmula, el método de la secante requiere **dos valores iniciales, $x_0$ y $x_1$**"
   ]
  },
  {
   "cell_type": "markdown",
   "id": "1e5d2509",
   "metadata": {
    "slideshow": {
     "slide_type": "slide"
    }
   },
   "source": [
    "#### Problemas de convergencia\n",
    "\n",
    "Una desventaja general en los métodos de intervalo abierto es que pueden sufrir serios problemas de convergencia si el valor $x_k$ cae en un punto de la función donde $f'(x_k) \\approx 0$"
   ]
  },
  {
   "cell_type": "markdown",
   "id": "1cc1ed8b",
   "metadata": {
    "slideshow": {
     "slide_type": "fragment"
    }
   },
   "source": [
    "En esta animación vemos como el número de iteraciones \"$n$\" aumenta considerablemente debido a problemas de convergencia en los puntos $f'(x_k) \\approx 0$. En la notación, $y = f(x_k)$\n",
    "<img src=\"./images/newton_raphson_bad.gif\" width=\"600px\" align= center>\n",
    "\n",
    "<center> Fuente <a href=\"https://medium.com/@SereneBiologist/finding-beauty-in-bad-algorithms-799af003aee8/\">Finding Beauty in Bad Algorithms</a></center>"
   ]
  },
  {
   "cell_type": "markdown",
   "id": "f44b027d",
   "metadata": {
    "slideshow": {
     "slide_type": "slide"
    }
   },
   "source": [
    "#### Control de la solución\n",
    "\n",
    "Otra desventaja de los métodos de intervalo abierto es que estos no tienen control sobre la raíz encontrada. "
   ]
  },
  {
   "cell_type": "markdown",
   "id": "0281da6c",
   "metadata": {
    "slideshow": {
     "slide_type": "fragment"
    }
   },
   "source": [
    "Por ejemplo, la función $f(x) = x^3 - 100x^2 - x + 100$ tiene dos raíces $x^* = 1$ y $x^* = 100$. Analicemos como Newton-Raphson entrega distintas soluciones dependiendo del valor inicial $x_0 = 0.01$ y $x_0 = 0$."
   ]
  },
  {
   "cell_type": "code",
   "execution_count": 5,
   "id": "bffedc39",
   "metadata": {
    "cell_style": "center",
    "slideshow": {
     "slide_type": "fragment"
    }
   },
   "outputs": [
    {
     "name": "stdout",
     "output_type": "stream",
     "text": [
      "k = 0, xk1 = 1.00000e+02, abs_error = 1.000e+02\n",
      "k = 1, xk1 = 1.00000e+02, abs_error = 0.000e+00\n",
      "x_sol = 100.000, f(x_sol) = 0.000e+00\n"
     ]
    }
   ],
   "source": [
    "f =  lambda x: x**3 - 100*x**2 - x + 100\n",
    "df = lambda x: 3*x**2 - 200*x - 1\n",
    "\n",
    "x0 = 0 # valor inicial\n",
    "x_sol = newton_raphson(x0, f, df)\n",
    "print('x_sol = %.3f, f(x_sol) = %.3e' % \n",
    "      (x_sol, f(x_sol)))"
   ]
  },
  {
   "cell_type": "markdown",
   "id": "33cda071",
   "metadata": {
    "cell_style": "center",
    "slideshow": {
     "slide_type": "slide"
    }
   },
   "source": [
    "Notamos que:\n",
    "\\begin{eqnarray*}\n",
    "&&\\mathrm{si~} x_0 = 0 &\\rightarrow& x^* = 100. \\\\\n",
    "&&\\mathrm{si~} x_0 = 0.01 &\\rightarrow& x^* = 1.\n",
    "\\end{eqnarray*}"
   ]
  },
  {
   "cell_type": "markdown",
   "id": "5ec1751d",
   "metadata": {
    "slideshow": {
     "slide_type": "fragment"
    }
   },
   "source": [
    "Esto sucede debido a que $f'(0) = -1$. Así, para el valor inicial $x_0 = 0$, la segunda iteración nos da $x_1 = 0 - \\frac{100}{-1} = 100$, que es una raíz de $f(x)$"
   ]
  },
  {
   "cell_type": "code",
   "execution_count": 6,
   "id": "f6dc8cee",
   "metadata": {
    "cell_style": "split",
    "slideshow": {
     "slide_type": "fragment"
    }
   },
   "outputs": [],
   "source": [
    "%%capture showplot\n",
    "import matplotlib.pyplot as plt\n",
    "x = np.linspace(-10,110.1,100)\n",
    "\n",
    "plt.figure(figsize = (9, 6))           # Tamaño de figura\n",
    "plt.rcParams.update({'font.size': 18}) # Tamaño de fuente\n",
    "\n",
    "plt.plot(x,f(x))\n",
    "plt.xlabel('x')\n",
    "plt.ylabel('f(x)')\n",
    "plt.title('Gráfica de $x^3 - 100x^2 - x + 100$')\n",
    "plt.grid()"
   ]
  },
  {
   "cell_type": "code",
   "execution_count": 7,
   "id": "aa0f39a0",
   "metadata": {
    "cell_style": "split"
   },
   "outputs": [
    {
     "data": {
      "image/png": "[encoded data removed]",
      "text/plain": [
       "<Figure size 900x600 with 1 Axes>"
      ]
     },
     "metadata": {},
     "output_type": "display_data"
    }
   ],
   "source": [
    "showplot()"
   ]
  },
  {
   "cell_type": "markdown",
   "id": "7b33666f",
   "metadata": {
    "slideshow": {
     "slide_type": "slide"
    }
   },
   "source": [
    "### Métodos combinados\n",
    "Los métodos más sofisticados para búsqueda de raíces combinan métodos de intervalo abierto y cerrado. Por un lado, el método de intervalo abierto permite una convergencia más rápida, mientras que el método de intervalo cerrado permite acotar la solución. "
   ]
  },
  {
   "cell_type": "markdown",
   "id": "f25e7d2c",
   "metadata": {
    "slideshow": {
     "slide_type": "fragment"
    }
   },
   "source": [
    "En términos generales, los métodos combinados operan de la siguiente forma.\n",
    "- Se subdivide el dominio de la función para identificar intervalos donde existan raíces.\n",
    "- Se procede con la iteración mediante un método de intervalo abierto\n",
    "- Si la solución se mueve fuera del intervalo acotado, se procede a iterar con un método de intervalo cerrado."
   ]
  },
  {
   "cell_type": "markdown",
   "id": "299c94db",
   "metadata": {
    "slideshow": {
     "slide_type": "fragment"
    }
   },
   "source": [
    "Por ejemplo, el **método de Brent's** combina un método de intervalo abierto (como Newton-Raphson o secante), con el método de la bisección. Más información en las referencias"
   ]
  },
  {
   "cell_type": "markdown",
   "id": "a2644696",
   "metadata": {
    "slideshow": {
     "slide_type": "slide"
    }
   },
   "source": [
    "### Raíces de función escalar en python \n",
    "En python, la función ```root_scalar``` de la librería ```scipy.optimize```, permite determinar raíces de una función escalar."
   ]
  },
  {
   "cell_type": "markdown",
   "id": "d4a37014",
   "metadata": {
    "slideshow": {
     "slide_type": "fragment"
    }
   },
   "source": [
    "Los argumento más relevantes en esta función son:\n",
    "```python\n",
    "from scipy.optimize import root_scalar\n",
    "root_scalar(f,            # callable, función objetivo\n",
    "            args=(),      # tuple (opcional), argumentos extra para la función\n",
    "            method=None,  # str (opcional), tipo de método\n",
    "            bracket=None, # 2 floats list (opcional), intervalo de búsqueda de raíces\n",
    "            fprime=None,  # callable (opcional), primera derivada\n",
    "            x0=None,      # float (opcional), valor inicial\n",
    "            x1=None,      # float (opcional), 2do valor inicial (para aproximar derivada)\n",
    "            xtol=None,    # float (opcional), tolerancia para error absoluto\n",
    "            rtol=None,    # float (opcional), tolerancia para error relativo\n",
    "            maxiter=None  # int (opcional), número máximo de operaciones\n",
    "           )\n",
    "```"
   ]
  },
  {
   "cell_type": "markdown",
   "id": "583a73e6",
   "metadata": {
    "slideshow": {
     "slide_type": "slide"
    }
   },
   "source": [
    "La función tiene implementada distintos métodos de intervalo abierto, cerrado y combinados, tales como: bisección (`bisect`), Newton-Raphson (`newton`), secante (`secant`) y Brent's (`brentq` o `brenth`). El tipo de método debe ir indicado en `method`:"
   ]
  },
  {
   "cell_type": "markdown",
   "id": "6d5f7516",
   "metadata": {
    "slideshow": {
     "slide_type": "fragment"
    }
   },
   "source": [
    "Además de la función objetivo, se debe indicar un valor inicial, dos valores iniciales o un intervalo. Con esto `root_scalar` definirá el tipo de método dependiendo del input: \n",
    "\n",
    "- Un valor inicial $x_0$ (variable `x0`), y la derivada (variable `fprime`) $\\rightarrow$ método de intervalo abierto o híbrido\n",
    "- Dos valores iniciales $x_0$ (variable `x0`) y $x_1$ (variable `x1`) $\\rightarrow$ método de intervalo abierto o híbrido\n",
    "- Un intervalo. (variable `bracket`)  $\\rightarrow$ método de intervalo cerrado o híbrido"
   ]
  },
  {
   "cell_type": "markdown",
   "id": "6c7bfb4d",
   "metadata": {
    "slideshow": {
     "slide_type": "slide"
    }
   },
   "source": [
    "El tipo de argumento para cada método está indicado en la siguiente tabla (x=requerido, o=opcional):\n",
    "\n",
    "|`method`| `f` |`args`|`brackets`| `x0` | `x1` |`fprime`|`xtol`|`rtol`|`maxiter`|\n",
    "|:----:|:-:|:--:|:------:|:--:|:--:|:----:|:--:|:--:|:-----:|\n",
    "|`'bisect'`|x|o|x| | | |o|o|o|o|\n",
    "|`'brentq'`|x|o|x| | | |o|o|o|o|\n",
    "|`'brenth'`|x|o|x| | | |o|o|o|o|\n",
    "|`'secant'`|x|o| |x|x| |o|o|o|o|\n",
    "|`'newton'`|x|o| |x| |x|o|o|o|o|"
   ]
  },
  {
   "cell_type": "markdown",
   "id": "453d74f4",
   "metadata": {
    "cell_style": "center",
    "slideshow": {
     "slide_type": "slide"
    }
   },
   "source": [
    "\n",
    "\n",
    "Por ejemplo, analizamos la raíz de la función $f(x) = x^3 - 1$."
   ]
  },
  {
   "cell_type": "code",
   "execution_count": 8,
   "id": "f0fa95ec",
   "metadata": {
    "cell_style": "center",
    "slideshow": {
     "slide_type": "fragment"
    }
   },
   "outputs": [],
   "source": [
    "from scipy.optimize import root_scalar\n",
    "f  = lambda x: x**3 - 1 # función objetivo f(x)\n",
    "df = lambda x: 3*x**2   # primera derivada de f(x)"
   ]
  },
  {
   "cell_type": "markdown",
   "id": "2b34c44e",
   "metadata": {
    "slideshow": {
     "slide_type": "fragment"
    }
   },
   "source": [
    "Usamor `roor_scalar` con el argumento `method` para especificar el tipo de método que queremos utilizar"
   ]
  },
  {
   "cell_type": "code",
   "execution_count": 9,
   "id": "5a468b3e",
   "metadata": {
    "cell_style": "center",
    "slideshow": {
     "slide_type": "fragment"
    }
   },
   "outputs": [
    {
     "name": "stdout",
     "output_type": "stream",
     "text": [
      "Bisección:\n",
      "       converged: True\n",
      "           flag: converged\n",
      " function_calls: 43\n",
      "     iterations: 41\n",
      "           root: 1.0000000000004547\n",
      "\n",
      "Newton-Raphson:\n",
      "       converged: True\n",
      "           flag: converged\n",
      " function_calls: 22\n",
      "     iterations: 11\n",
      "           root: 1.0\n",
      "\n",
      "Secante:\n",
      "       converged: True\n",
      "           flag: converged\n",
      " function_calls: 23\n",
      "     iterations: 22\n",
      "           root: 1.0\n"
     ]
    }
   ],
   "source": [
    "print('Bisección:\\n',      root_scalar(f,bracket=[0, 3]  ,method='bisect'))\n",
    "print('\\nNewton-Raphson:\\n', root_scalar(f,x0=0.2,fprime=df,method='newton'))\n",
    "print('\\nSecante:\\n',        root_scalar(f,x0=0.2,x1=0.21  ,method='secant'))"
   ]
  },
  {
   "cell_type": "markdown",
   "id": "74b1e772",
   "metadata": {
    "slideshow": {
     "slide_type": "slide"
    }
   },
   "source": [
    "Si omitimos el argumento `method`, `root_scalar` utilizará el método más adecuado en base al tipo de input (`x0`, `bracket`, `fprime`, ect) "
   ]
  },
  {
   "cell_type": "code",
   "execution_count": 10,
   "id": "0a8d5887",
   "metadata": {
    "cell_style": "center",
    "slideshow": {
     "slide_type": "fragment"
    }
   },
   "outputs": [
    {
     "name": "stdout",
     "output_type": "stream",
     "text": [
      "Brent´s:\n",
      "       converged: True\n",
      "           flag: converged\n",
      " function_calls: 11\n",
      "     iterations: 10\n",
      "           root: 1.0\n",
      "\n",
      "Intervalo (método por defecto):\n",
      "       converged: True\n",
      "           flag: converged\n",
      " function_calls: 11\n",
      "     iterations: 10\n",
      "           root: 1.0\n",
      "\n",
      "Cond. inicial y derivada (método por defecto):\n",
      "       converged: True\n",
      "           flag: converged\n",
      " function_calls: 22\n",
      "     iterations: 11\n",
      "           root: 1.0\n"
     ]
    }
   ],
   "source": [
    "print('Brent´s:\\n',                                      root_scalar(f,bracket=[0, 3],method='brentq'))\n",
    "print('\\nIntervalo (método por defecto):\\n',               root_scalar(f,bracket=[0, 3]))\n",
    "print('\\nCond. inicial y derivada (método por defecto):\\n', root_scalar(f,x0=0.2,fprime=df))"
   ]
  },
  {
   "cell_type": "markdown",
   "id": "8502b98c",
   "metadata": {
    "slideshow": {
     "slide_type": "slide"
    }
   },
   "source": [
    "Si hacemos ```sol = root_scalar```, la variable ```sol``` almacena la información desplegada anteriormente mediante `print`."
   ]
  },
  {
   "cell_type": "code",
   "execution_count": 11,
   "id": "ee51b442",
   "metadata": {
    "slideshow": {
     "slide_type": "fragment"
    }
   },
   "outputs": [
    {
     "name": "stdout",
     "output_type": "stream",
     "text": [
      "raíz x*=1.000\n"
     ]
    }
   ],
   "source": [
    "sol = root_scalar(f,bracket=[0, 3])\n",
    "print('raíz x*=%.3f' % sol.root)"
   ]
  },
  {
   "cell_type": "markdown",
   "id": "7dfa933a",
   "metadata": {
    "slideshow": {
     "slide_type": "fragment"
    }
   },
   "source": [
    "También podemos extraer el valor de la raíz directamente mediante ```root_scalar(...).root```"
   ]
  },
  {
   "cell_type": "code",
   "execution_count": 12,
   "id": "16bfe81e",
   "metadata": {
    "slideshow": {
     "slide_type": "fragment"
    }
   },
   "outputs": [
    {
     "name": "stdout",
     "output_type": "stream",
     "text": [
      "raíz x*=1.000\n"
     ]
    }
   ],
   "source": [
    "print('raíz x*=%.3f' % root_scalar(f,bracket=[0, 3]).root)"
   ]
  },
  {
   "cell_type": "markdown",
   "id": "a9587827",
   "metadata": {
    "slideshow": {
     "slide_type": "slide"
    }
   },
   "source": [
    "Para controlar la tolerancia en ```root_scalar``` podemos usar:\n",
    "- ```xtol``` para el error absoluto, por ejemplo:\n",
    "```python\n",
    "sol = root_scalar(f,bracket=[0, 3],xtol=1E-5) # error absoluto de 0.00001 \n",
    "```\n",
    "- ```rtol``` para el error realtivo, por ejemplo:\n",
    "```python\n",
    "sol = root_scalar(f,bracket=[0, 3],rtol=0.001) # error relativo de 0.1%\n",
    "```"
   ]
  },
  {
   "cell_type": "markdown",
   "id": "93f82d64",
   "metadata": {
    "slideshow": {
     "slide_type": "fragment"
    }
   },
   "source": [
    "También podemos usar combinaciones de ambas. En ese caso, la iteración finalizará cuando se cumpla cualquiera de los dos criterios. "
   ]
  },
  {
   "cell_type": "markdown",
   "id": "15b536e1",
   "metadata": {
    "slideshow": {
     "slide_type": "fragment"
    }
   },
   "source": [
    "Por último, también podemos definir el número máximo de iteraciones mediante ```maxiter```:\n",
    "```python\n",
    "sol = root_scalar(f,bracket=[0, 3],maxiter=1000) # máximo 1000 iteraciones\n",
    "```"
   ]
  },
  {
   "cell_type": "markdown",
   "id": "bb9e62bc",
   "metadata": {
    "slideshow": {
     "slide_type": "slide"
    }
   },
   "source": [
    "Para mayor información revisar la [documentación oficial](https://docs.scipy.org/doc/scipy/reference/generated/scipy.optimize.root_scalar.html)."
   ]
  },
  {
   "cell_type": "markdown",
   "id": "02ea9d77",
   "metadata": {
    "slideshow": {
     "slide_type": "slide"
    }
   },
   "source": [
    "## Búsqueda de raíces para funciones vectoriales\n",
    "Una función vectorial es una función con una o más variables dependientes, que entrega un vector de múltiples dimensiones.\n",
    "\n",
    "\\begin{equation*}\n",
    "f: x\\in \\mathbb{R}^n \\rightarrow \\mathbb{R}^m\n",
    "\\end{equation*}"
   ]
  },
  {
   "cell_type": "markdown",
   "id": "f640edd8",
   "metadata": {
    "slideshow": {
     "slide_type": "fragment"
    }
   },
   "source": [
    "Consideremos el siguiente sistema de ecuaciones:\n",
    "\\begin{align*}\n",
    "x\\log(y^2-1) &= 3 \\\\\n",
    "y\\sin(2x^3) + e^y &= 2\n",
    "\\end{align*}"
   ]
  },
  {
   "cell_type": "markdown",
   "id": "748b7fa1",
   "metadata": {
    "slideshow": {
     "slide_type": "fragment"
    }
   },
   "source": [
    "Resolver este sistema, es equivalente a encontrar las raíces de una función vetorial del tipo:\n",
    "\\begin{equation*}\n",
    "\\vec{F}(x,y) = \\Bigg\\{\n",
    "\\begin{matrix}\n",
    "f(x,y) &= x\\log(y^2-1) - 3 \\\\\n",
    "g(x,y) &= y\\sin(2x^3) + e^y - 2\n",
    "\\end{matrix}\n",
    "\\end{equation*}"
   ]
  },
  {
   "cell_type": "markdown",
   "id": "ddcf0eec",
   "metadata": {
    "slideshow": {
     "slide_type": "slide"
    }
   },
   "source": [
    "Así, resolver un sistema de ecuaciones de $n$ incognitas, es equivalente a encontrar las raíces de una función vectorial del tipo:\n",
    "\n",
    "\\begin{equation*}\n",
    "f: x\\in \\mathbb{R}^n \\rightarrow \\mathbb{R}^n\n",
    "\\end{equation*}"
   ]
  },
  {
   "cell_type": "markdown",
   "id": "af73eba7",
   "metadata": {
    "slideshow": {
     "slide_type": "fragment"
    }
   },
   "source": [
    "En este capítulo revisaremos los aspectos generales de los métodos numéricos para resolver este problema."
   ]
  },
  {
   "cell_type": "markdown",
   "id": "f03f2ab6",
   "metadata": {
    "slideshow": {
     "slide_type": "slide"
    }
   },
   "source": [
    "### Métodos de búsqueda lineal\n",
    "Para un vector $\\vec{x} = \\{x_1, x_2, ... x_n\\}$, y una función vectorial $\\vec{F}\\left(\\vec{x}\\right) = \\big\\{f_1\\left(\\vec{x}\\right),f_2\\left(\\vec{x}\\right), ... f_n\\left(\\vec{x}\\right)\\big\\}$, consideremos la forma generalizada del método de Newton-Raphson:\n",
    "\n",
    "\\begin{equation*}\n",
    "\\vec{x}_k = \\vec{x}_{k-1} - {\\left[\\bar{J}(\\vec{x}_{k-1})\\right]}^{-1}\\cdot \\vec{F}\\left(\\vec{x}_{k-1}\\right) \n",
    "\\end{equation*}\n",
    "\n",
    "donde $\\bar{J} = \\nabla\\vec{F}$ es el **Jacobiano** de $\\vec{F}$. "
   ]
  },
  {
   "cell_type": "markdown",
   "id": "376bf1ad",
   "metadata": {
    "slideshow": {
     "slide_type": "fragment"
    }
   },
   "source": [
    " El **operador $\\nabla \\vec{F}$ corresponde a una matriz**, donde cada elemento está dado por la derivada parcial de una componente de la función respecto a un parámetro independiente, es decir: $J_{ij} = \\frac{\\partial f_i}{\\partial x_j}$"
   ]
  },
  {
   "cell_type": "markdown",
   "id": "228a2280",
   "metadata": {
    "slideshow": {
     "slide_type": "slide"
    }
   },
   "source": [
    "Por ejemplo, para una función vectorial $\\vec{F}(x,y) = \\big\\{f(x,y), g(x,y)\\big\\}$, el Jacobiano está dado por:\n",
    "\n",
    "\\begin{equation*}\n",
    "\\bar{J}(x,y) = \n",
    "\\left[\n",
    "\\begin{matrix}\n",
    "\\frac{\\partial f}{\\partial x} & \\frac{\\partial f}{\\partial y} \\\\\n",
    "\\frac{\\partial g}{\\partial x} & \\frac{\\partial g}{\\partial y}\n",
    "\\end{matrix}\\right]\n",
    "\\end{equation*}"
   ]
  },
  {
   "cell_type": "markdown",
   "id": "bb835ef0",
   "metadata": {
    "slideshow": {
     "slide_type": "fragment"
    }
   },
   "source": [
    "En otras palabras, el Jacobiano es equivalente a la derivada pero para funciones vectoriales.\n"
   ]
  },
  {
   "cell_type": "markdown",
   "id": "4a175381",
   "metadata": {
    "slideshow": {
     "slide_type": "slide"
    }
   },
   "source": [
    "El método generalizado de Newton-Raphson, así, consiste en encontrar un nuevo vector $\\vec{x}_{k+1}$ a partir de la pendiente descendiente definida en el vector $\\vec{x}_{k}$."
   ]
  },
  {
   "cell_type": "markdown",
   "id": "2f909667",
   "metadata": {
    "slideshow": {
     "slide_type": "fragment"
    }
   },
   "source": [
    "Sin embargo, a diferencia del caso unidimensional, el Jacobiano entrega multiples direcciones posibles. ¿Cómo saber cuál es la dirección que minimiza $\\vec{F}$?"
   ]
  },
  {
   "cell_type": "markdown",
   "id": "0f174ab3",
   "metadata": {
    "slideshow": {
     "slide_type": "fragment"
    }
   },
   "source": [
    "Para definir la dirección descendiente se considera el criterio:\n",
    "\n",
    "\\begin{equation*}\n",
    "\\mathrm{min}\\left[\\vec{F}\\cdot\\vec{F}\\right] \n",
    "\\end{equation*}"
   ]
  },
  {
   "cell_type": "markdown",
   "id": "d98fdfeb",
   "metadata": {
    "slideshow": {
     "slide_type": "fragment"
    }
   },
   "source": [
    "Así, el problema de busqueda de raíces de una función vectorial se transforma en un problema de minimización."
   ]
  },
  {
   "cell_type": "markdown",
   "id": "cf2caa78",
   "metadata": {
    "slideshow": {
     "slide_type": "slide"
    }
   },
   "source": [
    "Esta es la estrategia de los **métodos de búsqueda lineal**."
   ]
  },
  {
   "cell_type": "markdown",
   "id": "4f23d78f",
   "metadata": {
    "slideshow": {
     "slide_type": "fragment"
    }
   },
   "source": [
    "Entre los más conocidos tenemos el **método de Broyden**. Más información en las referencias"
   ]
  },
  {
   "cell_type": "markdown",
   "id": "d69a7b3c",
   "metadata": {
    "slideshow": {
     "slide_type": "slide"
    }
   },
   "source": [
    "### Métodos de región de confianza"
   ]
  },
  {
   "cell_type": "markdown",
   "id": "b870f7a0",
   "metadata": {
    "slideshow": {
     "slide_type": "fragment"
    }
   },
   "source": [
    "En general, determinar el Jacobiano de una función vectorial es complicado. A raíz de esto nacen los métodos de región de confianza, los cuales se basan en una aproximación de $\\vec{F}$ en forma de paraboloide. Esta aproximación simplifica el cálculo del Jacobiano. "
   ]
  },
  {
   "cell_type": "markdown",
   "id": "968971dc",
   "metadata": {
    "slideshow": {
     "slide_type": "fragment"
    }
   },
   "source": [
    "Se define como **región de confianza a la región donde la función puede ser aproximada por un parabolide**."
   ]
  },
  {
   "cell_type": "markdown",
   "id": "7d429a52",
   "metadata": {
    "slideshow": {
     "slide_type": "fragment"
    }
   },
   "source": [
    "En términos generales, los métodos de región de confianza operan de la siguiente forma:\n",
    "\n",
    "- Se define una región de confianza inicial y se busca un mínimo dentro esa región.\n",
    "- Si el valor encontrado minimiza $\\vec{F}\\cdot\\vec{F}$, se construye una aproximación hyperboloide de $\\vec{F}$ y se incrementa la región de confianza.\n",
    "- Si el valor encontrado no minimiza $\\vec{F}\\cdot\\vec{F}$, se reduce la región de confianza, y se vuelve a buscar el mínimo.\n",
    "- El algoritmo itera hasta encontrar un mínimo global de $\\vec{F}$."
   ]
  },
  {
   "cell_type": "markdown",
   "id": "b5ba006a",
   "metadata": {
    "slideshow": {
     "slide_type": "slide"
    }
   },
   "source": [
    "En general, los métodos de región de confianza son más estables que los métodos de búsqueda lineal, y son los métodos por defecto en funciones de python."
   ]
  },
  {
   "cell_type": "markdown",
   "id": "5f1fb172",
   "metadata": {
    "slideshow": {
     "slide_type": "fragment"
    }
   },
   "source": [
    "Mayor información sobre estos métodos [acá](http://www.applied-mathematics.net/optimization/optimizationIntro.html)"
   ]
  },
  {
   "cell_type": "markdown",
   "id": "4fa1aab9",
   "metadata": {
    "slideshow": {
     "slide_type": "slide"
    }
   },
   "source": [
    "### Raíces de función vectorial en python\n",
    "En python, la función ```fsolve``` de la librería ```scipy.optimize``` permite encontrar las raíces de una función vectorial."
   ]
  },
  {
   "cell_type": "markdown",
   "id": "ba9800ec",
   "metadata": {},
   "source": [
    "Los principales inputs de la función son:\n",
    "\n",
    "```python\n",
    "scipy.optimize.fsolve(func,             # función vectorial objetivo (callable)\n",
    "                      x0,               # valores iniciales\n",
    "                      args=(),          # argumentos extras para la iteración\n",
    "                      xtol=1.49012e-08  # tolerancia al error relativo\n",
    "                     )\n",
    "```"
   ]
  },
  {
   "cell_type": "markdown",
   "id": "7cb69d80",
   "metadata": {
    "slideshow": {
     "slide_type": "fragment"
    }
   },
   "source": [
    "La función se basa en los algoritmos de región de confianza \"hybrd\" y \"hybrj\" de la libreria ```MINPACK```. Más detalles [acá](https://www.math.utah.edu/software/minpack/minpack/hybrj.html)"
   ]
  },
  {
   "cell_type": "markdown",
   "id": "c586a0fc",
   "metadata": {
    "slideshow": {
     "slide_type": "slide"
    }
   },
   "source": [
    "La función ```fsolve``` requiere, como mínimo, la función vectorial y los valores iniciales."
   ]
  },
  {
   "cell_type": "markdown",
   "id": "a14380a4",
   "metadata": {
    "slideshow": {
     "slide_type": "fragment"
    }
   },
   "source": [
    "Por ejemplo, queremos resolver el sistema\n",
    "\n",
    "\\begin{align*}\n",
    "x\\cos(y)=4 \\\\\n",
    "xy-y=5\n",
    "\\end{align*}"
   ]
  },
  {
   "cell_type": "code",
   "execution_count": 13,
   "id": "d9031034",
   "metadata": {
    "slideshow": {
     "slide_type": "fragment"
    }
   },
   "outputs": [
    {
     "name": "stdout",
     "output_type": "stream",
     "text": [
      "la solución es:  [6.50409711 0.90841421]\n"
     ]
    }
   ],
   "source": [
    "import numpy as np\n",
    "from scipy.optimize import fsolve\n",
    "def func(x):\n",
    "    return [x[0] * np.cos(x[1]) - 4,\n",
    "            x[1] * x[0] - x[1] - 5]\n",
    "\n",
    "root = fsolve(func, x0 = [1, 1])\n",
    "print('la solución es: ', root)"
   ]
  },
  {
   "cell_type": "code",
   "execution_count": 14,
   "id": "19ffc5ec",
   "metadata": {
    "slideshow": {
     "slide_type": "fragment"
    }
   },
   "outputs": [
    {
     "data": {
      "text/plain": [
       "[3.732125719579926e-12, 1.617106448748018e-11]"
      ]
     },
     "execution_count": 14,
     "metadata": {},
     "output_type": "execute_result"
    }
   ],
   "source": [
    "func(root)"
   ]
  },
  {
   "cell_type": "markdown",
   "id": "06bb0462",
   "metadata": {
    "slideshow": {
     "slide_type": "slide"
    }
   },
   "source": [
    "También podemos definir el error absoluto mediante la instrucción ```xtol``` (por defecto, ```xtol=1.49012e-08```).\n",
    "```python\n",
    "root = fsolve(func, [1, 1], xtol = 1E-10) # |xk+1 - xk| < 1E-10\n",
    "```"
   ]
  },
  {
   "cell_type": "markdown",
   "id": "17723957",
   "metadata": {
    "slideshow": {
     "slide_type": "fragment"
    }
   },
   "source": [
    "Para mayor información, revisar la [documentación oficial](https://docs.scipy.org/doc/scipy/reference/generated/scipy.optimize.fsolve.html)"
   ]
  },
  {
   "cell_type": "markdown",
   "id": "33d3b1b6",
   "metadata": {
    "cell_style": "center",
    "slideshow": {
     "slide_type": "slide"
    }
   },
   "source": [
    "## Referencias\n",
    "- Kong Q., Siauw T., Bayen A. M. **Chapter 19: Root Finding** in *[Python Programming and Numerical Methods – A Guide for Engineers and Scientists](https://pythonnumericalmethods.berkeley.edu/notebooks/chapter17.00-Interpolation.html)*, 1st Ed., Academic Press, 2021\n",
    "\n",
    "- Chapra S., Canale R. **Parte dos: Raíces de ecuaciones** en *Métodos Numéricos para Ingenieros*, 6ta Ed., McGraw Hill, 2011\n",
    "\n",
    "- Williams H. P. **Chapter 9: Root Finding and Nonlinear Sets of Equations** in \"Numerical Recipes\" 3rd Ed, Cambridge University Press, 2007"
   ]
  }
 ],
 "metadata": {
  "celltoolbar": "Slideshow",
  "kernelspec": {
   "display_name": "Python 3 (ipykernel)",
   "language": "python",
   "name": "python3"
  },
  "language_info": {
   "codemirror_mode": {
    "name": "ipython",
    "version": 3
   },
   "file_extension": ".py",
   "mimetype": "text/x-python",
   "name": "python",
   "nbconvert_exporter": "python",
   "pygments_lexer": "ipython3",
   "version": "3.11.6"
  },
  "latex_envs": {
   "LaTeX_envs_menu_present": false,
   "autoclose": false,
   "autocomplete": false,
   "bibliofile": "biblio.bib",
   "cite_by": "apalike",
   "current_citInitial": 1,
   "eqLabelWithNumbers": true,
   "eqNumInitial": 1,
   "hotkeys": {
    "equation": "Ctrl-E",
    "itemize": "Ctrl-I"
   },
   "labels_anchors": false,
   "latex_user_defs": false,
   "report_style_numbering": false,
   "user_envs_cfg": true
  },
  "rise": {
   "height": "100%",
   "theme": "simple",
   "width": "100%"
  },
  "toc": {
   "base_numbering": "1",
   "nav_menu": {},
   "number_sections": true,
   "sideBar": true,
   "skip_h1_title": true,
   "title_cell": "Contenidos",
   "title_sidebar": "Contenidos",
   "toc_cell": false,
   "toc_position": {
    "height": "calc(100% - 180px)",
    "left": "10px",
    "top": "150px",
    "width": "303.823px"
   },
   "toc_section_display": true,
   "toc_window_display": false
  },
  "varInspector": {
   "cols": {
    "lenName": 16,
    "lenType": 16,
    "lenVar": 40
   },
   "kernels_config": {
    "python": {
     "delete_cmd_postfix": "",
     "delete_cmd_prefix": "del ",
     "library": "var_list.py",
     "varRefreshCmd": "print(var_dic_list())"
    },
    "r": {
     "delete_cmd_postfix": ") ",
     "delete_cmd_prefix": "rm(",
     "library": "var_list.r",
     "varRefreshCmd": "cat(var_dic_list()) "
    }
   },
   "types_to_exclude": [
    "module",
    "function",
    "builtin_function_or_method",
    "instance",
    "_Feature"
   ],
   "window_display": false
  }
 },
 "nbformat": 4,
 "nbformat_minor": 5
}
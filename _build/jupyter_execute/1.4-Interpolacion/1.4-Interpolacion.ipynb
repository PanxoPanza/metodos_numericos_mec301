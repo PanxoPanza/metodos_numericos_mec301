{
 "cells": [
  {
   "cell_type": "markdown",
   "id": "6d47d103",
   "metadata": {
    "slideshow": {
     "slide_type": "slide"
    }
   },
   "source": [
    "<font size=\"6\">MEC301 - Metodos Numéricos</font>\n",
    "# 1.4 Métodos de Interpolación\n",
    "<br><br><br><br>\n",
    "Profesor: Francisco Ramírez Cuevas<br>\n",
    "Fecha: 29 de Agosto 2022"
   ]
  },
  {
   "cell_type": "markdown",
   "id": "dca8d40b",
   "metadata": {
    "slideshow": {
     "slide_type": "slide"
    }
   },
   "source": [
    "## Introducción"
   ]
  },
  {
   "cell_type": "markdown",
   "id": "bc8c7d5d",
   "metadata": {
    "slideshow": {
     "slide_type": "fragment"
    }
   },
   "source": [
    "La siguiente tabla muestra las propiedades del agua en función de la temperatura.\n",
    "\n",
    "<img src=\"./images/thermodynamic_properties.png\" width=\"600\" align= center>"
   ]
  },
  {
   "cell_type": "markdown",
   "id": "2eb32698",
   "metadata": {
    "slideshow": {
     "slide_type": "slide"
    }
   },
   "source": [
    "En ingeniería generalmente debemos utilizar estas tablas. Si quisieramos determinar, por ejemplo, el valor de la densidad a $10\\mathrm{^oC}$ necesitaríamos conocer la función $\\rho(T)$, ya que el valor no está en la tabla."
   ]
  },
  {
   "cell_type": "markdown",
   "id": "91a4b086",
   "metadata": {
    "slideshow": {
     "slide_type": "fragment"
    }
   },
   "source": [
    "¿Cuál es la función más adecuada para representar la densidad?"
   ]
  },
  {
   "cell_type": "markdown",
   "id": "c85a6824",
   "metadata": {
    "slideshow": {
     "slide_type": "fragment"
    }
   },
   "source": [
    "A diferencia de nuestro problema de ajuste por mínimos cuadrados, en este caso cada valor de la tabla es certero. Es decir, nuestra función debe pasar **estrictamente** por cada valor indicado en la tabla."
   ]
  },
  {
   "cell_type": "markdown",
   "id": "4c6dbe16",
   "metadata": {
    "slideshow": {
     "slide_type": "fragment"
    }
   },
   "source": [
    "Llamamos a esta función, **función de interpolación** y en esa clase revisaremos diferentes métodos para generarla."
   ]
  },
  {
   "cell_type": "markdown",
   "id": "26e7a855",
   "metadata": {
    "slideshow": {
     "slide_type": "slide"
    }
   },
   "source": [
    "## Interpolación Polinomial"
   ]
  },
  {
   "cell_type": "markdown",
   "id": "39f0cac2",
   "metadata": {
    "slideshow": {
     "slide_type": "fragment"
    }
   },
   "source": [
    "Una alternativa, es generar un polinomio de la forma:\n",
    "\n",
    "\\begin{equation*}\n",
    "f(x) = a_0 + a_1x + a_2x^2 + \\cdots + a_nx^n\n",
    "\\end{equation*}\n",
    "\n",
    "considerando $n+1$ datos, existe solo un polinomio que pasa exáctamente por todos los puntos."
   ]
  },
  {
   "cell_type": "markdown",
   "id": "6c616318",
   "metadata": {
    "slideshow": {
     "slide_type": "fragment"
    }
   },
   "source": [
    "La forma más intuitiva para resolver este problema consiste en formar \"$n+1$\" ecuaciones considerando la intersección con los $n+1$ datos. Sin embargo este método genera matrices mal condicionadas que son sencibles a errores de redondeo."
   ]
  },
  {
   "cell_type": "markdown",
   "id": "5333bc73",
   "metadata": {
    "slideshow": {
     "slide_type": "slide"
    }
   },
   "source": [
    "Por ejemplo, si queremos determinar el polinomio $f(x) = a_0 + a_1x + a_2x^2$ que pasa por los puntos $\\{x_i,y_i\\} = \\{300,0.616\\}$, $\\{400,0.616\\}$ y $\\{500,0.457\\}$, llegamos a un sistema de ecuaciones de la forma:\n",
    "\n",
    "\\begin{equation*}\n",
    "\\begin{bmatrix}\n",
    " 1 & 300 & 300^2 \\\\\n",
    " 1 & 400 & 400^2 \\\\\n",
    " 1 & 500 & 500^2 \\\\\n",
    "\\end{bmatrix}\n",
    "\\left[\\begin{array}{c} a_0 \\\\a_1\\\\a_2\\end{array}\\right] =\n",
    "\\left[\\begin{array}{c} 0.616 \\\\0.525\\\\0.457 \\end{array}\\right]\n",
    "\\end{equation*}"
   ]
  },
  {
   "cell_type": "markdown",
   "id": "584a4fc9",
   "metadata": {
    "cell_style": "split",
    "slideshow": {
     "slide_type": "fragment"
    }
   },
   "source": [
    "Tenemos que la matriz $A$ está mal condicionada"
   ]
  },
  {
   "cell_type": "code",
   "execution_count": 1,
   "id": "a0c97c81",
   "metadata": {
    "cell_style": "split"
   },
   "outputs": [
    {
     "name": "stdout",
     "output_type": "stream",
     "text": [
      "cond(A) 5893156.794924004\n"
     ]
    }
   ],
   "source": [
    "import numpy as np\n",
    "A = np.array([[1, 300, 300**2],\n",
    "              [1, 400, 400**2],\n",
    "              [1, 500, 500**2]])\n",
    "\n",
    "print('cond(A)', np.linalg.cond(A))"
   ]
  },
  {
   "cell_type": "markdown",
   "id": "e09c5fe6",
   "metadata": {
    "slideshow": {
     "slide_type": "slide"
    }
   },
   "source": [
    "En este capítulo explicaremos métodos alternativos para generar este polinomio de forma más estable."
   ]
  },
  {
   "cell_type": "markdown",
   "id": "45507868",
   "metadata": {
    "slideshow": {
     "slide_type": "slide"
    }
   },
   "source": [
    "### Intepolación mediante `polyfit` (ajuste por mínimos cuadrados)\n",
    "En la clase anterior usamos la función `polyfit` para generar un polinomio por ajuste por mínimos cuadrados. Estrictamente hablando, **regresión lineal no está clasificado como método de interpolación, ya que el polinomio no necesariamente pasa por todos los datos $x_i, y_i$ de la muestra**. Sin embargo, para un polinomio de grado $n$ y una muestra con $n$ datos, `polyfit` entregará un polinomio de interpolación."
   ]
  },
  {
   "cell_type": "markdown",
   "id": "75f31399",
   "metadata": {
    "slideshow": {
     "slide_type": "fragment"
    }
   },
   "source": [
    "Por ejemplo, consideremos el polinomio de ajuste para la muestra:\n",
    "\n",
    "|$i$ |0 | 1 | 2 | 3 | 4|\n",
    "|:-:|:-:|:-:|:-:|:-:|:-:|\n",
    "| $x_i$ |-5 | -2 | 0 | 3 | 5|\n",
    "| $y_i$ |-2 | -1 | 2 | 2.5 | -1|"
   ]
  },
  {
   "cell_type": "markdown",
   "id": "14554290",
   "metadata": {
    "slideshow": {
     "slide_type": "fragment"
    }
   },
   "source": [
    "Generaremos un polinomio de grado 2 mediante ```polyfit```, considerando dos casos:\n",
    "1. Todos los datos *x = [-5, -2, 0, 3, 5]*, *y = [-2,  -1, 2, 2.5,-1]*.\n",
    "2. Solo los datos *x = [-5, 0, 5]*, *y = [-2, 2,-1]*, es decir $\\{x_i,y_i\\}$ para $i = 0,2,4$."
   ]
  },
  {
   "cell_type": "code",
   "execution_count": 2,
   "id": "6ac2a60f",
   "metadata": {
    "cell_style": "split",
    "slideshow": {
     "slide_type": "slide"
    }
   },
   "outputs": [],
   "source": [
    "%%capture showplot\n",
    "import matplotlib.pyplot as plt\n",
    "import numpy as np\n",
    "\n",
    "# Datos de la muestra xi, yi\n",
    "xi = np.array([-5, -2, 0, 3, 5])\n",
    "yi = np.array([-2,  -1, 2, 2.5,-1])\n",
    "\n",
    "x = np.arange(-5, 5, .1) # arreglo en x para graficar\n",
    "\n",
    "# polinomio grado 2 por ajuste con todos (xi,yi)\n",
    "ai = np.polyfit(xi,yi,2)\n",
    "y_fit = np.polyval(ai,x)\n",
    "\n",
    "# polinomio grado 2 por ajuste con (xi,yi) para i = 0, 2, 4\n",
    "ai = np.polyfit(xi[[0, 2, 4]],yi[[0, 2, 4]],2)\n",
    "y_pol = np.polyval(ai,x)\n",
    "\n",
    "plt.figure(figsize = (9, 6))           # Tamaño de figura\n",
    "plt.rcParams.update({'font.size': 18}) # Tamaño de fuente\n",
    "\n",
    "# ploteamos los dos polinomios\n",
    "plt.plot(x, y_fit, '--k',label='todos los $x_i, y_i$')\n",
    "plt.plot(x, y_pol, 'b',label='solo $(x_i, y_i)$ para $i = 0,2,4$')\n",
    "# ploteamos xi, yi\n",
    "plt.plot(xi, yi, 'ro',label='datos $(x_i, y_i)$')\n",
    "\n",
    "plt.title('Polinomio grado 2 por mínimos cuadrados')\n",
    "plt.xlabel('x')\n",
    "plt.ylabel('y')\n",
    "plt.grid()\n",
    "plt.legend(frameon=False)\n",
    "plt.show()"
   ]
  },
  {
   "cell_type": "code",
   "execution_count": 3,
   "id": "3cd504af",
   "metadata": {
    "cell_style": "split",
    "slideshow": {
     "slide_type": "fragment"
    }
   },
   "outputs": [
    {
     "data": {
      "image/png": "[encoded data removed]",
      "text/plain": [
       "<Figure size 648x432 with 1 Axes>"
      ]
     },
     "metadata": {
      "filenames": {
       "image/png": "/mnt/d/OneDrive - Universidad Adolfo Ibanez/Teaching_courses/Metodos_Numericos/material_catedra/_build/jupyter_execute/1.4-Interpolacion/1.4-Interpolacion_18_0.png"
      },
      "needs_background": "light"
     },
     "output_type": "display_data"
    }
   ],
   "source": [
    "showplot()"
   ]
  },
  {
   "cell_type": "markdown",
   "id": "3b3d1ff7",
   "metadata": {
    "cell_style": "split",
    "slideshow": {
     "slide_type": "fragment"
    }
   },
   "source": [
    "Notar como **la curva azul pasa exáctamente por los puntos $\\{x_i, y_i\\} = \\{-5, -2\\}$, $\\{0, 2\\}$ y $\\{5, 1\\}$**"
   ]
  },
  {
   "cell_type": "markdown",
   "id": "d80e2056",
   "metadata": {
    "slideshow": {
     "slide_type": "slide"
    }
   },
   "source": [
    "### Polinomios de interpolación de Newton\n",
    "Un polinomio de interpolación de Newton de grado $n$ está definido por:\n",
    "\n",
    "\\begin{equation*}\n",
    "N(x) = a_0 + a_1(x-x_0) + a_2(x-x_0)(x-x_1) + \\dots + a_n(x-x_0)(x-x_1)\\dots(x-x_n),\n",
    "\\end{equation*}\n",
    "\n",
    "o bien, en su forma compacta:\n",
    "\n",
    "\\begin{equation}\n",
    "N(x) = \\sum_{i=0}^{n}{a_i\\prod_{j=0}^{i-1}(x-x_j)}\n",
    "\\end{equation}"
   ]
  },
  {
   "cell_type": "markdown",
   "id": "7dace462",
   "metadata": {
    "slideshow": {
     "slide_type": "fragment"
    }
   },
   "source": [
    "La forma de este polinómio asegura que: $N(x_i) = y_i$ para $i= 0,1,...,n$, donde $x_i, y_i$ son las coordenadas de los datos de la muestra en el plano $x, y$."
   ]
  },
  {
   "cell_type": "markdown",
   "id": "382e358b",
   "metadata": {
    "slideshow": {
     "slide_type": "slide"
    }
   },
   "source": [
    "Los coeficientes $a_i$ se obtienen a partir de una fórmula definida en función de los datos $x_i$ y $N(x_i) = y_i$. Por ejemplo, a partir de $N(x_0) = y_0$ determinamos:\n",
    "\n",
    "\\begin{equation*}\n",
    "a_0 = y_0,\n",
    "\\end{equation*}"
   ]
  },
  {
   "cell_type": "markdown",
   "id": "93295339",
   "metadata": {
    "cell_style": "center",
    "slideshow": {
     "slide_type": "fragment"
    }
   },
   "source": [
    "luego, para $N(x_1) = y_1$, tenemos $N(x_1) = a_0 + a_1(x_1-x_0) = y_1$, donde deducimos:\n",
    "\n",
    "\\begin{equation*}\n",
    "a_1 = \\frac{y_1 - y_0}{x_1 - x_0}\n",
    "\\end{equation*}"
   ]
  },
  {
   "cell_type": "markdown",
   "id": "37a13ca9",
   "metadata": {
    "cell_style": "split",
    "slideshow": {
     "slide_type": "fragment"
    }
   },
   "source": [
    "para $(x_2, y_2)$:\n",
    "\n",
    "\\begin{equation*}\n",
    "a_2 = \\frac{\\frac{y_2 - y_1}{x_2 - x_1} - \\frac{y_1 - y_0}{x_1 - x_0}}{x_2 - x_0}\n",
    "\\end{equation*}"
   ]
  },
  {
   "cell_type": "markdown",
   "id": "0b61b1d3",
   "metadata": {
    "cell_style": "split",
    "slideshow": {
     "slide_type": "fragment"
    }
   },
   "source": [
    "para $(x_3, y_3)$:\n",
    "\n",
    "\\begin{equation*}\n",
    "a_3 = \\frac{\\frac{\\frac{y_3-y_2}{x_3-x_2} - \\frac{y_2 - y_1}{x_2-x_1}}{x_3 - x_1} - \\frac{\\frac{y_2-y_1}{x_2-x_1}-\\frac{y_1 - y_0}{x_1 - x_0}}{x_2-x_0}}{x_3 - x_0}\n",
    "\\end{equation*}"
   ]
  },
  {
   "cell_type": "markdown",
   "id": "cf41843e",
   "metadata": {
    "slideshow": {
     "slide_type": "slide"
    }
   },
   "source": [
    "En forma generalizada, decimos que $a_k = f[x_k, x_{k-1}, \\dots, x_{1}, x_0]$, donde:\n",
    "\n",
    "\\begin{equation*}\n",
    "f[x_k, x_{k-1}, \\dots, x_{1}, x_0] = \\frac{f[x_k, x_{k-1}, \\dots, x_{2}, x_2] - f[x_{k-1}, x_{k-2}, \\dots, x_{1}, x_0]}{x_k-x_0},\n",
    "\\end{equation*}\n",
    "\n",
    "esta operación se define como **diferencias divididas**."
   ]
  },
  {
   "cell_type": "markdown",
   "id": "20b5c1cb",
   "metadata": {
    "slideshow": {
     "slide_type": "fragment"
    }
   },
   "source": [
    "por ejemplo:\n",
    "\n",
    "\\begin{align*}\n",
    "f[x_1, x_0] &= \\frac{y_1 - y_0}{x_1 - x_0} \\\\[10pt]\n",
    "f[x_2, x_1, x_0] &= \\frac{\\frac{y_2 - y_1}{x_2 - x_1} - \\frac{y_1 - y_0}{x_1 - x_0}}{x_2 - x_0} = \\frac{f[x_2,x_1] - f[x_1,x_0]}{x_2-x_0}\n",
    "\\end{align*}"
   ]
  },
  {
   "cell_type": "markdown",
   "id": "f436106b",
   "metadata": {
    "slideshow": {
     "slide_type": "slide"
    }
   },
   "source": [
    "Para determinar las diferencias divididas utilizamos un método recursivo que podemos resumir mediante la siguiente tabla:\n",
    "<img src=\"./images/newton_recursion.png\" width=\"600\" align= center>"
   ]
  },
  {
   "cell_type": "markdown",
   "id": "7416f44a",
   "metadata": {
    "slideshow": {
     "slide_type": "fragment"
    }
   },
   "source": [
    "El algoritmo almacena estos valores en una matriz triangular superior, donde la primera fila corresponde al valor de los coeficientes"
   ]
  },
  {
   "cell_type": "markdown",
   "id": "cae723e2",
   "metadata": {
    "slideshow": {
     "slide_type": "slide"
    }
   },
   "source": [
    "**No existe una función formal en python para determinar los polinomios de Newton**. Sin embargo su implementación en código es sencilla."
   ]
  },
  {
   "cell_type": "code",
   "execution_count": 4,
   "id": "4b7d68dc",
   "metadata": {
    "cell_style": "split"
   },
   "outputs": [],
   "source": [
    "import numpy as np\n",
    "\n",
    "def divided_diff(x, y):\n",
    "    '''\n",
    "    función para generar los coeficientes del\n",
    "    polinomio de Newton de orden \"n\"\n",
    "    '''\n",
    "    n = len(y)\n",
    "    coef = np.zeros([n, n])\n",
    "    coef[:,0] = y # primera columna yi\n",
    "    \n",
    "    for j in range(1,n):\n",
    "        for i in range(n-j):\n",
    "            coef[i][j] = (coef[i+1][j-1] - coef[i][j-1]) /  \\\n",
    "                                  (x[i+j]-x[i])\n",
    "            \n",
    "    return coef[0, :] # retornamos la primera fila"
   ]
  },
  {
   "cell_type": "code",
   "execution_count": 5,
   "id": "6a118ce0",
   "metadata": {
    "cell_style": "split"
   },
   "outputs": [],
   "source": [
    "def newton_poly(coef, x_data, x):\n",
    "    '''\n",
    "    evalúa el polinomio de newton en x con los coeficientes\n",
    "    de divided_diff\n",
    "    '''\n",
    "    n = len(x_data) - 1 \n",
    "    p = coef[n]\n",
    "    for k in range(1,n+1):\n",
    "        p = coef[n-k] + (x -x_data[n-k])*p\n",
    "    return p"
   ]
  },
  {
   "cell_type": "markdown",
   "id": "740eaf6a",
   "metadata": {
    "slideshow": {
     "slide_type": "slide"
    }
   },
   "source": [
    "Probamos nuestra función para *$x_i$ = [-5, -1, 0, 2]*, *$y_i$ = [-2, 6, 1, 3]*. "
   ]
  },
  {
   "cell_type": "code",
   "execution_count": 6,
   "id": "cddd1383",
   "metadata": {
    "cell_style": "split",
    "slideshow": {
     "slide_type": "-"
    }
   },
   "outputs": [],
   "source": [
    "%%capture showplot\n",
    "import matplotlib.pyplot as plt\n",
    "\n",
    "# Datos de la muestra xi, yi\n",
    "xi = np.array([-5, -1, 0, 2])\n",
    "yi = np.array([-2,  6, 1, 3])\n",
    "\n",
    "# Determinamos coeficientes por diferencias divididas\n",
    "ai = divided_diff(xi, yi)\n",
    "\n",
    "# Generamos un arreglo en x para plotear\n",
    "x = np.arange(-5, 2.1, .1)\n",
    "\n",
    "# Generar el polinomio de Newton usando \"ai\"\n",
    "y = newton_poly(ai, xi, x)\n",
    "\n",
    "plt.figure(figsize = (9, 6))          # Tamaño de figura\n",
    "plt.rcParams.update({'font.size': 18}) # Tamaño de fuente\n",
    "\n",
    "# ploteamos el polinomio de Lagrange\n",
    "plt.plot(x, y, 'k',label='$N(x)$')\n",
    "\n",
    "# ploteamos los xi, yi\n",
    "plt.plot(xi, yi, 'ro',label='datos $x_i, y_i$')\n",
    "\n",
    "plt.title('Interpolación de Newton')\n",
    "plt.xlabel('x')\n",
    "plt.ylabel('y')\n",
    "plt.grid()\n",
    "plt.legend(frameon=False)\n",
    "plt.show()"
   ]
  },
  {
   "cell_type": "code",
   "execution_count": 7,
   "id": "dbca5453",
   "metadata": {
    "cell_style": "split",
    "slideshow": {
     "slide_type": "fragment"
    }
   },
   "outputs": [
    {
     "data": {
      "image/png": "[encoded data removed]",
      "text/plain": [
       "<Figure size 648x432 with 1 Axes>"
      ]
     },
     "metadata": {
      "filenames": {
       "image/png": "/mnt/d/OneDrive - Universidad Adolfo Ibanez/Teaching_courses/Metodos_Numericos/material_catedra/_build/jupyter_execute/1.4-Interpolacion/1.4-Interpolacion_35_0.png"
      },
      "needs_background": "light"
     },
     "output_type": "display_data"
    }
   ],
   "source": [
    "showplot()"
   ]
  },
  {
   "cell_type": "markdown",
   "id": "ceb31cd1",
   "metadata": {
    "slideshow": {
     "slide_type": "slide"
    }
   },
   "source": [
    "### Polinomios de interpolación de Lagrange\n",
    "La interpolación por polinomios de Lagrange consiste en aproximar una serie de datos mediante un polinomio $L(x_i)$, tal que:\n",
    "\n",
    "\\begin{equation}\n",
    "L(x) = \\sum_{i = 0}^n y_i P_i(x),\n",
    "\\end{equation}\n",
    "\n",
    "donde $P_i(x)$, son los polinomios de Lagrange, definidos por:\n",
    "\\begin{equation}\n",
    "P_i(x) = \\prod_{j = 1, j\\ne i}^n\\frac{x - x_j}{x_i - x_j}.\n",
    "\\end{equation}"
   ]
  },
  {
   "cell_type": "markdown",
   "id": "adf9d84e",
   "metadata": {
    "slideshow": {
     "slide_type": "fragment"
    }
   },
   "source": [
    "Estos polinomios tienen la propiedad que $P_i(x_j) = 1$ cuando $i = j$ y $P_i(x_j) = 0$ cuando $i \\ne j$. Así, al igual que la interpolación por polinomios de Newton, la interpolación de Lagrange asegura que $L(x_i) = y_i$ para cada dato de la muestra."
   ]
  },
  {
   "cell_type": "markdown",
   "id": "7da82a8e",
   "metadata": {
    "slideshow": {
     "slide_type": "slide"
    }
   },
   "source": [
    "Por ejemplo, para el set de datos *$x_i$ = [0, 1, 2]*, *$y_i$ = [1, 3, 2]*, podemos definir tres polinomios de Lagrange:\n",
    "\n",
    "\\begin{eqnarray*}\n",
    "P_0(x) &=& \\frac{(x - x_1)(x - x_2)}{(x_0-x_1)(x_0-x_2)} = \\frac{(x - 1)(x - 2)}{(0-1)(0-2)} = \\frac{1}{2}(x^2 - 3x + 2),\\\\[10pt]\n",
    "P_1(x) &=& \\frac{(x - x_0)(x - x_2)}{(x_1-x_0)(x_1-x_2)} = \\frac{(x - 0)(x - 2)}{(1-0)(1-2)} = -x^2 + 2x,\\\\[10pt]\n",
    "P_2(x) &=& \\frac{(x - x_0)(x - x_1)}{(x_2-x_0)(x_2-x_1)} = \\frac{(x - 0)(x - 1)}{(2-0)(2-1)} = \\frac{1}{2}(x^2 - x).\n",
    "\\end{eqnarray*}"
   ]
  },
  {
   "cell_type": "markdown",
   "id": "66505fec",
   "metadata": {
    "slideshow": {
     "slide_type": "slide"
    }
   },
   "source": [
    "Graficamos los polinomios de Lagrange $P_0(x)$, $P_1(x)$ y $P_2(x)$:"
   ]
  },
  {
   "cell_type": "code",
   "execution_count": 8,
   "id": "06561862",
   "metadata": {
    "cell_style": "split",
    "slideshow": {
     "slide_type": "fragment"
    }
   },
   "outputs": [
    {
     "ename": "NameError",
     "evalue": "name 'xp' is not defined",
     "output_type": "error",
     "traceback": [
      "\u001b[0;31m---------------------------------------------------------------------------\u001b[0m",
      "\u001b[0;31mNameError\u001b[0m                                 Traceback (most recent call last)",
      "\u001b[0;32m/tmp/ipykernel_8308/2360488545.py\u001b[0m in \u001b[0;36m<module>\u001b[0;34m\u001b[0m\n\u001b[1;32m     14\u001b[0m \u001b[0;34m\u001b[0m\u001b[0m\n\u001b[1;32m     15\u001b[0m \u001b[0;31m# ploteamos las curvas de cada polinomio\u001b[0m\u001b[0;34m\u001b[0m\u001b[0;34m\u001b[0m\u001b[0m\n\u001b[0;32m---> 16\u001b[0;31m \u001b[0mplt\u001b[0m\u001b[0;34m.\u001b[0m\u001b[0mplot\u001b[0m\u001b[0;34m(\u001b[0m\u001b[0mx\u001b[0m\u001b[0;34m,\u001b[0m \u001b[0mP0\u001b[0m\u001b[0;34m(\u001b[0m\u001b[0mxp\u001b[0m\u001b[0;34m)\u001b[0m\u001b[0;34m,\u001b[0m \u001b[0;34m'b'\u001b[0m\u001b[0;34m,\u001b[0m \u001b[0mlabel\u001b[0m \u001b[0;34m=\u001b[0m \u001b[0;34m'$P_0(x)$'\u001b[0m\u001b[0;34m)\u001b[0m\u001b[0;34m\u001b[0m\u001b[0;34m\u001b[0m\u001b[0m\n\u001b[0m\u001b[1;32m     17\u001b[0m \u001b[0mplt\u001b[0m\u001b[0;34m.\u001b[0m\u001b[0mplot\u001b[0m\u001b[0;34m(\u001b[0m\u001b[0mx\u001b[0m\u001b[0;34m,\u001b[0m \u001b[0mP1\u001b[0m\u001b[0;34m(\u001b[0m\u001b[0mxp\u001b[0m\u001b[0;34m)\u001b[0m\u001b[0;34m,\u001b[0m \u001b[0;34m'r'\u001b[0m\u001b[0;34m,\u001b[0m \u001b[0mlabel\u001b[0m \u001b[0;34m=\u001b[0m \u001b[0;34m'$P_1(x)$'\u001b[0m\u001b[0;34m)\u001b[0m\u001b[0;34m\u001b[0m\u001b[0;34m\u001b[0m\u001b[0m\n\u001b[1;32m     18\u001b[0m \u001b[0mplt\u001b[0m\u001b[0;34m.\u001b[0m\u001b[0mplot\u001b[0m\u001b[0;34m(\u001b[0m\u001b[0mx\u001b[0m\u001b[0;34m,\u001b[0m \u001b[0mP2\u001b[0m\u001b[0;34m(\u001b[0m\u001b[0mxp\u001b[0m\u001b[0;34m)\u001b[0m\u001b[0;34m,\u001b[0m \u001b[0;34m'g'\u001b[0m\u001b[0;34m,\u001b[0m \u001b[0mlabel\u001b[0m \u001b[0;34m=\u001b[0m \u001b[0;34m'$P_2(x)$'\u001b[0m\u001b[0;34m)\u001b[0m\u001b[0;34m\u001b[0m\u001b[0;34m\u001b[0m\u001b[0m\n",
      "\u001b[0;31mNameError\u001b[0m: name 'xp' is not defined"
     ]
    }
   ],
   "source": [
    "%%capture showfig\n",
    "import numpy as np\n",
    "import matplotlib.pyplot as plt\n",
    "\n",
    "# Polinomios de Lagrange\n",
    "P0 = lambda x: 1/2*(x**2 - 3*x + 2)\n",
    "P1 = lambda x: -x**2 + 2*x\n",
    "P2 = lambda x: 1/2*(x**2 - x)\n",
    "\n",
    "# variable para plotear\n",
    "x = np.linspace(-0.5,2.5,100)\n",
    "\n",
    "fig = plt.figure(figsize = (9,7))      # tamaño de figura\n",
    "plt.rcParams.update({'font.size': 18}) # tamaño de fuente\n",
    "\n",
    "# ploteamos las curvas de cada polinomio\n",
    "plt.plot(x, P0(xp), 'b', label = '$P_0(x)$')\n",
    "plt.plot(x, P1(xp), 'r', label = '$P_1(x)$')\n",
    "plt.plot(x, P2(xp), 'g', label = '$P_2(x)$')\n",
    "\n",
    "plt.title('Polinomios de Lagrange')\n",
    "plt.xlabel('x')\n",
    "plt.ylabel('y')\n",
    "plt.grid()\n",
    "plt.legend(frameon=False)\n",
    "plt.show()"
   ]
  },
  {
   "cell_type": "code",
   "execution_count": 9,
   "id": "d8ce4d2b",
   "metadata": {
    "cell_style": "split",
    "slideshow": {
     "slide_type": "fragment"
    }
   },
   "outputs": [
    {
     "data": {
      "text/plain": [
       "<Figure size 648x504 with 0 Axes>"
      ]
     },
     "metadata": {},
     "output_type": "display_data"
    }
   ],
   "source": [
    "showfig()"
   ]
  },
  {
   "cell_type": "markdown",
   "id": "5cac3dca",
   "metadata": {
    "slideshow": {
     "slide_type": "slide"
    }
   },
   "source": [
    "En python los polinomios de Lagrange están implementados en la función ```lagrange``` de la librería```scipy.interpolate``` (ver documentación [acá](https://docs.scipy.org/doc/scipy/reference/generated/scipy.interpolate.lagrange.html))"
   ]
  },
  {
   "cell_type": "code",
   "execution_count": 10,
   "id": "193d88e0",
   "metadata": {
    "cell_style": "split"
   },
   "outputs": [],
   "source": [
    "%%capture showplot\n",
    "from scipy.interpolate import lagrange\n",
    "xi = [0, 1, 2]\n",
    "yi = [1, 3, 2]\n",
    "\n",
    "# Genera una función en base a interpolación de Lagrange\n",
    "L = lagrange(xi, yi)\n",
    "\n",
    "# variable para plotear\n",
    "x = np.linspace(-0.5,2.5,100)\n",
    "\n",
    "plt.figure(figsize = (9, 6))           # Tamaño de figura\n",
    "plt.rcParams.update({'font.size': 18}) # Tamaño de fuente\n",
    "\n",
    "# ploteamos el polinomio de Lagrange\n",
    "plt.plot(x, L(x), 'k',label='$L(x)$')\n",
    "\n",
    "# ploteamos los xi, yi\n",
    "plt.plot(xi, yi, 'ro',label='datos $x_i, y_i$')\n",
    "\n",
    "plt.title('Interpolación de Lagrange')\n",
    "plt.xlabel('x')\n",
    "plt.ylabel('y')\n",
    "plt.grid()\n",
    "plt.legend(frameon=False)\n",
    "plt.show()"
   ]
  },
  {
   "cell_type": "code",
   "execution_count": 11,
   "id": "c484a438",
   "metadata": {
    "cell_style": "split",
    "slideshow": {
     "slide_type": "fragment"
    }
   },
   "outputs": [
    {
     "data": {
      "image/png": "[encoded data removed]",
      "text/plain": [
       "<Figure size 648x432 with 1 Axes>"
      ]
     },
     "metadata": {
      "filenames": {
       "image/png": "/mnt/d/OneDrive - Universidad Adolfo Ibanez/Teaching_courses/Metodos_Numericos/material_catedra/_build/jupyter_execute/1.4-Interpolacion/1.4-Interpolacion_44_0.png"
      },
      "needs_background": "light"
     },
     "output_type": "display_data"
    }
   ],
   "source": [
    "showplot()"
   ]
  },
  {
   "cell_type": "markdown",
   "id": "6d3489a5",
   "metadata": {
    "slideshow": {
     "slide_type": "slide"
    }
   },
   "source": [
    "### Problemas de oscilación\n",
    "Un problema de los polinomios de interpolación es que sufren problemas de oscilación a medida que aumenta el número de datos en la muestra."
   ]
  },
  {
   "cell_type": "markdown",
   "id": "125d2659",
   "metadata": {
    "slideshow": {
     "slide_type": "fragment"
    }
   },
   "source": [
    "Este problema se conoce como el **fenómeno de Runge**, en referencia a Carl Runge, quién en 1901 demostró el mal condicionamiento de los polinomios de interpolación cuando se analizaba la siguiente función:\n",
    "\n",
    "\\begin{equation*}\n",
    "f(x)=\\frac{1}{1 + 25x^2}\n",
    "\\end{equation*}"
   ]
  },
  {
   "cell_type": "markdown",
   "id": "74a703f0",
   "metadata": {
    "slideshow": {
     "slide_type": "fragment"
    }
   },
   "source": [
    "Esta función se conoce como **función de Runge**"
   ]
  },
  {
   "cell_type": "markdown",
   "id": "ed6fb718",
   "metadata": {
    "slideshow": {
     "slide_type": "slide"
    }
   },
   "source": [
    "Analicemos este problema considerando el dominio $x\\in\\left[-1,1\\right]$. Utilizando polinomios de Lagrange, generaremos un polinomio de interpolación, $L_5(x)$, con 5 datos igualmente espaciados; y un polinomio, $L_7(x)$, 7 datos igualmente espaciados."
   ]
  },
  {
   "cell_type": "code",
   "execution_count": 12,
   "id": "671d7bd5",
   "metadata": {
    "cell_style": "center",
    "slideshow": {
     "slide_type": "fragment"
    }
   },
   "outputs": [],
   "source": [
    "import numpy as np\n",
    "from scipy.interpolate import lagrange \n",
    "\n",
    "# generamos la funcion Runge\n",
    "f = lambda x: 1/(1+25*x**2)\n",
    "\n",
    "# Polinomio con 5 datos igualmente espaciados\n",
    "xi5 = np.linspace(-1,1,5)    # xi\n",
    "yi5 = f(xi5)                 # yi \n",
    "L5 = lagrange(xi5,yi5) # polinomio de Lagrange\n",
    "\n",
    "# Polinomio con 7 datos igualmente espaciados\n",
    "xi7 = np.linspace(-1,1,7)    # xi\n",
    "yi7 = f(xi7)                 # yi \n",
    "L7 = lagrange(xi7,yi7) # polinomio de Lagrange"
   ]
  },
  {
   "cell_type": "markdown",
   "id": "a4640f35",
   "metadata": {
    "slideshow": {
     "slide_type": "slide"
    }
   },
   "source": [
    "Graficamos el resultado"
   ]
  },
  {
   "cell_type": "code",
   "execution_count": 13,
   "id": "3d9107aa",
   "metadata": {
    "cell_style": "split"
   },
   "outputs": [],
   "source": [
    "%%capture showplot\n",
    "import matplotlib.pyplot as plt\n",
    "plt.figure(figsize = (9, 6))           # Tamaño de figura\n",
    "plt.rcParams.update({'font.size': 18}) # Tamaño de fuente\n",
    "\n",
    "# arreglo para plotear\n",
    "x = np.linspace(-1,1,100)\n",
    "\n",
    "# ploteamos la función de Runge\n",
    "plt.plot(x,f(x),'--k', label='Runge')\n",
    "\n",
    "# ploteamos los polinomios de Lagrange\n",
    "plt.plot(x, L5(x), 'r',label='$L_5(x)$')\n",
    "plt.plot(x, L7(x), 'b',label='$L_7(x)$')\n",
    "\n",
    "# ploteamos los xi, yi\n",
    "plt.plot(xi5, yi5, 'ro',label='_$x_i, y_i$ para $L_5(x)$')\n",
    "plt.plot(xi7, yi7, 'bo',label='_$x_i, y_i$ para $L_76(x)$')\n",
    "\n",
    "plt.title('Interpolación de Lagrange')\n",
    "plt.xlabel('x')\n",
    "plt.ylabel('y')\n",
    "plt.grid()\n",
    "plt.legend(frameon=False)\n",
    "plt.show()"
   ]
  },
  {
   "cell_type": "code",
   "execution_count": 14,
   "id": "d97a0954",
   "metadata": {
    "cell_style": "split"
   },
   "outputs": [
    {
     "data": {
      "image/png": "[encoded data removed]",
      "text/plain": [
       "<Figure size 648x432 with 1 Axes>"
      ]
     },
     "metadata": {
      "filenames": {
       "image/png": "/mnt/d/OneDrive - Universidad Adolfo Ibanez/Teaching_courses/Metodos_Numericos/material_catedra/_build/jupyter_execute/1.4-Interpolacion/1.4-Interpolacion_52_0.png"
      },
      "needs_background": "light"
     },
     "output_type": "display_data"
    }
   ],
   "source": [
    "showplot()"
   ]
  },
  {
   "cell_type": "markdown",
   "id": "f2ec2683",
   "metadata": {
    "cell_style": "center",
    "slideshow": {
     "slide_type": "slide"
    }
   },
   "source": [
    "## Interpolación por tramos\n",
    "Una alternativa para evitar los problemas de oscilación de los polinomios de interpolación, es usar polinomios de menor orden e interpolar por tramos.\n",
    "\n",
    "En este caso, para un set de $n+1$ datos $\\{x_i, y_i\\}$, con $i = 0,1,...,n$, el método de interpolación por tramos consiste en contruir $n$ polinomios de interpolación para los $n$ intervalos interiores.\n",
    "\n",
    "<img src=\"./images/piecewise_interpolation.png\" width=\"500\" align= center>"
   ]
  },
  {
   "cell_type": "markdown",
   "id": "29b7fe6f",
   "metadata": {
    "slideshow": {
     "slide_type": "slide"
    }
   },
   "source": [
    "### Interpolación lineal (*spline* linear)\n",
    "El modelo más simple consiste en interpolar el valor $\\{x, y\\}$ entre dos puntos $\\{x_i, y_i\\}$ y $\\{x_{i+1}, y_{i+1}\\}$ mediante una recta. \n",
    "\n",
    "El **método de interpolación lineal consiste en construir $n$ rectas $\\hat{y}_i(x)$. Las rectas $\\hat{y}_i(x)$ tienen la forma:\n",
    "\n",
    "\\begin{equation*}\n",
    "\\hat{y}_i(x) = y_i + \\frac{y_{i+1} - y_{i}}{x_{i+1} - x_{i}}(x - x_{i}),\\quad\\quad x\\in\\left[x_i, x_{i+1}\\right]\n",
    "\\end{equation*}"
   ]
  },
  {
   "cell_type": "markdown",
   "id": "57340928",
   "metadata": {
    "slideshow": {
     "slide_type": "slide"
    }
   },
   "source": [
    "En python ```interp1d``` de la librería ```scipy.interpolate``` permite generar una **función** en base interpolación lineal (para documentación ver [acá](https://docs.scipy.org/doc/scipy/reference/generated/scipy.interpolate.interp1d.html))."
   ]
  },
  {
   "cell_type": "markdown",
   "id": "b64ef708",
   "metadata": {
    "slideshow": {
     "slide_type": "fragment"
    }
   },
   "source": [
    "Por ejemplo, si buscamos el valor de $x_0 = 1.5$ mediante interpolación lineal con los datos *$x_i$ = [0, 1, 2]*, *$y_i$ = [1, 3, 2]*"
   ]
  },
  {
   "cell_type": "code",
   "execution_count": 15,
   "id": "1217028f",
   "metadata": {
    "cell_style": "center",
    "slideshow": {
     "slide_type": "fragment"
    }
   },
   "outputs": [
    {
     "name": "stdout",
     "output_type": "stream",
     "text": [
      "y0 = y(x0 = 1.5) = 2.5\n"
     ]
    }
   ],
   "source": [
    "from scipy.interpolate import interp1d\n",
    "\n",
    "xi = [0, 1, 2]\n",
    "yi = [1, 3, 2]\n",
    "\n",
    "y = interp1d(xi, yi) # Genera una función \n",
    "y0 = y(1.5)          # Evaluamos la función en x0 = 1.5\n",
    "print('y0 = y(x0 = 1.5) =',y0)"
   ]
  },
  {
   "cell_type": "markdown",
   "id": "b24bbe95",
   "metadata": {
    "slideshow": {
     "slide_type": "slide"
    }
   },
   "source": [
    "Igualmente, podemos usar la función generada por ```interp1d``` para interpolar un arreglo de valores de \"x\" (por ejemplo, para graficar la función)."
   ]
  },
  {
   "cell_type": "code",
   "execution_count": 16,
   "id": "5c334cf2",
   "metadata": {
    "cell_style": "split",
    "slideshow": {
     "slide_type": "fragment"
    }
   },
   "outputs": [
    {
     "ename": "NameError",
     "evalue": "name 'y_hat' is not defined",
     "output_type": "error",
     "traceback": [
      "\u001b[0;31m---------------------------------------------------------------------------\u001b[0m",
      "\u001b[0;31mNameError\u001b[0m                                 Traceback (most recent call last)",
      "\u001b[0;32m/tmp/ipykernel_8308/4201598646.py\u001b[0m in \u001b[0;36m<module>\u001b[0;34m\u001b[0m\n\u001b[1;32m      9\u001b[0m \u001b[0mplt\u001b[0m\u001b[0;34m.\u001b[0m\u001b[0mplot\u001b[0m\u001b[0;34m(\u001b[0m\u001b[0mx\u001b[0m\u001b[0;34m,\u001b[0m \u001b[0my\u001b[0m\u001b[0;34m(\u001b[0m\u001b[0mx\u001b[0m\u001b[0;34m)\u001b[0m\u001b[0;34m,\u001b[0m \u001b[0;34m'-b'\u001b[0m\u001b[0;34m,\u001b[0m \u001b[0mlabel\u001b[0m\u001b[0;34m=\u001b[0m\u001b[0;34m'$y(x)$'\u001b[0m\u001b[0;34m)\u001b[0m            \u001b[0;31m# graficamos la función\u001b[0m\u001b[0;34m\u001b[0m\u001b[0;34m\u001b[0m\u001b[0m\n\u001b[1;32m     10\u001b[0m \u001b[0mplt\u001b[0m\u001b[0;34m.\u001b[0m\u001b[0mplot\u001b[0m\u001b[0;34m(\u001b[0m\u001b[0mxi\u001b[0m\u001b[0;34m,\u001b[0m \u001b[0myi\u001b[0m\u001b[0;34m,\u001b[0m \u001b[0;34m'ob'\u001b[0m\u001b[0;34m)\u001b[0m                             \u001b[0;31m# graficamos los xi, yi\u001b[0m\u001b[0;34m\u001b[0m\u001b[0;34m\u001b[0m\u001b[0m\n\u001b[0;32m---> 11\u001b[0;31m \u001b[0mplt\u001b[0m\u001b[0;34m.\u001b[0m\u001b[0mplot\u001b[0m\u001b[0;34m(\u001b[0m\u001b[0;36m1.5\u001b[0m\u001b[0;34m,\u001b[0m \u001b[0my_hat\u001b[0m\u001b[0;34m,\u001b[0m \u001b[0;34m'or'\u001b[0m\u001b[0;34m,\u001b[0m \u001b[0mlabel\u001b[0m\u001b[0;34m=\u001b[0m\u001b[0;34m'$y(x_0 = 1.5)$'\u001b[0m\u001b[0;34m)\u001b[0m \u001b[0;31m# graficamos y(1.5)\u001b[0m\u001b[0;34m\u001b[0m\u001b[0;34m\u001b[0m\u001b[0m\n\u001b[0m\u001b[1;32m     12\u001b[0m \u001b[0;34m\u001b[0m\u001b[0m\n\u001b[1;32m     13\u001b[0m \u001b[0mplt\u001b[0m\u001b[0;34m.\u001b[0m\u001b[0mtitle\u001b[0m\u001b[0;34m(\u001b[0m\u001b[0;34m'Interpolación lineal (interp1d de scipy)'\u001b[0m\u001b[0;34m)\u001b[0m\u001b[0;34m\u001b[0m\u001b[0;34m\u001b[0m\u001b[0m\n",
      "\u001b[0;31mNameError\u001b[0m: name 'y_hat' is not defined"
     ]
    }
   ],
   "source": [
    "%%capture showplot\n",
    "import matplotlib.pyplot as plt\n",
    "import numpy as np\n",
    "plt.figure(figsize = (9, 6))           # Tamaño de figura\n",
    "plt.rcParams.update({'font.size': 18}) # Tamaño de fuente\n",
    "\n",
    "# variable para graficar\n",
    "x = np.linspace(0,2.0,100)\n",
    "\n",
    "plt.plot(x, y(x), '-b', label='$y(x)$')            # graficamos la función\n",
    "plt.plot(xi, yi, 'ob')                             # graficamos los xi, yi \n",
    "plt.plot(1.5, y_hat, 'or', label='$y(x_0 = 1.5)$') # graficamos y(1.5)\n",
    "\n",
    "plt.title('Interpolación lineal (interp1d de scipy)')\n",
    "plt.xlabel('x')\n",
    "plt.ylabel('y')\n",
    "plt.grid()\n",
    "plt.legend(frameon=False)\n",
    "plt.show()"
   ]
  },
  {
   "cell_type": "code",
   "execution_count": 17,
   "id": "77f3eecd",
   "metadata": {
    "cell_style": "split",
    "slideshow": {
     "slide_type": "fragment"
    }
   },
   "outputs": [
    {
     "data": {
      "image/png": "[encoded data removed]",
      "text/plain": [
       "<Figure size 648x432 with 1 Axes>"
      ]
     },
     "metadata": {
      "filenames": {
       "image/png": "/mnt/d/OneDrive - Universidad Adolfo Ibanez/Teaching_courses/Metodos_Numericos/material_catedra/_build/jupyter_execute/1.4-Interpolacion/1.4-Interpolacion_60_0.png"
      },
      "needs_background": "light"
     },
     "output_type": "display_data"
    }
   ],
   "source": [
    "showplot()"
   ]
  },
  {
   "cell_type": "markdown",
   "id": "6930c81b",
   "metadata": {
    "slideshow": {
     "slide_type": "slide"
    }
   },
   "source": [
    "Alternativamente, podemos usar```numpy.interp``` que entrega el **valor interpolado $y(x_0) = y_0$**, a partir de los datos $x_i$, $y_i$, y el valor a interpolar $x_0$ (ver documentación [acá](https://numpy.org/doc/stable/reference/generated/numpy.interp.html)). "
   ]
  },
  {
   "cell_type": "code",
   "execution_count": 18,
   "id": "30830241",
   "metadata": {
    "cell_style": "center",
    "slideshow": {
     "slide_type": "fragment"
    }
   },
   "outputs": [
    {
     "name": "stdout",
     "output_type": "stream",
     "text": [
      "y0 = y(x0 = 1.5) = 2.5\n"
     ]
    }
   ],
   "source": [
    "import numpy as np\n",
    "\n",
    "xi = [0, 1, 2]\n",
    "yi = [1, 3, 2]\n",
    "\n",
    "x0 = 1.5\n",
    "y0 = np.interp(x0, xi, yi) # interpolamos y(x) en x0 = 1.5\n",
    "print('y0 = y(x0 = 1.5) =',y0)"
   ]
  },
  {
   "cell_type": "markdown",
   "id": "72bfa25e",
   "metadata": {
    "slideshow": {
     "slide_type": "slide"
    }
   },
   "source": [
    "En este caso, para graficar, usamos ```numpy.interp``` para generar un arreglo $y$ de valores interpolados en base a un arreglo $x$."
   ]
  },
  {
   "cell_type": "code",
   "execution_count": 19,
   "id": "233dd8d5",
   "metadata": {
    "cell_style": "split",
    "slideshow": {
     "slide_type": "fragment"
    }
   },
   "outputs": [
    {
     "ename": "NameError",
     "evalue": "name 'y_hat' is not defined",
     "output_type": "error",
     "traceback": [
      "\u001b[0;31m---------------------------------------------------------------------------\u001b[0m",
      "\u001b[0;31mNameError\u001b[0m                                 Traceback (most recent call last)",
      "\u001b[0;32m/tmp/ipykernel_8308/1298776779.py\u001b[0m in \u001b[0;36m<module>\u001b[0;34m\u001b[0m\n\u001b[1;32m     10\u001b[0m \u001b[0mplt\u001b[0m\u001b[0;34m.\u001b[0m\u001b[0mplot\u001b[0m\u001b[0;34m(\u001b[0m\u001b[0mx\u001b[0m\u001b[0;34m,\u001b[0m \u001b[0my\u001b[0m\u001b[0;34m,\u001b[0m \u001b[0;34m'-b'\u001b[0m\u001b[0;34m,\u001b[0m \u001b[0mlabel\u001b[0m\u001b[0;34m=\u001b[0m\u001b[0;34m'$y(x)$'\u001b[0m\u001b[0;34m)\u001b[0m               \u001b[0;31m# graficamos la función\u001b[0m\u001b[0;34m\u001b[0m\u001b[0;34m\u001b[0m\u001b[0m\n\u001b[1;32m     11\u001b[0m \u001b[0mplt\u001b[0m\u001b[0;34m.\u001b[0m\u001b[0mplot\u001b[0m\u001b[0;34m(\u001b[0m\u001b[0mxi\u001b[0m\u001b[0;34m,\u001b[0m \u001b[0myi\u001b[0m\u001b[0;34m,\u001b[0m \u001b[0;34m'ob'\u001b[0m\u001b[0;34m)\u001b[0m                             \u001b[0;31m# graficamos los xi, yi\u001b[0m\u001b[0;34m\u001b[0m\u001b[0;34m\u001b[0m\u001b[0m\n\u001b[0;32m---> 12\u001b[0;31m \u001b[0mplt\u001b[0m\u001b[0;34m.\u001b[0m\u001b[0mplot\u001b[0m\u001b[0;34m(\u001b[0m\u001b[0;36m1.5\u001b[0m\u001b[0;34m,\u001b[0m \u001b[0my_hat\u001b[0m\u001b[0;34m,\u001b[0m \u001b[0;34m'or'\u001b[0m\u001b[0;34m,\u001b[0m \u001b[0mlabel\u001b[0m\u001b[0;34m=\u001b[0m\u001b[0;34m'$y(x_0 = 1.5)$'\u001b[0m\u001b[0;34m)\u001b[0m \u001b[0;31m# graficamos y(1.5)\u001b[0m\u001b[0;34m\u001b[0m\u001b[0;34m\u001b[0m\u001b[0m\n\u001b[0m\u001b[1;32m     13\u001b[0m \u001b[0;34m\u001b[0m\u001b[0m\n\u001b[1;32m     14\u001b[0m \u001b[0mplt\u001b[0m\u001b[0;34m.\u001b[0m\u001b[0mtitle\u001b[0m\u001b[0;34m(\u001b[0m\u001b[0;34m'Interpolación lineal (interp de numpy)'\u001b[0m\u001b[0;34m)\u001b[0m\u001b[0;34m\u001b[0m\u001b[0;34m\u001b[0m\u001b[0m\n",
      "\u001b[0;31mNameError\u001b[0m: name 'y_hat' is not defined"
     ]
    }
   ],
   "source": [
    "%%capture showplot\n",
    "import matplotlib.pyplot as plt\n",
    "import numpy as np\n",
    "plt.figure(figsize = (9, 6))           # Tamaño de figura\n",
    "plt.rcParams.update({'font.size': 18}) # Tamaño de fuente\n",
    "\n",
    "# variable para graficar\n",
    "x = np.linspace(0,2.0,100)\n",
    "y = np.interp(x,xi,yi)\n",
    "\n",
    "plt.plot(x, y, '-b', label='$y(x)$')               # graficamos la función\n",
    "plt.plot(xi, yi, 'ob')                             # graficamos los xi, yi \n",
    "plt.plot(1.5, y_hat, 'or', label='$y(x_0 = 1.5)$') # graficamos y(1.5)\n",
    "\n",
    "plt.title('Interpolación lineal (interp de numpy)')\n",
    "plt.xlabel('x')\n",
    "plt.ylabel('y')\n",
    "plt.grid()\n",
    "plt.legend(frameon=False)\n",
    "plt.show()"
   ]
  },
  {
   "cell_type": "code",
   "execution_count": 20,
   "id": "f81be2e5",
   "metadata": {
    "cell_style": "split",
    "slideshow": {
     "slide_type": "fragment"
    }
   },
   "outputs": [
    {
     "data": {
      "image/png": "[encoded data removed]",
      "text/plain": [
       "<Figure size 648x432 with 1 Axes>"
      ]
     },
     "metadata": {
      "filenames": {
       "image/png": "/mnt/d/OneDrive - Universidad Adolfo Ibanez/Teaching_courses/Metodos_Numericos/material_catedra/_build/jupyter_execute/1.4-Interpolacion/1.4-Interpolacion_65_0.png"
      },
      "needs_background": "light"
     },
     "output_type": "display_data"
    }
   ],
   "source": [
    "showplot()"
   ]
  },
  {
   "cell_type": "markdown",
   "id": "a440dc34",
   "metadata": {
    "cell_style": "center",
    "slideshow": {
     "slide_type": "slide"
    }
   },
   "source": [
    "Notar que ```interp1d``` de la librería ```scipy.interpolate``` requiere 2 argumentos, mientras que ```numpy.interp``` requiere 3:\n",
    "```python \n",
    "from scipy.interpolate import interp1d\n",
    "y = interp1d(xi,yi) # Genera una función y(x)\n",
    "...\n",
    "from numpy import interp\n",
    "y = interp(x,xi,yi) # Genera un arreglo en base a \"x\"\n",
    "```"
   ]
  },
  {
   "cell_type": "markdown",
   "id": "a75b0f1a",
   "metadata": {
    "slideshow": {
     "slide_type": "fragment"
    }
   },
   "source": [
    "Por defecto, los métodos de interpolación lineal no están diseñados para extrapolar:\n",
    "- La función ```interp1d``` de ```scipy.interpolate``` arrojará un error si el valor $x$ está fuera de los límites de interpolación. \n",
    "\n",
    "- Por otro lado, ```interp``` de ```numpy``` entregará un valor ```NaN```."
   ]
  },
  {
   "cell_type": "markdown",
   "id": "016c4eee",
   "metadata": {
    "slideshow": {
     "slide_type": "slide"
    }
   },
   "source": [
    "### Interpolación *spline* cúbico\n",
    "El *sline* cúbico consiste en generar una función de interpolación basado en una serie de polinomios cúbicos $S_i(x) = a_i x^3 + b_i x^2 + c_i x + d_i$, cada uno definido en el tramo $x\\in\\left[x_i, x_{i+1}\\right]$"
   ]
  },
  {
   "cell_type": "markdown",
   "id": "f30c255e",
   "metadata": {
    "slideshow": {
     "slide_type": "fragment"
    }
   },
   "source": [
    "Para encontrar la función de interpolación debemos determinar los coecientes $a_i, b_i, c_i, d_i$ de cada $S_i(x)$."
   ]
  },
  {
   "cell_type": "markdown",
   "id": "31eee62d",
   "metadata": {
    "slideshow": {
     "slide_type": "fragment"
    }
   },
   "source": [
    "Considerando una serie de datos $\\{x_i, y_i\\}$, con $i = 0,1,...,n$, el *spline* cúbico necesita $n$ polinomios $S_i(x)$, lo que nos da un total de $4n$ incognitas. Por lo tanto, necesitamos $4n$ ecuaciones linealmente independientes."
   ]
  },
  {
   "cell_type": "markdown",
   "id": "e5d35eca",
   "metadata": {
    "slideshow": {
     "slide_type": "slide"
    }
   },
   "source": [
    "Primero, cada polinomio $S_i(x)$ debe intersectar los valores extremos del domino en el que está definido. En otras palabras:\n",
    "\n",
    "\\begin{eqnarray*}\n",
    "S_i(x_{i-1}) &=& y_{i-1},\\quad &i& = 1,\\ldots,n,\\\\\n",
    "S_i(x_i) &=& y_i,\\quad &i& = 1,\\ldots,n,\n",
    "\\end{eqnarray*}\n",
    "\n",
    "esto nos da un total de $2n$ ecuaciones linealmente independientes"
   ]
  },
  {
   "cell_type": "markdown",
   "id": "5d4af375",
   "metadata": {
    "slideshow": {
     "slide_type": "fragment"
    }
   },
   "source": [
    "La segunda condición viene de la unión entre los polinomios. Para asegurar una unión suave entre cada tramo, imponemos las condiciones:\n",
    "\n",
    "\\begin{eqnarray*}\n",
    "S^{\\prime}_i(x_{i}) &=& S^{\\prime}_{i+1}(x_{i}),\\quad i = 1,\\ldots,n-1,\\\\\n",
    "S''_i(x_{i}) &=& S''_{i+1}(x_{i}),\\quad i = 1,\\ldots,n-1,\n",
    "\\end{eqnarray*}\n",
    "\n",
    "lo que nos da un total de $2(n - 1)$ ecuaciones linealmente independientes."
   ]
  },
  {
   "cell_type": "markdown",
   "id": "0b82bec0",
   "metadata": {
    "slideshow": {
     "slide_type": "slide"
    }
   },
   "source": [
    "Las últimas dos ecuaciones se determinan por las condiciones de borde en los extremos $y(x_0)$,  $y(x_n)$. Tenemos distintas alternativas:"
   ]
  },
  {
   "cell_type": "markdown",
   "id": "4dad4c74",
   "metadata": {
    "slideshow": {
     "slide_type": "fragment"
    }
   },
   "source": [
    "- ***Not a knot***. Imponemos una condición para la tercera derivada en los extremos, de manera que $S_1'''(x_1) = S_2'''(x_1)$ y $S_{n-1}'''(x_{n-1}) = S_n'''(x_{n-1})$"
   ]
  },
  {
   "cell_type": "markdown",
   "id": "876d90f3",
   "metadata": {
    "slideshow": {
     "slide_type": "fragment"
    }
   },
   "source": [
    "- ***Clamped***. La primera derivada en los extremos, $S_1'(x_0) = S_n'(x_n) = 0$"
   ]
  },
  {
   "cell_type": "markdown",
   "id": "84590af9",
   "metadata": {
    "slideshow": {
     "slide_type": "fragment"
    }
   },
   "source": [
    "- ***Natural***. La segunda derivada en los extremos, $S_1''(x_0) = S_n''(x_n) = 0$"
   ]
  },
  {
   "cell_type": "markdown",
   "id": "1dc82bc4",
   "metadata": {
    "slideshow": {
     "slide_type": "fragment"
    }
   },
   "source": [
    "- ***Periodic***. Se usume una función periódica, de manera que $S_1'(x_0) = S_n'(x_n)$, y $S_1''(x_0) = S_n''(x_n)$. **Solo válida para funciones periodicas**, es decir cuando $y(x_0) = y(x_n)$."
   ]
  },
  {
   "cell_type": "markdown",
   "id": "86f1268d",
   "metadata": {
    "slideshow": {
     "slide_type": "slide"
    }
   },
   "source": [
    "En python, interpolación cúbica está implementada a través de la función ```CubicSpline``` de la librería ```scipy.interpolate``` (para documentación ver [acá](https://docs.scipy.org/doc/scipy/reference/generated/scipy.interpolate.CubicSpline.html))."
   ]
  },
  {
   "cell_type": "markdown",
   "id": "c3d3efbb",
   "metadata": {
    "slideshow": {
     "slide_type": "fragment"
    }
   },
   "source": [
    "```CubicSpline``` genera una **función de interpolación** a partir de la muestra $x_i, y_i$\n",
    "```python \n",
    "from scipy.interpolate import CubicSpline\n",
    "y = CubicSpline(xi,yi) # Genera una función y(x)\n",
    "```"
   ]
  },
  {
   "cell_type": "markdown",
   "id": "b1257363",
   "metadata": {
    "slideshow": {
     "slide_type": "slide"
    }
   },
   "source": [
    "Podemos controlar las condiciones de borde mediante un tercer argumento ```bc_type```:\n",
    "```python \n",
    "from scipy.interpolate import CubicSpline\n",
    "y = CubicSpline(xi,yi,bc_type='not-a-knot') # Condición de borde not a knot\n",
    "\n",
    "y = CubicSpline(xi,yi,bc_type='periodic')   # Condición de borde periodica\n",
    "\n",
    "y = CubicSpline(xi,yi,bc_type='clamped')    # Condición de borde \"clamped\"\n",
    "\n",
    "y = CubicSpline(xi,yi,bc_type='natural')    # Condición de borde\"natural\"\n",
    "```"
   ]
  },
  {
   "cell_type": "markdown",
   "id": "cd892c98",
   "metadata": {
    "slideshow": {
     "slide_type": "fragment"
    }
   },
   "source": [
    "También podemos usar ```bc_type``` para especificar el valor de las derivadas en los extremos:\n",
    "```python \n",
    "from scipy.interpolate import CubicSpline\n",
    "# Primera derivada = 0.5 en los extremos\"\n",
    "y = CubicSpline(xi,yi,bc_type=((1, 0.5), (1, 0.5))) \n",
    "\n",
    "# Segunda derivada = 0.5 en los extremos\"\n",
    "y = CubicSpline(xi,yi,bc_type=((2, 0.5), (2, 0.5)) ) \n",
    "```"
   ]
  },
  {
   "cell_type": "markdown",
   "id": "1eb437d4",
   "metadata": {
    "slideshow": {
     "slide_type": "slide"
    }
   },
   "source": [
    "Particularmente, la instrucción: \n",
    "- ```bc_type=((1, 0.0), (1, 0.0))``` es equivalente a ```clamped```, y\n",
    "- ```bc_type=((2, 0.0), (2, 0.0))``` es equivalente a ```natural```."
   ]
  },
  {
   "cell_type": "markdown",
   "id": "5f5ea2d7",
   "metadata": {
    "slideshow": {
     "slide_type": "fragment"
    }
   },
   "source": [
    "Por defecto, ```CubicSpline```asume ```bc_type='not-a-knot'```"
   ]
  },
  {
   "cell_type": "markdown",
   "id": "bab6e5d9",
   "metadata": {
    "slideshow": {
     "slide_type": "slide"
    }
   },
   "source": [
    "Analicemos el comportamiento de las condiciones de borde ```not-a-knot```, ```clamped```y ```spline``` en la interpolación spline de los datos *$x_i$ = [3, 5, 7, 9]*, *$y_i$ = [2.5, 1.5, 2.0, 1.8]*"
   ]
  },
  {
   "cell_type": "code",
   "execution_count": 21,
   "id": "9e49b795",
   "metadata": {
    "slideshow": {
     "slide_type": "fragment"
    }
   },
   "outputs": [],
   "source": [
    "from scipy.interpolate import CubicSpline\n",
    "import numpy as np\n",
    "\n",
    "xi = np.array([  3,   5,   7,   9])\n",
    "yi = np.array([2.5, 1.5, 2.0, 1.8])\n",
    "\n",
    "# Generamos 3 funciones de interpolación \"spline\" con distintas condiciones de borde\n",
    "y_1 = CubicSpline(xi,yi,bc_type='not-a-knot')\n",
    "y_2 = CubicSpline(xi,yi,bc_type='clamped')\n",
    "y_3 = CubicSpline(xi,yi,bc_type='natural')"
   ]
  },
  {
   "cell_type": "code",
   "execution_count": 22,
   "id": "9a997ebd",
   "metadata": {
    "cell_style": "split",
    "slideshow": {
     "slide_type": "slide"
    }
   },
   "outputs": [],
   "source": [
    "%%capture showplot\n",
    "\n",
    "import matplotlib.pyplot as plt\n",
    "import numpy as np\n",
    "plt.figure(figsize = (9, 7))           # Tamaño de figura\n",
    "plt.rcParams.update({'font.size': 18}) # Tamaño de fuente\n",
    "\n",
    "x = np.linspace(2,10,100) # variable para graficarS\n",
    "\n",
    "plt.plot(xi, yi, 'ok')                         # graficamos los xi, yi\n",
    "plt.plot(x, y_1(x), '-b', label='not-a-knot')  # graficamos la función\n",
    "plt.plot(x, y_2(x), '-r', label='clamped')     # graficamos la función\n",
    "plt.plot(x, y_3(x), '-g', label='natural')     # graficamos la función\n",
    "\n",
    "plt.title('Interpolación spline')\n",
    "plt.xlabel('x')\n",
    "plt.ylabel('y')\n",
    "plt.grid()\n",
    "plt.legend(frameon=False)\n",
    "plt.show()"
   ]
  },
  {
   "cell_type": "code",
   "execution_count": 23,
   "id": "2fa434fd",
   "metadata": {
    "cell_style": "split"
   },
   "outputs": [
    {
     "data": {
      "image/png": "[encoded data removed]",
      "text/plain": [
       "<Figure size 648x504 with 1 Axes>"
      ]
     },
     "metadata": {
      "filenames": {
       "image/png": "/mnt/d/OneDrive - Universidad Adolfo Ibanez/Teaching_courses/Metodos_Numericos/material_catedra/_build/jupyter_execute/1.4-Interpolacion/1.4-Interpolacion_87_0.png"
      },
      "needs_background": "light"
     },
     "output_type": "display_data"
    }
   ],
   "source": [
    "showplot()"
   ]
  },
  {
   "cell_type": "markdown",
   "id": "09f7686c",
   "metadata": {
    "slideshow": {
     "slide_type": "slide"
    }
   },
   "source": [
    "Por defecto, ```CubicSpline``` extrapola los valores fuera de los valores extremos. Podemos suprimir la extrapolación mediante la instrucción ```extrapolate=False```. En este caso, la función entregará ```NaN``` para los valores extrapolados."
   ]
  },
  {
   "cell_type": "code",
   "execution_count": 24,
   "id": "062a5dbb",
   "metadata": {
    "cell_style": "split",
    "slideshow": {
     "slide_type": "fragment"
    }
   },
   "outputs": [],
   "source": [
    "%%capture showplot\n",
    "from scipy.interpolate import CubicSpline\n",
    "import matplotlib.pyplot as plt\n",
    "import numpy as np\n",
    "\n",
    "xi = np.array([  3,   5,   7,   9])\n",
    "yi = np.array([2.5, 1.5, 2.0, 1.8])\n",
    "\n",
    "# spline \"not a knot\" sin extrapolación\n",
    "y_1 = CubicSpline(xi,yi,extrapolate=False)\n",
    "\n",
    "plt.figure(figsize = (9, 6))           # Tamaño de figura\n",
    "plt.rcParams.update({'font.size': 18}) # Tamaño de fuente\n",
    "\n",
    "x = np.linspace(2,10,100) # arreglo para graficar\n",
    "\n",
    "plt.plot(xi, yi, 'ok')     # graficamos los xi, yi\n",
    "plt.plot(x, y_1(x), '-b')  # graficamos la función\n",
    "\n",
    "plt.title('Interpolación spline')\n",
    "plt.xlabel('x')\n",
    "plt.ylabel('y')\n",
    "plt.grid()\n",
    "plt.show()"
   ]
  },
  {
   "cell_type": "code",
   "execution_count": 25,
   "id": "9d96a80a",
   "metadata": {
    "cell_style": "split"
   },
   "outputs": [
    {
     "data": {
      "image/png": "[encoded data removed]",
      "text/plain": [
       "<Figure size 648x432 with 1 Axes>"
      ]
     },
     "metadata": {
      "filenames": {
       "image/png": "/mnt/d/OneDrive - Universidad Adolfo Ibanez/Teaching_courses/Metodos_Numericos/material_catedra/_build/jupyter_execute/1.4-Interpolacion/1.4-Interpolacion_90_0.png"
      },
      "needs_background": "light"
     },
     "output_type": "display_data"
    }
   ],
   "source": [
    "showplot()"
   ]
  },
  {
   "cell_type": "markdown",
   "id": "b8cd9d1e",
   "metadata": {
    "slideshow": {
     "slide_type": "slide"
    }
   },
   "source": [
    "```CubicSpline``` además nos permite determinar las derivadas de la función de interpolación. Para esto, debemos incluir un índice en el segundo argumento de la función generada:\n",
    "```python\n",
    "from scipy.interpolate import CubicSpline\n",
    "y = CubicSpline(xi,yi) # Generamos la función de interpolación\n",
    "\n",
    "# Derivadas\n",
    "y(x,1) # Primera derivada\n",
    "y(x,2) # Segunda derivada\n",
    "y(x,3) # Tercera derivada\n",
    "```"
   ]
  },
  {
   "cell_type": "markdown",
   "id": "d9b3e77f",
   "metadata": {
    "slideshow": {
     "slide_type": "fragment"
    }
   },
   "source": [
    "Debido a que ```CubicSpline``` está basada en un polinomio de interpolación cúbico, **solo admite hasta la tercera derivada**."
   ]
  },
  {
   "cell_type": "code",
   "execution_count": 26,
   "id": "f780f5e5",
   "metadata": {
    "cell_style": "center",
    "slideshow": {
     "slide_type": "slide"
    }
   },
   "outputs": [],
   "source": [
    "%%capture showplot\n",
    "from scipy.interpolate import CubicSpline\n",
    "import matplotlib.pyplot as plt\n",
    "import numpy as np\n",
    "\n",
    "xi = np.linspace(-2*np.pi,2*np.pi,20)\n",
    "yi = np.sin(xi)\n",
    "\n",
    "# spline \"not a knot\"\n",
    "y_1 = CubicSpline(xi,yi)\n",
    "\n",
    "plt.figure(figsize = (9, 6))           # Tamaño de figura\n",
    "plt.rcParams.update({'font.size': 18}) # Tamaño de fuente\n",
    "\n",
    "x = np.linspace(-2*np.pi,2*np.pi,100) # arreglo para graficar\n",
    "\n",
    "plt.plot(x, y_1(x), '--k',label=r\"$y(x)$\")      # graficamos la función\n",
    "plt.plot(x, y_1(x,1), '-b',label=r\"$y'(x)$\")   # primera derivada\n",
    "plt.plot(x, y_1(x,2), '-r',label=r\"$y''(x)$\")  # segunda derivada\n",
    "plt.plot(x, y_1(x,3), '-g',label=r\"$y'''(x)$\") # segunda derivada\n",
    "\n",
    "plt.title('Derivadas interpolación spline')\n",
    "plt.xlabel('x')\n",
    "plt.ylabel('y')\n",
    "plt.ylim(-2,2)\n",
    "plt.grid()\n",
    "plt.legend()\n",
    "plt.show()"
   ]
  },
  {
   "cell_type": "code",
   "execution_count": 27,
   "id": "e72c99bc",
   "metadata": {
    "cell_style": "center",
    "slideshow": {
     "slide_type": "slide"
    }
   },
   "outputs": [
    {
     "data": {
      "image/png": "[encoded data removed]",
      "text/plain": [
       "<Figure size 648x432 with 1 Axes>"
      ]
     },
     "metadata": {
      "filenames": {
       "image/png": "/mnt/d/OneDrive - Universidad Adolfo Ibanez/Teaching_courses/Metodos_Numericos/material_catedra/_build/jupyter_execute/1.4-Interpolacion/1.4-Interpolacion_94_0.png"
      },
      "needs_background": "light"
     },
     "output_type": "display_data"
    }
   ],
   "source": [
    "showplot()"
   ]
  },
  {
   "cell_type": "markdown",
   "id": "d9d5c297",
   "metadata": {
    "slideshow": {
     "slide_type": "slide"
    }
   },
   "source": [
    "## Interpolación multidimensional\n",
    "Los métodos de interpolación por tramos revisados anteriormente pueden ser extendidos para problemas multidimensionales. Por ejemplo, en el caso 2D, el problema consiste en determinar un valor $z= f(x,y)$, interpolado entre los valores extremos $f(x_1,y_1)$, $f(x_1,y_2)$, $f(x_2,y_1)$ y $f(x_2,y_2)$.\n",
    "\n",
    "<img src=\"./images/2dinterpolation.png\" width=\"550\" align= center>"
   ]
  },
  {
   "cell_type": "markdown",
   "id": "e9ff4404",
   "metadata": {
    "slideshow": {
     "slide_type": "slide"
    }
   },
   "source": [
    "### Interpolación 2D\n",
    "Para interpolacion 2D, la librería ```scipy.interpolate``` posee la funcion ```interp2d``` (para documentación ver [acá](https://docs.scipy.org/doc/scipy/reference/generated/scipy.interpolate.interp2d.html)). Esta función retorna una **función** $z = f(x,y)$. \n",
    "\n",
    "Para los inputs, ```interp2d``` requiere, al menos, tres argumentos ```(x, y, z)```, donde: \n",
    "- ```x``` e ```y``` corresponden a los valores $x_i$ y $y_j$ en formato **arreglo 1D**, o **cuadrídula 2D** generada por ```meshgrid``` \n",
    "- ```z``` corresponde a los valores $z_{ij}$ en formato de **cuadrídula 2D**. "
   ]
  },
  {
   "cell_type": "markdown",
   "id": "cf13bfb6",
   "metadata": {
    "slideshow": {
     "slide_type": "fragment"
    }
   },
   "source": [
    "Mediante la intrucción opcional ```kind``` podemos especificar el tipo de polinomio de interpolación. Usamos ```'linear'``` para interpolación linear y ```'cubic'``` para interpolación cúbica. Por defecto, ```kind='linear'```"
   ]
  },
  {
   "cell_type": "markdown",
   "id": "1096b874",
   "metadata": {
    "slideshow": {
     "slide_type": "slide"
    }
   },
   "source": [
    "En el siguiente ejemplo, usamos ```interp2d``` para interpolar una serie de datos $x_i\\in\\left[-5,5\\right]$ y $y_j\\in\\left[-5,5\\right]$, igualmente espaciados con $\\Delta x = \\Delta y = 0.25$. El valor de $z_{ij}$ es generado a partir de la función $z=\\sin\\left(x^2+y^2\\right)$"
   ]
  },
  {
   "cell_type": "code",
   "execution_count": 28,
   "id": "e3056d17",
   "metadata": {
    "slideshow": {
     "slide_type": "fragment"
    }
   },
   "outputs": [
    {
     "name": "stdout",
     "output_type": "stream",
     "text": [
      "Función de interpolación\n",
      "z(x=0.15, y=2.45) =  [-0.25105047]\n"
     ]
    }
   ],
   "source": [
    "from scipy.interpolate import interp2d\n",
    "\n",
    "# xi, y yj en formato arreglo 1D\n",
    "xi = np.arange(-5, 5, 0.25)\n",
    "yj = np.arange(-5, 5, 0.25)\n",
    "\n",
    "# Cuadrícula 2D generada por meshgrid\n",
    "xxi, yyj = np.meshgrid(xi, yj)\n",
    "\n",
    "# generamos una cuadrícula 2D para zij a partir de la función sin(x^2 + y^2)\n",
    "zij = np.sin(xxi**2+yyj**2)\n",
    "\n",
    "# Función de interpolación\n",
    "f = interp2d(xi, yj, zij, kind='cubic')\n",
    "\n",
    "print('Función de interpolación')\n",
    "print('z(x=0.15, y=2.45) = ', f(0.15,2.45))"
   ]
  },
  {
   "cell_type": "markdown",
   "id": "a78b05f9",
   "metadata": {
    "slideshow": {
     "slide_type": "slide"
    }
   },
   "source": [
    "### Interpolación en 3 o más dimensiones\n",
    "Para interpolación con más de 2 dimensiones, ```scipy.interpolate``` cuenta con la función ```interpn```. \n",
    "\n",
    "La discusión respecto a esta función está fuera de los alcances del curso. Sin embargo, puede encontrar más información en la [documentación oficial](https://docs.scipy.org/doc/scipy/reference/generated/scipy.interpolate.interpn.html)."
   ]
  },
  {
   "cell_type": "markdown",
   "id": "33d3b1b6",
   "metadata": {
    "slideshow": {
     "slide_type": "slide"
    }
   },
   "source": [
    "## Referencias\n",
    "- Kong Q., Siauw T., Bayen A. M. **Chapter 16: Interpolation** in *[Python Programming and Numerical Methods – A Guide for Engineers and Scientists](https://pythonnumericalmethods.berkeley.edu/notebooks/chapter17.00-Interpolation.html)*, 1st Ed., Academic Press, 2021\n",
    "\n",
    "- Chapra S., Canale R. **Capítulo 18: Interpolación** en *Métodos Numéricos para Ingenieros*, 6ta Ed., McGraw Hill, 2011"
   ]
  }
 ],
 "metadata": {
  "celltoolbar": "Slideshow",
  "kernelspec": {
   "display_name": "Python 3 (ipykernel)",
   "language": "python",
   "name": "python3"
  },
  "language_info": {
   "codemirror_mode": {
    "name": "ipython",
    "version": 3
   },
   "file_extension": ".py",
   "mimetype": "text/x-python",
   "name": "python",
   "nbconvert_exporter": "python",
   "pygments_lexer": "ipython3",
   "version": "3.9.13"
  },
  "latex_envs": {
   "LaTeX_envs_menu_present": true,
   "autoclose": false,
   "autocomplete": true,
   "bibliofile": "biblio.bib",
   "cite_by": "apalike",
   "current_citInitial": 1,
   "eqLabelWithNumbers": true,
   "eqNumInitial": 1,
   "hotkeys": {
    "equation": "Ctrl-E",
    "itemize": "Ctrl-I"
   },
   "labels_anchors": false,
   "latex_user_defs": false,
   "report_style_numbering": true,
   "user_envs_cfg": false
  },
  "rise": {
   "height": "100%",
   "theme": "simple",
   "width": "100%"
  },
  "toc": {
   "base_numbering": "",
   "nav_menu": {},
   "number_sections": false,
   "sideBar": true,
   "skip_h1_title": true,
   "title_cell": "Contenidos",
   "title_sidebar": "Contenidos",
   "toc_cell": false,
   "toc_position": {
    "height": "calc(100% - 180px)",
    "left": "10px",
    "top": "150px",
    "width": "303.837px"
   },
   "toc_section_display": true,
   "toc_window_display": false
  },
  "varInspector": {
   "cols": {
    "lenName": 16,
    "lenType": 16,
    "lenVar": 40
   },
   "kernels_config": {
    "python": {
     "delete_cmd_postfix": "",
     "delete_cmd_prefix": "del ",
     "library": "var_list.py",
     "varRefreshCmd": "print(var_dic_list())"
    },
    "r": {
     "delete_cmd_postfix": ") ",
     "delete_cmd_prefix": "rm(",
     "library": "var_list.r",
     "varRefreshCmd": "cat(var_dic_list()) "
    }
   },
   "types_to_exclude": [
    "module",
    "function",
    "builtin_function_or_method",
    "instance",
    "_Feature"
   ],
   "window_display": false
  }
 },
 "nbformat": 4,
 "nbformat_minor": 5
}
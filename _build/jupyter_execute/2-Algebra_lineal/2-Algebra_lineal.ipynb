{
 "cells": [
  {
   "cell_type": "markdown",
   "id": "6d47d103",
   "metadata": {
    "slideshow": {
     "slide_type": "slide"
    }
   },
   "source": [
    "<font size=\"6\">MEC301 - Métodos Numéricos</font>\n",
    "# Algebra lineal y sistemas de ecuaciones lineales\n",
    "<br><br><br><br>\n",
    "Profesor: Francisco Ramírez Cuevas<br>\n",
    "Fecha: 8 de Agosto 2022"
   ]
  },
  {
   "cell_type": "markdown",
   "id": "ced00fe8",
   "metadata": {
    "slideshow": {
     "slide_type": "slide"
    }
   },
   "source": [
    "## Introducción a los sistemas de ecuaciones lineales"
   ]
  },
  {
   "cell_type": "markdown",
   "id": "a1ba08f0",
   "metadata": {
    "cell_style": "split",
    "slideshow": {
     "slide_type": "-"
    }
   },
   "source": [
    "Consideremos el caso de tres personas conectada por cuerdas elásticas.\n",
    "\n",
    "<img src=\"./images/bungee_man.png\" width=\"300\" align= center>"
   ]
  },
  {
   "cell_type": "markdown",
   "id": "2ddda37d",
   "metadata": {
    "cell_style": "split"
   },
   "source": [
    "En la primera figura (a), los tres cuerpos están en la posición inicial de forma que los elásticos están totalmente extendidos, **pero no estirados**. Definimos el cambio en la posición inicial de cada persona, como: $x_1$, $x_2$, $x_3$.\n",
    "\n",
    "Cuando los cuerpos se dejan caer, los elásticos se extienden por la gravedad y cada cuerpo toma la posición indicada en (b)."
   ]
  },
  {
   "cell_type": "markdown",
   "id": "e1b351c0",
   "metadata": {
    "slideshow": {
     "slide_type": "slide"
    }
   },
   "source": [
    "Analizamos el cambio en la posición de cada persona utilizando la ley de Newton:"
   ]
  },
  {
   "cell_type": "markdown",
   "id": "bcb58fd4",
   "metadata": {
    "cell_style": "split",
    "slideshow": {
     "slide_type": "-"
    }
   },
   "source": [
    "*Diagrama de cuerpo libre*\n",
    "\n",
    "<img src=\"./images/bungee_man_solve.png\" width=\"300\" align= center>"
   ]
  },
  {
   "cell_type": "markdown",
   "id": "6c6de0dc",
   "metadata": {
    "cell_style": "split",
    "slideshow": {
     "slide_type": "-"
    }
   },
   "source": [
    "\\begin{align*}\n",
    "m_1\\frac{d^2 x_1}{dt^2} &= m_1g + k_2(x_2 - x_1) - k_1 x_1 \\\\\n",
    "m_2\\frac{d^2 x_2}{dt^2} &= m_2g + k_3(x_3 - x_2) - k_2 (x_1 - x_2) \\\\\n",
    "m_3\\frac{d^2 x_3}{dt^2} &= m_3g + k_3(x_2 - x_3)\n",
    "\\end{align*}"
   ]
  },
  {
   "cell_type": "markdown",
   "id": "386e88b2",
   "metadata": {
    "cell_style": "split"
   },
   "source": [
    "En condiciones de equilibrio:\n",
    "\n",
    "\\begin{align*}\n",
    "(k_1 + k_2)x_1\\;\\;\\;\\;\\;\\;\\;\\;\\; - k_2x_2 \\;\\;\\;\\;\\;\\;\\;\\;\\;\\;\\,&=  m_1g\\\\\n",
    "- k_2x_1 + (k_2 + k_3)x_2 - k_3x_3  &= m_2g\\\\\n",
    "- k_3x_2 + k_3x_3 &= m_3g\n",
    "\\end{align*}"
   ]
  },
  {
   "cell_type": "markdown",
   "id": "c51f43b6",
   "metadata": {
    "slideshow": {
     "slide_type": "slide"
    }
   },
   "source": [
    "En el ejemplo anterior, derivamos un sistema de ecuaciones lineales con 3 incognitas el cual podemos resolver con técnicas analíticas."
   ]
  },
  {
   "cell_type": "markdown",
   "id": "ae94a01d",
   "metadata": {
    "cell_style": "split"
   },
   "source": [
    "Sin embargo, si el sistema es más grande, como por ejemplo un reticulado de vigas:\n",
    "\n",
    "<img src=\"./images/beam_lattice.png\" width=\"300\" align= center>"
   ]
  },
  {
   "cell_type": "markdown",
   "id": "174bb637",
   "metadata": {
    "cell_style": "split"
   },
   "source": [
    "Tenemos un sistema de ecuaciones con un gran número de incognitas y debemos recurrir a métodos más eficientes para poder resolverlos."
   ]
  },
  {
   "cell_type": "markdown",
   "id": "e332a924",
   "metadata": {
    "slideshow": {
     "slide_type": "slide"
    }
   },
   "source": [
    "Este es el enfoque que utilizan los software de modelación computacional, tales como: el método de elementos finitos (FEM), métodos de los momentos (MoM), o volúmenes finitos (VEM).\n",
    "\n",
    "<img src=\"./images/fem_beam_lattice.png\" width=\"600\" align= center>"
   ]
  },
  {
   "cell_type": "markdown",
   "id": "d6b3aa8c",
   "metadata": {
    "slideshow": {
     "slide_type": "slide"
    }
   },
   "source": [
    "### Definición general"
   ]
  },
  {
   "cell_type": "markdown",
   "id": "cad3e602",
   "metadata": {},
   "source": [
    "Decimos que una ecuación es lineal cuando: \n",
    "1. Todas sus incognitas están **únicamente** separadas por sumas o restas\n",
    "2. El exponente de cada incognita es $1$.\n",
    "\n",
    "Por ejemplo,\n",
    "- $3x_1 + 4x_2 - 3 = -5x_3$ (lineal)\n",
    "\n",
    "- $\\frac{-3x_1 + x_2}{x_3} = 2$ (no es lineal,  pero podemos la podemos transformar en una ecuación lineal: \n",
    "$$ -3x_1 + x_2 -2x_3 = 0 )$$\n",
    "\n",
    "- $x_1 x_2 + x_3 = 5$ (no lineal)\n",
    "\n",
    "- $x_1 + 3x_2 + x_3^4 = 3$ (no lineal)"
   ]
  },
  {
   "cell_type": "markdown",
   "id": "eef0a62d",
   "metadata": {
    "slideshow": {
     "slide_type": "slide"
    }
   },
   "source": [
    "> Un sistema de ecuaciones lineales esta compuesto por más de una ecuación lineal, tal como en el ejemplo de las personas conectadas por cuerdas elásticas\n",
    "\n",
    "\\begin{align*}\n",
    "(k_1 + k_2)x_1\\;\\;\\;\\;\\;\\;\\;\\;\\; - k_2x_2 \\;\\;\\;\\;\\;\\;\\;\\;\\;\\;\\,&=  m_1g\\\\\n",
    "- k_2x_1 + (k_2 + k_3)x_2 - k_3x_3  &= m_2g\\\\\n",
    "- k_3x_2 + k_3x_3 &= m_3g\n",
    "\\end{align*}"
   ]
  },
  {
   "cell_type": "markdown",
   "id": "b59f3ed8",
   "metadata": {
    "slideshow": {
     "slide_type": "slide"
    }
   },
   "source": [
    "### Representación matricial"
   ]
  },
  {
   "cell_type": "markdown",
   "id": "73a971cd",
   "metadata": {
    "cell_style": "center"
   },
   "source": [
    "Para resolver sistemas de ecuaciones lineal se utiliza la representación matricial. Esto permite la implementación computacional de los algoritmos.\n",
    "\n",
    "Por ejemplo, consideremos una ecuación lineal en su forma general:\n",
    "\n",
    "\\begin{eqnarray*}\n",
    "\\begin{array}{rcrcccccrcc}\n",
    "a_{1,1} x_1 &+& a_{1,2} x_2 &+& {\\ldots}& +& a_{1,n-1} x_{n-1} &+&a_{1,n} x_n &=& y_1,\\\\\n",
    "a_{2,1} x_1 &+& a_{2,2} x_2 &+&{\\ldots}& +& a_{2,n-1} x_{n-1} &+& a_{2,n} x_n &=& y_2, \\\\\n",
    "&&&&{\\ldots} &&{\\ldots}&&&& \\\\\n",
    "a_{m-1,1}x_1 &+& a_{m-1,2}x_2&+ &{\\ldots}& +& a_{m-1,n-1} x_{n-1} &+& a_{m-1,n} x_n &=& y_{m-1},\\\\\n",
    "a_{m,1} x_1 &+& a_{m,2}x_2 &+ &{\\ldots}& +& a_{m,n-1} x_{n-1} &+& a_{m,n} x_n &=& y_{m}.\n",
    "\\end{array}\n",
    "\\end{eqnarray*}\n",
    "\n",
    "donde $a_{i,j}$ y $y_i$ son números reales."
   ]
  },
  {
   "cell_type": "markdown",
   "id": "2d6b1c62",
   "metadata": {
    "slideshow": {
     "slide_type": "slide"
    }
   },
   "source": [
    "La forma matricial de esta ecuación tiene la siguiente forma:"
   ]
  },
  {
   "cell_type": "markdown",
   "id": "34dfa1b4",
   "metadata": {
    "cell_style": "center",
    "slideshow": {
     "slide_type": "-"
    }
   },
   "source": [
    "$$\\begin{bmatrix}\n",
    "a_{1,1} & a_{1,2} & ... & a_{1,n}\\\\\n",
    "a_{2,1} & a_{2,2} & ... & a_{2,n}\\\\\n",
    "... & ... & ... & ... \\\\\n",
    "a_{m,1} & a_{m,2} & ... & a_{m,n}\n",
    "\\end{bmatrix}\\left[\\begin{array}{c} x_1 \\\\x_2 \\\\ ... \\\\x_n \\end{array}\\right] =\n",
    "\\left[\\begin{array}{c} y_1 \\\\y_2 \\\\ ... \\\\y_m \\end{array}\\right]$$"
   ]
  },
  {
   "cell_type": "markdown",
   "id": "0aa0db38",
   "metadata": {
    "cell_style": "center",
    "slideshow": {
     "slide_type": "slide"
    }
   },
   "source": [
    "O, similarmente, \n",
    "\n",
    "$$Ax = y,$$\n",
    "\n",
    "donde:\n",
    "\n",
    "$$A = \\begin{bmatrix}\n",
    "a_{1,1} & a_{1,2} & ... & a_{1,n}\\\\\n",
    "a_{2,1} & a_{2,2} & ... & a_{2,n}\\\\\n",
    "... & ... & ... & ... \\\\\n",
    "a_{m,1} & a_{m,2} & ... & a_{m,n}\n",
    "\\end{bmatrix},\\;\\;x= \\left[\\begin{array}{c} x_1 \\\\x_2 \\\\ ... \\\\x_n \\end{array}\\right],\\;\\;\\ y = \\left[\\begin{array}{c} y_1 \\\\y_2 \\\\ ... \\\\y_m \\end{array}\\right]$$ "
   ]
  },
  {
   "cell_type": "markdown",
   "id": "feaf7010",
   "metadata": {
    "cell_style": "center",
    "slideshow": {
     "slide_type": "slide"
    }
   },
   "source": [
    "De igual forma, el problema de las personas sujetas con elásticos, \n",
    "\n",
    "\\begin{align*}\n",
    "(k_1 + k_2)x_1\\;\\;\\;\\;\\;\\;\\;\\;\\; - k_2x_2 \\;\\;\\;\\;\\;\\;\\;\\;\\;\\;\\,&=  m_1g\\\\\n",
    "- k_2x_1 + (k_2 + k_3)x_2 - k_3x_3  &= m_2g\\\\\n",
    "- k_3x_2 + k_3x_3 &= m_3g,\n",
    "\\end{align*}"
   ]
  },
  {
   "cell_type": "markdown",
   "id": "e093b0fd",
   "metadata": {
    "cell_style": "center"
   },
   "source": [
    "se puede representar de forma matricial como:\n",
    "\n",
    "$$\\begin{bmatrix}\n",
    "k_1 + k_2 & -k_2 & 0 \\\\\n",
    "-k_2 & k_2 + k_3 & -k_3\\\\\n",
    "0 & -k_3 & k_3\n",
    "\\end{bmatrix}\n",
    "\\left[\\begin{array}{c} x_1 \\\\x_2 \\\\ x_3 \\end{array}\\right] =\n",
    "\\left[\\begin{array}{c} m_1g \\\\m_2g \\\\m_3g \\end{array}\\right]$$"
   ]
  },
  {
   "cell_type": "markdown",
   "id": "e19fffdc",
   "metadata": {
    "slideshow": {
     "slide_type": "slide"
    }
   },
   "source": [
    "### Repaso de matrices"
   ]
  },
  {
   "cell_type": "markdown",
   "id": "c3653780",
   "metadata": {
    "cell_style": "center"
   },
   "source": [
    "1. **Norma matricial.** Existen distintos tipos. La más conocida es la *p-norma*:\n",
    "\n",
    "   $$\\Vert M \\Vert_{p} = \\sqrt[p]{(\\sum_i^m \\sum_j^n |a_{ij}|^p)}$$\n",
    "   \n",
    "   Para $p = 2$, se llama *norma de Frobenius*"
   ]
  },
  {
   "cell_type": "markdown",
   "id": "7548e475",
   "metadata": {
    "cell_style": "center",
    "slideshow": {
     "slide_type": "slide"
    }
   },
   "source": [
    "2. **Determinante.** Se denota como $det(M)$, o $|M|$. **Solo se aplica a matrices cuadradas**.\n",
    "\n",
    "   Por ejemplo, para una matriz $2\\times2$, el determinante es:\n",
    "   \n",
    "   $$ |M| = \\begin{vmatrix} a & b \\\\ \n",
    "                             c & d\\\\ \n",
    "            \\end{vmatrix} = ad - bc,$$\n",
    "\n",
    "   para una matrix $3\\times3$:\n",
    "   \n",
    "\\begin{eqnarray*}\n",
    "|M| = \\begin{vmatrix}\n",
    "a & b & c \\\\\n",
    "d & e & f \\\\\n",
    "g & h & i \\\\\n",
    "\\end{vmatrix} & = & a\\begin{vmatrix}\n",
    "\\Box &\\Box  &\\Box  \\\\\n",
    "\\Box & e & f \\\\\n",
    "\\Box & h & i \\\\\n",
    "\\end{vmatrix} - b\\begin{vmatrix}\n",
    "\\Box &\\Box  &\\Box  \\\\\n",
    "d & \\Box & f \\\\\n",
    "g & \\Box & i \\\\\n",
    "\\end{vmatrix}+c\\begin{vmatrix}\n",
    "\\Box &\\Box  &\\Box  \\\\\n",
    "d & e & \\Box \\\\\n",
    "g & h & \\Box \\\\\n",
    "\\end{vmatrix} \\\\\n",
    "&&\\\\\n",
    "& = & a\\begin{vmatrix}\n",
    "e & f \\\\\n",
    "h & i \\\\\n",
    "\\end{vmatrix} - b\\begin{vmatrix}\n",
    "d & f \\\\\n",
    "g & i \\\\\n",
    "\\end{vmatrix}+c\\begin{vmatrix}\n",
    "d & e \\\\\n",
    "g & h \\\\\n",
    "\\end{vmatrix} \\\\ \n",
    "&&\\\\\n",
    "& = & aei - afh + bfg - bdi + cdh - ceg \n",
    "\\end{eqnarray*}"
   ]
  },
  {
   "cell_type": "markdown",
   "id": "4b84ec98",
   "metadata": {
    "slideshow": {
     "slide_type": "slide"
    }
   },
   "source": [
    "3. **Matriz identidad ($I$).** es una matriz cuadarada con $1$ en la diagonal, y $0$ en el resto de los elementos:\n",
    "\n",
    "$$I = \\begin{bmatrix}\n",
    "1 & 0 & 0 \\\\\n",
    "0 & 1 & 0 \\\\\n",
    "0 & 0 & 1 \\\\\n",
    "\\end{bmatrix}$$"
   ]
  },
  {
   "cell_type": "markdown",
   "id": "d9ebb73b",
   "metadata": {
    "cell_style": "center",
    "slideshow": {
     "slide_type": "slide"
    }
   },
   "source": [
    "4. **Matriz inversa.** Definimos la matriz inversa de $M$ como: $M^{-1}$. \n",
    "\n",
    "   - Solo existe para matrices cuadradas. \n",
    "   \n",
    "   - El producto de la matriz inversa por su diagonal es igual a la matriz identidad $M\\cdot M^{-1} = I$\n",
    "\n",
    "   - Para una matriz $2\\times2$, la matriz inversa está definida por:\n",
    "   \n",
    "   $$\n",
    "M^{-1} = \\begin{bmatrix}\n",
    "a & b \\\\\n",
    "c & d\\\\\n",
    "\\end{bmatrix}^{-1} = \\frac{1}{|M|}\\begin{bmatrix}\n",
    "d & -b \\\\\n",
    "-c & a\\\\\n",
    "\\end{bmatrix}$$\n",
    "\n",
    ">La solución analítica para determinar la matriz inversa se vuelve mas complicada a medida que aumentan las dimensiones de la matriz."
   ]
  },
  {
   "cell_type": "markdown",
   "id": "5eab489e",
   "metadata": {
    "cell_style": "center",
    "slideshow": {
     "slide_type": "slide"
    }
   },
   "source": [
    "### Representación en python\n",
    "Para representar sistemas de ecuciones lineales en python utilizamos variables del tipo *numyp array* de la libreria `numpy`."
   ]
  },
  {
   "cell_type": "markdown",
   "id": "bfe375b6",
   "metadata": {
    "cell_style": "split"
   },
   "source": [
    "Por ejemplo, para representar el sistema:\n",
    "\n",
    "\\begin{eqnarray*}\n",
    "3x_1 + 1x_2 - 5x_3 &=& 2 \\\\\n",
    "-2x_1 - 2x_2 + 5x_3 &=& 5 \\\\\n",
    "8x_1 + 3x_2  &=& -3 \\\\\n",
    "\\end{eqnarray*}"
   ]
  },
  {
   "cell_type": "code",
   "execution_count": 1,
   "id": "d7cab60d",
   "metadata": {
    "cell_style": "split"
   },
   "outputs": [
    {
     "name": "stdout",
     "output_type": "stream",
     "text": [
      "A:\n",
      " [[ 3  1 -5]\n",
      " [-2 -2  5]\n",
      " [ 8  3  3]]\n",
      "\n",
      "y:\n",
      " [[ 2]\n",
      " [ 5]\n",
      " [-3]]\n"
     ]
    }
   ],
   "source": [
    "import numpy as np\n",
    "\n",
    "A = np.array([[ 3,  1, -5],\n",
    "              [-2, -2,  5],\n",
    "              [ 8,  3,  3]])\n",
    "\n",
    "y = np.array([[2], [5], [-3]])\n",
    "\n",
    "print('A:\\n',A)\n",
    "print('\\ny:\\n',y)"
   ]
  },
  {
   "cell_type": "markdown",
   "id": "9ff38e85",
   "metadata": {
    "slideshow": {
     "slide_type": "slide"
    }
   },
   "source": [
    "La librería `linalg` de `numpy` tiene funciones predefinidas para calcular la norma, determinante y matriz inversa."
   ]
  },
  {
   "cell_type": "code",
   "execution_count": 2,
   "id": "5b5eb191",
   "metadata": {
    "cell_style": "split"
   },
   "outputs": [
    {
     "name": "stdout",
     "output_type": "stream",
     "text": [
      "norm(A) = 12.2474 (Frobenius por defecto)\n",
      "det(A) = -67.0000\n",
      "inv(A):\n",
      " [[ 0.31343284  0.26865672  0.07462687]\n",
      " [-0.68656716 -0.73134328  0.07462687]\n",
      " [-0.14925373  0.01492537  0.05970149]]\n"
     ]
    }
   ],
   "source": [
    "from numpy.linalg import norm, det, inv\n",
    "\n",
    "print('norm(A) = %.4f (Frobenius por defecto)'% norm(A))\n",
    "print('det(A) = %.4f' % det(A))\n",
    "print('inv(A):\\n',inv(A))"
   ]
  },
  {
   "cell_type": "code",
   "execution_count": 3,
   "id": "c83811b3",
   "metadata": {
    "cell_style": "split"
   },
   "outputs": [
    {
     "data": {
      "text/plain": [
       "array([[ 1.00000000e+00, -5.20417043e-18,  3.46944695e-17],\n",
       "       [ 0.00000000e+00,  1.00000000e+00,  2.08166817e-17],\n",
       "       [ 2.22044605e-16,  9.19403442e-17,  1.00000000e+00]])"
      ]
     },
     "execution_count": 3,
     "metadata": {},
     "output_type": "execute_result"
    }
   ],
   "source": [
    "# comprobamos la identidad A*A^-1 = I\n",
    "# usamos numpy.dot() para multiplicar matrices\n",
    "A.dot(inv(A))"
   ]
  },
  {
   "cell_type": "markdown",
   "id": "9b503955",
   "metadata": {
    "cell_style": "center"
   },
   "source": [
    "Para la matriz identidad utilizamos la función `eye` de la libreria `numpy`."
   ]
  },
  {
   "cell_type": "code",
   "execution_count": 4,
   "id": "5c551e5a",
   "metadata": {
    "cell_style": "center"
   },
   "outputs": [
    {
     "data": {
      "text/plain": [
       "array([[1., 0., 0.],\n",
       "       [0., 1., 0.],\n",
       "       [0., 0., 1.]])"
      ]
     },
     "execution_count": 4,
     "metadata": {},
     "output_type": "execute_result"
    }
   ],
   "source": [
    "np.eye(3)"
   ]
  },
  {
   "cell_type": "markdown",
   "id": "3926d6bd",
   "metadata": {
    "cell_style": "center",
    "slideshow": {
     "slide_type": "slide"
    }
   },
   "source": [
    "### Caracterización de sistemas de ecuaciones lineales\n",
    "*Un sistema de ecuaciones lineales tiene solución única, si y solo si el número de incognitas es igual al número de **ecuaciones linealmente independientes** en el sistema*"
   ]
  },
  {
   "cell_type": "markdown",
   "id": "ee3e9ac0",
   "metadata": {
    "cell_style": "split"
   },
   "source": [
    "Por ejemplo, el siguiente sistema de ecuaciones lineales:\n",
    "\n",
    "\\begin{eqnarray*}\n",
    "3x_1 + 1x_2 - 5x_3 &=& 2 \\\\\n",
    "-2x_1 - 2x_2 + 5x_3 &=& 5 \\\\\n",
    "4x_1 -5x_3  &=& 9 \\\\\n",
    "\\end{eqnarray*}\n",
    "\n",
    "No tiene solución única, ya que: $(\\mathrm{ec.~}3) = 2\\times(\\mathrm{ec.~}1) + (\\mathrm{ec.~}2)$"
   ]
  },
  {
   "cell_type": "markdown",
   "id": "595c7343",
   "metadata": {
    "cell_style": "split"
   },
   "source": [
    "Definimos el rango de la matriz $\\mathrm{rank}(A)$, como el número de filas (o columnas) linealmente independenientes.\n",
    "\n",
    "En python, $\\mathrm{rank}(A)$ está dado por la función `matrix_rank` de la librería `numpy.linalg`"
   ]
  },
  {
   "cell_type": "code",
   "execution_count": 5,
   "id": "c83e64ef",
   "metadata": {
    "cell_style": "split"
   },
   "outputs": [
    {
     "data": {
      "text/plain": [
       "2"
      ]
     },
     "execution_count": 5,
     "metadata": {},
     "output_type": "execute_result"
    }
   ],
   "source": [
    "from numpy.linalg import matrix_rank\n",
    "A = np.array([[ 3,  1, -5],\n",
    "              [-2, -2,  5],\n",
    "              [ 4,  0, -5]])\n",
    "matrix_rank(A)"
   ]
  },
  {
   "cell_type": "markdown",
   "id": "339d4ea7",
   "metadata": {
    "cell_style": "center",
    "slideshow": {
     "slide_type": "slide"
    }
   },
   "source": [
    "Consideremos la matrix aumentada $[A|y]$  como:\n",
    "\n",
    "$$[A|y] = \\begin{bmatrix}\n",
    "a_{1,1} & a_{1,2} & ... & a_{1,n} & y_1\\\\\n",
    "a_{2,1} & a_{2,2} & ... & a_{2,n} & y_2\\\\\n",
    "... & ... & ... & ... & ...\\\\\n",
    "a_{m,1} & a_{m,2} & ... & a_{m,n} & y_n\n",
    "\\end{bmatrix}$$ \n",
    "\n",
    "donde $A$ es una matriz $m\\times n$. Es decir, $m$ ecuaciones y $n$ incognitas.\n",
    "\n",
    "- **El sistema tiene solución única** si $\\mathrm{rank}\\left([A|y]\\right) = \\mathrm{rank}\\left(A\\right)$, y $\\mathrm{rank}\\left(A\\right) = n$\n",
    "\n",
    "\n",
    "- **El sistema tiene infinitas soluciones** si $\\mathrm{rank}\\left([A|y]\\right) = \\mathrm{rank}\\left(A\\right)$, y $\\mathrm{rank}\\left(A\\right) < n$\n",
    "\n",
    "\n",
    "- **El no tiene soluciones** si $\\mathrm{rank}\\left([A|y]\\right) = \\mathrm{rank}\\left(A\\right) + 1$"
   ]
  },
  {
   "cell_type": "markdown",
   "id": "695a0567",
   "metadata": {
    "cell_style": "split",
    "slideshow": {
     "slide_type": "slide"
    }
   },
   "source": [
    "En el caso del ejemplo anterior:\n",
    "\n",
    "\\begin{eqnarray*}\n",
    "3x_1 + 1x_2 - 5x_3 &=& 2 \\\\\n",
    "-2x_1 - 2x_2 + 5x_3 &=& 5 \\\\\n",
    "4x_1 -5x_3  &=& 4 \\\\\n",
    "\\end{eqnarray*}"
   ]
  },
  {
   "cell_type": "code",
   "execution_count": 6,
   "id": "60cc38a5",
   "metadata": {
    "cell_style": "split"
   },
   "outputs": [
    {
     "name": "stdout",
     "output_type": "stream",
     "text": [
      "[A|y] =\n",
      " [[ 3  1 -5  2]\n",
      " [-2 -2  5  5]\n",
      " [ 4  0 -5  4]]\n",
      "\n",
      "\n",
      "rank(A|b) = 3\n",
      "rank(A) = 2\n",
      "Número de incognitas, n = 3\n"
     ]
    }
   ],
   "source": [
    "y = np.array([[2], [5], [4]])\n",
    "Ay_aug = np.concatenate((A,y),axis = 1)\n",
    "print('[A|y] =\\n', Ay_aug)\n",
    "print('\\n')\n",
    "print('rank(A|b) =', matrix_rank(Ay_aug))\n",
    "print('rank(A) =', matrix_rank(A))\n",
    "print('Número de incognitas, n =', A.shape[1])"
   ]
  },
  {
   "cell_type": "markdown",
   "id": "b55e92a2",
   "metadata": {
    "cell_style": "center"
   },
   "source": [
    "\\begin{align*}\n",
    "\\mathrm{rank}\\left([A|y]\\right) &= \\mathrm{rank}\\left(A\\right) + 1 \\\\\n",
    "\\mathrm{rank}\\left(A\\right) &\\lt n\n",
    "\\end{align*}\n",
    "> **El sistema no tiene soluciones**"
   ]
  },
  {
   "cell_type": "markdown",
   "id": "500e8426",
   "metadata": {
    "slideshow": {
     "slide_type": "slide"
    }
   },
   "source": [
    "*Si $\\mathrm{det}(A) = 0$,  decimos que **la matriz es singular** y, por lo tanto, no es invertible.*"
   ]
  },
  {
   "cell_type": "markdown",
   "id": "bc683932",
   "metadata": {
    "cell_style": "split"
   },
   "source": [
    "Por ejemplo, la matriz:\n",
    "\n",
    "$$P = \\begin{bmatrix}\n",
    "1 & 2 & -1 \\\\\n",
    "2 & 3 &  0 \\\\\n",
    "1 & 1 &  1 \\\\\n",
    "\\end{bmatrix},$$\n",
    "\n",
    "es singular."
   ]
  },
  {
   "cell_type": "code",
   "execution_count": 7,
   "id": "d5f91c1c",
   "metadata": {
    "cell_style": "split"
   },
   "outputs": [
    {
     "name": "stdout",
     "output_type": "stream",
     "text": [
      "det(P) =  0.0\n"
     ]
    }
   ],
   "source": [
    "P = np.array([[ 1, 2,-1],\n",
    "              [ 2, 3, 0],\n",
    "              [ 1, 1, 1]])\n",
    "print('det(P) = ', det(P))"
   ]
  },
  {
   "cell_type": "markdown",
   "id": "6ecc3a38",
   "metadata": {
    "slideshow": {
     "slide_type": "slide"
    }
   },
   "source": [
    "y, por lo tanto, no es invertible:"
   ]
  },
  {
   "cell_type": "code",
   "execution_count": 8,
   "id": "4ccf47b8",
   "metadata": {
    "slideshow": {
     "slide_type": "-"
    }
   },
   "outputs": [
    {
     "ename": "LinAlgError",
     "evalue": "Singular matrix",
     "output_type": "error",
     "traceback": [
      "\u001b[0;31m---------------------------------------------------------------------------\u001b[0m",
      "\u001b[0;31mLinAlgError\u001b[0m                               Traceback (most recent call last)",
      "\u001b[0;32m/tmp/ipykernel_735/453559162.py\u001b[0m in \u001b[0;36m<module>\u001b[0;34m\u001b[0m\n\u001b[0;32m----> 1\u001b[0;31m \u001b[0mprint\u001b[0m\u001b[0;34m(\u001b[0m\u001b[0;34m'inv(P) = '\u001b[0m\u001b[0;34m,\u001b[0m \u001b[0minv\u001b[0m\u001b[0;34m(\u001b[0m\u001b[0mP\u001b[0m\u001b[0;34m)\u001b[0m\u001b[0;34m)\u001b[0m\u001b[0;34m\u001b[0m\u001b[0;34m\u001b[0m\u001b[0m\n\u001b[0m",
      "\u001b[0;32m~/programs/miniconda3/lib/python3.9/site-packages/numpy/core/overrides.py\u001b[0m in \u001b[0;36minv\u001b[0;34m(*args, **kwargs)\u001b[0m\n",
      "\u001b[0;32m~/programs/miniconda3/lib/python3.9/site-packages/numpy/linalg/linalg.py\u001b[0m in \u001b[0;36minv\u001b[0;34m(a)\u001b[0m\n\u001b[1;32m    550\u001b[0m     \u001b[0msignature\u001b[0m \u001b[0;34m=\u001b[0m \u001b[0;34m'D->D'\u001b[0m \u001b[0;32mif\u001b[0m \u001b[0misComplexType\u001b[0m\u001b[0;34m(\u001b[0m\u001b[0mt\u001b[0m\u001b[0;34m)\u001b[0m \u001b[0;32melse\u001b[0m \u001b[0;34m'd->d'\u001b[0m\u001b[0;34m\u001b[0m\u001b[0;34m\u001b[0m\u001b[0m\n\u001b[1;32m    551\u001b[0m     \u001b[0mextobj\u001b[0m \u001b[0;34m=\u001b[0m \u001b[0mget_linalg_error_extobj\u001b[0m\u001b[0;34m(\u001b[0m\u001b[0m_raise_linalgerror_singular\u001b[0m\u001b[0;34m)\u001b[0m\u001b[0;34m\u001b[0m\u001b[0;34m\u001b[0m\u001b[0m\n\u001b[0;32m--> 552\u001b[0;31m     \u001b[0mainv\u001b[0m \u001b[0;34m=\u001b[0m \u001b[0m_umath_linalg\u001b[0m\u001b[0;34m.\u001b[0m\u001b[0minv\u001b[0m\u001b[0;34m(\u001b[0m\u001b[0ma\u001b[0m\u001b[0;34m,\u001b[0m \u001b[0msignature\u001b[0m\u001b[0;34m=\u001b[0m\u001b[0msignature\u001b[0m\u001b[0;34m,\u001b[0m \u001b[0mextobj\u001b[0m\u001b[0;34m=\u001b[0m\u001b[0mextobj\u001b[0m\u001b[0;34m)\u001b[0m\u001b[0;34m\u001b[0m\u001b[0;34m\u001b[0m\u001b[0m\n\u001b[0m\u001b[1;32m    553\u001b[0m     \u001b[0;32mreturn\u001b[0m \u001b[0mwrap\u001b[0m\u001b[0;34m(\u001b[0m\u001b[0mainv\u001b[0m\u001b[0;34m.\u001b[0m\u001b[0mastype\u001b[0m\u001b[0;34m(\u001b[0m\u001b[0mresult_t\u001b[0m\u001b[0;34m,\u001b[0m \u001b[0mcopy\u001b[0m\u001b[0;34m=\u001b[0m\u001b[0;32mFalse\u001b[0m\u001b[0;34m)\u001b[0m\u001b[0;34m)\u001b[0m\u001b[0;34m\u001b[0m\u001b[0;34m\u001b[0m\u001b[0m\n\u001b[1;32m    554\u001b[0m \u001b[0;34m\u001b[0m\u001b[0m\n",
      "\u001b[0;32m~/programs/miniconda3/lib/python3.9/site-packages/numpy/linalg/linalg.py\u001b[0m in \u001b[0;36m_raise_linalgerror_singular\u001b[0;34m(err, flag)\u001b[0m\n\u001b[1;32m     87\u001b[0m \u001b[0;34m\u001b[0m\u001b[0m\n\u001b[1;32m     88\u001b[0m \u001b[0;32mdef\u001b[0m \u001b[0m_raise_linalgerror_singular\u001b[0m\u001b[0;34m(\u001b[0m\u001b[0merr\u001b[0m\u001b[0;34m,\u001b[0m \u001b[0mflag\u001b[0m\u001b[0;34m)\u001b[0m\u001b[0;34m:\u001b[0m\u001b[0;34m\u001b[0m\u001b[0;34m\u001b[0m\u001b[0m\n\u001b[0;32m---> 89\u001b[0;31m     \u001b[0;32mraise\u001b[0m \u001b[0mLinAlgError\u001b[0m\u001b[0;34m(\u001b[0m\u001b[0;34m\"Singular matrix\"\u001b[0m\u001b[0;34m)\u001b[0m\u001b[0;34m\u001b[0m\u001b[0;34m\u001b[0m\u001b[0m\n\u001b[0m\u001b[1;32m     90\u001b[0m \u001b[0;34m\u001b[0m\u001b[0m\n\u001b[1;32m     91\u001b[0m \u001b[0;32mdef\u001b[0m \u001b[0m_raise_linalgerror_nonposdef\u001b[0m\u001b[0;34m(\u001b[0m\u001b[0merr\u001b[0m\u001b[0;34m,\u001b[0m \u001b[0mflag\u001b[0m\u001b[0;34m)\u001b[0m\u001b[0;34m:\u001b[0m\u001b[0;34m\u001b[0m\u001b[0;34m\u001b[0m\u001b[0m\n",
      "\u001b[0;31mLinAlgError\u001b[0m: Singular matrix"
     ]
    }
   ],
   "source": [
    "print('inv(P) = ', inv(P))"
   ]
  },
  {
   "cell_type": "markdown",
   "id": "ddc5489c",
   "metadata": {
    "slideshow": {
     "slide_type": "slide"
    }
   },
   "source": [
    "*Decimos que una matriz $A$ está **mal condicionada**, si $\\mathrm{det}(A) \\approx 0$.* "
   ]
  },
  {
   "cell_type": "markdown",
   "id": "41d750fe",
   "metadata": {
    "cell_style": "split"
   },
   "source": [
    "Si bien las matrices mal condicionadas tienen inversa, son numericamente problemáticas, ya que pueden inducir errores de redondeo, *overflow* o *underflow* como resultado de la división por un número muy pequeño"
   ]
  },
  {
   "cell_type": "markdown",
   "id": "89740f5b",
   "metadata": {
    "cell_style": "split"
   },
   "source": [
    "Para determinar si una matriz está mal condicionada utilizamos el **número de condición**, definido como:\n",
    "\n",
    "$$\\mathrm{Cond}(A) = \\|A\\|\\cdot\\|A^{-1}\\|$$\n",
    "\n",
    "*Matrices mal condicionadas están caracterizadas por \"$\\mathrm{Cond}(A)$\" altos*"
   ]
  },
  {
   "cell_type": "markdown",
   "id": "a5fac666",
   "metadata": {},
   "source": [
    "En python, $\\mathrm{Cond}(A)$ está dado por la función `cond` de la librería `numpy.linalg`"
   ]
  },
  {
   "cell_type": "code",
   "execution_count": 9,
   "id": "cfa81324",
   "metadata": {},
   "outputs": [
    {
     "name": "stdout",
     "output_type": "stream",
     "text": [
      "Cond(P) =  3.757434988222266e+16\n"
     ]
    }
   ],
   "source": [
    "from numpy.linalg import cond\n",
    "print('Cond(P) = ',cond(P))"
   ]
  },
  {
   "cell_type": "markdown",
   "id": "873dc3de",
   "metadata": {
    "slideshow": {
     "slide_type": "slide"
    }
   },
   "source": [
    "> $\\mathrm{det}(A)= 0$, no necesariamente significa que el sistema no tiene solución"
   ]
  },
  {
   "cell_type": "markdown",
   "id": "09d8c593",
   "metadata": {
    "cell_style": "split"
   },
   "source": [
    "Por ejemplo, en el ejemplo anterior\n",
    "\\begin{eqnarray*}\n",
    "3x_1 + 1x_2 - 5x_3 &=& 2 \\\\\n",
    "-2x_1 - 2x_2 + 5x_3 &=& 5 \\\\\n",
    "4x_1 -5x_3  &=& 9 \\\\\n",
    "\\end{eqnarray*}\n"
   ]
  },
  {
   "cell_type": "code",
   "execution_count": 10,
   "id": "e698ea5c",
   "metadata": {
    "cell_style": "split"
   },
   "outputs": [
    {
     "name": "stdout",
     "output_type": "stream",
     "text": [
      "A\n",
      " [[ 3  1 -5]\n",
      " [-2 -2  5]\n",
      " [ 4  0 -5]]\n",
      "\n",
      "\n",
      "det(A) =  0.0\n"
     ]
    }
   ],
   "source": [
    "print('A\\n', A)\n",
    "print('\\n')\n",
    "print('det(A) = ', det(A))"
   ]
  },
  {
   "cell_type": "markdown",
   "id": "a6df4701",
   "metadata": {},
   "source": [
    "Sin embargo, como habíamos determinado, el sistema tiene múltiples soluciones."
   ]
  },
  {
   "cell_type": "markdown",
   "id": "b7778fa7",
   "metadata": {
    "slideshow": {
     "slide_type": "slide"
    }
   },
   "source": [
    "## Métodos de solución directos"
   ]
  },
  {
   "cell_type": "markdown",
   "id": "925e1918",
   "metadata": {
    "slideshow": {
     "slide_type": "slide"
    }
   },
   "source": [
    "### Eliminación de Gauss\n",
    "Es un algoritmo para resolver sistemas ecuaciones lineales basado en convertir la matriz $A$ en una matriz **triangular superior**. El sistema toma la forma: \n",
    "\n",
    "$$\\begin{bmatrix}\n",
    "a_{1,1} & a_{1,2} & a_{1,3} & a_{1,4}\\\\\n",
    "0 & a_{2,2}' & a_{2,3}' & a_{2,4}'\\\\\n",
    "0 & 0 & a_{3,3}' & a_{3,4}' \\\\\n",
    "0 & 0 & 0 & a_{4,4}'\n",
    "\\end{bmatrix}\\left[\\begin{array}{c} x_1 \\\\x_2 \\\\ x_3 \\\\x_4 \\end{array}\\right] =\n",
    "\\left[\\begin{array}{c} y_1 \\\\y_2' \\\\ y_3' \\\\y_4' \\end{array}\\right]$$\n",
    "\n",
    "Esta ecuación puede resolverse fácilmente, comenzando por $x_4 = y_4'/a_{4,4}'$, luego continuamos con $x_3 = \\frac{y_3' - a_{3,4}x_4}{ a_{3,4}}$, y así sucesivamente hasta llegar a $x_1$. En otras palabras, utilizamos **sustitución hacia atrás**, resolviendo el sistema desde abajo hacia arriba. \n",
    "\n",
    "Si $A$ es una matriz **triangular inferior**, resolveríamos el problema de arriba hacia abajo utilizando **sustitución hacia adelante.**"
   ]
  },
  {
   "cell_type": "markdown",
   "id": "0dc815d7",
   "metadata": {
    "cell_style": "center",
    "slideshow": {
     "slide_type": "slide"
    }
   },
   "source": [
    "La mejor forma de entender el método de eliminación Gauseana es con un ejemplo:\n",
    "\n",
    "\\begin{eqnarray*}\n",
    "4x_1 + 3x_2 - 5x_3 &=& 2 \\\\\n",
    "-2x_1 - 4x_2 + 5x_3 &=& 5 \\\\\n",
    "8x_1 + 8x_2  &=& -3 \\\\\n",
    "\\end{eqnarray*}"
   ]
  },
  {
   "cell_type": "markdown",
   "id": "8a00a507",
   "metadata": {
    "cell_style": "split"
   },
   "source": [
    "Paso 1: Transformamos el sistema de ecuaciones en su forma matricial $Ax=y$. \n",
    "\n",
    "$$\n",
    "\\begin{bmatrix}\n",
    "4 & 3 & -5\\\\\n",
    "-2 & -4 & 5\\\\\n",
    "8 & 8 & 0\\\\\n",
    "\\end{bmatrix}\\left[\\begin{array}{c} x_1 \\\\x_2 \\\\x_3 \\end{array}\\right] =\n",
    "\\left[\\begin{array}{c} 2 \\\\5 \\\\-3\\end{array}\\right]$$ "
   ]
  },
  {
   "cell_type": "markdown",
   "id": "eb3479c3",
   "metadata": {
    "cell_style": "split"
   },
   "source": [
    "Paso 2: Determinar la matriz aumentada [A, y] \n",
    "\n",
    "$$\n",
    "[A, y]  = \\begin{bmatrix}\n",
    "4 & 3 & -5 & 2\\\\\n",
    "-2 & -4 & 5 & 5\\\\\n",
    "8 & 8 & 0 & -3\\\\\n",
    "\\end{bmatrix}$$\n",
    "<br>"
   ]
  },
  {
   "cell_type": "markdown",
   "id": "a8c9abf4",
   "metadata": {
    "cell_style": "center",
    "slideshow": {
     "slide_type": "slide"
    }
   },
   "source": [
    "Paso 3: Deteriminamos la matriz triangular superior utilizando pivoteo parcial y eliminación.\n",
    "\n",
    "- Comenzando por la primera columna. Primero, permutamos las filas de manera que el coeficiente con mayor valor absoluto quede en la primera fila:\n",
    "\n",
    "$$\n",
    "[A, y]  = \\begin{bmatrix}\n",
    "8 & 8 & 0 & -3\\\\\n",
    "4 & 3 & -5 & 2\\\\\n",
    "-2 & -4 & 5 & 5\\\\\n",
    "\\end{bmatrix}$$"
   ]
  },
  {
   "cell_type": "markdown",
   "id": "6b2df879",
   "metadata": {
    "cell_style": "center",
    "slideshow": {
     "slide_type": "slide"
    }
   },
   "source": [
    "- Luego, eliminamos los otros coeficientes de la primera columna, comenzando por el segundo. Multiplicamos la primera fila por $1/2$ y la restamos a la segunda fila:\n",
    "\n",
    "$$\n",
    "[A, y]  = \\begin{bmatrix}\n",
    "8 & 8 & 0 & -3\\\\\n",
    "0 & -1 & -5 & 3.5\\\\\n",
    "-2 & -4 & 5 & 5\\\\\n",
    "\\end{bmatrix}$$\n",
    "\n",
    "- Después, multiplicamos la primera fila por $- 1/4$ y la restamos a la tercera fila:\n",
    "\n",
    "$$\n",
    "[A, y]  = \\begin{bmatrix}\n",
    "8 & 8 & 0 & -3\\\\\n",
    "0 & -1 & -5 & 3.5\\\\\n",
    "0 & -2 & 5 & 4.25\\\\\n",
    "\\end{bmatrix}$$"
   ]
  },
  {
   "cell_type": "markdown",
   "id": "0b3cbb23",
   "metadata": {
    "cell_style": "center",
    "slideshow": {
     "slide_type": "slide"
    }
   },
   "source": [
    "- Repetimos el proceso con la segunda columna. Primero, permutamos las filas:\n",
    "\n",
    "$$\n",
    "[A, y]  = \\begin{bmatrix}\n",
    "8 & 8 & 0 & -3\\\\\n",
    "0 & -2 & 5 & 4.25\\\\\n",
    "0 & -1 & -5 & 3.5\\\\\n",
    "\\end{bmatrix}$$\n",
    "\n",
    "\n",
    "- Luego, eliminamos el coeficiente inferior.  Multiplicamos por la segunda fila por $1/2$ y restamos a la tercera fila:\n",
    "\n",
    "$$\n",
    "[A, y]  = \\begin{bmatrix}\n",
    "8 & 8 & 0 & -3\\\\\n",
    "0 & -2 & 5 & 4.25\\\\\n",
    "0 & 0 & -7.5 & 1.375\\\\\n",
    "\\end{bmatrix}$$"
   ]
  },
  {
   "cell_type": "markdown",
   "id": "a667ee1c",
   "metadata": {
    "cell_style": "center",
    "slideshow": {
     "slide_type": "slide"
    }
   },
   "source": [
    "Paso 4. Realizamos sustitución hacia atras.\n",
    "\n",
    "\\begin{align*}\n",
    "x_3 &= \\frac{-1.375}{7.5}=-0.183 \\\\\n",
    "x_2 &= \\frac{4.25 - (-2)x_3}{5} = -2.583 \\\\\n",
    "x_1 &= \\frac{-3 - 8x_2 + 0x_3}{8} = 2.208\n",
    "\\end{align*}\n",
    "\n",
    "> El método de eliminación Gaussiana es de complejidad $O(N^3)$"
   ]
  },
  {
   "cell_type": "markdown",
   "id": "88918770",
   "metadata": {
    "cell_style": "center",
    "slideshow": {
     "slide_type": "slide"
    }
   },
   "source": [
    "### Factorización LU\n",
    "Es posible demostrar que cualquier matriz cuadrada $A$ puede ser expresada como el producto de una matriz triangular inferor $L$, y una matriz triangular superior $U$.\n",
    "\n",
    "$$A = LU$$\n",
    "\n",
    "El proceso para obtener $L$ y $U$ es conocido como *descomposición* o *factorización* LU. **Es el método de solución de ecuaciones lineales más confiable y utilizado.**\n",
    "\n",
    "El tipo de factorización LU no es única, ya que existen múltiples formas de representar $L$ y $U$ para un $A$ dado. Así, definimos tres tipos de factorizaciones comúnmente utilizadas:\n",
    "\n",
    "|  Nombre   |        Condiciones        |\n",
    "|:---------:|:-------------------------:|\n",
    "| Doolittle |$L_{ii} = 1$, $i = 1, 2,... $, $n$|\n",
    "| Crout     |$U_{ii} = 1$, $i = 1, 2,... $, $n$|\n",
    "|Choleski   |$L = U^T$                  |"
   ]
  },
  {
   "cell_type": "markdown",
   "id": "72c2e71d",
   "metadata": {
    "slideshow": {
     "slide_type": "slide"
    }
   },
   "source": [
    "Una vez ejecutada la factorización, resolvemos el sistema $Ax = y$."
   ]
  },
  {
   "cell_type": "markdown",
   "id": "32b9f368",
   "metadata": {
    "cell_style": "split"
   },
   "source": [
    "<img src=\"./images/LU_schematic.png\" width=\"500\" align= center>"
   ]
  },
  {
   "cell_type": "markdown",
   "id": "e54a43c4",
   "metadata": {
    "cell_style": "split"
   },
   "source": [
    "- Primero resolvemos el sistema $Ld = y$, por sustitución hacia adelante.\n",
    "\n",
    "- Luego, resolvemos el sistema $Ux = d$, por sustitución hacia atrás."
   ]
  },
  {
   "cell_type": "markdown",
   "id": "11b880b1",
   "metadata": {
    "cell_style": "center",
    "slideshow": {
     "slide_type": "slide"
    }
   },
   "source": [
    "\n",
    "> A diferencia del método de eliminación de Gauss, la factorizacion LU no depende del vector $y$. Por lo tanto, es conveniente para resolver el sistema $Ax=y$, con múltiples valores de $y$.\n",
    "\n",
    "> Debido a que la factorización LU está basada en eliminación de Gauss, el orden de complejidad es $O(N^3)$."
   ]
  },
  {
   "cell_type": "markdown",
   "id": "30756dcd",
   "metadata": {
    "slideshow": {
     "slide_type": "slide"
    }
   },
   "source": [
    "Existen diversos métodos para obtener las matrices $L$ y $U$. Uno de ellos es mediante eliminación Gaussiana."
   ]
  },
  {
   "cell_type": "markdown",
   "id": "de7b893e",
   "metadata": {
    "cell_style": "center"
   },
   "source": [
    "Como mostramos anteriormente, el método de eliminación de Gauss permite determinar una matriz triangular superior. La matriz triangular inferior, aunque no se mostró de forma explicita esta conformada por \"$1$\" en la diagonal, y los múltiplos utilizados para eliminar los elementos de las columnas.\n",
    "\n",
    "En general, se puede demostrar que para una matriz $A$, se cumple la siguiente relación:\n",
    "\n",
    "$$PA = LU$$\n",
    "\n",
    "donde $P$ es la matriz de permutaciones."
   ]
  },
  {
   "cell_type": "markdown",
   "id": "6a987056",
   "metadata": {
    "cell_style": "center",
    "slideshow": {
     "slide_type": "slide"
    }
   },
   "source": [
    "Por ejemplo, en el ejercicio anterior:\n",
    "\\begin{eqnarray*}\n",
    "4x_1 + 3x_2 - 5x_3 &=& 2 \\\\\n",
    "-2x_1 - 4x_2 + 5x_3 &=& 5 \\\\\n",
    "8x_1 + 8x_2  &=& -3 \\\\\n",
    "\\end{eqnarray*}\n",
    "\n",
    "Tenemos:\n",
    "\n",
    "$$\n",
    "L  = \\begin{bmatrix}\n",
    "1 & 0 & 0 \\\\\n",
    "-0.25 & 1 & 0 \\\\\n",
    "0.5 & 0.5 & 1 \\\\\n",
    "\\end{bmatrix};\n",
    "U  = \\begin{bmatrix}\n",
    "8 & 8 & 0 \\\\\n",
    "0 & -2 & 5 \\\\\n",
    "0 & 0 & -7.5 \\\\\n",
    "\\end{bmatrix}; \n",
    "P  = \\begin{bmatrix}\n",
    "0 & 0 & 1 \\\\\n",
    "0 & 1 & 0 \\\\\n",
    "1 & 0 & 0 \\\\\n",
    "\\end{bmatrix}$$"
   ]
  },
  {
   "cell_type": "code",
   "execution_count": 11,
   "id": "596afa56",
   "metadata": {
    "cell_style": "split",
    "slideshow": {
     "slide_type": "slide"
    }
   },
   "outputs": [],
   "source": [
    "A = np.array([[ 4,  3, -5],\n",
    "              [-2, -4,  5], \n",
    "              [ 8,  8,  0]])\n",
    "\n",
    "L = np.array([[    1,   0, 0],\n",
    "              [-0.25,   1, 0],\n",
    "              [  0.5, 0.5, 1]])\n",
    "\n",
    "U = np.array([[ 8,  8,   0],\n",
    "              [ 0, -2,   5],\n",
    "              [ 0,  0,-7.5]])\n",
    "\n",
    "P = np.array([[0, 0, 1],\n",
    "              [0, 1, 0],\n",
    "              [1, 0, 0]])"
   ]
  },
  {
   "cell_type": "code",
   "execution_count": 12,
   "id": "108e681c",
   "metadata": {
    "cell_style": "split"
   },
   "outputs": [
    {
     "name": "stdout",
     "output_type": "stream",
     "text": [
      "P*A =\n",
      " [[ 8  8  0]\n",
      " [-2 -4  5]\n",
      " [ 4  3 -5]]\n",
      "\n",
      "\n",
      "L*U =\n",
      " [[ 8.  8.  0.]\n",
      " [-2. -4.  5.]\n",
      " [ 4.  3. -5.]]\n"
     ]
    }
   ],
   "source": [
    "print('P*A =\\n',np.dot(P,A))\n",
    "print('\\n')\n",
    "print('L*U =\\n',np.dot(L,U))"
   ]
  },
  {
   "cell_type": "markdown",
   "id": "7d23fe78",
   "metadata": {
    "slideshow": {
     "slide_type": "slide"
    }
   },
   "source": [
    "## Métodos iterativos\n",
    "Los métodos iterativos están basados en una serie repetitiva de operaciones, comenzando por un valor inicial. A diferencia de los métodos directos, el número de operaciones está condicionado por la convergencia y el valor inicial escogido.\n",
    "\n",
    "Las ventajas de los métodos iterativos es que tienen un orden de complejidad menor que los métodos directos, y no requieren gran capacidad de memoria (recordemos que factorización LU requiere almacenar las matrices L, U y P)\n",
    "\n",
    "La gran desventaja radica en la convergencia de los algoritmos. Una condición suficiente, pero no necesaria es que la matriz $A$ debe ser **diagonal dominante**, es decir, los elementos de la diagonal, $a_{i,i}$, deben satisfacer:\n",
    "\n",
    "$$|a_{i,i}| \\geq \\sum_{j\\neq i} |a_{i,j}|$$\n",
    "\n",
    "Estos métodos se utilizan, generalmente, en simulaciones con elementos finitos (FEM), o volúmenes finitos (VEM)."
   ]
  },
  {
   "cell_type": "markdown",
   "id": "78fccc4a",
   "metadata": {
    "cell_style": "center",
    "slideshow": {
     "slide_type": "slide"
    }
   },
   "source": [
    "### Gauss-Seidel\n",
    "El algoritmo se puede resumir en los siguientes pasos:\n",
    "\n",
    "1. Asumimos un valor inicial para $x_2^{(0)}, x_3^{(0)}, \\cdots, x_n^{(0)}$ (con excepción de $x_1^{(0)}$).\n",
    "\n",
    "2. Calculamos un nuevo valor para $x_1^{(1)}$ mediante:\n",
    "\n",
    "$$\n",
    "x_1^{(1)} = \\frac{1}{a_{1,1}}\\Big[y_1 - \\sum_{j \\ne 1}^{n}{a_{1,j}x_j^{(0)}} \\Big]\n",
    "$$\n",
    "\n",
    "3. Utilizando el nuevo valor $x_1^{(1)}$ y el resto de $x^{(0)}$ (con excepción de $x_2^{(0)}$), determinamos $x_2^{(1)}$.\n",
    "\n",
    "$$\n",
    "x_2^{(1)} = \\frac{1}{a_{2,2}}\\Big[y_2 - \\sum_{j \\ne 1,2}^{n}{a_{2,j}x_j^{(0)}}  - {a_{2,1}x_1^{(1)}}\\Big]\n",
    "$$"
   ]
  },
  {
   "cell_type": "markdown",
   "id": "b989a559",
   "metadata": {
    "slideshow": {
     "slide_type": "slide"
    }
   },
   "source": [
    "4. Repetimos el paso 3 hasta completar todos los elementos del vector $x$.\n",
    "5. Continuamos con la iteración hasta que el valor de $x$ converge dentro de una tolerancia $\\varepsilon$, definida por:\n",
    "\n",
    " $$\\| x^{(i)} - x^{(i-1)}\\| \\lt \\varepsilon$$"
   ]
  },
  {
   "cell_type": "markdown",
   "id": "48592b02",
   "metadata": {
    "slideshow": {
     "slide_type": "slide"
    }
   },
   "source": [
    "Por ejemplo, resolvamos el siguiente sistema de ecuaciones con el métodod de Gauss-Seidel:\n",
    "\n",
    "\\begin{eqnarray*}\n",
    "8x_1 + 3x_2 - 3x_3 &=& 14 \\\\\n",
    "-2x_1 - 8x_2 + 5x_3 &=& 5 \\\\\n",
    "3x_1 + 5x_2 + 10x_3 & =& -8 \\\\\n",
    "\\end{eqnarray*}\n",
    "\n",
    "Primero, verificamos que la matriz es diagonal dominante:"
   ]
  },
  {
   "cell_type": "code",
   "execution_count": 13,
   "id": "8702b137",
   "metadata": {
    "cell_style": "split"
   },
   "outputs": [
    {
     "name": "stdout",
     "output_type": "stream",
     "text": [
      "diag(A) =  [ 8.  8. 10.]\n",
      "off_diag(A) = [6. 7. 8.]\n"
     ]
    }
   ],
   "source": [
    "A = [[ 8.,  3., -3.], \n",
    "     [-2., -8.,  5.], \n",
    "      [3.,  5., 10.]]\n",
    "\n",
    "# coeficientes de la diagonal\n",
    "diagA = np.diag(np.abs(A)) \n",
    "print('diag(A) = ',diagA)\n",
    "\n",
    "# suma de los elementos sin la diagonal\n",
    "off_diagA = np.sum(np.abs(A), axis=1) - diagA\n",
    "print('off_diag(A) =',off_diagA)"
   ]
  },
  {
   "cell_type": "code",
   "execution_count": 14,
   "id": "237a74bb",
   "metadata": {
    "cell_style": "split"
   },
   "outputs": [
    {
     "name": "stdout",
     "output_type": "stream",
     "text": [
      "la matriz es diagonal dominante\n"
     ]
    }
   ],
   "source": [
    "if np.all(diagA >= off_diagA):\n",
    "    print('la matriz es diagonal dominante')\n",
    "else:\n",
    "    print('la matriz no es diagonal dominante')"
   ]
  },
  {
   "cell_type": "code",
   "execution_count": 15,
   "id": "75f83367",
   "metadata": {
    "cell_style": "center",
    "slideshow": {
     "slide_type": "slide"
    }
   },
   "outputs": [],
   "source": [
    "def gauss_seidel(A,y,x):\n",
    "    from numpy import copy\n",
    "    from numpy.linalg import norm\n",
    "    \n",
    "    epsilon = 0.01 # tolerancia\n",
    "    converged = False # verificar convergencia\n",
    "    \n",
    "    # guardamos el valor inicial\n",
    "    x_old = copy(x)\n",
    "    \n",
    "    for k in range(1, 50):\n",
    "        for i in range(x.size):\n",
    "            x[i] = y[i]              # xi = yi\n",
    "            for j in range(x.size):\n",
    "                if i == j:           # saltamos i = j\n",
    "                    continue\n",
    "                x[i] -= A[i][j]*x[j] # xi =  yi - sum(aij*xj)\n",
    "            x[i] = x[i]/A[i][i]      # xi = (yi - sum(aij*xj))/aii\n",
    "    \n",
    "        # comparamos el error con la tolerancia\n",
    "        dx = norm(x-x_old)\n",
    "        \n",
    "        print(\"iter =\",k,'; x =',x)\n",
    "        if dx < epsilon:\n",
    "            converged = True\n",
    "            print('Converged!')\n",
    "            break\n",
    "        \n",
    "        # guardamos el valor de x para la nueva iteracion\n",
    "        x_old = copy(x)\n",
    "\n",
    "    if not converged:\n",
    "        print('No converge, incrementar número de iteraciones')\n",
    "    return x"
   ]
  },
  {
   "cell_type": "code",
   "execution_count": 16,
   "id": "32986376",
   "metadata": {
    "slideshow": {
     "slide_type": "slide"
    }
   },
   "outputs": [
    {
     "name": "stdout",
     "output_type": "stream",
     "text": [
      "iter = 1 ; x = [ 1.75    -1.0625  -0.79375]\n",
      "iter = 2 ; x = [ 1.85078125 -1.58378906 -0.56333984]\n",
      "iter = 3 ; x = [ 2.13266846 -1.51025452 -0.68467328]\n",
      "iter = 4 ; x = [ 2.05959296 -1.56781904 -0.63396837]\n",
      "iter = 5 ; x = [ 2.100194   -1.54627873 -0.65691883]\n",
      "iter = 6 ; x = [ 2.08350996 -1.55645176 -0.64682711]\n",
      "iter = 7 ; x = [ 2.09110925 -1.55204425 -0.65131065]\n",
      "Converged!\n"
     ]
    },
    {
     "data": {
      "text/plain": [
       "array([ 2.09110925, -1.55204425, -0.65131065])"
      ]
     },
     "execution_count": 16,
     "metadata": {},
     "output_type": "execute_result"
    }
   ],
   "source": [
    "import numpy as np\n",
    "\n",
    "A = [[ 8.,  3., -3.], \n",
    "     [-2., -8.,  5.], \n",
    "      [3.,  5., 10.]]\n",
    "\n",
    "y = np.array([14., 5., -8.])\n",
    "x = np.array([0.,0.,0.]) # valores iniciales\n",
    "gauss_seidel(A,y,x)"
   ]
  },
  {
   "cell_type": "markdown",
   "id": "413ece6e",
   "metadata": {
    "slideshow": {
     "slide_type": "slide"
    }
   },
   "source": [
    "## Solución de sistemas de ecuaciones lineales con python\n",
    "En python la forma más facil de resolver sistemas de ecuaciones lineal es mediante la función `solve` de `numpy.linalg`. Esta función utiliza factorización LU para resolver el sistema.\n",
    "\n",
    "Por ejemplo, tomemos el ejemplo de las personas conectadas por elásticos:\n",
    "\n",
    "|  Persona   | Masa (kg)| Constante del resorte (N/m) | Longitud incial del elástico |\n",
    "|:----------:|:--------:|:--------:|:--------:|\n",
    "| primera    |60| 50 | 20|\n",
    "| segunda    |70| 100| 20 |\n",
    "| tercera    |80|50|20|"
   ]
  },
  {
   "cell_type": "markdown",
   "id": "545673b9",
   "metadata": {
    "cell_style": "split",
    "slideshow": {
     "slide_type": "slide"
    }
   },
   "source": [
    "Tenemos un sistema de la forma:\n",
    "\n",
    "$$\n",
    "\\begin{bmatrix}\n",
    "150 & -100 & 0\\\\\n",
    "-100 & 150 & -50\\\\\n",
    "0 & -50 & 50\\\\\n",
    "\\end{bmatrix}\\left[\\begin{array}{c} x_1 \\\\x_2 \\\\x_3 \\end{array}\\right] =\n",
    "\\left[\\begin{array}{c} 588.6 \\\\686.7 \\\\784.8\\end{array}\\right]$$ "
   ]
  },
  {
   "cell_type": "code",
   "execution_count": 17,
   "id": "96c5233f",
   "metadata": {
    "cell_style": "split"
   },
   "outputs": [
    {
     "name": "stdout",
     "output_type": "stream",
     "text": [
      "[41.202 55.917 71.613]\n"
     ]
    }
   ],
   "source": [
    "import numpy as np\n",
    "\n",
    "A = np.array([[ 150, -100,   0], \n",
    "              [-100,  150, -50], \n",
    "              [   0,  -50,  50]])\n",
    "\n",
    "y = np.array([588.6, 686.7, 784.8])\n",
    "\n",
    "x = np.linalg.solve(A, y)\n",
    "print(x)"
   ]
  },
  {
   "cell_type": "markdown",
   "id": "adaa70cd",
   "metadata": {},
   "source": [
    "Notar que en este problema $x_1$, $x_2$ y $x_3$ representan las posiciones relativas de las personas. Así la posición final está dada por:"
   ]
  },
  {
   "cell_type": "code",
   "execution_count": 18,
   "id": "b79b9b71",
   "metadata": {},
   "outputs": [
    {
     "name": "stdout",
     "output_type": "stream",
     "text": [
      "Posición final de las personas:  [ 61.202  95.917 131.613]\n"
     ]
    }
   ],
   "source": [
    "print('Posición final de las personas: ', x + [20, 40, 60])"
   ]
  },
  {
   "cell_type": "markdown",
   "id": "9d09382b",
   "metadata": {
    "slideshow": {
     "slide_type": "slide"
    }
   },
   "source": [
    "Mediante la librería `scipy` podemos hacer factorización LU."
   ]
  },
  {
   "cell_type": "code",
   "execution_count": 19,
   "id": "fca97231",
   "metadata": {
    "cell_style": "center"
   },
   "outputs": [
    {
     "name": "stdout",
     "output_type": "stream",
     "text": [
      "P:\n",
      " [[1. 0. 0.]\n",
      " [0. 1. 0.]\n",
      " [0. 0. 1.]]\n",
      "L:\n",
      " [[ 1.          0.          0.        ]\n",
      " [-0.66666667  1.          0.        ]\n",
      " [ 0.         -0.6         1.        ]]\n",
      "U:\n",
      " [[ 150.         -100.            0.        ]\n",
      " [   0.           83.33333333  -50.        ]\n",
      " [   0.            0.           20.        ]]\n",
      "LU:\n",
      " [[ 150. -100.    0.]\n",
      " [-100.  150.  -50.]\n",
      " [   0.  -50.   50.]]\n"
     ]
    }
   ],
   "source": [
    "from scipy.linalg import lu\n",
    "\n",
    "P, L, U = lu(A)\n",
    "print('P:\\n', P)\n",
    "print('L:\\n', L)\n",
    "print('U:\\n', U)\n",
    "print('LU:\\n',np.dot(L, U))"
   ]
  },
  {
   "cell_type": "markdown",
   "id": "33d3b1b6",
   "metadata": {
    "slideshow": {
     "slide_type": "slide"
    }
   },
   "source": [
    "## Referencias\n",
    "- Kong Q., Siauw T., Bayen A. M. **Chapter 14: Linear Algebra and Systems of Linear Equations** in *[Python Programming and Numerical Methods – A Guide for Engineers and Scientists](https://pythonnumericalmethods.berkeley.edu/notebooks/Index.html)*, 1st Ed., Academic Press, 2021\n",
    "\n",
    "- Chapra S., Canale R. **Parte tres: Ecuaciones algebraicas lineales** en *Métodos Numéricos para Ingenieros*, 6ta Ed., McGraw Hill, 2011"
   ]
  }
 ],
 "metadata": {
  "celltoolbar": "Slideshow",
  "kernelspec": {
   "display_name": "Python 3 (ipykernel)",
   "language": "python",
   "name": "python3"
  },
  "language_info": {
   "codemirror_mode": {
    "name": "ipython",
    "version": 3
   },
   "file_extension": ".py",
   "mimetype": "text/x-python",
   "name": "python",
   "nbconvert_exporter": "python",
   "pygments_lexer": "ipython3",
   "version": "3.9.13"
  },
  "latex_envs": {
   "LaTeX_envs_menu_present": false,
   "autoclose": false,
   "autocomplete": false,
   "bibliofile": "biblio.bib",
   "cite_by": "apalike",
   "current_citInitial": 1,
   "eqLabelWithNumbers": true,
   "eqNumInitial": 1,
   "hotkeys": {
    "equation": "Ctrl-E",
    "itemize": "Ctrl-I"
   },
   "labels_anchors": false,
   "latex_user_defs": false,
   "report_style_numbering": false,
   "user_envs_cfg": true
  },
  "rise": {
   "height": "100%",
   "theme": "simple",
   "width": "100%"
  },
  "toc": {
   "base_numbering": "",
   "nav_menu": {},
   "number_sections": false,
   "sideBar": true,
   "skip_h1_title": true,
   "title_cell": "Contenidos",
   "title_sidebar": "Contenidos",
   "toc_cell": false,
   "toc_position": {
    "height": "calc(100% - 180px)",
    "left": "10px",
    "top": "150px",
    "width": "303.837px"
   },
   "toc_section_display": true,
   "toc_window_display": false
  },
  "varInspector": {
   "cols": {
    "lenName": 16,
    "lenType": 16,
    "lenVar": 40
   },
   "kernels_config": {
    "python": {
     "delete_cmd_postfix": "",
     "delete_cmd_prefix": "del ",
     "library": "var_list.py",
     "varRefreshCmd": "print(var_dic_list())"
    },
    "r": {
     "delete_cmd_postfix": ") ",
     "delete_cmd_prefix": "rm(",
     "library": "var_list.r",
     "varRefreshCmd": "cat(var_dic_list()) "
    }
   },
   "types_to_exclude": [
    "module",
    "function",
    "builtin_function_or_method",
    "instance",
    "_Feature"
   ],
   "window_display": false
  }
 },
 "nbformat": 4,
 "nbformat_minor": 5
}
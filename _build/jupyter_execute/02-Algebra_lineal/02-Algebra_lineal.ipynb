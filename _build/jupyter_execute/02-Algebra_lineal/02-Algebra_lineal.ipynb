{
 "cells": [
  {
   "cell_type": "markdown",
   "id": "6d47d103",
   "metadata": {
    "slideshow": {
     "slide_type": "slide"
    }
   },
   "source": [
    "# Algebra lineal y sistemas de ecuaciones lineales"
   ]
  },
  {
   "cell_type": "markdown",
   "id": "ced00fe8",
   "metadata": {
    "slideshow": {
     "slide_type": "slide"
    }
   },
   "source": [
    "## Introducción a los sistemas de ecuaciones lineales"
   ]
  },
  {
   "cell_type": "markdown",
   "id": "a1ba08f0",
   "metadata": {
    "cell_style": "split",
    "slideshow": {
     "slide_type": "-"
    }
   },
   "source": [
    "Consideremos el caso de tres personas conectada por cuerdas elásticas.\n",
    "\n",
    "<img src=\"./images/bungee_man.png\" width=\"300\" align= center>"
   ]
  },
  {
   "cell_type": "markdown",
   "id": "2ddda37d",
   "metadata": {
    "cell_style": "split",
    "slideshow": {
     "slide_type": "fragment"
    }
   },
   "source": [
    "En la primera figura (a), los tres cuerpos están en la posición inicial de forma que los elásticos están totalmente extendidos, **pero no estirados**. Definimos el cambio en la posición inicial de cada persona, como: $x_1$, $x_2$, $x_3$.\n",
    "\n",
    "Cuando los cuerpos se dejan caer, los elásticos se extienden por la gravedad y cada cuerpo toma la posición indicada en (b)."
   ]
  },
  {
   "cell_type": "markdown",
   "id": "e1b351c0",
   "metadata": {
    "slideshow": {
     "slide_type": "slide"
    }
   },
   "source": [
    "Analizamos el cambio en la posición de cada persona utilizando la ley de Newton:"
   ]
  },
  {
   "cell_type": "markdown",
   "id": "bcb58fd4",
   "metadata": {
    "cell_style": "split",
    "slideshow": {
     "slide_type": "fragment"
    }
   },
   "source": [
    "*Diagrama de cuerpo libre*\n",
    "\n",
    "<img src=\"./images/bungee_man_solve.png\" width=\"300\" align= center>"
   ]
  },
  {
   "cell_type": "markdown",
   "id": "6c6de0dc",
   "metadata": {
    "cell_style": "split",
    "slideshow": {
     "slide_type": "fragment"
    }
   },
   "source": [
    "\\begin{align*}\n",
    "m_1\\frac{d^2 x_1}{dt^2} &= m_1g + k_2(x_2 - x_1) - k_1 x_1 \\\\\n",
    "m_2\\frac{d^2 x_2}{dt^2} &= m_2g + k_3(x_3 - x_2) - k_2 (x_1 - x_2) \\\\\n",
    "m_3\\frac{d^2 x_3}{dt^2} &= m_3g + k_3(x_2 - x_3)\n",
    "\\end{align*}"
   ]
  },
  {
   "cell_type": "markdown",
   "id": "386e88b2",
   "metadata": {
    "cell_style": "split",
    "slideshow": {
     "slide_type": "fragment"
    }
   },
   "source": [
    "En condiciones de equilibrio:\n",
    "\n",
    "\\begin{align*}\n",
    "(k_1 + k_2)x_1\\;\\;\\;\\;\\;\\;\\;\\;\\; - k_2x_2 \\;\\;\\;\\;\\;\\;\\;\\;\\;\\;\\,&=  m_1g\\\\\n",
    "- k_2x_1 + (k_2 + k_3)x_2 - k_3x_3  &= m_2g\\\\\n",
    "- k_3x_2 + k_3x_3 &= m_3g\n",
    "\\end{align*}"
   ]
  },
  {
   "cell_type": "markdown",
   "id": "c51f43b6",
   "metadata": {
    "slideshow": {
     "slide_type": "slide"
    }
   },
   "source": [
    "En el ejemplo anterior, derivamos un sistema de ecuaciones lineales con 3 incognitas el cual podemos resolver con técnicas analíticas."
   ]
  },
  {
   "cell_type": "markdown",
   "id": "ae94a01d",
   "metadata": {
    "cell_style": "center",
    "slideshow": {
     "slide_type": "fragment"
    }
   },
   "source": [
    "Sin embargo, si el sistema es más grande tenemos un sistema de ecuaciones con un gran número de incognitas y debemos recurrir a métodos más eficientes para poder resolverlos. "
   ]
  },
  {
   "cell_type": "markdown",
   "id": "57b09d85",
   "metadata": {
    "slideshow": {
     "slide_type": "slide"
    }
   },
   "source": [
    "Por ejemplo, un reticulado de barras, donde cada barra se puede modelar como un resorte.\n",
    "\n",
    "<img src=\"./images/beam_lattice.png\" width=\"800px\" align= center>"
   ]
  },
  {
   "cell_type": "markdown",
   "id": "e332a924",
   "metadata": {
    "slideshow": {
     "slide_type": "slide"
    }
   },
   "source": [
    "Este es el enfoque que utilizan los software de modelación computacional, tales como: el método de elementos finitos (FEM), métodos de los momentos (MoM), o volúmenes finitos (VEM).\n",
    "\n",
    "<img src=\"./images/fem_beam_lattice.png\" width=\"600\" align= center>"
   ]
  },
  {
   "cell_type": "markdown",
   "id": "d6b3aa8c",
   "metadata": {
    "slideshow": {
     "slide_type": "slide"
    }
   },
   "source": [
    "### Caracterización de sistemas lineales\n",
    "Decimos que una ecuación es lineal cuando: \n",
    "1. Todas sus incognitas están **únicamente** separadas por sumas o restas\n",
    "2. El exponente de cada incognita es $1$."
   ]
  },
  {
   "cell_type": "markdown",
   "id": "2b8ba96a",
   "metadata": {
    "slideshow": {
     "slide_type": "fragment"
    }
   },
   "source": [
    "Por ejemplo,\n",
    "- $3x_1 + 4x_2 - 3 = -5x_3$ (lineal)\n",
    "\n",
    "- $\\frac{-3x_1 + x_2}{x_3} = 2$ (no es lineal, pero se puede linealizar como $ -3x_1 + x_2 -2x_3 = 0 )$\n",
    "\n",
    "- $x_1 x_2 + x_3 = 5$ (no lineal)\n",
    "\n",
    "- $x_1 + 3x_2 + x_3^4 = 3$ (no lineal)"
   ]
  },
  {
   "cell_type": "markdown",
   "id": "eef0a62d",
   "metadata": {
    "slideshow": {
     "slide_type": "slide"
    }
   },
   "source": [
    "> Un sistema de ecuaciones lineales esta compuesto por más de una ecuación lineal, tal como en el ejemplo de las personas conectadas por cuerdas elásticas\n",
    "\n",
    "\\begin{align*}\n",
    "(k_1 + k_2)x_1\\;\\;\\;\\;\\;\\;\\;\\;\\; - k_2x_2 \\;\\;\\;\\;\\;\\;\\;\\;\\;\\;\\,&=  m_1g\\\\\n",
    "- k_2x_1 + (k_2 + k_3)x_2 - k_3x_3  &= m_2g\\\\\n",
    "- k_3x_2 + k_3x_3 &= m_3g\n",
    "\\end{align*}"
   ]
  },
  {
   "cell_type": "markdown",
   "id": "b59f3ed8",
   "metadata": {
    "slideshow": {
     "slide_type": "slide"
    }
   },
   "source": [
    "### Representación matricial"
   ]
  },
  {
   "cell_type": "markdown",
   "id": "65edc73d",
   "metadata": {},
   "source": [
    "Para resolver un sistema de ecuaciones lineales utilizamos la representación matricial. Esto permite la implementación computacional de los algoritmos."
   ]
  },
  {
   "cell_type": "markdown",
   "id": "73a971cd",
   "metadata": {
    "cell_style": "center",
    "slideshow": {
     "slide_type": "slide"
    }
   },
   "source": [
    "Por ejemplo, el sistema de ecuaciones lineales generalizado:\n",
    "\n",
    "\\begin{eqnarray*}\n",
    "\\begin{array}{rcrcccccrcc}\n",
    "a_{1,1} x_1 &+& a_{1,2} x_2 &+& {\\ldots}& +& a_{1,n-1} x_{n-1} &+&a_{1,n} x_n &=& y_1,\\\\\n",
    "a_{2,1} x_1 &+& a_{2,2} x_2 &+&{\\ldots}& +& a_{2,n-1} x_{n-1} &+& a_{2,n} x_n &=& y_2, \\\\\n",
    "&&&&{\\ldots} &&{\\ldots}&&&& \\\\\n",
    "a_{m-1,1}x_1 &+& a_{m-1,2}x_2&+ &{\\ldots}& +& a_{m-1,n-1} x_{n-1} &+& a_{m-1,n} x_n &=& y_{m-1},\\\\\n",
    "a_{m,1} x_1 &+& a_{m,2}x_2 &+ &{\\ldots}& +& a_{m,n-1} x_{n-1} &+& a_{m,n} x_n &=& y_{m}.\n",
    "\\end{array}\n",
    "\\end{eqnarray*}\n",
    "\n",
    "donde $a_{i,j}$ y $y_i$ son números reales."
   ]
  },
  {
   "cell_type": "markdown",
   "id": "34dfa1b4",
   "metadata": {
    "cell_style": "center",
    "slideshow": {
     "slide_type": "fragment"
    }
   },
   "source": [
    "Toma la siguiente forma en su representación matricial\n",
    "\n",
    "$$\\begin{bmatrix}\n",
    "a_{1,1} & a_{1,2} & ... & a_{1,n}\\\\\n",
    "a_{2,1} & a_{2,2} & ... & a_{2,n}\\\\\n",
    "... & ... & ... & ... \\\\\n",
    "a_{m,1} & a_{m,2} & ... & a_{m,n}\n",
    "\\end{bmatrix}\\left[\\begin{array}{c} x_1 \\\\x_2 \\\\ ... \\\\x_n \\end{array}\\right] =\n",
    "\\left[\\begin{array}{c} y_1 \\\\y_2 \\\\ ... \\\\y_m \\end{array}\\right]$$"
   ]
  },
  {
   "cell_type": "markdown",
   "id": "0aa0db38",
   "metadata": {
    "cell_style": "center",
    "slideshow": {
     "slide_type": "slide"
    }
   },
   "source": [
    "O, similarmente, \n",
    "\n",
    "$$Ax = y,$$\n",
    "\n",
    "donde:\n",
    "\n",
    "$$A = \\begin{bmatrix}\n",
    "a_{1,1} & a_{1,2} & ... & a_{1,n}\\\\\n",
    "a_{2,1} & a_{2,2} & ... & a_{2,n}\\\\\n",
    "... & ... & ... & ... \\\\\n",
    "a_{m,1} & a_{m,2} & ... & a_{m,n}\n",
    "\\end{bmatrix},\\;\\;x= \\left[\\begin{array}{c} x_1 \\\\x_2 \\\\ ... \\\\x_n \\end{array}\\right],\\;\\;\\ y = \\left[\\begin{array}{c} y_1 \\\\y_2 \\\\ ... \\\\y_m \\end{array}\\right]$$ "
   ]
  },
  {
   "cell_type": "markdown",
   "id": "feaf7010",
   "metadata": {
    "cell_style": "center",
    "slideshow": {
     "slide_type": "slide"
    }
   },
   "source": [
    "De igual forma, el problema de las personas sujetas con elásticos, \n",
    "\n",
    "\\begin{align*}\n",
    "(k_1 + k_2)x_1\\;\\;\\;\\;\\;\\;\\;\\;\\; - k_2x_2 \\;\\;\\;\\;\\;\\;\\;\\;\\;\\;\\,&=  m_1g\\\\\n",
    "- k_2x_1 + (k_2 + k_3)x_2 - k_3x_3  &= m_2g\\\\\n",
    "- k_3x_2 + k_3x_3 &= m_3g,\n",
    "\\end{align*}"
   ]
  },
  {
   "cell_type": "markdown",
   "id": "e093b0fd",
   "metadata": {
    "cell_style": "center"
   },
   "source": [
    "se puede representar de forma matricial como:\n",
    "\n",
    "$$\\begin{bmatrix}\n",
    "k_1 + k_2 & -k_2 & 0 \\\\\n",
    "-k_2 & k_2 + k_3 & -k_3\\\\\n",
    "0 & -k_3 & k_3\n",
    "\\end{bmatrix}\n",
    "\\left[\\begin{array}{c} x_1 \\\\x_2 \\\\ x_3 \\end{array}\\right] =\n",
    "\\left[\\begin{array}{c} m_1g \\\\m_2g \\\\m_3g \\end{array}\\right]$$"
   ]
  },
  {
   "cell_type": "markdown",
   "id": "e19fffdc",
   "metadata": {
    "slideshow": {
     "slide_type": "slide"
    }
   },
   "source": [
    "### Repaso de matrices"
   ]
  },
  {
   "cell_type": "markdown",
   "id": "7548e475",
   "metadata": {
    "cell_style": "center",
    "slideshow": {
     "slide_type": "slide"
    }
   },
   "source": [
    "#### Determinante ($|A|$)\n",
    "Se denota como $\\mathrm{det}(A)$, o $|A|$. **Solo se aplica a matrices cuadradas**.\n",
    "\n",
    "   Por ejemplo, para una matriz $2\\times2$, el determinante es:\n",
    "   \n",
    "   $$ |A| = \\begin{vmatrix} a & b \\\\ \n",
    "                             c & d\\\\ \n",
    "            \\end{vmatrix} = ad - bc,$$\n",
    "\n",
    "   para una matrix $3\\times3$:\n",
    "   \n",
    "\\begin{eqnarray*}\n",
    "|A| = \\begin{vmatrix}\n",
    "a & b & c \\\\\n",
    "d & e & f \\\\\n",
    "g & h & i \\\\\n",
    "\\end{vmatrix} & = & a\\begin{vmatrix}\n",
    "\\Box &\\Box  &\\Box  \\\\\n",
    "\\Box & e & f \\\\\n",
    "\\Box & h & i \\\\\n",
    "\\end{vmatrix} - b\\begin{vmatrix}\n",
    "\\Box &\\Box  &\\Box  \\\\\n",
    "d & \\Box & f \\\\\n",
    "g & \\Box & i \\\\\n",
    "\\end{vmatrix}+c\\begin{vmatrix}\n",
    "\\Box &\\Box  &\\Box  \\\\\n",
    "d & e & \\Box \\\\\n",
    "g & h & \\Box \\\\\n",
    "\\end{vmatrix} \\\\\n",
    "&&\\\\\n",
    "& = & a\\begin{vmatrix}\n",
    "e & f \\\\\n",
    "h & i \\\\\n",
    "\\end{vmatrix} - b\\begin{vmatrix}\n",
    "d & f \\\\\n",
    "g & i \\\\\n",
    "\\end{vmatrix}+c\\begin{vmatrix}\n",
    "d & e \\\\\n",
    "g & h \\\\\n",
    "\\end{vmatrix} \\\\ \n",
    "&&\\\\\n",
    "& = & aei - afh + bfg - bdi + cdh - ceg \n",
    "\\end{eqnarray*}"
   ]
  },
  {
   "cell_type": "markdown",
   "id": "4b84ec98",
   "metadata": {
    "slideshow": {
     "slide_type": "slide"
    }
   },
   "source": [
    "####  Matriz identidad ($I$)\n",
    "\n",
    "Es una matriz cuadarada con $1$ en la diagonal, y $0$ en el resto de los elementos:\n",
    "\n",
    "$$I = \\begin{bmatrix}\n",
    "1 & 0 & 0 \\\\\n",
    "0 & 1 & 0 \\\\\n",
    "0 & 0 & 1 \\\\\n",
    "\\end{bmatrix}$$"
   ]
  },
  {
   "cell_type": "markdown",
   "id": "d9ebb73b",
   "metadata": {
    "cell_style": "center",
    "slideshow": {
     "slide_type": "slide"
    }
   },
   "source": [
    "#### Matriz inversa ($A^{-1}$)\n",
    "\n",
    "Definimos la matriz inversa de $A$ como: $A^{-1}$. \n",
    "\n",
    "   - Solo existe para matrices cuadradas. \n",
    "   \n",
    "   - El producto de la matriz inversa por su diagonal es igual a la matriz identidad $A\\cdot A^{-1} = I$\n",
    "\n",
    "   - Para una matriz $2\\times2$, la matriz inversa está definida por:\n",
    "   \n",
    "   $$\n",
    "A^{-1} = \\begin{bmatrix}\n",
    "a & b \\\\\n",
    "c & d\\\\\n",
    "\\end{bmatrix}^{-1} = \\frac{1}{|A|}\\begin{bmatrix}\n",
    "d & -b \\\\\n",
    "-c & a\\\\\n",
    "\\end{bmatrix}$$\n",
    "\n",
    ">La solución analítica para determinar la matriz inversa se vuelve mas complicada a medida que aumentan las dimensiones de la matriz."
   ]
  },
  {
   "cell_type": "markdown",
   "id": "c3653780",
   "metadata": {
    "cell_style": "center",
    "slideshow": {
     "slide_type": "slide"
    }
   },
   "source": [
    "#### Norma matricial\n",
    "Es una extensión del módulo o *norma* vectorial. Existen distintos formas de definir una norma matricial. La más conocida es la *p-norma*:\n",
    "\n",
    "   $$\\Vert A \\Vert_{p} = \\sqrt[p]{(\\sum_i^m \\sum_j^n |a_{ij}|^p)}$$\n",
    "   \n",
    "   Para $p = 2$, se llama *norma de Frobenius*"
   ]
  },
  {
   "cell_type": "markdown",
   "id": "5eab489e",
   "metadata": {
    "cell_style": "center",
    "slideshow": {
     "slide_type": "slide"
    }
   },
   "source": [
    "### Representación en python\n",
    "Para representar sistemas de ecuaciones lineales en python utilizamos variables ***numpy array*** de la libreria `numpy`."
   ]
  },
  {
   "cell_type": "markdown",
   "id": "bfe375b6",
   "metadata": {
    "cell_style": "split",
    "slideshow": {
     "slide_type": "fragment"
    }
   },
   "source": [
    "Por ejemplo, para representar el sistema:\n",
    "\n",
    "\\begin{eqnarray*}\n",
    "3x_1 + 1x_2 - 5x_3 &=& 2 \\\\\n",
    "-2x_1 - 2x_2 + 5x_3 &=& 5 \\\\\n",
    "8x_1 + 3x_2  &=& -3 \\\\\n",
    "\\end{eqnarray*}"
   ]
  },
  {
   "cell_type": "code",
   "execution_count": 1,
   "id": "d7cab60d",
   "metadata": {
    "cell_style": "split",
    "slideshow": {
     "slide_type": "fragment"
    }
   },
   "outputs": [
    {
     "name": "stdout",
     "output_type": "stream",
     "text": [
      "A:\n",
      " [[ 3  1 -5]\n",
      " [-2 -2  5]\n",
      " [ 8  3  0]]\n",
      "\n",
      "y:\n",
      " [[ 2]\n",
      " [ 5]\n",
      " [-3]]\n"
     ]
    }
   ],
   "source": [
    "import numpy as np\n",
    "\n",
    "A = np.array([[ 3,  1, -5],\n",
    "              [-2, -2,  5],\n",
    "              [ 8,  3,  0]])\n",
    "\n",
    "y = np.array([[2], [5], [-3]])\n",
    "\n",
    "print('A:\\n',A)\n",
    "print('\\ny:\\n',y)"
   ]
  },
  {
   "cell_type": "markdown",
   "id": "9ff38e85",
   "metadata": {
    "slideshow": {
     "slide_type": "slide"
    }
   },
   "source": [
    "El módulo `linalg` de `numpy` tiene funciones predefinidas para calcular la norma (`norm`), determinante (`det`), matriz inversa (`inv`). La matriz identidad (`eye`) viene desde `numpy`"
   ]
  },
  {
   "cell_type": "code",
   "execution_count": 2,
   "id": "5b5eb191",
   "metadata": {
    "cell_style": "center",
    "slideshow": {
     "slide_type": "fragment"
    }
   },
   "outputs": [
    {
     "name": "stdout",
     "output_type": "stream",
     "text": [
      "norm(A) = 11.8743 (Frobenius por defecto)\n",
      "det(A) = -55.0000\n",
      "inv(A):\n",
      " [[ 0.27272727  0.27272727  0.09090909]\n",
      " [-0.72727273 -0.72727273  0.09090909]\n",
      " [-0.18181818  0.01818182  0.07272727]]\n",
      "eye(3) = (Matriz identidad 3x3) \n",
      " [[1. 0. 0.]\n",
      " [0. 1. 0.]\n",
      " [0. 0. 1.]]\n"
     ]
    }
   ],
   "source": [
    "from numpy.linalg import norm, det, inv # norm, det y inv son parte de numpy.linalg\n",
    "\n",
    "print('norm(A) = %.4f (Frobenius por defecto)'% norm(A))\n",
    "print('det(A) = %.4f' % det(A))\n",
    "print('inv(A):\\n',inv(A))\n",
    "print('eye(3) = (Matriz identidad 3x3) \\n', np.eye(3))  # eye es parte de numpy"
   ]
  },
  {
   "cell_type": "markdown",
   "id": "4e3359ae",
   "metadata": {
    "slideshow": {
     "slide_type": "fragment"
    }
   },
   "source": [
    "> Notar que `norm`, `det` y `inv` son parte de la librería `numpy.linalg`, mientras que `eye` es parte de `numpy`."
   ]
  },
  {
   "cell_type": "markdown",
   "id": "30c34d23",
   "metadata": {
    "slideshow": {
     "slide_type": "slide"
    }
   },
   "source": [
    "Comprobamos la identidad $AA^{-1} = I$ usando `python`."
   ]
  },
  {
   "cell_type": "code",
   "execution_count": 3,
   "id": "c83811b3",
   "metadata": {
    "cell_style": "center"
   },
   "outputs": [
    {
     "data": {
      "text/plain": [
       "array([[ 1.00000000e+00, -9.36750677e-17, -4.16333634e-17],\n",
       "       [ 5.55111512e-17,  1.00000000e+00, -1.38777878e-17],\n",
       "       [ 0.00000000e+00,  0.00000000e+00,  1.00000000e+00]])"
      ]
     },
     "execution_count": 3,
     "metadata": {},
     "output_type": "execute_result"
    }
   ],
   "source": [
    "A.dot(inv(A)) # usamos numpy.dot() para multiplicar matrices"
   ]
  },
  {
   "cell_type": "markdown",
   "id": "2c526ceb",
   "metadata": {
    "slideshow": {
     "slide_type": "slide"
    }
   },
   "source": [
    "Más información de `numpy.linalg` en la [documentación oficial](https://numpy.org/doc/stable/reference/routines.linalg.html)"
   ]
  },
  {
   "cell_type": "markdown",
   "id": "3926d6bd",
   "metadata": {
    "cell_style": "center",
    "slideshow": {
     "slide_type": "slide"
    }
   },
   "source": [
    "## Caracterización de sistemas de ecuaciones lineales\n"
   ]
  },
  {
   "cell_type": "markdown",
   "id": "5fd523d8",
   "metadata": {
    "slideshow": {
     "slide_type": "slide"
    }
   },
   "source": [
    "### Solución única (rango de una matriz)\n",
    "\n",
    "Un **sistema de ecuaciones** lineales tiene **solución única**, si y solo si el **número de incognitas es igual al número de ecuaciones linealmente independientes** en el sistema."
   ]
  },
  {
   "cell_type": "markdown",
   "id": "ee3e9ac0",
   "metadata": {
    "cell_style": "center",
    "slideshow": {
     "slide_type": "fragment"
    }
   },
   "source": [
    "Por ejemplo, el siguiente sistema de ecuaciones lineales:\n",
    "\n",
    "\\begin{eqnarray*}\n",
    "3x_1 + 1x_2 - 5x_3 &=& 2 \\\\\n",
    "-2x_1 - 2x_2 + 5x_3 &=& 5 \\\\\n",
    "4x_1 -5x_3  &=& 9 \\\\\n",
    "\\end{eqnarray*}\n",
    "\n",
    "Tiene solo dos ecuaciones linealmente independientes, ya que $(\\mathrm{ec.~}3) = 2\\times(\\mathrm{ec.~}1) + (\\mathrm{ec.~}2)$"
   ]
  },
  {
   "cell_type": "markdown",
   "id": "544d5f39",
   "metadata": {
    "slideshow": {
     "slide_type": "fragment"
    }
   },
   "source": [
    "Como el sistema esta compuesto por 2 ecuaciones lineales y 3 incognitas, este tiene infinitas soluciones."
   ]
  },
  {
   "cell_type": "markdown",
   "id": "4a89f97a",
   "metadata": {
    "slideshow": {
     "slide_type": "slide"
    }
   },
   "source": [
    "Una forma genérica de estudiar si el sistema tiene 1, infinitas o ninguna solución es mediante el **rango de matrices**."
   ]
  },
  {
   "cell_type": "markdown",
   "id": "595c7343",
   "metadata": {
    "cell_style": "center",
    "slideshow": {
     "slide_type": "fragment"
    }
   },
   "source": [
    "Para una matriz $A$, definimos el **rango ($\\mathrm{rank}(A)$)** como el número de filas (o columnas) linealmente independenientes."
   ]
  },
  {
   "cell_type": "markdown",
   "id": "339d4ea7",
   "metadata": {
    "cell_style": "center",
    "slideshow": {
     "slide_type": "slide"
    }
   },
   "source": [
    "Consideremos la matrix aumentada $[A|y]$  como:\n",
    "\n",
    "$$[A|y] = \\begin{bmatrix}\n",
    "a_{1,1} & a_{1,2} & ... & a_{1,n} & y_1\\\\\n",
    "a_{2,1} & a_{2,2} & ... & a_{2,n} & y_2\\\\\n",
    "... & ... & ... & ... & ...\\\\\n",
    "a_{m,1} & a_{m,2} & ... & a_{m,n} & y_n\n",
    "\\end{bmatrix}$$ \n",
    "\n",
    "donde $A$ es una matriz $m\\times n$. Es decir, $m$ ecuaciones y $n$ incognitas.\n",
    "\n",
    "- **El sistema tiene solución única** si $\\mathrm{rank}\\left([A|y]\\right) = \\mathrm{rank}\\left(A\\right)$, y $\\mathrm{rank}\\left(A\\right) = n$\n",
    "\n",
    "\n",
    "- **El sistema tiene infinitas soluciones** si $\\mathrm{rank}\\left([A|y]\\right) = \\mathrm{rank}\\left(A\\right)$, y $\\mathrm{rank}\\left(A\\right) < n$\n",
    "\n",
    "\n",
    "- **El no tiene soluciones** si $\\mathrm{rank}\\left([A|y]\\right) > \\mathrm{rank}\\left(A\\right)$"
   ]
  },
  {
   "cell_type": "markdown",
   "id": "7f223074",
   "metadata": {
    "cell_style": "center",
    "slideshow": {
     "slide_type": "slide"
    }
   },
   "source": [
    "> En python, $\\mathrm{rank}(A)$ está dado por la función `matrix_rank` de la librería `numpy.linalg`"
   ]
  },
  {
   "cell_type": "markdown",
   "id": "695a0567",
   "metadata": {
    "cell_style": "center",
    "slideshow": {
     "slide_type": "slide"
    }
   },
   "source": [
    "Aplicado al ejemplo anterior:"
   ]
  },
  {
   "cell_type": "code",
   "execution_count": 4,
   "id": "c83e64ef",
   "metadata": {
    "cell_style": "split",
    "slideshow": {
     "slide_type": "-"
    }
   },
   "outputs": [],
   "source": [
    "from numpy.linalg import matrix_rank\n",
    "M = np.array([[ 3,  1, -5],\n",
    "              [-2, -2,  5],\n",
    "              [ 4,  0, -5]])\n",
    "\n",
    "y = np.array([[2], [5], [9]])"
   ]
  },
  {
   "cell_type": "code",
   "execution_count": 5,
   "id": "da5084a1",
   "metadata": {
    "cell_style": "split",
    "slideshow": {
     "slide_type": "fragment"
    }
   },
   "outputs": [
    {
     "name": "stdout",
     "output_type": "stream",
     "text": [
      "[M|y] =\n",
      " [[ 3  1 -5  2]\n",
      " [-2 -2  5  5]\n",
      " [ 4  0 -5  9]]\n",
      "\n",
      "\n",
      "rank(M|b) = 2\n",
      "rank(M) = 2\n",
      "Número de incognitas, n = 3\n"
     ]
    }
   ],
   "source": [
    "My_aug = np.concatenate((M,y),axis = 1)\n",
    "print('[M|y] =\\n', My_aug)\n",
    "print('\\n')\n",
    "print('rank(M|b) =', matrix_rank(My_aug))\n",
    "print('rank(M) =', matrix_rank(M))\n",
    "print('Número de incognitas, n =', M.shape[1])"
   ]
  },
  {
   "cell_type": "markdown",
   "id": "b55e92a2",
   "metadata": {
    "cell_style": "center",
    "slideshow": {
     "slide_type": "fragment"
    }
   },
   "source": [
    "\\begin{align*}\n",
    "\\mathrm{rank}\\left([M|y]\\right) &= \\mathrm{rank}\\left(M\\right) \\\\\n",
    "\\mathrm{rank}\\left(M\\right) &\\lt n\n",
    "\\end{align*}\n",
    "\n",
    " **Por lo tanto, el sistema tiene infinitas soluciones**"
   ]
  },
  {
   "cell_type": "markdown",
   "id": "84870990",
   "metadata": {
    "slideshow": {
     "slide_type": "slide"
    }
   },
   "source": [
    "### Matriz singular\n",
    "La forma más directa de resolver un sistema es mediante la matriz inversa: $x = A^{-1}y$. Sin embargo, la estabilidad de esta expresión dependerá si la matriz es invertible o no."
   ]
  },
  {
   "cell_type": "markdown",
   "id": "27deb9c4",
   "metadata": {
    "slideshow": {
     "slide_type": "fragment"
    }
   },
   "source": [
    "Recordamos de álgebra lineal, que la matriz inversa está dada por \n",
    "\\begin{equation*}\n",
    "A^{-1} = \\frac{1}{|A|}\\mathrm{adj}(A),\n",
    "\\end{equation*}\n",
    "donde $\\mathrm{adj}(A)$ es la matriz adjunta."
   ]
  },
  {
   "cell_type": "markdown",
   "id": "ed361ccb",
   "metadata": {
    "slideshow": {
     "slide_type": "slide"
    }
   },
   "source": [
    "Si $\\mathrm{det}(A) = 0$,  decimos que **la matriz es singular** y, por lo tanto, no es invertible."
   ]
  },
  {
   "cell_type": "markdown",
   "id": "bc683932",
   "metadata": {
    "cell_style": "split",
    "slideshow": {
     "slide_type": "fragment"
    }
   },
   "source": [
    "Por ejemplo, la matriz:\n",
    "\n",
    "$$P = \\begin{bmatrix}\n",
    "1 & 2 & -1 \\\\\n",
    "2 & 3 &  0 \\\\\n",
    "1 & 1 &  1 \\\\\n",
    "\\end{bmatrix},$$\n",
    "\n",
    "es singular."
   ]
  },
  {
   "cell_type": "code",
   "execution_count": 6,
   "id": "d5f91c1c",
   "metadata": {
    "cell_style": "split"
   },
   "outputs": [
    {
     "name": "stdout",
     "output_type": "stream",
     "text": [
      "det(P) =  0.0\n"
     ]
    }
   ],
   "source": [
    "P = np.array([[ 1, 2,-1],\n",
    "              [ 2, 3, 0],\n",
    "              [ 1, 1, 1]])\n",
    "print('det(P) = ', det(P))"
   ]
  },
  {
   "cell_type": "markdown",
   "id": "6ecc3a38",
   "metadata": {
    "slideshow": {
     "slide_type": "slide"
    }
   },
   "source": [
    "Como resultado, al intentar calcular la matriz inversa, `python` nos arrojará un error."
   ]
  },
  {
   "cell_type": "code",
   "execution_count": 7,
   "id": "4ccf47b8",
   "metadata": {
    "slideshow": {
     "slide_type": "-"
    }
   },
   "outputs": [
    {
     "ename": "LinAlgError",
     "evalue": "Singular matrix",
     "output_type": "error",
     "traceback": [
      "\u001b[0;31m---------------------------------------------------------------------------\u001b[0m",
      "\u001b[0;31mLinAlgError\u001b[0m                               Traceback (most recent call last)",
      "Cell \u001b[0;32mIn[7], line 1\u001b[0m\n\u001b[0;32m----> 1\u001b[0m \u001b[38;5;28mprint\u001b[39m(\u001b[38;5;124m'\u001b[39m\u001b[38;5;124minv(P) = \u001b[39m\u001b[38;5;124m'\u001b[39m, inv(P))\n",
      "File \u001b[0;32m<__array_function__ internals>:200\u001b[0m, in \u001b[0;36minv\u001b[0;34m(*args, **kwargs)\u001b[0m\n",
      "File \u001b[0;32m~/miniconda3/lib/python3.11/site-packages/numpy/linalg/linalg.py:538\u001b[0m, in \u001b[0;36minv\u001b[0;34m(a)\u001b[0m\n\u001b[1;32m    536\u001b[0m signature \u001b[38;5;241m=\u001b[39m \u001b[38;5;124m'\u001b[39m\u001b[38;5;124mD->D\u001b[39m\u001b[38;5;124m'\u001b[39m \u001b[38;5;28;01mif\u001b[39;00m isComplexType(t) \u001b[38;5;28;01melse\u001b[39;00m \u001b[38;5;124m'\u001b[39m\u001b[38;5;124md->d\u001b[39m\u001b[38;5;124m'\u001b[39m\n\u001b[1;32m    537\u001b[0m extobj \u001b[38;5;241m=\u001b[39m get_linalg_error_extobj(_raise_linalgerror_singular)\n\u001b[0;32m--> 538\u001b[0m ainv \u001b[38;5;241m=\u001b[39m _umath_linalg\u001b[38;5;241m.\u001b[39minv(a, signature\u001b[38;5;241m=\u001b[39msignature, extobj\u001b[38;5;241m=\u001b[39mextobj)\n\u001b[1;32m    539\u001b[0m \u001b[38;5;28;01mreturn\u001b[39;00m wrap(ainv\u001b[38;5;241m.\u001b[39mastype(result_t, copy\u001b[38;5;241m=\u001b[39m\u001b[38;5;28;01mFalse\u001b[39;00m))\n",
      "File \u001b[0;32m~/miniconda3/lib/python3.11/site-packages/numpy/linalg/linalg.py:89\u001b[0m, in \u001b[0;36m_raise_linalgerror_singular\u001b[0;34m(err, flag)\u001b[0m\n\u001b[1;32m     88\u001b[0m \u001b[38;5;28;01mdef\u001b[39;00m \u001b[38;5;21m_raise_linalgerror_singular\u001b[39m(err, flag):\n\u001b[0;32m---> 89\u001b[0m     \u001b[38;5;28;01mraise\u001b[39;00m LinAlgError(\u001b[38;5;124m\"\u001b[39m\u001b[38;5;124mSingular matrix\u001b[39m\u001b[38;5;124m\"\u001b[39m)\n",
      "\u001b[0;31mLinAlgError\u001b[0m: Singular matrix"
     ]
    }
   ],
   "source": [
    "print('inv(P) = ', inv(P))"
   ]
  },
  {
   "cell_type": "markdown",
   "id": "2b7a54a9",
   "metadata": {
    "slideshow": {
     "slide_type": "slide"
    }
   },
   "source": [
    "Notar que el rango de la matriz $P$ es 2."
   ]
  },
  {
   "cell_type": "code",
   "execution_count": null,
   "id": "40b4bc69",
   "metadata": {
    "cell_style": "center"
   },
   "outputs": [],
   "source": [
    "matrix_rank(P)"
   ]
  },
  {
   "cell_type": "markdown",
   "id": "41ae66fa",
   "metadata": {},
   "source": [
    "> **Nota** Una matriz $A$ de tamaño $n\\times n$, será siempre singular si $\\mathrm{rank(A)} < n$ y viceversa."
   ]
  },
  {
   "cell_type": "markdown",
   "id": "ddc5489c",
   "metadata": {
    "slideshow": {
     "slide_type": "slide"
    }
   },
   "source": [
    "### Condición de una matriz\n",
    "\n",
    "*Decimos que una matriz $A$ está **mal condicionada**, si $\\mathrm{det}(A) \\approx 0$.* "
   ]
  },
  {
   "cell_type": "markdown",
   "id": "41d750fe",
   "metadata": {
    "cell_style": "center",
    "slideshow": {
     "slide_type": "fragment"
    }
   },
   "source": [
    "Si bien las **matrices mal condicionadas** tienen inversa, son **numericamente problemáticas**, ya que pueden inducir errores de redondeo, o diferencias numericas excesivamente grandes entre elementos (*overflow*) como resultado de la división por un número muy pequeño"
   ]
  },
  {
   "cell_type": "markdown",
   "id": "89740f5b",
   "metadata": {
    "cell_style": "center",
    "slideshow": {
     "slide_type": "slide"
    }
   },
   "source": [
    "Para determinar si una matriz está mal condicionada utilizamos el **número de condición**, definido como:\n",
    "\n",
    "$$\\mathrm{Cond}(A) = \\|A\\|\\cdot\\|A^{-1}\\|$$\n",
    "\n",
    "*Matrices mal condicionadas están caracterizadas por \"$\\mathrm{Cond}(A)$\" altos*"
   ]
  },
  {
   "cell_type": "markdown",
   "id": "a5fac666",
   "metadata": {
    "slideshow": {
     "slide_type": "fragment"
    }
   },
   "source": [
    "En python, $\\mathrm{Cond}(A)$ está dado por la función `cond` de la librería `numpy.linalg`"
   ]
  },
  {
   "cell_type": "code",
   "execution_count": null,
   "id": "cfa81324",
   "metadata": {},
   "outputs": [],
   "source": [
    "from numpy.linalg import cond\n",
    "print('Cond(P) = ',cond(P))"
   ]
  },
  {
   "cell_type": "markdown",
   "id": "873dc3de",
   "metadata": {
    "slideshow": {
     "slide_type": "slide"
    }
   },
   "source": [
    "Notar que $\\mathrm{det}(A)= 0$, no necesariamente significa que el sistema no tiene solución"
   ]
  },
  {
   "cell_type": "markdown",
   "id": "09d8c593",
   "metadata": {
    "cell_style": "split",
    "slideshow": {
     "slide_type": "fragment"
    }
   },
   "source": [
    "Por ejemplo, en el ejemplo anterior\n",
    "\n",
    "\\begin{eqnarray*}\n",
    "3x_1 + 1x_2 - 5x_3 &=& 2 \\\\\n",
    "-2x_1 - 2x_2 + 5x_3 &=& 5 \\\\\n",
    "4x_1 -5x_3  &=& 9 \\\\\n",
    "\\end{eqnarray*}\n"
   ]
  },
  {
   "cell_type": "code",
   "execution_count": null,
   "id": "e698ea5c",
   "metadata": {
    "cell_style": "split",
    "slideshow": {
     "slide_type": "fragment"
    }
   },
   "outputs": [],
   "source": [
    "print('M\\n', M)\n",
    "print('\\n')\n",
    "print('det(M) = ', det(M))"
   ]
  },
  {
   "cell_type": "markdown",
   "id": "a6df4701",
   "metadata": {
    "slideshow": {
     "slide_type": "fragment"
    }
   },
   "source": [
    "Sin embargo, como habíamos determinado anteriormente, el sistema tiene múltiples soluciones."
   ]
  },
  {
   "cell_type": "markdown",
   "id": "b7778fa7",
   "metadata": {
    "slideshow": {
     "slide_type": "slide"
    }
   },
   "source": [
    "## Métodos directos para resolver sistemas de ecuaciones"
   ]
  },
  {
   "cell_type": "markdown",
   "id": "925e1918",
   "metadata": {
    "slideshow": {
     "slide_type": "slide"
    }
   },
   "source": [
    "### Eliminación de Gauss\n",
    "Es un algoritmo para resolver sistemas ecuaciones lineales basado en convertir la matriz $A$ en una matriz **triangular superior**. El sistema toma la forma: \n",
    "\n",
    "$$\\begin{bmatrix}\n",
    "a_{1,1} & a_{1,2} & a_{1,3} & a_{1,4}\\\\\n",
    "0 & a_{2,2}' & a_{2,3}' & a_{2,4}'\\\\\n",
    "0 & 0 & a_{3,3}' & a_{3,4}' \\\\\n",
    "0 & 0 & 0 & a_{4,4}'\n",
    "\\end{bmatrix}\\left[\\begin{array}{c} x_1 \\\\x_2 \\\\ x_3 \\\\x_4 \\end{array}\\right] =\n",
    "\\left[\\begin{array}{c} y_1 \\\\y_2' \\\\ y_3' \\\\y_4' \\end{array}\\right]$$"
   ]
  },
  {
   "cell_type": "markdown",
   "id": "a73aefb7",
   "metadata": {
    "slideshow": {
     "slide_type": "fragment"
    }
   },
   "source": [
    "Esta ecuación puede resolverse fácilmente, comenzando por $x_4 = y_4'/a_{4,4}'$, luego continuamos con $x_3 = \\frac{y_3' - a_{3,4}x_4}{ a_{3,4}}$, y así sucesivamente hasta llegar a $x_1$. En otras palabras, utilizamos **sustitución hacia atrás**, resolviendo el sistema desde abajo hacia arriba. "
   ]
  },
  {
   "cell_type": "markdown",
   "id": "e3ec0023",
   "metadata": {
    "slideshow": {
     "slide_type": "fragment"
    }
   },
   "source": [
    "Si $A$ es una matriz **triangular inferior**, resolveríamos el problema de arriba hacia abajo utilizando **sustitución hacia adelante.**"
   ]
  },
  {
   "cell_type": "markdown",
   "id": "0dc815d7",
   "metadata": {
    "cell_style": "center",
    "slideshow": {
     "slide_type": "slide"
    }
   },
   "source": [
    "La mejor forma de entender el método de eliminación Gauseana es con un ejemplo:\n",
    "\n",
    "\\begin{eqnarray*}\n",
    "4x_1 + 3x_2 - 5x_3 &=& 2 \\\\\n",
    "-2x_1 - 4x_2 + 5x_3 &=& 5 \\\\\n",
    "8x_1 + 8x_2  &=& -3 \\\\\n",
    "\\end{eqnarray*}"
   ]
  },
  {
   "cell_type": "markdown",
   "id": "8a00a507",
   "metadata": {
    "cell_style": "split",
    "slideshow": {
     "slide_type": "fragment"
    }
   },
   "source": [
    "Paso 1: Transformamos el sistema de ecuaciones en su forma matricial $Ax=y$. \n",
    "\n",
    "$$\n",
    "\\begin{bmatrix}\n",
    "4 & 3 & -5\\\\\n",
    "-2 & -4 & 5\\\\\n",
    "8 & 8 & 0\\\\\n",
    "\\end{bmatrix}\\left[\\begin{array}{c} x_1 \\\\x_2 \\\\x_3 \\end{array}\\right] =\n",
    "\\left[\\begin{array}{c} 2 \\\\5 \\\\-3\\end{array}\\right]$$ "
   ]
  },
  {
   "cell_type": "markdown",
   "id": "eb3479c3",
   "metadata": {
    "cell_style": "split",
    "slideshow": {
     "slide_type": "fragment"
    }
   },
   "source": [
    "Paso 2: Determinar la matriz aumentada [A, y] \n",
    "\n",
    "$$\n",
    "[A, y]  = \\begin{bmatrix}\n",
    "4 & 3 & -5 & 2\\\\\n",
    "-2 & -4 & 5 & 5\\\\\n",
    "8 & 8 & 0 & -3\\\\\n",
    "\\end{bmatrix}$$\n",
    "<br>"
   ]
  },
  {
   "cell_type": "markdown",
   "id": "a8c9abf4",
   "metadata": {
    "cell_style": "center",
    "slideshow": {
     "slide_type": "slide"
    }
   },
   "source": [
    "Paso 3: Determinamos la matriz triangular superior utilizando pivoteo parcial y eliminación.\n",
    "\n",
    "- Comenzando por la primera columna. Primero, permutamos las filas de manera que el coeficiente con mayor valor absoluto quede en la primera fila (pivoteo parcial):\n",
    "\n",
    "$$\n",
    "[A, y]  = \\begin{bmatrix}\n",
    "8 & 8 & 0 & -3\\\\\n",
    "4 & 3 & -5 & 2\\\\\n",
    "-2 & -4 & 5 & 5\\\\\n",
    "\\end{bmatrix}$$"
   ]
  },
  {
   "cell_type": "markdown",
   "id": "6b2df879",
   "metadata": {
    "cell_style": "center",
    "slideshow": {
     "slide_type": "slide"
    }
   },
   "source": [
    "- Luego, eliminamos los otros coeficientes de la primera columna, comenzando por el segundo. Multiplicamos la primera fila por $1/2$ y la restamos a la segunda fila:\n",
    "\n",
    "$$\n",
    "[A, y]  = \\begin{bmatrix}\n",
    "8 & 8 & 0 & -3\\\\\n",
    "0 & -1 & -5 & 3.5\\\\\n",
    "-2 & -4 & 5 & 5\\\\\n",
    "\\end{bmatrix}$$\n",
    "\n",
    "- Después, multiplicamos la primera fila por $- 1/4$ y la restamos a la tercera fila:\n",
    "\n",
    "$$\n",
    "[A, y]  = \\begin{bmatrix}\n",
    "8 & 8 & 0 & -3\\\\\n",
    "0 & -1 & -5 & 3.5\\\\\n",
    "0 & -2 & 5 & 4.25\\\\\n",
    "\\end{bmatrix}$$"
   ]
  },
  {
   "cell_type": "markdown",
   "id": "0b3cbb23",
   "metadata": {
    "cell_style": "center",
    "slideshow": {
     "slide_type": "slide"
    }
   },
   "source": [
    "- Repetimos el proceso con la segunda columna. Primero, permutamos las filas:\n",
    "\n",
    "$$\n",
    "[A, y]  = \\begin{bmatrix}\n",
    "8 & 8 & 0 & -3\\\\\n",
    "0 & -2 & 5 & 4.25\\\\\n",
    "0 & -1 & -5 & 3.5\\\\\n",
    "\\end{bmatrix}$$\n",
    "\n",
    "\n",
    "- Luego, eliminamos el coeficiente inferior.  Multiplicamos por la segunda fila por $1/2$ y restamos a la tercera fila:\n",
    "\n",
    "$$\n",
    "[A, y]  = \\begin{bmatrix}\n",
    "8 & 8 & 0 & -3\\\\\n",
    "0 & -2 & 5 & 4.25\\\\\n",
    "0 & 0 & -7.5 & 1.375\\\\\n",
    "\\end{bmatrix}$$"
   ]
  },
  {
   "cell_type": "markdown",
   "id": "a667ee1c",
   "metadata": {
    "cell_style": "center",
    "slideshow": {
     "slide_type": "slide"
    }
   },
   "source": [
    "Paso 4. Realizamos sustitución hacia atras.\n",
    "\n",
    "\\begin{align*}\n",
    "x_3 &= \\frac{1.375}{-7.5}=-0.183 \\\\\n",
    "x_2 &= \\frac{4.25 - (-2)x_3}{5} = -2.583 \\\\\n",
    "x_1 &= \\frac{-3 - 8x_2 + 0x_3}{8} = 2.208\n",
    "\\end{align*}\n",
    "\n",
    "> El método de eliminación Gaussiana es de complejidad $O(N^3)$"
   ]
  },
  {
   "cell_type": "markdown",
   "id": "88918770",
   "metadata": {
    "cell_style": "center",
    "slideshow": {
     "slide_type": "slide"
    }
   },
   "source": [
    "### Factorización LU\n",
    "Es posible demostrar que cualquier matriz cuadrada $A$ puede ser expresada como el producto de una matriz triangular inferior $L$, y una matriz triangular superior $U$.\n",
    "\n",
    "$$A = LU$$"
   ]
  },
  {
   "cell_type": "markdown",
   "id": "4afb63bc",
   "metadata": {
    "slideshow": {
     "slide_type": "fragment"
    }
   },
   "source": [
    "El proceso para obtener $L$ y $U$ es conocido como *descomposición* o *factorización* LU. **Es el método de solución de ecuaciones lineales más confiable y utilizado.**"
   ]
  },
  {
   "cell_type": "markdown",
   "id": "c4a21aa3",
   "metadata": {
    "slideshow": {
     "slide_type": "fragment"
    }
   },
   "source": [
    "El tipo de factorización LU no es única, ya que existen múltiples formas de representar $L$ y $U$ para un $A$ dado. Así, definimos tres tipos de factorizaciones comúnmente utilizadas:\n",
    "\n",
    "|  Nombre   |        Condiciones        |\n",
    "|:---------:|:-------------------------:|\n",
    "| Doolittle |$L_{ii} = 1$, $i = 1, 2,... $, $n$|\n",
    "| Crout     |$U_{ii} = 1$, $i = 1, 2,... $, $n$|\n",
    "|Choleski   |$L = U^T$                  |"
   ]
  },
  {
   "cell_type": "markdown",
   "id": "72c2e71d",
   "metadata": {
    "slideshow": {
     "slide_type": "slide"
    }
   },
   "source": [
    "Una vez ejecutada la factorización, resolvemos el sistema $Ax = y$."
   ]
  },
  {
   "cell_type": "markdown",
   "id": "32b9f368",
   "metadata": {
    "cell_style": "split"
   },
   "source": [
    "<img src=\"./images/LU_schematic.png\" width=\"500\" align= center>"
   ]
  },
  {
   "cell_type": "markdown",
   "id": "e54a43c4",
   "metadata": {
    "cell_style": "split"
   },
   "source": [
    "Dado el sistema $LUx = y$:\n",
    "- Primero resolvemos el sistema $Ld = y$, por sustitución hacia adelante ($d = Ux$).\n",
    "\n",
    "- Luego, resolvemos el sistema $Ux = d$, por sustitución hacia atrás."
   ]
  },
  {
   "cell_type": "markdown",
   "id": "11b880b1",
   "metadata": {
    "cell_style": "center",
    "slideshow": {
     "slide_type": "slide"
    }
   },
   "source": [
    "\n",
    "> A diferencia del método de eliminación de Gauss, la factorizacion LU no depende del vector $y$. Por lo tanto, es conveniente para resolver el sistema $Ax=y$, con múltiples valores de $y$.\n",
    "\n",
    "> Debido a que la factorización LU está basada en eliminación de Gauss, el orden de complejidad es $O(N^3)$."
   ]
  },
  {
   "cell_type": "markdown",
   "id": "30756dcd",
   "metadata": {
    "slideshow": {
     "slide_type": "slide"
    }
   },
   "source": [
    "Existen diversos métodos para obtener las matrices $L$ y $U$. Uno de ellos es mediante eliminación Gaussiana."
   ]
  },
  {
   "cell_type": "markdown",
   "id": "de7b893e",
   "metadata": {
    "cell_style": "center",
    "slideshow": {
     "slide_type": "fragment"
    }
   },
   "source": [
    "Como mostramos anteriormente, el método de eliminación de Gauss permite determinar una matriz triangular superior $U$."
   ]
  },
  {
   "cell_type": "markdown",
   "id": "2f47bed5",
   "metadata": {
    "slideshow": {
     "slide_type": "fragment"
    }
   },
   "source": [
    " La matriz triangular inferior ($L$), aunque no se mostró de forma explicita, estaría conformada por \"$1$\" en la diagonal, y los múltiplos utilizados para eliminar los elementos de las columnas."
   ]
  },
  {
   "cell_type": "markdown",
   "id": "41353c26",
   "metadata": {
    "slideshow": {
     "slide_type": "slide"
    }
   },
   "source": [
    "En general, se cumple la siguiente relación:\n",
    "\n",
    "$$PA = LU$$\n",
    "\n",
    "donde $P$ es la matriz de permutaciones."
   ]
  },
  {
   "cell_type": "markdown",
   "id": "6a987056",
   "metadata": {
    "cell_style": "center",
    "slideshow": {
     "slide_type": "fragment"
    }
   },
   "source": [
    "Por ejemplo, en el ejercicio anterior:\n",
    "\\begin{eqnarray*}\n",
    "4x_1 + 3x_2 - 5x_3 &=& 2 \\\\\n",
    "-2x_1 - 4x_2 + 5x_3 &=& 5 \\\\\n",
    "8x_1 + 8x_2  &=& -3 \\\\\n",
    "\\end{eqnarray*}\n",
    "\n",
    "Tenemos:\n",
    "\n",
    "$$\n",
    "L  = \\begin{bmatrix}\n",
    "1 & 0 & 0 \\\\\n",
    "-0.25 & 1 & 0 \\\\\n",
    "0.5 & 0.5 & 1 \\\\\n",
    "\\end{bmatrix};\n",
    "U  = \\begin{bmatrix}\n",
    "8 & 8 & 0 \\\\\n",
    "0 & -2 & 5 \\\\\n",
    "0 & 0 & -7.5 \\\\\n",
    "\\end{bmatrix}; \n",
    "P  = \\begin{bmatrix}\n",
    "0 & 0 & 1 \\\\\n",
    "0 & 1 & 0 \\\\\n",
    "1 & 0 & 0 \\\\\n",
    "\\end{bmatrix}$$"
   ]
  },
  {
   "cell_type": "code",
   "execution_count": null,
   "id": "596afa56",
   "metadata": {
    "cell_style": "split",
    "slideshow": {
     "slide_type": "slide"
    }
   },
   "outputs": [],
   "source": [
    "A = np.array([[ 4,  3, -5],\n",
    "              [-2, -4,  5], \n",
    "              [ 8,  8,  0]])\n",
    "\n",
    "L = np.array([[    1,   0, 0],\n",
    "              [-0.25,   1, 0],\n",
    "              [  0.5, 0.5, 1]])\n",
    "\n",
    "U = np.array([[ 8,  8,   0],\n",
    "              [ 0, -2,   5],\n",
    "              [ 0,  0,-7.5]])\n",
    "\n",
    "P = np.array([[0, 0, 1],\n",
    "              [0, 1, 0],\n",
    "              [1, 0, 0]])"
   ]
  },
  {
   "cell_type": "code",
   "execution_count": null,
   "id": "108e681c",
   "metadata": {
    "cell_style": "split"
   },
   "outputs": [],
   "source": [
    "print('P*A =\\n',np.dot(P,A))\n",
    "print('\\n')\n",
    "print('L*U =\\n',np.dot(L,U))"
   ]
  },
  {
   "cell_type": "markdown",
   "id": "c41b4e58",
   "metadata": {
    "slideshow": {
     "slide_type": "slide"
    }
   },
   "source": [
    "Notar que, considerando la permutación, **la solución al sistema $Ax=y$ está dada por**:\n",
    "\n",
    "\\begin{equation*}\n",
    "LUx = Py\n",
    "\\end{equation*}"
   ]
  },
  {
   "cell_type": "markdown",
   "id": "7d23fe78",
   "metadata": {
    "slideshow": {
     "slide_type": "slide"
    }
   },
   "source": [
    "## Métodos iterativos para resolver sistemas de ecuaciones\n",
    "Los métodos iterativos están basados en una serie repetitiva de operaciones, comenzando por un valor inicial."
   ]
  },
  {
   "cell_type": "markdown",
   "id": "344d6501",
   "metadata": {
    "slideshow": {
     "slide_type": "fragment"
    }
   },
   "source": [
    " A diferencia de los métodos directos, el número de operaciones está condicionado por la convergencia y el valor inicial escogido"
   ]
  },
  {
   "cell_type": "markdown",
   "id": "e8ae1b66",
   "metadata": {
    "slideshow": {
     "slide_type": "slide"
    }
   },
   "source": [
    "Las ventajas de los métodos iterativos es que tienen un orden de complejidad menor que los métodos directos, y no requieren gran capacidad de memoria (recordemos que factorización LU requiere almacenar las matrices L, U y P)"
   ]
  },
  {
   "cell_type": "markdown",
   "id": "80b14a2a",
   "metadata": {
    "slideshow": {
     "slide_type": "fragment"
    }
   },
   "source": [
    "La gran desventaja radica en la convergencia de los algoritmos. Una condición suficiente, pero no necesaria es que la matriz $A$ debe ser **diagonal dominante**, es decir, los elementos de la diagonal, $a_{i,i}$, deben satisfacer:\n",
    "\n",
    "$$|a_{i,i}| \\geq \\sum_{j\\neq i} |a_{i,j}|$$"
   ]
  },
  {
   "cell_type": "markdown",
   "id": "98713140",
   "metadata": {
    "slideshow": {
     "slide_type": "fragment"
    }
   },
   "source": [
    "Estos métodos se utilizan, generalmente, en simulaciones con elementos finitos (FEM), o volúmenes finitos (VEM)."
   ]
  },
  {
   "cell_type": "markdown",
   "id": "78fccc4a",
   "metadata": {
    "cell_style": "center",
    "slideshow": {
     "slide_type": "slide"
    }
   },
   "source": [
    "### Gauss-Seidel\n",
    "\n",
    "El algoritmo se puede resumir en los siguientes pasos:\n",
    "\n",
    "Paso 1. Asumimos un valor inicial para $x_2^{(0)}, x_3^{(0)}, \\cdots, x_n^{(0)}$ (con excepción de $x_1^{(0)}$).\n",
    "\n",
    "Paso 2. Calculamos un nuevo valor para $x_1^{(1)}$ mediante:\n",
    "\n",
    "$$\n",
    "x_1^{(1)} = \\frac{1}{a_{1,1}}\\Big[y_1 - \\sum_{j \\ne 1}^{n}{a_{1,j}x_j^{(0)}} \\Big]\n",
    "$$\n",
    "\n",
    "Paso 3. Utilizando el nuevo valor $x_1^{(1)}$ y el resto de $x^{(0)}$ (con excepción de $x_2^{(0)}$), determinamos $x_2^{(1)}$.\n",
    "\n",
    "$$\n",
    "x_2^{(1)} = \\frac{1}{a_{2,2}}\\Big[y_2 - \\sum_{j \\ne 1,2}^{n}{a_{2,j}x_j^{(0)}}  - {a_{2,1}x_1^{(1)}}\\Big]\n",
    "$$"
   ]
  },
  {
   "cell_type": "markdown",
   "id": "b989a559",
   "metadata": {
    "slideshow": {
     "slide_type": "slide"
    }
   },
   "source": [
    "Paso 4. Repetimos el paso 3 hasta completar todos los elementos del vector $x$.\n",
    "\n",
    "Paso 5. Continuamos con la iteración hasta que el valor de $x$ converge dentro de una tolerancia $\\varepsilon$, definida por:\n",
    "\n",
    " $$\\| x^{(k)} - x^{(k-1)}\\| \\lt \\varepsilon$$"
   ]
  },
  {
   "cell_type": "markdown",
   "id": "48592b02",
   "metadata": {
    "slideshow": {
     "slide_type": "slide"
    }
   },
   "source": [
    "Por ejemplo, resolvamos el siguiente sistema de ecuaciones con el métodod de Gauss-Seidel:"
   ]
  },
  {
   "cell_type": "markdown",
   "id": "fb272ffa",
   "metadata": {
    "cell_style": "split",
    "slideshow": {
     "slide_type": "fragment"
    }
   },
   "source": [
    "\\begin{eqnarray*}\n",
    "8x_1 + 3x_2 - 3x_3 &=& 14 \\\\\n",
    "-2x_1 - 8x_2 + 5x_3 &=& 5 \\\\\n",
    "3x_1 + 5x_2 + 10x_3 & =& -8 \\\\\n",
    "\\end{eqnarray*}"
   ]
  },
  {
   "cell_type": "code",
   "execution_count": null,
   "id": "fb392860",
   "metadata": {
    "cell_style": "split",
    "slideshow": {
     "slide_type": "-"
    }
   },
   "outputs": [],
   "source": [
    "import numpy as np\n",
    "\n",
    "A = np.array(\n",
    "    [[ 8.,  3., -3.], \n",
    "     [-2., -8.,  5.], \n",
    "      [3.,  5., 10.]])\n",
    "\n",
    "y = np.array([14., 5., -8.])\n",
    "print('A = \\n', A)\n",
    "print('y = ', y)"
   ]
  },
  {
   "cell_type": "markdown",
   "id": "2f97ae1d",
   "metadata": {
    "slideshow": {
     "slide_type": "slide"
    }
   },
   "source": [
    "Primero, verificamos que la matriz es diagonal dominante:"
   ]
  },
  {
   "cell_type": "code",
   "execution_count": null,
   "id": "8702b137",
   "metadata": {
    "cell_style": "center",
    "slideshow": {
     "slide_type": "fragment"
    }
   },
   "outputs": [],
   "source": [
    "# coeficientes de la diagonal\n",
    "diagA = np.diag(np.abs(A))             # extraemos los elementos de la diagonal de A\n",
    "print('|a_ii| = ',diagA)               # mostramos resultado\n",
    "\n",
    "# suma de los a_ij fuera de la diagonal\n",
    "sum_aij = np.sum(np.abs(A), axis=1)    # suma de elementos por fila\n",
    "off_diagA = sum_aij - diagA            # sume elementos fuera de la diagonal\n",
    "print('sum(|a_ij|, i!=j) =',off_diagA) # mostramos resultado\n",
    "\n",
    "# evaluamos condición de matriz diagonal dominante\n",
    "if np.all(diagA >= off_diagA):\n",
    "    print('la matriz es diagonal dominante')\n",
    "else:\n",
    "    print('la matriz no es diagonal dominante')"
   ]
  },
  {
   "cell_type": "markdown",
   "id": "9eb6ee4c",
   "metadata": {
    "slideshow": {
     "slide_type": "slide"
    }
   },
   "source": [
    "Luego, elaboramos una función para ejecutar el algoritmo de Gauss-Seidel"
   ]
  },
  {
   "cell_type": "code",
   "execution_count": null,
   "id": "75f83367",
   "metadata": {
    "cell_style": "center",
    "slideshow": {
     "slide_type": "fragment"
    }
   },
   "outputs": [],
   "source": [
    "def gauss_seidel(A,y,x0, max_iter = 50, abs_tol = 1E-3, verbose = False):\n",
    "    '''\n",
    "    Algoritmo Gauss-Seidel para resolver un sistema Ax = y\n",
    "    \n",
    "    Parametros\n",
    "    ------------\n",
    "        - A : ndarray\n",
    "                matriz de coeficientes (debe ser de dimensiones n x n)\n",
    "        - y : ndarray\n",
    "                vector columna \"y\" (dimensión n x 1)\n",
    "        - x0 : ndarray\n",
    "                vector \"x\" inicial (dimensión n x 1)\n",
    "        - max_iter : int\n",
    "                número máximo de iteraciones (50 por defecto)\n",
    "        - abs_tol : float\n",
    "                tolerancia al error absoluto (1E-3 por defecto)\n",
    "        - verbose: bool\n",
    "                generar mensajes al usuario (\"False\" por defecto)\n",
    "    Return\n",
    "    -------\n",
    "        - xsol: ndarray\n",
    "                solución del sistema (dimensión n x 1)\n",
    "        - error_abs: float\n",
    "                error absoluto\n",
    "    '''\n",
    "    # -------------------------------- Importamos funciones de numpy ------------------------------------\n",
    "    from numpy import copy, concatenate\n",
    "    from numpy.linalg import norm, matrix_rank\n",
    "    \n",
    "    # -------------------------------- Parámetros de entrada --------------------------------------------\n",
    "    converged = False                                               # verificar convergencia (falso por defecto)\n",
    "    nrows, ncols = A.shape                                          # registramos número de filas y columnas\n",
    "    \n",
    "    # ------------------------ verificamos si el sistema tiene solución única ---------------------------\n",
    "    y = y.reshape(-1,1)                                             # transformamos y a vector columna\n",
    "    Ay = concatenate((A,y),axis = 1)                                # matriz aumentada\n",
    "    n = len(y)                                                      # número de incognitas\n",
    "    assert matrix_rank(Ay) == matrix_rank(A) and matrix_rank(A) == n, 'El sistema no tiene solución única'\n",
    "        \n",
    "    \n",
    "    # ------------------------------ Algoritmo Gauss-Seidel ---------------------------------------------\n",
    "    x = x0                                                          # pasamos el valor inicial a \"x\"\n",
    "    for k in range(1, max_iter):                                    # iteraciones\n",
    "        x_old = copy(x)                                             # copiamos iteración k-1\n",
    "\n",
    "        # Perform iteration\n",
    "        for i in range(n):                                          # recorrer filas\n",
    "            sum2 = sum(A[i][j] * x_old[j] for j in range(i + 1, n)) # sum(aij*xj^(k-1), j > i + 1)\n",
    "            sum1 = sum(A[i][j] * x[j]     for j in range(i))        # sum(aij*xj^(k)  , j < i    )\n",
    "            x[i] = (y[i] - sum1 - sum2) / A[i][i]                   # xi^k = (yi - sum(aij*xj^(k-1), i != j))/aii\n",
    "    \n",
    "        # determinamos el error absoluto con norma Frobenius\n",
    "        error_abs = norm(x-x_old)                                   # || x^k - x^(k-1)||\n",
    "        if verbose:\n",
    "            print(\"iter =\",k,'; x =',x)                             # mostramos resultado de iteración (opcional)\n",
    "        \n",
    "        # verificamos convergencia con || x^k - x^(k-1)|| < abs_tol\n",
    "        if error_abs < abs_tol:\n",
    "            converged = True\n",
    "            if verbose:\n",
    "                print('Converged!')\n",
    "            break                                                   # terminamos loop \"for k in range(1, Niter)\"\n",
    "\n",
    "    # --------------------- Preparamos output ----------------------------------------\n",
    "    if not converged:                                               # si no converge entregamos una advertencia al usuario\n",
    "        print('No converge, incrementar número de iteraciones')\n",
    "        \n",
    "    return x, error_abs"
   ]
  },
  {
   "cell_type": "markdown",
   "id": "7721995c",
   "metadata": {
    "slideshow": {
     "slide_type": "slide"
    }
   },
   "source": [
    "Evaluamos nuestra función y la solución de Gauss-Seidel"
   ]
  },
  {
   "cell_type": "code",
   "execution_count": null,
   "id": "32986376",
   "metadata": {
    "cell_style": "center",
    "slideshow": {
     "slide_type": "fragment"
    }
   },
   "outputs": [],
   "source": [
    "x = np.array([0.,0.,0.]) # valores iniciales\n",
    "xsol, Eabs = gauss_seidel(A,y,x, verbose = True)"
   ]
  },
  {
   "cell_type": "markdown",
   "id": "2495f638",
   "metadata": {
    "slideshow": {
     "slide_type": "slide"
    }
   },
   "source": [
    "Verificamos si la solución es correcta analizando $Ax_\\mathrm{sol} = y$."
   ]
  },
  {
   "cell_type": "code",
   "execution_count": null,
   "id": "5ee8e013",
   "metadata": {
    "cell_style": "center",
    "slideshow": {
     "slide_type": "fragment"
    }
   },
   "outputs": [],
   "source": [
    "print('Error absoluto = ', norm(A.dot(xsol) - y))"
   ]
  },
  {
   "cell_type": "markdown",
   "id": "d08b071a",
   "metadata": {
    "cell_style": "center",
    "slideshow": {
     "slide_type": "fragment"
    }
   },
   "source": [
    "Notar que el error absoluto de $\\| Ax_\\mathrm{sol} - y\\| \\gt \\varepsilon$. Esto debido a que el criterio de convergencia se estableció en base a  $\\| x^{(k)} - x^{(k-1)}\\| \\lt \\varepsilon$. Sin embargo, el error es proporcional a la tolerancia, de manera que siempre podremos mejorar nuestra solución reduciendo el valor de $\\varepsilon$ (compruebe cambiando `abs_tol` en `gauss_seidel`)."
   ]
  },
  {
   "cell_type": "markdown",
   "id": "989191d1",
   "metadata": {
    "slideshow": {
     "slide_type": "slide"
    }
   },
   "source": [
    "Debido a que agregamos una descripción de la función, podemos revisar los argumentos y *output* de la función usando `help` o `shift + tab`"
   ]
  },
  {
   "cell_type": "code",
   "execution_count": null,
   "id": "931e5cfc",
   "metadata": {},
   "outputs": [],
   "source": [
    "help(gauss_seidel)"
   ]
  },
  {
   "cell_type": "markdown",
   "id": "413ece6e",
   "metadata": {
    "slideshow": {
     "slide_type": "slide"
    }
   },
   "source": [
    "## Solución de sistemas de ecuaciones lineales con python\n",
    "En python la forma más facil de resolver sistemas de ecuaciones lineal es mediante la función `solve` de `numpy.linalg`. Esta función utiliza factorización LU para resolver el sistema.\n",
    "\n",
    "Por ejemplo, tomemos el ejemplo de las personas conectadas por elásticos:\n",
    "\n",
    "|  Persona   | Masa (kg)| Constante del resorte (N/m) | Longitud incial del elástico |\n",
    "|:----------:|:--------:|:--------:|:--------:|\n",
    "| primera    |60| 50 | 20|\n",
    "| segunda    |70| 100| 20 |\n",
    "| tercera    |80|50|20|"
   ]
  },
  {
   "cell_type": "markdown",
   "id": "545673b9",
   "metadata": {
    "cell_style": "split",
    "slideshow": {
     "slide_type": "fragment"
    }
   },
   "source": [
    "Tenemos un sistema de la forma:\n",
    "\n",
    "$$\n",
    "\\begin{bmatrix}\n",
    "150 & -100 & 0\\\\\n",
    "-100 & 150 & -50\\\\\n",
    "0 & -50 & 50\\\\\n",
    "\\end{bmatrix}\\left[\\begin{array}{c} x_1 \\\\x_2 \\\\x_3 \\end{array}\\right] =\n",
    "\\left[\\begin{array}{c} 588.6 \\\\686.7 \\\\784.8\\end{array}\\right]$$ "
   ]
  },
  {
   "cell_type": "code",
   "execution_count": null,
   "id": "96c5233f",
   "metadata": {
    "cell_style": "split",
    "slideshow": {
     "slide_type": "fragment"
    }
   },
   "outputs": [],
   "source": [
    "import numpy as np\n",
    "\n",
    "A = np.array([[ 150, -100,   0], \n",
    "              [-100,  150, -50], \n",
    "              [   0,  -50,  50]])\n",
    "\n",
    "y = np.array([588.6, 686.7, 784.8])\n",
    "\n",
    "x = np.linalg.solve(A, y)\n",
    "print(x)"
   ]
  },
  {
   "cell_type": "markdown",
   "id": "adaa70cd",
   "metadata": {
    "slideshow": {
     "slide_type": "slide"
    }
   },
   "source": [
    "Notar que en este problema $x_1$, $x_2$ y $x_3$ representan las posiciones relativas de las personas. Así la posición final está dada por:"
   ]
  },
  {
   "cell_type": "code",
   "execution_count": null,
   "id": "b79b9b71",
   "metadata": {},
   "outputs": [],
   "source": [
    "x_inic = [20, 40, 60] # posición inicial\n",
    "print('Posición final de las personas: ', x + x_inic)"
   ]
  },
  {
   "cell_type": "markdown",
   "id": "9d09382b",
   "metadata": {
    "slideshow": {
     "slide_type": "slide"
    }
   },
   "source": [
    "Para conocer el valor explícito de las matrices $L$, $U$ $P$, podemos usar la función `lu` de la librería `scipy`."
   ]
  },
  {
   "cell_type": "code",
   "execution_count": null,
   "id": "fca97231",
   "metadata": {
    "cell_style": "center",
    "slideshow": {
     "slide_type": "fragment"
    }
   },
   "outputs": [],
   "source": [
    "from scipy.linalg import lu\n",
    "\n",
    "P, L, U = lu(A)\n",
    "print('P:\\n', P)\n",
    "print('L:\\n', L)\n",
    "print('U:\\n', U)\n",
    "print('LU:\\n',np.dot(L, U))"
   ]
  },
  {
   "cell_type": "markdown",
   "id": "33d3b1b6",
   "metadata": {
    "slideshow": {
     "slide_type": "slide"
    }
   },
   "source": [
    "## Referencias\n",
    "- Kong Q., Siauw T., Bayen A. M. **Chapter 14: Linear Algebra and Systems of Linear Equations** in *[Python Programming and Numerical Methods – A Guide for Engineers and Scientists](https://pythonnumericalmethods.berkeley.edu/notebooks/Index.html)*, 1st Ed., Academic Press, 2021\n",
    "\n",
    "- Chapra S., Canale R. **Parte tres: Ecuaciones algebraicas lineales** en *Métodos Numéricos para Ingenieros*, 6ta Ed., McGraw Hill, 2011"
   ]
  }
 ],
 "metadata": {
  "celltoolbar": "Slideshow",
  "kernelspec": {
   "display_name": "Python 3 (ipykernel)",
   "language": "python",
   "name": "python3"
  },
  "language_info": {
   "codemirror_mode": {
    "name": "ipython",
    "version": 3
   },
   "file_extension": ".py",
   "mimetype": "text/x-python",
   "name": "python",
   "nbconvert_exporter": "python",
   "pygments_lexer": "ipython3",
   "version": "3.11.6"
  },
  "latex_envs": {
   "LaTeX_envs_menu_present": false,
   "autoclose": false,
   "autocomplete": false,
   "bibliofile": "biblio.bib",
   "cite_by": "apalike",
   "current_citInitial": 1,
   "eqLabelWithNumbers": true,
   "eqNumInitial": 1,
   "hotkeys": {
    "equation": "Ctrl-E",
    "itemize": "Ctrl-I"
   },
   "labels_anchors": false,
   "latex_user_defs": false,
   "report_style_numbering": false,
   "user_envs_cfg": true
  },
  "rise": {
   "height": "100%",
   "theme": "simple",
   "width": "100%"
  },
  "toc": {
   "base_numbering": "1",
   "nav_menu": {},
   "number_sections": true,
   "sideBar": true,
   "skip_h1_title": true,
   "title_cell": "Contenidos",
   "title_sidebar": "Contenidos",
   "toc_cell": false,
   "toc_position": {
    "height": "calc(100% - 180px)",
    "left": "10px",
    "top": "150px",
    "width": "308.771px"
   },
   "toc_section_display": true,
   "toc_window_display": false
  },
  "varInspector": {
   "cols": {
    "lenName": 16,
    "lenType": 16,
    "lenVar": 40
   },
   "kernels_config": {
    "python": {
     "delete_cmd_postfix": "",
     "delete_cmd_prefix": "del ",
     "library": "var_list.py",
     "varRefreshCmd": "print(var_dic_list())"
    },
    "r": {
     "delete_cmd_postfix": ") ",
     "delete_cmd_prefix": "rm(",
     "library": "var_list.r",
     "varRefreshCmd": "cat(var_dic_list()) "
    }
   },
   "types_to_exclude": [
    "module",
    "function",
    "builtin_function_or_method",
    "instance",
    "_Feature"
   ],
   "window_display": false
  }
 },
 "nbformat": 4,
 "nbformat_minor": 5
}
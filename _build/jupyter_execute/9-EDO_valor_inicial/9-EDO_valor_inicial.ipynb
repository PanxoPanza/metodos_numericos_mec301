{
 "cells": [
  {
   "cell_type": "markdown",
   "id": "6d47d103",
   "metadata": {
    "cell_style": "center",
    "slideshow": {
     "slide_type": "slide"
    }
   },
   "source": [
    "<font size=\"6\">MEC301 - Métodos Numéricos</font>\n",
    "# Ecuaciones Diferenciales Ordinarias con valor inicial\n",
    "<br><br><br><br>\n",
    "Profesor: Francisco Ramírez Cuevas<br>\n",
    "Fecha: 24 de Octubre 2022"
   ]
  },
  {
   "cell_type": "markdown",
   "id": "07ce8d9e",
   "metadata": {
    "slideshow": {
     "slide_type": "slide"
    }
   },
   "source": [
    "## Introducción\n",
    "\n",
    "Las ecuaciones diferenciales son utilizadas para modelar sistemas en todos los campos de ciencia e ingeniería."
   ]
  },
  {
   "cell_type": "markdown",
   "id": "246756d8",
   "metadata": {
    "slideshow": {
     "slide_type": "fragment"
    }
   },
   "source": [
    "Como definición general, un **sistema de ecuaciones diferenciales** define la relación entre variables dependiente, $f_1(x_1,x_2,x_3, \\cdots), f_2(x_1,x_2,x_3, \\cdots), \\cdots$, las variables independientes $x_1,x_2,x_3, \\cdots$, y sus derivadas. "
   ]
  },
  {
   "cell_type": "markdown",
   "id": "e4ac4852",
   "metadata": {
    "slideshow": {
     "slide_type": "slide"
    }
   },
   "source": [
    "### Clasificación de ecuaciones diferenciales"
   ]
  },
  {
   "cell_type": "markdown",
   "id": "6d28e5b3",
   "metadata": {
    "slideshow": {
     "slide_type": "fragment"
    }
   },
   "source": [
    "El sistema puede estar compuesto de una ecuacion diferencial."
   ]
  },
  {
   "cell_type": "markdown",
   "id": "3e135793",
   "metadata": {
    "cell_style": "split",
    "slideshow": {
     "slide_type": "fragment"
    }
   },
   "source": [
    "Por ejemplo, la ***ecuación del péndulo*** que define la variación temporal del ángulo $\\Theta$ en función del tiempo $t$:\n",
    "\n",
    "\\begin{equation}\n",
    "ml\\frac{d^2}{dt^2}\\Theta(t) + \\kappa\\frac{d}{dt}\\Theta(t) + mg \\sin \\Theta(t) = 0\n",
    "\\end{equation}\n",
    "\n",
    "donde $g$ es la gravedad, $m$ la masa del péndulo, $l$ es la distancia al centro de rotación y $\\kappa$ es una constante a amortiguación asociado al arrastre por el viento"
   ]
  },
  {
   "cell_type": "markdown",
   "id": "f205e819",
   "metadata": {
    "cell_style": "split",
    "slideshow": {
     "slide_type": "fragment"
    }
   },
   "source": [
    "<img src=\"./images/ecuacion_pendulo.png\" width=\"300px\" align= center>"
   ]
  },
  {
   "cell_type": "markdown",
   "id": "4967babe",
   "metadata": {
    "slideshow": {
     "slide_type": "fragment"
    }
   },
   "source": [
    "En este caso tenemos una variable dependiente ($\\Theta$), y una variable dependiente ($t$)."
   ]
  },
  {
   "cell_type": "markdown",
   "id": "a8394ae0",
   "metadata": {
    "slideshow": {
     "slide_type": "fragment"
    }
   },
   "source": [
    "Este tipo de ecuaciones se conoce como **ecuación diferencial ordinaria (EDO)**, debido a que la varible dependiente está condicionada por una variable independiente. Adicionalmente, debido al término $\\sin\\Theta$, esta ecuación corresponde a una **EDO no-lineal**."
   ]
  },
  {
   "cell_type": "markdown",
   "id": "c3c25dc3",
   "metadata": {
    "slideshow": {
     "slide_type": "slide"
    }
   },
   "source": [
    "Si el ángulo de oscilación, $\\Theta$, es pequeño, podemos hacer la simplificación $\\sin \\Theta\\approx \\Theta$."
   ]
  },
  {
   "cell_type": "markdown",
   "id": "819c7a89",
   "metadata": {
    "slideshow": {
     "slide_type": "fragment"
    }
   },
   "source": [
    "En este caso la EDO se transforma a una ecuación del tipo lineal:\n",
    "\n",
    "\\begin{equation}\n",
    "ml\\frac{d^2\\Theta(t)}{dt^2} = -mg \\Theta(t) -\\kappa \\dot{\\Theta}(t) \n",
    "\\end{equation}"
   ]
  },
  {
   "cell_type": "markdown",
   "id": "726a1ccb",
   "metadata": {
    "slideshow": {
     "slide_type": "fragment"
    }
   },
   "source": [
    "En general, las EDO lineales tiene solución analítica."
   ]
  },
  {
   "cell_type": "markdown",
   "id": "b3d2d1d8",
   "metadata": {
    "slideshow": {
     "slide_type": "slide"
    }
   },
   "source": [
    "También podemos tener una ecuación diferencial definida para una variable dependiente y multiples variables independientes."
   ]
  },
  {
   "cell_type": "markdown",
   "id": "6161718c",
   "metadata": {
    "cell_style": "split",
    "slideshow": {
     "slide_type": "fragment"
    }
   },
   "source": [
    "Un buen ejemplo es la ***ecuación de difusión de calor***, que describe la distribución de temperatura en función del tiempo, $t$, y el espacio. En el caso 2D:\n",
    "\n",
    "\\begin{equation*}\n",
    "k\\frac{\\partial T}{\\partial x^2}+\n",
    "k\\frac{\\partial T}{\\partial y^2} = \\rho c_p \\frac{\\partial T}{\\partial t}\n",
    "\\end{equation*}\n",
    "\n",
    "donde $\\rho$ es la densidad, $c_p$ es el calor específico, y $k$ es la conductividad térmica"
   ]
  },
  {
   "cell_type": "markdown",
   "id": "ab727ff5",
   "metadata": {
    "cell_style": "split",
    "slideshow": {
     "slide_type": "fragment"
    }
   },
   "source": [
    "En el caso de más de una variable independiente, la llamamos **ecuación diferencial parcial (EDP)**"
   ]
  },
  {
   "cell_type": "markdown",
   "id": "824db78b",
   "metadata": {
    "cell_style": "split",
    "slideshow": {
     "slide_type": "fragment"
    }
   },
   "source": [
    "En este caso, la **EDP es del tipo lineal**"
   ]
  },
  {
   "cell_type": "markdown",
   "id": "3ed5cc52",
   "metadata": {
    "cell_style": "center",
    "slideshow": {
     "slide_type": "slide"
    }
   },
   "source": [
    "Por último, en el caso de más de una variable dependiente, podemos tener **sistemas de ecuaciones diferenciales del tipo EDO o EDP**."
   ]
  },
  {
   "cell_type": "markdown",
   "id": "34cb8230",
   "metadata": {
    "cell_style": "center",
    "slideshow": {
     "slide_type": "fragment"
    }
   },
   "source": [
    "Tal es el caso de la ***ecuación de Navier-Stokes*** utilizada en mecánica de fluidos para modelar un problema en dos dimenciones:\n",
    "\n",
    "\\begin{align*}\n",
    "\\frac{\\partial u}{\\partial t}+u\\frac{\\partial u}{\\partial x}+v\\frac{\\partial u}{\\partial y} &= -\\frac{1}{\\rho}\\frac{\\partial p}{\\partial x}+\\nu \\left(\\frac{\\partial^2 u}{\\partial x^2}+\\frac{\\partial^2 u}{\\partial y^2} \\right) \\\\\n",
    "\\frac{\\partial v}{\\partial t}+u\\frac{\\partial v}{\\partial x}+v\\frac{\\partial v}{\\partial y} &= -\\frac{1}{\\rho}\\frac{\\partial p}{\\partial y}+\\nu\\left(\\frac{\\partial^2 v}{\\partial x^2}+\\frac{\\partial^2 v}{\\partial y^2}\\right) \\\\\n",
    "\\frac{\\partial^2 p}{\\partial x^2}+\\frac{\\partial^2 p}{\\partial y^2} &= -\\rho\\left(\\frac{\\partial u}{\\partial x}\\frac{\\partial u}{\\partial x}+2\\frac{\\partial u}{\\partial y}\\frac{\\partial v}{\\partial x}+\\frac{\\partial v}{\\partial y}\\frac{\\partial v}{\\partial y} \\right)\n",
    "\\end{align*}"
   ]
  },
  {
   "cell_type": "markdown",
   "id": "2d2854fb",
   "metadata": {
    "cell_style": "center",
    "slideshow": {
     "slide_type": "fragment"
    }
   },
   "source": [
    "En este caso tenemos un sistema de **3 EDPs no-lineales** definido para tres funciones $u$, $v$ y $p$ en función del tiempo $t$ y el espacio $x$ e $y$. Donde $u(t,x,y)$ y $v(t,x,y)$ son, respectivamente, el campo de velocidad en dirección $\\hat{x}$ y $\\hat{y}$; y $p(t,x,y)$ es el campo de presiones. Nuevamente, $\\rho$, es la densidad del fluido."
   ]
  },
  {
   "cell_type": "markdown",
   "id": "7efe5fe0",
   "metadata": {
    "slideshow": {
     "slide_type": "slide"
    }
   },
   "source": [
    "También podemos clasificar una ecuación diferencial según el orden de sus derivadas.\n"
   ]
  },
  {
   "cell_type": "markdown",
   "id": "e4fe3671",
   "metadata": {
    "slideshow": {
     "slide_type": "fragment"
    }
   },
   "source": [
    "Por ejemplo, la ecuación:\n",
    "\\begin{equation}\n",
    "ml\\frac{d^2}{dt^2}\\Theta(t) + \\kappa\\frac{d}{dt}\\Theta(t) + mg \\sin \\Theta(t) = 0\n",
    "\\end{equation}\n",
    "\n",
    "Es una **EDO de segundo orden,** debido a que $\\Theta$ es derivada dos veces respecto a $t$."
   ]
  },
  {
   "cell_type": "markdown",
   "id": "d5ee8415",
   "metadata": {
    "slideshow": {
     "slide_type": "slide"
    }
   },
   "source": [
    "### Condiciones de borde y condiciones iniciales\n",
    "\n",
    "Las ecuaciones diferenciales presentadas anteriormente representa una formulación general asociada a un fenómeno físco (movimiento de un péndulo, distribución de temperaturas o movimiento de un fluido). Sin embargo, estas ecuaciones no están condicionadas a un problema en específico y, por lo tanto, su solución es definida en base a constantes de valor arbitrario. "
   ]
  },
  {
   "cell_type": "markdown",
   "id": "d30ffa0a",
   "metadata": {
    "slideshow": {
     "slide_type": "fragment"
    }
   },
   "source": [
    "Por ejemplo, la versión lineal de la EDO del péndulo tiene como solución general:\n",
    "\n",
    "\\begin{equation*}\n",
    "\\Theta(t) = Ae^{-\\lambda t} + Be^{+\\lambda t}\n",
    "\\end{equation*}"
   ]
  },
  {
   "cell_type": "markdown",
   "id": "d329bd21",
   "metadata": {
    "slideshow": {
     "slide_type": "fragment"
    }
   },
   "source": [
    "Para asociar una ecuacion diferencial a un problema específico necesitamos **condiciones de borde** o **condiciones iniciales**"
   ]
  },
  {
   "cell_type": "markdown",
   "id": "9556fc5a",
   "metadata": {
    "slideshow": {
     "slide_type": "slide"
    }
   },
   "source": [
    "Usamos ***condiciones iniciales si la variable dependiente evoluciona respecto a la variable independiente.***"
   ]
  },
  {
   "cell_type": "markdown",
   "id": "baac6861",
   "metadata": {
    "slideshow": {
     "slide_type": "fragment"
    }
   },
   "source": [
    "Por ejemplo, en el caso del péndulo, $\\Theta$ evoluciona respecto al tiempo, $t$, y por lo tanto necesitamos de condiciones inciales."
   ]
  },
  {
   "cell_type": "markdown",
   "id": "089883ad",
   "metadata": {
    "slideshow": {
     "slide_type": "fragment"
    }
   },
   "source": [
    "Como condición inicial, por ejemplo, asumamos que el péndulo está en reposo con un ángulo $\\Theta_0$:"
   ]
  },
  {
   "cell_type": "markdown",
   "id": "d98f85f2",
   "metadata": {
    "cell_style": "split",
    "slideshow": {
     "slide_type": "fragment"
    }
   },
   "source": [
    "**Ecuación gobernante**\n",
    "\n",
    "\\begin{equation*}\n",
    "ml\\frac{d^2}{dt^2}\\Theta(t) + \\kappa\\frac{d}{dt}\\Theta(t) + mg \\sin \\Theta(t) = 0\n",
    "\\end{equation*}\n",
    "\n",
    "**Condiciones iniciales**\n",
    "\\begin{align*}\n",
    "\\dot{\\Theta}(t = 0) &= 0 \\\\\n",
    "\\Theta(t = 0) &= \\Theta_0\n",
    "\\end{align*}"
   ]
  },
  {
   "cell_type": "markdown",
   "id": "9ebdd271",
   "metadata": {
    "cell_style": "split",
    "slideshow": {
     "slide_type": "fragment"
    }
   },
   "source": [
    "***El número de condiciones iniciales debe ser igual al número de derivadas de la variable independiente.***"
   ]
  },
  {
   "cell_type": "markdown",
   "id": "c6e96bb9",
   "metadata": {
    "cell_style": "center",
    "slideshow": {
     "slide_type": "fragment"
    }
   },
   "source": [
    "Comúnmente, las condiciones iniciales están asociadas a la variable tiempo. Sin embargo, una condición inicial puede también estar asociada a una variable espacial (por ejemplo, una vibración propagandose en el espacio)."
   ]
  },
  {
   "cell_type": "markdown",
   "id": "1dbb53a8",
   "metadata": {
    "slideshow": {
     "slide_type": "slide"
    }
   },
   "source": [
    "**Usamos condiciones de borde si la variable dependiente está condicionada por diversos puntos de una variable dependiente.**"
   ]
  },
  {
   "cell_type": "markdown",
   "id": "23490ac4",
   "metadata": {
    "cell_style": "center",
    "slideshow": {
     "slide_type": "fragment"
    }
   },
   "source": [
    "Por ejemplo, la distribución de temperaturas de una placa cuadrada de largo $L$, incialmente a temperatura $T_a$, con temperaturas en $T_h$ y $T_c$ en los bordes izquierdo y derecho, y tempertura $T_0$ en la parte superior e inferior, está descrita por la ecuación:"
   ]
  },
  {
   "cell_type": "markdown",
   "id": "dc312cc0",
   "metadata": {
    "cell_style": "split"
   },
   "source": [
    "**Ecuación gobernante**\n",
    "\n",
    "\\begin{equation*}\n",
    "k\\frac{\\partial T}{\\partial x^2}+\n",
    "k\\frac{\\partial T}{\\partial y^2} = \\rho c_p \\frac{\\partial T}{\\partial t}\n",
    "\\end{equation*}\n",
    "\n",
    "**Condiciones de borde**\n",
    "\n",
    "\\begin{align*}\n",
    "T(t,0,y) = T_h,\\quad\\quad T(t,L,y) = T_c \\\\\n",
    "T(t,x,0) = T_a, \\quad\\quad T(t,x,L) = T_a \\\\\n",
    "\\end{align*}\n",
    "\n",
    "**condición inicial**\n",
    "\\begin{equation*}\n",
    "T(0,x,y) = T_a\n",
    "\\end{equation*}"
   ]
  },
  {
   "cell_type": "markdown",
   "id": "e2f1e033",
   "metadata": {
    "cell_style": "split",
    "slideshow": {
     "slide_type": "fragment"
    }
   },
   "source": [
    "***El número de condiciones de borde debe ser igual al número de derivadas respecto a la variable independiente***"
   ]
  },
  {
   "cell_type": "markdown",
   "id": "fa50eee1",
   "metadata": {
    "cell_style": "split",
    "slideshow": {
     "slide_type": "fragment"
    }
   },
   "source": [
    "Las condiciones de borde están, generalmente, asociadas a variables en el espacio"
   ]
  },
  {
   "cell_type": "markdown",
   "id": "3e8bc650",
   "metadata": {
    "slideshow": {
     "slide_type": "slide"
    }
   },
   "source": [
    "## Aspectos generales de los métodos numéricos para solución de ODEs"
   ]
  },
  {
   "cell_type": "markdown",
   "id": "ca8f4365",
   "metadata": {
    "slideshow": {
     "slide_type": "slide"
    }
   },
   "source": [
    "### Ecuación diferencial ordinaria (EDO) con valor inicial"
   ]
  },
  {
   "cell_type": "markdown",
   "id": "94aa1a07",
   "metadata": {
    "slideshow": {
     "slide_type": "fragment"
    }
   },
   "source": [
    "En forma general, podemos representar una EDO con valor inicial de la forma:\n",
    "\n",
    "\\begin{equation}\n",
    "\\frac{d^{n}f(t)}{dt^{n}} = F\\left(t, f(t), \\frac{df(t)}{dt}, \\frac{d^2f(t)}{dt^2}, \\frac{d^3f(t)}{dt^3}, \\ldots, \\frac{d^{n-1}f(t)}{dt^{n-1}}\\right) ,\n",
    "\\end{equation}\n",
    "\n",
    "sujeta a las condiciones inciales:\n",
    "$t = 0, f(0), f^{(1)}(0), f^{(2)}(0),\\ldots, f^{(n)}(0)$"
   ]
  },
  {
   "cell_type": "markdown",
   "id": "3a0fbc4f",
   "metadata": {
    "cell_style": "split",
    "slideshow": {
     "slide_type": "fragment"
    }
   },
   "source": [
    "Por ejemplo, en el caso de la ecuación del péndulo:\n",
    "\n",
    "\\begin{equation*}\n",
    "\\frac{d^2}{dt^2}\\Theta(t) = F(t,\\Theta, \\dot{\\Theta}) \n",
    "\\end{equation*}\n",
    "\n",
    "donde $ F(t,\\Theta, \\dot{\\Theta})  = - \\frac{\\kappa}{mg}\\dot{\\Theta} - \\frac{g}{l}\n",
    "\\sin \\Theta$"
   ]
  },
  {
   "cell_type": "markdown",
   "id": "5cbb547e",
   "metadata": {
    "cell_style": "split",
    "slideshow": {
     "slide_type": "fragment"
    }
   },
   "source": [
    "Convenientemente, podemos **reducir esta ecuación a un sistema EDO de primer orden**:\n",
    "\n",
    "\\begin{align*}\n",
    "\\frac{d}{dt}\\Theta(t) &=F_1(t,\\Theta, \\dot{\\Theta})= \\dot{\\Theta} \\\\\n",
    "\\frac{d}{dt}\\dot{\\Theta}(t) &= F_2(t,\\Theta, \\dot{\\Theta})  - \\frac{\\kappa}{ml}\\dot{\\Theta}- \\frac{g}{l}\\sin \\Theta\n",
    "\\end{align*}"
   ]
  },
  {
   "cell_type": "markdown",
   "id": "5c867be2",
   "metadata": {
    "slideshow": {
     "slide_type": "slide"
    }
   },
   "source": [
    "En conclución, **siempre podemos reducir una EDO a un problema de la forma**:\n",
    "\n",
    "\\begin{equation}\n",
    "\\frac{d}{dt}\\vec{y} = \\vec{F}(t,\\vec{y})\n",
    "\\end{equation}\n",
    "\n",
    "con una condición inicial $\\vec{y}(0)$."
   ]
  },
  {
   "cell_type": "markdown",
   "id": "890c9b67",
   "metadata": {
    "slideshow": {
     "slide_type": "fragment"
    }
   },
   "source": [
    "En el caso del péndulo, \n",
    "\\begin{align*}\n",
    "\\vec{y} &= \\{\\Theta,\\dot{\\Theta}\\}\\\\\n",
    "\\vec{F}(t,\\vec{y}) &= \\{F_1(t,\\Theta,\\dot{\\Theta}), F_2(t,\\Theta,\\dot{\\Theta}) \\} \\\\\n",
    "\\vec{y}(0) &= \\{\\Theta_0,0\\}\n",
    "\\end{align*}"
   ]
  },
  {
   "cell_type": "markdown",
   "id": "e356164f",
   "metadata": {
    "slideshow": {
     "slide_type": "slide"
    }
   },
   "source": [
    "### Método de Euler\n",
    "\n",
    "Dada la condición inicial $\\vec{y}(t_0)$, supongamos que queremos determinar el valor de $\\vec{y}$ en un tiempo $t_0 +\\Delta t$."
   ]
  },
  {
   "cell_type": "markdown",
   "id": "35418603",
   "metadata": {
    "slideshow": {
     "slide_type": "fragment"
    }
   },
   "source": [
    "La forma más sencilla es mediante una expansión de Taylor centrada en $t_0$:\n",
    "\n",
    "\\begin{equation*}\n",
    "\\vec{y}(t_0 +\\Delta t) = \\vec{y}(t_0)+\\frac{d}{dt}\\vec{y}(t_0)\\Delta t +\\frac{d^2}{dt^2}\\vec{y}(t_0)\\Delta t^2 + \\cdots\n",
    "\\end{equation*}"
   ]
  },
  {
   "cell_type": "markdown",
   "id": "6cb01e12",
   "metadata": {
    "slideshow": {
     "slide_type": "fragment"
    }
   },
   "source": [
    "Truncando los términos de segundo y mayor orden tenemos:\n",
    "\n",
    "\\begin{equation*}\n",
    "\\vec{y}(t_0 +\\Delta t) = \\vec{y}(t_0)+\\vec{F}[t_0,\\vec{y}(t_0)]\\Delta t + O(\\Delta t^2)\n",
    "\\end{equation*}"
   ]
  },
  {
   "cell_type": "markdown",
   "id": "f144b9d3",
   "metadata": {
    "slideshow": {
     "slide_type": "fragment"
    }
   },
   "source": [
    "Podemos seguir repetiendo este procedimiento para encontrar la evolución $\\vec{y}$ en el tiempo. "
   ]
  },
  {
   "cell_type": "markdown",
   "id": "4a90096d",
   "metadata": {
    "slideshow": {
     "slide_type": "slide"
    }
   },
   "source": [
    "En su forma general, este método se conoce como el **método de Euler explícito**:\n",
    "\n",
    "\\begin{equation*}\n",
    "\\vec{y}_{i+1} = \\vec{y}_i+h\\vec{F}[t_i,\\vec{y}_i] + O(h^2)\n",
    "\\end{equation*}\n",
    "\n",
    "donde $\\vec{y}_{i+1} = \\vec{y}(t_i + \\Delta t)$, y $h = \\Delta t$"
   ]
  },
  {
   "cell_type": "markdown",
   "id": "ac5100fb",
   "metadata": {
    "cell_style": "split",
    "slideshow": {
     "slide_type": "fragment"
    }
   },
   "source": [
    "Gráficamente, el método consiste en aproximar el valor de $\\vec{y}_{i+1}$ mediante una recta generada a partir de la derivada de $\\vec{y}$ en el punto $t_i, \\vec{y}_i$. \n",
    "\n",
    "La pendiente de la recta está definida por $\\vec{F}[t_i,\\vec{y}_i]$"
   ]
  },
  {
   "cell_type": "markdown",
   "id": "4a591edf",
   "metadata": {
    "cell_style": "split",
    "slideshow": {
     "slide_type": "fragment"
    }
   },
   "source": [
    "<img src=\"./images/Euler_schematic.png\" width=\"350px\" align= center>"
   ]
  },
  {
   "cell_type": "markdown",
   "id": "c746bc04",
   "metadata": {
    "slideshow": {
     "slide_type": "slide"
    }
   },
   "source": [
    "Por ejemplo, consideremos la ecuación diferencial:\n",
    "\n",
    "\\begin{equation*}\n",
    "\\frac{dy}{dt} = e^{-2t}\n",
    "\\end{equation*}\n",
    "\n",
    "con condición inicial $y(0) = -0.5$"
   ]
  },
  {
   "cell_type": "markdown",
   "id": "fa8ca321",
   "metadata": {
    "slideshow": {
     "slide_type": "fragment"
    }
   },
   "source": [
    "Utilicemos el método de Euler para resolver este problema en el intervalo $t\\in[0,1]$ con $h = 0.1$ y $h = 0.01$. Compararemos nuestra solución con la solución exacta $y(t) = -\\frac{1}{2}e^{-2t}$."
   ]
  },
  {
   "cell_type": "code",
   "execution_count": 1,
   "id": "3d35d122",
   "metadata": {
    "cell_style": "split",
    "slideshow": {
     "slide_type": "slide"
    }
   },
   "outputs": [],
   "source": [
    "import numpy as np\n",
    "\n",
    "# Define parameters\n",
    "h = 0.1                       # paso de tiempo\n",
    "t = np.arange(0, 1+h, h)      # lista de tiempos \n",
    "\n",
    "# Ecuación diferencial \n",
    "F = lambda t, y: np.exp(-2*t) # Ecuación gobernante dy = F(t,y)\n",
    "y0 = -0.5                     # Condición inicial\n",
    "\n",
    "# solución exacta\n",
    "y_exact = lambda t: -0.5*np.exp(-2*t)\n",
    "\n",
    "# Método de Euler\n",
    "y = np.zeros(len(t))\n",
    "y[0] = y0\n",
    "\n",
    "for i in range(len(t)-1):\n",
    "    y[i+1] = y[i] + h*F(t[i], y[i])\n",
    "    "
   ]
  },
  {
   "cell_type": "code",
   "execution_count": 2,
   "id": "ff100ad1",
   "metadata": {
    "cell_style": "split",
    "slideshow": {
     "slide_type": "fragment"
    }
   },
   "outputs": [
    {
     "data": {
      "image/png": "[encoded data removed]",
      "text/plain": [
       "<Figure size 504x360 with 1 Axes>"
      ]
     },
     "metadata": {
      "filenames": {
       "image/png": "/mnt/c/Users/francisco.ramirez.c/OneDrive - Universidad Adolfo Ibanez/Teaching_courses/Metodos_Numericos/material_catedra/_build/jupyter_execute/9-EDO_valor_inicial/9-EDO_valor_inicial_52_0.png"
      },
      "needs_background": "light"
     },
     "output_type": "display_data"
    }
   ],
   "source": [
    "import matplotlib.pyplot as plt\n",
    "\n",
    "plt.figure(figsize = (7, 5))\n",
    "plt.rcParams.update({'font.size': 18}) # Tamaño de fuente\n",
    "\n",
    "plt.plot(t, y, 'ro--', label='Euler')\n",
    "plt.plot(t, y_exact(t), 'k', label='Solución exacta')\n",
    "plt.title(r'Evaluación ecuación $\\frac{dy}{dt} = e^{-2t}; y(0) = -0.5$')\n",
    "plt.xlabel('t')\n",
    "plt.ylabel('y(t)')\n",
    "plt.grid()\n",
    "plt.legend(loc='lower right')\n",
    "plt.show()"
   ]
  },
  {
   "cell_type": "markdown",
   "id": "b18c3f4a",
   "metadata": {
    "slideshow": {
     "slide_type": "slide"
    }
   },
   "source": [
    "En el ejemplo notamos que la aproximación mejora considerablemente si el valor de $h$ disminuye. Esto es una consecuencia directa del error de truncamiento $O(h^2)$"
   ]
  },
  {
   "cell_type": "markdown",
   "id": "04aa0554",
   "metadata": {
    "slideshow": {
     "slide_type": "fragment"
    }
   },
   "source": [
    "Sin embargo, notamos que el error aumenta a medida que nos alejamos del valor inicial. Esta propagación del error ocurre porque el error de truncamiento nos entrega una estimación del error local, es decir, durante un solo paso del método."
   ]
  },
  {
   "cell_type": "markdown",
   "id": "37286f67",
   "metadata": {
    "slideshow": {
     "slide_type": "fragment"
    }
   },
   "source": [
    "Así, definimos:\n",
    "- **Error de truncamiento local:** Error del método para predecir la siguiente iteración (es decir, $i\\rightarrow i+1$). Este error está asociado al truncamiento de la serie de Taylor.\n",
    "\n",
    "- **Error de truncamiento global:** Error por acumulación de errores de truncamiento local a lo largo de toda la iteración."
   ]
  },
  {
   "cell_type": "markdown",
   "id": "4bde76db",
   "metadata": {
    "slideshow": {
     "slide_type": "slide"
    }
   },
   "source": [
    "### Estabilidad y precisión"
   ]
  },
  {
   "cell_type": "markdown",
   "id": "1795a433",
   "metadata": {
    "slideshow": {
     "slide_type": "fragment"
    }
   },
   "source": [
    "Asociamos el término **precisión** con el error de truncamiento del método. "
   ]
  },
  {
   "cell_type": "markdown",
   "id": "b5b5ac8c",
   "metadata": {
    "slideshow": {
     "slide_type": "fragment"
    }
   },
   "source": [
    "Otro término relevante en los métodos de solución de EDOs es la **estabilidad.** Esta característica dice relación con el tipo de EDO y método utilizado para resolverla."
   ]
  },
  {
   "cell_type": "markdown",
   "id": "3bcd7073",
   "metadata": {
    "slideshow": {
     "slide_type": "slide"
    }
   },
   "source": [
    "Analicemos el problema de estabilidad con la siguiente EDO:\n",
    "\n",
    "\\begin{equation*}\n",
    "\\frac{dy}{dt} = -20y\n",
    "\\end{equation*}\n",
    "\n",
    "con condición inicial $y(0) = 0.5$"
   ]
  },
  {
   "cell_type": "markdown",
   "id": "c0d94536",
   "metadata": {
    "slideshow": {
     "slide_type": "fragment"
    }
   },
   "source": [
    "Utilicemos el método de Euler para encontrar la solución en el intervalo $t\\in[0,1]$ con $h = 0.1$ y $h = 0.01$. Compararemos nuestra solución con la solución exacta $y(t) = 0.5e^{-20t}$."
   ]
  },
  {
   "cell_type": "code",
   "execution_count": 3,
   "id": "6ed74b4f",
   "metadata": {
    "cell_style": "split",
    "slideshow": {
     "slide_type": "slide"
    }
   },
   "outputs": [],
   "source": [
    "import numpy as np\n",
    "\n",
    "# Define parameters\n",
    "h = 0.09                       # paso de tiempo\n",
    "t = np.arange(0, 1+h, h)      # lista de tiempos \n",
    " \n",
    "# Ecuación diferencial \n",
    "F = lambda t, y: -20*y        # Ecuación gobernante dy = F(t,y)\n",
    "y0 = 0.5                      # Condición inicial\n",
    "\n",
    "# solución exacta\n",
    "y_exact = lambda t: 0.5*np.exp(-20*t)\n",
    "\n",
    "# Método de Euler\n",
    "y = np.zeros(len(t))\n",
    "y[0] = y0\n",
    "\n",
    "for i in range(len(t)-1):\n",
    "    y[i+1] = y[i] + h*F(t[i], y[i]) "
   ]
  },
  {
   "cell_type": "code",
   "execution_count": 4,
   "id": "be5b5107",
   "metadata": {
    "cell_style": "split",
    "slideshow": {
     "slide_type": "fragment"
    }
   },
   "outputs": [
    {
     "data": {
      "image/png": "[encoded data removed]",
      "text/plain": [
       "<Figure size 504x360 with 1 Axes>"
      ]
     },
     "metadata": {
      "filenames": {
       "image/png": "/mnt/c/Users/francisco.ramirez.c/OneDrive - Universidad Adolfo Ibanez/Teaching_courses/Metodos_Numericos/material_catedra/_build/jupyter_execute/9-EDO_valor_inicial/9-EDO_valor_inicial_62_0.png"
      },
      "needs_background": "light"
     },
     "output_type": "display_data"
    }
   ],
   "source": [
    "import matplotlib.pyplot as plt\n",
    "\n",
    "plt.figure(figsize = (7, 5))\n",
    "plt.rcParams.update({'font.size': 18}) # Tamaño de fuente\n",
    "\n",
    "plt.plot(t, y, 'ro--', label='Euler')\n",
    "plt.plot(t, y_exact(t), 'k', label='Solución exacta')\n",
    "plt.title(r'Evaluación ecuación $\\frac{dy}{dt} = e^{-2t}; y(0) = -0.5$')\n",
    "plt.xlabel('t')\n",
    "plt.ylabel('y(t)')\n",
    "plt.grid()\n",
    "plt.legend(loc='lower right')\n",
    "plt.show()"
   ]
  },
  {
   "cell_type": "markdown",
   "id": "800fc510",
   "metadata": {
    "slideshow": {
     "slide_type": "slide"
    }
   },
   "source": [
    "Observamos que el método de Euler converge cuando $h = 0.01$, pero oscila constantemente para $h > 0.1$. En otras palabras, *el método de Euler explícito presenta problemas de estabilidad*."
   ]
  },
  {
   "cell_type": "markdown",
   "id": "ecf2c17c",
   "metadata": {
    "slideshow": {
     "slide_type": "fragment"
    }
   },
   "source": [
    "Es posible demostrar que para ecuaciones del tipo $\\frac{dy}{dt} = -ay$, la condición de estabilidad del método de Euler explícito está dada por $h > 2/a$. "
   ]
  },
  {
   "cell_type": "markdown",
   "id": "11e72e7d",
   "metadata": {
    "slideshow": {
     "slide_type": "fragment"
    }
   },
   "source": [
    "En otras palabras, el método de Euler explícito es ***condicionalmente estable***"
   ]
  },
  {
   "cell_type": "markdown",
   "id": "f2554169",
   "metadata": {
    "slideshow": {
     "slide_type": "slide"
    }
   },
   "source": [
    "Alternativamente, podemos definir el **método de Euler implícito**:\n",
    "\n",
    "\\begin{equation}\n",
    "\\vec{y}_{i+1} = \\vec{y}_i+h\\vec{F}[t_{i+1},\\vec{y}_{i+1}] + O(h^2)\n",
    "\\end{equation}"
   ]
  },
  {
   "cell_type": "markdown",
   "id": "73ffe14d",
   "metadata": {
    "slideshow": {
     "slide_type": "fragment"
    }
   },
   "source": [
    "Esta formulación se define como implícita debido a que el valor futuro, $\\vec{y}_{i+1}$ se encuentra a ambos lados de la ecuación."
   ]
  },
  {
   "cell_type": "markdown",
   "id": "bcec31bb",
   "metadata": {
    "slideshow": {
     "slide_type": "fragment"
    }
   },
   "source": [
    "Para cada valor de $\\vec{y}_{i+1}$, debemos utilizar un método de solución de raices (por ejemplo, Newton-Raphson)"
   ]
  },
  {
   "cell_type": "markdown",
   "id": "d910edde",
   "metadata": {
    "slideshow": {
     "slide_type": "slide"
    }
   },
   "source": [
    "Revisemos el método de Euler implícito con el ejemplo anterior"
   ]
  },
  {
   "cell_type": "code",
   "execution_count": 5,
   "id": "df03b2e6",
   "metadata": {
    "cell_style": "split",
    "slideshow": {
     "slide_type": "fragment"
    }
   },
   "outputs": [],
   "source": [
    "import numpy as np\n",
    "from scipy.optimize import fsolve\n",
    "\n",
    "# Define parameters\n",
    "h = 0.05                       # paso de tiempo\n",
    "t = np.arange(0, 1+h, h)      # lista de tiempos \n",
    "\n",
    "# Ecuación diferencial \n",
    "F = lambda t, y: -20*y        # Ecuación gobernante dy = F(t,y)\n",
    "y0 = 0.5                      # Condición inicial\n",
    "\n",
    "# solución exacta\n",
    "y_exact = lambda t: 0.5*np.exp(-20*t)\n",
    "\n",
    "# Método de Euler\n",
    "y = np.zeros(len(t))\n",
    "y[0] = y0\n",
    "\n",
    "for i in range(len(t)-1):\n",
    "    E_implicit = lambda yip1: yip1 - (y[i] + h*F(t[i+1], yip1))\n",
    "    y[i+1] = fsolve(E_implicit,x0 = y[i])"
   ]
  },
  {
   "cell_type": "code",
   "execution_count": 6,
   "id": "a7b6c6ad",
   "metadata": {
    "cell_style": "split",
    "slideshow": {
     "slide_type": "fragment"
    }
   },
   "outputs": [
    {
     "data": {
      "image/png": "[encoded data removed]",
      "text/plain": [
       "<Figure size 504x360 with 1 Axes>"
      ]
     },
     "metadata": {
      "filenames": {
       "image/png": "/mnt/c/Users/francisco.ramirez.c/OneDrive - Universidad Adolfo Ibanez/Teaching_courses/Metodos_Numericos/material_catedra/_build/jupyter_execute/9-EDO_valor_inicial/9-EDO_valor_inicial_71_0.png"
      },
      "needs_background": "light"
     },
     "output_type": "display_data"
    }
   ],
   "source": [
    "import matplotlib.pyplot as plt\n",
    "\n",
    "plt.figure(figsize = (7, 5))\n",
    "plt.rcParams.update({'font.size': 18}) # Tamaño de fuente\n",
    "\n",
    "plt.plot(t, y, 'ro--', label='Euler implícito')\n",
    "plt.plot(t, y_exact(t), 'k', label='Solución exacta')\n",
    "plt.title(r'Evaluación ecuación $\\frac{dy}{dt} = e^{-2t}; y(0) = -0.5$')\n",
    "plt.xlabel('t')\n",
    "plt.ylabel('y(t)')\n",
    "plt.grid()\n",
    "plt.legend(loc='lower right')\n",
    "plt.show()"
   ]
  },
  {
   "cell_type": "markdown",
   "id": "0e8390b1",
   "metadata": {
    "slideshow": {
     "slide_type": "slide"
    }
   },
   "source": [
    "En el ejemplo, si bien la precisión sigue condicionada al error de truncamiento $O(h^2)$, el método no presenta problemas de inestabilidad"
   ]
  },
  {
   "cell_type": "markdown",
   "id": "e32caa48",
   "metadata": {
    "slideshow": {
     "slide_type": "fragment"
    }
   },
   "source": [
    "En efecto, para ODEs de la forma $\\frac{dy}{dt} = -ay$, el métodod de Euler implícito es ***incondicionalmente estable***."
   ]
  },
  {
   "cell_type": "markdown",
   "id": "7a939eac",
   "metadata": {
    "slideshow": {
     "slide_type": "slide"
    }
   },
   "source": [
    "En resumen, en la solución de una ODE debemos considerar la precisión y la estabilidad del problema. Si bien, **la precisión está exclusivamente asociada al método, la estabilidad depende del método y la EDO a resolver.**"
   ]
  },
  {
   "cell_type": "markdown",
   "id": "d6d9132f",
   "metadata": {
    "slideshow": {
     "slide_type": "fragment"
    }
   },
   "source": [
    "En el ejemplo anterior fue posible cuantificar las condiciones de estabilidad debido a que la EDO era del tipo lineal. **En general, no siempre es posible acotar la inestabilidad de forma analítica, especialmente para EDOs no lineales.**"
   ]
  },
  {
   "cell_type": "markdown",
   "id": "0a92a0d1",
   "metadata": {
    "slideshow": {
     "slide_type": "fragment"
    }
   },
   "source": [
    "En la práctica, los términos precisión y estabilidad se confunden debido a que comúnmente ambos están asociados por $h$. Sin embargo, cada uno es un aspecto independiente. Así, **un método con poca precisión puede ser muy estable, y viceversa.**"
   ]
  },
  {
   "cell_type": "markdown",
   "id": "876bbc19",
   "metadata": {
    "slideshow": {
     "slide_type": "slide"
    }
   },
   "source": [
    "## Métodos de paso simple (Runge-Kutta)\n",
    "\n",
    "Los métodos de Runge-Kutta (RK) permiten aumentar el número de términos de una serie de Taylor, sin la necesidad de calcular derivadas de mayor orden"
   ]
  },
  {
   "cell_type": "markdown",
   "id": "6fa7df24",
   "metadata": {
    "slideshow": {
     "slide_type": "fragment"
    }
   },
   "source": [
    "Esto permite una mejor presición, ya que el error de truncamiento local se reduce."
   ]
  },
  {
   "cell_type": "markdown",
   "id": "52282669",
   "metadata": {
    "slideshow": {
     "slide_type": "slide"
    }
   },
   "source": [
    "Existen muchas variaciones, todas asociadas a una aproximación de la forma:\n",
    "\n",
    "\\begin{equation}\n",
    "y_{i+1} = y_i + \\phi h\n",
    "\\end{equation}\n",
    "\n",
    "donde $\\phi$ se conoce como *función incremento*, que **representa una pendiente representativa del intervalo**"
   ]
  },
  {
   "cell_type": "markdown",
   "id": "dcf3be0d",
   "metadata": {
    "slideshow": {
     "slide_type": "fragment"
    }
   },
   "source": [
    "En su forma general, la función incremento está dada por:\n",
    "\\begin{equation}\n",
    "\\phi = a_1k_1+a_2k_2+\\cdots+a_nk_n\n",
    "\\end{equation}"
   ]
  },
  {
   "cell_type": "markdown",
   "id": "cd1808d3",
   "metadata": {
    "slideshow": {
     "slide_type": "fragment"
    }
   },
   "source": [
    "donde $a_j$ son constantes, y los valores $k_j$ son:\n",
    "\n",
    "\\begin{align*}\n",
    "k_1 &= F(x_i,y_i) \\\\\n",
    "k_2 &= F(x_i+p_1h,y_i+q_{11}k_1h) \\\\\n",
    "k_3 &= F(x_i+p_2h,y_i+q_{21}k_1h+q_{22}k_2h) \\\\\n",
    "\\vdots \\\\\n",
    "k_n &= F(x_i+p_{n-1}h,y_i+q_{n-1,1}k_1h++q_{n-1,2}k_2h+\\cdots q_{n-1,n-1}k_{n-1}h) \\\\\n",
    "\\end{align*}\n",
    "\n",
    "donde $p_m$ y $q_{m,n}$ son constantes."
   ]
  },
  {
   "cell_type": "markdown",
   "id": "0aeb2bb9",
   "metadata": {
    "slideshow": {
     "slide_type": "slide"
    }
   },
   "source": [
    "Notar que los valores de $k_j$ están definidos por recurrencia, es decir $k_j$ depende de $k_{j-1}, k_{j-2}, \\cdots, k_{1}$"
   ]
  },
  {
   "cell_type": "markdown",
   "id": "f0e8d4c9",
   "metadata": {
    "slideshow": {
     "slide_type": "fragment"
    }
   },
   "source": [
    "Para obtener una formulación específica debemos especificar $n$."
   ]
  },
  {
   "cell_type": "markdown",
   "id": "17aaaca8",
   "metadata": {
    "slideshow": {
     "slide_type": "fragment"
    }
   },
   "source": [
    "Una vez definido, los valores de $a_j$, $p_m$ y $q_{m,n}$ se determinan igualando la expresión $y_{i+1} = y_i + \\phi h$ con los términos de la expansión de Taylor ([más info acá](https://pythonnumericalmethods.berkeley.edu/notebooks/chapter22.05-Predictor-Corrector-Methods.html#second-order-runge-kutta-method)):\n",
    "\n",
    "\\begin{align*}\n",
    "y(t_{i+1}) &= y(t_i) + y'(t_i)h + \\frac{1}{2!}y''(t_i)h^2 + \\cdots + \\frac{1}{n!}y^{(n)}(t_i)h^n \\\\\n",
    " &= y(t_i) + F(t_i,y_i)h + \\frac{1}{2!}F'(t_i,y_i)h^2 + \\cdots + \\frac{1}{n!}F^{(n-1)}(t_i,y_i)h^n \n",
    "\\end{align*}"
   ]
  },
  {
   "cell_type": "markdown",
   "id": "03e8b402",
   "metadata": {
    "slideshow": {
     "slide_type": "fragment"
    }
   },
   "source": [
    "Así, por ejemplo, la formulación para $n = 1$ permite aproximar hasta la primera derivada de la serie de Taylor y, por lo tanto, tiene un error de truncamiento local $O(h^2)$."
   ]
  },
  {
   "cell_type": "markdown",
   "id": "088feeae",
   "metadata": {
    "slideshow": {
     "slide_type": "fragment"
    }
   },
   "source": [
    "**La formula RK1 corresponde al método de Euler explícito.**"
   ]
  },
  {
   "cell_type": "markdown",
   "id": "38753271",
   "metadata": {
    "slideshow": {
     "slide_type": "slide"
    }
   },
   "source": [
    "### Runge-Kutta de segundo orden (RK2)"
   ]
  },
  {
   "cell_type": "markdown",
   "id": "28419e4e",
   "metadata": {
    "slideshow": {
     "slide_type": "fragment"
    }
   },
   "source": [
    "La versión de segundo orden de RK es:\n",
    "\n",
    "\\begin{equation}\n",
    "y_{i+1} = y_i + (a_1k_1+a_2k_2)h + O(h^3)\n",
    "\\end{equation}"
   ]
  },
  {
   "cell_type": "markdown",
   "id": "77b327d2",
   "metadata": {
    "cell_style": "split",
    "slideshow": {
     "slide_type": "fragment"
    }
   },
   "source": [
    "donde:\n",
    "\\begin{align*}\n",
    "k_1 &= F(t_i,y_i) \\\\\n",
    "k_2 &= F(t_i+p_1h,y_i+q_{11}k_1h)\n",
    "\\end{align*}"
   ]
  },
  {
   "cell_type": "markdown",
   "id": "977bbc42",
   "metadata": {
    "cell_style": "split",
    "slideshow": {
     "slide_type": "fragment"
    }
   },
   "source": [
    "y las constantes $a_1$, $a_2$, $p_1$ y $q_{11}$, están dadas por:\n",
    "\n",
    "\\begin{align*}\n",
    "a_1+a_2 = 1 \\\\\n",
    "a_2p_1 = 1/2 \\\\\n",
    "a_2q_{11} = 1/2\n",
    "\\end{align*}"
   ]
  },
  {
   "cell_type": "markdown",
   "id": "6c3c0035",
   "metadata": {
    "slideshow": {
     "slide_type": "fragment"
    }
   },
   "source": [
    "Debido a que tenemos 3 ecuaciones y 4 incognitas, se debe acotar una de las variables para resolver el sistema"
   ]
  },
  {
   "cell_type": "markdown",
   "id": "df65cc4e",
   "metadata": {
    "slideshow": {
     "slide_type": "slide"
    }
   },
   "source": [
    "Así distinguimos:"
   ]
  },
  {
   "cell_type": "markdown",
   "id": "5c377a26",
   "metadata": {
    "slideshow": {
     "slide_type": "fragment"
    }
   },
   "source": [
    "**Método de Heun ($a_2 = 1/2$)**"
   ]
  },
  {
   "cell_type": "markdown",
   "id": "2697e0f2",
   "metadata": {
    "cell_style": "split"
   },
   "source": [
    "\\begin{equation*}\n",
    "y_{i+1} = y_i + \\left(\\frac{1}{2}k_1+\\frac{1}{2}k_2\\right)h\n",
    "\\end{equation*}"
   ]
  },
  {
   "cell_type": "markdown",
   "id": "d33d1423",
   "metadata": {
    "cell_style": "split"
   },
   "source": [
    "\\begin{align*}\n",
    "k_1 &= F(t_i,y_i) \\\\\n",
    "k_2 &= F(t_i+h,y_i+k_1h)\n",
    "\\end{align*}"
   ]
  },
  {
   "cell_type": "markdown",
   "id": "2ad8973f",
   "metadata": {},
   "source": [
    "<img src=\"./images/Heun_method.png\" width=\"700px\" align= center>"
   ]
  },
  {
   "cell_type": "markdown",
   "id": "085c566c",
   "metadata": {
    "slideshow": {
     "slide_type": "slide"
    }
   },
   "source": [
    "**Método del punto medio ($a_2 = 1$)**"
   ]
  },
  {
   "cell_type": "markdown",
   "id": "dc29413d",
   "metadata": {
    "cell_style": "split"
   },
   "source": [
    "\\begin{equation*}\n",
    "y_{i+1} = y_i + k_2h\n",
    "\\end{equation*}"
   ]
  },
  {
   "cell_type": "markdown",
   "id": "4a96bf70",
   "metadata": {
    "cell_style": "split"
   },
   "source": [
    "\\begin{align*}\n",
    "k_1 &= F(t_i,y_i) \\\\\n",
    "k_2 &= F(t_i+h/2,y_i+k_1h/2)\n",
    "\\end{align*}"
   ]
  },
  {
   "cell_type": "markdown",
   "id": "3fbddcf5",
   "metadata": {},
   "source": [
    "<img src=\"./images/Midpoint_method.png\" width=\"700px\" align= center>"
   ]
  },
  {
   "cell_type": "markdown",
   "id": "c6d875ac",
   "metadata": {
    "slideshow": {
     "slide_type": "fragment"
    }
   },
   "source": [
    "Ambos métodos corresponden a una mejora del método de Euler del tipo predictor-corrector"
   ]
  },
  {
   "cell_type": "markdown",
   "id": "2578d711",
   "metadata": {
    "slideshow": {
     "slide_type": "slide"
    }
   },
   "source": [
    "### Runge-Kutta de cuarto orden (RK4)"
   ]
  },
  {
   "cell_type": "markdown",
   "id": "d59cf675",
   "metadata": {
    "slideshow": {
     "slide_type": "fragment"
    }
   },
   "source": [
    "Los métodos RK de cuarto orden son los más populares. Al igual que con RK2, existen infinitas versiones. La más popular es:\n"
   ]
  },
  {
   "cell_type": "markdown",
   "id": "9da3f605",
   "metadata": {
    "cell_style": "center",
    "slideshow": {
     "slide_type": "fragment"
    }
   },
   "source": [
    "\\begin{equation*}\n",
    "y_{i+1} = y_i + \\frac{1}{6}\\left(k_1+2k_2+2k_3+k_4\\right)h  + O(h^5)\n",
    "\\end{equation*}\n",
    "\n",
    "donde:\n",
    "\\begin{align*}\n",
    "k_1 &= F(t_i,y_i) \\\\\n",
    "k_2 &= F\\left(t_i+\\frac{1}{2}h,y_i+\\frac{1}{2}k_1h\\right) \\\\\n",
    "k_3 &= F\\left(t_i+\\frac{1}{2}h,y_i+\\frac{1}{2}k_2h\\right) \\\\\n",
    "k_4 &= F\\left(t_i+h,y_i+k_3h\\right)\n",
    "\\end{align*}"
   ]
  },
  {
   "cell_type": "markdown",
   "id": "8bec4f19",
   "metadata": {
    "slideshow": {
     "slide_type": "slide"
    }
   },
   "source": [
    "## Métodos rígidos y de paso múltiple"
   ]
  },
  {
   "cell_type": "markdown",
   "id": "442b6ba4",
   "metadata": {
    "slideshow": {
     "slide_type": "slide"
    }
   },
   "source": [
    "### Métodos de pasos múltiples\n",
    "\n",
    "Los métodos discutidos hasta ahora se clasifican como **métodos de paso simple** debido a que el valor futuro $y_{i+1}$ es determinado exclusivamente por la predicción anterior en el tiempo $t_i$.\n",
    "\n",
    "Los **métodos multipasos, o de paso múltiple** aprovechan información de las predicciones anteriores para mejorar la estimación de la trayectoria de la solución."
   ]
  },
  {
   "cell_type": "markdown",
   "id": "7fef9559",
   "metadata": {
    "slideshow": {
     "slide_type": "fragment"
    }
   },
   "source": [
    "Para esto, estos métidos utilizan polinomios de interpolación construidos a partir de una serie de estimaciones previas."
   ]
  },
  {
   "cell_type": "markdown",
   "id": "d55935d6",
   "metadata": {
    "slideshow": {
     "slide_type": "fragment"
    }
   },
   "source": [
    "Los métodos más utilizados son los métodos de Adams-Bashforth, Adamns-Moulton y las fórmulas de diferenciación hacia atrás."
   ]
  },
  {
   "cell_type": "markdown",
   "id": "eacb0edf",
   "metadata": {
    "slideshow": {
     "slide_type": "fragment"
    }
   },
   "source": [
    "En este curso no daremos mayores detalles de estos métodos. Para mayor información, revisar las referencias al final de esta unidad."
   ]
  },
  {
   "cell_type": "markdown",
   "id": "bcd90e40",
   "metadata": {
    "slideshow": {
     "slide_type": "slide"
    }
   },
   "source": [
    "### Rigidez\n",
    "\n",
    "Una EDO se define como ***rígida*** si una de sus componentes cambia rápidamente respecto a otra. Esto provoca problemas de estabilidad en la solución."
   ]
  },
  {
   "cell_type": "markdown",
   "id": "9128c3f6",
   "metadata": {
    "cell_style": "split",
    "slideshow": {
     "slide_type": "fragment"
    }
   },
   "source": [
    "Consideremos por ejemplo la ecuación:\n",
    "\n",
    "\\begin{equation*}\n",
    "\\frac{dy}{dt} = - 1000y +3000-2000e^{-t}\n",
    "\\end{equation*}\n",
    "\n",
    "con la condición inicial $y(0) = 0$"
   ]
  },
  {
   "cell_type": "markdown",
   "id": "36e424ac",
   "metadata": {
    "cell_style": "split",
    "slideshow": {
     "slide_type": "fragment"
    }
   },
   "source": [
    "La solución analítica a esta solución es:\n",
    "\\begin{equation*}\n",
    "y = 3 - 0.998e^{-1000t} - 2.002e^{-t}\n",
    "\\end{equation*}"
   ]
  },
  {
   "cell_type": "markdown",
   "id": "a99fd99c",
   "metadata": {
    "cell_style": "center",
    "slideshow": {
     "slide_type": "slide"
    }
   },
   "source": [
    "Al analizar la solución observamos que al comienzo, la respuesta está asociada al término exponencial, $e^{-1000t}$ (término transitorio). Después de un periodo corto ($t < 0.005$), la respuesta comienza a ser dominada por el término $e^{-t}$"
   ]
  },
  {
   "cell_type": "markdown",
   "id": "682bdd03",
   "metadata": {
    "cell_style": "split",
    "slideshow": {
     "slide_type": "fragment"
    }
   },
   "source": [
    "<img src=\"./images/stiffness.png\" width=\"350px\" align= center>"
   ]
  },
  {
   "cell_type": "markdown",
   "id": "13d9abb9",
   "metadata": {
    "cell_style": "split",
    "slideshow": {
     "slide_type": "fragment"
    }
   },
   "source": [
    "Sin embargo, el método no conoce la solución analítica. El término transitorio, así, genera problemas de inestabiliadad si el valor de $h$ es muy grande; o de convergencia, si $h$ es muy pequeño."
   ]
  },
  {
   "cell_type": "markdown",
   "id": "af09ad7d",
   "metadata": {
    "slideshow": {
     "slide_type": "slide"
    }
   },
   "source": [
    "## Solución de EDOs en python (``scipy.integrate.solve_ivp``)"
   ]
  },
  {
   "cell_type": "markdown",
   "id": "6ac3c06e",
   "metadata": {},
   "source": [
    "En python, la función `solve_ivp` de la librería `scipy.integrate` permite resolver sistemas de EDOs con valor inicial."
   ]
  },
  {
   "cell_type": "markdown",
   "id": "227d4b8c",
   "metadata": {
    "cell_style": "split"
   },
   "source": [
    "Como argumentos mínimos de entrada, la función requiere:\n",
    "```python\n",
    "from scipy.integrate import solve_ipv\n",
    "solve_ipv(fun,t_span, y0)\n",
    "```"
   ]
  },
  {
   "cell_type": "markdown",
   "id": "75da4e60",
   "metadata": {
    "cell_style": "split"
   },
   "source": [
    "donde:\n",
    "- `fun`: (*callable*) corresponde a la función $F(t,\\vec{y})$\n",
    "- `t_span`: (*tupple*) corresponde un intervalo entre el valor inicial y final.\n",
    "- `y0`: (*ndarray*) condición inicial $\\vec{y}(0)$"
   ]
  },
  {
   "cell_type": "markdown",
   "id": "12cde6f8",
   "metadata": {
    "slideshow": {
     "slide_type": "slide"
    }
   },
   "source": [
    "La función posee 6 métodos disponibles, los cuales se pueden condicionar con un cuarto argumento `method`."
   ]
  },
  {
   "cell_type": "markdown",
   "id": "118b74f2",
   "metadata": {
    "slideshow": {
     "slide_type": "fragment"
    }
   },
   "source": [
    "Entre los métodos disponibles tenemos:\n",
    "- `method = 'RK45'`: [Runge-Kutta 4(5) explícito](https://en.wikipedia.org/wiki/Runge%E2%80%93Kutta%E2%80%93Fehlberg_method).\n",
    "- `method = 'RK23'`: [Runge-Kutta 2(3) explícito](https://en.wikipedia.org/wiki/Bogacki%E2%80%93Shampine_method).\n",
    "- `method = 'DOP853'`: [Runge-Kutta 8 explícito](http://www.unige.ch/~hairer/prog/nonstiff/dop853.f).\n",
    "- `method = 'Radau'`: [Runge-Kutta implícito de orden 5, conocido como Randau IIA](https://en.wikipedia.org/wiki/List_of_Runge%E2%80%93Kutta_methods#Radau_IIA_methods).\n",
    "- `method = 'BDF'`: [Método multipaso implícito basado en diferenciación hacia atrás](https://en.wikipedia.org/wiki/Backward_differentiation_formula)."
   ]
  },
  {
   "cell_type": "markdown",
   "id": "b446661b",
   "metadata": {
    "slideshow": {
     "slide_type": "fragment"
    }
   },
   "source": [
    "Por defecto `method=RK45`"
   ]
  },
  {
   "cell_type": "markdown",
   "id": "752e5612",
   "metadata": {
    "slideshow": {
     "slide_type": "fragment"
    }
   },
   "source": [
    "Los métodos `RK45`, `RK23` y `DOP853` **se recomiendan para EDOs no rígidas**. Para EDOs rígidas se recomienda los métodos `Radau` y `BDF`. "
   ]
  },
  {
   "cell_type": "markdown",
   "id": "0b960f34",
   "metadata": {
    "slideshow": {
     "slide_type": "fragment"
    }
   },
   "source": [
    "Como regla general, se recomienda intentar con un método explícito (como `RK45`). Si la solución diverge o tiene un comportamiento inusual, es probable la EDO sea rígida y, en ese caso, se debe utilizar un método implícito como `Radau` o `BDF`."
   ]
  },
  {
   "cell_type": "markdown",
   "id": "e444cef1",
   "metadata": {
    "slideshow": {
     "slide_type": "slide"
    }
   },
   "source": [
    "También, al igual que con las librerías anteriores, podemos condicionar la tolerancia respecto al error relativo (`rtol`) y absoluto (`atol`).\n",
    "```python\n",
    "from scipy.integrate import solve_ipv\n",
    "solve_ipv(fun,t_span, y0, rtol = 1E-8, atol = 1E-8)  # error absoluto y relativo menor a 1E-8\n",
    "```"
   ]
  },
  {
   "cell_type": "markdown",
   "id": "def166c1",
   "metadata": {
    "slideshow": {
     "slide_type": "fragment"
    }
   },
   "source": [
    "Por defecto, `rtol = 1E-3` y `atol = 1E-6`."
   ]
  },
  {
   "cell_type": "markdown",
   "id": "8d83c57b",
   "metadata": {
    "slideshow": {
     "slide_type": "fragment"
    }
   },
   "source": [
    "Para ver un ejemplo de como condicionar la tolerancia, revisar [acá](https://pythonnumericalmethods.berkeley.edu/notebooks/chapter22.06-Python-ODE-Solvers.html)."
   ]
  },
  {
   "cell_type": "markdown",
   "id": "031c909a",
   "metadata": {
    "slideshow": {
     "slide_type": "slide"
    }
   },
   "source": [
    "Por ejemplo, consideremos la ecuación del péndulo:"
   ]
  },
  {
   "cell_type": "markdown",
   "id": "63535369",
   "metadata": {
    "cell_style": "split"
   },
   "source": [
    "**Ecuación gobernante**\n",
    "\n",
    "\\begin{equation*}\n",
    "ml\\frac{d^2}{dt^2}\\Theta(t) + \\kappa\\frac{d}{dt}\\Theta(t) + mg \\sin \\Theta(t) = 0\n",
    "\\end{equation*}\n",
    "\n",
    "**Condiciones iniciales**\n",
    "\\begin{align*}\n",
    "\\dot{\\Theta}(t = 0) &= 0 \\\\\n",
    "\\Theta(t = 0) &= \\Theta_0\n",
    "\\end{align*}\n",
    "\n",
    "Para $m = 200$g, $l = 30$cm, $\\kappa = 0.1$ kg/m$\\cdot$s, $\\Theta_0 = 30°$"
   ]
  },
  {
   "cell_type": "markdown",
   "id": "d5385018",
   "metadata": {
    "cell_style": "split",
    "slideshow": {
     "slide_type": "fragment"
    }
   },
   "source": [
    "Primero debemos transformar la ecuación a la forma $\\vec{y} = F(t,\\vec{y})$:\n",
    "\n",
    "\\begin{align*}\n",
    "\\frac{d}{dt}\\Theta(t) &= \\dot{\\Theta} \\\\\n",
    "\\frac{d}{dt}\\dot{\\Theta}(t) &=  - \\frac{\\kappa}{ml}\\dot{\\Theta}- \\frac{g}{l}\\sin \\Theta\n",
    "\\end{align*}\n",
    "\n",
    "con $\\vec{y}(0) = \\{\\Theta_0, 0\\}$"
   ]
  },
  {
   "cell_type": "markdown",
   "id": "1cbe5fd1",
   "metadata": {
    "slideshow": {
     "slide_type": "slide"
    }
   },
   "source": [
    "Utilizamos `solve_ivp` para resolver el sistema en el intervalo $t\\in[0,5]$ s."
   ]
  },
  {
   "cell_type": "code",
   "execution_count": 7,
   "id": "73ec6b60",
   "metadata": {
    "cell_style": "center",
    "slideshow": {
     "slide_type": "fragment"
    }
   },
   "outputs": [],
   "source": [
    "from scipy.integrate import solve_ivp\n",
    "import numpy as np\n",
    "\n",
    "theta0 = np.radians(10) # condición inicial\n",
    "\n",
    "# Definimos el funcional F\n",
    "def F(t,y):\n",
    "    m = 0.1 # masa péndulo (kg)\n",
    "    l = 0.3 # largo del péndulo (m)\n",
    "    K = 0.05 # constante de amortiguación (kg/m*s)\n",
    "    g = 9.8 # gravedad (m/s2)a\n",
    "    \n",
    "    f = np.zeros(2)\n",
    "    f[0] = y[1]\n",
    "    f[1] = - K/(m*l)*y[1] - g/l*np.sin(y[0])\n",
    "    return f\n",
    "\n",
    "# Condicion inicial\n",
    "y0 = np.array([theta0,0]) "
   ]
  },
  {
   "cell_type": "code",
   "execution_count": 8,
   "id": "48801b75",
   "metadata": {
    "cell_style": "center",
    "scrolled": true,
    "slideshow": {
     "slide_type": "slide"
    }
   },
   "outputs": [
    {
     "name": "stdout",
     "output_type": "stream",
     "text": [
      "  message: 'The solver successfully reached the end of the integration interval.'\n",
      "     nfev: 230\n",
      "     njev: 0\n",
      "      nlu: 0\n",
      "      sol: None\n",
      "   status: 0\n",
      "  success: True\n",
      "        t: array([0.00000000e+00, 1.75284586e-04, 1.92813044e-03, 1.94565890e-02,\n",
      "       1.39441050e-01, 3.04008731e-01, 4.72919132e-01, 6.35118344e-01,\n",
      "       7.83387614e-01, 9.31662174e-01, 1.07845955e+00, 1.24456245e+00,\n",
      "       1.40132489e+00, 1.57147017e+00, 1.73206020e+00, 1.88426787e+00,\n",
      "       2.03536835e+00, 2.18646883e+00, 2.35301990e+00, 2.50923821e+00,\n",
      "       2.68049986e+00, 2.84188849e+00, 2.99499158e+00, 3.14863804e+00,\n",
      "       3.30228450e+00, 3.46974090e+00, 3.62757996e+00, 3.80012204e+00,\n",
      "       3.96538139e+00, 4.11683664e+00, 4.29182086e+00, 4.44982848e+00,\n",
      "       4.61612277e+00, 4.78210241e+00, 4.95498197e+00, 5.00000000e+00])\n",
      " t_events: None\n",
      "        y: array([[ 1.74532925e-01,  1.74532838e-01,  1.74522392e-01,\n",
      "         1.73471824e-01,  1.25987979e-01,  1.94514445e-04,\n",
      "        -9.68827250e-02, -9.91909415e-02, -3.85813400e-02,\n",
      "         3.18500394e-02,  6.76552832e-02,  5.14324950e-02,\n",
      "         4.50938836e-03, -3.65980724e-02, -4.05640071e-02,\n",
      "        -1.73215600e-02,  1.13959895e-02,  2.66548406e-02,\n",
      "         2.06025104e-02,  2.18436090e-03, -1.43587299e-02,\n",
      "        -1.60884253e-02, -6.88091627e-03,  4.64656330e-03,\n",
      "         1.06031246e-02,  7.93514938e-03,  5.08559338e-04,\n",
      "        -5.86432155e-03, -6.18855316e-03, -2.38783173e-03,\n",
      "         2.58539936e-03,  4.26560179e-03,  2.55555006e-03,\n",
      "        -6.03769523e-04, -2.58877355e-03, -2.68342371e-03],\n",
      "       [ 0.00000000e+00, -9.94157675e-04, -1.09195610e-02,\n",
      "        -1.08377048e-01, -6.34349851e-01, -7.73453179e-01,\n",
      "        -3.08022095e-01,  2.55233415e-01,  5.02378023e-01,\n",
      "         3.94619950e-01,  7.75948888e-02, -2.42632573e-01,\n",
      "        -3.12242336e-01, -1.40650910e-01,  8.43495076e-02,\n",
      "         1.96621785e-01,  1.61083137e-01,  3.36926023e-02,\n",
      "        -9.46002249e-02, -1.23979799e-01, -5.68328076e-02,\n",
      "         3.27661853e-02,  7.77484208e-02,  6.31666005e-02,\n",
      "         1.15942581e-02, -3.85503165e-02, -4.86151013e-02,\n",
      "        -2.05595404e-02,  1.52212371e-02,  3.10997807e-02,\n",
      "         2.14030020e-02, -6.01072841e-04, -1.75728871e-02,\n",
      "        -1.75901901e-02, -4.14469138e-03, -8.79234631e-05]])\n",
      " y_events: None\n"
     ]
    }
   ],
   "source": [
    "t_interval = (0,5) # tiempo inicial y final\n",
    "sol = solve_ivp(F,t_span = t_interval, y0 = y0)\n",
    "print(sol)"
   ]
  },
  {
   "cell_type": "markdown",
   "id": "672f16e6",
   "metadata": {
    "slideshow": {
     "slide_type": "slide"
    }
   },
   "source": [
    "Graficamos la solución."
   ]
  },
  {
   "cell_type": "code",
   "execution_count": 9,
   "id": "7b2d64f6",
   "metadata": {
    "cell_style": "split",
    "slideshow": {
     "slide_type": "fragment"
    }
   },
   "outputs": [],
   "source": [
    "%%capture showplot\n",
    "import matplotlib.pyplot as plt\n",
    "\n",
    "# transformamos el ángulo a grados\n",
    "theta     = np.degrees(sol.y[0,:])\n",
    "theta_dot = np.degrees(sol.y[1,:])\n",
    "\n",
    "fig, ax = plt.subplots(2,1,figsize=(5,6))\n",
    "plt.rcParams.update({'font.size': 18}) # Tamaño de fuente\n",
    "\n",
    "ax[0].plot(sol.t,theta,    label=r'$\\Theta(t)$')\n",
    "ax[1].plot(sol.t,theta_dot,label=r'$\\dot{\\Theta}(t)$')\n",
    "ax[0].set_xlabel('')\n",
    "ax[0].set_ylabel('Ángulo (deg)')\n",
    "ax[1].set_xlabel('Tiempo (seg)')\n",
    "ax[1].set_ylabel('Vel. angular (deg/s)')\n",
    "plt.show()"
   ]
  },
  {
   "cell_type": "code",
   "execution_count": 10,
   "id": "8ed40609",
   "metadata": {
    "cell_style": "split",
    "slideshow": {
     "slide_type": "fragment"
    }
   },
   "outputs": [
    {
     "data": {
      "image/png": "[encoded data removed]",
      "text/plain": [
       "<Figure size 360x432 with 2 Axes>"
      ]
     },
     "metadata": {
      "filenames": {
       "image/png": "/mnt/c/Users/francisco.ramirez.c/OneDrive - Universidad Adolfo Ibanez/Teaching_courses/Metodos_Numericos/material_catedra/_build/jupyter_execute/9-EDO_valor_inicial/9-EDO_valor_inicial_136_0.png"
      },
      "needs_background": "light"
     },
     "output_type": "display_data"
    }
   ],
   "source": [
    "showplot()"
   ]
  },
  {
   "cell_type": "markdown",
   "id": "789b4134",
   "metadata": {
    "slideshow": {
     "slide_type": "slide"
    }
   },
   "source": [
    "Alternativamente, podemos definir los tiempos donde queremos conocer nuestra solución utilizando el argumento `t_eval`. Por ejemplo, consideremos $t\\in[0,5]$ s con $\\Delta t = 0.01$"
   ]
  },
  {
   "cell_type": "code",
   "execution_count": 11,
   "id": "2e4fecc1",
   "metadata": {
    "slideshow": {
     "slide_type": "fragment"
    }
   },
   "outputs": [],
   "source": [
    "h = 0.01                      # paso de tiempo (s)\n",
    "t_array = np.arange(0,5,h)   # arreglo de tiempos a evaluar\n",
    "t_interval = (0,5)           # tiempo inicial y final\n",
    "sol = solve_ivp(F,t_span = t_interval, t_eval = t_array, y0 = y0)"
   ]
  },
  {
   "cell_type": "code",
   "execution_count": 12,
   "id": "cb2cd8d0",
   "metadata": {
    "cell_style": "split",
    "slideshow": {
     "slide_type": "slide"
    }
   },
   "outputs": [],
   "source": [
    "%%capture showplot\n",
    "import matplotlib.pyplot as plt\n",
    "\n",
    "# transformamos el ángulo a grados\n",
    "theta     = np.degrees(sol.y[0,:])\n",
    "theta_dot = np.degrees(sol.y[1,:])\n",
    "\n",
    "fig, ax = plt.subplots(2,1,figsize=(5,6))\n",
    "plt.rcParams.update({'font.size': 18}) # Tamaño de fuente\n",
    "\n",
    "ax[0].plot(sol.t,theta,    label=r'$\\Theta(t)$')\n",
    "ax[1].plot(sol.t,theta_dot,label=r'$\\dot{\\Theta}(t)$')\n",
    "ax[0].set_xlabel('')\n",
    "ax[0].set_ylabel('Ángulo (deg)')\n",
    "ax[1].set_xlabel('Tiempo (seg)')\n",
    "ax[1].set_ylabel('Vel. angular (deg/s)')\n",
    "plt.show()"
   ]
  },
  {
   "cell_type": "code",
   "execution_count": 13,
   "id": "ab686e97",
   "metadata": {
    "cell_style": "split",
    "slideshow": {
     "slide_type": "fragment"
    }
   },
   "outputs": [
    {
     "data": {
      "image/png": "[encoded data removed]",
      "text/plain": [
       "<Figure size 360x432 with 2 Axes>"
      ]
     },
     "metadata": {
      "filenames": {
       "image/png": "/mnt/c/Users/francisco.ramirez.c/OneDrive - Universidad Adolfo Ibanez/Teaching_courses/Metodos_Numericos/material_catedra/_build/jupyter_execute/9-EDO_valor_inicial/9-EDO_valor_inicial_140_0.png"
      },
      "needs_background": "light"
     },
     "output_type": "display_data"
    }
   ],
   "source": [
    "showplot()"
   ]
  },
  {
   "cell_type": "markdown",
   "id": "33d3b1b6",
   "metadata": {
    "cell_style": "center",
    "slideshow": {
     "slide_type": "slide"
    }
   },
   "source": [
    "## Referencias\n",
    "- Kong Q., Siauw T., Bayen A. M. **Chapter 22: ODEs Initial-Value Problems** in *[Python Programming and Numerical Methods – A Guide for Engineers and Scientists](https://pythonnumericalmethods.berkeley.edu/notebooks/chapter22.00-ODE-Initial-Value-Problems.html)*, 1st Ed., Academic Press, 2021\n",
    "\n",
    "- Chapra S., Canale R. **Capítulo 25: Métodos de Runge-Kutta** en *Métodos Numéricos para Ingenieros*, 6ta Ed., McGraw Hill, 2011\n",
    "\n",
    "- Chapra S., Canale R. **Capítulo 26: Métodos rígidos y de paso múltiple** en *Métodos Numéricos para Ingenieros*, 6ta Ed., McGraw Hill, 2011\n",
    "\n",
    "\n",
    "- Chapra S., Canale R. **Capítulo 26: Métodos rígidos y de paso múltiple** en *Métodos Numéricos para Ingenieros*, 6ta Ed., McGraw Hill, 2011\n",
    "\n",
    "\n",
    "- Williams H. P. **Chapter 17: Integration of Ordinary Differential Equations** in \"Numerical Recipes\" 3rd Ed, Cambridge University Press, 2007\n"
   ]
  }
 ],
 "metadata": {
  "celltoolbar": "Slideshow",
  "kernelspec": {
   "display_name": "Python 3 (ipykernel)",
   "language": "python",
   "name": "python3"
  },
  "language_info": {
   "codemirror_mode": {
    "name": "ipython",
    "version": 3
   },
   "file_extension": ".py",
   "mimetype": "text/x-python",
   "name": "python",
   "nbconvert_exporter": "python",
   "pygments_lexer": "ipython3",
   "version": "3.9.13"
  },
  "latex_envs": {
   "LaTeX_envs_menu_present": false,
   "autoclose": false,
   "autocomplete": false,
   "bibliofile": "biblio.bib",
   "cite_by": "apalike",
   "current_citInitial": 1,
   "eqLabelWithNumbers": true,
   "eqNumInitial": 1,
   "hotkeys": {
    "equation": "Ctrl-E",
    "itemize": "Ctrl-I"
   },
   "labels_anchors": false,
   "latex_user_defs": false,
   "report_style_numbering": false,
   "user_envs_cfg": true
  },
  "rise": {
   "height": "100%",
   "theme": "simple",
   "width": "100%"
  },
  "toc": {
   "base_numbering": "1",
   "nav_menu": {},
   "number_sections": true,
   "sideBar": true,
   "skip_h1_title": true,
   "title_cell": "Contenidos",
   "title_sidebar": "Contenidos",
   "toc_cell": false,
   "toc_position": {
    "height": "calc(100% - 180px)",
    "left": "10px",
    "top": "150px",
    "width": "303.828px"
   },
   "toc_section_display": true,
   "toc_window_display": false
  },
  "varInspector": {
   "cols": {
    "lenName": 16,
    "lenType": 16,
    "lenVar": 40
   },
   "kernels_config": {
    "python": {
     "delete_cmd_postfix": "",
     "delete_cmd_prefix": "del ",
     "library": "var_list.py",
     "varRefreshCmd": "print(var_dic_list())"
    },
    "r": {
     "delete_cmd_postfix": ") ",
     "delete_cmd_prefix": "rm(",
     "library": "var_list.r",
     "varRefreshCmd": "cat(var_dic_list()) "
    }
   },
   "types_to_exclude": [
    "module",
    "function",
    "builtin_function_or_method",
    "instance",
    "_Feature"
   ],
   "window_display": false
  }
 },
 "nbformat": 4,
 "nbformat_minor": 5
}
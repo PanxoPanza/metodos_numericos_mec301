{
 "cells": [
  {
   "cell_type": "markdown",
   "id": "6d47d103",
   "metadata": {
    "cell_style": "center",
    "slideshow": {
     "slide_type": "slide"
    }
   },
   "source": [
    "<font size=\"6\">MEC301 - Métodos Numéricos</font>\n",
    "# Diferencias finitas para ecuaciones diferenciales parciales\n",
    "<br><br><br><br>\n",
    "Profesor: Francisco Ramírez Cuevas<br>\n",
    "Fecha: 14 de noviembre 2022"
   ]
  },
  {
   "cell_type": "markdown",
   "id": "07ce8d9e",
   "metadata": {
    "slideshow": {
     "slide_type": "slide"
    }
   },
   "source": [
    "## Introducción\n"
   ]
  },
  {
   "cell_type": "markdown",
   "id": "92acc690",
   "metadata": {
    "slideshow": {
     "slide_type": "fragment"
    }
   },
   "source": [
    "Como mencionamos en la [unidad 9](https://panxopanza.github.io/metodos_numericos_mec301/9-EDO_valor_inicial/9-EDO_valor_inicial.html), una **ecuación en derivadas parciales (EDP)** corresponde a una **ecuación diferencial para una función desconocida con derivadas respecto a dos o más variables dependientes**."
   ]
  },
  {
   "cell_type": "markdown",
   "id": "978b1e53",
   "metadata": {
    "slideshow": {
     "slide_type": "slide"
    }
   },
   "source": [
    "Por ejemplo, "
   ]
  },
  {
   "cell_type": "markdown",
   "id": "9d629e93",
   "metadata": {
    "cell_style": "split"
   },
   "source": [
    "\\begin{equation}\n",
    "\\frac{\\partial^2u}{\\partial x^2} + \n",
    "2xy\\frac{\\partial^2u}{\\partial y^2} = 0\n",
    "\\end{equation}\n",
    "\n",
    "\\begin{equation}\n",
    "\\frac{\\partial^3u}{\\partial x^2\\partial y} + \n",
    "x\\frac{\\partial^2u}{\\partial y^2}  + 8u= 0\n",
    "\\end{equation}"
   ]
  },
  {
   "cell_type": "markdown",
   "id": "b87d8c13",
   "metadata": {
    "cell_style": "split",
    "slideshow": {
     "slide_type": "fragment"
    }
   },
   "source": [
    "\n",
    "\n",
    "\n",
    "\\begin{equation}\n",
    "\\left(\\frac{\\partial^2u}{\\partial x^2}\\right)^3 + \n",
    "6\\frac{\\partial^3u}{\\partial x\\partial y^2} = x\n",
    "\\end{equation}\n",
    "\n",
    "\n",
    "\\begin{equation}\n",
    "\\left(\\frac{\\partial^2u}{\\partial x^2}\\right)^3 + \n",
    "xu\\frac{\\partial u}{\\partial y} = x\n",
    "\\end{equation}"
   ]
  },
  {
   "cell_type": "markdown",
   "id": "d5ab1e3f",
   "metadata": {
    "slideshow": {
     "slide_type": "fragment"
    }
   },
   "source": [
    "El ***orden*** de una EDP se define **respecto a la derivada parcial de mayor orden**. Así, la ecuación (11.1) y (11.4) son de segundo orden, mientras que (11.2) y (11.3) son de tercer orden."
   ]
  },
  {
   "cell_type": "markdown",
   "id": "d53d41eb",
   "metadata": {
    "slideshow": {
     "slide_type": "fragment"
    }
   },
   "source": [
    "Se dice que una EDP es ***lineal* si, dada dos soluciones $u_1$ y $u_2$, la función $u_1 + u_2$ también es solución**. Por ejemplo, (11.1) y (11.2) son lineales, mientras que (11.3) y (11.4) no lo son."
   ]
  },
  {
   "cell_type": "markdown",
   "id": "bf69482d",
   "metadata": {
    "slideshow": {
     "slide_type": "slide"
    }
   },
   "source": [
    "En este curso nos enfocaremos en EDP lineales de segundo orden de la forma:\n",
    "\n",
    "\\begin{equation}\n",
    "A\\frac{\\partial^2u}{\\partial x^2} + \n",
    "B\\frac{\\partial^2u}{\\partial x \\partial y} +  \n",
    "C\\frac{\\partial^2u}{\\partial y^2} + \n",
    "D = 0\n",
    "\\end{equation}\n",
    "\n",
    "donde $A$, $B$, $C$ son funciones de $x$ e $y$, mientras que $D$ es una función de $x$, $y$, $\\partial u / \\partial x$ y $\\partial u / \\partial y$. "
   ]
  },
  {
   "cell_type": "markdown",
   "id": "6e9c7494",
   "metadata": {
    "slideshow": {
     "slide_type": "slide"
    }
   },
   "source": [
    "A partir de esta forma general podemos clasificar una EDP lineal de segundo orden como elíptica, parabólica o hiperbólica."
   ]
  },
  {
   "cell_type": "markdown",
   "id": "b5800618",
   "metadata": {
    "slideshow": {
     "slide_type": "fragment"
    }
   },
   "source": [
    "<img src=\"./images/EDP_2do-orden.png\" width=\"700px\" align= center>"
   ]
  },
  {
   "cell_type": "markdown",
   "id": "1689a45e",
   "metadata": {
    "slideshow": {
     "slide_type": "slide"
    }
   },
   "source": [
    "Esta clasificación es relevante dado que cada categoría se relaciona con problemas de ingeniería específicos, que demandan soluciones especiales."
   ]
  },
  {
   "cell_type": "markdown",
   "id": "c978f457",
   "metadata": {
    "slideshow": {
     "slide_type": "fragment"
    }
   },
   "source": [
    "Comúnmente, las ecuaciones ***elípticas*** se utilizan para caracterizar sistemas en **estado estacionario**, tales como la deflección de una placa sometida a una carga, o la distribución de temperaturas de en una cavidad 2D. "
   ]
  },
  {
   "cell_type": "markdown",
   "id": "dc8305b0",
   "metadata": {
    "slideshow": {
     "slide_type": "fragment"
    }
   },
   "source": [
    "Las ecuaciones ***parabólicas***, en cambio, se usan generalmente cuando la **función depende del tiempo**. Por ejemplo, la deflección de una barra, inicialmente sin carga, sometida a una carga en la punta. "
   ]
  },
  {
   "cell_type": "markdown",
   "id": "f43a7f30",
   "metadata": {
    "slideshow": {
     "slide_type": "fragment"
    }
   },
   "source": [
    "Las ecuaciones ***hiperbólicas*** son comúnmente **utilizadas en problemas oscilatorios**, como vibraciones o propagación de ondas electromagnéticas."
   ]
  },
  {
   "cell_type": "markdown",
   "id": "5f8c7d38",
   "metadata": {
    "slideshow": {
     "slide_type": "fragment"
    }
   },
   "source": [
    "En esta unidad revisaremos EDP de tipo ellípticas y parabólica, dada su reelevancia en problemas de ingeniería mecánica."
   ]
  },
  {
   "cell_type": "markdown",
   "id": "ab9283ed",
   "metadata": {
    "cell_style": "center",
    "slideshow": {
     "slide_type": "slide"
    }
   },
   "source": [
    "## Ecuaciones elipticas  (EDP estacionaria)\n",
    "La ecuación de Laplace es una EDP elíptica. Se utiliza comúnmente en problemas de conducción de calor. En el caso 2D, la ecuación de Laplace describe la distribución de temperaturas en en el espacio.\n",
    "\n",
    "\\begin{equation}\n",
    "\\frac{\\partial^2 T}{\\partial x^2} +\n",
    "\\frac{\\partial^2 T}{\\partial y^2}\n",
    "= 0\n",
    "\\end{equation}\n"
   ]
  },
  {
   "cell_type": "markdown",
   "id": "ef229e2f",
   "metadata": {
    "slideshow": {
     "slide_type": "fragment"
    }
   },
   "source": [
    "El método más sensillo para resolver EDPs de este tipo es diferencias finitas."
   ]
  },
  {
   "cell_type": "markdown",
   "id": "ce5205b2",
   "metadata": {
    "cell_style": "split",
    "slideshow": {
     "slide_type": "slide"
    }
   },
   "source": [
    "\n",
    "<img src=\"./images/discretized_plate.png\" width=\"400px\" align= center>"
   ]
  },
  {
   "cell_type": "markdown",
   "id": "bfd37c9b",
   "metadata": {
    "cell_style": "split"
   },
   "source": [
    "Pimero debemos discretizar el dominio en una serie de nodos."
   ]
  },
  {
   "cell_type": "markdown",
   "id": "d9817c7d",
   "metadata": {
    "cell_style": "split",
    "slideshow": {
     "slide_type": "fragment"
    }
   },
   "source": [
    "El segundo paso es aplicar un esquema de diferencias finitas en cada nodo. En este caso, lo más conveniente es aplicar diferencia central:\n",
    "\n",
    "\\begin{align*}\n",
    "\\frac{\\partial^2 T_{ij}}{\\partial x^2} &= \\frac{T_{i+1, j} - 2T_{i,j} + T_{i-1,j}}{\\Delta x^2} \\\\[10pt]\n",
    "\\frac{\\partial^2 T_{ij}}{\\partial y^2} &= \\frac{T_{i,j+1} - 2T_{i,j} + T_{i,j-1}}{\\Delta y^2}\n",
    "\\end{align*}"
   ]
  },
  {
   "cell_type": "markdown",
   "id": "1c0e5172",
   "metadata": {
    "slideshow": {
     "slide_type": "slide"
    }
   },
   "source": [
    "Reemplazando en la ecuación de Laplace, obtenemos una ecuación de la forma:\n",
    "\n",
    "\\begin{equation*}\n",
    "\\Delta y^2 T_{i+1, j} - (2\\Delta y^2 + 2\\Delta x^2)T_{i,j} + \\Delta y^2T_{i-1,j} + \n",
    "\\Delta x^2 T_{i, j+1}  + \\Delta x^2T_{i,j-1} = 0 \n",
    "\\end{equation*}\n",
    "\n",
    "por conveniencia, **dejamos los valores de $\\Delta x$ y $\\Delta y$ en el numerador** para evitar problemas de crecimiento del error. Esto debido a que $\\Delta x < 1$ y $\\Delta y < 1$."
   ]
  },
  {
   "cell_type": "markdown",
   "id": "8652efd2",
   "metadata": {
    "slideshow": {
     "slide_type": "slide"
    }
   },
   "source": [
    "El siguiente paso es discretizar las condiciones de borde."
   ]
  },
  {
   "cell_type": "markdown",
   "id": "7978fb78",
   "metadata": {
    "cell_style": "split",
    "slideshow": {
     "slide_type": "fragment"
    }
   },
   "source": [
    "Considerando una placa de ancho $L$ y alto $H$ con las condiciones de borde de la figura\n",
    "\n",
    "<img src=\"./images/plate_boundary_conditions.png\" width=\"400px\" align= center>"
   ]
  },
  {
   "cell_type": "markdown",
   "id": "f012736a",
   "metadata": {
    "cell_style": "split",
    "slideshow": {
     "slide_type": "fragment"
    }
   },
   "source": [
    "En el caso del lado izquierdo y derecho, tenemos condiciones de Dirichlet.\n",
    "\n",
    "\\begin{eqnarray*}\n",
    "T(0, y) &=& T_a &\\Rightarrow& T_{0,j} = T_a \\\\\n",
    "T(L, y) &=& T_b &\\Rightarrow& T_{m,j} = T_b\n",
    "\\end{eqnarray*}"
   ]
  },
  {
   "cell_type": "markdown",
   "id": "b5989f0f",
   "metadata": {
    "cell_style": "center",
    "slideshow": {
     "slide_type": "slide"
    }
   },
   "source": [
    "En el caso del borde sobre y bajo la placa tenemos condiciones de Neumann. Acá, utilizamos diferencia hacia adelante o hacia atrás según corresponda:\n",
    "\n",
    "\\begin{eqnarray*}\n",
    "- \\frac{\\partial T}{\\partial y}\\Big|_{y = 0} &=& q_0 &\\Rightarrow& T_{i,1} - T_{i,0} = -\\Delta y q_0 \\\\[10pt]\n",
    "\\frac{\\partial T}{\\partial y}\\Big|_{y = H} &=& h\\left[T_\\infty - T(x,H)\\right] &\\Rightarrow&  (1 + h\\Delta y)T_{i,n} - T_{i,n-1} = \\Delta y~h T_\\infty\n",
    "\\end{eqnarray*}"
   ]
  },
  {
   "cell_type": "markdown",
   "id": "e884e9d8",
   "metadata": {
    "slideshow": {
     "slide_type": "slide"
    }
   },
   "source": [
    "Finalmente, obtenemos un sistema de ecuaciones de la sforma:\n",
    "\n",
    "\\begin{eqnarray*}\n",
    "\\Delta y^2 T_{i+1, j} - (2\\Delta y^2 + 2\\Delta x^2)T_{i,j} + \\Delta y^2T_{i-1,j} + \n",
    "\\Delta x^2 T_{i, j+1} + \\Delta x^2T_{i,j-1} &=& 0 \\quad\\quad &&\\mathrm{if}~i \\neq 0, m~\\mathrm{and}~j\\neq0,n \\\\[10pt]\n",
    "T_{i,j} &=& T_a\\quad\\quad &&\\mathrm{if}~i = 0 \\\\[10pt]\n",
    "T_{i,j} &=& T_b\\quad\\quad &&\\mathrm{if}~i = m \\\\[10pt]\n",
    "T_{i,j+1} - T_{i,j}  &=& -\\Delta y q_0\\quad\\quad &&\\mathrm{if}~j =0\\\\[10pt]\n",
    "(1 + h\\Delta y)T_{i,j} -  T_{i,j-1}  &=& \\Delta y~hT_\\infty\\quad\\quad &&\\mathrm{if}~j = n\\\\[10pt]\n",
    "\\end{eqnarray*}"
   ]
  },
  {
   "cell_type": "markdown",
   "id": "886af54f",
   "metadata": {
    "slideshow": {
     "slide_type": "slide"
    }
   },
   "source": [
    "Consideremos, por ejemplo, una malla de 3x3 nodos"
   ]
  },
  {
   "cell_type": "markdown",
   "id": "fbe757ed",
   "metadata": {
    "cell_style": "center"
   },
   "source": [
    "<img src=\"./images/discretized_plate_4x4.png\" width=\"700px\" align= center>"
   ]
  },
  {
   "cell_type": "markdown",
   "id": "e55754b0",
   "metadata": {
    "cell_style": "center",
    "slideshow": {
     "slide_type": "slide"
    }
   },
   "source": [
    "El sistema de ecuaciones, en su forma matricial, es:\n",
    "\n",
    "\\begin{equation*}\n",
    "\\left[\n",
    "\\begin{matrix}\n",
    " 1 &  0 &  0 &  0 &  0 &  0 &  0 &  0 &  0 \\\\\n",
    " 0 &  1 & 0  &  0 &  0 &  0 &  0 &  0 &  0 \\\\\n",
    " 0 & 0  &  1 &  0 &  0 &  0 &  0 &  0 &  0 \\\\\n",
    " 0 & 0  & 0  & 1 &  -1 &  0 &  0 &  0 &  0 \\\\\n",
    " 0 & \\Delta y^2  & 0  &  \\Delta x^2 & -2\\Delta x^2 -2\\Delta y^2 &  \\Delta x^2 &  0  &  \\Delta y^2 &  0\\\\\n",
    " 0 & 0  & 0  &  0 &  -1 &1+h\\Delta y & 0 &  0  &  0 \\\\\n",
    " 0 & 0  & 0  &  0 &  0 &  0 &  1 &  0 &  0 \\\\\n",
    " 0 & 0  & 0  &  0 &  0 &  0 &  0 &  1 &  0 \\\\\n",
    " 0 & 0  &  0  &  0 &  0 &  0 &  0 &  0 &  1 \\\\\n",
    "\\end{matrix}\n",
    "\\right]\n",
    "\\left(\n",
    "\\begin{matrix}\n",
    "T_{00} \\\\ T_{01} \\\\ T_{02} \\\\ T_{10} \\\\ T_{11} \\\\ T_{12} \\\\ T_{20} \\\\ T_{21} \\\\ T_{22}\n",
    "\\end{matrix}\n",
    "\\right)\n",
    "= \n",
    "\\left(\n",
    "\\begin{matrix}\n",
    "T_a \\\\ T_a \\\\ T_a \\\\ \\Delta y q_0 \\\\ 0 \\\\ \\Delta y h T_\\infty \\\\ T_b \\\\ T_b \\\\ T_b\n",
    "\\end{matrix}\n",
    "\\right)\n",
    "\\end{equation*}"
   ]
  },
  {
   "cell_type": "markdown",
   "id": "64ed8c51",
   "metadata": {
    "slideshow": {
     "slide_type": "slide"
    }
   },
   "source": [
    "Cuando extendemos el número de nodos, el sistema toma la forma de una matriz diagonal dominante"
   ]
  },
  {
   "cell_type": "markdown",
   "id": "2f5530a3",
   "metadata": {
    "slideshow": {
     "slide_type": "fragment"
    }
   },
   "source": [
    "Por ejemplo, si consideramos $\\Delta x =  \\Delta y = 1$ y condiciones de borde de Dirichlet, podemos comprobar que la matriz $A$ toma la forma:\n",
    "\n",
    "\n",
    "\\begin{equation*}\n",
    "\\left[\n",
    "\\begin{matrix}\n",
    " -4 &  1      &    &  1      &         &         &         &         &    & & \\\\\n",
    " 1  & -4      &  1 &         &  1      &         &         &         &    & &\\\\\n",
    "    &  1      & -4 &  1      &         &  1      &         &         &    & & \\\\\n",
    " 1  &         &  1 & -4      &  1      &         &  1      &         &    & & \\\\\n",
    "    &  \\cdot &    &  \\cdot &  \\cdot &  \\cdot &         &  \\cdot &    & & & \\\\\n",
    "    & &  \\cdot &    &  \\cdot &  \\cdot &  \\cdot &         &  \\cdot &    & & \\\\\n",
    "    & & &  \\cdot &    &  \\cdot &  \\cdot &  \\cdot &         &  \\cdot &    & \\\\\n",
    "   & & & &  \\cdot &    &  \\cdot &  \\cdot &  \\cdot &         &  \\cdot &    \\\\\n",
    "     & & &  &  & 1  &         &  1      &      -4 &  1      &         &  1 \\\\\n",
    "     &  & &  & & & 1  &         &  1      &      -4 &  1      &         \\\\\n",
    "     & & & & & & & 1  &         &  1      &      -4 &  1      \\\\\n",
    "     & & & & & & & & 1  &         &  1      &      -4 \n",
    "\\end{matrix}\n",
    "\\right]\n",
    "\\end{equation*}"
   ]
  },
  {
   "cell_type": "markdown",
   "id": "cb7c3dd4",
   "metadata": {
    "slideshow": {
     "slide_type": "fragment"
    }
   },
   "source": [
    "¿Cómo podemos implementar un código computacional que genere el sistema $Ax = b$ con este esquema, de forma genérica y para cualquier tipo de condición de borde?"
   ]
  },
  {
   "cell_type": "markdown",
   "id": "a11e7122",
   "metadata": {
    "slideshow": {
     "slide_type": "slide"
    }
   },
   "source": [
    "### Solución EDP lineal estacionaria \n",
    "\n",
    "Antes de implementar nuestro código, debemos recordar que la solución a este tipo de sistemas está dado por el método de Gauss-Seidel."
   ]
  },
  {
   "cell_type": "markdown",
   "id": "a69bbbff",
   "metadata": {
    "slideshow": {
     "slide_type": "fragment"
    }
   },
   "source": [
    "Recordando la [unidad 2](https://panxopanza.github.io/metodos_numericos_mec301/2-Algebra_lineal/2-Algebra_lineal.html#gauss-seidel) del curso, el método de Gauss-Seidel se resume en los siguientes pasos:\n",
    "\n",
    "1. Asumimos un valor inicial para $x_2^{(0)}, x_3^{(0)}, \\cdots, x_n^{(0)}$ (con excepción de $x_1^{(0)}$).\n",
    "\n",
    "2. Calculamos un nuevo valor para $x_1^{(1)}$ mediante:\n",
    "    \\begin{equation*}\n",
    "    x_1^{(1)} = \\frac{1}{a_{1,1}}\\Big[y_1 - \\sum_{j \\ne 1}^{n}{a_{1,j}x_j^{(0)}} \\Big]\n",
    "    \\end{equation*}\n",
    "    \n",
    "3. Utilizando el nuevo valor $x_1^{(1)}$ y el resto de $x^{(0)}$ (con excepción de $x_2^{(0)}$), determinamos $x_2^{(1)}$.\n",
    "    \\begin{equation*}\n",
    "    x_2^{(1)} = \\frac{1}{a_{2,2}}\\Big[y_2 - \\sum_{j \\ne 1,2}^{n}{a_{2,j}x_j^{(0)}}  - {a_{2,1}x_1^{(1)}}\\Big]\n",
    "    \\end{equation*}\n",
    "    \n",
    "4. Repetimos el paso 3 hasta completar todos los elementos del vector $x$.\n",
    "\n",
    "5. Continunamos iterando hasta que $ \\| x^{(i)} - x^{(i-1)}\\| \\lt \\varepsilon $, donde $\\varepsilon$ es el la tolerancia definida respecto al error absoluto. "
   ]
  },
  {
   "cell_type": "markdown",
   "id": "030f3515",
   "metadata": {
    "slideshow": {
     "slide_type": "slide"
    }
   },
   "source": [
    "Siguiendo este esquema, una forma alternativa es implementar el método de Gauss-Seidel directamente, es decir, sin desarrollar la forma explícita del sistema $Ax = b$."
   ]
  },
  {
   "cell_type": "markdown",
   "id": "51f67107",
   "metadata": {
    "slideshow": {
     "slide_type": "fragment"
    }
   },
   "source": [
    "En otras palabras, implementamos el método iterativo a través de las ecuaciones:\n",
    "\n",
    "\\begin{eqnarray*}\n",
    "T_{i,j}^* &=& \\frac{1}{2\\Delta y^2 + 2\\Delta x^2}(\\Delta y^2 T_{i+1, j} + \\Delta y^2T_{i-1,j} + \n",
    "\\Delta x^2 T_{i, j+1} + \\Delta x^2T_{i,j-1}) \\quad\\quad &\\mathrm{if}&~i \\neq 0, m~\\mathrm{and}~j\\neq0,n \\\\[10pt]\n",
    "T_{i,j}^* &=& T_a\\quad\\quad &\\mathrm{if}&~i = 0 \\\\[10pt]\n",
    "T_{i,j}^* &=& T_b\\quad\\quad &\\mathrm{if}&~i = m \\\\[10pt]\n",
    "T_{i,j}^* &=& T_{i,j+1} + \\Delta y q_0\\quad\\quad &\\mathrm{if}&~j =0\\\\[10pt]\n",
    "T_{i,j}^* &=& \\frac{1}{(1 + h\\Delta y)}(T_{i,j-1} + \\Delta y~hT_\\infty)\\quad\\quad &\\mathrm{if}&~j = n\\\\[10pt]\n",
    "\\end{eqnarray*}"
   ]
  },
  {
   "cell_type": "markdown",
   "id": "0a144303",
   "metadata": {
    "slideshow": {
     "slide_type": "fragment"
    }
   },
   "source": [
    "donde $T_{i,j}^*$ corresponde al valor obtenido después de cada iteración."
   ]
  },
  {
   "cell_type": "markdown",
   "id": "a15bb118",
   "metadata": {
    "cell_style": "center",
    "slideshow": {
     "slide_type": "slide"
    }
   },
   "source": [
    "La siguiente animación ilustra el proceso iterativo:\n",
    "\n",
    "<img src=\"./images/gauss-seidel.gif\" width=\"600px\" align= center>"
   ]
  },
  {
   "cell_type": "markdown",
   "id": "39e02f6a",
   "metadata": {
    "slideshow": {
     "slide_type": "slide"
    }
   },
   "source": [
    "### Solución EDP estacionaria en python\n",
    "\n",
    "Analicemos esto en un código."
   ]
  },
  {
   "cell_type": "markdown",
   "id": "35f49fcb",
   "metadata": {
    "cell_style": "split",
    "slideshow": {
     "slide_type": "fragment"
    }
   },
   "source": [
    "Considerando los siguientes parámetros:\n",
    "\n",
    "\\begin{align*}\n",
    "T_a &= 500~\\mathrm{K} \\\\\n",
    "T_b &= 500~\\mathrm{K} \\\\\n",
    "T_\\infty &= 300~\\mathrm{K} \\\\\n",
    "h &= 100~\\mathrm{m}^{-1} \\\\\n",
    "q_0 &= 1000 ~\\mathrm{K/m} \\\\\n",
    "L &= 1 ~\\mathrm{m} \\\\\n",
    "H &= 1.5 ~\\mathrm{m} \\\\\n",
    "\\end{align*}"
   ]
  },
  {
   "cell_type": "code",
   "execution_count": 1,
   "id": "75062c60",
   "metadata": {
    "cell_style": "split",
    "slideshow": {
     "slide_type": "fragment"
    }
   },
   "outputs": [],
   "source": [
    "# definimos las constantes del problema\n",
    "Ta   = 500  # Temperatura al lado izquierdo (K)\n",
    "Tb   = 500  # Temperatura al lado derecho (K)\n",
    "Too  = 300  # Temperatura del aire (K)\n",
    "h    = 100  # Coeficiente convectivo (m^-1)\n",
    "q0   = 1000 # flujo de calor (K/m)\n",
    "L, H = 1, 1.5 # Largo y ancho de la cavidad (m)"
   ]
  },
  {
   "cell_type": "code",
   "execution_count": 2,
   "id": "7f5007e6",
   "metadata": {
    "cell_style": "split",
    "slideshow": {
     "slide_type": "fragment"
    }
   },
   "outputs": [],
   "source": [
    "import numpy as np\n",
    "from numpy.linalg import norm # norma de Frobenius\n",
    "from itertools import product # librería para iteración"
   ]
  },
  {
   "cell_type": "markdown",
   "id": "1bd08cf1",
   "metadata": {
    "slideshow": {
     "slide_type": "fragment"
    }
   },
   "source": [
    "Implementamos el método en una **función,** definida en base al número de nodos $N_x$ y $N_y$ y la tolerancia relativa $\\frac{\\|x - x_\\mathrm{old}\\|}{\\|x\\|} < \\varepsilon_\\mathrm{rel}$"
   ]
  },
  {
   "cell_type": "markdown",
   "id": "738eaca5",
   "metadata": {
    "slideshow": {
     "slide_type": "fragment"
    }
   },
   "source": [
    "Como valor de entrada en la iteración, consideramos $T^0_{i,j} = T_\\infty$"
   ]
  },
  {
   "cell_type": "code",
   "execution_count": 3,
   "id": "f230d0f9",
   "metadata": {
    "cell_style": "center",
    "slideshow": {
     "slide_type": "slide"
    }
   },
   "outputs": [],
   "source": [
    "def T_plate(Nx,Ny,rel_tol, k_iter = 10000):\n",
    "    # Definimos las características de la malla\n",
    "    nx, ny = Nx - 1, Ny - 1         # índice último nodo\n",
    "    dx, dy = L/(Nx - 1), H/(Ny - 1) # espaciamiento entre nodos\n",
    "    \n",
    "    # Iteramos\n",
    "    T = Too*np.ones((Nx,Ny))  # valores primera iteración\n",
    "    converged = False         # booleano para chequear convergencia\n",
    "    for k in range(k_iter):\n",
    "        Told = T.copy()       # guardamos la iteración previa\n",
    "        \n",
    "        for i, j in product(range(Nx),range(Ny)):  # loop sobre i y j\n",
    "                \n",
    "                # condiciones de borde\n",
    "                if   i == 0:  T[i,j] = Ta\n",
    "                elif i == nx: T[i,j] = Tb\n",
    "                elif j == 0:  T[i,j] = T[i,j+1] + dy*q0\n",
    "                elif j == ny: T[i,j] = 1/(1 + dy*h)*(T[i,j-1] + dy*h*Too)\n",
    "            \n",
    "                # nodos centrales\n",
    "                else: T[i,j] = 1/(2*dx**2 + 2*dy**2)*(dy**2*T[i+1,j] + dy**2*T[i-1,j] + dx**2*T[i,j+1] + dx**2*T[i,j-1])\n",
    "                \n",
    "        E_rel = norm(T - Told)/norm(T) # comprobamos el error relativo\n",
    "        if E_rel < rel_tol:            # condición de convergencia\n",
    "            print('Converged!\\n\\tN. iter = %i\\n\\tE_error = %.3f%%' %( k, E_rel*100))\n",
    "            converged = True\n",
    "            break\n",
    "            \n",
    "    if not converged: print('Method did not converged!\\n\\tE_error = %.3f%%' % (E_rel*100))         \n",
    "    return T"
   ]
  },
  {
   "cell_type": "code",
   "execution_count": 4,
   "id": "7824ee7b",
   "metadata": {
    "cell_style": "center",
    "slideshow": {
     "slide_type": "slide"
    }
   },
   "outputs": [
    {
     "name": "stdout",
     "output_type": "stream",
     "text": [
      "Converged!\n",
      "\tN. iter = 2073\n",
      "\tE_error = 0.001%\n"
     ]
    }
   ],
   "source": [
    "# Definimos las características de la malla\n",
    "Nx, Ny = 51, 76            # total de nodos\n",
    "rel_tol = 0.00001            # tolerancia error relativo\n",
    "T = T_plate(Nx,Ny,rel_tol) # Determinamos T(x,y)"
   ]
  },
  {
   "cell_type": "code",
   "execution_count": 5,
   "id": "89ebfd5f",
   "metadata": {
    "cell_style": "split",
    "slideshow": {
     "slide_type": "fragment"
    }
   },
   "outputs": [],
   "source": [
    "%%capture showplot\n",
    "import matplotlib.pyplot as plt\n",
    "from matplotlib import cm   # librería de mapa de colores\n",
    "    \n",
    "x =   np.linspace(0,L,Nx) # coordenadas x\n",
    "y =   np.linspace(0,H,Ny) # coordenadas y\n",
    "xx, yy = np.meshgrid(x,y) # malla x-y\n",
    "\n",
    "plt.figure(figsize = (7, 7))            # tamaño de la figura\n",
    "plt.rcParams.update({'font.size': 18})  # tamaño de fuente\n",
    "\n",
    "plt.pcolor(xx, yy, T.T, cmap=cm.get_cmap(cm.plasma))           # Mapa T(x,y)\n",
    "plt.colorbar(label=\"Temperatura (K)\", orientation=\"vertical\")  # Etiqueta en la barra de colores  \n",
    "plt.xlabel('x (m)')\n",
    "plt.ylabel('y (m)')\n",
    "plt.axis('scaled')\n",
    "plt.show()"
   ]
  },
  {
   "cell_type": "code",
   "execution_count": 6,
   "id": "24c13c48",
   "metadata": {
    "cell_style": "split"
   },
   "outputs": [
    {
     "data": {
      "image/png": "[encoded data removed]",
      "text/plain": [
       "<Figure size 504x504 with 2 Axes>"
      ]
     },
     "metadata": {
      "filenames": {
       "image/png": "/mnt/d/OneDrive - Universidad Adolfo Ibanez/Teaching_courses/Metodos_Numericos/material_catedra/_build/jupyter_execute/11-DiferenciasFinitas_EDP/11-DiferenciasFinitas_EDP_48_0.png"
      },
      "needs_background": "light"
     },
     "output_type": "display_data"
    }
   ],
   "source": [
    "showplot()"
   ]
  },
  {
   "cell_type": "markdown",
   "id": "b037f71e",
   "metadata": {
    "slideshow": {
     "slide_type": "slide"
    }
   },
   "source": [
    "Notar que para graficar usamos la traspuesta de la solción mediante el operador `.T`\n",
    "```python\n",
    "plt.pcolor(xx, yy, T.T)\n",
    "```\n",
    "\n",
    "Esto es debido a que el índice $i$, asociado al eje $x$, corresponde a las filas del arreglo `T`, mientras que el índice $j$ recorre las columnas de `T`."
   ]
  },
  {
   "cell_type": "markdown",
   "id": "425ceecc",
   "metadata": {
    "slideshow": {
     "slide_type": "fragment"
    }
   },
   "source": [
    "Notar también que, en este problema, requerimos de un error relativo pequeño (0.001% en este caso) para asegurar convergencia. Si aumentamos la tolerancia, la solución se hace sensible al valor inicial en la iteración."
   ]
  },
  {
   "cell_type": "markdown",
   "id": "23c77f32",
   "metadata": {
    "slideshow": {
     "slide_type": "slide"
    }
   },
   "source": [
    "### Variables secundarias\n",
    "\n",
    "En el problema anterior, la temperatura es la varible principal del problema. Sin embargo, es común que también que necesitemos información de **variables secundarias** basadas en la derivada o integral de la variable principal."
   ]
  },
  {
   "cell_type": "markdown",
   "id": "cedf0126",
   "metadata": {
    "slideshow": {
     "slide_type": "fragment"
    }
   },
   "source": [
    "Por ejemplo, el **flujo de calor** está definido por: $\\vec{q} = -k \\nabla T = - k\\left(\\frac{\\partial T}{\\partial x}\\hat{x} +\\frac{\\partial T}{\\partial y}\\hat{y}\\right)$"
   ]
  },
  {
   "cell_type": "markdown",
   "id": "9750b6e5",
   "metadata": {
    "slideshow": {
     "slide_type": "fragment"
    }
   },
   "source": [
    "En ```python``` usamos `gradient` para determinar la derivada en problemas de dos o más dimensiones"
   ]
  },
  {
   "cell_type": "code",
   "execution_count": 7,
   "id": "c0ebed93",
   "metadata": {
    "cell_style": "split",
    "slideshow": {
     "slide_type": "slide"
    }
   },
   "outputs": [],
   "source": [
    "%%capture showplot1\n",
    "\n",
    "skip = (slice(None, None, 5), slice(None, None, 5))\n",
    "qy, qx = np.gradient(T.T,y,x) # gradiente \n",
    "\n",
    "plt.figure(figsize = (7, 7))\n",
    "plt.rcParams.update({'font.size': 18})\n",
    "\n",
    "plt.pcolor(xx, yy, T.T, cmap=cm.get_cmap(cm.plasma))\n",
    "plt.colorbar(label=\"Temperatura (K)\", orientation=\"vertical\")\n",
    "plt.quiver(xx[skip],yy[skip],- qx[skip],- qy[skip]) # campo vectorial de q\n",
    "plt.xlabel('x (m)')\n",
    "plt.ylabel('y (m)')\n",
    "plt.axis('scaled')\n",
    "plt.show()"
   ]
  },
  {
   "cell_type": "code",
   "execution_count": 8,
   "id": "01bc9df7",
   "metadata": {
    "cell_style": "split"
   },
   "outputs": [
    {
     "data": {
      "image/png": "[encoded data removed]",
      "text/plain": [
       "<Figure size 504x504 with 2 Axes>"
      ]
     },
     "metadata": {
      "filenames": {
       "image/png": "/mnt/d/OneDrive - Universidad Adolfo Ibanez/Teaching_courses/Metodos_Numericos/material_catedra/_build/jupyter_execute/11-DiferenciasFinitas_EDP/11-DiferenciasFinitas_EDP_55_0.png"
      },
      "needs_background": "light"
     },
     "output_type": "display_data"
    }
   ],
   "source": [
    "showplot1()"
   ]
  },
  {
   "cell_type": "markdown",
   "id": "41474705",
   "metadata": {
    "slideshow": {
     "slide_type": "slide"
    }
   },
   "source": [
    "Notar el uso de la función `gradient` y `quiver` en este caso . \n",
    "\n",
    "En el caso de `gradient`, debemos alternar los ejes $x$ e $y$ en la forma:\n",
    "```python\n",
    "qy, qx = np.gradient(T.T,y,x) # gradiente\n",
    "```"
   ]
  },
  {
   "cell_type": "markdown",
   "id": "afaacb17",
   "metadata": {
    "slideshow": {
     "slide_type": "fragment"
    }
   },
   "source": [
    "Para poder determinar el valor de $q$ debemos aplicar el negativo de `qx` y `qy`. Esto lo vemos en la función `quiver`:\n",
    "```python\n",
    "plt.quiver(xx,yy,- qx,- qy) # campo vectorial de q \n",
    "\n",
    "```"
   ]
  },
  {
   "cell_type": "markdown",
   "id": "cd6fb01f",
   "metadata": {
    "slideshow": {
     "slide_type": "fragment"
    }
   },
   "source": [
    "Por último, usamos `slice` para reducir el número de índices a graficar por `quiver`. En este contexto, la instrucción `skip = (slice(None, None, 5), slice(None, None, 5))`, es equivalente a:\n",
    "```python\n",
    "plt.quiver(xx[::5,::5],yy[::5,::5],- qx[::5,::5],- qy[::5,::5]) # campo vectorial de q \n",
    "\n",
    "```"
   ]
  },
  {
   "cell_type": "markdown",
   "id": "c48213db",
   "metadata": {
    "slideshow": {
     "slide_type": "slide"
    }
   },
   "source": [
    "Para EDP lineales estacionarias, como la ecuación de Laplace, el método de Gauss-Seidel es práctico y sencillo."
   ]
  },
  {
   "cell_type": "markdown",
   "id": "596baf52",
   "metadata": {
    "slideshow": {
     "slide_type": "fragment"
    }
   },
   "source": [
    "\n",
    "Para ecuaciones no lineales, el método puede ser aplicado mediante esquemas de linealización (similar a [Newton Raphson generalizado](https://panxopanza.github.io/metodos_numericos_mec301/6-Root-finding/6-Root-finding.html#metodos-de-busqueda-lineal)). Esto dada la dificultad de determinar una expresión explícita para $T_{i,j}$ con el sistema no-lineal."
   ]
  },
  {
   "cell_type": "markdown",
   "id": "ce56d5f4",
   "metadata": {
    "slideshow": {
     "slide_type": "fragment"
    }
   },
   "source": [
    "Alternativamente, podemos utilizar EDP de tipo transciente y evaluar la evolución de la solución hasta alcanzar un comportamiento estacionario. Esto lo revisaremos a continuación."
   ]
  },
  {
   "cell_type": "markdown",
   "id": "9fe46dda",
   "metadata": {
    "slideshow": {
     "slide_type": "slide"
    }
   },
   "source": [
    "## Ecuaciones parabólicas (EDP transciente)\n",
    "\n",
    "Una de las ecuaciones parabólicas más comunes es la ley de conducción de calor 1D transciente:\n",
    "\n",
    "\\begin{equation*}\n",
    "\\frac{\\partial T}{\\partial t} = k\\frac{\\partial^2 T}{\\partial x^2}\n",
    "\\end{equation*}"
   ]
  },
  {
   "cell_type": "markdown",
   "id": "249fa6a7",
   "metadata": {
    "slideshow": {
     "slide_type": "fragment"
    }
   },
   "source": [
    "Esta ecuación requiere de dos condiciones de borde para $x$ y una condición inicial para $t$."
   ]
  },
  {
   "cell_type": "markdown",
   "id": "0be09d9a",
   "metadata": {
    "slideshow": {
     "slide_type": "fragment"
    }
   },
   "source": [
    "También podemos usar el método de diferencias finitas para resolver este problema. Sin embargo, en este caso tenemos un problema de condiciones de borde mezclada con un problema de valor inicial."
   ]
  },
  {
   "cell_type": "markdown",
   "id": "a9b71b8f",
   "metadata": {
    "slideshow": {
     "slide_type": "fragment"
    }
   },
   "source": [
    "Como revisamos en la [unidad 9](https://panxopanza.github.io/metodos_numericos_mec301/9-EDO_valor_inicial/9-EDO_valor_inicial.html), existen diversos métodos para resolver problemas de valor inicial. En esta unidad nos enfocaremos en el **método de Euler explícito**."
   ]
  },
  {
   "cell_type": "markdown",
   "id": "ef773ef2",
   "metadata": {
    "slideshow": {
     "slide_type": "slide"
    }
   },
   "source": [
    "### EDP lineal 1D transciente\n",
    "\n",
    "Nuevamente, revisemos una barra que se enfría por convección. Ahora, la barra se encuentra inicialmente a temperatura ambiente $T_\\infty$"
   ]
  },
  {
   "cell_type": "markdown",
   "id": "bd847d4b",
   "metadata": {
    "cell_style": "split",
    "slideshow": {
     "slide_type": "fragment"
    }
   },
   "source": [
    "\n",
    "\n",
    "<img src=\"./images/heated_bar.png\" width=\"450px\" align= center>"
   ]
  },
  {
   "cell_type": "markdown",
   "id": "daebc2dc",
   "metadata": {
    "cell_style": "split",
    "slideshow": {
     "slide_type": "fragment"
    }
   },
   "source": [
    "\\begin{equation*}\n",
    "\\frac{\\partial T}{\\partial t} = \\alpha\\frac{\\partial^2 T}{\\partial x^2} + h'(T_\\infty - T)\n",
    "\\end{equation*}\n",
    "\n",
    "\\begin{equation*}\n",
    "T(0,x) = T_\\infty\n",
    "\\end{equation*}\n",
    "\n",
    "\\begin{equation*}\n",
    "T(t,0) = T_a;\\quad\\quad\\quad \\frac{\\partial T}{\\partial x}\\Big|_{x=L} = h^* \\left[T_\\infty - T(t,L)\\right]\n",
    "\\end{equation*}"
   ]
  },
  {
   "cell_type": "markdown",
   "id": "3abcfa0b",
   "metadata": {
    "slideshow": {
     "slide_type": "slide"
    }
   },
   "source": [
    "Usando diferencias finitas con el método de Euler explícito:\n",
    "\n",
    "\\begin{align*}\n",
    "\\frac{T_{i}^{l+1} - T_{i}^l}{\\Delta t} = \\alpha\\frac{T_{i+1}^l - 2T_{i}^l + T_{i-1}^l}{\\Delta x^2} + h'(T_\\infty - T_i^l) \\quad\\quad &\\mathrm{if}~i \\neq 0, m\\\\[10pt]\n",
    "T_{i}^{l+1}= T_a\\quad\\quad &\\mathrm{if}~i = 0 \\\\[10pt]\n",
    "\\frac{T_{i}^{l+1} -  T_{i-1}^{l+1}}{\\Delta x}  = h^*(T_\\infty - T_i^{l+1})\\quad\\quad &\\mathrm{if}~i = m\\\\[10pt]\n",
    "\\end{align*}"
   ]
  },
  {
   "cell_type": "markdown",
   "id": "a11e0804",
   "metadata": {
    "slideshow": {
     "slide_type": "fragment"
    }
   },
   "source": [
    "El sistema a resolver esta dado por:\n",
    "\n",
    "\\begin{align*}\n",
    "T_{i}^{l+1} = (1 - \\Delta t h') T_{i}^l + \\frac{\\alpha\\Delta t}{\\Delta x^2}\\left(T_{i+1}^l - 2T_{i}^l + T_{i-1}^l\\right) + \\Delta t h'T_\\infty\\quad\\quad &\\mathrm{if}~i \\neq 0, m\\\\[10pt]\n",
    "T_{i}^{l+1} = T_a\\quad\\quad &\\mathrm{if}~i = 0 \\\\[10pt]\n",
    "T_{i}^{l+1} =\\frac{1}{1 + \\Delta x h^*} \\left(T_{i-1}^{l+1}  + \\Delta x~h^*T_\\infty\\right)\\quad\\quad &\\mathrm{if}~i = m\\\\[10pt]\n",
    "\\end{align*}"
   ]
  },
  {
   "cell_type": "markdown",
   "id": "d66e10ca",
   "metadata": {
    "slideshow": {
     "slide_type": "slide"
    }
   },
   "source": [
    "Notar que las condiciones de borde están definidas respecto al valor futuro. Esto es simplemente por convenciencia en el método explícito"
   ]
  },
  {
   "cell_type": "markdown",
   "id": "2d0c1e45",
   "metadata": {
    "slideshow": {
     "slide_type": "slide"
    }
   },
   "source": [
    ">**Importante** Una condición necesaria del método explícito para asegurar convergencia y estabilidad en nuestra solución es:\n",
    ">\n",
    ">\\begin{equation}\n",
    "\\Delta t \\le \\frac{1}{2} \\frac{\\Delta x^2}{\\alpha}\n",
    "\\end{equation}"
   ]
  },
  {
   "cell_type": "markdown",
   "id": "2a74e894",
   "metadata": {
    "slideshow": {
     "slide_type": "fragment"
    }
   },
   "source": [
    ">Esto significa que nuestro paso de tiempo está condicionado por el número de nodos en nuestra malla. Es decir, a mayor número de nodos, menor será el paso de tiempo"
   ]
  },
  {
   "cell_type": "markdown",
   "id": "23c117ff",
   "metadata": {
    "slideshow": {
     "slide_type": "fragment"
    }
   },
   "source": [
    ">La condición de estabilidad está presente en la mayoría de los métodos explícitos, incluso, en esquemas más complejos como RK4."
   ]
  },
  {
   "cell_type": "markdown",
   "id": "a2fa5ce8",
   "metadata": {
    "slideshow": {
     "slide_type": "fragment"
    }
   },
   "source": [
    ">Una alternativa para utilizar valores de $\\Delta t$ mayores es mediante métodos implícitos, o semi-implícitos como [Crack-Nicolson](https://en.wikipedia.org/wiki/Crank%E2%80%93Nicolson_method). Sin embargo, en este curso solo nos enfocaremos en métodos explícitos"
   ]
  },
  {
   "cell_type": "markdown",
   "id": "d2635496",
   "metadata": {
    "slideshow": {
     "slide_type": "fragment"
    }
   },
   "source": [
    ">Para mayor información sobre métodos implícitos, revisar las referencias al final del capítulo."
   ]
  },
  {
   "cell_type": "markdown",
   "id": "cf7ff1b6",
   "metadata": {
    "slideshow": {
     "slide_type": "slide"
    }
   },
   "source": [
    "Volvemos a nuestro problema considerando los siguientes parámetros:"
   ]
  },
  {
   "cell_type": "markdown",
   "id": "556c3681",
   "metadata": {
    "cell_style": "split",
    "slideshow": {
     "slide_type": "fragment"
    }
   },
   "source": [
    "\\begin{align*}\n",
    "T_a &= 400~\\mathrm{K} \\\\\n",
    "T_\\infty &= 300~\\mathrm{K} \\\\\n",
    "h' &= 0.002~\\mathrm{s}^{-1} \\\\\n",
    "h^* &= 0.005~\\mathrm{m}^{-1}\\\\\n",
    "\\alpha &= 0.0001~\\mathrm{m}^2/\\mathrm{s} \\\\\n",
    "L &= 1 ~\\mathrm{m} \\\\\n",
    "\\end{align*}"
   ]
  },
  {
   "cell_type": "code",
   "execution_count": 9,
   "id": "b0030336",
   "metadata": {
    "cell_style": "split"
   },
   "outputs": [],
   "source": [
    "import numpy as np\n",
    "# definimos las constantes del problema\n",
    "Ta    = 400    # Temperatura al lado izquierdo (K)\n",
    "Too   = 300    # Temperatura del aire (K)b\n",
    "h     = 0.002  # Coeficiente convectivo (s^-1)\n",
    "hstar = 0.005  # Coeficiente convectivo c.b. (m^-1)\n",
    "a     = 0.0001 # Difusividad térmica (m^2/s)\n",
    "L     = 1      # Largo de la barra (m)"
   ]
  },
  {
   "cell_type": "code",
   "execution_count": 10,
   "id": "803dd80f",
   "metadata": {
    "slideshow": {
     "slide_type": "slide"
    }
   },
   "outputs": [],
   "source": [
    "Nx = 20                             # número total de nodos\n",
    "n = Nx - 1                          # índice del nodo extremo\n",
    "dx = L/(Nx - 1)                     # espaciamiento entre nodos\n",
    "dt = 0.5*1/2*dx**2/a                # paso de tiempo\n",
    "t = np.arange(0,100*dt,dt)          # Intervalo de tiempo\n",
    "\n",
    "T0 = Too*np.ones(Nx)                # condición inicial\n",
    "T_time = np.zeros((len(T0),len(t))) # arreglo para almacenar soluciones\n",
    "T_time[:,0] = T0\n",
    "\n",
    "T = T0.copy()             \n",
    "for l in range(len(t)) :\n",
    "    Tl = T.copy()\n",
    "    for i in range(Nx):\n",
    "        if   i == 0: T[i] = Ta\n",
    "        elif i == n: T[i] = 1/(1+dx*hstar)*(T[i-1] + dx*hstar*Too)\n",
    "        else:\n",
    "            T[i] = (1 - dt*h)*Tl[i] + a*dt/dx**2*(Tl[i+1] - 2*Tl[i] + Tl[i-1]) + dt*h*Too\n",
    "    \n",
    "    T_time[:,l] = T.copy()"
   ]
  },
  {
   "cell_type": "markdown",
   "id": "f4675446",
   "metadata": {
    "slideshow": {
     "slide_type": "slide"
    }
   },
   "source": [
    "Ahora graficamos nuestro resultado, considerando solo 10 curvas dentro del intervalo de tiempo."
   ]
  },
  {
   "cell_type": "code",
   "execution_count": 11,
   "id": "4ea82a70",
   "metadata": {
    "cell_style": "split",
    "slideshow": {
     "slide_type": "fragment"
    }
   },
   "outputs": [],
   "source": [
    "%%capture showplot2\n",
    "from matplotlib import cm                             # librería de mapa de colores predefinidos\n",
    "import matplotlib.pyplot as plt\n",
    "\n",
    "plt.figure(figsize = (8, 5))                          # Tamaño del gráfico\n",
    "plt.rcParams.update({'font.size': 18})                # Tamaño de la fuente \n",
    "\n",
    "# Graficamos la distribución de temperaturas en el tiempo\n",
    "x = np.linspace(0,L,Nx)                               # Arreglo de puntos en x\n",
    "cRGB = cm.magma(np.linspace(0,1,len(t)))              # Mapa de colores para cada linea\n",
    "for it in range(1,len(t),round(len(t)/10)):           # Graficamos 10 curvas dentro del periodo total de simulación  \n",
    "    plt.plot(x,T_time[:,it] - 273,'o:',color=cRGB[it])  # Distribución de temperaturas en tiempo \"t\"\n",
    "\n",
    "# Agregamos una barra de colores como leyenda\n",
    "sm = plt.cm.ScalarMappable(cmap=cm.magma)             # Necesario para agregar la barra\n",
    "cbar = plt.colorbar(sm, ticks=[0, 1])                 # Restringir solo dos etiquetas\n",
    "cbar.set_ticklabels(['0', '%.0f' % (max(t)/60)])      # Valor en cada etiqueta del eje\n",
    "cbar.set_label(\"Tiempo (min)\")                        # Nombre de la variable\n",
    "\n",
    "# formateamos los ejes\n",
    "plt.xlabel('Largo, x (m)')\n",
    "plt.ylabel('Temperatura (°C)')\n",
    "plt.grid()\n",
    "plt.show()"
   ]
  },
  {
   "cell_type": "code",
   "execution_count": 12,
   "id": "f3374e88",
   "metadata": {
    "cell_style": "split",
    "slideshow": {
     "slide_type": "-"
    }
   },
   "outputs": [
    {
     "data": {
      "image/png": "[encoded data removed]",
      "text/plain": [
       "<Figure size 576x360 with 2 Axes>"
      ]
     },
     "metadata": {
      "filenames": {
       "image/png": "/mnt/d/OneDrive - Universidad Adolfo Ibanez/Teaching_courses/Metodos_Numericos/material_catedra/_build/jupyter_execute/11-DiferenciasFinitas_EDP/11-DiferenciasFinitas_EDP_83_0.png"
      },
      "needs_background": "light"
     },
     "output_type": "display_data"
    }
   ],
   "source": [
    "showplot2()"
   ]
  },
  {
   "cell_type": "markdown",
   "id": "308774c8",
   "metadata": {
    "slideshow": {
     "slide_type": "slide"
    }
   },
   "source": [
    "### EDP no-lineal 1D transciente\n",
    "\n",
    "Una ventaja del método de Euler explícito es que nos permite fácilmente extender el resultado a EDP del tipo no lineal. Esto debido a que los valores de $T_{i}^{l+1}$ siempre quedan expresados en función de valores conocidos."
   ]
  },
  {
   "cell_type": "markdown",
   "id": "a28c32a2",
   "metadata": {
    "slideshow": {
     "slide_type": "fragment"
    }
   },
   "source": [
    "Analicemos esto con el problema de la barra ahora con enfriamiento por convección y radiación"
   ]
  },
  {
   "cell_type": "markdown",
   "id": "fb8f0d42",
   "metadata": {
    "cell_style": "split",
    "slideshow": {
     "slide_type": "fragment"
    }
   },
   "source": [
    "<img src=\"./images/heated_bar_radiation.png\" width=\"450px\" align= center>"
   ]
  },
  {
   "cell_type": "markdown",
   "id": "5700b54d",
   "metadata": {
    "cell_style": "split"
   },
   "source": [
    "\\begin{equation*}\n",
    "\\frac{\\partial T}{\\partial t} = \\alpha\\frac{\\partial^2 T}{\\partial x^2} + h'(T_\\infty - T) + \\sigma'(T_\\infty^4 - T^4)\n",
    "\\end{equation*}\n",
    "\n",
    "\\begin{equation*}\n",
    "T(0,x) = T_\\infty\n",
    "\\end{equation*}\n",
    "\n",
    "\\begin{equation*}\n",
    "T(t,0) = T_a;\\quad\\quad\\quad \\frac{\\partial T}{\\partial x}\\Big|_{x=L} = h^* \\left[T_\\infty - T(t,L)\\right]\n",
    "\\end{equation*}"
   ]
  },
  {
   "cell_type": "markdown",
   "id": "63ae2043",
   "metadata": {
    "slideshow": {
     "slide_type": "slide"
    }
   },
   "source": [
    "Al aplicar diferencias finitas, notamos que el problema, nuevamente, queda definido de forma explícita en función de valores conocidos:\n",
    "\n",
    "\\begin{align*}\n",
    "T_{i}^{l+1} = (1 - \\Delta t h') T_{i}^l - \\Delta t\\sigma'\\left(T_{i}^4\\right)^l + \\frac{\\alpha\\Delta t}{\\Delta x^2}\\left(T_{i+1}^l - 2T_{i}^l + T_{i-1}^l\\right) + \\Delta t h'T_\\infty + \\Delta t\\sigma' T_\\infty^4\\quad\\quad &\\mathrm{if}~i \\neq 0, m\\\\[10pt]\n",
    "T_{i}^{l+1} = T_a\\quad\\quad &\\mathrm{if}~i = 0 \\\\[10pt]\n",
    "T_{i}^{l+1} =\\frac{1}{1 + \\Delta x h^*} \\left(T_{i-1}^{l+1}  + \\Delta x~h^*T_\\infty\\right)\\quad\\quad &\\mathrm{if}~i = m\\\\[10pt]\n",
    "\\end{align*}"
   ]
  },
  {
   "cell_type": "markdown",
   "id": "d1da342e",
   "metadata": {
    "slideshow": {
     "slide_type": "slide"
    }
   },
   "source": [
    "Analicemos la solución de este problema para los siguientes parámetros:"
   ]
  },
  {
   "cell_type": "markdown",
   "id": "175d2d76",
   "metadata": {
    "cell_style": "split",
    "slideshow": {
     "slide_type": "fragment"
    }
   },
   "source": [
    "\n",
    "\\begin{align*}\n",
    "T_a &= 400~\\mathrm{K} \\\\\n",
    "T_\\infty &= 300~\\mathrm{K} \\\\\n",
    "h' &= 0.002~\\mathrm{s}^{-1} \\\\\n",
    "h^* &= 0.005~\\mathrm{m}^{-1}\\\\\n",
    "\\sigma' &= 1\\times 10^{-10}~\\mathrm{s}^{-1}\\mathrm{K}^{-3} \\\\\n",
    "k &= 0.0001~\\mathrm{m}^2/\\mathrm{s} \\\\\n",
    "L &= 1 ~\\mathrm{m} \\\\\n",
    "\\end{align*}"
   ]
  },
  {
   "cell_type": "code",
   "execution_count": 13,
   "id": "640d7e58",
   "metadata": {
    "cell_style": "split"
   },
   "outputs": [],
   "source": [
    "# definimos las constantes del problema\n",
    "Ta   = 400    # Temperatura al lado izquierdo (K)\n",
    "Too  = 300    # Temperatura del aire (K)b\n",
    "h    = 0.002  # Coeficiente convectivo (s^-1)\n",
    "hstar = 0.005 # Coeficiente convectivo c.b. (m^-1)\n",
    "S    = 1E-10  # Constante de radiación (m^-1)\n",
    "a    = 0.0001 # Difusividad térmica (m^2/s)\n",
    "L    = 1      # Largo de la barra (m)"
   ]
  },
  {
   "cell_type": "code",
   "execution_count": 14,
   "id": "d867a60f",
   "metadata": {
    "slideshow": {
     "slide_type": "slide"
    }
   },
   "outputs": [],
   "source": [
    "Nx = 20                             # número total de nodos\n",
    "n = Nx - 1                          # índice del nodo extremo\n",
    "dx = L/(Nx - 1)                     # espaciamiento entre nodos\n",
    "dt = 0.5*1/2*dx**2/a                # paso de tiempo\n",
    "t = np.arange(0,10*60,dt)           # Intervalo de tiempo (10 minutos)\n",
    "\n",
    "T0 = Too*np.ones(Nx)                # condición inicial\n",
    "T_time = np.zeros((len(T0),len(t))) # arreglo para almacenar soluciones\n",
    "T_time[:,0] = T0\n",
    "\n",
    "T = T0.copy()             \n",
    "for l in range(len(t)) :\n",
    "    Tl = T.copy()\n",
    "    for i in range(Nx):\n",
    "        if   i == 0: T[i] = Ta\n",
    "        elif i == n: T[i] = 1/(1+dx*h)*(T[i-1] + dx*h*Too)\n",
    "        else:\n",
    "            T[i] = (1 - dt*h)*Tl[i] - dt*S*Tl[i]**4 + a*dt/dx**2*(Tl[i+1] - 2*Tl[i] + Tl[i-1]) + dt*h*Too + dt*S*Too**4\n",
    "    \n",
    "    T_time[:,l] = T.copy()"
   ]
  },
  {
   "cell_type": "markdown",
   "id": "245afeb0",
   "metadata": {
    "slideshow": {
     "slide_type": "slide"
    }
   },
   "source": [
    "Graficamos nuestro resultado considerando 10 curvas dentro de los primeros 60 segundos."
   ]
  },
  {
   "cell_type": "code",
   "execution_count": 15,
   "id": "aff88890",
   "metadata": {
    "cell_style": "split",
    "slideshow": {
     "slide_type": "fragment"
    }
   },
   "outputs": [],
   "source": [
    "%%capture showplot3\n",
    "from matplotlib import cm                              # librería de mapa de colores predefinidos\n",
    "\n",
    "plt.figure(figsize = (8, 5))                           # Tamaño del gráfico\n",
    "plt.rcParams.update({'font.size': 18})                 # Tamaño de la fuente \n",
    "\n",
    "# Graficamos la distribución de temperaturas en el tiempo\n",
    "tplot = t[t<=60]                                       # primeros 60 segundos\n",
    "x = np.linspace(0,L,Nx)                                # Arreglo de puntos en x\n",
    "cRGB = cm.magma(np.linspace(0,1,len(tplot)))           # Mapa de colores para cada linea\n",
    "for it in range(1,len(tplot),round(len(tplot)/10)):    # Graficamos 10 curvas dentro del periodo total de simulación\n",
    "    plt.plot(x,T_time[:,it] - 273,'o:',color=cRGB[it]) # Distribución de temperaturas en tiempo \"t\"\n",
    "\n",
    "# Agregamos una barra de colores como leyenda\n",
    "sm = plt.cm.ScalarMappable(cmap=cm.magma)              # Necesario para agregar la barra\n",
    "cbar = plt.colorbar(sm, ticks=[0, 1])                  # Restringir solo dos etiquetas\n",
    "cbar.set_ticklabels(['0', '%.0f' % (max(tplot))])       # Valor en cada etiqueta del eje\n",
    "cbar.set_label(\"Tiempo (seg)\")                         # Nombre de la variable\n",
    "\n",
    "# formateamos los ejes\n",
    "plt.xlabel('Largo, x (m)')\n",
    "plt.ylabel('Temperatura (°C)')\n",
    "plt.grid()\n",
    "plt.show()"
   ]
  },
  {
   "cell_type": "code",
   "execution_count": 16,
   "id": "0bf1b1f4",
   "metadata": {
    "cell_style": "split"
   },
   "outputs": [
    {
     "data": {
      "image/png": "[encoded data removed]",
      "text/plain": [
       "<Figure size 576x360 with 2 Axes>"
      ]
     },
     "metadata": {
      "filenames": {
       "image/png": "/mnt/d/OneDrive - Universidad Adolfo Ibanez/Teaching_courses/Metodos_Numericos/material_catedra/_build/jupyter_execute/11-DiferenciasFinitas_EDP/11-DiferenciasFinitas_EDP_95_0.png"
      },
      "needs_background": "light"
     },
     "output_type": "display_data"
    }
   ],
   "source": [
    "showplot3()"
   ]
  },
  {
   "cell_type": "markdown",
   "id": "718f8cc3",
   "metadata": {
    "slideshow": {
     "slide_type": "slide"
    }
   },
   "source": [
    "## EDP transcientes en 2D"
   ]
  },
  {
   "cell_type": "markdown",
   "id": "3d01ed92",
   "metadata": {
    "slideshow": {
     "slide_type": "slide"
    }
   },
   "source": [
    "El método explícito puede ser fácilmente extendido a problemas con más dimenciones, EDP no lineales, o incluso, con más de una varible dependiente (sistemas de EDPs)."
   ]
  },
  {
   "cell_type": "markdown",
   "id": "9579ad7f",
   "metadata": {
    "cell_style": "center",
    "slideshow": {
     "slide_type": "fragment"
    }
   },
   "source": [
    "Revisemos una EDP 2D, considerando el problema de la placa analizado anteriormente."
   ]
  },
  {
   "cell_type": "markdown",
   "id": "0b3004af",
   "metadata": {
    "cell_style": "split"
   },
   "source": [
    "<img src=\"./images/plate_boundary_conditions.png\" width=\"400px\" align= center>"
   ]
  },
  {
   "cell_type": "markdown",
   "id": "2c3e99e5",
   "metadata": {
    "cell_style": "split"
   },
   "source": [
    "Ahora como un problema transciente:\n",
    "\n",
    "\\begin{equation*}\n",
    "\\frac{\\partial T}{\\partial t}= \\alpha\\frac{\\partial^2 T}{\\partial x^2} +\n",
    "\\alpha\\frac{\\partial^2 T}{\\partial y^2}\n",
    "\\end{equation*}\n",
    "\n",
    "con condición inicial $T(0,x,y) = T_\\infty$"
   ]
  },
  {
   "cell_type": "markdown",
   "id": "9211e279",
   "metadata": {
    "slideshow": {
     "slide_type": "slide"
    }
   },
   "source": [
    "Usando diferencias finitas, con Euler explícito, derivamos un sistema de la forma:\n",
    "\n",
    "\\begin{align*}\n",
    "T_{i,j}^{l+1} = T_{i,j}^{l} + \\frac{\\alpha\\Delta t}{\\Delta x^2}\\left(T_{i+1,j}^l - 2T_{i,j}^l + T_{i-1,j}^l\\right)\n",
    "+ \\frac{\\alpha\\Delta t}{\\Delta y^2}\\left(T_{i,j+1}^l - 2T_{i,j}^l + T_{i,j-1}^l\\right)\\quad\\quad &\\mathrm{if}~i \\neq 0, m~\\mathrm{and}~j\\neq0,n \\\\[10pt]\n",
    "T_{i,j}^{l+1} = T_a\\quad\\quad &\\mathrm{if}~i = 0 \\\\[10pt]\n",
    "T_{i,j}^{l+1} = T_b\\quad\\quad &\\mathrm{if}~i = m \\\\[10pt]\n",
    "T_{i,j+1}^{l+1} - T_{i,j}^{l+1}  = -\\Delta y q_0\\quad\\quad &\\mathrm{if}~j =0\\\\[10pt]\n",
    "(1 + h\\Delta y)T_{i,j}^{l+1} -  T_{i,j-1}^{l+1}  = \\Delta y~hT_\\infty\\quad\\quad &\\mathrm{if}~j = n\\\\[10pt]\n",
    "\\end{align*}"
   ]
  },
  {
   "cell_type": "markdown",
   "id": "65dd0bb3",
   "metadata": {
    "slideshow": {
     "slide_type": "fragment"
    }
   },
   "source": [
    "Nuevamente, usamos valores futuros para las condiciones de borde"
   ]
  },
  {
   "cell_type": "markdown",
   "id": "26ab7487",
   "metadata": {
    "slideshow": {
     "slide_type": "slide"
    }
   },
   "source": [
    ">**Nota** En este caso, la condición de estabilidad y convergencia está dada por:\n",
    ">\n",
    ">\\begin{equation}\n",
    "\\Delta t \\le \\frac{1}{8} \\frac{\\Delta x^2 + \\Delta y^2}{\\alpha}\n",
    "\\end{equation}"
   ]
  },
  {
   "cell_type": "markdown",
   "id": "da5ceb6c",
   "metadata": {
    "cell_style": "split",
    "slideshow": {
     "slide_type": "fragment"
    }
   },
   "source": [
    "Resolvamos este problema en un código, considerando los parámetros\n",
    "\n",
    "\\begin{eqnarray*}\n",
    "T_a &=& 500~\\mathrm{K};\\quad\\quad \n",
    "h &=& 100~\\mathrm{m}^{-1} \\\\\n",
    "T_b &=& 500~\\mathrm{K};\\quad\\quad \n",
    "k &=& 0.0001~\\mathrm{m}^2/\\mathrm{s} \\\\\n",
    "T_\\infty &=& 300~\\mathrm{K};\\quad\\quad\n",
    "q_0 &=& 1000 ~\\mathrm{K/m} \\\\\n",
    "L &=& 1 ~\\mathrm{m};\\quad\\quad\\quad\n",
    "H &=& 1.5 ~\\mathrm{m} \\\\\n",
    "\\end{eqnarray*}"
   ]
  },
  {
   "cell_type": "code",
   "execution_count": 17,
   "id": "1602432f",
   "metadata": {
    "cell_style": "split"
   },
   "outputs": [],
   "source": [
    "# definimos las constantes del problema\n",
    "Ta   = 500    # Temperatura al lado izquierdo (K)\n",
    "Tb   = 500    # Temperatura al lado derecho (K)\n",
    "Too  = 300    # Temperatura del aire (K)b\n",
    "h    = 100    # Coeficiente convectivo (m^-1)\n",
    "a    = 0.0001 # difusividad térmica (m^2/s)\n",
    "q0   = 1000   # flujo de calor (K/m))\n",
    "L, H = 1, 1.5 # Largo y ancho de la cavidad (m)"
   ]
  },
  {
   "cell_type": "markdown",
   "id": "0721a978",
   "metadata": {
    "slideshow": {
     "slide_type": "fragment"
    }
   },
   "source": [
    "En este caso, definiremos una función `T_plate_time` que determinará la distribución de temperaturas para un tiempo `tend`"
   ]
  },
  {
   "cell_type": "code",
   "execution_count": 18,
   "id": "1d8a4110",
   "metadata": {
    "slideshow": {
     "slide_type": "slide"
    }
   },
   "outputs": [],
   "source": [
    "def T_plate_time(Nx,Ny, tend):\n",
    "    # Definimos las características de la malla\n",
    "    nx, ny = Nx - 1, Ny - 1         # índice último nodo\n",
    "    dx, dy = L/(Nx - 1), H/(Ny - 1) # espaciamiento entre nodos\n",
    "    dt = 0.5*1/8*(dx**2 + dy**2)/a  # paso de tiempo\n",
    "    t = np.arange(0,tend,dt)        # Intervalo de tiempo\n",
    "\n",
    "    # Iteramos\n",
    "    T = Too*np.ones((Nx,Ny))       # condición inicial\n",
    "    for l in range(len(t)):\n",
    "        Tl = T.copy()       # guardamos la iteración previa\n",
    "        \n",
    "        for i, j in product(range(Nx),range(Ny)):  # loop sobre i y j\n",
    "                \n",
    "                # condiciones de borde\n",
    "                if   i == 0:  T[i,j] = Ta\n",
    "                elif i == nx: T[i,j] = Tb\n",
    "                elif j == 0:  T[i,j] = T[i,j+1] + dy*q0\n",
    "                elif j == ny: T[i,j] = 1/(1 + dy*h)*(T[i,j-1] + dy*h*Too)\n",
    "            \n",
    "                # nodos centrales\n",
    "                else: T[i,j] = Tl[i,j] + a*dt/dx**2*(Tl[i+1,j] - 2*Tl[i,j] + Tl[i-1,j]) \\\n",
    "                                       + a*dt/dy**2*(Tl[i,j+1] - 2*Tl[i,j] + Tl[i,j-1])\n",
    "                \n",
    "                     \n",
    "    return T"
   ]
  },
  {
   "cell_type": "code",
   "execution_count": 19,
   "id": "850ed513",
   "metadata": {
    "cell_style": "split",
    "slideshow": {
     "slide_type": "slide"
    }
   },
   "outputs": [],
   "source": [
    "%%capture showplot4\n",
    "\n",
    "# Definimos las características de la malla\n",
    "Nx, Ny = 51, 76                    # total de nodos\n",
    "T = T_plate_time(Nx,Ny, tend = 100) # Determinamos T(x,y)\n",
    "\n",
    "x =   np.linspace(0,L,Nx) # coordenadas x\n",
    "y =   np.linspace(0,H,Ny) # coordenadas y\n",
    "xx, yy = np.meshgrid(x,y) # malla x-y\n",
    "\n",
    "skip = (slice(None, None, 5), slice(None, None, 5))\n",
    "qy, qx = np.gradient(T.T,y,x) # gradiente \n",
    "\n",
    "plt.figure(figsize = (7, 7))           # Tamaño del lienzo\n",
    "plt.rcParams.update({'font.size': 18}) # tamaño de fuente\n",
    "\n",
    "plt.pcolor(xx, yy, T.T, cmap=cm.get_cmap(cm.plasma))           # Distribución T(x,y) en mapa de colores\n",
    "plt.colorbar(label=\"Temperatura (K)\", orientation=\"vertical\")  # Etiqueta de la barra de colores\n",
    "\n",
    "# campo vectorial de q\n",
    "plt.quiver(xx[skip],yy[skip],- qx[skip],- qy[skip])            # Distribución de flujo de calor\n",
    "plt.xlabel('x (m)')\n",
    "plt.ylabel('y (m)')\n",
    "plt.axis('scaled')\n",
    "plt.show()"
   ]
  },
  {
   "cell_type": "code",
   "execution_count": 20,
   "id": "188ae6b8",
   "metadata": {
    "cell_style": "split"
   },
   "outputs": [
    {
     "data": {
      "image/png": "[encoded data removed]",
      "text/plain": [
       "<Figure size 504x504 with 2 Axes>"
      ]
     },
     "metadata": {
      "filenames": {
       "image/png": "/mnt/d/OneDrive - Universidad Adolfo Ibanez/Teaching_courses/Metodos_Numericos/material_catedra/_build/jupyter_execute/11-DiferenciasFinitas_EDP/11-DiferenciasFinitas_EDP_109_0.png"
      },
      "needs_background": "light"
     },
     "output_type": "display_data"
    }
   ],
   "source": [
    "showplot4()"
   ]
  },
  {
   "cell_type": "markdown",
   "id": "33d3b1b6",
   "metadata": {
    "cell_style": "center",
    "slideshow": {
     "slide_type": "slide"
    }
   },
   "source": [
    "## Referencias\n",
    "- Chapra S., Canale R. **Capítulo 28: Diferencias finitas: ecuaciones elípticas** en *Métodos Numéricos para Ingenieros*, 6ta Ed., McGraw Hill, 2011\n",
    "\n",
    "- Chapra S., Canale R. **Capítulo 29: Diferencias finitas: ecuaciones parabólicas** en *Métodos Numéricos para Ingenieros*, 6ta Ed., McGraw Hill, 2011\n",
    "\n",
    "\n",
    "- Williams H. P. **Chapter 20: Partial diferential equations** in \"Numerical Recipes\" 3rd Ed, Cambridge University Press, 2007\n"
   ]
  }
 ],
 "metadata": {
  "celltoolbar": "Slideshow",
  "kernelspec": {
   "display_name": "Python 3 (ipykernel)",
   "language": "python",
   "name": "python3"
  },
  "language_info": {
   "codemirror_mode": {
    "name": "ipython",
    "version": 3
   },
   "file_extension": ".py",
   "mimetype": "text/x-python",
   "name": "python",
   "nbconvert_exporter": "python",
   "pygments_lexer": "ipython3",
   "version": "3.9.13"
  },
  "latex_envs": {
   "LaTeX_envs_menu_present": false,
   "autoclose": false,
   "autocomplete": false,
   "bibliofile": "biblio.bib",
   "cite_by": "apalike",
   "current_citInitial": 1,
   "eqLabelWithNumbers": true,
   "eqNumInitial": 1,
   "hotkeys": {
    "equation": "Ctrl-E",
    "itemize": "Ctrl-I"
   },
   "labels_anchors": false,
   "latex_user_defs": false,
   "report_style_numbering": false,
   "user_envs_cfg": false
  },
  "rise": {
   "height": "100%",
   "theme": "simple",
   "width": "100%"
  },
  "toc": {
   "base_numbering": "1",
   "nav_menu": {},
   "number_sections": true,
   "sideBar": true,
   "skip_h1_title": true,
   "title_cell": "Contenidos",
   "title_sidebar": "Contenidos",
   "toc_cell": false,
   "toc_position": {
    "height": "calc(100% - 180px)",
    "left": "10px",
    "top": "150px",
    "width": "303.828px"
   },
   "toc_section_display": true,
   "toc_window_display": false
  },
  "varInspector": {
   "cols": {
    "lenName": 16,
    "lenType": 16,
    "lenVar": 40
   },
   "kernels_config": {
    "python": {
     "delete_cmd_postfix": "",
     "delete_cmd_prefix": "del ",
     "library": "var_list.py",
     "varRefreshCmd": "print(var_dic_list())"
    },
    "r": {
     "delete_cmd_postfix": ") ",
     "delete_cmd_prefix": "rm(",
     "library": "var_list.r",
     "varRefreshCmd": "cat(var_dic_list()) "
    }
   },
   "types_to_exclude": [
    "module",
    "function",
    "builtin_function_or_method",
    "instance",
    "_Feature"
   ],
   "window_display": false
  }
 },
 "nbformat": 4,
 "nbformat_minor": 5
}
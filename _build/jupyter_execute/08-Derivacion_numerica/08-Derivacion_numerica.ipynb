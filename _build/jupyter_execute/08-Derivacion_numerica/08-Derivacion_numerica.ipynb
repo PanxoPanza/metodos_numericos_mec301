{
 "cells": [
  {
   "cell_type": "markdown",
   "id": "6d47d103",
   "metadata": {
    "cell_style": "center",
    "slideshow": {
     "slide_type": "slide"
    }
   },
   "source": [
    "# Derivación numérica"
   ]
  },
  {
   "cell_type": "markdown",
   "id": "07ce8d9e",
   "metadata": {
    "slideshow": {
     "slide_type": "slide"
    }
   },
   "source": [
    "## Introducción\n",
    "\n",
    "La *derivada* representa la tasa de cambio de una variable dependiente respecto de una variable independiente. Es una herramienta de uso común en diversas áreas de ingeniería, por ejemplo:"
   ]
  },
  {
   "cell_type": "markdown",
   "id": "83cb4e05",
   "metadata": {
    "slideshow": {
     "slide_type": "fragment"
    }
   },
   "source": [
    "<img src=\"./images/ejemplos_derivadas.png\" width=\"700px\" align= center>\n",
    "\n",
    "En todos estos ejemplos, la variable independiente corresponde a la posición $x$."
   ]
  },
  {
   "cell_type": "markdown",
   "id": "3a20c434",
   "metadata": {
    "slideshow": {
     "slide_type": "slide"
    }
   },
   "source": [
    "## Diferencias Finitas"
   ]
  },
  {
   "cell_type": "markdown",
   "id": "50573325",
   "metadata": {
    "slideshow": {
     "slide_type": "slide"
    }
   },
   "source": [
    "\n",
    "### Derivada de primer orden\n",
    "Matemáticamente, representamos la derivada $f'(x)$ de una función $f(x)$ en el punto $x=a$ como: \n",
    "\n",
    "\\begin{equation*}\n",
    "\\frac{df}{dx} = \\lim_{a\\rightarrow 0}\\frac{f(x+a)-f(x)}{a}\n",
    "\\end{equation*}"
   ]
  },
  {
   "cell_type": "markdown",
   "id": "8c7159aa",
   "metadata": {
    "slideshow": {
     "slide_type": "fragment"
    }
   },
   "source": [
    "Gráficamente, para $a = x_i$ entre dos valores igualmente espaciados $x_{i-1}$ y $x_{i+1}$, con $h = x_i - x_{i-1}$, tenemos tres alternativas para aproximar $f'(x_i)$:\n",
    "\n",
    "<img src=\"./images/first_order_derivative.png\" width=\"800px\" align= center>"
   ]
  },
  {
   "cell_type": "markdown",
   "id": "9c2afa45",
   "metadata": {
    "slideshow": {
     "slide_type": "fragment"
    }
   },
   "source": [
    "Esta aproximación se denomina **diferencias finitas**."
   ]
  },
  {
   "cell_type": "markdown",
   "id": "b3b91569",
   "metadata": {
    "slideshow": {
     "slide_type": "slide"
    }
   },
   "source": [
    "Al igual que en la unidad anterior, podemos usar series de Taylor para evaluar el error de truncamiento asociado a cada aproximación."
   ]
  },
  {
   "cell_type": "markdown",
   "id": "0afcea88",
   "metadata": {
    "slideshow": {
     "slide_type": "fragment"
    }
   },
   "source": [
    "Consideremos la serie de Taylor de $f(x)$ centrada en $x_i$:\n",
    "\n",
    "\\begin{align*}\n",
    "f(x) &= \\frac{f(x_i)(x - x_i)^0}{0!} + \\frac{f^{\\prime}(x_i)(x - x_j)^1}{1!} + \\frac{f''(x_i)(x - x_i)^2}{2!} + \\frac{f'''(x_i)(x - x_i)^3}{3!} + \\cdots \\\\[10pt]\n",
    "&= f(x_i) + f^{\\prime}(x_i)(x - x_i) + \\frac{f''(x_i)}{2}(x - x_i)^2 + \\frac{f'''(x_i)}{6}(x - x_i)^3 + \\cdots\n",
    "\\end{align*}\n"
   ]
  },
  {
   "cell_type": "markdown",
   "id": "6c182b58",
   "metadata": {
    "slideshow": {
     "slide_type": "slide"
    }
   },
   "source": [
    "Evaluando esta expansión en $x_{i-1}$, \n",
    "\n",
    "\\begin{equation*}\n",
    "f(x_{i-1})= f(x_i) + f^{\\prime}(x_i)(x_{i-1} - x_i) + \\frac{f''(x_i)}{2}(x_{i-1} - x_i)^2 + \\frac{f'''(x_i)}{6}(x_{i-1} - x_i)^3 + \\cdots\n",
    "\\end{equation*}"
   ]
  },
  {
   "cell_type": "markdown",
   "id": "34c6a846",
   "metadata": {
    "slideshow": {
     "slide_type": "fragment"
    }
   },
   "source": [
    "y despejando $f'(x_i)$, obtenemos la **fórmula de derivada hacia atrás**:\n",
    "\n",
    "\\begin{equation}\n",
    "f'(x_i) = \\frac{f(x_{i}) - f(x_{i-1})}{x_{i} - x_{i-1}} + O(h)\n",
    "\\end{equation}\n"
   ]
  },
  {
   "cell_type": "markdown",
   "id": "d0e78ad3",
   "metadata": {
    "slideshow": {
     "slide_type": "slide"
    }
   },
   "source": [
    "Similarmente, si evaluamos la expansión en $x_{i+1}$, \n",
    "\n",
    "\\begin{equation*}\n",
    "f(x_{i+1})= f(x_i) + f^{\\prime}(x_i)(x_{i+1} - x_i) + \\frac{f''(x_i)}{2}(x_{i+1\n",
    "} - x_i)^2 + \\frac{f'''(x_i)}{6}(x_{i+1\n",
    "}- x_i)^3 + \\cdots\n",
    "\\end{equation*}"
   ]
  },
  {
   "cell_type": "markdown",
   "id": "1351b560",
   "metadata": {
    "slideshow": {
     "slide_type": "fragment"
    }
   },
   "source": [
    "y luego despejamos $f'(x_i)$, obtenemos la **fórmula de derivada hacia adeltante**:\n",
    "\n",
    "\\begin{equation}\n",
    "f'(x_i) = \\frac{f(x_{i+1}) - f(x_{i})}{x_{i+1} - x_{i}} + O(h)\n",
    "\\end{equation}"
   ]
  },
  {
   "cell_type": "markdown",
   "id": "1fc42b55",
   "metadata": {
    "slideshow": {
     "slide_type": "slide"
    }
   },
   "source": [
    "Finalmente, consideremos la diferencia $f(x_{i+1}) - f(x_{i-1})$, con $x_{i+1} - x_i = h$ y $x_{i-1} - x_i = -h$:\n",
    "\n",
    "\\begin{equation*}\n",
    "f(x_{i+1}) - f(x_{i-1}) = f'(x_i)2h + \\frac{f'''(x_i)}{3!}2h^3 + \\frac{f'''(x_i)}{5!}2h^5 + \\cdots\n",
    "\\end{equation*}"
   ]
  },
  {
   "cell_type": "markdown",
   "id": "3f589641",
   "metadata": {
    "slideshow": {
     "slide_type": "fragment"
    }
   },
   "source": [
    "Despejando para $f'(x_i)$, obtenemos la **fórmula para derivada central**:\n",
    "\n",
    "\\begin{equation}\n",
    "f'(x_i) = \\frac{f(x_{i+1}) - f(x_{i-1})}{x_{i+1} - x_{i-1}} + O(h^2)\n",
    "\\end{equation}"
   ]
  },
  {
   "cell_type": "markdown",
   "id": "8441996d",
   "metadata": {
    "slideshow": {
     "slide_type": "fragment"
    }
   },
   "source": [
    "A partir de este análisis podemos concluir que la derivada central tiene un mayor orden de presición."
   ]
  },
  {
   "cell_type": "markdown",
   "id": "bb52f886",
   "metadata": {
    "slideshow": {
     "slide_type": "slide"
    }
   },
   "source": [
    "Comprobemos esto con la derivada del polinomio:\n",
    "\n",
    "\\begin{equation*}\n",
    "f(x) = -0.1x^4 - 0.15x^3 - 0.5x^2 - 0.25x+1.2\n",
    "\\end{equation*}\n",
    "\n",
    "en $x = 0.5$, y considerando $h=0.10$. "
   ]
  },
  {
   "cell_type": "markdown",
   "id": "b9378437",
   "metadata": {
    "slideshow": {
     "slide_type": "fragment"
    }
   },
   "source": [
    "Para comprobar el error consideraremos el valor exácto $f'(5)=-0.9125$"
   ]
  },
  {
   "cell_type": "code",
   "execution_count": 1,
   "id": "52dcd9c8",
   "metadata": {
    "slideshow": {
     "slide_type": "slide"
    }
   },
   "outputs": [
    {
     "name": "stdout",
     "output_type": "stream",
     "text": [
      "f'(5) = -0.828400; Error = 0.08410 (Derivada hacia atrás)\n",
      "f'(5) = -1.003600; Error = 0.09110 (Derivada hacia adelante)\n",
      "f'(5) = -0.916000; Error = 0.00350 (Derivada central)\n"
     ]
    }
   ],
   "source": [
    "f = lambda x: -0.1*x**4 - 0.15*x**3 - 0.5*x**2 - 0.25*x + 1.2\n",
    "df_exact = -0.9125\n",
    "\n",
    "h = 0.1              # espaciamiento\n",
    "xi = 0.5             # valor central\n",
    "x = [xi-h, xi, xi+h] # puntos a evaluar\n",
    "\n",
    "df_bw = (f(x[1]) - f(x[0]))/(x[1] - x[0]) # derivada hacia atrás\n",
    "df_fw = (f(x[2]) - f(x[1]))/(x[2] - x[1]) # derivada hacia adelante\n",
    "df_ct = (f(x[2]) - f(x[0]))/(x[2] - x[0]) # derivada central\n",
    "\n",
    "print(\"f'(5) = %-5f; Error = %.5f (Derivada hacia atrás)\"    % (df_bw, abs(df_exact - df_bw)))\n",
    "print(\"f'(5) = %-5f; Error = %.5f (Derivada hacia adelante)\" % (df_fw, abs(df_exact - df_fw)))\n",
    "print(\"f'(5) = %-5f; Error = %.5f (Derivada central)\"        % (df_ct, abs(df_exact - df_ct)))"
   ]
  },
  {
   "cell_type": "markdown",
   "id": "89e3eabf",
   "metadata": {
    "slideshow": {
     "slide_type": "fragment"
    }
   },
   "source": [
    "A partir de este resultado, vemos como el error de diferencia hacia atrás y adelante es $O(h) \\sim 0.1$, mientras que para diferencia central el error es $O(h^2) \\sim 0.01$"
   ]
  },
  {
   "cell_type": "markdown",
   "id": "3b58be2c",
   "metadata": {
    "slideshow": {
     "slide_type": "slide"
    }
   },
   "source": [
    "Como segundo ejemplo, evaluemos el crecimiento del error en este problema a medida que aumentamos $h$"
   ]
  },
  {
   "cell_type": "code",
   "execution_count": 2,
   "id": "532736e1",
   "metadata": {
    "slideshow": {
     "slide_type": "skip"
    }
   },
   "outputs": [],
   "source": [
    "import numpy as np\n",
    "\n",
    "xi = 0.5                          # valor central\n",
    "h_array = np.logspace(-5,0,20)  # arreglo de h desde 10^-5 a 10^0\n",
    "#h_array = np.linspace(0.00001,0.1,20)\n",
    "\n",
    "# Creamos un arreglo de ceros para cada error. Este arreglo será \n",
    "# completado en un loop para cada valor de \"h\"\n",
    "error_bw = np.zeros(h_array.shape)      # Error por diferencia hacia atrás\n",
    "error_fw = np.zeros(h_array.shape)      # Error por diferencia hacia adelante\n",
    "error_ct = np.zeros(h_array.shape)      # Error por diferencia central\n",
    "\n",
    "# generamos un loop respecto a los índices de h_array\n",
    "for j in range(len(h_array)):\n",
    "    h = h_array[j]\n",
    "    x = [xi-h, xi, xi+h] # puntos a evaluar\n",
    "    df_bw = (f(x[1]) - f(x[0]))/(x[1] - x[0]) # derivada hacia atrás\n",
    "    df_fw = (f(x[2]) - f(x[1]))/(x[2] - x[1]) # derivada hacia adelante\n",
    "    df_ct = (f(x[2]) - f(x[0]))/(x[2] - x[0]) # derivada central\n",
    "    \n",
    "    # almacenamos el error de cada caso en un arreglo\n",
    "    error_bw[j] = abs(df_exact - df_bw)\n",
    "    error_fw[j] = abs(df_exact - df_fw)\n",
    "    error_ct[j] = abs(df_exact - df_ct)    "
   ]
  },
  {
   "cell_type": "code",
   "execution_count": 3,
   "id": "ec68682c",
   "metadata": {
    "cell_style": "center",
    "slideshow": {
     "slide_type": "skip"
    }
   },
   "outputs": [],
   "source": [
    "%%capture showplot1\n",
    "import matplotlib.pyplot as plt\n",
    "from numpy import log, polyfit\n",
    "\n",
    "plt.figure(figsize = (7, 5))           # Tamaño de figura\n",
    "plt.rcParams.update({'font.size': 12}) # Tamaño de fuente\n",
    "\n",
    "plt.plot(h_array,error_bw,'ob',label='backward',alpha=0.5)\n",
    "plt.plot(h_array,error_fw,'or',label='forward' ,alpha=0.5)\n",
    "plt.plot(h_array,error_ct,'ok',label='central' ,alpha=0.5)\n",
    "\n",
    "# analizamos la pendiente del logaritmo de cada aproxmación\n",
    "abw = polyfit(log(h_array), log(error_bw),1)\n",
    "afw = polyfit(log(h_array), log(error_fw),1)\n",
    "act = polyfit(log(h_array), log(error_ct),1)\n",
    "\n",
    "# imprimimos el valor de la pendiente en el gráfico\n",
    "plt.text(1E-4,1E-5,'$\\sim h^{%.3f}$' % abw[0], color='b')\n",
    "plt.text(1E-4,1E-3,'$\\sim h^{%.3f}$' % afw[0], color='r')\n",
    "plt.text(1E-4,1E-9,'$\\sim h^{%.3f}$' % act[0], color='k')\n",
    "\n",
    "# graficamos en escala logarítmica para visualizar la pendiente\n",
    "plt.xscale('log')\n",
    "plt.yscale('log')\n",
    "plt.xlabel('Espaciamiento, $h$')\n",
    "plt.ylabel(\"Error absoluto\")\n",
    "plt.title(\"Derivada de $f(x) = -0.1x^4 - 0.15x^3 - 0.5x^2 - 0.25x+1.$\")\n",
    "plt.legend(frameon=False, loc='lower right')\n",
    "plt.show()"
   ]
  },
  {
   "cell_type": "code",
   "execution_count": 4,
   "id": "0f0f56d5",
   "metadata": {
    "cell_style": "center",
    "slideshow": {
     "slide_type": "fragment"
    }
   },
   "outputs": [
    {
     "data": {
      "image/png": "[encoded data removed]",
      "text/plain": [
       "<Figure size 700x500 with 1 Axes>"
      ]
     },
     "metadata": {},
     "output_type": "display_data"
    }
   ],
   "source": [
    "showplot1()"
   ]
  },
  {
   "cell_type": "markdown",
   "id": "9b1b4ead",
   "metadata": {
    "cell_style": "center",
    "slideshow": {
     "slide_type": "slide"
    }
   },
   "source": [
    "### Derivadas de segundo o mayor orden"
   ]
  },
  {
   "cell_type": "markdown",
   "id": "8d65b3bf",
   "metadata": {
    "slideshow": {
     "slide_type": "fragment"
    }
   },
   "source": [
    "Mediante un procedimiento similar, podemos generar aproximaciónes de diferencias finitas para derivadas de mayor orden."
   ]
  },
  {
   "cell_type": "markdown",
   "id": "ef9562ac",
   "metadata": {
    "slideshow": {
     "slide_type": "fragment"
    }
   },
   "source": [
    "Por ejemplo, consideremos la suma de las expansiones $f(x_{i+1})$ y $f(x_{i-1})$ centradas en $x_i$,\n",
    "\n",
    "\\begin{equation*}\n",
    "f(x_{j-1}) + f(x_{j+1}) = 2f(x_j) + h^2f''(x_j) + \\frac{h^4f''''(x_j)}{24} + \\cdots\n",
    "\\end{equation*}"
   ]
  },
  {
   "cell_type": "markdown",
   "id": "75fc5c5f",
   "metadata": {
    "slideshow": {
     "slide_type": "fragment"
    }
   },
   "source": [
    "Despejando para $f''(x_i)$, obtenemos la fórmula para la segunda derivada por diferencia central:\n",
    "\n",
    "\\begin{equation*}\n",
    "f''(x_j) = \\frac{f(x_{j+1}) - 2f(x_j) + f(x_{j-1})}{h^2} + O(h^2)\n",
    "\\end{equation*}"
   ]
  },
  {
   "cell_type": "markdown",
   "id": "d28c39f6",
   "metadata": {
    "slideshow": {
     "slide_type": "slide"
    }
   },
   "source": [
    "Podemos extender nuestro resultado para determinar fórmulas de diferencas finitas para derivadas de mayor orden. A continuación mostramos un resumen con algunas de estas fórmulas:"
   ]
  },
  {
   "cell_type": "markdown",
   "id": "143bcdae",
   "metadata": {
    "slideshow": {
     "slide_type": "slide"
    }
   },
   "source": [
    "**Diferencia hacia adelante**\n",
    "\n",
    "<img src=\"./images/forward_difference.png\" width=\"800px\" align= center>"
   ]
  },
  {
   "cell_type": "markdown",
   "id": "cdfdeead",
   "metadata": {
    "slideshow": {
     "slide_type": "slide"
    }
   },
   "source": [
    "**Diferencia hacia atrás**\n",
    "\n",
    "<img src=\"./images/backward_difference.png\" width=\"800px\" align= center>"
   ]
  },
  {
   "cell_type": "markdown",
   "id": "9a329ffc",
   "metadata": {
    "slideshow": {
     "slide_type": "slide"
    }
   },
   "source": [
    "**Diferencia central**\n",
    "\n",
    "<img src=\"./images/central_difference.png\" width=\"800px\" align= center>"
   ]
  },
  {
   "cell_type": "markdown",
   "id": "2f869ecf",
   "metadata": {
    "slideshow": {
     "slide_type": "slide"
    }
   },
   "source": [
    "### Derivadas parciales\n",
    "Podemos extender las fórmulas de diferencias finitas anteriores para derivadas parciales."
   ]
  },
  {
   "cell_type": "markdown",
   "id": "1d983296",
   "metadata": {
    "slideshow": {
     "slide_type": "fragment"
    }
   },
   "source": [
    "Por ejemplo, utilizando diferencia central:\n",
    "\n",
    "\\begin{align*}\n",
    "\\frac{\\partial f_{ij}}{\\partial x} &= \\frac{f(x_{i+1},y_i) - f(x_{i-1},y_i)}{2\\Delta x}+O(\\Delta x^2)\\\\[10pt]\n",
    "\\frac{\\partial f_{ij}}{\\partial y} &= \\frac{f(x_i,y_{i+1}) - f(x_i,y_{i-1})}{2\\Delta y}+O(\\Delta y^2)\\\\[10pt]\n",
    "\\frac{\\partial^2 f_{ij}}{\\partial x^2} &= \\frac{f(x_{i+1},y_i) - 2f(x_i\n",
    ",y_i) + f(x_{i-1},y_i)}{\\Delta x^2}+O(\\Delta x^2)\n",
    "\\end{align*}"
   ]
  },
  {
   "cell_type": "markdown",
   "id": "dc23b022",
   "metadata": {
    "slideshow": {
     "slide_type": "slide"
    }
   },
   "source": [
    "## Diferencias Finitas en Python\n",
    "\n",
    "Podemos clasificar las funciones de derivadas de python, en dos tipos:\n",
    "- Derivación mediate datos tabulados: ```numpy.diff```, ```numpy.gradient```, ```scipy.interpolate.CubicSpline```.\n",
    "- Derivación mediante función conocida: ```scipy.misc.derivative```"
   ]
  },
  {
   "cell_type": "markdown",
   "id": "347ff09e",
   "metadata": {
    "slideshow": {
     "slide_type": "slide"
    }
   },
   "source": [
    "### Diferencias finitas con datos tabulados"
   ]
  },
  {
   "cell_type": "markdown",
   "id": "a774d992",
   "metadata": {
    "slideshow": {
     "slide_type": "fragment"
    }
   },
   "source": [
    "Consideremos el siguiente set de datos tabulados $x_i$ y $f(x_i)$ correspondientes a la función $f(x) = \\sin(x)$."
   ]
  },
  {
   "cell_type": "code",
   "execution_count": 5,
   "id": "c6eb5db0",
   "metadata": {
    "slideshow": {
     "slide_type": "fragment"
    }
   },
   "outputs": [],
   "source": [
    "# Valores xi tabulados (no igualmente espaciados)\n",
    "xi = np.array([ 0,  0.72878679,  1.23516778,  2.00081088,  2.77801068, 3.10970675,  3.93589864,  4.14861853,  5.18938779,  5.39179938, 2*np.pi])\n",
    "# Valores yi = sin(xi) tabulados\n",
    "yi = np.array([ 0,  0.66596509,  0.94420348,  0.90895968,  0.35562432, 0.0318805 , -0.71337743, -0.84524628, -0.88837681, -0.77794332, 0])"
   ]
  },
  {
   "cell_type": "code",
   "execution_count": 6,
   "id": "c4e1ec11",
   "metadata": {
    "cell_style": "split",
    "slideshow": {
     "slide_type": "fragment"
    }
   },
   "outputs": [],
   "source": [
    "%%capture showplot2\n",
    "import matplotlib.pyplot as plt\n",
    "\n",
    "plt.figure(figsize = (7, 5))           # Tamaño de figura\n",
    "plt.rcParams.update({'font.size': 18}) # Tamaño de fuente\n",
    "\n",
    "# Graficamos sin(x) y junto con (xi,yi)\n",
    "f = lambda x: np.sin(x)\n",
    "x = np.linspace(0,2*np.pi,100)\n",
    "\n",
    "plt.plot(xi,yi,'or')  # datos tabulados\n",
    "plt.plot(x,f(x),':b') # función sin(x)\n",
    "plt.xlabel('x')\n",
    "plt.ylabel('sin(x)')\n",
    "plt.grid()\n",
    "plt.show()"
   ]
  },
  {
   "cell_type": "code",
   "execution_count": 7,
   "id": "ba20f5bd",
   "metadata": {
    "cell_style": "split",
    "slideshow": {
     "slide_type": "fragment"
    }
   },
   "outputs": [
    {
     "data": {
      "image/png": "[encoded data removed]",
      "text/plain": [
       "<Figure size 700x500 with 1 Axes>"
      ]
     },
     "metadata": {},
     "output_type": "display_data"
    }
   ],
   "source": [
    "showplot2()"
   ]
  },
  {
   "cell_type": "markdown",
   "id": "b65060ca",
   "metadata": {
    "slideshow": {
     "slide_type": "slide"
    }
   },
   "source": [
    "#### ```numpy.diff```\n",
    "Esta función determina la diferencia entre \n",
    "los dos valores más cercanos en un arreglo.\n",
    "\n",
    "En otras palabras, para un arreglo `x[0],x[1], ... x[n]`, \n",
    "\n",
    "`numpy.diff =  x[1] - x[0], x[2] - x[1], ... , x[n]- x[n-1]`. \n",
    "\n",
    "Así, para un arreglo de tamaño $N$, `numpy.diff` entrega un arreglo de tamaño $N-1$."
   ]
  },
  {
   "cell_type": "markdown",
   "id": "fbd6997e",
   "metadata": {
    "slideshow": {
     "slide_type": "fragment"
    }
   },
   "source": [
    "Si bien la función no entrega la derivada directamente, se puede usar para determinar $f'(x)$ de forma sencilla. Así, para un arreglo de valores `xi`, `yi`, $f'(x)$ se puede determinar por:\n",
    "```python\n",
    "dfdx = np.diff(yi)/np.diff(xi) # f'(x)\n",
    "```"
   ]
  },
  {
   "cell_type": "markdown",
   "id": "3b177874",
   "metadata": {
    "slideshow": {
     "slide_type": "fragment"
    }
   },
   "source": [
    "Debido a la forma en la que opera `numpy.diff`, **el resultado corresponde a diferencia hacia adeltante o hacia atrás**. Esto dependiendo de como asignemos `dfdx[i]`."
   ]
  },
  {
   "cell_type": "markdown",
   "id": "d28fe1c8",
   "metadata": {
    "slideshow": {
     "slide_type": "slide"
    }
   },
   "source": [
    "Evaluemos la función `numpy.diff` en nuestro ejemplo con datos tabulados. Comparamos el resultado con el valor exácto $f'(x) = \\cos(x)$."
   ]
  },
  {
   "cell_type": "code",
   "execution_count": 8,
   "id": "2eba57b4",
   "metadata": {
    "cell_style": "split",
    "slideshow": {
     "slide_type": "fragment"
    }
   },
   "outputs": [],
   "source": [
    "%%capture showplot3\n",
    "# Evaluamos numpy.diff\n",
    "dfdx = np.diff(yi)/np.diff(xi)\n",
    "\n",
    "plt.figure(figsize = (7, 5))           # Tamaño de figura\n",
    "plt.rcParams.update({'font.size': 16}) # Tamaño de fuente\n",
    "\n",
    "plt.plot(xi[1:],dfdx,'ob',label='backward')\n",
    "plt.plot(xi[:-1] ,dfdx,'or',label='forward')\n",
    "plt.plot(x,np.cos(x),':k',label='$\\cos (x)$')\n",
    "\n",
    "plt.legend()\n",
    "plt.xlabel('x')\n",
    "plt.ylabel(\"$f'(x) = \\cos(x)$\")\n",
    "plt.show()"
   ]
  },
  {
   "cell_type": "code",
   "execution_count": 9,
   "id": "623adfb6",
   "metadata": {
    "cell_style": "split",
    "slideshow": {
     "slide_type": "fragment"
    }
   },
   "outputs": [
    {
     "data": {
      "image/png": "[encoded data removed]",
      "text/plain": [
       "<Figure size 700x500 with 1 Axes>"
      ]
     },
     "metadata": {},
     "output_type": "display_data"
    }
   ],
   "source": [
    "showplot3()"
   ]
  },
  {
   "cell_type": "markdown",
   "id": "32d9bdd7",
   "metadata": {
    "slideshow": {
     "slide_type": "slide"
    }
   },
   "source": [
    "####  ```numpy.gradient```\n",
    "Esta es una función más optimizada y específica para calcular derivadas. La función `gradient` calcula *directamente* la derivada de una función\n",
    " ```python\n",
    " dfdx = np.gradient(yi,xi) # f'(x)\n",
    " ```"
   ]
  },
  {
   "cell_type": "markdown",
   "id": "fe267e1a",
   "metadata": {
    "slideshow": {
     "slide_type": "fragment"
    }
   },
   "source": [
    "Para los valores centrales  `gradient` **utiliza diferencia central**, y para los valores extremos diferencia hacia atrás o hacia adelante, es decir:\n",
    "```python\n",
    "dfdx[0] = (y[1] - y[0]  )/(x[1] - x[0])    # diferencia hacia adelate\n",
    "dfdx[n] = (y[n] - y[n-1])/(x[n] - x[n-1])  # diferencia hacia atrás\n",
    "```"
   ]
  },
  {
   "cell_type": "markdown",
   "id": "4e90aef1",
   "metadata": {
    "slideshow": {
     "slide_type": "fragment"
    }
   },
   "source": [
    "Así, para un arreglo de tamaño $N$, `numpy.gradient` entrega un arreglo de tamaño $N$."
   ]
  },
  {
   "cell_type": "markdown",
   "id": "0da93c35",
   "metadata": {
    "slideshow": {
     "slide_type": "slide"
    }
   },
   "source": [
    "Evaluemos la función `numpy.gradient` en nuestro ejemplo con datos tabulados. Comparamos el resultado con el valor exácto $f'(x) = \\cos(x)$."
   ]
  },
  {
   "cell_type": "code",
   "execution_count": 10,
   "id": "ff86a889",
   "metadata": {
    "cell_style": "split",
    "slideshow": {
     "slide_type": "fragment"
    }
   },
   "outputs": [],
   "source": [
    "%%capture showplot4\n",
    "# Evaluamos numpy.diff\n",
    "dfdx = np.gradient(yi,xi)\n",
    "\n",
    "plt.figure(figsize = (7, 5))           # Tamaño de figura\n",
    "plt.rcParams.update({'font.size': 16}) # Tamaño de fuente\n",
    "\n",
    "plt.plot(xi,dfdx,'or',label='gradient')\n",
    "plt.plot(x,np.cos(x),':k',label='$\\cos (x)$')\n",
    "\n",
    "plt.legend()\n",
    "plt.xlabel('x')\n",
    "plt.ylabel(\"$f'(x) = \\cos(x)$\")\n",
    "plt.show()"
   ]
  },
  {
   "cell_type": "code",
   "execution_count": 11,
   "id": "ff47f9b8",
   "metadata": {
    "cell_style": "split",
    "scrolled": true,
    "slideshow": {
     "slide_type": "fragment"
    }
   },
   "outputs": [
    {
     "data": {
      "image/png": "[encoded data removed]",
      "text/plain": [
       "<Figure size 700x500 with 1 Axes>"
      ]
     },
     "metadata": {},
     "output_type": "display_data"
    }
   ],
   "source": [
    "showplot4()"
   ]
  },
  {
   "cell_type": "markdown",
   "id": "86cd6f7e",
   "metadata": {
    "slideshow": {
     "slide_type": "slide"
    }
   },
   "source": [
    "#### `CubicSpline.derivative`\n",
    "Una tercera alternativa para determinar la derivada es mediante la función ```CubicSpline``` de ```scipy.interpolate```. A diferencia de ```diff``` y ```gradient```, ```CubicSpline``` permite determinar derivadas de segundo y tercer orden directamente.\n",
    "```python\n",
    "from scipy.interpolate import CubicSline\n",
    "dfdx  = CubicSpline(xi,yi).derivative(1) # función f'(x)   a partir de spline cúbico\n",
    "dfdx2 = CubicSpline(xi,yi).derivative(2) # función f''(x)  a partir de spline cúbico\n",
    "dfdx3 = CubicSpline(xi,yi).derivative(3) # función f'''(x) a partir de spline cúbico\n",
    "```\n",
    "> **NOTA** En el ejemplo estamos generando una variable de tipo **callable**. Es decir, si queremos saber $f'(x_i)$ debemos ejecutar ```dfdx(xi)```"
   ]
  },
  {
   "cell_type": "markdown",
   "id": "939db5b6",
   "metadata": {
    "slideshow": {
     "slide_type": "fragment"
    }
   },
   "source": [
    "Debido a que `CubicSpline` está basada en un polinomio de orden 3, la función aproximada tiene un error del orden $O(h^4)$. Así, la primera derivada de `CubicSpline` tiene un error del orden $O(h^3)$, la segunda $O(h^2)$, y la tercera $O(h)$."
   ]
  },
  {
   "cell_type": "markdown",
   "id": "f4f30ba9",
   "metadata": {
    "slideshow": {
     "slide_type": "slide"
    }
   },
   "source": [
    "Alternativamente, según lo revisado en la unidad de [interpolación](https://panxopanza.github.io/metodos_numericos_mec301/4-Interpolacion/4-Interpolacion.html#interpolacion-spline-cubico), podemos usar ```CubicSpline``` para determinar la derivada mediante:\n",
    "```python\n",
    "from scipy.interpolate import CubicSline\n",
    "y  = CubicSpline(xi,yi) # función f(x) a partir de spline cúbico\n",
    "dfdx = y(xi,1) # f'(xi) \n",
    "```"
   ]
  },
  {
   "cell_type": "markdown",
   "id": "128efa03",
   "metadata": {
    "slideshow": {
     "slide_type": "slide"
    }
   },
   "source": [
    "Analicemos el ejemplo con datos tabulados usando CubicSpline"
   ]
  },
  {
   "cell_type": "code",
   "execution_count": 12,
   "id": "547291ef",
   "metadata": {
    "cell_style": "split",
    "slideshow": {
     "slide_type": "fragment"
    }
   },
   "outputs": [],
   "source": [
    "%%capture showplot5\n",
    "from scipy.interpolate import CubicSpline\n",
    "# generamos una función de interpolación\n",
    "dfdx = CubicSpline(xi,yi).derivative(1)\n",
    "\n",
    "plt.figure(figsize = (7, 5))           # Tamaño de figura\n",
    "plt.rcParams.update({'font.size': 16}) # Tamaño de fuente\n",
    "\n",
    "plt.plot(xi,dfdx(xi),'or',label='CubicSpline')\n",
    "plt.plot(x,np.cos(x),':k',label='$\\cos (x)$')\n",
    "\n",
    "plt.legend()\n",
    "plt.xlabel('x')\n",
    "plt.ylabel(\"$f'(x) = \\cos(x)$\")\n",
    "plt.show()"
   ]
  },
  {
   "cell_type": "code",
   "execution_count": 13,
   "id": "e8a636e1",
   "metadata": {
    "cell_style": "split",
    "slideshow": {
     "slide_type": "fragment"
    }
   },
   "outputs": [
    {
     "data": {
      "image/png": "[encoded data removed]",
      "text/plain": [
       "<Figure size 700x500 with 1 Axes>"
      ]
     },
     "metadata": {},
     "output_type": "display_data"
    }
   ],
   "source": [
    "showplot5()"
   ]
  },
  {
   "cell_type": "markdown",
   "id": "5ea03945",
   "metadata": {
    "slideshow": {
     "slide_type": "slide"
    }
   },
   "source": [
    "### Derivada de una función conocida\n",
    "\n",
    "Si la función a derivar es conocida, podemos usar ```scipy.misc.derivative``` para determinar la derivada. \n",
    "La derivada es aproximada mediante diferencia central.\n",
    "```python\n",
    "from scipy.misc import derivative\n",
    "dfdx = derivative(fun,x0,dx=h)\n",
    "```\n",
    "donde:\n",
    "- `fun`: función a derivar en formato *callable*\n",
    "- `x0`: valor donde se evalúa la derivada, formato *float*\n",
    "- `dx`: espaciamiento $h$. Por defecto `dx=1`"
   ]
  },
  {
   "cell_type": "markdown",
   "id": "a06b357a",
   "metadata": {
    "slideshow": {
     "slide_type": "fragment"
    }
   },
   "source": [
    "La función solo admite un valor tipo *float* para evaluar la derivada. Sin embargo, es una buena alternativa para determinar la derivada en un punto $x_0$, sin la necesidad de generar un arreglo."
   ]
  },
  {
   "cell_type": "markdown",
   "id": "306b8c1e",
   "metadata": {
    "slideshow": {
     "slide_type": "slide"
    }
   },
   "source": [
    "Por ejemplo, analicemos la derivada de $f(x)=\\sin(x)$ en $x_0 = \\pi/3$, a medida que reducimos el espaciameniento $h$. Como valor exacto tenenmos $f'(\\pi/3)=\\cos(\\pi/3) = 1/2$"
   ]
  },
  {
   "cell_type": "code",
   "execution_count": 14,
   "id": "71fccad5",
   "metadata": {
    "slideshow": {
     "slide_type": "fragment"
    }
   },
   "outputs": [
    {
     "name": "stdout",
     "output_type": "stream",
     "text": [
      "h = 0.500, dfdx = 0.479, error = 2.057e-02\n",
      "h = 0.400, dfdx = 0.487, error = 1.323e-02\n",
      "h = 0.300, dfdx = 0.493, error = 7.466e-03\n",
      "h = 0.200, dfdx = 0.497, error = 3.327e-03\n",
      "h = 0.100, dfdx = 0.499, error = 8.329e-04\n"
     ]
    },
    {
     "name": "stderr",
     "output_type": "stream",
     "text": [
      "/tmp/ipykernel_119462/2525851843.py:9: DeprecationWarning: scipy.misc.derivative is deprecated in SciPy v1.10.0; and will be completely removed in SciPy v1.12.0. You may consider using findiff: https://github.com/maroba/findiff or numdifftools: https://github.com/pbrod/numdifftools\n",
      "  dfdx = derivative(f,x0,dx=h)\n"
     ]
    }
   ],
   "source": [
    "from scipy.misc import derivative\n",
    "\n",
    "f = lambda x: np.sin(x)                   # función en formato callable\n",
    "h_array = np.array([0.5,0.4,0.3,0.2,0.1]) # arreglo de espaciamiento h \n",
    "x0 = np.pi/3                              # punto de evaluación de la derivada\n",
    "dfdx_exact = 0.5                          # valor exacto de la derivada\n",
    "\n",
    "for h in h_array:\n",
    "    dfdx = derivative(f,x0,dx=h)\n",
    "    print('h = %.3f, dfdx = %.3f, error = %.3e' % (h, dfdx,abs(dfdx - dfdx_exact)))"
   ]
  },
  {
   "cell_type": "markdown",
   "id": "33d3b1b6",
   "metadata": {
    "cell_style": "center",
    "slideshow": {
     "slide_type": "slide"
    }
   },
   "source": [
    "## Referencias\n",
    "- Kong Q., Siauw T., Bayen A. M. **Chapter 2: Numerical Diferenciation** in *[Python Programming and Numerical Methods – A Guide for Engineers and Scientists](https://pythonnumericalmethods.berkeley.edu/notebooks/chapter17.00-Interpolation.html)*, 1st Ed., Academic Press, 2021\n",
    "\n",
    "- Chapra S., Canale R. **Capítulo 23: Diferenciación numérica** en *Métodos Numéricos para Ingenieros*, 6ta Ed., McGraw Hill, 2011\n"
   ]
  }
 ],
 "metadata": {
  "celltoolbar": "Slideshow",
  "kernelspec": {
   "display_name": "Python 3 (ipykernel)",
   "language": "python",
   "name": "python3"
  },
  "language_info": {
   "codemirror_mode": {
    "name": "ipython",
    "version": 3
   },
   "file_extension": ".py",
   "mimetype": "text/x-python",
   "name": "python",
   "nbconvert_exporter": "python",
   "pygments_lexer": "ipython3",
   "version": "3.11.6"
  },
  "latex_envs": {
   "LaTeX_envs_menu_present": false,
   "autoclose": false,
   "autocomplete": false,
   "bibliofile": "biblio.bib",
   "cite_by": "apalike",
   "current_citInitial": 1,
   "eqLabelWithNumbers": true,
   "eqNumInitial": 1,
   "hotkeys": {
    "equation": "Ctrl-E",
    "itemize": "Ctrl-I"
   },
   "labels_anchors": false,
   "latex_user_defs": false,
   "report_style_numbering": false,
   "user_envs_cfg": true
  },
  "rise": {
   "height": "100%",
   "theme": "simple",
   "width": "100%"
  },
  "toc": {
   "base_numbering": "1",
   "nav_menu": {},
   "number_sections": true,
   "sideBar": true,
   "skip_h1_title": true,
   "title_cell": "Contenidos",
   "title_sidebar": "Contenidos",
   "toc_cell": false,
   "toc_position": {
    "height": "calc(100% - 180px)",
    "left": "10px",
    "top": "150px",
    "width": "303.828px"
   },
   "toc_section_display": true,
   "toc_window_display": false
  },
  "varInspector": {
   "cols": {
    "lenName": 16,
    "lenType": 16,
    "lenVar": 40
   },
   "kernels_config": {
    "python": {
     "delete_cmd_postfix": "",
     "delete_cmd_prefix": "del ",
     "library": "var_list.py",
     "varRefreshCmd": "print(var_dic_list())"
    },
    "r": {
     "delete_cmd_postfix": ") ",
     "delete_cmd_prefix": "rm(",
     "library": "var_list.r",
     "varRefreshCmd": "cat(var_dic_list()) "
    }
   },
   "types_to_exclude": [
    "module",
    "function",
    "builtin_function_or_method",
    "instance",
    "_Feature"
   ],
   "window_display": false
  }
 },
 "nbformat": 4,
 "nbformat_minor": 5
}
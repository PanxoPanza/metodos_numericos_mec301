{
 "cells": [
  {
   "cell_type": "markdown",
   "id": "6d47d103",
   "metadata": {
    "slideshow": {
     "slide_type": "slide"
    }
   },
   "source": [
    "<font size=\"6\">MEC301 - Métodos Numéricos</font>\n",
    "# Repaso Parte 1 -  Introducción a los métodos numéricos\n",
    "Profesor: Francisco Ramírez Cuevas<br>"
   ]
  },
  {
   "cell_type": "markdown",
   "id": "fed7c571",
   "metadata": {
    "cell_style": "center",
    "slideshow": {
     "slide_type": "slide"
    }
   },
   "source": [
    "## Sistemas de ecuaciones lineales\n",
    "La librería ```numpy.linalg``` tiene diversas herramientas para resolver y caracterizar sistemas de ecuaciones en python."
   ]
  },
  {
   "cell_type": "markdown",
   "id": "abe5fa7a",
   "metadata": {
    "slideshow": {
     "slide_type": "fragment"
    }
   },
   "source": [
    "Consideremos un sistema de ecuaciones de la forma\n",
    "\n",
    "\\begin{eqnarray*}\n",
    "3x_1 + 1x_2 - 5x_3 &=& 2 \\\\\n",
    "-2x_1 - 2x_2 + 5x_3 &=& 5 \\\\\n",
    "8x_1 + 1\\times10^{10}x_2 + 2x_3 &=& -3 \\\\\n",
    "\\end{eqnarray*}"
   ]
  },
  {
   "cell_type": "markdown",
   "id": "a6274154",
   "metadata": {
    "slideshow": {
     "slide_type": "slide"
    }
   },
   "source": [
    "### Solución del sistema (```numpy.linalg.solve```)\n",
    "Para resolver esto en python, primero debemos escribir el sistema en forma matricial:"
   ]
  },
  {
   "cell_type": "code",
   "execution_count": 1,
   "id": "d934e919",
   "metadata": {
    "slideshow": {
     "slide_type": "fragment"
    }
   },
   "outputs": [],
   "source": [
    "import numpy as np\n",
    "A = np.array([[ 3,  1, -5],\n",
    "              [-2, -2,  5],\n",
    "              [ 8,  1E10,  2]])\n",
    "\n",
    "y = np.array([[2], \n",
    "              [5], \n",
    "              [-3]])"
   ]
  },
  {
   "cell_type": "markdown",
   "id": "4b6ea387",
   "metadata": {
    "slideshow": {
     "slide_type": "fragment"
    }
   },
   "source": [
    "La solución a este sistema se obtiene mediante ```numpy.linalg.solve```"
   ]
  },
  {
   "cell_type": "code",
   "execution_count": 2,
   "id": "53201e51",
   "metadata": {
    "slideshow": {
     "slide_type": "fragment"
    }
   },
   "outputs": [
    {
     "name": "stdout",
     "output_type": "stream",
     "text": [
      "La solución es x =\n",
      " [[ 6.99999999e+00]\n",
      " [-6.65999999e-09]\n",
      " [ 3.79999999e+00]]\n"
     ]
    }
   ],
   "source": [
    "import numpy as np\n",
    "xsol = np.linalg.solve(A,y)\n",
    "print('La solución es x =\\n',xsol)"
   ]
  },
  {
   "cell_type": "markdown",
   "id": "0188a303",
   "metadata": {
    "slideshow": {
     "slide_type": "slide"
    }
   },
   "source": [
    "### Condicionamiento de la matriz (```numpy.linalg.cond```)"
   ]
  },
  {
   "cell_type": "markdown",
   "id": "ef9d0d3c",
   "metadata": {
    "slideshow": {
     "slide_type": "fragment"
    }
   },
   "source": [
    "Una forma de caracterizar el sistema es mediante el **número de condición**. En python ```numpy.linalg.cond```"
   ]
  },
  {
   "cell_type": "code",
   "execution_count": 3,
   "id": "4bd613f0",
   "metadata": {
    "slideshow": {
     "slide_type": "fragment"
    }
   },
   "outputs": [
    {
     "name": "stdout",
     "output_type": "stream",
     "text": [
      "Número de condicionamiento, cond(A) = 15824113618.647936\n"
     ]
    }
   ],
   "source": [
    "print('Número de condicionamiento, cond(A) =', np.linalg.cond(A))"
   ]
  },
  {
   "cell_type": "markdown",
   "id": "924fa627",
   "metadata": {
    "slideshow": {
     "slide_type": "fragment"
    }
   },
   "source": [
    "El número de condición está directamente relacionado con el determinante de la matriz. Si $\\mathrm{cond}(A)$ es muy grande, entonces $\\mathrm{det}(A)\\approx 0$. Así:\n",
    "\n",
    "**A mayor número de condicionamiento, mayor es la probabilidad de inducir errores de redondeo, overflow o underflow en la solución.**"
   ]
  },
  {
   "cell_type": "markdown",
   "id": "c05a4f03",
   "metadata": {
    "slideshow": {
     "slide_type": "slide"
    }
   },
   "source": [
    "### Cuantificación del error (```numpy.linalg.norm```)\n",
    "Podemos revisar el error mediante la norma Frobenius. En python, usamos ```numpy.linalg.norm```\n",
    "\n",
    "En este ejemplo, comprobamos el error de la solción con $\\|Ax - y\\|$"
   ]
  },
  {
   "cell_type": "code",
   "execution_count": 4,
   "id": "f8cda10d",
   "metadata": {
    "slideshow": {
     "slide_type": "fragment"
    }
   },
   "outputs": [
    {
     "name": "stdout",
     "output_type": "stream",
     "text": [
      "Error |A*xsol - y| 5.329070518200751e-15\n"
     ]
    }
   ],
   "source": [
    "print('Error |A*xsol - y|', np.linalg.norm(np.dot(A,xsol) - y))"
   ]
  },
  {
   "cell_type": "markdown",
   "id": "1626a5c0",
   "metadata": {
    "slideshow": {
     "slide_type": "slide"
    }
   },
   "source": [
    "### Número de soluciones posibles (```numpy.linalg.matrix_rank```)"
   ]
  },
  {
   "cell_type": "markdown",
   "id": "b0cb5aed",
   "metadata": {
    "slideshow": {
     "slide_type": "fragment"
    }
   },
   "source": [
    "Para analizar si el sistema tiene solución única, infintas soluciones o no tiene solución, evaluamos los $\\mathrm{rank}(A)$ y $\\mathrm{rank}([A|y])$, y el número de incognitas $n$. \n",
    "\n",
    "En python usamos ```numpy.linalg.matrix_rank``` para determinar el rango, y ```len(y)``` para determinar $n$."
   ]
  },
  {
   "cell_type": "code",
   "execution_count": 5,
   "id": "52a87a3c",
   "metadata": {
    "slideshow": {
     "slide_type": "fragment"
    }
   },
   "outputs": [
    {
     "name": "stdout",
     "output_type": "stream",
     "text": [
      "El sistema tiene solución única\n"
     ]
    }
   ],
   "source": [
    "from numpy.linalg import matrix_rank\n",
    "Ay = np.concatenate((A,y),axis=1) # generamos matrix aumentada\n",
    "rankA  = matrix_rank(A)           # rango de A\n",
    "rankAy = matrix_rank(Ay)          # rago de A|y\n",
    "n = len(y)                        # número de incognitas\n",
    "\n",
    "if rankAy == rankA:\n",
    "    if rankA == n: print('El sistema tiene solución única')\n",
    "    if rankA < n: print('El sistema tiene infinitas soluciones')\n",
    "elif rankAy == rankA + 1: print('El sistema no tiene soluciones')"
   ]
  },
  {
   "cell_type": "markdown",
   "id": "c3128b31",
   "metadata": {
    "slideshow": {
     "slide_type": "slide"
    }
   },
   "source": [
    "## Ajuste por mínimos cuadrados"
   ]
  },
  {
   "cell_type": "markdown",
   "id": "6e4814e2",
   "metadata": {
    "slideshow": {
     "slide_type": "fragment"
    }
   },
   "source": [
    "Queremos encontrar los parámetros $\\alpha$, $\\beta$ y $\\rho$ del siguiente modelo:\n",
    "\n",
    "\\begin{equation*}\n",
    "U(v,t) = \\alpha \\frac{(v + 2)^{\\beta}}{(t + 3)^{3\\rho}}\n",
    "\\end{equation*}\n",
    "\n",
    "que se ajustan mejor a los datos $v_i$, $t_i$ y $U_i$, dados por:"
   ]
  },
  {
   "cell_type": "code",
   "execution_count": 6,
   "id": "07b953c8",
   "metadata": {
    "slideshow": {
     "slide_type": "fragment"
    }
   },
   "outputs": [],
   "source": [
    "import numpy as np\n",
    "vi = np.array([ 0.2363,  0.7447,  0.0632, -0.7255,  0.1367, -0.2126, -0.9105,  0.8601,\n",
    "                0.7831, -0.1936, -0.085 , -0.6484, -0.6699,  0.0654, -0.4349])\n",
    "\n",
    "ti = np.array([ 0.7537, -0.7364, -0.9443, -0.6301,  0.1792, -0.6012,  0.3107,  0.1379,\n",
    "               -0.1263, -0.2106,  0.552 ,  0.019 ,  0.8273, -0.0741, -0.0453])\n",
    "\n",
    "Ui = np.array([ 0.0170,  0.1483,  0.1179,  0.0272,  0.0268,  0.056 ,  0.0066,  0.0529, \n",
    "                0.0689,  0.0344,  0.0151,  0.0142,  0.0052,  0.0371,  0.0214])"
   ]
  },
  {
   "cell_type": "markdown",
   "id": "9e8406b5",
   "metadata": {
    "slideshow": {
     "slide_type": "slide"
    }
   },
   "source": [
    "### Regresión lineal (```numpy.linalg.pinv``` o ```.lstsq```)"
   ]
  },
  {
   "cell_type": "markdown",
   "id": "421d32a0",
   "metadata": {
    "slideshow": {
     "slide_type": "fragment"
    }
   },
   "source": [
    "Una manera de obtener $\\alpha$, $\\beta$ y $\\rho$ es medinte regresión lineal a partir de un modelo linealizado."
   ]
  },
  {
   "cell_type": "markdown",
   "id": "1be69321",
   "metadata": {
    "slideshow": {
     "slide_type": "slide"
    }
   },
   "source": [
    "**paso 1.** Linealizamos el modelo:\n",
    "\\begin{equation*}\n",
    "U(v,t) = \\alpha \\frac{(v + 2)^{\\beta}}{(t + 3)^{3\\rho}} \\Rightarrow  \\ln(U) = \\ln(\\alpha) + \\beta\\ln(v + 2) - \\rho~ \\ln(t+3)^3\n",
    "\\end{equation*}"
   ]
  },
  {
   "cell_type": "markdown",
   "id": "1594fc97",
   "metadata": {
    "slideshow": {
     "slide_type": "fragment"
    }
   },
   "source": [
    "Obtenemos un modelo lineal 2D de la forma $y = a_0 + a_1x_1 + a_2x_2$, con:\n",
    "- $y = \\ln(U)$\n",
    "- $a_0 = \\ln(\\alpha)$\n",
    "- $a_1 = \\beta$\n",
    "- $x_1 = \\ln(v + 2)$\n",
    "- $a_2 = -\\rho$\n",
    "- $x_2 = \\ln(t+3)^3$"
   ]
  },
  {
   "cell_type": "markdown",
   "id": "3645dcd9",
   "metadata": {
    "slideshow": {
     "slide_type": "slide"
    }
   },
   "source": [
    "**paso 2.** Transformamos los datos $v_i$, $t_i$ y $U_i$ al modelo linealizado"
   ]
  },
  {
   "cell_type": "code",
   "execution_count": 7,
   "id": "f7e75617",
   "metadata": {
    "slideshow": {
     "slide_type": "fragment"
    }
   },
   "outputs": [],
   "source": [
    "x1i = np.log(vi + 2)\n",
    "x2i = np.log((ti+3)**3)\n",
    "yi  = np.log(Ui)"
   ]
  },
  {
   "cell_type": "markdown",
   "id": "15b2f95e",
   "metadata": {
    "slideshow": {
     "slide_type": "slide"
    }
   },
   "source": [
    "**paso 3.** A partir del modelo general $y = a_0z_0+a_1z_1+a_2z_2+...a_nz_n$, creamos la matriz:\n",
    "\n",
    "\\begin{equation*}\n",
    "Z =\\begin{bmatrix}\n",
    "1 & x_{1,1} & x_{2,1}\\\\\n",
    "1 & x_{1,2} & x_{2,2}\\\\\n",
    "\\vdots & \\vdots & \\vdots \\\\\n",
    "1 & x_{1,m} & x_{2,m}\n",
    "\\end{bmatrix}\n",
    "\\end{equation*}\n"
   ]
  },
  {
   "cell_type": "code",
   "execution_count": 8,
   "id": "1600fcfd",
   "metadata": {
    "slideshow": {
     "slide_type": "fragment"
    }
   },
   "outputs": [],
   "source": [
    "Z = np.vstack((x1i**0, x1i**1, x2i**1)).T"
   ]
  },
  {
   "cell_type": "markdown",
   "id": "b658a33e",
   "metadata": {
    "slideshow": {
     "slide_type": "slide"
    }
   },
   "source": [
    "**paso 4.** Hacemos ajuste por mínimos cuadrados. En python, a través de la librería ```numpy.linalg```, tenemos dos alternativas:\n",
    "- Método matriz psudoinversa, $Z_\\mathrm{pinv} = \\left(Z^T Z\\right)^{-1}Z^T$ (```pinv```)\n",
    "```python\n",
    "Z_pinv = np.linalg.pinv(Z) # Matríz Z pseudo inversa\n",
    "a = np.dot(Z_pinv,yi)      # Parámetros del modelo lineal\n",
    "```\n",
    "- Mínimos cuadrados (```lstsq```)\n",
    "```python\n",
    "a = np.linalg.lstsq(Z, yi, rcond=None)[0] # Parámetros del modelo lineal\n",
    "```"
   ]
  },
  {
   "cell_type": "code",
   "execution_count": 9,
   "id": "4ab2f2ca",
   "metadata": {
    "slideshow": {
     "slide_type": "fragment"
    }
   },
   "outputs": [
    {
     "name": "stdout",
     "output_type": "stream",
     "text": [
      "modelo lineal, y = -0.959 + 1.973x_1 + -1.184x_2\n"
     ]
    }
   ],
   "source": [
    "a = np.dot(np.linalg.pinv(Z),yi)\n",
    "print('modelo lineal, y = %.3f + %.3fx_1 + %.3fx_2' % tuple(a))"
   ]
  },
  {
   "cell_type": "markdown",
   "id": "6ac71405",
   "metadata": {
    "slideshow": {
     "slide_type": "slide"
    }
   },
   "source": [
    "**paso 5** Extraemos los parámetros del modelo original. En este caso:\n",
    "- $\\alpha = e^{a_0}$\n",
    "- $\\beta = a_1$\n",
    "- $\\rho = -a_2$"
   ]
  },
  {
   "cell_type": "code",
   "execution_count": 10,
   "id": "f25de217",
   "metadata": {
    "slideshow": {
     "slide_type": "fragment"
    }
   },
   "outputs": [
    {
     "name": "stdout",
     "output_type": "stream",
     "text": [
      "alpha = 0.383, beta = 1.973, gamma = 1.184\n"
     ]
    }
   ],
   "source": [
    "alpha = np.exp(a[0])\n",
    "beta  = a[1]\n",
    "rho   = - a[2]\n",
    "print('alpha = %.3f, beta = %.3f, gamma = %.3f' % (alpha, beta, rho))"
   ]
  },
  {
   "cell_type": "markdown",
   "id": "58886d89",
   "metadata": {
    "slideshow": {
     "slide_type": "slide"
    }
   },
   "source": [
    "### Regresión no lineal (```scipy.optimize.curve_fit```)\n",
    "En el caso de regresión no lineal, el proceso es más sencicllo. En python, ocupamos la función ```curve_fit``` de la librería ```scipy.optimize```."
   ]
  },
  {
   "cell_type": "code",
   "execution_count": 11,
   "id": "50c50014",
   "metadata": {
    "slideshow": {
     "slide_type": "fragment"
    }
   },
   "outputs": [
    {
     "name": "stdout",
     "output_type": "stream",
     "text": [
      "alpha = 0.336, beta = 1.925, gamma = 1.126\n"
     ]
    }
   ],
   "source": [
    "from scipy.optimize import curve_fit\n",
    "\n",
    "def model(x,a,b,c):\n",
    "    U = a*(x[0] + 2)**b/(x[1] + 3)**(3*c)\n",
    "    return U\n",
    "    \n",
    "xdata = np.vstack((vi,ti))\n",
    "ydata = Ui\n",
    "\n",
    "a_nl = curve_fit(model,xdata,ydata)[0]\n",
    "print('alpha = %.3f, beta = %.3f, gamma = %.3f' % (a_nl[0], a_nl[1], a_nl[2]))"
   ]
  },
  {
   "cell_type": "markdown",
   "id": "eac16359",
   "metadata": {
    "slideshow": {
     "slide_type": "slide"
    }
   },
   "source": [
    "### Calidad del modelo (```sklearn.metrics.r2_score```)\n",
    "Evaluamos la calidad del modelo mediante el coeficiente de determinación. En python usamos la función ```r2_score``` de ```sklearn.metrics```."
   ]
  },
  {
   "cell_type": "markdown",
   "id": "d401d7b2",
   "metadata": {
    "slideshow": {
     "slide_type": "fragment"
    }
   },
   "source": [
    "Primero creamos una función para nuestro modelo. En este caso crearemos dos funciones: \n",
    "- ```U_lin``` para el modelo con los párametros obtenidos por regresión lineal\n",
    "- ```U_nl``` para el modelo con los párametros obtenidos por regresión lineal"
   ]
  },
  {
   "cell_type": "code",
   "execution_count": 12,
   "id": "d37a5ab8",
   "metadata": {
    "slideshow": {
     "slide_type": "fragment"
    }
   },
   "outputs": [],
   "source": [
    "U_lin = lambda v,t: alpha*(v+2)**beta/(t + 3)**(3*rho) # regresión lineal\n",
    "U_nl  = lambda v,t: a_nl[0]*(v+2)**a_nl[1]/(t + 3)**(3*a_nl[2]) # regresión no-lineal"
   ]
  },
  {
   "cell_type": "code",
   "execution_count": 13,
   "id": "cb2b8114",
   "metadata": {
    "slideshow": {
     "slide_type": "fragment"
    }
   },
   "outputs": [
    {
     "name": "stdout",
     "output_type": "stream",
     "text": [
      "r2 (reg. lineal) =  0.9964786187961536\n",
      "r2 (reg. no-lineal) =  0.9989416972396143\n"
     ]
    }
   ],
   "source": [
    "from sklearn.metrics import r2_score\n",
    "print('r2 (reg. lineal) = ',    r2_score(U_lin(vi,ti), Ui))\n",
    "print('r2 (reg. no-lineal) = ', r2_score(U_nl(vi,ti) , Ui))"
   ]
  },
  {
   "cell_type": "markdown",
   "id": "3c650e39",
   "metadata": {
    "slideshow": {
     "slide_type": "slide"
    }
   },
   "source": [
    "## Interpolación"
   ]
  },
  {
   "cell_type": "markdown",
   "id": "36ff3312",
   "metadata": {
    "slideshow": {
     "slide_type": "fragment"
    }
   },
   "source": [
    "Queremos generar un polinómio de interpolación para el siguiente set de mediciones:"
   ]
  },
  {
   "cell_type": "code",
   "execution_count": 14,
   "id": "740fd996",
   "metadata": {
    "cell_style": "center",
    "slideshow": {
     "slide_type": "fragment"
    }
   },
   "outputs": [],
   "source": [
    "xi = [-2.9924, -2.3285, -1.6177, -0.9819, -0.312 ,  \n",
    "       0.3933,  1.0589,  1.7526,  2.3346,  3.0171]\n",
    "\n",
    "yi = [1.000e-04, 4.400e-03, 7.300e-02, 3.813e-01, 9.072e-01, \n",
    "      8.567e-01, 3.258e-01, 4.630e-02, 4.300e-03, 1.000e-04]"
   ]
  },
  {
   "cell_type": "markdown",
   "id": "1e85eed7",
   "metadata": {
    "slideshow": {
     "slide_type": "slide"
    }
   },
   "source": [
    "### Interpolación polinomimal\n",
    "En python tenemos distintos métodos para generar polinomios de interpolación. En el curso vimos 3 métodos:"
   ]
  },
  {
   "cell_type": "markdown",
   "id": "96cf7137",
   "metadata": {
    "slideshow": {
     "slide_type": "slide"
    }
   },
   "source": [
    "- Usando mínimos cuadrados, mediante la librería ```numpy```:\n",
    "```python \n",
    "import numpy as np\n",
    "ai = np.polyfit(xi,yi,len(xi) - 1) # generamos los coeficientes del polinomio\n",
    "y0 = np.polyval(ai, x0)            # evaluamos el polinomio en x0 para encontrar y0\n",
    "```\n",
    "\n",
    "- Polinomios de Newton, mediante el script ```newton.py``` desarrollado en clases:\n",
    "```python \n",
    "import newton as nw\n",
    "ai = nw.divided_diff(xi,yi)       # generamos los coeficientes del polinomio de Newton\n",
    "y0 = nw.newnton_poly(ai, xi, x0)  # evaluamos el polinomio en x0 para encontrar y0\n",
    "```\n",
    "- Polinomios de Lagrange, mediante la librería ```scipy.interpolate```.\n",
    "```python \n",
    "from scipy.interpolate import lagrange\n",
    "y_interpol = lagrange(xi,yi)    # generamos una función de interpolación\n",
    "y0 = y_interpol(x0)             # evaluamos el polinomio en x0 para encontrar y0\n",
    "```"
   ]
  },
  {
   "cell_type": "markdown",
   "id": "6d22a467",
   "metadata": {
    "slideshow": {
     "slide_type": "fragment"
    }
   },
   "source": [
    "Notar que tanto el método de regresión lineal como polinomios de newton **se basan en una función para generar los coeficientes** (```polyfit``` y ```divided_diff```, respectivamente), y **luego otra función para evaluar el polinomio de interpolación** (```polyval``` y ```newton_poly```, respectivamente)\n",
    "\n",
    "El método de polinomios de Lagrange, en cambio, **se basa en la función ```lagrange``` para generar una función de interpolación** (output del tipo \"*callable*\" en lenguage python). "
   ]
  },
  {
   "cell_type": "markdown",
   "id": "13d507f1",
   "metadata": {
    "slideshow": {
     "slide_type": "slide"
    }
   },
   "source": [
    "#### Generación de polinomios"
   ]
  },
  {
   "cell_type": "markdown",
   "id": "4b6b8444",
   "metadata": {
    "slideshow": {
     "slide_type": "fragment"
    }
   },
   "source": [
    "En el siguiente script, utilizamos las tres funciones para generar una **función de interpolación**. Notar que usamos función ```lambda``` para regresión lineal y polinomios de newton:"
   ]
  },
  {
   "cell_type": "code",
   "execution_count": 15,
   "id": "799e30d2",
   "metadata": {
    "slideshow": {
     "slide_type": "fragment"
    }
   },
   "outputs": [],
   "source": [
    "import newton as nw # funciones del script newton.py\n",
    "from scipy.interpolate import lagrange\n",
    "\n",
    "# regresión lineal\n",
    "a_lr = np.polyfit(xi,yi,len(xi)-1)              # generamos los coeficientes del polinomio\n",
    "y_linreg   = lambda x: np.polyval(a_lr,x)       # creamos un output tipo \"callable\" a través de función lambda\n",
    "\n",
    "# polinomios de Newton\n",
    "a_nw = nw.divided_diff(xi,yi)                   # generamos los coeficientes del polinomio\n",
    "y_newton = lambda x: nw.newton_poly(a_nw,xi, x) # creamos un output tipo \"callable\" a través de función lambda\n",
    "\n",
    "# polinomios de lagrange   \n",
    "y_lagrange = lagrange(xi,yi)                     # creamos un output tipo \"callable\""
   ]
  },
  {
   "cell_type": "markdown",
   "id": "d398fc83",
   "metadata": {
    "slideshow": {
     "slide_type": "slide"
    }
   },
   "source": [
    "#### Comparación de modelos"
   ]
  },
  {
   "cell_type": "markdown",
   "id": "92b09b33",
   "metadata": {
    "slideshow": {
     "slide_type": "fragment"
    }
   },
   "source": [
    "Ahora graficamos nuestro resultado para los tres casos en el dominio $x\\in[-3,3]$ generando un arreglo con 100 puntos igualmente espaciados."
   ]
  },
  {
   "cell_type": "code",
   "execution_count": 16,
   "id": "dafd033c",
   "metadata": {
    "slideshow": {
     "slide_type": "slide"
    }
   },
   "outputs": [
    {
     "data": {
      "image/png": "[encoded data removed]",
      "text/plain": [
       "<Figure size 504x360 with 1 Axes>"
      ]
     },
     "metadata": {
      "filenames": {
       "image/png": "/mnt/c/Users/francisco.ramirez.c/OneDrive - Universidad Adolfo Ibanez/Teaching_courses/Metodos_Numericos/material_catedra/_build/jupyter_execute/Repaso/Repaso_Parte1/Repaso_Parte1_48_0.png"
      },
      "needs_background": "light"
     },
     "output_type": "display_data"
    }
   ],
   "source": [
    "import matplotlib.pyplot as plt\n",
    "\n",
    "x = np.linspace(-3,3,100)\n",
    "\n",
    "plt.figure(figsize = (7, 5))           # Tamaño de figura\n",
    "plt.rcParams.update({'font.size': 14}) # Tamaño de fuente\n",
    "\n",
    "plt.plot(x, y_linreg(x),'-r', label='Reg. lineal')\n",
    "plt.plot(x, y_newton(x),'-m', label='Newton')\n",
    "plt.plot(x, y_lagrange(x),'-b', label='Lagrange')\n",
    "plt.scatter(xi,yi,color='k',label='xi,yi')\n",
    "\n",
    "plt.xlabel('x')\n",
    "plt.ylabel('y')\n",
    "plt.legend()\n",
    "plt.show()"
   ]
  },
  {
   "cell_type": "markdown",
   "id": "3d269cd8",
   "metadata": {
    "slideshow": {
     "slide_type": "slide"
    }
   },
   "source": [
    "### Interpolación por tramos o *spline* (```scipy.interpolate```)\n",
    "En el caso de interpolación por tramos o \"*spline*, en clases revisamos dos alternativas de la librería ```scipy.interpolate```:"
   ]
  },
  {
   "cell_type": "markdown",
   "id": "7323272e",
   "metadata": {
    "slideshow": {
     "slide_type": "fragment"
    }
   },
   "source": [
    "- Interpolación *spline* lineal mediante ```interp1d```:\n",
    "```python\n",
    "from scipy.interpolate import interp1d\n",
    "y_slinear = interp1d(xi,yi) # generamos una función de interpolación\n",
    "y0 = y_slinear(x0)          # evaluamos el polinomio en x0 para encontrar y0\n",
    "```\n",
    "- Interpolación *spline* cúbico mediante ```CubicSpline```:\n",
    "```python\n",
    "from scipy.interpolate import CubicSpline\n",
    "y_scubic = CubicSpline(xi,yi) # generamos una función de interpolación\n",
    "y0 = y_scubic(x0)             # evaluamos el polinomio en x0 para encontrar y0\n",
    "```"
   ]
  },
  {
   "cell_type": "markdown",
   "id": "328da8f8",
   "metadata": {
    "slideshow": {
     "slide_type": "fragment"
    }
   },
   "source": [
    "En este caso, ámbos métodos generan una **función de interpolación** en formato *callable*"
   ]
  },
  {
   "cell_type": "markdown",
   "id": "f0c6a7b0",
   "metadata": {
    "slideshow": {
     "slide_type": "slide"
    }
   },
   "source": [
    "#### Extrapolación en ```interp1d```\n",
    "Es importante mencionar que, por defecto, ```interp1d``` arroja un error para **extrapolacion**."
   ]
  },
  {
   "cell_type": "markdown",
   "id": "b51451a1",
   "metadata": {
    "slideshow": {
     "slide_type": "fragment"
    }
   },
   "source": [
    "Por ejemplo, en nuestro caso ```min(xi) = -2.9924```. Así, si evaluamos el polinomio en ```x0 = -3``` veremos un error:\n",
    "```python\n",
    "from scipy import interpolate\n",
    "y_slinear = interp1d(xi,yi) # generamos una función de interpolación\n",
    "print(y_slinear(-3))\n",
    "...\n",
    "--> 734             raise ValueError(\"A value in x_new is below the interpolation \"\n",
    "    735                              \"range.\")\n",
    "    736         if self.bounds_error and above_bounds.any():\n",
    "\n",
    "ValueError: A value in x_new is below the interpolation range.\n",
    "```"
   ]
  },
  {
   "cell_type": "markdown",
   "id": "540ce4f2",
   "metadata": {
    "slideshow": {
     "slide_type": "slide"
    }
   },
   "source": [
    "Para suprimir el error agregamos la instrucción ```bounds_error=False```. **La función entregará un valor ```nan``` si el valor está fuera del rango, pero no arrojará un error**"
   ]
  },
  {
   "cell_type": "code",
   "execution_count": 17,
   "id": "5f6c3eb6",
   "metadata": {
    "slideshow": {
     "slide_type": "fragment"
    }
   },
   "outputs": [],
   "source": [
    "from scipy.interpolate import interp1d\n",
    "y_slinear = interp1d(xi,yi, bounds_error=False) # spline linear con extrapolación"
   ]
  },
  {
   "cell_type": "code",
   "execution_count": 18,
   "id": "fb6a6a61",
   "metadata": {
    "slideshow": {
     "slide_type": "fragment"
    }
   },
   "outputs": [
    {
     "data": {
      "text/plain": [
       "array(nan)"
      ]
     },
     "execution_count": 18,
     "metadata": {},
     "output_type": "execute_result"
    }
   ],
   "source": [
    "y_slinear(-3)"
   ]
  },
  {
   "cell_type": "markdown",
   "id": "2667e22b",
   "metadata": {
    "slideshow": {
     "slide_type": "slide"
    }
   },
   "source": [
    "#### Condiciones de borde en ```CubicSpline```"
   ]
  },
  {
   "cell_type": "markdown",
   "id": "1fd5a341",
   "metadata": {
    "slideshow": {
     "slide_type": "fragment"
    }
   },
   "source": [
    "```CubicSpline``` permite especificar las condiciones de borde mediante ```bc_type```. Para funciones no periódicas, tenemos:\n",
    "```python \n",
    "from scipy.interpolate import CubicSpline\n",
    "y = CubicSpline(xi,yi,bc_type='not-a-knot') # Condición de borde not a knot\n",
    "\n",
    "y = CubicSpline(xi,yi,bc_type='clamped')    # Condición de borde \"clamped\"\n",
    "\n",
    "y = CubicSpline(xi,yi,bc_type='natural')    # Condición de borde\"natural\"\n",
    "```"
   ]
  },
  {
   "cell_type": "markdown",
   "id": "47f9aa21",
   "metadata": {
    "slideshow": {
     "slide_type": "fragment"
    }
   },
   "source": [
    "```CubicSpline```, por defecto, permite extrapolar."
   ]
  },
  {
   "cell_type": "markdown",
   "id": "765d9ab5",
   "metadata": {
    "slideshow": {
     "slide_type": "slide"
    }
   },
   "source": [
    "Generemos tres tipos de interpolación *spline* cúbica con extrapolación:"
   ]
  },
  {
   "cell_type": "code",
   "execution_count": 19,
   "id": "471f200b",
   "metadata": {
    "slideshow": {
     "slide_type": "fragment"
    }
   },
   "outputs": [],
   "source": [
    "from scipy.interpolate import CubicSpline\n",
    "y_scubic_nk = CubicSpline(xi,yi,bc_type='not-a-knot')\n",
    "y_scubic_nat = CubicSpline(xi,yi,bc_type='natural')\n",
    "y_scubic_cmp = CubicSpline(xi,yi,bc_type='clamped')"
   ]
  },
  {
   "cell_type": "markdown",
   "id": "bf9fa0af",
   "metadata": {
    "slideshow": {
     "slide_type": "slide"
    }
   },
   "source": [
    "#### Comparación de modelos de interpolación"
   ]
  },
  {
   "cell_type": "markdown",
   "id": "9dd1856e",
   "metadata": {
    "slideshow": {
     "slide_type": "fragment"
    }
   },
   "source": [
    "Ahora graficamos todos nuestros resultados en el dominio $x\\in[-3,3]$ generando un arreglo con 100 puntos igualmente espaciados."
   ]
  },
  {
   "cell_type": "code",
   "execution_count": 20,
   "id": "dd20245a",
   "metadata": {
    "slideshow": {
     "slide_type": "slide"
    }
   },
   "outputs": [
    {
     "data": {
      "image/png": "[encoded data removed]",
      "text/plain": [
       "<Figure size 504x360 with 1 Axes>"
      ]
     },
     "metadata": {
      "filenames": {
       "image/png": "/mnt/c/Users/francisco.ramirez.c/OneDrive - Universidad Adolfo Ibanez/Teaching_courses/Metodos_Numericos/material_catedra/_build/jupyter_execute/Repaso/Repaso_Parte1/Repaso_Parte1_64_0.png"
      },
      "needs_background": "light"
     },
     "output_type": "display_data"
    }
   ],
   "source": [
    "import matplotlib.pyplot as plt\n",
    "\n",
    "x = np.linspace(-3,3,100)\n",
    "\n",
    "plt.figure(figsize = (7, 5))           # Tamaño de figura\n",
    "plt.rcParams.update({'font.size': 14}) # Tamaño de fuente\n",
    "\n",
    "plt.plot(x,    y_slinear(x),'-r', label='lineal')\n",
    "plt.plot(x,  y_scubic_nk(x),'-b', label='cúbico (not-a-knot)')\n",
    "plt.plot(x, y_scubic_nat(x),'-g', label='cúbico (natural)')\n",
    "plt.plot(x, y_scubic_cmp(x),'-m', label='cúbico (clamped)')\n",
    "plt.scatter(xi,yi,color='k',label='xi,yi')\n",
    "\n",
    "plt.xlabel('x')\n",
    "plt.ylabel('y')\n",
    "plt.legend()\n",
    "plt.show()"
   ]
  },
  {
   "cell_type": "markdown",
   "id": "c8db8a63",
   "metadata": {
    "slideshow": {
     "slide_type": "slide"
    }
   },
   "source": [
    "#### Precisión en la extrapolación por ```CubicSpline```"
   ]
  },
  {
   "cell_type": "markdown",
   "id": "1571a84c",
   "metadata": {
    "slideshow": {
     "slide_type": "fragment"
    }
   },
   "source": [
    "Las condiciones de borde en ```CubicSpline``` son importantes al momento de identificar la precisión de la extrapolación. Por ejemplo, evaluemos el error para la extrapolación en ```x0 = 4```. En este caso, el valor exácto está dado por $f(4) = e^{-4^2} = 1.12532\\times 10^{-7}$"
   ]
  },
  {
   "cell_type": "code",
   "execution_count": 21,
   "id": "751a102c",
   "metadata": {
    "slideshow": {
     "slide_type": "fragment"
    }
   },
   "outputs": [
    {
     "name": "stdout",
     "output_type": "stream",
     "text": [
      "Error absoluto en 'not-a-knot': 2.65274e-01\n",
      "Error absoluto en 'natural': 1.17985e-02\n",
      "Error absoluto en 'clamped': 8.74198e-03\n"
     ]
    }
   ],
   "source": [
    "x0 = 4\n",
    "y_exact = np.exp(-(x0)**2)\n",
    "print(\"Error absoluto en 'not-a-knot': %.5e\" % abs(y_exact - y_scubic_nk(x0)))\n",
    "print(\"Error absoluto en 'natural': %.5e\" % abs(y_exact - y_scubic_nat(x0)))\n",
    "print(\"Error absoluto en 'clamped': %.5e\" % abs(y_exact - y_scubic_cmp(x0)))"
   ]
  }
 ],
 "metadata": {
  "kernelspec": {
   "display_name": "Python 3 (ipykernel)",
   "language": "python",
   "name": "python3"
  },
  "language_info": {
   "codemirror_mode": {
    "name": "ipython",
    "version": 3
   },
   "file_extension": ".py",
   "mimetype": "text/x-python",
   "name": "python",
   "nbconvert_exporter": "python",
   "pygments_lexer": "ipython3",
   "version": "3.9.13"
  },
  "latex_envs": {
   "LaTeX_envs_menu_present": false,
   "autoclose": false,
   "autocomplete": false,
   "bibliofile": "biblio.bib",
   "cite_by": "apalike",
   "current_citInitial": 1,
   "eqLabelWithNumbers": true,
   "eqNumInitial": 1,
   "hotkeys": {
    "equation": "Ctrl-E",
    "itemize": "Ctrl-I"
   },
   "labels_anchors": false,
   "latex_user_defs": false,
   "report_style_numbering": false,
   "user_envs_cfg": false
  },
  "rise": {
   "height": "100%",
   "theme": "simple",
   "width": "100%"
  },
  "toc": {
   "base_numbering": "1",
   "nav_menu": {},
   "number_sections": true,
   "sideBar": true,
   "skip_h1_title": true,
   "title_cell": "Contenidos",
   "title_sidebar": "Contenidos",
   "toc_cell": false,
   "toc_position": {
    "height": "calc(100% - 180px)",
    "left": "10px",
    "top": "150px",
    "width": "303.825px"
   },
   "toc_section_display": true,
   "toc_window_display": false
  },
  "varInspector": {
   "cols": {
    "lenName": 16,
    "lenType": 16,
    "lenVar": 40
   },
   "kernels_config": {
    "python": {
     "delete_cmd_postfix": "",
     "delete_cmd_prefix": "del ",
     "library": "var_list.py",
     "varRefreshCmd": "print(var_dic_list())"
    },
    "r": {
     "delete_cmd_postfix": ") ",
     "delete_cmd_prefix": "rm(",
     "library": "var_list.r",
     "varRefreshCmd": "cat(var_dic_list()) "
    }
   },
   "types_to_exclude": [
    "module",
    "function",
    "builtin_function_or_method",
    "instance",
    "_Feature"
   ],
   "window_display": false
  }
 },
 "nbformat": 4,
 "nbformat_minor": 5
}
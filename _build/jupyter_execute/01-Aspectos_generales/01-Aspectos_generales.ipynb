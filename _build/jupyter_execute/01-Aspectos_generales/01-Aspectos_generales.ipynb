{
 "cells": [
  {
   "cell_type": "markdown",
   "id": "6d47d103",
   "metadata": {
    "slideshow": {
     "slide_type": "slide"
    }
   },
   "source": [
    "# Aspectos generales de programación y algoritmos"
   ]
  },
  {
   "cell_type": "markdown",
   "id": "fed7c571",
   "metadata": {
    "cell_style": "center",
    "slideshow": {
     "slide_type": "slide"
    }
   },
   "source": [
    "## Complejidad de algoritmos"
   ]
  },
  {
   "cell_type": "markdown",
   "id": "81ec5c39",
   "metadata": {},
   "source": [
    "### ¿Qué es un algoritmo?\n",
    "Un algoritmo es una serie ordenada de operaciones sistemáticas que permite hacer un cálculo y hallar la solución de un tipo de problemas."
   ]
  },
  {
   "cell_type": "markdown",
   "id": "94ec6498",
   "metadata": {
    "cell_style": "split"
   },
   "source": [
    "Por ejemplo:"
   ]
  },
  {
   "cell_type": "code",
   "execution_count": 1,
   "id": "26d3ba5d",
   "metadata": {
    "cell_style": "split"
   },
   "outputs": [],
   "source": [
    "def f(n):\n",
    "    out = 0\n",
    "    for i in range(n):\n",
    "        for j in range(n):\n",
    "            out += i*j\n",
    "    return out"
   ]
  },
  {
   "cell_type": "markdown",
   "id": "bca6defb",
   "metadata": {
    "slideshow": {
     "slide_type": "slide"
    }
   },
   "source": [
    "La complejidad de un algoritmo es la **relación entre el tamaño del input $N$** y la **cantidad de operaciones para completarlo**.\n",
    "Una forma de determinar la complejidad del algoritmo es **contabilizar las operaciones básicas**:\n",
    "- sumas\n",
    "- restas\n",
    "- multiplicaciones\n",
    "- divisiones\n",
    "- asignación de variables\n",
    "- llamados a otras funciones"
   ]
  },
  {
   "cell_type": "markdown",
   "id": "b55b80d6",
   "metadata": {
    "slideshow": {
     "slide_type": "slide"
    }
   },
   "source": [
    "Por ejemplo, en el siguiente algoritmo:"
   ]
  },
  {
   "cell_type": "code",
   "execution_count": 2,
   "id": "721f9f8b",
   "metadata": {
    "cell_style": "split",
    "slideshow": {
     "slide_type": "-"
    }
   },
   "outputs": [],
   "source": [
    "def f(n):\n",
    "    out = 0\n",
    "    for i in range(n):\n",
    "        for j in range(n):\n",
    "            out += i*j\n",
    "    return out"
   ]
  },
  {
   "cell_type": "markdown",
   "id": "8d77c677",
   "metadata": {
    "cell_style": "split"
   },
   "source": [
    "El número de operaciones son:\n",
    "- sumas: $N^2$\n",
    "- restas: 0\n",
    "- multiplicaciones: $N^2$\n",
    "- divisiones: 0\n",
    "- asignación de variables: $2N^2 + N + 1$\n",
    "- llamados a otras funciones: 0"
   ]
  },
  {
   "cell_type": "markdown",
   "id": "3fc3f8b3",
   "metadata": {},
   "source": [
    "Así, el **total de operaciones** para completar el algoritmo es $4N^2+N+1$."
   ]
  },
  {
   "cell_type": "markdown",
   "id": "c8724cdd",
   "metadata": {
    "slideshow": {
     "slide_type": "slide"
    }
   },
   "source": [
    "### Notación *Big-O*\n",
    "A medida que el tamaño de $N$ aumenta, las operaciones de mayor orden se hacen dominantes. Así, podemos decir que la complejidad del algoritmo anterior es del orden $O(N^2)$. Esta notación, denominada ***Big-O***, es comúnmente utiilzada para **determinar la complejidad del algoritmo cuando $N$ es de gran tamaño**."
   ]
  },
  {
   "cell_type": "markdown",
   "id": "bb31908e",
   "metadata": {},
   "source": [
    "> **Nota** Un algoritmo tiene complejidad **polinomial** cuando es del tipo $O(N^c)$, donde $c$ es una constante."
   ]
  },
  {
   "cell_type": "markdown",
   "id": "8f0793f2",
   "metadata": {
    "slideshow": {
     "slide_type": "slide"
    }
   },
   "source": [
    "Analicemos la complejidad del siguiente algortimo:"
   ]
  },
  {
   "cell_type": "code",
   "execution_count": 3,
   "id": "17b1d4d4",
   "metadata": {
    "cell_style": "split"
   },
   "outputs": [],
   "source": [
    "def my_divide_by_two(n):\n",
    "    \n",
    "    out = 0\n",
    "    while n > 1:\n",
    "        n /= 2\n",
    "        out += 1\n",
    "        \n",
    "    return out"
   ]
  },
  {
   "cell_type": "markdown",
   "id": "c9281b75",
   "metadata": {
    "cell_style": "split"
   },
   "source": [
    "A medida que $N$ crece podemos ver que la parte dominante de este algoritmo esta dentro de la operación ```while```."
   ]
  },
  {
   "cell_type": "markdown",
   "id": "794e3ff6",
   "metadata": {
    "slideshow": {
     "slide_type": "-"
    }
   },
   "source": [
    "Si analizamos el número de iteraciones $I$ para un determinado $N$, notaremos que estos están en la relación $N/2^I = 1$, es decir $I\\approx \\log N$. Así, la complejidad de este algoritmo es $O(\\log N)$."
   ]
  },
  {
   "cell_type": "markdown",
   "id": "4ac282e6",
   "metadata": {},
   "source": [
    "> **Nota** Un algoritmo tiene complejidad **logarítmica** cuando es del tipo $O(\\log N)$."
   ]
  },
  {
   "cell_type": "markdown",
   "id": "2e84ee01",
   "metadata": {
    "slideshow": {
     "slide_type": "slide"
    }
   },
   "source": [
    "### Serie de Fibonacci y complejidad exponencial\n",
    "\n",
    "Una operación matemática puede ser ejecutada mediante algoritmos con diferente complejidad. Por ejemplo, consideremos la serie de Fibonacci.\n",
    "\n",
    "<img src=\"./imagenes/Fibonacci.png\" width=\"800\" align= center>"
   ]
  },
  {
   "cell_type": "markdown",
   "id": "3465e62c",
   "metadata": {},
   "source": [
    "Esta operación puede ejecutarse de dos maneras: (1) de forma iterativa, (2) de forma recursiva"
   ]
  },
  {
   "cell_type": "markdown",
   "id": "4af43915",
   "metadata": {
    "slideshow": {
     "slide_type": "slide"
    }
   },
   "source": [
    "**(1) Forma iterativa.** complejidad $O(N)$"
   ]
  },
  {
   "cell_type": "code",
   "execution_count": 4,
   "id": "23be1674",
   "metadata": {
    "cell_style": "split",
    "slideshow": {
     "slide_type": "-"
    }
   },
   "outputs": [],
   "source": [
    "def my_fib_iter(n):\n",
    "    \n",
    "    out = [1, 1]\n",
    "    \n",
    "    for i in range(2, n+1):\n",
    "        out.append(out[i - 1] + out[i - 2])\n",
    "        \n",
    "    return out[-1]"
   ]
  },
  {
   "cell_type": "code",
   "execution_count": 5,
   "id": "dac3fc73",
   "metadata": {
    "cell_style": "split"
   },
   "outputs": [
    {
     "data": {
      "text/plain": [
       "13"
      ]
     },
     "execution_count": 5,
     "metadata": {},
     "output_type": "execute_result"
    }
   ],
   "source": [
    "my_fib_iter(6)"
   ]
  },
  {
   "cell_type": "markdown",
   "id": "99f48d12",
   "metadata": {
    "slideshow": {
     "slide_type": "slide"
    }
   },
   "source": [
    "**(2) Forma recursiva.** complejidad $O\\left(2^N\\right)$"
   ]
  },
  {
   "cell_type": "code",
   "execution_count": 6,
   "id": "87d8a76d",
   "metadata": {
    "cell_style": "center",
    "slideshow": {
     "slide_type": "-"
    }
   },
   "outputs": [],
   "source": [
    "def my_fib_rec(n):\n",
    "    \n",
    "    if n < 2:\n",
    "        out = 1\n",
    "    else:\n",
    "        out = my_fib_rec(n-1) + my_fib_rec(n-2)\n",
    "        \n",
    "    return out"
   ]
  },
  {
   "cell_type": "code",
   "execution_count": 7,
   "id": "27ba2d54",
   "metadata": {
    "cell_style": "split",
    "scrolled": true
   },
   "outputs": [
    {
     "data": {
      "text/plain": [
       "8"
      ]
     },
     "execution_count": 7,
     "metadata": {},
     "output_type": "execute_result"
    }
   ],
   "source": [
    "my_fib_rec(5)"
   ]
  },
  {
   "cell_type": "markdown",
   "id": "f565f89c",
   "metadata": {},
   "source": [
    "> **Nota** Un algoritmo tiene complejidad **exponencial** cuando es del tipo $O(c^N)$, donde $c$ es una constante."
   ]
  },
  {
   "cell_type": "markdown",
   "id": "3b8ed34f",
   "metadata": {
    "cell_style": "center",
    "slideshow": {
     "slide_type": "slide"
    }
   },
   "source": [
    "### Notación *Big-O* y tiempo de computación\n",
    "La complejidad en la notación *Big-O* nos entrega una referencia del tiempo computacional dedicado para un determinado algoritmo."
   ]
  },
  {
   "cell_type": "markdown",
   "id": "1b626be9",
   "metadata": {
    "cell_style": "split"
   },
   "source": [
    "<img src=\"./imagenes/08.02.01-complexity.png\" width=\"300\" align= center>"
   ]
  },
  {
   "cell_type": "markdown",
   "id": "bb5b2d5b",
   "metadata": {
    "cell_style": "split",
    "slideshow": {
     "slide_type": "-"
    }
   },
   "source": [
    "Así, por ejemplo, si consideramos un procesador Intel i7-12700K - 5GHz *($\\approx$ 5 mil millones de operaciones por segundo)*:\n",
    "- ```my_fib_iter(100)``` <br>tomaría $\\approx$ 0.2 nanosegundos\n",
    "<br>\n",
    "- ```my_fib_recur(100)``` <br>tomaría $\\approx$ 8 billones de años"
   ]
  },
  {
   "cell_type": "markdown",
   "id": "92d442ae",
   "metadata": {
    "cell_style": "center",
    "slideshow": {
     "slide_type": "slide"
    }
   },
   "source": [
    "Podemos evaluar el tiempo de ejecución con la sentencia ```%time```"
   ]
  },
  {
   "cell_type": "code",
   "execution_count": 8,
   "id": "784d7a13",
   "metadata": {
    "cell_style": "center"
   },
   "outputs": [
    {
     "name": "stdout",
     "output_type": "stream",
     "text": [
      "CPU times: user 4 µs, sys: 1 µs, total: 5 µs\n",
      "Wall time: 7.39 µs\n"
     ]
    }
   ],
   "source": [
    "%time a = my_fib_iter(10)"
   ]
  },
  {
   "cell_type": "code",
   "execution_count": 9,
   "id": "38947902",
   "metadata": {
    "cell_style": "center",
    "scrolled": true
   },
   "outputs": [
    {
     "name": "stdout",
     "output_type": "stream",
     "text": [
      "CPU times: user 10 µs, sys: 0 ns, total: 10 µs\n",
      "Wall time: 12.9 µs\n"
     ]
    }
   ],
   "source": [
    "%time a = my_fib_rec(10) # No probar N>30"
   ]
  },
  {
   "cell_type": "markdown",
   "id": "fc0b4fef",
   "metadata": {},
   "source": [
    "> **nota** En general, se deben evitar los algoritmos de complejidad exponencial"
   ]
  },
  {
   "cell_type": "markdown",
   "id": "d12f2f56",
   "metadata": {
    "slideshow": {
     "slide_type": "slide"
    }
   },
   "source": [
    "## Representación binaria y errores de redondeo\n",
    "En un computador, la información es almacenada en formato binario. Un **bit** puede tener dos valores: 0 o 1.\n",
    "El computador es capaz de interpretar número utilizando códigos binarios.\n",
    "\n",
    "Por ejemplo, el código de 8 bits $001000101$ es equivalente a:\n",
    "\n",
    "\\begin{equation*}\n",
    " 0\\cdot2^7 + 0\\cdot2^6 + 1\\cdot2^5 + 0\\cdot2^4 + 0\\cdot2^3 + 1\\cdot2^2 + 0\\cdot2^1 + 1\\cdot2^0 = 37\n",
    "\\end{equation*}"
   ]
  },
  {
   "cell_type": "markdown",
   "id": "a965b73c",
   "metadata": {
    "slideshow": {
     "slide_type": "slide"
    }
   },
   "source": [
    "Cada variable tiene una cantidad de bits asociada.\n",
    "\n",
    "|Tipo|Nombre|Número de bits|Rango de valores|\n",
    "|:-:|:-:|:-:|:-:|\n",
    "|bool|Boolean|1|```True``` o ```False```|\n",
    "|int32|Single precision integer|32|-2147483648 a 2147483647|\n",
    "|float64|Double precision float|64|$(-1)^s2^{e - 1024}\\left(1 + f\\right)$<br /> $s$: 1 bit; <br /> $e$: 11 bits; <br /> $f$: 52 bits|"
   ]
  },
  {
   "cell_type": "markdown",
   "id": "e9ce99b4",
   "metadata": {},
   "source": [
    "> **Nota**. En el código binario siempre existirá un único bit reservado para el signo."
   ]
  },
  {
   "cell_type": "markdown",
   "id": "aa74068b",
   "metadata": {
    "slideshow": {
     "slide_type": "slide"
    }
   },
   "source": [
    "En python el tipo de variable se asigna dinámicamente dependiendo del *input* del usuario. El número de bits depende de la versión de Python y el formato de la máquina en número de bits. Por ejemplo, para una máquina de 64 bits:"
   ]
  },
  {
   "cell_type": "code",
   "execution_count": 10,
   "id": "4cd7e653",
   "metadata": {},
   "outputs": [
    {
     "data": {
      "text/plain": [
       "int"
      ]
     },
     "execution_count": 10,
     "metadata": {},
     "output_type": "execute_result"
    }
   ],
   "source": [
    "type(34) # int64"
   ]
  },
  {
   "cell_type": "code",
   "execution_count": 11,
   "id": "f056a05f",
   "metadata": {},
   "outputs": [
    {
     "data": {
      "text/plain": [
       "float"
      ]
     },
     "execution_count": 11,
     "metadata": {},
     "output_type": "execute_result"
    }
   ],
   "source": [
    "type(0.4e8) # float64"
   ]
  },
  {
   "cell_type": "markdown",
   "id": "99aa0c63",
   "metadata": {
    "cell_style": "center",
    "slideshow": {
     "slide_type": "slide"
    }
   },
   "source": [
    "### Redondeo en variables tipo `float`"
   ]
  },
  {
   "cell_type": "markdown",
   "id": "a957680b",
   "metadata": {
    "cell_style": "center",
    "slideshow": {
     "slide_type": "-"
    }
   },
   "source": [
    "En variables tipo `float` existe un máximo y mínimo valor que puede ser representado el cual depende del número de bits."
   ]
  },
  {
   "cell_type": "markdown",
   "id": "a0a22f05",
   "metadata": {
    "slideshow": {
     "slide_type": "slide"
    }
   },
   "source": [
    "En python, para determinar estos límites utilizamos la librería `sys`."
   ]
  },
  {
   "cell_type": "code",
   "execution_count": 12,
   "id": "6a2f6efc",
   "metadata": {
    "cell_style": "center"
   },
   "outputs": [
    {
     "name": "stdout",
     "output_type": "stream",
     "text": [
      "sys.float_info(max=1.7976931348623157e+308, max_exp=1024, max_10_exp=308, min=2.2250738585072014e-308, min_exp=-1021, min_10_exp=-307, dig=15, mant_dig=53, epsilon=2.220446049250313e-16, radix=2, rounds=1)\n"
     ]
    }
   ],
   "source": [
    "import sys\n",
    "print(sys.float_info)"
   ]
  },
  {
   "cell_type": "markdown",
   "id": "1f8ed670",
   "metadata": {
    "cell_style": "center",
    "slideshow": {
     "slide_type": "fragment"
    }
   },
   "source": [
    "A continuación indicamos algunos valores útiles que podemos extraer de esta información:"
   ]
  },
  {
   "cell_type": "markdown",
   "id": "6bcec5ff",
   "metadata": {},
   "source": [
    "|Variable|Descripción|\n",
    "|:-:|:-:|\n",
    "|`max`|máximo valor *float* **positivo**|\n",
    "|`min*epsilon`|mínimo valor *float* **positivo**|\n",
    "|`epsilon`|diferencia entre `1` y el valor superior más pequeño representable como un *float*|\n",
    "|`dig`|máximo número de dígitos decimales que pueden ser representados en un *float*|"
   ]
  },
  {
   "cell_type": "markdown",
   "id": "f2c7fec7",
   "metadata": {
    "slideshow": {
     "slide_type": "slide"
    }
   },
   "source": [
    "Un número mayor al **máximo positivo** es representado en python como `inf`:"
   ]
  },
  {
   "cell_type": "code",
   "execution_count": 13,
   "id": "178d7f45",
   "metadata": {
    "cell_style": "center"
   },
   "outputs": [
    {
     "name": "stdout",
     "output_type": "stream",
     "text": [
      "máximo positivo: 1.7976931348623157e+308\n",
      "valor menor al máximo positivo:  1e+308\n",
      "valor mayor al máximo positivo:  inf\n"
     ]
    }
   ],
   "source": [
    "print('máximo positivo:', sys.float_info.max)\n",
    "print('valor menor al máximo positivo: ', 1e+308)\n",
    "print('valor mayor al máximo positivo: ', 2e+308)"
   ]
  },
  {
   "cell_type": "markdown",
   "id": "915778d9",
   "metadata": {
    "slideshow": {
     "slide_type": "fragment"
    }
   },
   "source": [
    "Debido a que el último bit siempre será reservado para el signo, el **mínimo valor negativo** corresponde a `- sys.float_info.max`"
   ]
  },
  {
   "cell_type": "code",
   "execution_count": 14,
   "id": "d45e99fb",
   "metadata": {},
   "outputs": [
    {
     "name": "stdout",
     "output_type": "stream",
     "text": [
      "valor mayor al mínimo negativo:  -1e+308\n",
      "valor menor al mínimo negativo:  -inf\n"
     ]
    }
   ],
   "source": [
    "print('valor mayor al mínimo negativo: ', -1e+308)\n",
    "print('valor menor al mínimo negativo: ', -2e+308)"
   ]
  },
  {
   "cell_type": "markdown",
   "id": "d1205f69",
   "metadata": {
    "slideshow": {
     "slide_type": "slide"
    }
   },
   "source": [
    "Igualmente, un número menor al mínimo positivo es representado en python como `0`:"
   ]
  },
  {
   "cell_type": "code",
   "execution_count": 15,
   "id": "1b6cc7e9",
   "metadata": {
    "cell_style": "center"
   },
   "outputs": [
    {
     "name": "stdout",
     "output_type": "stream",
     "text": [
      "mínimo positivo: 5e-324\n",
      "valor menor al mínimo positivo:  0.0\n",
      "valor mayor al mínimo positivo:  1e-323\n"
     ]
    }
   ],
   "source": [
    "print('mínimo positivo:', sys.float_info.min * sys.float_info.epsilon)\n",
    "print('valor menor al mínimo positivo: ', 1e-324)\n",
    "print('valor mayor al mínimo positivo: ', 1e-323)"
   ]
  },
  {
   "cell_type": "markdown",
   "id": "b27b7c49",
   "metadata": {
    "slideshow": {
     "slide_type": "slide"
    }
   },
   "source": [
    "### Errores de redondeo en variables tipo `float`\n",
    "Las **variables del tipo ```int```** no son divisibles y, por lo tanto, **no sufren errores de redondeo**:"
   ]
  },
  {
   "cell_type": "code",
   "execution_count": 16,
   "id": "eab7a5ff",
   "metadata": {
    "scrolled": true
   },
   "outputs": [
    {
     "data": {
      "text/plain": [
       "True"
      ]
     },
     "execution_count": 16,
     "metadata": {},
     "output_type": "execute_result"
    }
   ],
   "source": [
    "5 - 2 == 3"
   ]
  },
  {
   "cell_type": "markdown",
   "id": "ca6e9895",
   "metadata": {
    "slideshow": {
     "slide_type": "slide"
    }
   },
   "source": [
    "En cambio, una **variable del tipo ```float```** es divisible. Esto significa que existe una cantidad de dígitos significativos reservados para un número, lo que **puede inducir errores de redondeo**:"
   ]
  },
  {
   "cell_type": "code",
   "execution_count": 17,
   "id": "04c7c883",
   "metadata": {},
   "outputs": [
    {
     "data": {
      "text/plain": [
       "False"
      ]
     },
     "execution_count": 17,
     "metadata": {},
     "output_type": "execute_result"
    }
   ],
   "source": [
    "0.1 + 0.2 + 0.3 == 0.6"
   ]
  },
  {
   "cell_type": "markdown",
   "id": "eebe355a",
   "metadata": {
    "slideshow": {
     "slide_type": "fragment"
    }
   },
   "source": [
    "Para este tipo de operaciones es recomendable utilizar la función ```round```"
   ]
  },
  {
   "cell_type": "code",
   "execution_count": 18,
   "id": "3770c75b",
   "metadata": {},
   "outputs": [
    {
     "data": {
      "text/plain": [
       "True"
      ]
     },
     "execution_count": 18,
     "metadata": {},
     "output_type": "execute_result"
    }
   ],
   "source": [
    "round(0.1 + 0.2 + 0.3,1) == round(0.6,1) # redondeo al primer decimal"
   ]
  },
  {
   "cell_type": "markdown",
   "id": "ef783661",
   "metadata": {
    "slideshow": {
     "slide_type": "slide"
    }
   },
   "source": [
    "### Acumulación de errores de redondeo\n",
    "Cuando un código ejecuta una secuencia de operaciones, los errores de redondeo suelen amplificarse."
   ]
  },
  {
   "cell_type": "markdown",
   "id": "c62e5f49",
   "metadata": {
    "slideshow": {
     "slide_type": "fragment"
    }
   },
   "source": [
    "Si ejecutamos la siguiente operación una vez, notamos que el valor es correcto"
   ]
  },
  {
   "cell_type": "code",
   "execution_count": 19,
   "id": "cde06dea",
   "metadata": {
    "slideshow": {
     "slide_type": "-"
    }
   },
   "outputs": [
    {
     "data": {
      "text/plain": [
       "1.0"
      ]
     },
     "execution_count": 19,
     "metadata": {},
     "output_type": "execute_result"
    }
   ],
   "source": [
    "1 + 1/3 - 1/3"
   ]
  },
  {
   "cell_type": "markdown",
   "id": "39cdf77e",
   "metadata": {
    "slideshow": {
     "slide_type": "fragment"
    }
   },
   "source": [
    "Analicemos el efecto de errores de redondeo mediante la función `add_and_substract`."
   ]
  },
  {
   "cell_type": "code",
   "execution_count": 20,
   "id": "2ab68f06",
   "metadata": {
    "slideshow": {
     "slide_type": "-"
    }
   },
   "outputs": [],
   "source": [
    "def add_and_subtract(iterations):\n",
    "    result = 1\n",
    "    \n",
    "    for i in range(iterations):\n",
    "        result += 1/3\n",
    "\n",
    "    for i in range(iterations):\n",
    "        result -= 1/3\n",
    "    return result"
   ]
  },
  {
   "cell_type": "code",
   "execution_count": 21,
   "id": "c9afc4c7",
   "metadata": {
    "scrolled": true,
    "slideshow": {
     "slide_type": "slide"
    }
   },
   "outputs": [
    {
     "data": {
      "text/plain": [
       "1.0000000000000002"
      ]
     },
     "execution_count": 21,
     "metadata": {},
     "output_type": "execute_result"
    }
   ],
   "source": [
    "add_and_subtract(100) # Si ejecutamos esta operación 100 veces"
   ]
  },
  {
   "cell_type": "code",
   "execution_count": 22,
   "id": "31df9e86",
   "metadata": {},
   "outputs": [
    {
     "data": {
      "text/plain": [
       "1.0000000000000064"
      ]
     },
     "execution_count": 22,
     "metadata": {},
     "output_type": "execute_result"
    }
   ],
   "source": [
    "add_and_subtract(1000) # Si ejecutamos esta operación 1000 veces"
   ]
  },
  {
   "cell_type": "code",
   "execution_count": 23,
   "id": "6fe496cb",
   "metadata": {},
   "outputs": [
    {
     "data": {
      "text/plain": [
       "1.0000000000001166"
      ]
     },
     "execution_count": 23,
     "metadata": {},
     "output_type": "execute_result"
    }
   ],
   "source": [
    "add_and_subtract(10000) # Si ejecutamos esta operación 10000 veces"
   ]
  },
  {
   "cell_type": "markdown",
   "id": "d54de33c",
   "metadata": {
    "slideshow": {
     "slide_type": "slide"
    }
   },
   "source": [
    "## Error absoluto y relativo"
   ]
  },
  {
   "cell_type": "markdown",
   "id": "427cc34c",
   "metadata": {
    "slideshow": {
     "slide_type": "slide"
    }
   },
   "source": [
    "Como veremos a lo largo del curso, los métodos numéricos se basan en *aproximaciones* para representar funciones y operaciones complejas. Estas aproximaciones pueden producir dos tipos de errores:\n",
    "- Errores de truncamiento: debido al uso expresiones aproximadas del procedimiento matemático exacto\n",
    "- Errores de redondeo: debido a las limitaciones de representación numérica propias del computador"
   ]
  },
  {
   "cell_type": "markdown",
   "id": "db85e4c3",
   "metadata": {
    "slideshow": {
     "slide_type": "slide"
    }
   },
   "source": [
    "Para cuantificar el error utilizamos dos tipos de métricas"
   ]
  },
  {
   "cell_type": "markdown",
   "id": "6f66ee9e",
   "metadata": {
    "slideshow": {
     "slide_type": "fragment"
    }
   },
   "source": [
    "**Error absoluto** Corresponde al error neto de la propuesta numérica:\n",
    "\n",
    "\\begin{equation}\n",
    "E_\\mathrm{abs} = |\\mathrm{valor~aproximado} - \\mathrm{valor~exacto}|\n",
    "\\end{equation}"
   ]
  },
  {
   "cell_type": "markdown",
   "id": "d929b0de",
   "metadata": {
    "slideshow": {
     "slide_type": "fragment"
    }
   },
   "source": [
    "**Error relativo** Corresponde al error de la propuesta numérica respecto al valor exacto:\n",
    "\n",
    "\\begin{equation}\n",
    "E_\\mathrm{rel} = \\frac{|\\mathrm{valor~aproximado} - \\mathrm{valor~exacto}|}{|\\mathrm{valor~exacto}|}\n",
    "\\end{equation}"
   ]
  },
  {
   "cell_type": "markdown",
   "id": "d94aa61a",
   "metadata": {
    "slideshow": {
     "slide_type": "fragment"
    }
   },
   "source": [
    ">**Nota** A veces, el error relativo se representa como porcentaje"
   ]
  },
  {
   "cell_type": "markdown",
   "id": "fdf55f47",
   "metadata": {},
   "source": [
    "Comúnmente, los métodos numéricos se basan en procesos iterativos donde una solución $x^k$ es mejorada en la iteración siguiente $x^{k+1}$. En el caso que la solución exacta no se conozca (caso más común), calculamos los errores como"
   ]
  },
  {
   "cell_type": "markdown",
   "id": "e6635647",
   "metadata": {
    "slideshow": {
     "slide_type": "fragment"
    }
   },
   "source": [
    "- **Error absoluto** \n",
    "    \\begin{equation}\n",
    "    E_\\mathrm{abs} = |x^{k+1} - x^{k}|\n",
    "    \\end{equation}"
   ]
  },
  {
   "cell_type": "markdown",
   "id": "99d410b6",
   "metadata": {
    "slideshow": {
     "slide_type": "fragment"
    }
   },
   "source": [
    "- **Error relativo** \n",
    "    \\begin{equation}\n",
    "    E_\\mathrm{rel} = \\frac{|x^{k+1} - x^{k}|}{|x^{k+1}|}\n",
    "    \\end{equation}"
   ]
  },
  {
   "cell_type": "markdown",
   "id": "e35e3393",
   "metadata": {
    "slideshow": {
     "slide_type": "slide"
    }
   },
   "source": [
    "## Documentación de funciones en python"
   ]
  },
  {
   "cell_type": "markdown",
   "id": "b0db5dc8",
   "metadata": {
    "slideshow": {
     "slide_type": "-"
    }
   },
   "source": [
    "En python existen múltiples liberías, cada una con un propósito en específico. En este curso, trabajaremos con:\n",
    "- `numpy`: Esencial para operaciones matemáticas con arreglos de elementos\n",
    "- `pandas`: Útil para manejo de base de datos\n",
    "- `matplotlib`: Herramientas para visualización de datos. En este curso utilizaremos particularmente el módulo `matplotlib.pyplot`.\n",
    "- `scipy`: Funciones avanzadas para ciencia e ingeniería"
   ]
  },
  {
   "cell_type": "markdown",
   "id": "f9aed4ec",
   "metadata": {
    "slideshow": {
     "slide_type": "fragment"
    }
   },
   "source": [
    "A lo largo del curso iremos revisando las principales funciones de cada librería. En esta sección explicaremos como entender como acceder a la documentación oficial de cada función, y como interpretarla."
   ]
  },
  {
   "cell_type": "markdown",
   "id": "9a7385fb",
   "metadata": {
    "slideshow": {
     "slide_type": "slide"
    }
   },
   "source": [
    "Para revisar la documentación de una función tenemos varias alternativas. Las más recomendadas son:\n",
    "- Documentación oficial en línea\n",
    "- Función `help`\n",
    "- Caracter `?` al final de la función\n",
    "- Comando `shift + tab`"
   ]
  },
  {
   "cell_type": "markdown",
   "id": "b59c9738",
   "metadata": {
    "slideshow": {
     "slide_type": "fragment"
    }
   },
   "source": [
    ">**Nota.** Por defecto, la documentación en línea está en base a la **última versión de la librería**. Es posible, sin embargo, encontrar la documentación para versiones anteriores."
   ]
  },
  {
   "cell_type": "markdown",
   "id": "ba02e1b3",
   "metadata": {
    "slideshow": {
     "slide_type": "slide"
    }
   },
   "source": [
    "Para verificar la versión de la librería que se está utilizando se debe usar el comando `library.__version__`, donde `library` corresponde a la librería en cuestión."
   ]
  },
  {
   "cell_type": "code",
   "execution_count": 24,
   "id": "3c4695c7",
   "metadata": {
    "slideshow": {
     "slide_type": "fragment"
    }
   },
   "outputs": [
    {
     "name": "stdout",
     "output_type": "stream",
     "text": [
      "versión de numpy: 1.26.4\n"
     ]
    }
   ],
   "source": [
    "import numpy as np\n",
    "print('versión de numpy: ' + np.__version__)"
   ]
  },
  {
   "cell_type": "code",
   "execution_count": 25,
   "id": "bb709d40",
   "metadata": {},
   "outputs": [
    {
     "name": "stdout",
     "output_type": "stream",
     "text": [
      "versión de matplotlib: 3.9.2\n"
     ]
    }
   ],
   "source": [
    "import matplotlib as mpl\n",
    "print('versión de matplotlib: ' + mpl.__version__)"
   ]
  },
  {
   "cell_type": "code",
   "execution_count": 26,
   "id": "c7178d90",
   "metadata": {},
   "outputs": [
    {
     "name": "stdout",
     "output_type": "stream",
     "text": [
      "versión de scipy: 1.11.0\n"
     ]
    }
   ],
   "source": [
    "import scipy as sp\n",
    "print('versión de scipy: ' + sp.__version__)"
   ]
  },
  {
   "cell_type": "markdown",
   "id": "df3e1bbc",
   "metadata": {
    "slideshow": {
     "slide_type": "slide"
    }
   },
   "source": [
    "### Documentación en línea"
   ]
  },
  {
   "cell_type": "markdown",
   "id": "28cd4b9b",
   "metadata": {
    "slideshow": {
     "slide_type": "fragment"
    }
   },
   "source": [
    "Como ejercicio, consideremos la documentación de la función `linspace` de la libería `numpy`. Esta función será utilizada frecuentemente en el curso, y permite generar un arreglo de números distribuidos entre dos límites establecidos."
   ]
  },
  {
   "cell_type": "code",
   "execution_count": 27,
   "id": "53540511",
   "metadata": {},
   "outputs": [
    {
     "data": {
      "text/plain": [
       "array([0. , 0.1, 0.2, 0.3, 0.4, 0.5, 0.6, 0.7, 0.8, 0.9, 1. ])"
      ]
     },
     "execution_count": 27,
     "metadata": {},
     "output_type": "execute_result"
    }
   ],
   "source": [
    "# generar un arreglo de 5 números entre 0 y 1\n",
    "np.linspace(0,1,11)"
   ]
  },
  {
   "cell_type": "markdown",
   "id": "cf5849eb",
   "metadata": {
    "slideshow": {
     "slide_type": "slide"
    }
   },
   "source": [
    "Acá podemos ver un extracto de la documentación en línea (para la información completa ver [acá](https://numpy.org/doc/stable/reference/generated/numpy.linspace.html))"
   ]
  },
  {
   "cell_type": "markdown",
   "id": "bb0959ad",
   "metadata": {},
   "source": [
    "<img src=\"./imagenes/linspace_online-doc.png\" width=\"800\" align= center>"
   ]
  },
  {
   "cell_type": "markdown",
   "id": "8052c9b1",
   "metadata": {
    "cell_style": "center",
    "slideshow": {
     "slide_type": "fragment"
    }
   },
   "source": [
    "Lo primero que vemos es el encabezado que muestra **todos los parámetros que necesita la función** (En este caso: `start`, `stop`, `num`, `endpoint`, `retstep`, `dtype` y `axis`). *La función esperará que todos los valores estén asignados, de lo contrario, arrojará un error.*"
   ]
  },
  {
   "cell_type": "markdown",
   "id": "b42e4987",
   "metadata": {
    "slideshow": {
     "slide_type": "fragment"
    }
   },
   "source": [
    "Luego, vemos parámetros con símbolo `=` (`num = 50`, por ejemplo). Esto indica que el parámetro **tiene un valor asignado por defecto**."
   ]
  },
  {
   "cell_type": "markdown",
   "id": "cec8dda4",
   "metadata": {
    "slideshow": {
     "slide_type": "slide"
    }
   },
   "source": [
    "**Los parámetros con valor por defecto pueden ser omitidos al llamar a una función**. En ese caso python asumirá el valor asignado por defecto:"
   ]
  },
  {
   "cell_type": "code",
   "execution_count": 28,
   "id": "77409f10",
   "metadata": {
    "cell_style": "center",
    "slideshow": {
     "slide_type": "fragment"
    }
   },
   "outputs": [
    {
     "data": {
      "text/plain": [
       "array([0.        , 0.02040816, 0.04081633, 0.06122449, 0.08163265,\n",
       "       0.10204082, 0.12244898, 0.14285714, 0.16326531, 0.18367347,\n",
       "       0.20408163, 0.2244898 , 0.24489796, 0.26530612, 0.28571429,\n",
       "       0.30612245, 0.32653061, 0.34693878, 0.36734694, 0.3877551 ,\n",
       "       0.40816327, 0.42857143, 0.44897959, 0.46938776, 0.48979592,\n",
       "       0.51020408, 0.53061224, 0.55102041, 0.57142857, 0.59183673,\n",
       "       0.6122449 , 0.63265306, 0.65306122, 0.67346939, 0.69387755,\n",
       "       0.71428571, 0.73469388, 0.75510204, 0.7755102 , 0.79591837,\n",
       "       0.81632653, 0.83673469, 0.85714286, 0.87755102, 0.89795918,\n",
       "       0.91836735, 0.93877551, 0.95918367, 0.97959184, 1.        ])"
      ]
     },
     "execution_count": 28,
     "metadata": {},
     "output_type": "execute_result"
    }
   ],
   "source": [
    "np.linspace(0,1)  # omitimos el parámetro \"num\""
   ]
  },
  {
   "cell_type": "markdown",
   "id": "43ddbc3d",
   "metadata": {
    "slideshow": {
     "slide_type": "fragment"
    }
   },
   "source": [
    "El resultado es un arreglo de números igualmente espaciados entre 0 y 1, con `num = 50`."
   ]
  },
  {
   "cell_type": "markdown",
   "id": "0fb1946c",
   "metadata": {
    "slideshow": {
     "slide_type": "slide"
    }
   },
   "source": [
    "Más abajo en la documentación, encontramos la descripción de cada parámetro. Notar que los valores con `=` están identificados como **opcional**.\n",
    "\n",
    "<img src=\"./imagenes/linspace_online-doc_parameter.png\" width=\"800\" align= center>"
   ]
  },
  {
   "cell_type": "markdown",
   "id": "02996559",
   "metadata": {
    "slideshow": {
     "slide_type": "fragment"
    }
   },
   "source": [
    "Algunos parámetros no están disponibles en todas las versiones de la librería. Es el caso de `axis` de la función`linspace`, el cual está disponible desde la versión 1.16.0. en adelante.\n",
    "\n",
    "<img src=\"./imagenes/linspace_online-doc_new-parameter.png\" width=\"800\" align= center>"
   ]
  },
  {
   "cell_type": "markdown",
   "id": "a6f82709",
   "metadata": {
    "slideshow": {
     "slide_type": "slide"
    }
   },
   "source": [
    "Por último, tenemos el *output* de la función en el encabezado \"**Return**\"\n",
    "\n",
    "<img src=\"./imagenes/linspace_online-doc_return.png\" width=\"800\" align= center>"
   ]
  },
  {
   "cell_type": "markdown",
   "id": "875e93df",
   "metadata": {
    "slideshow": {
     "slide_type": "fragment"
    }
   },
   "source": [
    "Acá, por ejemplo, la documentación indica que la función entregará dos *outputs*, donde el primero corresponde al arreglo y el segundo, al espaciamiento entre valores. El segundo *output* es opcional, condicionado a la variable `retstep = True` (`False` por defecto)."
   ]
  },
  {
   "cell_type": "code",
   "execution_count": 29,
   "id": "bbb7c757",
   "metadata": {
    "slideshow": {
     "slide_type": "fragment"
    }
   },
   "outputs": [
    {
     "name": "stdout",
     "output_type": "stream",
     "text": [
      "Arreglo generado:  [0.   0.25 0.5  0.75 1.  ]\n",
      "Espaciamiento:  0.25\n"
     ]
    }
   ],
   "source": [
    "vector, step = np.linspace(0,1,5,retstep=True)\n",
    "print('Arreglo generado: ', vector)\n",
    "print('Espaciamiento: ', step)"
   ]
  },
  {
   "cell_type": "markdown",
   "id": "08142b9e",
   "metadata": {
    "slideshow": {
     "slide_type": "slide"
    }
   },
   "source": [
    "En python también podemos llamar a la función indicando el nombre de los parámetros de entrada"
   ]
  },
  {
   "cell_type": "code",
   "execution_count": 30,
   "id": "8fc1a035",
   "metadata": {
    "slideshow": {
     "slide_type": "fragment"
    }
   },
   "outputs": [
    {
     "data": {
      "text/plain": [
       "array([0.  , 0.25, 0.5 , 0.75, 1.  ])"
      ]
     },
     "execution_count": 30,
     "metadata": {},
     "output_type": "execute_result"
    }
   ],
   "source": [
    "np.linspace(start=0, stop=1, num=5)"
   ]
  },
  {
   "cell_type": "markdown",
   "id": "20dff035",
   "metadata": {
    "slideshow": {
     "slide_type": "fragment"
    }
   },
   "source": [
    "Esta última forma es más conveniente para usuarios que no conocen la función, ya que permite identificar los parámetros de entrada"
   ]
  },
  {
   "cell_type": "markdown",
   "id": "f8c5b679",
   "metadata": {
    "slideshow": {
     "slide_type": "fragment"
    }
   },
   "source": [
    "De igual forma, podemos cambiar el orden de los argumentos usando este esquema:"
   ]
  },
  {
   "cell_type": "code",
   "execution_count": 31,
   "id": "798b8783",
   "metadata": {
    "slideshow": {
     "slide_type": "fragment"
    }
   },
   "outputs": [
    {
     "data": {
      "text/plain": [
       "array([0.  , 0.25, 0.5 , 0.75, 1.  ])"
      ]
     },
     "execution_count": 31,
     "metadata": {},
     "output_type": "execute_result"
    }
   ],
   "source": [
    "np.linspace(num=5, stop=1, start=0)"
   ]
  },
  {
   "cell_type": "markdown",
   "id": "1856fd8d",
   "metadata": {
    "slideshow": {
     "slide_type": "slide"
    }
   },
   "source": [
    "###  Comandos directos para acceder a la documentación"
   ]
  },
  {
   "cell_type": "markdown",
   "id": "330120f6",
   "metadata": {
    "slideshow": {
     "slide_type": "fragment"
    }
   },
   "source": [
    "La opción más directa es presionando `Shift + Tab` posicionando el cursor al final de la función. Este comando depende del *IDE* utilizado, pero funciona con *Jupyter Notebook*, *Visual Studio Code* y *Google colab*.\n",
    "\n",
    "<img src=\"./imagenes/shift+tab.png\" width=\"800\" align= center>"
   ]
  },
  {
   "cell_type": "markdown",
   "id": "2258fabc",
   "metadata": {
    "slideshow": {
     "slide_type": "fragment"
    }
   },
   "source": [
    "Otra alternativa es con el comando `?` o con la función `help`\n",
    "```python\n",
    "np.linspace?\n",
    "help(np.linspace)\n",
    "```"
   ]
  },
  {
   "cell_type": "markdown",
   "id": "33d3b1b6",
   "metadata": {
    "slideshow": {
     "slide_type": "slide"
    }
   },
   "source": [
    "## Referencias\n",
    "Kong Q., Siauw T., Bayen A. M. “[Python Programming and Numerical Methods – A Guide for Engineers and Scientists](https://pythonnumericalmethods.berkeley.edu/notebooks/Index.html)”, 1st Ed., Academic Press, 2021\n",
    "- Chapter 8. Complexity\n",
    "- Chapter 9. Representation of numbers\n",
    "- Calítulo 10. Errors, Good Programming Practices, and Debugging"
   ]
  }
 ],
 "metadata": {
  "celltoolbar": "Slideshow",
  "kernelspec": {
   "display_name": "Python 3 (ipykernel)",
   "language": "python",
   "name": "python3"
  },
  "language_info": {
   "codemirror_mode": {
    "name": "ipython",
    "version": 3
   },
   "file_extension": ".py",
   "mimetype": "text/x-python",
   "name": "python",
   "nbconvert_exporter": "python",
   "pygments_lexer": "ipython3",
   "version": "3.11.6"
  },
  "latex_envs": {
   "LaTeX_envs_menu_present": true,
   "autoclose": false,
   "autocomplete": true,
   "bibliofile": "biblio.bib",
   "cite_by": "apalike",
   "current_citInitial": 1,
   "eqLabelWithNumbers": true,
   "eqNumInitial": 1,
   "hotkeys": {
    "equation": "Ctrl-E",
    "itemize": "Ctrl-I"
   },
   "labels_anchors": false,
   "latex_user_defs": false,
   "report_style_numbering": false,
   "user_envs_cfg": false
  },
  "rise": {
   "height": "100%",
   "theme": "simple",
   "width": "100%"
  },
  "toc": {
   "base_numbering": "",
   "nav_menu": {},
   "number_sections": false,
   "sideBar": true,
   "skip_h1_title": true,
   "title_cell": "Contenidos",
   "title_sidebar": "Contenidos",
   "toc_cell": false,
   "toc_position": {
    "height": "calc(100% - 180px)",
    "left": "10px",
    "top": "150px",
    "width": "303.833px"
   },
   "toc_section_display": true,
   "toc_window_display": false
  },
  "varInspector": {
   "cols": {
    "lenName": 16,
    "lenType": 16,
    "lenVar": 40
   },
   "kernels_config": {
    "python": {
     "delete_cmd_postfix": "",
     "delete_cmd_prefix": "del ",
     "library": "var_list.py",
     "varRefreshCmd": "print(var_dic_list())"
    },
    "r": {
     "delete_cmd_postfix": ") ",
     "delete_cmd_prefix": "rm(",
     "library": "var_list.r",
     "varRefreshCmd": "cat(var_dic_list()) "
    }
   },
   "types_to_exclude": [
    "module",
    "function",
    "builtin_function_or_method",
    "instance",
    "_Feature"
   ],
   "window_display": false
  }
 },
 "nbformat": 4,
 "nbformat_minor": 5
}
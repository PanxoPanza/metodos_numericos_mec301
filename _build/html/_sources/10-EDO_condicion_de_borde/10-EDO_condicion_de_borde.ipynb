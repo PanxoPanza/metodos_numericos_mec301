{
 "cells": [
  {
   "cell_type": "markdown",
   "id": "6d47d103",
   "metadata": {
    "cell_style": "center",
    "slideshow": {
     "slide_type": "slide"
    }
   },
   "source": [
    "<font size=\"6\">MEC301 - Métodos Numéricos</font>\n",
    "# Ecuaciones Diferenciales Ordinarias con Condiciones de Borde\n",
    "<br><br><br><br>\n",
    "Profesor: Francisco Ramírez Cuevas<br>\n",
    "Fecha: 12 de noviembre 2022"
   ]
  },
  {
   "cell_type": "markdown",
   "id": "07ce8d9e",
   "metadata": {
    "slideshow": {
     "slide_type": "slide"
    }
   },
   "source": [
    "## Introducción\n"
   ]
  },
  {
   "cell_type": "markdown",
   "id": "92acc690",
   "metadata": {
    "slideshow": {
     "slide_type": "fragment"
    }
   },
   "source": [
    "\n",
    "\n",
    "En la unidad anterior nos enfocamos en ecuación diferenciales ordinarias condionadas por valores iniciales."
   ]
  },
  {
   "cell_type": "markdown",
   "id": "4e5fdbe3",
   "metadata": {
    "cell_style": "center",
    "slideshow": {
     "slide_type": "fragment"
    }
   },
   "source": [
    "Repasando la ecuación del péndulo:\n",
    "\n",
    "**Ecuación gobernante**\n",
    "\n",
    "\\begin{equation*}\n",
    "ml\\frac{d^2}{dt^2}\\Theta(t) + \\kappa\\frac{d}{dt}\\Theta(t) + mg \\sin \\Theta(t) = 0\n",
    "\\end{equation*}\n",
    "\n",
    "**Condiciones iniciales**\n",
    "\\begin{align*}\n",
    "\\dot{\\Theta}(t = 0) &= 0 \\\\\n",
    "\\Theta(t = 0) &= \\Theta_0\n",
    "\\end{align*}"
   ]
  },
  {
   "cell_type": "markdown",
   "id": "c6e8323a",
   "metadata": {
    "cell_style": "center",
    "slideshow": {
     "slide_type": "slide"
    }
   },
   "source": [
    "Ahora, supontagamos que en el problema del péndulo conocemos el ángulo en $t = 0$, y en un tiempo $t = t_1$, tal que $\\Theta(t_1) = \\Theta_1$. "
   ]
  },
  {
   "cell_type": "markdown",
   "id": "0b0dcf0c",
   "metadata": {
    "cell_style": "center",
    "slideshow": {
     "slide_type": "fragment"
    }
   },
   "source": [
    "En este caso, la EDO está condicionada por **condiciones de borde**, en la forma\n"
   ]
  },
  {
   "cell_type": "markdown",
   "id": "7d0b90d0",
   "metadata": {
    "cell_style": "center",
    "slideshow": {
     "slide_type": "fragment"
    }
   },
   "source": [
    "**Ecuación gobernante**\n",
    "\n",
    "\\begin{equation*}\n",
    "ml\\frac{d^2}{dt^2}\\Theta(t) + \\kappa\\frac{d}{dt}\\Theta(t) + mg \\sin \\Theta(t) = 0\n",
    "\\end{equation*}\n",
    "\n",
    "**Condiciones de borde**\n",
    "\\begin{align*}\n",
    "\\Theta(t = 0) &= \\Theta_0 \\\\\n",
    "\\Theta(t = t_1) &= \\Theta_1\n",
    "\\end{align*}"
   ]
  },
  {
   "cell_type": "markdown",
   "id": "07f89680",
   "metadata": {
    "slideshow": {
     "slide_type": "slide"
    }
   },
   "source": [
    "Una condición de borde, así se define como el *condicionamiento de una solución en valores extremos*"
   ]
  },
  {
   "cell_type": "markdown",
   "id": "ab042d59",
   "metadata": {
    "slideshow": {
     "slide_type": "fragment"
    }
   },
   "source": [
    "Aunque en el ejemplo anterior consideramos la variable tiempo, los problemas de condiciones de borde son normalmente aplicados para variables espaciales."
   ]
  },
  {
   "cell_type": "markdown",
   "id": "d93b2849",
   "metadata": {
    "cell_style": "center",
    "slideshow": {
     "slide_type": "slide"
    }
   },
   "source": [
    "Por ejemplo, consideremos el problema de una barra de largo $L$, con temperatura constante en los extremos izquierdo y derecho $T_a$ y $T_b$, respectivamente, y expuesta a pérdidas de calor por convección y radiación."
   ]
  },
  {
   "cell_type": "markdown",
   "id": "41aaf247",
   "metadata": {
    "cell_style": "split"
   },
   "source": [
    "<img src=\"./images/heated_bar.png\" width=\"400px\" align= center>"
   ]
  },
  {
   "cell_type": "markdown",
   "id": "159dec8b",
   "metadata": {
    "cell_style": "split",
    "slideshow": {
     "slide_type": "fragment"
    }
   },
   "source": [
    "La ecuación que describe la distribución de temperaturas en el eje axial está definida por:\n",
    "\n",
    "\\begin{equation*}\n",
    "\\frac{d^2T}{dx^2} + h'(T_\\infty - T) + \\sigma'(T_\\infty^4 - T^4) = 0\n",
    "\\end{equation*}\n",
    "\n",
    "donde $h'$ y $\\sigma'$ son coeficientes de transferencia de calor por convección y radiación, respectivamente."
   ]
  },
  {
   "cell_type": "markdown",
   "id": "2081b982",
   "metadata": {
    "cell_style": "center",
    "slideshow": {
     "slide_type": "fragment"
    }
   },
   "source": [
    "y las condiciones de borde son:\n",
    "\\begin{align*}\n",
    "T(0) &= T_a\\\\\n",
    "T(L) &= T_b\n",
    "\\end{align*}"
   ]
  },
  {
   "cell_type": "markdown",
   "id": "23454def",
   "metadata": {
    "slideshow": {
     "slide_type": "slide"
    }
   },
   "source": [
    "El modelo respresenta una **EDO no lineal con condiciones de borde**."
   ]
  },
  {
   "cell_type": "markdown",
   "id": "34c4f68c",
   "metadata": {
    "slideshow": {
     "slide_type": "fragment"
    }
   },
   "source": [
    "En esta unidad revisaremos dos métodos para resolver este tipo de problemas:\n",
    "\n",
    "- Método del disparo\n",
    "- Método de diferencias finitas"
   ]
  },
  {
   "cell_type": "markdown",
   "id": "c6abbbf2",
   "metadata": {
    "slideshow": {
     "slide_type": "slide"
    }
   },
   "source": [
    "## El método de disparo\n",
    "\n",
    "El método del disparo consiste en transformar una EDO con condiciones de borde a una EDO de valor inicial. Mediante un proceso iterativo, el método busca una solución al problema de valores iniciales que satisfaga la condiciones de bordes."
   ]
  },
  {
   "cell_type": "markdown",
   "id": "67ad643e",
   "metadata": {
    "slideshow": {
     "slide_type": "slide"
    }
   },
   "source": [
    "Para ilustrar este método, consideremos el problema de la barra con enfriamiento."
   ]
  },
  {
   "cell_type": "markdown",
   "id": "5ba63872",
   "metadata": {
    "cell_style": "split",
    "slideshow": {
     "slide_type": "fragment"
    }
   },
   "source": [
    "Podemos transformar este problema en un problema de valor inicial de la forma:\n",
    "\n",
    "\\begin{align*}\n",
    "\\frac{dT}{dx} &= z \\\\\n",
    "\\frac{dz}{dx} &= - h'(T_\\infty - T) - \\sigma'(T_\\infty^4 - T^4)\n",
    "\\end{align*}"
   ]
  },
  {
   "cell_type": "markdown",
   "id": "e46f77a3",
   "metadata": {
    "cell_style": "split",
    "slideshow": {
     "slide_type": "fragment"
    }
   },
   "source": [
    "Con condiciones iniciales:\n",
    "\n",
    "\\begin{align*}\n",
    "T(0) &= T_a \\\\\n",
    "z(0) &= z_a\n",
    "\\end{align*}"
   ]
  },
  {
   "cell_type": "markdown",
   "id": "c394e0a3",
   "metadata": {
    "slideshow": {
     "slide_type": "fragment"
    }
   },
   "source": [
    "Si conocieramos el valor de $T_a$ y $z_a$, podríamos resolver el problema como una EDO con valor inicial. Sin embargo, el valor de $z_a$ es desconocido."
   ]
  },
  {
   "cell_type": "markdown",
   "id": "4587ccdc",
   "metadata": {
    "slideshow": {
     "slide_type": "fragment"
    }
   },
   "source": [
    "El método del disparo, así, consiste en iterar sobre el valor de $z_a$, resolviendo el problema como una EDO de valor inicial, hasta que $T(L) = T_b$."
   ]
  },
  {
   "cell_type": "markdown",
   "id": "c20bd099",
   "metadata": {
    "slideshow": {
     "slide_type": "slide"
    }
   },
   "source": [
    "Ilustrativamente, esto es similar a ajustar el ángulo de inclinación de un cañón (o la pendiente a través de $z_a$), hasta que la trayectoria del disparo coincida con el valor la segunda condición de borde."
   ]
  },
  {
   "cell_type": "markdown",
   "id": "a0f249d0",
   "metadata": {},
   "source": [
    "<img src=\"./images/shooting_method.png\" width=\"400px\" align= center>"
   ]
  },
  {
   "cell_type": "markdown",
   "id": "78791de8",
   "metadata": {
    "slideshow": {
     "slide_type": "slide"
    }
   },
   "source": [
    "Analicemos esto con el problema de la barra en enfriamiento, y los valores:\n",
    " - $L = 10$ m\n",
    " - $h' = 0.05$ m$^{-2}$\n",
    " - $\\sigma' =  2.7\\times 10^{-9}$ K$^{-3}$ m$^{-2}$,  \n",
    " - $T_\\infty = 200~\\mathrm{K}$, \n",
    " - $T_a = 300~\\mathrm{K}$\n",
    " - $T_b = 400~\\mathrm{K}$"
   ]
  },
  {
   "cell_type": "markdown",
   "id": "87b17e33",
   "metadata": {
    "slideshow": {
     "slide_type": "fragment"
    }
   },
   "source": [
    "Si escribimos la EDO con valor inicial de la forma $\\vec{y} = \\vec{F}(t,\\vec{y})$, tenemos:\n",
    "\n",
    "\\begin{equation*}\n",
    "\\vec{y} = \\Bigg\\{\\begin{matrix}\n",
    "T \\\\\n",
    "z\n",
    "\\end{matrix}\\Bigg\\};\n",
    "\\quad\\quad\n",
    "\\vec{F} = \\Bigg\\{\\begin{matrix}\n",
    "z \\\\\n",
    "- h'(T_\\infty - T) - \\sigma'(T_\\infty^4 - T^4)\n",
    "\\end{matrix}\\Bigg\\};\\quad\\quad \\vec{y}_0 = \\Bigg\\{\\begin{matrix}\n",
    "T_a \\\\\n",
    "z_a\n",
    "\\end{matrix}\\Bigg\\}\n",
    "\\end{equation*}\n",
    "\n",
    "donde $t = x$."
   ]
  },
  {
   "cell_type": "markdown",
   "id": "244a580a",
   "metadata": {
    "slideshow": {
     "slide_type": "slide"
    }
   },
   "source": [
    "Resolveremos este problema para distintos valores de $z_a$."
   ]
  },
  {
   "cell_type": "code",
   "execution_count": 1,
   "id": "2e5dd163",
   "metadata": {
    "cell_style": "center",
    "slideshow": {
     "slide_type": "fragment"
    }
   },
   "outputs": [],
   "source": [
    "from scipy.integrate import solve_ivp\n",
    "import matplotlib.pyplot as plt\n",
    "import numpy as np\n",
    "\n",
    "# Definimos las constantes\n",
    "h   = 0.05   # coeficiente convectivo (m^-2)\n",
    "S   = 2.7E-9 # coeficiente radiativo (K^-3 m^-2)\n",
    "Too = 200    # Temperatura del exterior (K)\n",
    "Ta  = 300    # Temperatura extremo izquierdo (K)\n",
    "Tb  = 400    # Temperatura extremo derecho (K)\n",
    "L   = 10     # Largo de la barra (m)\n",
    "\n",
    "# Declaramos F con y[0] = T, y[1] = z\n",
    "F = lambda t,y: [y[1], \n",
    "                - h*(Too - y[0]) - S*(Too**4 - y[0]**4)]"
   ]
  },
  {
   "cell_type": "code",
   "execution_count": 2,
   "id": "ab635846",
   "metadata": {
    "cell_style": "center",
    "slideshow": {
     "slide_type": "slide"
    }
   },
   "outputs": [
    {
     "data": {
      "image/png": "[encoded data removed]",
      "text/plain": [
       "<Figure size 720x360 with 1 Axes>"
      ]
     },
     "metadata": {
      "needs_background": "light"
     },
     "output_type": "display_data"
    }
   ],
   "source": [
    "fig, ax = plt.subplots(figsize=(10,5))\n",
    "plt.rcParams.update({'font.size': 18}) # Tamaño de fuente\n",
    "\n",
    "plt.plot(L,Tb,'or')\n",
    "# Resolvemos la ecuación para distintos valores de za\n",
    "for za in [-40, -45]:\n",
    "    sol = solve_ivp(F,t_span = [0,L], y0 = [Ta, za])\n",
    "    ax.plot(sol.t,sol.y[0],':',label=r'$z_a = %.0f$ K/m' % za)\n",
    "\n",
    "ax.set_xlabel('Posicion de la barra, $x$ (m)')\n",
    "ax.set_ylabel('Temperatura en la barra, $T$ (K)')\n",
    "ax.legend(frameon=False)\n",
    "plt.show()"
   ]
  },
  {
   "cell_type": "markdown",
   "id": "fa156462",
   "metadata": {
    "slideshow": {
     "slide_type": "slide"
    }
   },
   "source": [
    "¿Cómo podemos adivinar el valor de $z_a$ correcto?"
   ]
  },
  {
   "cell_type": "markdown",
   "id": "7fa29c63",
   "metadata": {
    "slideshow": {
     "slide_type": "fragment"
    }
   },
   "source": [
    "Cláramente, el método gráfico nos ayuda a acercarnos a la solución. Por ejemplo, notamos ahora que el valor de $z_a$ está acotado entre $z_a\\in[-40, -45]$ K/m. Asi, una alternativa sería utilizar interpolación lineal basado en estos dos primeras estimaciones."
   ]
  },
  {
   "cell_type": "markdown",
   "id": "9e725a05",
   "metadata": {
    "slideshow": {
     "slide_type": "fragment"
    }
   },
   "source": [
    "Sin embargo, este método aún podría entregar resultados inexactos dado que la EDO es del tipo no-lineal."
   ]
  },
  {
   "cell_type": "markdown",
   "id": "0e2f3c52",
   "metadata": {
    "slideshow": {
     "slide_type": "slide"
    }
   },
   "source": [
    "Una forma más genérica de resolver este problema en un computador es utilizando métodos de búsqueda de raices."
   ]
  },
  {
   "cell_type": "markdown",
   "id": "1c9867b7",
   "metadata": {
    "slideshow": {
     "slide_type": "fragment"
    }
   },
   "source": [
    "Primero, debemos entender que resolver nuesta EDO con valor inicial y evaluarla en $x = L$, es equivalente a tener una función $T_{x=L}(z_a)$."
   ]
  },
  {
   "cell_type": "markdown",
   "id": "ccc5684a",
   "metadata": {
    "slideshow": {
     "slide_type": "fragment"
    }
   },
   "source": [
    "Así, el objetivo es encontrar la raíz de la función $f(z_a) = T_{x=L}(z_a) - T_b$"
   ]
  },
  {
   "cell_type": "markdown",
   "id": "44103301",
   "metadata": {
    "slideshow": {
     "slide_type": "slide"
    }
   },
   "source": [
    "Implementemos esta solución mediante con el ejemplo anterior."
   ]
  },
  {
   "cell_type": "code",
   "execution_count": 3,
   "id": "431b3140",
   "metadata": {
    "slideshow": {
     "slide_type": "fragment"
    }
   },
   "outputs": [
    {
     "name": "stdout",
     "output_type": "stream",
     "text": [
      "El valor de za es: -41.735 K/m\n"
     ]
    },
    {
     "name": "stderr",
     "output_type": "stream",
     "text": [
      "/home/panxopanza/programs/miniconda3/lib/python3.9/site-packages/scipy/integrate/_ivp/base.py:6: VisibleDeprecationWarning: Creating an ndarray from ragged nested sequences (which is a list-or-tuple of lists-or-tuples-or ndarrays with different lengths or shapes) is deprecated. If you meant to do this, you must specify 'dtype=object' when creating the ndarray.\n",
      "  y0 = np.asarray(y0)\n",
      "/home/panxopanza/programs/miniconda3/lib/python3.9/site-packages/numpy/core/shape_base.py:121: VisibleDeprecationWarning: Creating an ndarray from ragged nested sequences (which is a list-or-tuple of lists-or-tuples-or ndarrays with different lengths or shapes) is deprecated. If you meant to do this, you must specify 'dtype=object' when creating the ndarray.\n",
      "  ary = asanyarray(ary)\n"
     ]
    }
   ],
   "source": [
    "from scipy.optimize import fsolve\n",
    "\n",
    "# Declaramos la función objetivo, f(za)\n",
    "def fobjective(za):\n",
    "    sol = solve_ivp(F,t_span = [0,L], y0 = [Ta, za])\n",
    "    T = sol.y[0]      # distribución de temperaturas en la barra\n",
    "    return T[-1] - Tb # retornamos T(x = L) - Tb\n",
    "\n",
    "# Buscamos la raiz de f(za) - Tb\n",
    "za_sol = fsolve(fobjective, x0 = -45)\n",
    "print('El valor de za es: %.3f K/m' % za_sol)"
   ]
  },
  {
   "cell_type": "code",
   "execution_count": 4,
   "id": "53a1ba89",
   "metadata": {
    "slideshow": {
     "slide_type": "slide"
    }
   },
   "outputs": [
    {
     "data": {
      "image/png": "[encoded data removed]",
      "text/plain": [
       "<Figure size 720x360 with 1 Axes>"
      ]
     },
     "metadata": {
      "needs_background": "light"
     },
     "output_type": "display_data"
    }
   ],
   "source": [
    "fig, ax = plt.subplots(figsize=(10,5))\n",
    "plt.rcParams.update({'font.size': 18}) # Tamaño de fuente\n",
    "\n",
    "x_range = np.linspace(0,L,20)  # rango de valores para evaluar T(x)\n",
    "\n",
    "sol = solve_ivp(F,t_span = [0,L], t_eval = x_range, y0 = [Ta, za_sol])\n",
    "ax.plot(sol.t,sol.y[0],':x',label=r'$z_a = %.3f$ K/m' % za_sol)\n",
    "plt.plot(L,Tb,'or')\n",
    "\n",
    "ax.set_xlabel('Posicion de la barra, $x$ (m)')\n",
    "ax.set_ylabel('Temperatura en la barra, $T$ (K)')\n",
    "ax.legend(frameon=False)\n",
    "plt.show()"
   ]
  },
  {
   "cell_type": "markdown",
   "id": "34e28cde",
   "metadata": {
    "slideshow": {
     "slide_type": "slide"
    }
   },
   "source": [
    "La condición de borde $T(L) = T_b$, o *condición de borde de Dirichlet.* Es una de muchos tipos de condiciones de borde que se utilizan en ingeniería y ciencias."
   ]
  },
  {
   "cell_type": "markdown",
   "id": "becb4256",
   "metadata": {
    "slideshow": {
     "slide_type": "fragment"
    }
   },
   "source": [
    "A veces, las condiciones de borde están definidas en función de derivadas."
   ]
  },
  {
   "cell_type": "markdown",
   "id": "29643f04",
   "metadata": {
    "slideshow": {
     "slide_type": "slide"
    }
   },
   "source": [
    "Por ejemplo, respecto al problema de la barra, es común definir una condición de borde convectiva, o *condición de borde de Neumann:*\n",
    "\n",
    "\\begin{equation*}\n",
    "\\frac{dT}{dx}\\Big|_{x=L} = h^*\\left[ T_\\infty - T(L)\\right]\n",
    "\\end{equation*}"
   ]
  },
  {
   "cell_type": "markdown",
   "id": "fde1448c",
   "metadata": {
    "cell_style": "split",
    "slideshow": {
     "slide_type": "fragment"
    }
   },
   "source": [
    "<img src=\"./images/heated_bar_convective_end.png\" width=\"500px\" align= center>"
   ]
  },
  {
   "cell_type": "markdown",
   "id": "87260116",
   "metadata": {
    "cell_style": "split",
    "slideshow": {
     "slide_type": "fragment"
    }
   },
   "source": [
    "Para este tipo de problemas, todo lo que debemos hacer es modificar nuestra función objetivo."
   ]
  },
  {
   "cell_type": "markdown",
   "id": "25398beb",
   "metadata": {
    "cell_style": "split",
    "slideshow": {
     "slide_type": "fragment"
    }
   },
   "source": [
    "Revisemos esto en un código para $h^* = 0.005$ m$^{-1}$"
   ]
  },
  {
   "cell_type": "code",
   "execution_count": 5,
   "id": "08485066",
   "metadata": {
    "slideshow": {
     "slide_type": "slide"
    }
   },
   "outputs": [
    {
     "name": "stdout",
     "output_type": "stream",
     "text": [
      "El valor de za es: -43.720 K/m\n"
     ]
    }
   ],
   "source": [
    "from scipy.optimize import fsolve\n",
    "\n",
    "hstar = 0.005\n",
    "\n",
    "# Declaramos la función objetivo, f(za) con condición de Neumann\n",
    "def fobjective(za):\n",
    "    sol = solve_ivp(F,t_span = [0,L], y0 = [Ta, za])\n",
    "    T    = sol.y[0]                       # distribución de temperaturas en la barra\n",
    "    dTdx = sol.y[1]                       # distribución de dTdx en la barra\n",
    "    return dTdx[-1] - hstar*(Too - T[-1]) # retornamos dTdx|(x=L) - h(Too - T(L))\n",
    "\n",
    "# Buscamos la raiz de f(za) - Tb\n",
    "za_sol = fsolve(fobjective, x0 = -45)\n",
    "print('El valor de za es: %.3f K/m' % za_sol)"
   ]
  },
  {
   "cell_type": "code",
   "execution_count": 6,
   "id": "4335f58c",
   "metadata": {
    "slideshow": {
     "slide_type": "slide"
    }
   },
   "outputs": [
    {
     "data": {
      "image/png": "[encoded data removed]",
      "text/plain": [
       "<Figure size 720x360 with 1 Axes>"
      ]
     },
     "metadata": {
      "needs_background": "light"
     },
     "output_type": "display_data"
    }
   ],
   "source": [
    "fig, ax = plt.subplots(figsize=(10,5))\n",
    "plt.rcParams.update({'font.size': 18}) # Tamaño de fuente\n",
    "\n",
    "x_range = np.linspace(0,L,20)  # rango de valores para evaluar T(x)\n",
    "\n",
    "sol = solve_ivp(F,t_span = [0,L], t_eval = x_range, y0 = [Ta, za_sol])\n",
    "ax.plot(sol.t,sol.y[0],':x',label=r'$z_a = %.3f$ K/m' % za_sol)\n",
    "\n",
    "ax.set_xlabel('Posicion de la barra, $x$ (m)')\n",
    "ax.set_ylabel('Temperatura en la barra, $T$ (K)')\n",
    "ax.legend(frameon=False)\n",
    "plt.show()"
   ]
  },
  {
   "cell_type": "markdown",
   "id": "49c2b624",
   "metadata": {
    "cell_style": "center",
    "slideshow": {
     "slide_type": "slide"
    }
   },
   "source": [
    "## El método de diferencias finitas"
   ]
  },
  {
   "cell_type": "markdown",
   "id": "f79b667b",
   "metadata": {
    "slideshow": {
     "slide_type": "fragment"
    }
   },
   "source": [
    "La alternativa más común para resolver EDOs con condiciones de borde es mediante diferencias finitas. Esto consiste en discretizar la ecuación diferencial utilizando las fórmulas de la [unidad 8](https://panxopanza.github.io/metodos_numericos_mec301/8-Derivacion_numerica/8-Derivacion_numerica.html#)."
   ]
  },
  {
   "cell_type": "markdown",
   "id": "01cace97",
   "metadata": {
    "cell_style": "center",
    "slideshow": {
     "slide_type": "fragment"
    }
   },
   "source": [
    "Revisemos esto con el problema de la barra. Ahora, únicamente, considerando pérdidas de calor por convección."
   ]
  },
  {
   "cell_type": "markdown",
   "id": "1de51c38",
   "metadata": {
    "cell_style": "split",
    "slideshow": {
     "slide_type": "fragment"
    }
   },
   "source": [
    "<img src=\"./images/heated_bar_convection_losses.png\" width=\"400px\" align= center>"
   ]
  },
  {
   "cell_type": "markdown",
   "id": "633f12c3",
   "metadata": {
    "cell_style": "split"
   },
   "source": [
    "En este caso **la EDO es del tipo lineal**:\n",
    "\n",
    "\\begin{equation*}\n",
    "\\frac{d^2T}{dx^2} + h'(T_\\infty - T) = 0\n",
    "\\end{equation*}\n",
    "\n",
    "\\begin{align*}\n",
    "T(0) &= T_a\\\\\n",
    "T(L) &= T_b\n",
    "\\end{align*}"
   ]
  },
  {
   "cell_type": "markdown",
   "id": "0af03c63",
   "metadata": {
    "slideshow": {
     "slide_type": "slide"
    }
   },
   "source": [
    "El primer paso consiste en discretizar el dominio en una série de nodos."
   ]
  },
  {
   "cell_type": "markdown",
   "id": "364a07ff",
   "metadata": {
    "cell_style": "split",
    "slideshow": {
     "slide_type": "fragment"
    }
   },
   "source": [
    "<img src=\"./images/discretized_bar.png\" width=\"500px\" align= center>"
   ]
  },
  {
   "cell_type": "markdown",
   "id": "fca9a4e7",
   "metadata": {
    "cell_style": "split",
    "slideshow": {
     "slide_type": "fragment"
    }
   },
   "source": [
    "Luego, aplicamos una fórmula de diferencias finitas en cada nodo. Por ejemplo, usando diferencia central tenemos:\n",
    "\n",
    "\\begin{equation*}\n",
    "\\frac{T_{i - 1}- 2T_i +T_{i + 1}}{\\Delta x^2} + h'(T_\\infty - T_i) = 0\n",
    "\\end{equation*}"
   ]
  },
  {
   "cell_type": "markdown",
   "id": "b99b5a73",
   "metadata": {
    "slideshow": {
     "slide_type": "fragment"
    }
   },
   "source": [
    "Reordenando los términos tenemos:\n",
    "\n",
    "\\begin{equation*}\n",
    "- T_{i - 1}+ (2 + h'\\Delta x^2)T_i  - T_{i + 1} =  h'\\Delta x^2 T_\\infty\n",
    "\\end{equation*}"
   ]
  },
  {
   "cell_type": "markdown",
   "id": "78351d38",
   "metadata": {
    "slideshow": {
     "slide_type": "fragment"
    }
   },
   "source": [
    "Podemos desarrollar esta expresión para cada nodo interior ($i = 1,\\cdots, n-1$). Los valores de los nodos extremos están dados por las condiciones de borde $T_0 = T_a$, $T_n = T_b$."
   ]
  },
  {
   "cell_type": "markdown",
   "id": "87c80b0f",
   "metadata": {
    "slideshow": {
     "slide_type": "slide"
    }
   },
   "source": [
    "El resultado nos entrega un sistema de ecuaciones lineales $Ax = b$, de la forma:\n",
    "\n",
    "\\begin{equation*}\n",
    "\\begin{bmatrix}\n",
    "(2 + h'\\Delta x^2) & -1 & & & \\\\\n",
    "-1 & (2 + h'\\Delta x^2) & -1 & &  \\\\\n",
    " & \\ddots & \\ddots & \\ddots & \\\\\n",
    " & & -1& (2 + h'\\Delta x^2)& -1 \\\\\n",
    " & & -1 & & (2 + h'\\Delta x^2)\n",
    "\\end{bmatrix}\\left[\\begin{array}{c} T_1 \\\\T_2 \\\\ \\vdots \\\\ T_{n-2} \\\\ T_{n-1} \\end{array}\\right] =\n",
    "\\left[\\begin{array}{c} T_0 + h'\\Delta x^2 T_\\infty \\\\h'\\Delta x^2 T_\\infty \\\\ \\vdots \\\\h'\\Delta x^2 T_\\infty \\\\ T_n + h'\\Delta x^2 T_\\infty\\end{array}\\right]\n",
    "\\end{equation*}"
   ]
  },
  {
   "cell_type": "markdown",
   "id": "9bfc9fdf",
   "metadata": {
    "slideshow": {
     "slide_type": "fragment"
    }
   },
   "source": [
    "Notar que **la matriz $A$ en este caso es diagonal dominante**. Este es un aspecto fundamental del método de diferencias finitas, ya que permite determinar soluciones mediante métodos iterativos como Gauss-Seidel."
   ]
  },
  {
   "cell_type": "markdown",
   "id": "1be3f757",
   "metadata": {
    "slideshow": {
     "slide_type": "fragment"
    }
   },
   "source": [
    "Como discutimos en la [unidad 2](https://panxopanza.github.io/metodos_numericos_mec301/2-Algebra_lineal/2-Algebra_lineal.html#metodos-iterativos) del curso, los métodos iterativos son más eficientes y requiren menor cantidad memoria computacional, permitiendo un cálculo eficiente."
   ]
  },
  {
   "cell_type": "markdown",
   "id": "abbb3a3a",
   "metadata": {
    "slideshow": {
     "slide_type": "slide"
    }
   },
   "source": [
    "Revisemos esto en un código en python. En este caso, queremos preparar un código genérico para un $n$ variable"
   ]
  },
  {
   "cell_type": "markdown",
   "id": "37fb9c95",
   "metadata": {
    "slideshow": {
     "slide_type": "fragment"
    }
   },
   "source": [
    "Podemos expresar el sistema de ecuaciones, convenientemente, en la forma:\n",
    "\n",
    "\\begin{equation*}\n",
    "\\begin{bmatrix}\n",
    " 1 &                  0 &                  0 &            \\cdots &                    & \\\\ \n",
    "-1 & (2 + h'\\Delta x^2) &                 -1 &                   &                    & \\\\\n",
    "   & \\ddots             & \\ddots             &            \\ddots &                    &\\\\\n",
    "   &                    &                    &                -1 & (2 + h'\\Delta x^2) & -1 \\\\\n",
    "   &                    &             \\cdots &                 0 &             0      & 1\n",
    "\\end{bmatrix}\\left[\\begin{array}{c} T_0 \\\\ T_1 \\\\ \\vdots \\\\ T_{n-1} \\\\T_n \\end{array}\\right] =\n",
    "\\left[\\begin{array}{c} T_a \\\\ h'\\Delta x^2 T_\\infty \\\\ \\vdots \\\\ h'\\Delta x^2 T_\\infty \\\\ T_b\\end{array}\\right]\n",
    "\\end{equation*}"
   ]
  },
  {
   "cell_type": "markdown",
   "id": "874fd3d5",
   "metadata": {
    "slideshow": {
     "slide_type": "fragment"
    }
   },
   "source": [
    "Esta forma nos permitirá una expresión más simplificada para crear nuestras matrices $A$ y $b$."
   ]
  },
  {
   "cell_type": "code",
   "execution_count": 7,
   "id": "7718d60e",
   "metadata": {
    "cell_style": "center",
    "slideshow": {
     "slide_type": "slide"
    }
   },
   "outputs": [],
   "source": [
    "# Código genérico para barra 1D con diferencias finitas\n",
    "\n",
    "N  = 10              # número de nodos\n",
    "dx = L/(N - 1)       # espaciamiento entre nodos\n",
    "n  = N - 1           # nodo final   \n",
    "\n",
    "A = np.zeros((N,N))  # declaramos matrix A\n",
    "b = np.zeros(N)      # declaramos vector b\n",
    "for i in range(N):\n",
    "    \n",
    "    # condiciones de borde\n",
    "    if i == 0:       # Temperatura fija en el extremo izquierdo\n",
    "        A[i,i] = 1\n",
    "        b[i]   = Ta\n",
    "        continue\n",
    "    \n",
    "    if i == n:       # Temperatura fija en el extremo derecho\n",
    "        A[i,i] = 1\n",
    "        b[i]   = Tb\n",
    "        continue\n",
    "    \n",
    "    # nodos interiores\n",
    "    A[i,i-1] = -1\n",
    "    A[i, i ] =  2 + h*dx**2\n",
    "    A[i,i+1] = -1\n",
    "    \n",
    "    b[i] = h*dx**2*Too"
   ]
  },
  {
   "cell_type": "code",
   "execution_count": 8,
   "id": "43f1b027",
   "metadata": {
    "cell_style": "center",
    "slideshow": {
     "slide_type": "slide"
    }
   },
   "outputs": [
    {
     "data": {
      "image/png": "[encoded data removed]",
      "text/plain": [
       "<Figure size 720x360 with 1 Axes>"
      ]
     },
     "metadata": {
      "needs_background": "light"
     },
     "output_type": "display_data"
    }
   ],
   "source": [
    "# Discretización del dominio \"x\"\n",
    "x = np.linspace(0,10,N)\n",
    "\n",
    "# Resolvemos el sistema\n",
    "T = np.linalg.solve(A,b)\n",
    "\n",
    "fig, ax = plt.subplots(figsize=(10,5))\n",
    "plt.rcParams.update({'font.size': 18}) # Tamaño de fuente\n",
    "ax.plot(x,T,':x')\n",
    "\n",
    "ax.set_title('Barra con temperaturas fijas (dif. finitas)')\n",
    "ax.set_xlabel('Posicion de la barra, $x$ (m)')\n",
    "ax.set_ylabel('Temperatura en la barra, $T$ (K)')\n",
    "plt.show()"
   ]
  },
  {
   "cell_type": "markdown",
   "id": "43aaed05",
   "metadata": {
    "slideshow": {
     "slide_type": "slide"
    }
   },
   "source": [
    "Consideremos ahora el caso de una barra con condiciones de borde de Neuman:\n",
    "\n",
    "\\begin{equation*}\n",
    "\\frac{dT}{dx}\\Big|_{x=L} = h^*\\left[ T_\\infty - T(L)\\right]\n",
    "\\end{equation*}"
   ]
  },
  {
   "cell_type": "markdown",
   "id": "398037ca",
   "metadata": {
    "cell_style": "split"
   },
   "source": [
    "<img src=\"./images/heated_bar_convection_losses_convective_end.png\" width=\"500px\" align= center>"
   ]
  },
  {
   "cell_type": "markdown",
   "id": "9ff10573",
   "metadata": {
    "cell_style": "split",
    "slideshow": {
     "slide_type": "fragment"
    }
   },
   "source": [
    "Podemos aplicar diferencias hacia atrás en la condición de borde:\n",
    "\n",
    "\\begin{equation*}\n",
    "\\frac{T_{n}- T_{n - 1}}{\\Delta x} = h'(T_\\infty - T_n)\n",
    "\\end{equation*}"
   ]
  },
  {
   "cell_type": "markdown",
   "id": "b7030a14",
   "metadata": {
    "cell_style": "center",
    "slideshow": {
     "slide_type": "fragment"
    }
   },
   "source": [
    "A partir de esto tenemos una nueva ecuación de la forma:\n",
    "\n",
    "\\begin{equation*}\n",
    "- T_{n-1} + (1 + h'\\Delta x)T_{n} = h'\\Delta xT_\\infty\n",
    "\\end{equation*}"
   ]
  },
  {
   "cell_type": "markdown",
   "id": "f424c208",
   "metadata": {
    "slideshow": {
     "slide_type": "slide"
    }
   },
   "source": [
    "El sistema de ecuaciones es similar al caso anterior, aunque con la nueva condición de borde en el nodo del extremo derecho:\n",
    "\n",
    "\\begin{equation*}\n",
    "\\begin{bmatrix}\n",
    " 1 &                  0 &                  0 &            \\cdots &                    & \\\\ \n",
    "-1 & (2 + h'\\Delta x^2) &                 -1 &                   &                    & \\\\\n",
    "   & \\ddots             & \\ddots             &            \\ddots &                    &\\\\\n",
    "   &                    &                    &                -1 & (2 + h'\\Delta x^2) & -1 \\\\\n",
    "   &                    &             \\cdots &                 0 &              -1    & 1 + h'\\Delta x\n",
    "\\end{bmatrix}\\left[\\begin{array}{c} T_0 \\\\ T_1 \\\\ \\vdots \\\\ T_{n-1} \\\\T_n \\end{array}\\right] =\n",
    "\\left[\\begin{array}{c} T_a \\\\ h'\\Delta x^2 T_\\infty \\\\ \\vdots \\\\ h'\\Delta x^2 T_\\infty \\\\ h'\\Delta x T_\\infty\\end{array}\\right]\n",
    "\\end{equation*}"
   ]
  },
  {
   "cell_type": "markdown",
   "id": "5d29cf84",
   "metadata": {},
   "source": [
    "La implementación en código es análoga al caso anterior. Notar que ahora solo editamos la condición de borde para $i = n$"
   ]
  },
  {
   "cell_type": "code",
   "execution_count": 9,
   "id": "45bb2c5a",
   "metadata": {
    "slideshow": {
     "slide_type": "slide"
    }
   },
   "outputs": [],
   "source": [
    "# Código genérico para barra 1D con diferencias finitas\n",
    "     \n",
    "N  = 10              # número de nodos\n",
    "dx = L/(N - 1)       # espaciamiento entre nodos\n",
    "n  = N - 1           # nodo final   \n",
    "\n",
    "A = np.zeros((N,N))  # declaramos matrix A\n",
    "b = np.zeros(N)      # declaramos vector b\n",
    "for i in range(N):\n",
    "    \n",
    "    # condiciones de borde\n",
    "    if i == 0:     # Temperatura fija en el extremo izquierdo\n",
    "        A[i,i] = 1\n",
    "        b[i]   = Ta\n",
    "        continue\n",
    "    \n",
    "    if i == n:     # convección en el extremo derecho\n",
    "        A[i,i-1] = -1\n",
    "        A[i,i]   = 1 + h*dx\n",
    "        b[i]     = h*dx*Too\n",
    "        continue\n",
    "    \n",
    "    # nodos interiores\n",
    "    A[i,i-1] = -1\n",
    "    A[i, i ] =  2 + h*dx**2\n",
    "    A[i,i+1] = -1\n",
    "    \n",
    "    b[i] = h*dx**2*Too"
   ]
  },
  {
   "cell_type": "code",
   "execution_count": 10,
   "id": "7f6fe5cc",
   "metadata": {
    "slideshow": {
     "slide_type": "slide"
    }
   },
   "outputs": [
    {
     "data": {
      "image/png": "[encoded data removed]",
      "text/plain": [
       "<Figure size 720x360 with 1 Axes>"
      ]
     },
     "metadata": {
      "needs_background": "light"
     },
     "output_type": "display_data"
    }
   ],
   "source": [
    "# Discretización del dominio \"x\"\n",
    "x = np.linspace(0,10,N)\n",
    "\n",
    "# Resolvemos el sistema\n",
    "T = np.linalg.solve(A,b)\n",
    "\n",
    "fig, ax = plt.subplots(figsize=(10,5))\n",
    "plt.rcParams.update({'font.size': 18}) # Tamaño de fuente\n",
    "ax.plot(x,T,':x')\n",
    "\n",
    "ax.set_title('Barra con convección en un extremo (dif. finitas)')\n",
    "ax.set_xlabel('Posicion de la barra, $x$ (m)')\n",
    "ax.set_ylabel('Temperatura en la barra, $T$ (K)')\n",
    "plt.show()"
   ]
  },
  {
   "cell_type": "markdown",
   "id": "d248014c",
   "metadata": {
    "slideshow": {
     "slide_type": "slide"
    }
   },
   "source": [
    "Si la EDO es no lineal la forma de resolver el problema es análoga. Sin embargo, el sistema de ecuaciones a resolver también será del tipo no lineal y para esto debemos utilizar un método de búsqueda de raices."
   ]
  },
  {
   "cell_type": "markdown",
   "id": "594c61d1",
   "metadata": {
    "slideshow": {
     "slide_type": "fragment"
    }
   },
   "source": [
    "Revisemos esto con el problema de la barra con enfriamiento por radiación y convección"
   ]
  },
  {
   "cell_type": "markdown",
   "id": "afc485c6",
   "metadata": {
    "cell_style": "split"
   },
   "source": [
    "<img src=\"./images/heated_bar_convective_end.png\" width=\"500px\" align= center>"
   ]
  },
  {
   "cell_type": "markdown",
   "id": "c20ca731",
   "metadata": {
    "cell_style": "split",
    "slideshow": {
     "slide_type": "fragment"
    }
   },
   "source": [
    "La ecuación discretizada por diferencias finitas es de la forma:\n",
    "\n",
    "\\begin{equation*}\n",
    "\\frac{T_{i - 1}- 2T_i +T_{i + 1}}{\\Delta x^2} + h'(T_\\infty - T_i) + \\sigma'(T_\\infty^4 - T_i^4) = 0\n",
    "\\end{equation*}"
   ]
  },
  {
   "cell_type": "markdown",
   "id": "7559ff2b",
   "metadata": {
    "slideshow": {
     "slide_type": "fragment"
    }
   },
   "source": [
    "Reordenando los términos tenemos:\n",
    "\n",
    "\\begin{equation*}\n",
    "- T_{i - 1}+ (2 + h'\\Delta x^2)T_i + \\sigma'\\Delta x^2 T_i^4 - T_{i + 1} - h'\\Delta x^2 T_\\infty - \\sigma' \\Delta x^2 T_\\infty^4 = 0\n",
    "\\end{equation*}"
   ]
  },
  {
   "cell_type": "code",
   "execution_count": 11,
   "id": "e4d913a8",
   "metadata": {
    "slideshow": {
     "slide_type": "slide"
    }
   },
   "outputs": [],
   "source": [
    "# Código genérico para barra 1D con diferencias finitas\n",
    "\n",
    "N  = 10              # número de nodos\n",
    "dx = L/(N - 1)       # espaciamiento entre nodos\n",
    "n  = N - 1           # nodo final   \n",
    "\n",
    "def fsystem(T):\n",
    "    \n",
    "    f = np.zeros(N)\n",
    "    for i in range(N):\n",
    "    \n",
    "        # condiciones de borde\n",
    "        if i == 0:     # Temperatura fija en el extremo izquierdo\n",
    "            f[0] = T[0] - Ta\n",
    "            continue\n",
    "        if i == n:     # convección en el extremo derecho\n",
    "            f[n] = - T[n-1] + (1 + h*dx)*T[n] - h*dx*Too\n",
    "            continue\n",
    "    \n",
    "        # nodos interiores\n",
    "        f[i] = - T[i-1] + (2 + h*dx**2)*T[i] + S*dx**2*T[i]**4 - T[i+1] - h*dx**2*Too - S*dx**2*Too**4\n",
    "        \n",
    "    return f"
   ]
  },
  {
   "cell_type": "code",
   "execution_count": 12,
   "id": "933956fb",
   "metadata": {
    "slideshow": {
     "slide_type": "slide"
    }
   },
   "outputs": [
    {
     "data": {
      "image/png": "[encoded data removed]",
      "text/plain": [
       "<Figure size 720x360 with 1 Axes>"
      ]
     },
     "metadata": {
      "needs_background": "light"
     },
     "output_type": "display_data"
    }
   ],
   "source": [
    "from scipy.optimize import fsolve\n",
    "# condicionamos la variable inicial para la iteración\n",
    "Tinc = np.zeros(N)\n",
    "Tinc[0], Tinc[-1] = Ta, Too\n",
    "\n",
    "T = fsolve(fsystem, x0 = Tinc)  # Solución del sistema no lineal\n",
    "x = np.linspace(0,10,N)         # Discretización del dominio \"x\"\n",
    "\n",
    "fig, ax = plt.subplots(figsize=(10,5))\n",
    "plt.rcParams.update({'font.size': 18}) # Tamaño de fuente\n",
    "ax.plot(x,T,':x')\n",
    "\n",
    "ax.set_title('Barra con convección en un extremo (dif. finitas)')\n",
    "ax.set_xlabel('Posicion de la barra, $x$ (m)')\n",
    "ax.set_ylabel('Temperatura en la barra, $T$ (K)')\n",
    "plt.show()"
   ]
  },
  {
   "cell_type": "markdown",
   "id": "e5035990",
   "metadata": {
    "slideshow": {
     "slide_type": "slide"
    }
   },
   "source": [
    "## Errores numéricos y  estabilidad\n",
    "\n",
    "Los problemas con condiciones de borde también estan expuestos a errores por truncamiento y por estabilidad."
   ]
  },
  {
   "cell_type": "markdown",
   "id": "58a9ff55",
   "metadata": {
    "slideshow": {
     "slide_type": "fragment"
    }
   },
   "source": [
    "-  En el caso del **método del disparo**, el error es similar a lo discutido con los métodos para resolver EDOs con valor inicial. Es decir, **este método puede presentar problemas de inestabilidad y errores de truncamiento** dependiendo del método utilizado para resolver el problema de valor inicial"
   ]
  },
  {
   "cell_type": "markdown",
   "id": "b9ddd31c",
   "metadata": {
    "slideshow": {
     "slide_type": "fragment"
    }
   },
   "source": [
    "- En el caso del **método de diferencias finitas**, el **error está directamente asociado al truncamiento de la serie de Taylor**, lo cual depende del esquema utilizado para la discretización (diferencia central, diferencia hacia adelante, etc)."
   ]
  },
  {
   "cell_type": "markdown",
   "id": "b6ed12a9",
   "metadata": {
    "slideshow": {
     "slide_type": "fragment"
    }
   },
   "source": [
    "Por último es importante mencionar que el método de diferencias finitas es fácilmente extensible a problemas expresados en ecuaciones diferenciales parciales, mientras que el método del disparo solo puede ser planteado para EDOs con valor inicial. Esto lo revisaremos en la próxima unidad del curso."
   ]
  },
  {
   "cell_type": "markdown",
   "id": "33d3b1b6",
   "metadata": {
    "cell_style": "center",
    "slideshow": {
     "slide_type": "slide"
    }
   },
   "source": [
    "## Referencias\n",
    "- Kong Q., Siauw T., Bayen A. M. **Chapter 23: Boundary-Value Problems for ODEs** in *[Python Programming and Numerical Methods – A Guide for Engineers and Scientists](https://pythonnumericalmethods.berkeley.edu/notebooks/chapter23.00-ODE-Boundary-Value-Problems.html)*, 1st Ed., Academic Press, 2021\n",
    "\n",
    "- Chapra S., Canale R. **Capítulo 27 Problemas de valores en la frontera y de valores própios** en *Métodos Numéricos para Ingenieros*, 6ta Ed., McGraw Hill, 2011\n"
   ]
  }
 ],
 "metadata": {
  "celltoolbar": "Slideshow",
  "kernelspec": {
   "display_name": "Python 3 (ipykernel)",
   "language": "python",
   "name": "python3"
  },
  "language_info": {
   "codemirror_mode": {
    "name": "ipython",
    "version": 3
   },
   "file_extension": ".py",
   "mimetype": "text/x-python",
   "name": "python",
   "nbconvert_exporter": "python",
   "pygments_lexer": "ipython3",
   "version": "3.9.13"
  },
  "latex_envs": {
   "LaTeX_envs_menu_present": false,
   "autoclose": false,
   "autocomplete": false,
   "bibliofile": "biblio.bib",
   "cite_by": "apalike",
   "current_citInitial": 1,
   "eqLabelWithNumbers": true,
   "eqNumInitial": 1,
   "hotkeys": {
    "equation": "Ctrl-E",
    "itemize": "Ctrl-I"
   },
   "labels_anchors": false,
   "latex_user_defs": false,
   "report_style_numbering": false,
   "user_envs_cfg": true
  },
  "rise": {
   "height": "100%",
   "theme": "simple",
   "width": "100%"
  },
  "toc": {
   "base_numbering": "1",
   "nav_menu": {},
   "number_sections": true,
   "sideBar": true,
   "skip_h1_title": true,
   "title_cell": "Contenidos",
   "title_sidebar": "Contenidos",
   "toc_cell": false,
   "toc_position": {
    "height": "calc(100% - 180px)",
    "left": "10px",
    "top": "150px",
    "width": "303.828px"
   },
   "toc_section_display": true,
   "toc_window_display": false
  },
  "varInspector": {
   "cols": {
    "lenName": 16,
    "lenType": 16,
    "lenVar": 40
   },
   "kernels_config": {
    "python": {
     "delete_cmd_postfix": "",
     "delete_cmd_prefix": "del ",
     "library": "var_list.py",
     "varRefreshCmd": "print(var_dic_list())"
    },
    "r": {
     "delete_cmd_postfix": ") ",
     "delete_cmd_prefix": "rm(",
     "library": "var_list.r",
     "varRefreshCmd": "cat(var_dic_list()) "
    }
   },
   "types_to_exclude": [
    "module",
    "function",
    "builtin_function_or_method",
    "instance",
    "_Feature"
   ],
   "window_display": false
  }
 },
 "nbformat": 4,
 "nbformat_minor": 5
}

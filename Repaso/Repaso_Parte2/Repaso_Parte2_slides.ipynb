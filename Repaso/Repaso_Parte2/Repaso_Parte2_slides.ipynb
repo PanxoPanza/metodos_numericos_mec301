{
 "cells": [
  {
   "cell_type": "markdown",
   "id": "6d47d103",
   "metadata": {
    "slideshow": {
     "slide_type": "slide"
    }
   },
   "source": [
    "<font size=\"6\">MEC301 - Métodos Numéricos</font>\n",
    "# Repaso Parte 2 -  Métodos numéricos basados en series de Taylor\n",
    "Profesor: Francisco Ramírez Cuevas<br>"
   ]
  },
  {
   "cell_type": "markdown",
   "id": "a8f75bc3",
   "metadata": {
    "cell_style": "center",
    "slideshow": {
     "slide_type": "slide"
    },
    "toc": true
   },
   "source": [
    "<h1>Contenidos<span class=\"tocSkip\"></span></h1>\n",
    "<div class=\"toc\"><ul class=\"toc-item\"><li><span><a href=\"#Búsqueda-de-raíces\" data-toc-modified-id=\"Búsqueda-de-raíces-1\"><span class=\"toc-item-num\">1&nbsp;&nbsp;</span>Búsqueda de raíces</a></span></li><li><span><a href=\"#Integración-numérica\" data-toc-modified-id=\"Integración-numérica-2\"><span class=\"toc-item-num\">2&nbsp;&nbsp;</span>Integración numérica</a></span><ul class=\"toc-item\"><li><span><a href=\"#Caso-1.-Usando-scipy.integrate.trapz\" data-toc-modified-id=\"Caso-1.-Usando-scipy.integrate.trapz-2.1\"><span class=\"toc-item-num\">2.1&nbsp;&nbsp;</span>Caso 1. Usando <code>scipy.integrate.trapz</code></a></span></li><li><span><a href=\"#Caso-2.-Usando-scipy.integrate.quad\" data-toc-modified-id=\"Caso-2.-Usando-scipy.integrate.quad-2.2\"><span class=\"toc-item-num\">2.2&nbsp;&nbsp;</span>Caso 2. Usando <code>scipy.integrate.quad</code></a></span></li></ul></li></ul></div>"
   ]
  },
  {
   "cell_type": "markdown",
   "id": "fed7c571",
   "metadata": {
    "cell_style": "center",
    "slideshow": {
     "slide_type": "slide"
    }
   },
   "source": [
    "## Búsqueda de raíces\n",
    "\n",
    "Consideremos el siguiente problema. Queremos resolver el siguiente sistema de ecuaciones\n",
    "\n",
    "\\begin{align*}\n",
    "3 &= \\sqrt{1+x^2} + \\sqrt{2+y} \\\\\n",
    "a &= x+y\n",
    "\\end{align*}\n",
    "\n",
    "donde $a$ es un parámetro constante."
   ]
  },
  {
   "cell_type": "markdown",
   "id": "c01f148b",
   "metadata": {
    "slideshow": {
     "slide_type": "fragment"
    }
   },
   "source": [
    "Usaremos ```scipy.optimize.fsolve``` para resolver este sistema dado un valor $a = 1$."
   ]
  },
  {
   "cell_type": "markdown",
   "id": "f8b52f66",
   "metadata": {
    "slideshow": {
     "slide_type": "slide"
    }
   },
   "source": [
    "Primero, notemos que resolver el sistema es equivalente a encontrar las raices de la función vectorial:\n",
    "\n",
    "\\begin{equation*}\n",
    "F(x,y) = \\begin{cases}\n",
    "\\sqrt{1+x^2} + \\sqrt{2+y} - 3 \\\\\n",
    "x+y - a\n",
    "\\end{cases}\n",
    "\\end{equation*}\n",
    "\n",
    "En el código llamaremos a esta función `find_xy`."
   ]
  },
  {
   "cell_type": "code",
   "execution_count": 1,
   "id": "90780b2c",
   "metadata": {
    "slideshow": {
     "slide_type": "fragment"
    }
   },
   "outputs": [
    {
     "name": "stdout",
     "output_type": "stream",
     "text": [
      "La solución es x = 1.012, y = 0.488: \n"
     ]
    },
    {
     "name": "stderr",
     "output_type": "stream",
     "text": [
      "/home/fvr/miniconda3/lib/python3.9/site-packages/scipy/__init__.py:146: UserWarning: A NumPy version >=1.16.5 and <1.23.0 is required for this version of SciPy (detected version 1.23.1\n",
      "  warnings.warn(f\"A NumPy version >={np_minversion} and <{np_maxversion}\"\n"
     ]
    }
   ],
   "source": [
    "import numpy as np\n",
    "from scipy.optimize import fsolve\n",
    "\n",
    "def find_xy(x,a):\n",
    "    f = np.zeros(2)\n",
    "    f[0] = np.sqrt(1+x[0]**2) + np.sqrt(2+x[1]) - 3\n",
    "    f[1] = x[0]+ x[1] - a\n",
    "    return f\n",
    "a = 1.5\n",
    "roots = fsolve(lambda x: find_xy(x,a) ,[1,1])\n",
    "print('La solución es x = %.3f, y = %.3f: ' % tuple(roots))"
   ]
  },
  {
   "cell_type": "markdown",
   "id": "ac9e3235",
   "metadata": {
    "slideshow": {
     "slide_type": "slide"
    }
   },
   "source": [
    "Podemos generar una función `F_root(a)` que, dado un valor $a$, determine $x$ e $y$ a partir del sistema de ecuaciones en ```find_xy```"
   ]
  },
  {
   "cell_type": "code",
   "execution_count": 2,
   "id": "fba510ed",
   "metadata": {
    "slideshow": {
     "slide_type": "fragment"
    }
   },
   "outputs": [
    {
     "name": "stdout",
     "output_type": "stream",
     "text": [
      "Para a = 1.0, la solución es x = 1.435, y = -0.435: \n",
      "Para a = 1.1, la solución es x = 1.343, y = -0.243: \n",
      "Para a = 1.2, la solución es x = 1.257, y = -0.057: \n",
      "Para a = 1.3, la solución es x = 1.173, y = 0.127: \n",
      "Para a = 1.4, la solución es x = 1.092, y = 0.308: \n",
      "Para a = 1.5, la solución es x = 1.012, y = 0.488: \n",
      "Para a = 1.6, la solución es x = 0.931, y = 0.669: \n",
      "Para a = 1.7, la solución es x = 0.848, y = 0.852: \n",
      "Para a = 1.8, la solución es x = 0.761, y = 1.039: \n",
      "Para a = 1.9, la solución es x = 0.667, y = 1.233: \n",
      "Para a = 2.0, la solución es x = 0.556, y = 1.444: \n"
     ]
    }
   ],
   "source": [
    "def F_root(a):\n",
    "    return fsolve(lambda x: find_xy(x,a) ,[1,1])\n",
    "\n",
    "a = np.linspace(1,2,11)\n",
    "for ai in a:\n",
    "    roots = F_root(ai)\n",
    "    print('Para a = %.1f, la solución es x = %.3f, y = %.3f: ' % (ai, roots[0], roots[1]))\n",
    "    "
   ]
  },
  {
   "cell_type": "markdown",
   "id": "fdc87319",
   "metadata": {
    "slideshow": {
     "slide_type": "slide"
    }
   },
   "source": [
    "En este problema estamos interesados en la evolución de $y$ con respecto a $a$. Analicemos el gráfico $a$ vs $y$"
   ]
  },
  {
   "cell_type": "code",
   "execution_count": 3,
   "id": "0137aee5",
   "metadata": {
    "cell_style": "split",
    "slideshow": {
     "slide_type": "fragment"
    }
   },
   "outputs": [],
   "source": [
    "%%capture showplot1\n",
    "import matplotlib.pyplot as plt\n",
    "a = np.linspace(1,2,100)\n",
    "\n",
    "# generamos un arreglo \"y\" vacío de tamaño a.shape\n",
    "y = np.zeros(a.shape)\n",
    "for i in range(len(a)): \n",
    "    y[i] = F_root(a[i])[1]   # necesito valor y\n",
    "\n",
    "# graficamos el resultado\n",
    "plt.figure(figsize = (7, 5))           # Tamaño de figura\n",
    "plt.rcParams.update({'font.size': 18}) # Tamaño de fuente    \n",
    "    \n",
    "plt.plot(a,y,'b')\n",
    "plt.xlabel('parámetro $a$')\n",
    "plt.ylabel('valor de $y$')\n",
    "plt.show()"
   ]
  },
  {
   "cell_type": "code",
   "execution_count": 4,
   "id": "13fa5205",
   "metadata": {
    "cell_style": "split",
    "slideshow": {
     "slide_type": "fragment"
    }
   },
   "outputs": [
    {
     "data": {
      "image/png": "[encoded data removed]",
      "text/plain": [
       "<Figure size 504x360 with 1 Axes>"
      ]
     },
     "metadata": {
      "needs_background": "light"
     },
     "output_type": "display_data"
    }
   ],
   "source": [
    "showplot1()"
   ]
  },
  {
   "cell_type": "markdown",
   "id": "a885514e",
   "metadata": {
    "slideshow": {
     "slide_type": "slide"
    }
   },
   "source": [
    "Supongamos ahora que queremos encontrar el cruce de la curva $y(a)$ con respecto a otra curva $z(a)$. En el caso de la curva $z(a)$, solo contamos con datos tabulados"
   ]
  },
  {
   "cell_type": "code",
   "execution_count": 5,
   "id": "0c46f793",
   "metadata": {
    "slideshow": {
     "slide_type": "fragment"
    }
   },
   "outputs": [],
   "source": [
    "# datos tabulados de la curva \"ai\"\n",
    "ai = np.array([ 0.93659254,  1.21600475,  1.47406066,  1.6181766 ,  1.79508299,  1.96052857])\n",
    "zi = np.array([10.04879138,  9.52771476,  7.76181831,  5.76146062,  1.74436301, -4.19067304])"
   ]
  },
  {
   "cell_type": "markdown",
   "id": "137f8562",
   "metadata": {
    "slideshow": {
     "slide_type": "slide"
    }
   },
   "source": [
    "Grafiquemos $z(a)$ junto a $y(a)$ para poder estimar el punto donde se cruzan"
   ]
  },
  {
   "cell_type": "code",
   "execution_count": 6,
   "id": "963f0a40",
   "metadata": {
    "cell_style": "split",
    "slideshow": {
     "slide_type": "fragment"
    }
   },
   "outputs": [
    {
     "data": {
      "image/png": "[encoded data removed]",
      "text/plain": [
       "<Figure size 504x360 with 1 Axes>"
      ]
     },
     "metadata": {
      "needs_background": "light"
     },
     "output_type": "display_data"
    }
   ],
   "source": [
    "plt.figure(figsize = (7, 5))           # Tamaño de figura\n",
    "plt.rcParams.update({'font.size': 18}) # Tamaño de fuente    \n",
    "    \n",
    "plt.plot(a,y,'b',label='y')\n",
    "plt.plot(ai,zi,'or',label='ai,zi')\n",
    "plt.xlabel('parámetro $a$')\n",
    "plt.legend()\n",
    "plt.show()"
   ]
  },
  {
   "cell_type": "markdown",
   "id": "00f1b405",
   "metadata": {
    "cell_style": "split",
    "slideshow": {
     "slide_type": "fragment"
    }
   },
   "source": [
    "Notamos que el cruce entre ambas curvas se encuentra en el intervalo $a\\in[1.8,2.0]$"
   ]
  },
  {
   "cell_type": "markdown",
   "id": "0abd2c79",
   "metadata": {
    "slideshow": {
     "slide_type": "slide"
    }
   },
   "source": [
    "Para poder determinar el punto donde ambas curvas se cruzan, primero debemos generar una función tipo *callable* de los datos tabulados `ai` y `zi`. Usamos `CubicSpline` para generar esta función:"
   ]
  },
  {
   "cell_type": "code",
   "execution_count": 7,
   "id": "1b7bb5fb",
   "metadata": {
    "slideshow": {
     "slide_type": "fragment"
    }
   },
   "outputs": [],
   "source": [
    "from scipy.interpolate import CubicSpline\n",
    "z = CubicSpline(ai,zi) # una función z(a)\n"
   ]
  },
  {
   "cell_type": "markdown",
   "id": "b71f623f",
   "metadata": {
    "slideshow": {
     "slide_type": "slide"
    }
   },
   "source": [
    "Ahora, usamos `scipy.optimize.root_scalar` en el intervalo $a\\in[1.8,2.0]$ para determinar el punto de cruce de ambas curvas. Notar que esto es equivalente a encontrar la raíz de una función $g(a) = z(a) - y(a)$. Notar también que la función $y(a)$ no está en la variable `y` sino que en la función `F_root(a)[1]`"
   ]
  },
  {
   "cell_type": "code",
   "execution_count": 25,
   "id": "e0713c66",
   "metadata": {
    "slideshow": {
     "slide_type": "fragment"
    }
   },
   "outputs": [
    {
     "name": "stdout",
     "output_type": "stream",
     "text": [
      "<class 'scipy.optimize.zeros.RootResults'>\n"
     ]
    }
   ],
   "source": [
    "from scipy.optimize import root_scalar\n",
    "g = lambda a: z(a) - F_root(a)[1] # g(a) = z(a) - y(a)\n",
    "sol = root_scalar(g,bracket=[1.8,2.0])\n",
    "print(type(sol))\n"
   ]
  },
  {
   "cell_type": "code",
   "execution_count": 9,
   "id": "49ff2fd5",
   "metadata": {
    "slideshow": {
     "slide_type": "fragment"
    }
   },
   "outputs": [
    {
     "name": "stdout",
     "output_type": "stream",
     "text": [
      "El cruce de la curva y con z(a) es: 1.8176918393722712\n"
     ]
    }
   ],
   "source": [
    "# extraemos la raíz de la solución\n",
    "a_sol = sol.root\n",
    "print('El cruce de la curva y con z(a) es:', a_sol)"
   ]
  },
  {
   "cell_type": "code",
   "execution_count": 23,
   "id": "85260dc4",
   "metadata": {
    "slideshow": {
     "slide_type": "slide"
    }
   },
   "outputs": [
    {
     "data": {
      "image/png": "[encoded data removed]",
      "text/plain": [
       "<Figure size 504x360 with 1 Axes>"
      ]
     },
     "metadata": {
      "needs_background": "light"
     },
     "output_type": "display_data"
    }
   ],
   "source": [
    "plt.figure(figsize = (7, 5))           # Tamaño de figura\n",
    "plt.rcParams.update({'font.size': 18}) # Tamaño de fuente    \n",
    "    \n",
    "plt.plot(a,y,'-b',label='$y$')\n",
    "plt.plot(ai,zi,'or')\n",
    "plt.plot(a,z(a),':r', label='$z(a)$')\n",
    "plt.plot(a_sol,z(a_sol),'ok',markersize=10.0,label='solución')\n",
    "plt.xlabel('parámetro $a$')\n",
    "plt.legend()\n",
    "plt.show()"
   ]
  },
  {
   "cell_type": "markdown",
   "id": "b86e09d8",
   "metadata": {
    "slideshow": {
     "slide_type": "slide"
    }
   },
   "source": [
    "## Integración numérica"
   ]
  },
  {
   "cell_type": "markdown",
   "id": "f3db6ee7",
   "metadata": {
    "cell_style": "center",
    "slideshow": {
     "slide_type": "-"
    }
   },
   "source": [
    "Supongamos que queremos calcular la integral:\n",
    "\\begin{equation*}\n",
    "\\int_0^\\infty e^{-3/x^4} f(x) dx\n",
    "\\end{equation*}\n",
    "\n",
    "donde $f(x)$ es una función tabulada, tal que: \n",
    "\\begin{equation*}\n",
    "\\lim_{x\\rightarrow \\pm\\infty} f(x) = 0\n",
    "\\end{equation*}"
   ]
  },
  {
   "cell_type": "code",
   "execution_count": 29,
   "id": "2c561043",
   "metadata": {
    "cell_style": "center",
    "slideshow": {
     "slide_type": "fragment"
    }
   },
   "outputs": [],
   "source": [
    "xi = np.array([0.20277963, 0.26630972, 0.34247914, 0.39667691, 0.46547919,\n",
    "               0.52478203, 0.59343878, 0.65994828, 0.73700775, 0.80918162])\n",
    "fi = np.array([1.83447556e-05, 1.18014606e-03, 4.67326857e-02, 2.67674707e-01, 8.63188848e-01, \n",
    "               9.26982234e-01, 3.40317177e-01, 4.24915073e-02, 9.73222303e-04, 7.49226848e-06])"
   ]
  },
  {
   "cell_type": "code",
   "execution_count": 30,
   "id": "9e70b6a7",
   "metadata": {
    "slideshow": {
     "slide_type": "slide"
    }
   },
   "outputs": [
    {
     "data": {
      "text/plain": [
       "Text(0, 0.5, 'fi')"
      ]
     },
     "execution_count": 30,
     "metadata": {},
     "output_type": "execute_result"
    },
    {
     "data": {
      "image/png": "[encoded data removed]",
      "text/plain": [
       "<Figure size 432x288 with 1 Axes>"
      ]
     },
     "metadata": {
      "needs_background": "light"
     },
     "output_type": "display_data"
    }
   ],
   "source": [
    "plt.plot(xi,fi,'o:k')\n",
    "plt.xlabel('xi')\n",
    "plt.ylabel('fi')"
   ]
  },
  {
   "cell_type": "markdown",
   "id": "3320c98b",
   "metadata": {
    "slideshow": {
     "slide_type": "slide"
    }
   },
   "source": [
    "Para calcular esta integral tenemos dos altenativas.\n",
    "1. Generar un arreglo `yi` evaluando $e^{-3/x^4}$ en los datos tabulados `xi`, y luego integrar `yi*fi` usando `scipy.integrate.trapz`\n",
    "2. Generar una función `f(x)` a partir de los datos tabulados `xi` e `fi` y luego integrar $e^{-3/x^4}f(x)$ usando `scipy.integrate.quad`"
   ]
  },
  {
   "cell_type": "markdown",
   "id": "f9236643",
   "metadata": {
    "slideshow": {
     "slide_type": "slide"
    }
   },
   "source": [
    "### Caso 1. Usando `scipy.integrate.trapz`"
   ]
  },
  {
   "cell_type": "code",
   "execution_count": 31,
   "id": "e79f7c3c",
   "metadata": {
    "slideshow": {
     "slide_type": "fragment"
    }
   },
   "outputs": [
    {
     "name": "stdout",
     "output_type": "stream",
     "text": [
      "Íntegral por regla del trapecio:  3.4479273749977642e-09\n"
     ]
    }
   ],
   "source": [
    "from scipy.integrate import trapz\n",
    "yi = np.exp(-3/xi**4)\n",
    "int_trapz = trapz(yi*fi,xi)\n",
    "print('Íntegral por regla del trapecio: ', int_trapz)"
   ]
  },
  {
   "cell_type": "markdown",
   "id": "a1e5579d",
   "metadata": {
    "slideshow": {
     "slide_type": "fragment"
    }
   },
   "source": [
    "Evidentemente, aunque el método es sencillo, la precisión de este método está condicionada por los valores tabulados `xi`. Así, no tenemos control del error"
   ]
  },
  {
   "cell_type": "markdown",
   "id": "0bf0df43",
   "metadata": {
    "slideshow": {
     "slide_type": "slide"
    }
   },
   "source": [
    "### Caso 2. Usando `scipy.integrate.quad`\n",
    "Para esto, primero debemos generar una función (*callable*) a partir de los datos `xi` y `fi`. Usaremos `CubicSpline` para esto. "
   ]
  },
  {
   "cell_type": "markdown",
   "id": "d01870c9",
   "metadata": {
    "slideshow": {
     "slide_type": "fragment"
    }
   },
   "source": [
    "Debido a que la función tiende a 0 en los extremos, usaremos una condición `bc_type='clamped'`, es decir: $f'(x_0) = f'(x_n) = 0$. Además, dado que la integral comprende el intervalo $x\\in[0,\\infty)$, habilitaremos la extrapolación en `CubicSpline`."
   ]
  },
  {
   "cell_type": "code",
   "execution_count": 32,
   "id": "52ddf037",
   "metadata": {
    "slideshow": {
     "slide_type": "fragment"
    }
   },
   "outputs": [],
   "source": [
    "f = CubicSpline(xi,fi,bc_type='clamped',extrapolate=True)"
   ]
  },
  {
   "cell_type": "markdown",
   "id": "c16e0ba6",
   "metadata": {
    "slideshow": {
     "slide_type": "slide"
    }
   },
   "source": [
    "Grafiquemos nuestra función en el intervalo $x\\in[0,1.5]$ para asegurarnos que se comporte de acuerdo a lo esperado."
   ]
  },
  {
   "cell_type": "code",
   "execution_count": 15,
   "id": "437411a7",
   "metadata": {
    "cell_style": "split",
    "slideshow": {
     "slide_type": "fragment"
    }
   },
   "outputs": [
    {
     "data": {
      "image/png": "[encoded data removed]",
      "text/plain": [
       "<Figure size 504x360 with 1 Axes>"
      ]
     },
     "metadata": {
      "needs_background": "light"
     },
     "output_type": "display_data"
    }
   ],
   "source": [
    "x = np.linspace(0,1.5,100)\n",
    "\n",
    "plt.figure(figsize = (7, 5))           # Tamaño de figura\n",
    "plt.rcParams.update({'font.size': 18}) # Tamaño de fuente    \n",
    "plt.plot(x,f(x),'-k')\n",
    "plt.plot(xi,fi,'or')\n",
    "plt.xlabel('x')\n",
    "plt.ylabel('f(x)')\n",
    "plt.show()"
   ]
  },
  {
   "cell_type": "markdown",
   "id": "2bf09932",
   "metadata": {
    "cell_style": "split",
    "slideshow": {
     "slide_type": "fragment"
    }
   },
   "source": [
    "Vemos que nuestra función tiene un comportamiento no adecuado para valores extrapolados."
   ]
  },
  {
   "cell_type": "markdown",
   "id": "67d6db64",
   "metadata": {
    "slideshow": {
     "slide_type": "slide"
    }
   },
   "source": [
    "\n",
    "Para este caso en particular, lo recomendable es condicionar los valores extrapolados a un valor conocido. Sabemos que $f(x) \\rightarrow 0$ para valores extremos. Así, queremos que nuestra función sea cero fuera de un intervalo acotado de $x$."
   ]
  },
  {
   "cell_type": "markdown",
   "id": "6fb6e839",
   "metadata": {
    "slideshow": {
     "slide_type": "fragment"
    }
   },
   "source": [
    "Si observamos los datos tabulados, notamos que en los extremos `fi[0]` y `fi[-1]` < `1E-4`. Por otro lado, de la gráfica anterior, notamos que $\\max[f(x)]= 1$. Así, tomaremos los extremos `x[0] = 0.80918162` y `x[-1] = 0.2027796` como límites para acortar nuestra función."
   ]
  },
  {
   "cell_type": "markdown",
   "id": "a6d9e0fc",
   "metadata": {
    "slideshow": {
     "slide_type": "fragment"
    }
   },
   "source": [
    "Dicho de otra forma, queremos que:\n",
    "\n",
    "si $x>\\mathrm{x[0]}$ o $x<\\mathrm{x[-1]}$ $\\Rightarrow f(x) = 0$"
   ]
  },
  {
   "cell_type": "markdown",
   "id": "ad23e4f7",
   "metadata": {
    "slideshow": {
     "slide_type": "slide"
    }
   },
   "source": [
    "Para esto utilizamos los condicionales `>, <, ==`."
   ]
  },
  {
   "cell_type": "markdown",
   "id": "ffb918e7",
   "metadata": {},
   "source": [
    "Por ejemplo, la condición `(xi[0]< x)` entrega `True` si `x` es mayor que `x[0]` y `False` de otra forma. Esto se interpreta como 0 o 1 al multiplicar por otro parámetro."
   ]
  },
  {
   "cell_type": "code",
   "execution_count": 16,
   "id": "7bd0c160",
   "metadata": {
    "slideshow": {
     "slide_type": "fragment"
    }
   },
   "outputs": [
    {
     "name": "stdout",
     "output_type": "stream",
     "text": [
      "x_test =  [-1.   0.   0.1  0.2  0.3]\n",
      "x_test > x[0] =  [False False  True  True  True]\n",
      "(x[0] < x_test)*x_test = [-0.   0.   0.1  0.2  0.3]\n"
     ]
    }
   ],
   "source": [
    "x_test = np.array([-1,0,0.1,0.2,0.3])\n",
    "print('x_test = ', x_test)\n",
    "print('x_test > x[0] = ', x[0] < x_test)\n",
    "print('(x[0] < x_test)*x_test =', (x[0] < x_test)*x_test)"
   ]
  },
  {
   "cell_type": "markdown",
   "id": "e96f188f",
   "metadata": {
    "slideshow": {
     "slide_type": "fragment"
    }
   },
   "source": [
    "Así, ejecutar `(xi[0]< x)*(x < xi[-1])*f(x)` es equivalente a:\n",
    "\n",
    "\\begin{equation*}\n",
    "f(x) = \\begin{cases}\n",
    "\\mathrm{CubicSpline(xi,fi)} & \\mathrm{si}~\\mathrm{x[0]} <x <\\mathrm{x[-1]}\\\\\n",
    "0 & \\mathrm{otros~casos}\n",
    "\\end{cases}\n",
    "\\end{equation*}"
   ]
  },
  {
   "cell_type": "markdown",
   "id": "7a9ed4af",
   "metadata": {
    "slideshow": {
     "slide_type": "slide"
    }
   },
   "source": [
    "Utilicemos esto para generar una versión mejorada de la función $f(x)$. Llamaremos a esta función `f_fixed`"
   ]
  },
  {
   "cell_type": "code",
   "execution_count": 17,
   "id": "38958035",
   "metadata": {
    "slideshow": {
     "slide_type": "fragment"
    }
   },
   "outputs": [],
   "source": [
    "# limitamos CubicSpline al intervalo  x[0] < x < x[-1]\n",
    "# fuera de este intervalo, la función es 0\n",
    "f_fixed = lambda x: f(x)*(xi[0]< x)*(x < xi[-1])"
   ]
  },
  {
   "cell_type": "markdown",
   "id": "45d3f528",
   "metadata": {
    "slideshow": {
     "slide_type": "fragment"
    }
   },
   "source": [
    "Graficamos nuestra función para comprobar nuestro resultado:"
   ]
  },
  {
   "cell_type": "code",
   "execution_count": 18,
   "id": "66f58c96",
   "metadata": {
    "cell_style": "split",
    "slideshow": {
     "slide_type": "fragment"
    }
   },
   "outputs": [],
   "source": [
    "%%capture showplot2\n",
    "x = np.linspace(0,1.5,100)\n",
    "plt.figure(figsize = (7, 5))           # Tamaño de figura\n",
    "plt.rcParams.update({'font.size': 18}) # Tamaño de fuente    \n",
    "\n",
    "plt.plot(x,f(x),':k',label='f(x) de CubicSpline')\n",
    "plt.plot(x,f_fixed(x),'-b',label='f(x) modificada')\n",
    "plt.plot(xi,fi,'or')\n",
    "plt.xlabel('x')\n",
    "plt.ylabel('f(x)')\n",
    "plt.legend()\n",
    "plt.show()"
   ]
  },
  {
   "cell_type": "code",
   "execution_count": 19,
   "id": "2ff0005e",
   "metadata": {
    "cell_style": "split",
    "slideshow": {
     "slide_type": "fragment"
    }
   },
   "outputs": [
    {
     "data": {
      "image/png": "[encoded data removed]",
      "text/plain": [
       "<Figure size 504x360 with 1 Axes>"
      ]
     },
     "metadata": {
      "needs_background": "light"
     },
     "output_type": "display_data"
    }
   ],
   "source": [
    "showplot2()"
   ]
  },
  {
   "cell_type": "markdown",
   "id": "cbdf6b43",
   "metadata": {
    "slideshow": {
     "slide_type": "slide"
    }
   },
   "source": [
    "Ya con nuestra función $f(x)$ podemos proceder a integrar con `quad`."
   ]
  },
  {
   "cell_type": "code",
   "execution_count": 20,
   "id": "87f2b323",
   "metadata": {
    "slideshow": {
     "slide_type": "fragment"
    }
   },
   "outputs": [
    {
     "name": "stdout",
     "output_type": "stream",
     "text": [
      "el valor de la integral es: 4.796062364850844e-09\n",
      "El error absoluto es: 7.695272368377512e-09\n"
     ]
    }
   ],
   "source": [
    "from scipy.integrate import quad\n",
    "\n",
    "# generamos una función para el integrando e^(-3/x^4)*f(x)\n",
    "f_integrate = lambda x: np.exp(-3/x**4)*f_fixed(x)\n",
    "\n",
    "int_out = quad(f_integrate,0,np.inf)\n",
    "print('el valor de la integral es:', int_out[0])\n",
    "print('El error absoluto es:', int_out[1])"
   ]
  },
  {
   "cell_type": "markdown",
   "id": "2f8e3a45",
   "metadata": {
    "slideshow": {
     "slide_type": "slide"
    }
   },
   "source": [
    "\n",
    "Notamos que el valor de la integral es del mismo orden que el error absoluto. En otras palabras, el error relativo $\\frac{|x_\\mathrm{exact} - x|}{|x_\\mathrm{exact}|}$ es alto:"
   ]
  },
  {
   "cell_type": "code",
   "execution_count": 21,
   "id": "96f82d24",
   "metadata": {
    "slideshow": {
     "slide_type": "fragment"
    }
   },
   "outputs": [
    {
     "name": "stdout",
     "output_type": "stream",
     "text": [
      "Error relativo: 160.450 %\n"
     ]
    }
   ],
   "source": [
    "print('Error relativo: %.3f %%' % (int_out[1]/int_out[0]*100))"
   ]
  },
  {
   "cell_type": "markdown",
   "id": "cfc740d9",
   "metadata": {
    "slideshow": {
     "slide_type": "fragment"
    }
   },
   "source": [
    "Esto sucede debido a que, por defecto, el error absoluto de `quad` es `epsabs=1.49e-08` que es mayor al valor de la integral."
   ]
  },
  {
   "cell_type": "markdown",
   "id": "ba1dd35a",
   "metadata": {
    "slideshow": {
     "slide_type": "slide"
    }
   },
   "source": [
    "Para ajustar esto debemos condicionar el error absoluto con la instrucción `epsabs`. Consideramos un error absoluto de $1\\times10^{-20}$"
   ]
  },
  {
   "cell_type": "code",
   "execution_count": 22,
   "id": "6958215f",
   "metadata": {
    "slideshow": {
     "slide_type": "fragment"
    }
   },
   "outputs": [
    {
     "name": "stdout",
     "output_type": "stream",
     "text": [
      "el valor de la integral es: 1.817223426069607e-08\n",
      "El error absoluto es: 9.02521096123962e-17\n",
      "Error relativo: 4.966e-07 %\n"
     ]
    }
   ],
   "source": [
    "int_out = quad(f_integrate,0,np.inf, epsabs=1E-20)\n",
    "print('el valor de la integral es:', int_out[0])\n",
    "print('El error absoluto es:', int_out[1])\n",
    "print('Error relativo: %.3e %%' % (int_out[1]/int_out[0]*100))"
   ]
  },
  {
   "cell_type": "code",
   "execution_count": null,
   "id": "cb7a7804",
   "metadata": {},
   "outputs": [],
   "source": []
  }
 ],
 "metadata": {
  "celltoolbar": "Slideshow",
  "kernelspec": {
   "display_name": "Python 3 (ipykernel)",
   "language": "python",
   "name": "python3"
  },
  "language_info": {
   "codemirror_mode": {
    "name": "ipython",
    "version": 3
   },
   "file_extension": ".py",
   "mimetype": "text/x-python",
   "name": "python",
   "nbconvert_exporter": "python",
   "pygments_lexer": "ipython3",
   "version": "3.9.12"
  },
  "latex_envs": {
   "LaTeX_envs_menu_present": false,
   "autoclose": false,
   "autocomplete": false,
   "bibliofile": "biblio.bib",
   "cite_by": "apalike",
   "current_citInitial": 1,
   "eqLabelWithNumbers": true,
   "eqNumInitial": 1,
   "hotkeys": {
    "equation": "Ctrl-E",
    "itemize": "Ctrl-I"
   },
   "labels_anchors": false,
   "latex_user_defs": false,
   "report_style_numbering": false,
   "user_envs_cfg": false
  },
  "rise": {
   "height": "100%",
   "theme": "simple",
   "width": "100%"
  },
  "toc": {
   "base_numbering": "1",
   "nav_menu": {},
   "number_sections": true,
   "sideBar": true,
   "skip_h1_title": true,
   "title_cell": "Contenidos",
   "title_sidebar": "Contenidos",
   "toc_cell": true,
   "toc_position": {
    "height": "calc(100% - 180px)",
    "left": "10px",
    "top": "150px",
    "width": "303.825px"
   },
   "toc_section_display": true,
   "toc_window_display": false
  },
  "varInspector": {
   "cols": {
    "lenName": 16,
    "lenType": 16,
    "lenVar": 40
   },
   "kernels_config": {
    "python": {
     "delete_cmd_postfix": "",
     "delete_cmd_prefix": "del ",
     "library": "var_list.py",
     "varRefreshCmd": "print(var_dic_list())"
    },
    "r": {
     "delete_cmd_postfix": ") ",
     "delete_cmd_prefix": "rm(",
     "library": "var_list.r",
     "varRefreshCmd": "cat(var_dic_list()) "
    }
   },
   "types_to_exclude": [
    "module",
    "function",
    "builtin_function_or_method",
    "instance",
    "_Feature"
   ],
   "window_display": false
  }
 },
 "nbformat": 4,
 "nbformat_minor": 5
}

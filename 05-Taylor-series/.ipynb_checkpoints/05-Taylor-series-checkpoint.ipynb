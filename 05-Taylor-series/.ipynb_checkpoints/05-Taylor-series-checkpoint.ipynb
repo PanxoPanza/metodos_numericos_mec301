{
 "cells": [
  {
   "cell_type": "markdown",
   "id": "6d47d103",
   "metadata": {
    "cell_style": "center",
    "slideshow": {
     "slide_type": "slide"
    }
   },
   "source": [
    "# Series de Taylor"
   ]
  },
  {
   "cell_type": "markdown",
   "id": "31968d65",
   "metadata": {
    "slideshow": {
     "slide_type": "slide"
    }
   },
   "source": [
    "## Expansión de funciones en series de Taylor \n",
    "La expansión en series de Taylor es una forma alternativa de representar una función mediante una serie infinita de polinomios alrededor de un punto $a$:\n",
    "\n",
    "\\begin{equation}\n",
    "f(x) = \\sum_{n = 0}^{\\infty} \\frac{f^{(n)}(a)(x-a)^n}{n!}\n",
    "\\end{equation}\n",
    "\n",
    "donde $f^{(n)}$ es la $n$-ésima derivada de $f$, con $f^{(0)} = f$"
   ]
  },
  {
   "cell_type": "markdown",
   "id": "b6c74178",
   "metadata": {
    "slideshow": {
     "slide_type": "slide"
    }
   },
   "source": [
    "Por ejemplo, derivemos la expansión en series de Taylor de la función $f(x) = 5x^2 + 3x + 5$ alrededor del punto $a = 0$."
   ]
  },
  {
   "cell_type": "markdown",
   "id": "d23e6c72",
   "metadata": {
    "slideshow": {
     "slide_type": "fragment"
    }
   },
   "source": [
    "Primero, determinamos la forma de cada derivada:\n",
    "\n",
    "\\begin{eqnarray*}\n",
    "f(x) &=& 5x^2 + 3x + 5\\\\\n",
    "f'(x) &=& 10x + 3\\\\\n",
    "f''(x) &=& 10 \\\\\n",
    "f'''(x) &=& 0 \\\\\n",
    "\\end{eqnarray*}"
   ]
  },
  {
   "cell_type": "markdown",
   "id": "0b515fc7",
   "metadata": {
    "slideshow": {
     "slide_type": "fragment"
    }
   },
   "source": [
    "Luego, evaluamos cada derivada en el punto $a = 0$, y reemplazamos en la fórmula:\n",
    "\n",
    "\\begin{align*}\n",
    "f(x) &= \\frac{1}{0!}(5a^2 + 3a + 5)(x - a)^0 + \\frac{1}{1!}(10a + 3)(x - a)^1 + \\frac{1}{2!}(10)(x - a)^2 + 0 + 0 + \\cdots\\\\\n",
    "     &= \\frac{5x^0}{0!} + \\frac{3x^1}{1!} + \\frac{10x^2}{2!} \\\\\n",
    "     &= 5x^2 + 3x + 5\n",
    "\\end{align*}"
   ]
  },
  {
   "cell_type": "markdown",
   "id": "e218170d",
   "metadata": {
    "slideshow": {
     "slide_type": "slide"
    }
   },
   "source": [
    "Si ahora, por ejemplo, derivamos la expansión de Taylor para $a = 2$:\n",
    "\n",
    "\\begin{align*}\n",
    "f(x) &= \\frac{1}{0!}[5(2)^2 + 3(2) + 5](x - 2)^0 + \\frac{1}{1!}[10(2) + 3](x - 2)^1 + \\frac{1}{2!}(10)(x - 2)^2 + 0 + 0 + \\cdots\\\\\n",
    "     &= \\frac{31(x-2)^0}{0!} + \\frac{23(x-2)^1}{1!} + \\frac{10(x-2)^2}{2!} = 31 + 23x - 46 + 5x^2 - 20x + 20 \\\\\n",
    "     &= 5x^2 + 3x + 5\n",
    "\\end{align*}"
   ]
  },
  {
   "cell_type": "markdown",
   "id": "d2cec500",
   "metadata": {
    "slideshow": {
     "slide_type": "fragment"
    }
   },
   "source": [
    "Como corolario general tenemos que **una expansión de Taylor de un polinomio siempre es el mismo polinomio**"
   ]
  },
  {
   "cell_type": "markdown",
   "id": "35b45f18",
   "metadata": {
    "slideshow": {
     "slide_type": "slide"
    }
   },
   "source": [
    "## Aproximaciones mediante series de Taylor\n",
    "Para funciones no polinomiales, las series de Taylor contienen infinitos términos."
   ]
  },
  {
   "cell_type": "markdown",
   "id": "4f50cc04",
   "metadata": {
    "slideshow": {
     "slide_type": "fragment"
    }
   },
   "source": [
    "Por ejemplo, la expansión de Taylor de $f(x) = \\sin(x)$ alrededor de $a=0$:\n",
    "\n",
    "\\begin{align*}\n",
    "f(x) &= \\frac{\\sin(0)}{0!}x^0 + \\frac{\\cos(0)}{1!}x^1 + \\frac{-\\sin(0)}{2!}x^2 + \\frac{-\\cos(0)}{3!}x^3 + \\frac{\\sin(0)}{4!}x^4 + \\frac{\\cos(0)}{5!}x^5 + \\cdots \\\\\n",
    "     &= \\frac{1}{1!}x^1 - \\frac{1}{3!}x^3 + \\frac{1}{5!}x^5 + \\cdots \\\\\n",
    "\\end{align*}"
   ]
  },
  {
   "cell_type": "markdown",
   "id": "01271876",
   "metadata": {
    "slideshow": {
     "slide_type": "fragment"
    }
   },
   "source": [
    "Analizando el patrón de la serie, tenemos que:\n",
    "\n",
    "\\begin{equation*}\n",
    "\\sin(x) = \\sum_{n = 0}^{\\infty} \\frac{(-1)^n x^{2n+1}}{(2n+1)!}\n",
    "\\end{equation*}"
   ]
  },
  {
   "cell_type": "markdown",
   "id": "3dec0f08",
   "metadata": {
    "slideshow": {
     "slide_type": "slide"
    }
   },
   "source": [
    "La ventaja de la representación en series de Taylor cobra relevancia cuando buscamos evaluar esta función computacionalmente. Esto debido a que un cálculo en base a polinomios solo requiere de operaciones básicas, como sumar, restar, multiplicar y dividir."
   ]
  },
  {
   "cell_type": "markdown",
   "id": "1e61b1ad",
   "metadata": {
    "slideshow": {
     "slide_type": "fragment"
    }
   },
   "source": [
    "Si bien, matemáticamente, la serie está definida por infinitos términos, es posible obtener una buena aproximación considerando un número finito de ellos. Es decir, aproximamos la función **truncando la serie de Taylor**\n",
    "\n",
    "\\begin{equation*}\n",
    "\\sin(x) \\approx \\sum_{n = 0}^{N} \\frac{(-1)^n x^{2n+1}}{(2n+1)!}\n",
    "\\end{equation*}"
   ]
  },
  {
   "cell_type": "markdown",
   "id": "2a0ebbac",
   "metadata": {
    "slideshow": {
     "slide_type": "slide"
    }
   },
   "source": [
    ">**Decimos que la aproximación de una función es de orden $N$ cuando la serie considera hasta el término $N$ de la serie de Taylor**"
   ]
  },
  {
   "cell_type": "markdown",
   "id": "9b653064",
   "metadata": {
    "slideshow": {
     "slide_type": "fragment"
    }
   },
   "source": [
    "A mayor orden, mejor la aproximación"
   ]
  },
  {
   "cell_type": "markdown",
   "id": "ed79f233",
   "metadata": {
    "slideshow": {
     "slide_type": "slide"
    }
   },
   "source": [
    "Analicemos esto en un código, a partir de la expansión de la función $f(x) = \\sin(x)$"
   ]
  },
  {
   "cell_type": "code",
   "execution_count": 1,
   "id": "c5f6b511",
   "metadata": {
    "cell_style": "center",
    "slideshow": {
     "slide_type": "fragment"
    }
   },
   "outputs": [],
   "source": [
    "%%capture showplot\n",
    "import numpy as np\n",
    "import math    # para generar número factorial\n",
    "import matplotlib.pyplot as plt\n",
    "\n",
    "x = np.linspace(-np.pi, np.pi, 200)\n",
    "y = np.zeros_like(x)\n",
    "\n",
    "plt.figure(figsize = (7, 4))           # Tamaño de figura\n",
    "plt.rcParams.update({'font.size': 10}) # Tamaño de fuente\n",
    "\n",
    "for n in range(4):\n",
    "    y += (-1)**n*x**(2*n+1)/math.factorial(2*n+1)    # serie de taylor\n",
    "    plt.plot(x,y, '-', label = ('Orden %i' % (2*n + 1))) # graficamos serie de taylor\n",
    "\n",
    "plt.plot(x, np.sin(x), 'k', label = r'$\\sin(x)$', lw = 4)\n",
    "plt.grid()\n",
    "plt.title('Aproximación de sin(x) en series de Taylor (a = 0)')\n",
    "plt.xlabel('x')\n",
    "plt.ylabel('y')\n",
    "plt.legend()\n",
    "plt.ylim(-2,2)\n",
    "plt.show()"
   ]
  },
  {
   "cell_type": "code",
   "execution_count": 2,
   "id": "dd152858",
   "metadata": {
    "cell_style": "center",
    "slideshow": {
     "slide_type": "fragment"
    }
   },
   "outputs": [
    {
     "data": {
      "image/png": "[encoded data removed]",
      "text/plain": [
       "<Figure size 700x400 with 1 Axes>"
      ]
     },
     "metadata": {},
     "output_type": "display_data"
    }
   ],
   "source": [
    "showplot()"
   ]
  },
  {
   "cell_type": "markdown",
   "id": "02279dbd",
   "metadata": {
    "cell_style": "center",
    "slideshow": {
     "slide_type": "slide"
    }
   },
   "source": [
    "El grafico muestra como la aproximación de $\\sin(x)$ mejora alrededor del punto $x = 0$, a medida que aumentamos el orden. Para el orden 8, la aproximación es casi perfecta en todo el dominio $x\\in [-\\pi,\\pi]$"
   ]
  },
  {
   "cell_type": "markdown",
   "id": "b2617b59",
   "metadata": {
    "slideshow": {
     "slide_type": "fragment"
    }
   },
   "source": [
    "Comúnmente, los métodos numéricos utilizan la aproximación de primer orden, también denominada **aproximación lineal**. Esto debido a que la aproximación lineal es suficientemente buena en valores cercanos a \"$a$\"."
   ]
  },
  {
   "cell_type": "markdown",
   "id": "ba89fd36",
   "metadata": {
    "slideshow": {
     "slide_type": "fragment"
    }
   },
   "source": [
    "En otras palabras, una función siempre se verá lineal si la vemos desde suficientemente cerca."
   ]
  },
  {
   "cell_type": "markdown",
   "id": "5189061b",
   "metadata": {
    "slideshow": {
     "slide_type": "slide"
    }
   },
   "source": [
    "## Analisis de errores en series de Taylor"
   ]
  },
  {
   "cell_type": "markdown",
   "id": "4e4b841d",
   "metadata": {
    "slideshow": {
     "slide_type": "fragment"
    }
   },
   "source": [
    "### Errores de truncamiento\n",
    "En la primera clase hablamos de los errores de redondeo inducidos por la capacidad limitada de un computador de almacenar los decimales de un número. Cuando aproximamos una función por una serie de orden $N$, estamos induciendo un error de truncamiento."
   ]
  },
  {
   "cell_type": "markdown",
   "id": "5e72b163",
   "metadata": {
    "slideshow": {
     "slide_type": "fragment"
    }
   },
   "source": [
    "Por ejemplo, la expansión de la función $e^x$ en series de Taylor centrada en $x=0$ está dada por:\n",
    "\n",
    "\\begin{equation*}\n",
    "e^x = 1+x+\\frac{x^2}{2!} + \\frac{x^3}{3!} + \\frac{x^4}{4!} + \\dots\n",
    "\\end{equation*}"
   ]
  },
  {
   "cell_type": "markdown",
   "id": "1772cd6d",
   "metadata": {
    "cell_style": "center",
    "slideshow": {
     "slide_type": "slide"
    }
   },
   "source": [
    "Analicemos el error de truncamiento para $e^2$, asociado al orden $N$ de la aproximación."
   ]
  },
  {
   "cell_type": "markdown",
   "id": "541dbdde",
   "metadata": {
    "slideshow": {
     "slide_type": "fragment"
    }
   },
   "source": [
    "En este caso, la serie truncada es:\n",
    "\n",
    "\\begin{equation*}\n",
    "e^x \\approx \\sum_{n = 0}^N \\frac{x^n}{n!}\n",
    "\\end{equation*}"
   ]
  },
  {
   "cell_type": "code",
   "execution_count": 3,
   "id": "8e3deb2e",
   "metadata": {
    "cell_style": "center",
    "slideshow": {
     "slide_type": "fragment"
    }
   },
   "outputs": [
    {
     "name": "stdout",
     "output_type": "stream",
     "text": [
      "Error aprox. orden 0: 6.38906\n",
      "Error aprox. orden 1: 4.38906\n",
      "Error aprox. orden 2: 2.38906\n",
      "Error aprox. orden 3: 1.05572\n",
      "Error aprox. orden 4: 0.38906\n",
      "Error aprox. orden 5: 0.12239\n",
      "Error aprox. orden 6: 0.03350\n",
      "Error aprox. orden 7: 0.00810\n",
      "Error aprox. orden 8: 0.00175\n",
      "Error aprox. orden 9: 0.00034\n"
     ]
    }
   ],
   "source": [
    "x = 2.0 # evaluamos la función exp(2)\n",
    "N = 9\n",
    "\n",
    "exp_approx = 0 # valor inicial\n",
    "for n in range(N + 1):\n",
    "    exp_approx += ((x**n)/math.factorial(n))\n",
    "    print('Error aprox. orden %i: %.5f' %  (n ,np.abs(exp_approx - np.exp(2))))"
   ]
  },
  {
   "cell_type": "markdown",
   "id": "40f3ce5d",
   "metadata": {
    "slideshow": {
     "slide_type": "slide"
    }
   },
   "source": [
    "## Errores de redondeo\n",
    "\n",
    "Es importante notar que debido a que una serie de Taylor se calcula mediante la suma susesiva de términos, esto puede generar errores de redondeo. Generalmente, el error es más evidente cuando el valor exacto es pequeño."
   ]
  },
  {
   "cell_type": "markdown",
   "id": "225c37aa",
   "metadata": {
    "cell_style": "center",
    "slideshow": {
     "slide_type": "slide"
    }
   },
   "source": [
    "Por ejemplo, consideremos la aproximación de $e^{-30}$ usando 200 términos de la serie."
   ]
  },
  {
   "cell_type": "code",
   "execution_count": 4,
   "id": "45a83a26",
   "metadata": {
    "cell_style": "split",
    "slideshow": {
     "slide_type": "fragment"
    }
   },
   "outputs": [
    {
     "name": "stdout",
     "output_type": "stream",
     "text": [
      "El valor de e^(-30)\n",
      "... Aproximación de orden 199: -8.55302e-05\n",
      "... Valor exacto: 9.35762e-14\n"
     ]
    }
   ],
   "source": [
    "exp = 0\n",
    "x = -30\n",
    "for i in range(200):\n",
    "    exp += ((x**i)/math.factorial(i))\n",
    "print('El valor de e^(-30)')    \n",
    "print('... Aproximación de orden %i: %.5e' % (i,exp))    \n",
    "print('... Valor exacto: %.5e' % np.exp(x))"
   ]
  },
  {
   "cell_type": "markdown",
   "id": "8b5d33d2",
   "metadata": {
    "cell_style": "split",
    "slideshow": {
     "slide_type": "fragment"
    }
   },
   "source": [
    "A partir de este ejemplo podemos ver que, producto del error de redondeo, nuestra estimación de $e^{-30}$ es erronea, a pesar de haber incluído 200 términos de la serie."
   ]
  },
  {
   "cell_type": "markdown",
   "id": "33d3b1b6",
   "metadata": {
    "cell_style": "split",
    "slideshow": {
     "slide_type": "slide"
    }
   },
   "source": [
    "## Referencias\n",
    "- Kong Q., Siauw T., Bayen A. M. **Chapter 18: Taylor Series** in *[Python Programming and Numerical Methods – A Guide for Engineers and Scientists](https://pythonnumericalmethods.berkeley.edu/notebooks/chapter17.00-Interpolation.html)*, 1st Ed., Academic Press, 2021"
   ]
  }
 ],
 "metadata": {
  "celltoolbar": "Slideshow",
  "kernelspec": {
   "display_name": "Python 3 (ipykernel)",
   "language": "python",
   "name": "python3"
  },
  "language_info": {
   "codemirror_mode": {
    "name": "ipython",
    "version": 3
   },
   "file_extension": ".py",
   "mimetype": "text/x-python",
   "name": "python",
   "nbconvert_exporter": "python",
   "pygments_lexer": "ipython3",
   "version": "3.11.6"
  },
  "latex_envs": {
   "LaTeX_envs_menu_present": true,
   "autoclose": false,
   "autocomplete": false,
   "bibliofile": "biblio.bib",
   "cite_by": "apalike",
   "current_citInitial": 1,
   "eqLabelWithNumbers": true,
   "eqNumInitial": 1,
   "hotkeys": {
    "equation": "Ctrl-E",
    "itemize": "Ctrl-I"
   },
   "labels_anchors": false,
   "latex_user_defs": false,
   "report_style_numbering": false,
   "user_envs_cfg": true
  },
  "rise": {
   "height": "100%",
   "theme": "simple",
   "width": "100%"
  },
  "toc": {
   "base_numbering": "",
   "nav_menu": {},
   "number_sections": false,
   "sideBar": true,
   "skip_h1_title": true,
   "title_cell": "Contenidos",
   "title_sidebar": "Contenidos",
   "toc_cell": false,
   "toc_position": {
    "height": "calc(100% - 180px)",
    "left": "10px",
    "top": "150px",
    "width": "303.837px"
   },
   "toc_section_display": true,
   "toc_window_display": false
  },
  "varInspector": {
   "cols": {
    "lenName": 16,
    "lenType": 16,
    "lenVar": 40
   },
   "kernels_config": {
    "python": {
     "delete_cmd_postfix": "",
     "delete_cmd_prefix": "del ",
     "library": "var_list.py",
     "varRefreshCmd": "print(var_dic_list())"
    },
    "r": {
     "delete_cmd_postfix": ") ",
     "delete_cmd_prefix": "rm(",
     "library": "var_list.r",
     "varRefreshCmd": "cat(var_dic_list()) "
    }
   },
   "types_to_exclude": [
    "module",
    "function",
    "builtin_function_or_method",
    "instance",
    "_Feature"
   ],
   "window_display": false
  }
 },
 "nbformat": 4,
 "nbformat_minor": 5
}
